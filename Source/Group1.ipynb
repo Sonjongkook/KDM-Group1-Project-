{
  "nbformat": 4,
  "nbformat_minor": 0,
  "metadata": {
    "kernelspec": {
      "language": "python",
      "display_name": "Python 3",
      "name": "python3"
    },
    "language_info": {
      "name": "python",
      "version": "3.7.10",
      "mimetype": "text/x-python",
      "codemirror_mode": {
        "name": "ipython",
        "version": 3
      },
      "pygments_lexer": "ipython3",
      "nbconvert_exporter": "python",
      "file_extension": ".py"
    },
    "colab": {
      "name": "Group1.ipynb",
      "provenance": [],
      "toc_visible": true
    }
  },
  "cells": [
    {
      "cell_type": "code",
      "metadata": {
        "colab": {
          "base_uri": "https://localhost:8080/"
        },
        "id": "XOHfkOKRQnV-",
        "outputId": "b0a37db6-5007-49e1-eece-a921ca26dc1b"
      },
      "source": [
        "from google.colab import drive\n",
        "drive.mount('/content/drive')"
      ],
      "execution_count": null,
      "outputs": [
        {
          "output_type": "stream",
          "text": [
            "Drive already mounted at /content/drive; to attempt to forcibly remount, call drive.mount(\"/content/drive\", force_remount=True).\n"
          ],
          "name": "stdout"
        }
      ]
    },
    {
      "cell_type": "markdown",
      "metadata": {
        "id": "20m1bynx6mOg"
      },
      "source": [
        "# Import data"
      ]
    },
    {
      "cell_type": "code",
      "metadata": {
        "id": "SQxJOq804pJI",
        "trusted": true
      },
      "source": [
        "import pandas as pd\n",
        "#reading the fake and true datasets\n",
        "\n",
        "# Note: You must upload the two .csv files in the sidebar \n",
        "fake = pd.read_csv('/content/drive/MyDrive/Fake.csv')\n",
        "fake['truth'] = 0\n",
        "true = pd.read_csv('/content/drive/MyDrive/True.csv')\n",
        "true['truth'] = 1"
      ],
      "execution_count": null,
      "outputs": []
    },
    {
      "cell_type": "code",
      "metadata": {
        "id": "bHj47cyB78eI",
        "trusted": true,
        "colab": {
          "base_uri": "https://localhost:8080/",
          "height": 205
        },
        "outputId": "c6ad521b-a433-4b68-ce84-b20195944f50"
      },
      "source": [
        "fake.head()"
      ],
      "execution_count": null,
      "outputs": [
        {
          "output_type": "execute_result",
          "data": {
            "text/html": [
              "<div>\n",
              "<style scoped>\n",
              "    .dataframe tbody tr th:only-of-type {\n",
              "        vertical-align: middle;\n",
              "    }\n",
              "\n",
              "    .dataframe tbody tr th {\n",
              "        vertical-align: top;\n",
              "    }\n",
              "\n",
              "    .dataframe thead th {\n",
              "        text-align: right;\n",
              "    }\n",
              "</style>\n",
              "<table border=\"1\" class=\"dataframe\">\n",
              "  <thead>\n",
              "    <tr style=\"text-align: right;\">\n",
              "      <th></th>\n",
              "      <th>title</th>\n",
              "      <th>text</th>\n",
              "      <th>subject</th>\n",
              "      <th>date</th>\n",
              "      <th>truth</th>\n",
              "    </tr>\n",
              "  </thead>\n",
              "  <tbody>\n",
              "    <tr>\n",
              "      <th>0</th>\n",
              "      <td>Donald Trump Sends Out Embarrassing New Year’...</td>\n",
              "      <td>Donald Trump just couldn t wish all Americans ...</td>\n",
              "      <td>News</td>\n",
              "      <td>December 31, 2017</td>\n",
              "      <td>0</td>\n",
              "    </tr>\n",
              "    <tr>\n",
              "      <th>1</th>\n",
              "      <td>Drunk Bragging Trump Staffer Started Russian ...</td>\n",
              "      <td>House Intelligence Committee Chairman Devin Nu...</td>\n",
              "      <td>News</td>\n",
              "      <td>December 31, 2017</td>\n",
              "      <td>0</td>\n",
              "    </tr>\n",
              "    <tr>\n",
              "      <th>2</th>\n",
              "      <td>Sheriff David Clarke Becomes An Internet Joke...</td>\n",
              "      <td>On Friday, it was revealed that former Milwauk...</td>\n",
              "      <td>News</td>\n",
              "      <td>December 30, 2017</td>\n",
              "      <td>0</td>\n",
              "    </tr>\n",
              "    <tr>\n",
              "      <th>3</th>\n",
              "      <td>Trump Is So Obsessed He Even Has Obama’s Name...</td>\n",
              "      <td>On Christmas day, Donald Trump announced that ...</td>\n",
              "      <td>News</td>\n",
              "      <td>December 29, 2017</td>\n",
              "      <td>0</td>\n",
              "    </tr>\n",
              "    <tr>\n",
              "      <th>4</th>\n",
              "      <td>Pope Francis Just Called Out Donald Trump Dur...</td>\n",
              "      <td>Pope Francis used his annual Christmas Day mes...</td>\n",
              "      <td>News</td>\n",
              "      <td>December 25, 2017</td>\n",
              "      <td>0</td>\n",
              "    </tr>\n",
              "  </tbody>\n",
              "</table>\n",
              "</div>"
            ],
            "text/plain": [
              "                                               title  ... truth\n",
              "0   Donald Trump Sends Out Embarrassing New Year’...  ...     0\n",
              "1   Drunk Bragging Trump Staffer Started Russian ...  ...     0\n",
              "2   Sheriff David Clarke Becomes An Internet Joke...  ...     0\n",
              "3   Trump Is So Obsessed He Even Has Obama’s Name...  ...     0\n",
              "4   Pope Francis Just Called Out Donald Trump Dur...  ...     0\n",
              "\n",
              "[5 rows x 5 columns]"
            ]
          },
          "metadata": {
            "tags": []
          },
          "execution_count": 6
        }
      ]
    },
    {
      "cell_type": "code",
      "metadata": {
        "id": "HiATyiFs8YAi",
        "trusted": true,
        "colab": {
          "base_uri": "https://localhost:8080/",
          "height": 205
        },
        "outputId": "f0e95c6a-d11f-4e82-c847-9a403cd51d54"
      },
      "source": [
        "true.head()"
      ],
      "execution_count": null,
      "outputs": [
        {
          "output_type": "execute_result",
          "data": {
            "text/html": [
              "<div>\n",
              "<style scoped>\n",
              "    .dataframe tbody tr th:only-of-type {\n",
              "        vertical-align: middle;\n",
              "    }\n",
              "\n",
              "    .dataframe tbody tr th {\n",
              "        vertical-align: top;\n",
              "    }\n",
              "\n",
              "    .dataframe thead th {\n",
              "        text-align: right;\n",
              "    }\n",
              "</style>\n",
              "<table border=\"1\" class=\"dataframe\">\n",
              "  <thead>\n",
              "    <tr style=\"text-align: right;\">\n",
              "      <th></th>\n",
              "      <th>title</th>\n",
              "      <th>text</th>\n",
              "      <th>subject</th>\n",
              "      <th>date</th>\n",
              "      <th>truth</th>\n",
              "    </tr>\n",
              "  </thead>\n",
              "  <tbody>\n",
              "    <tr>\n",
              "      <th>0</th>\n",
              "      <td>As U.S. budget fight looms, Republicans flip t...</td>\n",
              "      <td>WASHINGTON (Reuters) - The head of a conservat...</td>\n",
              "      <td>politicsNews</td>\n",
              "      <td>December 31, 2017</td>\n",
              "      <td>1</td>\n",
              "    </tr>\n",
              "    <tr>\n",
              "      <th>1</th>\n",
              "      <td>U.S. military to accept transgender recruits o...</td>\n",
              "      <td>WASHINGTON (Reuters) - Transgender people will...</td>\n",
              "      <td>politicsNews</td>\n",
              "      <td>December 29, 2017</td>\n",
              "      <td>1</td>\n",
              "    </tr>\n",
              "    <tr>\n",
              "      <th>2</th>\n",
              "      <td>Senior U.S. Republican senator: 'Let Mr. Muell...</td>\n",
              "      <td>WASHINGTON (Reuters) - The special counsel inv...</td>\n",
              "      <td>politicsNews</td>\n",
              "      <td>December 31, 2017</td>\n",
              "      <td>1</td>\n",
              "    </tr>\n",
              "    <tr>\n",
              "      <th>3</th>\n",
              "      <td>FBI Russia probe helped by Australian diplomat...</td>\n",
              "      <td>WASHINGTON (Reuters) - Trump campaign adviser ...</td>\n",
              "      <td>politicsNews</td>\n",
              "      <td>December 30, 2017</td>\n",
              "      <td>1</td>\n",
              "    </tr>\n",
              "    <tr>\n",
              "      <th>4</th>\n",
              "      <td>Trump wants Postal Service to charge 'much mor...</td>\n",
              "      <td>SEATTLE/WASHINGTON (Reuters) - President Donal...</td>\n",
              "      <td>politicsNews</td>\n",
              "      <td>December 29, 2017</td>\n",
              "      <td>1</td>\n",
              "    </tr>\n",
              "  </tbody>\n",
              "</table>\n",
              "</div>"
            ],
            "text/plain": [
              "                                               title  ... truth\n",
              "0  As U.S. budget fight looms, Republicans flip t...  ...     1\n",
              "1  U.S. military to accept transgender recruits o...  ...     1\n",
              "2  Senior U.S. Republican senator: 'Let Mr. Muell...  ...     1\n",
              "3  FBI Russia probe helped by Australian diplomat...  ...     1\n",
              "4  Trump wants Postal Service to charge 'much mor...  ...     1\n",
              "\n",
              "[5 rows x 5 columns]"
            ]
          },
          "metadata": {
            "tags": []
          },
          "execution_count": 7
        }
      ]
    },
    {
      "cell_type": "markdown",
      "metadata": {
        "id": "0JlbQ_J3-9gF"
      },
      "source": [
        "Reuter's has a distinct format that we don't want the model to learn. Let's fix that:"
      ]
    },
    {
      "cell_type": "code",
      "metadata": {
        "id": "GARO3hjq_NdZ",
        "trusted": true,
        "colab": {
          "base_uri": "https://localhost:8080/",
          "height": 108
        },
        "outputId": "545496c8-7e94-4bb9-9c3b-e1af7d28bbf0"
      },
      "source": [
        "true['text'][0]"
      ],
      "execution_count": null,
      "outputs": [
        {
          "output_type": "execute_result",
          "data": {
            "application/vnd.google.colaboratory.intrinsic+json": {
              "type": "string"
            },
            "text/plain": [
              "'WASHINGTON (Reuters) - The head of a conservative Republican faction in the U.S. Congress, who voted this month for a huge expansion of the national debt to pay for tax cuts, called himself a “fiscal conservative” on Sunday and urged budget restraint in 2018. In keeping with a sharp pivot under way among Republicans, U.S. Representative Mark Meadows, speaking on CBS’ “Face the Nation,” drew a hard line on federal spending, which lawmakers are bracing to do battle over in January. When they return from the holidays on Wednesday, lawmakers will begin trying to pass a federal budget in a fight likely to be linked to other issues, such as immigration policy, even as the November congressional election campaigns approach in which Republicans will seek to keep control of Congress. President Donald Trump and his Republicans want a big budget increase in military spending, while Democrats also want proportional increases for non-defense “discretionary” spending on programs that support education, scientific research, infrastructure, public health and environmental protection. “The (Trump) administration has already been willing to say: ‘We’re going to increase non-defense discretionary spending ... by about 7 percent,’” Meadows, chairman of the small but influential House Freedom Caucus, said on the program. “Now, Democrats are saying that’s not enough, we need to give the government a pay raise of 10 to 11 percent. For a fiscal conservative, I don’t see where the rationale is. ... Eventually you run out of other people’s money,” he said. Meadows was among Republicans who voted in late December for their party’s debt-financed tax overhaul, which is expected to balloon the federal budget deficit and add about $1.5 trillion over 10 years to the $20 trillion national debt. “It’s interesting to hear Mark talk about fiscal responsibility,” Democratic U.S. Representative Joseph Crowley said on CBS. Crowley said the Republican tax bill would require the  United States to borrow $1.5 trillion, to be paid off by future generations, to finance tax cuts for corporations and the rich. “This is one of the least ... fiscally responsible bills we’ve ever seen passed in the history of the House of Representatives. I think we’re going to be paying for this for many, many years to come,” Crowley said. Republicans insist the tax package, the biggest U.S. tax overhaul in more than 30 years,  will boost the economy and job growth. House Speaker Paul Ryan, who also supported the tax bill, recently went further than Meadows, making clear in a radio interview that welfare or “entitlement reform,” as the party often calls it, would be a top Republican priority in 2018. In Republican parlance, “entitlement” programs mean food stamps, housing assistance, Medicare and Medicaid health insurance for the elderly, poor and disabled, as well as other programs created by Washington to assist the needy. Democrats seized on Ryan’s early December remarks, saying they showed Republicans would try to pay for their tax overhaul by seeking spending cuts for social programs. But the goals of House Republicans may have to take a back seat to the Senate, where the votes of some Democrats will be needed to approve a budget and prevent a government shutdown. Democrats will use their leverage in the Senate, which Republicans narrowly control, to defend both discretionary non-defense programs and social spending, while tackling the issue of the “Dreamers,” people brought illegally to the country as children. Trump in September put a March 2018 expiration date on the Deferred Action for Childhood Arrivals, or DACA, program, which protects the young immigrants from deportation and provides them with work permits. The president has said in recent Twitter messages he wants funding for his proposed Mexican border wall and other immigration law changes in exchange for agreeing to help the Dreamers. Representative Debbie Dingell told CBS she did not favor linking that issue to other policy objectives, such as wall funding. “We need to do DACA clean,” she said.  On Wednesday, Trump aides will meet with congressional leaders to discuss those issues. That will be followed by a weekend of strategy sessions for Trump and Republican leaders on Jan. 6 and 7, the White House said. Trump was also scheduled to meet on Sunday with Florida Republican Governor Rick Scott, who wants more emergency aid. The House has passed an $81 billion aid package after hurricanes in Florida, Texas and Puerto Rico, and wildfires in California. The package far exceeded the $44 billion requested by the Trump administration. The Senate has not yet voted on the aid. '"
            ]
          },
          "metadata": {
            "tags": []
          },
          "execution_count": 8
        }
      ]
    },
    {
      "cell_type": "code",
      "metadata": {
        "id": "Jmv0j7YK-sHC",
        "trusted": true,
        "colab": {
          "base_uri": "https://localhost:8080/",
          "height": 205
        },
        "outputId": "ee19902a-fb45-4182-d886-dca416e864d4"
      },
      "source": [
        "def removeReutersFormat(x):\n",
        "  x = x.split(\"-\")[1:]\n",
        "  return \" \".join(x)\n",
        "\n",
        "true['text'] = true[true['truth']==1]['text'].apply(removeReutersFormat)\n",
        "true.head()"
      ],
      "execution_count": null,
      "outputs": [
        {
          "output_type": "execute_result",
          "data": {
            "text/html": [
              "<div>\n",
              "<style scoped>\n",
              "    .dataframe tbody tr th:only-of-type {\n",
              "        vertical-align: middle;\n",
              "    }\n",
              "\n",
              "    .dataframe tbody tr th {\n",
              "        vertical-align: top;\n",
              "    }\n",
              "\n",
              "    .dataframe thead th {\n",
              "        text-align: right;\n",
              "    }\n",
              "</style>\n",
              "<table border=\"1\" class=\"dataframe\">\n",
              "  <thead>\n",
              "    <tr style=\"text-align: right;\">\n",
              "      <th></th>\n",
              "      <th>title</th>\n",
              "      <th>text</th>\n",
              "      <th>subject</th>\n",
              "      <th>date</th>\n",
              "      <th>truth</th>\n",
              "    </tr>\n",
              "  </thead>\n",
              "  <tbody>\n",
              "    <tr>\n",
              "      <th>0</th>\n",
              "      <td>As U.S. budget fight looms, Republicans flip t...</td>\n",
              "      <td>The head of a conservative Republican faction...</td>\n",
              "      <td>politicsNews</td>\n",
              "      <td>December 31, 2017</td>\n",
              "      <td>1</td>\n",
              "    </tr>\n",
              "    <tr>\n",
              "      <th>1</th>\n",
              "      <td>U.S. military to accept transgender recruits o...</td>\n",
              "      <td>Transgender people will be allowed for the fi...</td>\n",
              "      <td>politicsNews</td>\n",
              "      <td>December 29, 2017</td>\n",
              "      <td>1</td>\n",
              "    </tr>\n",
              "    <tr>\n",
              "      <th>2</th>\n",
              "      <td>Senior U.S. Republican senator: 'Let Mr. Muell...</td>\n",
              "      <td>The special counsel investigation of links be...</td>\n",
              "      <td>politicsNews</td>\n",
              "      <td>December 31, 2017</td>\n",
              "      <td>1</td>\n",
              "    </tr>\n",
              "    <tr>\n",
              "      <th>3</th>\n",
              "      <td>FBI Russia probe helped by Australian diplomat...</td>\n",
              "      <td>Trump campaign adviser George Papadopoulos to...</td>\n",
              "      <td>politicsNews</td>\n",
              "      <td>December 30, 2017</td>\n",
              "      <td>1</td>\n",
              "    </tr>\n",
              "    <tr>\n",
              "      <th>4</th>\n",
              "      <td>Trump wants Postal Service to charge 'much mor...</td>\n",
              "      <td>President Donald Trump called on the U.S. Pos...</td>\n",
              "      <td>politicsNews</td>\n",
              "      <td>December 29, 2017</td>\n",
              "      <td>1</td>\n",
              "    </tr>\n",
              "  </tbody>\n",
              "</table>\n",
              "</div>"
            ],
            "text/plain": [
              "                                               title  ... truth\n",
              "0  As U.S. budget fight looms, Republicans flip t...  ...     1\n",
              "1  U.S. military to accept transgender recruits o...  ...     1\n",
              "2  Senior U.S. Republican senator: 'Let Mr. Muell...  ...     1\n",
              "3  FBI Russia probe helped by Australian diplomat...  ...     1\n",
              "4  Trump wants Postal Service to charge 'much mor...  ...     1\n",
              "\n",
              "[5 rows x 5 columns]"
            ]
          },
          "metadata": {
            "tags": []
          },
          "execution_count": 9
        }
      ]
    },
    {
      "cell_type": "markdown",
      "metadata": {
        "id": "wZ7LCXYj_W0C"
      },
      "source": [
        "Now we can combine the dataframes."
      ]
    },
    {
      "cell_type": "code",
      "metadata": {
        "id": "Vpas_5fW-25i",
        "trusted": true,
        "colab": {
          "base_uri": "https://localhost:8080/",
          "height": 440
        },
        "outputId": "d7f350bd-7b7a-4808-c560-fb3f8feb9df3"
      },
      "source": [
        "combined = fake.append(true)\n",
        "print(fake.shape, true.shape, combined.shape)\n",
        "combined"
      ],
      "execution_count": null,
      "outputs": [
        {
          "output_type": "stream",
          "text": [
            "(23481, 5) (21417, 5) (44898, 5)\n"
          ],
          "name": "stdout"
        },
        {
          "output_type": "execute_result",
          "data": {
            "text/html": [
              "<div>\n",
              "<style scoped>\n",
              "    .dataframe tbody tr th:only-of-type {\n",
              "        vertical-align: middle;\n",
              "    }\n",
              "\n",
              "    .dataframe tbody tr th {\n",
              "        vertical-align: top;\n",
              "    }\n",
              "\n",
              "    .dataframe thead th {\n",
              "        text-align: right;\n",
              "    }\n",
              "</style>\n",
              "<table border=\"1\" class=\"dataframe\">\n",
              "  <thead>\n",
              "    <tr style=\"text-align: right;\">\n",
              "      <th></th>\n",
              "      <th>title</th>\n",
              "      <th>text</th>\n",
              "      <th>subject</th>\n",
              "      <th>date</th>\n",
              "      <th>truth</th>\n",
              "    </tr>\n",
              "  </thead>\n",
              "  <tbody>\n",
              "    <tr>\n",
              "      <th>0</th>\n",
              "      <td>Donald Trump Sends Out Embarrassing New Year’...</td>\n",
              "      <td>Donald Trump just couldn t wish all Americans ...</td>\n",
              "      <td>News</td>\n",
              "      <td>December 31, 2017</td>\n",
              "      <td>0</td>\n",
              "    </tr>\n",
              "    <tr>\n",
              "      <th>1</th>\n",
              "      <td>Drunk Bragging Trump Staffer Started Russian ...</td>\n",
              "      <td>House Intelligence Committee Chairman Devin Nu...</td>\n",
              "      <td>News</td>\n",
              "      <td>December 31, 2017</td>\n",
              "      <td>0</td>\n",
              "    </tr>\n",
              "    <tr>\n",
              "      <th>2</th>\n",
              "      <td>Sheriff David Clarke Becomes An Internet Joke...</td>\n",
              "      <td>On Friday, it was revealed that former Milwauk...</td>\n",
              "      <td>News</td>\n",
              "      <td>December 30, 2017</td>\n",
              "      <td>0</td>\n",
              "    </tr>\n",
              "    <tr>\n",
              "      <th>3</th>\n",
              "      <td>Trump Is So Obsessed He Even Has Obama’s Name...</td>\n",
              "      <td>On Christmas day, Donald Trump announced that ...</td>\n",
              "      <td>News</td>\n",
              "      <td>December 29, 2017</td>\n",
              "      <td>0</td>\n",
              "    </tr>\n",
              "    <tr>\n",
              "      <th>4</th>\n",
              "      <td>Pope Francis Just Called Out Donald Trump Dur...</td>\n",
              "      <td>Pope Francis used his annual Christmas Day mes...</td>\n",
              "      <td>News</td>\n",
              "      <td>December 25, 2017</td>\n",
              "      <td>0</td>\n",
              "    </tr>\n",
              "    <tr>\n",
              "      <th>...</th>\n",
              "      <td>...</td>\n",
              "      <td>...</td>\n",
              "      <td>...</td>\n",
              "      <td>...</td>\n",
              "      <td>...</td>\n",
              "    </tr>\n",
              "    <tr>\n",
              "      <th>21412</th>\n",
              "      <td>'Fully committed' NATO backs new U.S. approach...</td>\n",
              "      <td>NATO allies on Tuesday welcomed President Don...</td>\n",
              "      <td>worldnews</td>\n",
              "      <td>August 22, 2017</td>\n",
              "      <td>1</td>\n",
              "    </tr>\n",
              "    <tr>\n",
              "      <th>21413</th>\n",
              "      <td>LexisNexis withdrew two products from Chinese ...</td>\n",
              "      <td>LexisNexis, a provider of legal, regulatory a...</td>\n",
              "      <td>worldnews</td>\n",
              "      <td>August 22, 2017</td>\n",
              "      <td>1</td>\n",
              "    </tr>\n",
              "    <tr>\n",
              "      <th>21414</th>\n",
              "      <td>Minsk cultural hub becomes haven from authorities</td>\n",
              "      <td>In the shadow of disused Soviet era factories...</td>\n",
              "      <td>worldnews</td>\n",
              "      <td>August 22, 2017</td>\n",
              "      <td>1</td>\n",
              "    </tr>\n",
              "    <tr>\n",
              "      <th>21415</th>\n",
              "      <td>Vatican upbeat on possibility of Pope Francis ...</td>\n",
              "      <td>Vatican Secretary of State Cardinal Pietro Pa...</td>\n",
              "      <td>worldnews</td>\n",
              "      <td>August 22, 2017</td>\n",
              "      <td>1</td>\n",
              "    </tr>\n",
              "    <tr>\n",
              "      <th>21416</th>\n",
              "      <td>Indonesia to buy $1.14 billion worth of Russia...</td>\n",
              "      <td>Indonesia will buy 11 Sukhoi fighter jets wor...</td>\n",
              "      <td>worldnews</td>\n",
              "      <td>August 22, 2017</td>\n",
              "      <td>1</td>\n",
              "    </tr>\n",
              "  </tbody>\n",
              "</table>\n",
              "<p>44898 rows × 5 columns</p>\n",
              "</div>"
            ],
            "text/plain": [
              "                                                   title  ... truth\n",
              "0       Donald Trump Sends Out Embarrassing New Year’...  ...     0\n",
              "1       Drunk Bragging Trump Staffer Started Russian ...  ...     0\n",
              "2       Sheriff David Clarke Becomes An Internet Joke...  ...     0\n",
              "3       Trump Is So Obsessed He Even Has Obama’s Name...  ...     0\n",
              "4       Pope Francis Just Called Out Donald Trump Dur...  ...     0\n",
              "...                                                  ...  ...   ...\n",
              "21412  'Fully committed' NATO backs new U.S. approach...  ...     1\n",
              "21413  LexisNexis withdrew two products from Chinese ...  ...     1\n",
              "21414  Minsk cultural hub becomes haven from authorities  ...     1\n",
              "21415  Vatican upbeat on possibility of Pope Francis ...  ...     1\n",
              "21416  Indonesia to buy $1.14 billion worth of Russia...  ...     1\n",
              "\n",
              "[44898 rows x 5 columns]"
            ]
          },
          "metadata": {
            "tags": []
          },
          "execution_count": 10
        }
      ]
    },
    {
      "cell_type": "markdown",
      "metadata": {
        "id": "nin0EixG7JNl"
      },
      "source": [
        "Check for nulls"
      ]
    },
    {
      "cell_type": "code",
      "metadata": {
        "id": "17URJd3X7IqT",
        "trusted": true,
        "colab": {
          "base_uri": "https://localhost:8080/"
        },
        "outputId": "325eb25a-9ad6-4525-df63-070958eba713"
      },
      "source": [
        "len(combined) - len(combined.dropna())"
      ],
      "execution_count": null,
      "outputs": [
        {
          "output_type": "execute_result",
          "data": {
            "text/plain": [
              "0"
            ]
          },
          "metadata": {
            "tags": []
          },
          "execution_count": 11
        }
      ]
    },
    {
      "cell_type": "markdown",
      "metadata": {
        "id": "zWpTEzWzJa6h"
      },
      "source": [
        "# Analysis"
      ]
    },
    {
      "cell_type": "markdown",
      "metadata": {
        "id": "XNACJ5FEQU7n"
      },
      "source": [
        "### N-grams\n",
        "Some additional text preprocessing for ngram analysis"
      ]
    },
    {
      "cell_type": "code",
      "metadata": {
        "trusted": true,
        "colab": {
          "base_uri": "https://localhost:8080/",
          "height": 72
        },
        "id": "U75z4CqeQDy2",
        "outputId": "f9f03b50-9e30-4518-c0d4-a0a983cca510"
      },
      "source": [
        "from sklearn.feature_extraction.text import CountVectorizer\n",
        "from plotly.offline import iplot\n",
        "%matplotlib inline\n",
        "import cufflinks as cf\n",
        "cf.go_offline()\n",
        "cf.set_config_file(offline=False, world_readable=True)\n",
        "from nltk.corpus import stopwords\n",
        "import re\n",
        "import string\n",
        "import nltk\n",
        "nltk.download('stopwords')"
      ],
      "execution_count": null,
      "outputs": [
        {
          "output_type": "display_data",
          "data": {
            "text/html": [
              "        <script type=\"text/javascript\">\n",
              "        window.PlotlyConfig = {MathJaxConfig: 'local'};\n",
              "        if (window.MathJax) {MathJax.Hub.Config({SVG: {font: \"STIX-Web\"}});}\n",
              "        if (typeof require !== 'undefined') {\n",
              "        require.undef(\"plotly\");\n",
              "        requirejs.config({\n",
              "            paths: {\n",
              "                'plotly': ['https://cdn.plot.ly/plotly-latest.min']\n",
              "            }\n",
              "        });\n",
              "        require(['plotly'], function(Plotly) {\n",
              "            window._Plotly = Plotly;\n",
              "        });\n",
              "        }\n",
              "        </script>\n",
              "        "
            ]
          },
          "metadata": {
            "tags": []
          }
        },
        {
          "output_type": "stream",
          "text": [
            "[nltk_data] Downloading package stopwords to /root/nltk_data...\n",
            "[nltk_data]   Unzipping corpora/stopwords.zip.\n"
          ],
          "name": "stdout"
        },
        {
          "output_type": "execute_result",
          "data": {
            "text/plain": [
              "True"
            ]
          },
          "metadata": {
            "tags": []
          },
          "execution_count": 12
        }
      ]
    },
    {
      "cell_type": "code",
      "metadata": {
        "trusted": true,
        "id": "EZegkKnrQDy2"
      },
      "source": [
        "def review_cleaning(text):\n",
        "    '''Make text lowercase, remove text in square brackets,remove links,remove punctuation\n",
        "    and remove words containing numbers.'''\n",
        "    text = str(text).lower()\n",
        "    text = re.sub('\\[.*?\\]', '', text)\n",
        "    text = re.sub('https?://\\S+|www\\.\\S+', '', text)\n",
        "    text = re.sub('<.*?>+', '', text)\n",
        "    text = re.sub('[%s]' % re.escape(string.punctuation), '', text)\n",
        "    text = re.sub('\\n', '', text)\n",
        "    text = re.sub('\\w*\\d\\w*', '', text)\n",
        "    return text"
      ],
      "execution_count": null,
      "outputs": []
    },
    {
      "cell_type": "code",
      "metadata": {
        "trusted": true,
        "colab": {
          "base_uri": "https://localhost:8080/",
          "height": 205
        },
        "id": "JQnX_GrfQDy2",
        "outputId": "171e762e-a1c9-441e-b282-367acc50acb6"
      },
      "source": [
        "combined['text']=combined['text'].apply(lambda x:review_cleaning(x))\n",
        "combined.head()"
      ],
      "execution_count": null,
      "outputs": [
        {
          "output_type": "execute_result",
          "data": {
            "text/html": [
              "<div>\n",
              "<style scoped>\n",
              "    .dataframe tbody tr th:only-of-type {\n",
              "        vertical-align: middle;\n",
              "    }\n",
              "\n",
              "    .dataframe tbody tr th {\n",
              "        vertical-align: top;\n",
              "    }\n",
              "\n",
              "    .dataframe thead th {\n",
              "        text-align: right;\n",
              "    }\n",
              "</style>\n",
              "<table border=\"1\" class=\"dataframe\">\n",
              "  <thead>\n",
              "    <tr style=\"text-align: right;\">\n",
              "      <th></th>\n",
              "      <th>title</th>\n",
              "      <th>text</th>\n",
              "      <th>subject</th>\n",
              "      <th>date</th>\n",
              "      <th>truth</th>\n",
              "    </tr>\n",
              "  </thead>\n",
              "  <tbody>\n",
              "    <tr>\n",
              "      <th>0</th>\n",
              "      <td>Donald Trump Sends Out Embarrassing New Year’...</td>\n",
              "      <td>donald trump just couldn t wish all americans ...</td>\n",
              "      <td>News</td>\n",
              "      <td>December 31, 2017</td>\n",
              "      <td>0</td>\n",
              "    </tr>\n",
              "    <tr>\n",
              "      <th>1</th>\n",
              "      <td>Drunk Bragging Trump Staffer Started Russian ...</td>\n",
              "      <td>house intelligence committee chairman devin nu...</td>\n",
              "      <td>News</td>\n",
              "      <td>December 31, 2017</td>\n",
              "      <td>0</td>\n",
              "    </tr>\n",
              "    <tr>\n",
              "      <th>2</th>\n",
              "      <td>Sheriff David Clarke Becomes An Internet Joke...</td>\n",
              "      <td>on friday it was revealed that former milwauke...</td>\n",
              "      <td>News</td>\n",
              "      <td>December 30, 2017</td>\n",
              "      <td>0</td>\n",
              "    </tr>\n",
              "    <tr>\n",
              "      <th>3</th>\n",
              "      <td>Trump Is So Obsessed He Even Has Obama’s Name...</td>\n",
              "      <td>on christmas day donald trump announced that h...</td>\n",
              "      <td>News</td>\n",
              "      <td>December 29, 2017</td>\n",
              "      <td>0</td>\n",
              "    </tr>\n",
              "    <tr>\n",
              "      <th>4</th>\n",
              "      <td>Pope Francis Just Called Out Donald Trump Dur...</td>\n",
              "      <td>pope francis used his annual christmas day mes...</td>\n",
              "      <td>News</td>\n",
              "      <td>December 25, 2017</td>\n",
              "      <td>0</td>\n",
              "    </tr>\n",
              "  </tbody>\n",
              "</table>\n",
              "</div>"
            ],
            "text/plain": [
              "                                               title  ... truth\n",
              "0   Donald Trump Sends Out Embarrassing New Year’...  ...     0\n",
              "1   Drunk Bragging Trump Staffer Started Russian ...  ...     0\n",
              "2   Sheriff David Clarke Becomes An Internet Joke...  ...     0\n",
              "3   Trump Is So Obsessed He Even Has Obama’s Name...  ...     0\n",
              "4   Pope Francis Just Called Out Donald Trump Dur...  ...     0\n",
              "\n",
              "[5 rows x 5 columns]"
            ]
          },
          "metadata": {
            "tags": []
          },
          "execution_count": 14
        }
      ]
    },
    {
      "cell_type": "code",
      "metadata": {
        "trusted": true,
        "colab": {
          "base_uri": "https://localhost:8080/",
          "height": 205
        },
        "id": "66gVQMJAQDy2",
        "outputId": "139e19e6-97fc-4f67-ccf2-c4597da7868c"
      },
      "source": [
        "stop = stopwords.words('english')\n",
        "combined['text'] = combined['text'].apply(lambda x: ' '.join([word for word in x.split() if word not in (stop)]))\n",
        "combined.head()"
      ],
      "execution_count": null,
      "outputs": [
        {
          "output_type": "execute_result",
          "data": {
            "text/html": [
              "<div>\n",
              "<style scoped>\n",
              "    .dataframe tbody tr th:only-of-type {\n",
              "        vertical-align: middle;\n",
              "    }\n",
              "\n",
              "    .dataframe tbody tr th {\n",
              "        vertical-align: top;\n",
              "    }\n",
              "\n",
              "    .dataframe thead th {\n",
              "        text-align: right;\n",
              "    }\n",
              "</style>\n",
              "<table border=\"1\" class=\"dataframe\">\n",
              "  <thead>\n",
              "    <tr style=\"text-align: right;\">\n",
              "      <th></th>\n",
              "      <th>title</th>\n",
              "      <th>text</th>\n",
              "      <th>subject</th>\n",
              "      <th>date</th>\n",
              "      <th>truth</th>\n",
              "    </tr>\n",
              "  </thead>\n",
              "  <tbody>\n",
              "    <tr>\n",
              "      <th>0</th>\n",
              "      <td>Donald Trump Sends Out Embarrassing New Year’...</td>\n",
              "      <td>donald trump wish americans happy new year lea...</td>\n",
              "      <td>News</td>\n",
              "      <td>December 31, 2017</td>\n",
              "      <td>0</td>\n",
              "    </tr>\n",
              "    <tr>\n",
              "      <th>1</th>\n",
              "      <td>Drunk Bragging Trump Staffer Started Russian ...</td>\n",
              "      <td>house intelligence committee chairman devin nu...</td>\n",
              "      <td>News</td>\n",
              "      <td>December 31, 2017</td>\n",
              "      <td>0</td>\n",
              "    </tr>\n",
              "    <tr>\n",
              "      <th>2</th>\n",
              "      <td>Sheriff David Clarke Becomes An Internet Joke...</td>\n",
              "      <td>friday revealed former milwaukee sheriff david...</td>\n",
              "      <td>News</td>\n",
              "      <td>December 30, 2017</td>\n",
              "      <td>0</td>\n",
              "    </tr>\n",
              "    <tr>\n",
              "      <th>3</th>\n",
              "      <td>Trump Is So Obsessed He Even Has Obama’s Name...</td>\n",
              "      <td>christmas day donald trump announced would bac...</td>\n",
              "      <td>News</td>\n",
              "      <td>December 29, 2017</td>\n",
              "      <td>0</td>\n",
              "    </tr>\n",
              "    <tr>\n",
              "      <th>4</th>\n",
              "      <td>Pope Francis Just Called Out Donald Trump Dur...</td>\n",
              "      <td>pope francis used annual christmas day message...</td>\n",
              "      <td>News</td>\n",
              "      <td>December 25, 2017</td>\n",
              "      <td>0</td>\n",
              "    </tr>\n",
              "  </tbody>\n",
              "</table>\n",
              "</div>"
            ],
            "text/plain": [
              "                                               title  ... truth\n",
              "0   Donald Trump Sends Out Embarrassing New Year’...  ...     0\n",
              "1   Drunk Bragging Trump Staffer Started Russian ...  ...     0\n",
              "2   Sheriff David Clarke Becomes An Internet Joke...  ...     0\n",
              "3   Trump Is So Obsessed He Even Has Obama’s Name...  ...     0\n",
              "4   Pope Francis Just Called Out Donald Trump Dur...  ...     0\n",
              "\n",
              "[5 rows x 5 columns]"
            ]
          },
          "metadata": {
            "tags": []
          },
          "execution_count": 15
        }
      ]
    },
    {
      "cell_type": "markdown",
      "metadata": {
        "id": "duswpt_FQJNc"
      },
      "source": [
        " Visualization with plotly\n",
        " "
      ]
    },
    {
      "cell_type": "code",
      "metadata": {
        "id": "4VI2mDMI0fy0",
        "trusted": true,
        "colab": {
          "base_uri": "https://localhost:8080/",
          "height": 905
        },
        "outputId": "277e857a-20da-435d-a310-d038af42deb5"
      },
      "source": [
        "#Function to get top n words\n",
        "def get_top_n_words(corpus, n=None):\n",
        "    vec = CountVectorizer().fit(corpus)\n",
        "    bag_of_words = vec.transform(corpus)\n",
        "    sum_words = bag_of_words.sum(axis=0) \n",
        "    words_freq = [(word, sum_words[0, idx]) for word, idx in vec.vocabulary_.items()]\n",
        "    words_freq =sorted(words_freq, key = lambda x: x[1], reverse=True)\n",
        "    return words_freq[:n]\n",
        "\n",
        "#Calling function and return only top 20 words\n",
        "common_words = get_top_n_words(combined['text'], 20)\n",
        "\n",
        "#Printing the word and frequency\n",
        "for word, freq in common_words:\n",
        "    print(word, freq)\n",
        "\n",
        "#Creating the dataframe of word and frequency\n",
        "df1 = pd.DataFrame(common_words, columns = ['news' , 'count'])\n",
        "\n",
        "#Group by words and plot the sum\n",
        "fig = df1.groupby('news').sum()['count'].sort_values(ascending=False).iplot(\n",
        "    kind='bar', yTitle='Count' ,linecolor='black', title='Top 20 words in news')\n",
        "\n"
      ],
      "execution_count": null,
      "outputs": [
        {
          "output_type": "stream",
          "text": [
            "said 130037\n",
            "trump 127770\n",
            "us 65333\n",
            "would 55006\n",
            "president 53529\n",
            "people 41183\n",
            "one 36221\n",
            "state 33477\n",
            "also 31170\n",
            "new 30007\n",
            "donald 27431\n",
            "clinton 27424\n",
            "government 27390\n",
            "house 27165\n",
            "obama 27106\n",
            "states 26101\n",
            "republican 25206\n",
            "could 23895\n",
            "told 23345\n",
            "united 23334\n"
          ],
          "name": "stdout"
        },
        {
          "output_type": "display_data",
          "data": {
            "text/html": [
              "<div>\n",
              "        \n",
              "        \n",
              "            <div id=\"f417a92b-faa6-433c-a962-248ee11724cf\" class=\"plotly-graph-div\" style=\"height:525px; width:100%;\"></div>\n",
              "            <script type=\"text/javascript\">\n",
              "                require([\"plotly\"], function(Plotly) {\n",
              "                    window.PLOTLYENV=window.PLOTLYENV || {};\n",
              "                    window.PLOTLYENV.BASE_URL='https://plot.ly';\n",
              "                    \n",
              "                if (document.getElementById(\"f417a92b-faa6-433c-a962-248ee11724cf\")) {\n",
              "                    Plotly.newPlot(\n",
              "                        'f417a92b-faa6-433c-a962-248ee11724cf',\n",
              "                        [{\"marker\": {\"color\": \"rgba(255, 153, 51, 0.6)\", \"line\": {\"color\": \"rgba(255, 153, 51, 1.0)\", \"width\": 1}}, \"name\": \"count\", \"orientation\": \"v\", \"text\": \"\", \"type\": \"bar\", \"x\": [\"said\", \"trump\", \"us\", \"would\", \"president\", \"people\", \"one\", \"state\", \"also\", \"new\", \"donald\", \"clinton\", \"government\", \"house\", \"obama\", \"states\", \"republican\", \"could\", \"told\", \"united\"], \"y\": [130037, 127770, 65333, 55006, 53529, 41183, 36221, 33477, 31170, 30007, 27431, 27424, 27390, 27165, 27106, 26101, 25206, 23895, 23345, 23334]}],\n",
              "                        {\"legend\": {\"bgcolor\": \"#F5F6F9\", \"font\": {\"color\": \"#4D5663\"}}, \"paper_bgcolor\": \"#F5F6F9\", \"plot_bgcolor\": \"#F5F6F9\", \"template\": {\"data\": {\"bar\": [{\"error_x\": {\"color\": \"#2a3f5f\"}, \"error_y\": {\"color\": \"#2a3f5f\"}, \"marker\": {\"line\": {\"color\": \"#E5ECF6\", \"width\": 0.5}}, \"type\": \"bar\"}], \"barpolar\": [{\"marker\": {\"line\": {\"color\": \"#E5ECF6\", \"width\": 0.5}}, \"type\": \"barpolar\"}], \"carpet\": [{\"aaxis\": {\"endlinecolor\": \"#2a3f5f\", \"gridcolor\": \"white\", \"linecolor\": \"white\", \"minorgridcolor\": \"white\", \"startlinecolor\": \"#2a3f5f\"}, \"baxis\": {\"endlinecolor\": \"#2a3f5f\", \"gridcolor\": \"white\", \"linecolor\": \"white\", \"minorgridcolor\": \"white\", \"startlinecolor\": \"#2a3f5f\"}, \"type\": \"carpet\"}], \"choropleth\": [{\"colorbar\": {\"outlinewidth\": 0, \"ticks\": \"\"}, \"type\": \"choropleth\"}], \"contour\": [{\"colorbar\": {\"outlinewidth\": 0, \"ticks\": \"\"}, \"colorscale\": [[0.0, \"#0d0887\"], [0.1111111111111111, \"#46039f\"], [0.2222222222222222, \"#7201a8\"], [0.3333333333333333, \"#9c179e\"], [0.4444444444444444, \"#bd3786\"], [0.5555555555555556, \"#d8576b\"], [0.6666666666666666, \"#ed7953\"], [0.7777777777777778, \"#fb9f3a\"], [0.8888888888888888, \"#fdca26\"], [1.0, \"#f0f921\"]], \"type\": \"contour\"}], \"contourcarpet\": [{\"colorbar\": {\"outlinewidth\": 0, \"ticks\": \"\"}, \"type\": \"contourcarpet\"}], \"heatmap\": [{\"colorbar\": {\"outlinewidth\": 0, \"ticks\": \"\"}, \"colorscale\": [[0.0, \"#0d0887\"], [0.1111111111111111, \"#46039f\"], [0.2222222222222222, \"#7201a8\"], [0.3333333333333333, \"#9c179e\"], [0.4444444444444444, \"#bd3786\"], [0.5555555555555556, \"#d8576b\"], [0.6666666666666666, \"#ed7953\"], [0.7777777777777778, \"#fb9f3a\"], [0.8888888888888888, \"#fdca26\"], [1.0, \"#f0f921\"]], \"type\": \"heatmap\"}], \"heatmapgl\": [{\"colorbar\": {\"outlinewidth\": 0, \"ticks\": \"\"}, \"colorscale\": [[0.0, \"#0d0887\"], [0.1111111111111111, \"#46039f\"], [0.2222222222222222, \"#7201a8\"], [0.3333333333333333, \"#9c179e\"], [0.4444444444444444, \"#bd3786\"], [0.5555555555555556, \"#d8576b\"], [0.6666666666666666, \"#ed7953\"], [0.7777777777777778, \"#fb9f3a\"], [0.8888888888888888, \"#fdca26\"], [1.0, \"#f0f921\"]], \"type\": \"heatmapgl\"}], \"histogram\": [{\"marker\": {\"colorbar\": {\"outlinewidth\": 0, \"ticks\": \"\"}}, \"type\": \"histogram\"}], \"histogram2d\": [{\"colorbar\": {\"outlinewidth\": 0, \"ticks\": \"\"}, \"colorscale\": [[0.0, \"#0d0887\"], [0.1111111111111111, \"#46039f\"], [0.2222222222222222, \"#7201a8\"], [0.3333333333333333, \"#9c179e\"], [0.4444444444444444, \"#bd3786\"], [0.5555555555555556, \"#d8576b\"], [0.6666666666666666, \"#ed7953\"], [0.7777777777777778, \"#fb9f3a\"], [0.8888888888888888, \"#fdca26\"], [1.0, \"#f0f921\"]], \"type\": \"histogram2d\"}], \"histogram2dcontour\": [{\"colorbar\": {\"outlinewidth\": 0, \"ticks\": \"\"}, \"colorscale\": [[0.0, \"#0d0887\"], [0.1111111111111111, \"#46039f\"], [0.2222222222222222, \"#7201a8\"], [0.3333333333333333, \"#9c179e\"], [0.4444444444444444, \"#bd3786\"], [0.5555555555555556, \"#d8576b\"], [0.6666666666666666, \"#ed7953\"], [0.7777777777777778, \"#fb9f3a\"], [0.8888888888888888, \"#fdca26\"], [1.0, \"#f0f921\"]], \"type\": \"histogram2dcontour\"}], \"mesh3d\": [{\"colorbar\": {\"outlinewidth\": 0, \"ticks\": \"\"}, \"type\": \"mesh3d\"}], \"parcoords\": [{\"line\": {\"colorbar\": {\"outlinewidth\": 0, \"ticks\": \"\"}}, \"type\": \"parcoords\"}], \"pie\": [{\"automargin\": true, \"type\": \"pie\"}], \"scatter\": [{\"marker\": {\"colorbar\": {\"outlinewidth\": 0, \"ticks\": \"\"}}, \"type\": \"scatter\"}], \"scatter3d\": [{\"line\": {\"colorbar\": {\"outlinewidth\": 0, \"ticks\": \"\"}}, \"marker\": {\"colorbar\": {\"outlinewidth\": 0, \"ticks\": \"\"}}, \"type\": \"scatter3d\"}], \"scattercarpet\": [{\"marker\": {\"colorbar\": {\"outlinewidth\": 0, \"ticks\": \"\"}}, \"type\": \"scattercarpet\"}], \"scattergeo\": [{\"marker\": {\"colorbar\": {\"outlinewidth\": 0, \"ticks\": \"\"}}, \"type\": \"scattergeo\"}], \"scattergl\": [{\"marker\": {\"colorbar\": {\"outlinewidth\": 0, \"ticks\": \"\"}}, \"type\": \"scattergl\"}], \"scattermapbox\": [{\"marker\": {\"colorbar\": {\"outlinewidth\": 0, \"ticks\": \"\"}}, \"type\": \"scattermapbox\"}], \"scatterpolar\": [{\"marker\": {\"colorbar\": {\"outlinewidth\": 0, \"ticks\": \"\"}}, \"type\": \"scatterpolar\"}], \"scatterpolargl\": [{\"marker\": {\"colorbar\": {\"outlinewidth\": 0, \"ticks\": \"\"}}, \"type\": \"scatterpolargl\"}], \"scatterternary\": [{\"marker\": {\"colorbar\": {\"outlinewidth\": 0, \"ticks\": \"\"}}, \"type\": \"scatterternary\"}], \"surface\": [{\"colorbar\": {\"outlinewidth\": 0, \"ticks\": \"\"}, \"colorscale\": [[0.0, \"#0d0887\"], [0.1111111111111111, \"#46039f\"], [0.2222222222222222, \"#7201a8\"], [0.3333333333333333, \"#9c179e\"], [0.4444444444444444, \"#bd3786\"], [0.5555555555555556, \"#d8576b\"], [0.6666666666666666, \"#ed7953\"], [0.7777777777777778, \"#fb9f3a\"], [0.8888888888888888, \"#fdca26\"], [1.0, \"#f0f921\"]], \"type\": \"surface\"}], \"table\": [{\"cells\": {\"fill\": {\"color\": \"#EBF0F8\"}, \"line\": {\"color\": \"white\"}}, \"header\": {\"fill\": {\"color\": \"#C8D4E3\"}, \"line\": {\"color\": \"white\"}}, \"type\": \"table\"}]}, \"layout\": {\"annotationdefaults\": {\"arrowcolor\": \"#2a3f5f\", \"arrowhead\": 0, \"arrowwidth\": 1}, \"coloraxis\": {\"colorbar\": {\"outlinewidth\": 0, \"ticks\": \"\"}}, \"colorscale\": {\"diverging\": [[0, \"#8e0152\"], [0.1, \"#c51b7d\"], [0.2, \"#de77ae\"], [0.3, \"#f1b6da\"], [0.4, \"#fde0ef\"], [0.5, \"#f7f7f7\"], [0.6, \"#e6f5d0\"], [0.7, \"#b8e186\"], [0.8, \"#7fbc41\"], [0.9, \"#4d9221\"], [1, \"#276419\"]], \"sequential\": [[0.0, \"#0d0887\"], [0.1111111111111111, \"#46039f\"], [0.2222222222222222, \"#7201a8\"], [0.3333333333333333, \"#9c179e\"], [0.4444444444444444, \"#bd3786\"], [0.5555555555555556, \"#d8576b\"], [0.6666666666666666, \"#ed7953\"], [0.7777777777777778, \"#fb9f3a\"], [0.8888888888888888, \"#fdca26\"], [1.0, \"#f0f921\"]], \"sequentialminus\": [[0.0, \"#0d0887\"], [0.1111111111111111, \"#46039f\"], [0.2222222222222222, \"#7201a8\"], [0.3333333333333333, \"#9c179e\"], [0.4444444444444444, \"#bd3786\"], [0.5555555555555556, \"#d8576b\"], [0.6666666666666666, \"#ed7953\"], [0.7777777777777778, \"#fb9f3a\"], [0.8888888888888888, \"#fdca26\"], [1.0, \"#f0f921\"]]}, \"colorway\": [\"#636efa\", \"#EF553B\", \"#00cc96\", \"#ab63fa\", \"#FFA15A\", \"#19d3f3\", \"#FF6692\", \"#B6E880\", \"#FF97FF\", \"#FECB52\"], \"font\": {\"color\": \"#2a3f5f\"}, \"geo\": {\"bgcolor\": \"white\", \"lakecolor\": \"white\", \"landcolor\": \"#E5ECF6\", \"showlakes\": true, \"showland\": true, \"subunitcolor\": \"white\"}, \"hoverlabel\": {\"align\": \"left\"}, \"hovermode\": \"closest\", \"mapbox\": {\"style\": \"light\"}, \"paper_bgcolor\": \"white\", \"plot_bgcolor\": \"#E5ECF6\", \"polar\": {\"angularaxis\": {\"gridcolor\": \"white\", \"linecolor\": \"white\", \"ticks\": \"\"}, \"bgcolor\": \"#E5ECF6\", \"radialaxis\": {\"gridcolor\": \"white\", \"linecolor\": \"white\", \"ticks\": \"\"}}, \"scene\": {\"xaxis\": {\"backgroundcolor\": \"#E5ECF6\", \"gridcolor\": \"white\", \"gridwidth\": 2, \"linecolor\": \"white\", \"showbackground\": true, \"ticks\": \"\", \"zerolinecolor\": \"white\"}, \"yaxis\": {\"backgroundcolor\": \"#E5ECF6\", \"gridcolor\": \"white\", \"gridwidth\": 2, \"linecolor\": \"white\", \"showbackground\": true, \"ticks\": \"\", \"zerolinecolor\": \"white\"}, \"zaxis\": {\"backgroundcolor\": \"#E5ECF6\", \"gridcolor\": \"white\", \"gridwidth\": 2, \"linecolor\": \"white\", \"showbackground\": true, \"ticks\": \"\", \"zerolinecolor\": \"white\"}}, \"shapedefaults\": {\"line\": {\"color\": \"#2a3f5f\"}}, \"ternary\": {\"aaxis\": {\"gridcolor\": \"white\", \"linecolor\": \"white\", \"ticks\": \"\"}, \"baxis\": {\"gridcolor\": \"white\", \"linecolor\": \"white\", \"ticks\": \"\"}, \"bgcolor\": \"#E5ECF6\", \"caxis\": {\"gridcolor\": \"white\", \"linecolor\": \"white\", \"ticks\": \"\"}}, \"title\": {\"x\": 0.05}, \"xaxis\": {\"automargin\": true, \"gridcolor\": \"white\", \"linecolor\": \"white\", \"ticks\": \"\", \"title\": {\"standoff\": 15}, \"zerolinecolor\": \"white\", \"zerolinewidth\": 2}, \"yaxis\": {\"automargin\": true, \"gridcolor\": \"white\", \"linecolor\": \"white\", \"ticks\": \"\", \"title\": {\"standoff\": 15}, \"zerolinecolor\": \"white\", \"zerolinewidth\": 2}}}, \"title\": {\"font\": {\"color\": \"#4D5663\"}, \"text\": \"Top 20 words in news\"}, \"xaxis\": {\"gridcolor\": \"#E1E5ED\", \"linecolor\": \"black\", \"showgrid\": true, \"tickfont\": {\"color\": \"#4D5663\"}, \"title\": {\"font\": {\"color\": \"#4D5663\"}, \"text\": \"\"}, \"zerolinecolor\": \"#E1E5ED\"}, \"yaxis\": {\"gridcolor\": \"#E1E5ED\", \"linecolor\": \"black\", \"showgrid\": true, \"tickfont\": {\"color\": \"#4D5663\"}, \"title\": {\"font\": {\"color\": \"#4D5663\"}, \"text\": \"Count\"}, \"zerolinecolor\": \"#E1E5ED\"}},\n",
              "                        {\"showLink\": true, \"linkText\": \"Export to plot.ly\", \"plotlyServerURL\": \"https://plot.ly\", \"responsive\": true}\n",
              "                    ).then(function(){\n",
              "                            \n",
              "var gd = document.getElementById('f417a92b-faa6-433c-a962-248ee11724cf');\n",
              "var x = new MutationObserver(function (mutations, observer) {{\n",
              "        var display = window.getComputedStyle(gd).display;\n",
              "        if (!display || display === 'none') {{\n",
              "            console.log([gd, 'removed!']);\n",
              "            Plotly.purge(gd);\n",
              "            observer.disconnect();\n",
              "        }}\n",
              "}});\n",
              "\n",
              "// Listen for the removal of the full notebook cells\n",
              "var notebookContainer = gd.closest('#notebook-container');\n",
              "if (notebookContainer) {{\n",
              "    x.observe(notebookContainer, {childList: true});\n",
              "}}\n",
              "\n",
              "// Listen for the clearing of the current output cell\n",
              "var outputEl = gd.closest('.output');\n",
              "if (outputEl) {{\n",
              "    x.observe(outputEl, {childList: true});\n",
              "}}\n",
              "\n",
              "                        })\n",
              "                };\n",
              "                });\n",
              "            </script>\n",
              "        </div>"
            ],
            "application/vnd.plotly.v1+json": {
              "data": [
                {
                  "name": "count",
                  "text": "",
                  "y": [
                    130037,
                    127770,
                    65333,
                    55006,
                    53529,
                    41183,
                    36221,
                    33477,
                    31170,
                    30007,
                    27431,
                    27424,
                    27390,
                    27165,
                    27106,
                    26101,
                    25206,
                    23895,
                    23345,
                    23334
                  ],
                  "marker": {
                    "color": "rgba(255, 153, 51, 0.6)",
                    "line": {
                      "color": "rgba(255, 153, 51, 1.0)",
                      "width": 1
                    }
                  },
                  "x": [
                    "said",
                    "trump",
                    "us",
                    "would",
                    "president",
                    "people",
                    "one",
                    "state",
                    "also",
                    "new",
                    "donald",
                    "clinton",
                    "government",
                    "house",
                    "obama",
                    "states",
                    "republican",
                    "could",
                    "told",
                    "united"
                  ],
                  "type": "bar",
                  "orientation": "v"
                }
              ],
              "config": {
                "plotlyServerURL": "https://plot.ly",
                "linkText": "Export to plot.ly",
                "showLink": true
              },
              "layout": {
                "template": {
                  "layout": {
                    "shapedefaults": {
                      "line": {
                        "color": "#2a3f5f"
                      }
                    },
                    "polar": {
                      "radialaxis": {
                        "ticks": "",
                        "gridcolor": "white",
                        "linecolor": "white"
                      },
                      "bgcolor": "#E5ECF6",
                      "angularaxis": {
                        "ticks": "",
                        "gridcolor": "white",
                        "linecolor": "white"
                      }
                    },
                    "colorway": [
                      "#636efa",
                      "#EF553B",
                      "#00cc96",
                      "#ab63fa",
                      "#FFA15A",
                      "#19d3f3",
                      "#FF6692",
                      "#B6E880",
                      "#FF97FF",
                      "#FECB52"
                    ],
                    "xaxis": {
                      "automargin": true,
                      "title": {
                        "standoff": 15
                      },
                      "zerolinewidth": 2,
                      "ticks": "",
                      "zerolinecolor": "white",
                      "gridcolor": "white",
                      "linecolor": "white"
                    },
                    "colorscale": {
                      "diverging": [
                        [
                          0,
                          "#8e0152"
                        ],
                        [
                          0.1,
                          "#c51b7d"
                        ],
                        [
                          0.2,
                          "#de77ae"
                        ],
                        [
                          0.3,
                          "#f1b6da"
                        ],
                        [
                          0.4,
                          "#fde0ef"
                        ],
                        [
                          0.5,
                          "#f7f7f7"
                        ],
                        [
                          0.6,
                          "#e6f5d0"
                        ],
                        [
                          0.7,
                          "#b8e186"
                        ],
                        [
                          0.8,
                          "#7fbc41"
                        ],
                        [
                          0.9,
                          "#4d9221"
                        ],
                        [
                          1,
                          "#276419"
                        ]
                      ],
                      "sequential": [
                        [
                          0,
                          "#0d0887"
                        ],
                        [
                          0.1111111111111111,
                          "#46039f"
                        ],
                        [
                          0.2222222222222222,
                          "#7201a8"
                        ],
                        [
                          0.3333333333333333,
                          "#9c179e"
                        ],
                        [
                          0.4444444444444444,
                          "#bd3786"
                        ],
                        [
                          0.5555555555555556,
                          "#d8576b"
                        ],
                        [
                          0.6666666666666666,
                          "#ed7953"
                        ],
                        [
                          0.7777777777777778,
                          "#fb9f3a"
                        ],
                        [
                          0.8888888888888888,
                          "#fdca26"
                        ],
                        [
                          1,
                          "#f0f921"
                        ]
                      ],
                      "sequentialminus": [
                        [
                          0,
                          "#0d0887"
                        ],
                        [
                          0.1111111111111111,
                          "#46039f"
                        ],
                        [
                          0.2222222222222222,
                          "#7201a8"
                        ],
                        [
                          0.3333333333333333,
                          "#9c179e"
                        ],
                        [
                          0.4444444444444444,
                          "#bd3786"
                        ],
                        [
                          0.5555555555555556,
                          "#d8576b"
                        ],
                        [
                          0.6666666666666666,
                          "#ed7953"
                        ],
                        [
                          0.7777777777777778,
                          "#fb9f3a"
                        ],
                        [
                          0.8888888888888888,
                          "#fdca26"
                        ],
                        [
                          1,
                          "#f0f921"
                        ]
                      ]
                    },
                    "paper_bgcolor": "white",
                    "plot_bgcolor": "#E5ECF6",
                    "title": {
                      "x": 0.05
                    },
                    "scene": {
                      "zaxis": {
                        "backgroundcolor": "#E5ECF6",
                        "ticks": "",
                        "gridwidth": 2,
                        "showbackground": true,
                        "zerolinecolor": "white",
                        "gridcolor": "white",
                        "linecolor": "white"
                      },
                      "xaxis": {
                        "backgroundcolor": "#E5ECF6",
                        "ticks": "",
                        "gridwidth": 2,
                        "showbackground": true,
                        "zerolinecolor": "white",
                        "gridcolor": "white",
                        "linecolor": "white"
                      },
                      "yaxis": {
                        "backgroundcolor": "#E5ECF6",
                        "ticks": "",
                        "gridwidth": 2,
                        "showbackground": true,
                        "zerolinecolor": "white",
                        "gridcolor": "white",
                        "linecolor": "white"
                      }
                    },
                    "yaxis": {
                      "automargin": true,
                      "title": {
                        "standoff": 15
                      },
                      "zerolinewidth": 2,
                      "ticks": "",
                      "zerolinecolor": "white",
                      "gridcolor": "white",
                      "linecolor": "white"
                    },
                    "annotationdefaults": {
                      "arrowwidth": 1,
                      "arrowhead": 0,
                      "arrowcolor": "#2a3f5f"
                    },
                    "hoverlabel": {
                      "align": "left"
                    },
                    "ternary": {
                      "bgcolor": "#E5ECF6",
                      "baxis": {
                        "ticks": "",
                        "gridcolor": "white",
                        "linecolor": "white"
                      },
                      "caxis": {
                        "ticks": "",
                        "gridcolor": "white",
                        "linecolor": "white"
                      },
                      "aaxis": {
                        "ticks": "",
                        "gridcolor": "white",
                        "linecolor": "white"
                      }
                    },
                    "mapbox": {
                      "style": "light"
                    },
                    "hovermode": "closest",
                    "font": {
                      "color": "#2a3f5f"
                    },
                    "geo": {
                      "showland": true,
                      "landcolor": "#E5ECF6",
                      "showlakes": true,
                      "bgcolor": "white",
                      "subunitcolor": "white",
                      "lakecolor": "white"
                    },
                    "coloraxis": {
                      "colorbar": {
                        "outlinewidth": 0,
                        "ticks": ""
                      }
                    }
                  },
                  "data": {
                    "mesh3d": [
                      {
                        "colorbar": {
                          "outlinewidth": 0,
                          "ticks": ""
                        },
                        "type": "mesh3d"
                      }
                    ],
                    "scattercarpet": [
                      {
                        "marker": {
                          "colorbar": {
                            "outlinewidth": 0,
                            "ticks": ""
                          }
                        },
                        "type": "scattercarpet"
                      }
                    ],
                    "pie": [
                      {
                        "automargin": true,
                        "type": "pie"
                      }
                    ],
                    "surface": [
                      {
                        "colorbar": {
                          "outlinewidth": 0,
                          "ticks": ""
                        },
                        "type": "surface",
                        "colorscale": [
                          [
                            0,
                            "#0d0887"
                          ],
                          [
                            0.1111111111111111,
                            "#46039f"
                          ],
                          [
                            0.2222222222222222,
                            "#7201a8"
                          ],
                          [
                            0.3333333333333333,
                            "#9c179e"
                          ],
                          [
                            0.4444444444444444,
                            "#bd3786"
                          ],
                          [
                            0.5555555555555556,
                            "#d8576b"
                          ],
                          [
                            0.6666666666666666,
                            "#ed7953"
                          ],
                          [
                            0.7777777777777778,
                            "#fb9f3a"
                          ],
                          [
                            0.8888888888888888,
                            "#fdca26"
                          ],
                          [
                            1,
                            "#f0f921"
                          ]
                        ]
                      }
                    ],
                    "table": [
                      {
                        "header": {
                          "line": {
                            "color": "white"
                          },
                          "fill": {
                            "color": "#C8D4E3"
                          }
                        },
                        "cells": {
                          "line": {
                            "color": "white"
                          },
                          "fill": {
                            "color": "#EBF0F8"
                          }
                        },
                        "type": "table"
                      }
                    ],
                    "scatterpolargl": [
                      {
                        "marker": {
                          "colorbar": {
                            "outlinewidth": 0,
                            "ticks": ""
                          }
                        },
                        "type": "scatterpolargl"
                      }
                    ],
                    "contour": [
                      {
                        "colorbar": {
                          "outlinewidth": 0,
                          "ticks": ""
                        },
                        "type": "contour",
                        "colorscale": [
                          [
                            0,
                            "#0d0887"
                          ],
                          [
                            0.1111111111111111,
                            "#46039f"
                          ],
                          [
                            0.2222222222222222,
                            "#7201a8"
                          ],
                          [
                            0.3333333333333333,
                            "#9c179e"
                          ],
                          [
                            0.4444444444444444,
                            "#bd3786"
                          ],
                          [
                            0.5555555555555556,
                            "#d8576b"
                          ],
                          [
                            0.6666666666666666,
                            "#ed7953"
                          ],
                          [
                            0.7777777777777778,
                            "#fb9f3a"
                          ],
                          [
                            0.8888888888888888,
                            "#fdca26"
                          ],
                          [
                            1,
                            "#f0f921"
                          ]
                        ]
                      }
                    ],
                    "carpet": [
                      {
                        "type": "carpet",
                        "baxis": {
                          "minorgridcolor": "white",
                          "gridcolor": "white",
                          "linecolor": "white",
                          "endlinecolor": "#2a3f5f",
                          "startlinecolor": "#2a3f5f"
                        },
                        "aaxis": {
                          "minorgridcolor": "white",
                          "gridcolor": "white",
                          "linecolor": "white",
                          "endlinecolor": "#2a3f5f",
                          "startlinecolor": "#2a3f5f"
                        }
                      }
                    ],
                    "contourcarpet": [
                      {
                        "colorbar": {
                          "outlinewidth": 0,
                          "ticks": ""
                        },
                        "type": "contourcarpet"
                      }
                    ],
                    "heatmap": [
                      {
                        "colorbar": {
                          "outlinewidth": 0,
                          "ticks": ""
                        },
                        "type": "heatmap",
                        "colorscale": [
                          [
                            0,
                            "#0d0887"
                          ],
                          [
                            0.1111111111111111,
                            "#46039f"
                          ],
                          [
                            0.2222222222222222,
                            "#7201a8"
                          ],
                          [
                            0.3333333333333333,
                            "#9c179e"
                          ],
                          [
                            0.4444444444444444,
                            "#bd3786"
                          ],
                          [
                            0.5555555555555556,
                            "#d8576b"
                          ],
                          [
                            0.6666666666666666,
                            "#ed7953"
                          ],
                          [
                            0.7777777777777778,
                            "#fb9f3a"
                          ],
                          [
                            0.8888888888888888,
                            "#fdca26"
                          ],
                          [
                            1,
                            "#f0f921"
                          ]
                        ]
                      }
                    ],
                    "scattermapbox": [
                      {
                        "marker": {
                          "colorbar": {
                            "outlinewidth": 0,
                            "ticks": ""
                          }
                        },
                        "type": "scattermapbox"
                      }
                    ],
                    "scatter3d": [
                      {
                        "marker": {
                          "colorbar": {
                            "outlinewidth": 0,
                            "ticks": ""
                          }
                        },
                        "line": {
                          "colorbar": {
                            "outlinewidth": 0,
                            "ticks": ""
                          }
                        },
                        "type": "scatter3d"
                      }
                    ],
                    "scattergl": [
                      {
                        "marker": {
                          "colorbar": {
                            "outlinewidth": 0,
                            "ticks": ""
                          }
                        },
                        "type": "scattergl"
                      }
                    ],
                    "scatterternary": [
                      {
                        "marker": {
                          "colorbar": {
                            "outlinewidth": 0,
                            "ticks": ""
                          }
                        },
                        "type": "scatterternary"
                      }
                    ],
                    "histogram": [
                      {
                        "marker": {
                          "colorbar": {
                            "outlinewidth": 0,
                            "ticks": ""
                          }
                        },
                        "type": "histogram"
                      }
                    ],
                    "heatmapgl": [
                      {
                        "colorbar": {
                          "outlinewidth": 0,
                          "ticks": ""
                        },
                        "type": "heatmapgl",
                        "colorscale": [
                          [
                            0,
                            "#0d0887"
                          ],
                          [
                            0.1111111111111111,
                            "#46039f"
                          ],
                          [
                            0.2222222222222222,
                            "#7201a8"
                          ],
                          [
                            0.3333333333333333,
                            "#9c179e"
                          ],
                          [
                            0.4444444444444444,
                            "#bd3786"
                          ],
                          [
                            0.5555555555555556,
                            "#d8576b"
                          ],
                          [
                            0.6666666666666666,
                            "#ed7953"
                          ],
                          [
                            0.7777777777777778,
                            "#fb9f3a"
                          ],
                          [
                            0.8888888888888888,
                            "#fdca26"
                          ],
                          [
                            1,
                            "#f0f921"
                          ]
                        ]
                      }
                    ],
                    "scatterpolar": [
                      {
                        "marker": {
                          "colorbar": {
                            "outlinewidth": 0,
                            "ticks": ""
                          }
                        },
                        "type": "scatterpolar"
                      }
                    ],
                    "histogram2d": [
                      {
                        "colorbar": {
                          "outlinewidth": 0,
                          "ticks": ""
                        },
                        "type": "histogram2d",
                        "colorscale": [
                          [
                            0,
                            "#0d0887"
                          ],
                          [
                            0.1111111111111111,
                            "#46039f"
                          ],
                          [
                            0.2222222222222222,
                            "#7201a8"
                          ],
                          [
                            0.3333333333333333,
                            "#9c179e"
                          ],
                          [
                            0.4444444444444444,
                            "#bd3786"
                          ],
                          [
                            0.5555555555555556,
                            "#d8576b"
                          ],
                          [
                            0.6666666666666666,
                            "#ed7953"
                          ],
                          [
                            0.7777777777777778,
                            "#fb9f3a"
                          ],
                          [
                            0.8888888888888888,
                            "#fdca26"
                          ],
                          [
                            1,
                            "#f0f921"
                          ]
                        ]
                      }
                    ],
                    "scattergeo": [
                      {
                        "marker": {
                          "colorbar": {
                            "outlinewidth": 0,
                            "ticks": ""
                          }
                        },
                        "type": "scattergeo"
                      }
                    ],
                    "bar": [
                      {
                        "marker": {
                          "line": {
                            "color": "#E5ECF6",
                            "width": 0.5
                          }
                        },
                        "type": "bar",
                        "error_x": {
                          "color": "#2a3f5f"
                        },
                        "error_y": {
                          "color": "#2a3f5f"
                        }
                      }
                    ],
                    "choropleth": [
                      {
                        "colorbar": {
                          "outlinewidth": 0,
                          "ticks": ""
                        },
                        "type": "choropleth"
                      }
                    ],
                    "parcoords": [
                      {
                        "line": {
                          "colorbar": {
                            "outlinewidth": 0,
                            "ticks": ""
                          }
                        },
                        "type": "parcoords"
                      }
                    ],
                    "barpolar": [
                      {
                        "marker": {
                          "line": {
                            "color": "#E5ECF6",
                            "width": 0.5
                          }
                        },
                        "type": "barpolar"
                      }
                    ],
                    "histogram2dcontour": [
                      {
                        "colorbar": {
                          "outlinewidth": 0,
                          "ticks": ""
                        },
                        "type": "histogram2dcontour",
                        "colorscale": [
                          [
                            0,
                            "#0d0887"
                          ],
                          [
                            0.1111111111111111,
                            "#46039f"
                          ],
                          [
                            0.2222222222222222,
                            "#7201a8"
                          ],
                          [
                            0.3333333333333333,
                            "#9c179e"
                          ],
                          [
                            0.4444444444444444,
                            "#bd3786"
                          ],
                          [
                            0.5555555555555556,
                            "#d8576b"
                          ],
                          [
                            0.6666666666666666,
                            "#ed7953"
                          ],
                          [
                            0.7777777777777778,
                            "#fb9f3a"
                          ],
                          [
                            0.8888888888888888,
                            "#fdca26"
                          ],
                          [
                            1,
                            "#f0f921"
                          ]
                        ]
                      }
                    ],
                    "scatter": [
                      {
                        "marker": {
                          "colorbar": {
                            "outlinewidth": 0,
                            "ticks": ""
                          }
                        },
                        "type": "scatter"
                      }
                    ]
                  }
                },
                "title": {
                  "text": "Top 20 words in news",
                  "font": {
                    "color": "#4D5663"
                  }
                },
                "paper_bgcolor": "#F5F6F9",
                "plot_bgcolor": "#F5F6F9",
                "yaxis": {
                  "tickfont": {
                    "color": "#4D5663"
                  },
                  "title": {
                    "text": "Count",
                    "font": {
                      "color": "#4D5663"
                    }
                  },
                  "showgrid": true,
                  "zerolinecolor": "#E1E5ED",
                  "gridcolor": "#E1E5ED",
                  "linecolor": "black"
                },
                "xaxis": {
                  "tickfont": {
                    "color": "#4D5663"
                  },
                  "title": {
                    "text": "",
                    "font": {
                      "color": "#4D5663"
                    }
                  },
                  "showgrid": true,
                  "zerolinecolor": "#E1E5ED",
                  "gridcolor": "#E1E5ED",
                  "linecolor": "black"
                },
                "legend": {
                  "bgcolor": "#F5F6F9",
                  "font": {
                    "color": "#4D5663"
                  }
                }
              }
            }
          },
          "metadata": {
            "tags": []
          }
        }
      ]
    },
    {
      "cell_type": "code",
      "metadata": {
        "trusted": true,
        "colab": {
          "base_uri": "https://localhost:8080/",
          "height": 905
        },
        "id": "wiiG6vrcQDy3",
        "outputId": "96fd1df8-1378-4a1a-ca15-50a2a7dabeb3"
      },
      "source": [
        "#Function to get top bigram words\n",
        "def get_top_n_bigram(corpus, n=None):\n",
        "    vec = CountVectorizer(ngram_range=(2, 2)).fit(corpus)\n",
        "    bag_of_words = vec.transform(corpus)\n",
        "    sum_words = bag_of_words.sum(axis=0) \n",
        "    words_freq = [(word, sum_words[0, idx]) for word, idx in vec.vocabulary_.items()]\n",
        "    words_freq =sorted(words_freq, key = lambda x: x[1], reverse=True)\n",
        "    return words_freq[:n]\n",
        "\n",
        "#Calling function and return only top 20 words\n",
        "common_words = get_top_n_bigram(combined['text'], 20)\n",
        "\n",
        "#Printing the word and frequency\n",
        "for word, freq in common_words:\n",
        "    print(word, freq)\n",
        "    \n",
        "#Creating the dataframe of word and frequency\n",
        "df3 = pd.DataFrame(common_words, columns = ['news' , 'count'])\n",
        "\n",
        "#Group by words and plot the sum\n",
        "df3.groupby('news').sum()['count'].sort_values(ascending=False).iplot(\n",
        "    kind='bar', yTitle='Count', linecolor='black',color=\"red\", title='Top 20 bigrams in news')"
      ],
      "execution_count": null,
      "outputs": [
        {
          "output_type": "stream",
          "text": [
            "donald trump 25235\n",
            "united states 18363\n",
            "white house 14692\n",
            "hillary clinton 9164\n",
            "new york 7967\n",
            "president donald 6832\n",
            "north korea 6472\n",
            "image via 6188\n",
            "barack obama 5544\n",
            "trump said 4783\n",
            "prime minister 4723\n",
            "last year 4549\n",
            "last week 4532\n",
            "said statement 4425\n",
            "supreme court 4240\n",
            "president trump 4220\n",
            "us president 4073\n",
            "president obama 3970\n",
            "islamic state 3911\n",
            "president barack 3860\n"
          ],
          "name": "stdout"
        },
        {
          "output_type": "display_data",
          "data": {
            "text/html": [
              "<div>\n",
              "        \n",
              "        \n",
              "            <div id=\"1b3fd8c9-448b-4c9c-a2dc-eedf4a8f2b45\" class=\"plotly-graph-div\" style=\"height:525px; width:100%;\"></div>\n",
              "            <script type=\"text/javascript\">\n",
              "                require([\"plotly\"], function(Plotly) {\n",
              "                    window.PLOTLYENV=window.PLOTLYENV || {};\n",
              "                    window.PLOTLYENV.BASE_URL='https://plot.ly';\n",
              "                    \n",
              "                if (document.getElementById(\"1b3fd8c9-448b-4c9c-a2dc-eedf4a8f2b45\")) {\n",
              "                    Plotly.newPlot(\n",
              "                        '1b3fd8c9-448b-4c9c-a2dc-eedf4a8f2b45',\n",
              "                        [{\"marker\": {\"color\": \"rgba(219, 64, 82, 0.6)\", \"line\": {\"color\": \"rgba(219, 64, 82, 1.0)\", \"width\": 1}}, \"name\": \"count\", \"orientation\": \"v\", \"text\": \"\", \"type\": \"bar\", \"x\": [\"donald trump\", \"united states\", \"white house\", \"hillary clinton\", \"new york\", \"president donald\", \"north korea\", \"image via\", \"barack obama\", \"trump said\", \"prime minister\", \"last year\", \"last week\", \"said statement\", \"supreme court\", \"president trump\", \"us president\", \"president obama\", \"islamic state\", \"president barack\"], \"y\": [25235, 18363, 14692, 9164, 7967, 6832, 6472, 6188, 5544, 4783, 4723, 4549, 4532, 4425, 4240, 4220, 4073, 3970, 3911, 3860]}],\n",
              "                        {\"legend\": {\"bgcolor\": \"#F5F6F9\", \"font\": {\"color\": \"#4D5663\"}}, \"paper_bgcolor\": \"#F5F6F9\", \"plot_bgcolor\": \"#F5F6F9\", \"template\": {\"data\": {\"bar\": [{\"error_x\": {\"color\": \"#2a3f5f\"}, \"error_y\": {\"color\": \"#2a3f5f\"}, \"marker\": {\"line\": {\"color\": \"#E5ECF6\", \"width\": 0.5}}, \"type\": \"bar\"}], \"barpolar\": [{\"marker\": {\"line\": {\"color\": \"#E5ECF6\", \"width\": 0.5}}, \"type\": \"barpolar\"}], \"carpet\": [{\"aaxis\": {\"endlinecolor\": \"#2a3f5f\", \"gridcolor\": \"white\", \"linecolor\": \"white\", \"minorgridcolor\": \"white\", \"startlinecolor\": \"#2a3f5f\"}, \"baxis\": {\"endlinecolor\": \"#2a3f5f\", \"gridcolor\": \"white\", \"linecolor\": \"white\", \"minorgridcolor\": \"white\", \"startlinecolor\": \"#2a3f5f\"}, \"type\": \"carpet\"}], \"choropleth\": [{\"colorbar\": {\"outlinewidth\": 0, \"ticks\": \"\"}, \"type\": \"choropleth\"}], \"contour\": [{\"colorbar\": {\"outlinewidth\": 0, \"ticks\": \"\"}, \"colorscale\": [[0.0, \"#0d0887\"], [0.1111111111111111, \"#46039f\"], [0.2222222222222222, \"#7201a8\"], [0.3333333333333333, \"#9c179e\"], [0.4444444444444444, \"#bd3786\"], [0.5555555555555556, \"#d8576b\"], [0.6666666666666666, \"#ed7953\"], [0.7777777777777778, \"#fb9f3a\"], [0.8888888888888888, \"#fdca26\"], [1.0, \"#f0f921\"]], \"type\": \"contour\"}], \"contourcarpet\": [{\"colorbar\": {\"outlinewidth\": 0, \"ticks\": \"\"}, \"type\": \"contourcarpet\"}], \"heatmap\": [{\"colorbar\": {\"outlinewidth\": 0, \"ticks\": \"\"}, \"colorscale\": [[0.0, \"#0d0887\"], [0.1111111111111111, \"#46039f\"], [0.2222222222222222, \"#7201a8\"], [0.3333333333333333, \"#9c179e\"], [0.4444444444444444, \"#bd3786\"], [0.5555555555555556, \"#d8576b\"], [0.6666666666666666, \"#ed7953\"], [0.7777777777777778, \"#fb9f3a\"], [0.8888888888888888, \"#fdca26\"], [1.0, \"#f0f921\"]], \"type\": \"heatmap\"}], \"heatmapgl\": [{\"colorbar\": {\"outlinewidth\": 0, \"ticks\": \"\"}, \"colorscale\": [[0.0, \"#0d0887\"], [0.1111111111111111, \"#46039f\"], [0.2222222222222222, \"#7201a8\"], [0.3333333333333333, \"#9c179e\"], [0.4444444444444444, \"#bd3786\"], [0.5555555555555556, \"#d8576b\"], [0.6666666666666666, \"#ed7953\"], [0.7777777777777778, \"#fb9f3a\"], [0.8888888888888888, \"#fdca26\"], [1.0, \"#f0f921\"]], \"type\": \"heatmapgl\"}], \"histogram\": [{\"marker\": {\"colorbar\": {\"outlinewidth\": 0, \"ticks\": \"\"}}, \"type\": \"histogram\"}], \"histogram2d\": [{\"colorbar\": {\"outlinewidth\": 0, \"ticks\": \"\"}, \"colorscale\": [[0.0, \"#0d0887\"], [0.1111111111111111, \"#46039f\"], [0.2222222222222222, \"#7201a8\"], [0.3333333333333333, \"#9c179e\"], [0.4444444444444444, \"#bd3786\"], [0.5555555555555556, \"#d8576b\"], [0.6666666666666666, \"#ed7953\"], [0.7777777777777778, \"#fb9f3a\"], [0.8888888888888888, \"#fdca26\"], [1.0, \"#f0f921\"]], \"type\": \"histogram2d\"}], \"histogram2dcontour\": [{\"colorbar\": {\"outlinewidth\": 0, \"ticks\": \"\"}, \"colorscale\": [[0.0, \"#0d0887\"], [0.1111111111111111, \"#46039f\"], [0.2222222222222222, \"#7201a8\"], [0.3333333333333333, \"#9c179e\"], [0.4444444444444444, \"#bd3786\"], [0.5555555555555556, \"#d8576b\"], [0.6666666666666666, \"#ed7953\"], [0.7777777777777778, \"#fb9f3a\"], [0.8888888888888888, \"#fdca26\"], [1.0, \"#f0f921\"]], \"type\": \"histogram2dcontour\"}], \"mesh3d\": [{\"colorbar\": {\"outlinewidth\": 0, \"ticks\": \"\"}, \"type\": \"mesh3d\"}], \"parcoords\": [{\"line\": {\"colorbar\": {\"outlinewidth\": 0, \"ticks\": \"\"}}, \"type\": \"parcoords\"}], \"pie\": [{\"automargin\": true, \"type\": \"pie\"}], \"scatter\": [{\"marker\": {\"colorbar\": {\"outlinewidth\": 0, \"ticks\": \"\"}}, \"type\": \"scatter\"}], \"scatter3d\": [{\"line\": {\"colorbar\": {\"outlinewidth\": 0, \"ticks\": \"\"}}, \"marker\": {\"colorbar\": {\"outlinewidth\": 0, \"ticks\": \"\"}}, \"type\": \"scatter3d\"}], \"scattercarpet\": [{\"marker\": {\"colorbar\": {\"outlinewidth\": 0, \"ticks\": \"\"}}, \"type\": \"scattercarpet\"}], \"scattergeo\": [{\"marker\": {\"colorbar\": {\"outlinewidth\": 0, \"ticks\": \"\"}}, \"type\": \"scattergeo\"}], \"scattergl\": [{\"marker\": {\"colorbar\": {\"outlinewidth\": 0, \"ticks\": \"\"}}, \"type\": \"scattergl\"}], \"scattermapbox\": [{\"marker\": {\"colorbar\": {\"outlinewidth\": 0, \"ticks\": \"\"}}, \"type\": \"scattermapbox\"}], \"scatterpolar\": [{\"marker\": {\"colorbar\": {\"outlinewidth\": 0, \"ticks\": \"\"}}, \"type\": \"scatterpolar\"}], \"scatterpolargl\": [{\"marker\": {\"colorbar\": {\"outlinewidth\": 0, \"ticks\": \"\"}}, \"type\": \"scatterpolargl\"}], \"scatterternary\": [{\"marker\": {\"colorbar\": {\"outlinewidth\": 0, \"ticks\": \"\"}}, \"type\": \"scatterternary\"}], \"surface\": [{\"colorbar\": {\"outlinewidth\": 0, \"ticks\": \"\"}, \"colorscale\": [[0.0, \"#0d0887\"], [0.1111111111111111, \"#46039f\"], [0.2222222222222222, \"#7201a8\"], [0.3333333333333333, \"#9c179e\"], [0.4444444444444444, \"#bd3786\"], [0.5555555555555556, \"#d8576b\"], [0.6666666666666666, \"#ed7953\"], [0.7777777777777778, \"#fb9f3a\"], [0.8888888888888888, \"#fdca26\"], [1.0, \"#f0f921\"]], \"type\": \"surface\"}], \"table\": [{\"cells\": {\"fill\": {\"color\": \"#EBF0F8\"}, \"line\": {\"color\": \"white\"}}, \"header\": {\"fill\": {\"color\": \"#C8D4E3\"}, \"line\": {\"color\": \"white\"}}, \"type\": \"table\"}]}, \"layout\": {\"annotationdefaults\": {\"arrowcolor\": \"#2a3f5f\", \"arrowhead\": 0, \"arrowwidth\": 1}, \"coloraxis\": {\"colorbar\": {\"outlinewidth\": 0, \"ticks\": \"\"}}, \"colorscale\": {\"diverging\": [[0, \"#8e0152\"], [0.1, \"#c51b7d\"], [0.2, \"#de77ae\"], [0.3, \"#f1b6da\"], [0.4, \"#fde0ef\"], [0.5, \"#f7f7f7\"], [0.6, \"#e6f5d0\"], [0.7, \"#b8e186\"], [0.8, \"#7fbc41\"], [0.9, \"#4d9221\"], [1, \"#276419\"]], \"sequential\": [[0.0, \"#0d0887\"], [0.1111111111111111, \"#46039f\"], [0.2222222222222222, \"#7201a8\"], [0.3333333333333333, \"#9c179e\"], [0.4444444444444444, \"#bd3786\"], [0.5555555555555556, \"#d8576b\"], [0.6666666666666666, \"#ed7953\"], [0.7777777777777778, \"#fb9f3a\"], [0.8888888888888888, \"#fdca26\"], [1.0, \"#f0f921\"]], \"sequentialminus\": [[0.0, \"#0d0887\"], [0.1111111111111111, \"#46039f\"], [0.2222222222222222, \"#7201a8\"], [0.3333333333333333, \"#9c179e\"], [0.4444444444444444, \"#bd3786\"], [0.5555555555555556, \"#d8576b\"], [0.6666666666666666, \"#ed7953\"], [0.7777777777777778, \"#fb9f3a\"], [0.8888888888888888, \"#fdca26\"], [1.0, \"#f0f921\"]]}, \"colorway\": [\"#636efa\", \"#EF553B\", \"#00cc96\", \"#ab63fa\", \"#FFA15A\", \"#19d3f3\", \"#FF6692\", \"#B6E880\", \"#FF97FF\", \"#FECB52\"], \"font\": {\"color\": \"#2a3f5f\"}, \"geo\": {\"bgcolor\": \"white\", \"lakecolor\": \"white\", \"landcolor\": \"#E5ECF6\", \"showlakes\": true, \"showland\": true, \"subunitcolor\": \"white\"}, \"hoverlabel\": {\"align\": \"left\"}, \"hovermode\": \"closest\", \"mapbox\": {\"style\": \"light\"}, \"paper_bgcolor\": \"white\", \"plot_bgcolor\": \"#E5ECF6\", \"polar\": {\"angularaxis\": {\"gridcolor\": \"white\", \"linecolor\": \"white\", \"ticks\": \"\"}, \"bgcolor\": \"#E5ECF6\", \"radialaxis\": {\"gridcolor\": \"white\", \"linecolor\": \"white\", \"ticks\": \"\"}}, \"scene\": {\"xaxis\": {\"backgroundcolor\": \"#E5ECF6\", \"gridcolor\": \"white\", \"gridwidth\": 2, \"linecolor\": \"white\", \"showbackground\": true, \"ticks\": \"\", \"zerolinecolor\": \"white\"}, \"yaxis\": {\"backgroundcolor\": \"#E5ECF6\", \"gridcolor\": \"white\", \"gridwidth\": 2, \"linecolor\": \"white\", \"showbackground\": true, \"ticks\": \"\", \"zerolinecolor\": \"white\"}, \"zaxis\": {\"backgroundcolor\": \"#E5ECF6\", \"gridcolor\": \"white\", \"gridwidth\": 2, \"linecolor\": \"white\", \"showbackground\": true, \"ticks\": \"\", \"zerolinecolor\": \"white\"}}, \"shapedefaults\": {\"line\": {\"color\": \"#2a3f5f\"}}, \"ternary\": {\"aaxis\": {\"gridcolor\": \"white\", \"linecolor\": \"white\", \"ticks\": \"\"}, \"baxis\": {\"gridcolor\": \"white\", \"linecolor\": \"white\", \"ticks\": \"\"}, \"bgcolor\": \"#E5ECF6\", \"caxis\": {\"gridcolor\": \"white\", \"linecolor\": \"white\", \"ticks\": \"\"}}, \"title\": {\"x\": 0.05}, \"xaxis\": {\"automargin\": true, \"gridcolor\": \"white\", \"linecolor\": \"white\", \"ticks\": \"\", \"title\": {\"standoff\": 15}, \"zerolinecolor\": \"white\", \"zerolinewidth\": 2}, \"yaxis\": {\"automargin\": true, \"gridcolor\": \"white\", \"linecolor\": \"white\", \"ticks\": \"\", \"title\": {\"standoff\": 15}, \"zerolinecolor\": \"white\", \"zerolinewidth\": 2}}}, \"title\": {\"font\": {\"color\": \"#4D5663\"}, \"text\": \"Top 20 bigrams in news\"}, \"xaxis\": {\"gridcolor\": \"#E1E5ED\", \"linecolor\": \"black\", \"showgrid\": true, \"tickfont\": {\"color\": \"#4D5663\"}, \"title\": {\"font\": {\"color\": \"#4D5663\"}, \"text\": \"\"}, \"zerolinecolor\": \"#E1E5ED\"}, \"yaxis\": {\"gridcolor\": \"#E1E5ED\", \"linecolor\": \"black\", \"showgrid\": true, \"tickfont\": {\"color\": \"#4D5663\"}, \"title\": {\"font\": {\"color\": \"#4D5663\"}, \"text\": \"Count\"}, \"zerolinecolor\": \"#E1E5ED\"}},\n",
              "                        {\"showLink\": true, \"linkText\": \"Export to plot.ly\", \"plotlyServerURL\": \"https://plot.ly\", \"responsive\": true}\n",
              "                    ).then(function(){\n",
              "                            \n",
              "var gd = document.getElementById('1b3fd8c9-448b-4c9c-a2dc-eedf4a8f2b45');\n",
              "var x = new MutationObserver(function (mutations, observer) {{\n",
              "        var display = window.getComputedStyle(gd).display;\n",
              "        if (!display || display === 'none') {{\n",
              "            console.log([gd, 'removed!']);\n",
              "            Plotly.purge(gd);\n",
              "            observer.disconnect();\n",
              "        }}\n",
              "}});\n",
              "\n",
              "// Listen for the removal of the full notebook cells\n",
              "var notebookContainer = gd.closest('#notebook-container');\n",
              "if (notebookContainer) {{\n",
              "    x.observe(notebookContainer, {childList: true});\n",
              "}}\n",
              "\n",
              "// Listen for the clearing of the current output cell\n",
              "var outputEl = gd.closest('.output');\n",
              "if (outputEl) {{\n",
              "    x.observe(outputEl, {childList: true});\n",
              "}}\n",
              "\n",
              "                        })\n",
              "                };\n",
              "                });\n",
              "            </script>\n",
              "        </div>"
            ],
            "application/vnd.plotly.v1+json": {
              "data": [
                {
                  "name": "count",
                  "text": "",
                  "y": [
                    25235,
                    18363,
                    14692,
                    9164,
                    7967,
                    6832,
                    6472,
                    6188,
                    5544,
                    4783,
                    4723,
                    4549,
                    4532,
                    4425,
                    4240,
                    4220,
                    4073,
                    3970,
                    3911,
                    3860
                  ],
                  "marker": {
                    "color": "rgba(219, 64, 82, 0.6)",
                    "line": {
                      "color": "rgba(219, 64, 82, 1.0)",
                      "width": 1
                    }
                  },
                  "x": [
                    "donald trump",
                    "united states",
                    "white house",
                    "hillary clinton",
                    "new york",
                    "president donald",
                    "north korea",
                    "image via",
                    "barack obama",
                    "trump said",
                    "prime minister",
                    "last year",
                    "last week",
                    "said statement",
                    "supreme court",
                    "president trump",
                    "us president",
                    "president obama",
                    "islamic state",
                    "president barack"
                  ],
                  "type": "bar",
                  "orientation": "v"
                }
              ],
              "config": {
                "plotlyServerURL": "https://plot.ly",
                "linkText": "Export to plot.ly",
                "showLink": true
              },
              "layout": {
                "template": {
                  "layout": {
                    "shapedefaults": {
                      "line": {
                        "color": "#2a3f5f"
                      }
                    },
                    "polar": {
                      "radialaxis": {
                        "ticks": "",
                        "gridcolor": "white",
                        "linecolor": "white"
                      },
                      "bgcolor": "#E5ECF6",
                      "angularaxis": {
                        "ticks": "",
                        "gridcolor": "white",
                        "linecolor": "white"
                      }
                    },
                    "colorway": [
                      "#636efa",
                      "#EF553B",
                      "#00cc96",
                      "#ab63fa",
                      "#FFA15A",
                      "#19d3f3",
                      "#FF6692",
                      "#B6E880",
                      "#FF97FF",
                      "#FECB52"
                    ],
                    "xaxis": {
                      "automargin": true,
                      "title": {
                        "standoff": 15
                      },
                      "zerolinewidth": 2,
                      "ticks": "",
                      "zerolinecolor": "white",
                      "gridcolor": "white",
                      "linecolor": "white"
                    },
                    "colorscale": {
                      "diverging": [
                        [
                          0,
                          "#8e0152"
                        ],
                        [
                          0.1,
                          "#c51b7d"
                        ],
                        [
                          0.2,
                          "#de77ae"
                        ],
                        [
                          0.3,
                          "#f1b6da"
                        ],
                        [
                          0.4,
                          "#fde0ef"
                        ],
                        [
                          0.5,
                          "#f7f7f7"
                        ],
                        [
                          0.6,
                          "#e6f5d0"
                        ],
                        [
                          0.7,
                          "#b8e186"
                        ],
                        [
                          0.8,
                          "#7fbc41"
                        ],
                        [
                          0.9,
                          "#4d9221"
                        ],
                        [
                          1,
                          "#276419"
                        ]
                      ],
                      "sequential": [
                        [
                          0,
                          "#0d0887"
                        ],
                        [
                          0.1111111111111111,
                          "#46039f"
                        ],
                        [
                          0.2222222222222222,
                          "#7201a8"
                        ],
                        [
                          0.3333333333333333,
                          "#9c179e"
                        ],
                        [
                          0.4444444444444444,
                          "#bd3786"
                        ],
                        [
                          0.5555555555555556,
                          "#d8576b"
                        ],
                        [
                          0.6666666666666666,
                          "#ed7953"
                        ],
                        [
                          0.7777777777777778,
                          "#fb9f3a"
                        ],
                        [
                          0.8888888888888888,
                          "#fdca26"
                        ],
                        [
                          1,
                          "#f0f921"
                        ]
                      ],
                      "sequentialminus": [
                        [
                          0,
                          "#0d0887"
                        ],
                        [
                          0.1111111111111111,
                          "#46039f"
                        ],
                        [
                          0.2222222222222222,
                          "#7201a8"
                        ],
                        [
                          0.3333333333333333,
                          "#9c179e"
                        ],
                        [
                          0.4444444444444444,
                          "#bd3786"
                        ],
                        [
                          0.5555555555555556,
                          "#d8576b"
                        ],
                        [
                          0.6666666666666666,
                          "#ed7953"
                        ],
                        [
                          0.7777777777777778,
                          "#fb9f3a"
                        ],
                        [
                          0.8888888888888888,
                          "#fdca26"
                        ],
                        [
                          1,
                          "#f0f921"
                        ]
                      ]
                    },
                    "paper_bgcolor": "white",
                    "plot_bgcolor": "#E5ECF6",
                    "title": {
                      "x": 0.05
                    },
                    "scene": {
                      "zaxis": {
                        "backgroundcolor": "#E5ECF6",
                        "ticks": "",
                        "gridwidth": 2,
                        "showbackground": true,
                        "zerolinecolor": "white",
                        "gridcolor": "white",
                        "linecolor": "white"
                      },
                      "xaxis": {
                        "backgroundcolor": "#E5ECF6",
                        "ticks": "",
                        "gridwidth": 2,
                        "showbackground": true,
                        "zerolinecolor": "white",
                        "gridcolor": "white",
                        "linecolor": "white"
                      },
                      "yaxis": {
                        "backgroundcolor": "#E5ECF6",
                        "ticks": "",
                        "gridwidth": 2,
                        "showbackground": true,
                        "zerolinecolor": "white",
                        "gridcolor": "white",
                        "linecolor": "white"
                      }
                    },
                    "yaxis": {
                      "automargin": true,
                      "title": {
                        "standoff": 15
                      },
                      "zerolinewidth": 2,
                      "ticks": "",
                      "zerolinecolor": "white",
                      "gridcolor": "white",
                      "linecolor": "white"
                    },
                    "annotationdefaults": {
                      "arrowwidth": 1,
                      "arrowhead": 0,
                      "arrowcolor": "#2a3f5f"
                    },
                    "hoverlabel": {
                      "align": "left"
                    },
                    "ternary": {
                      "bgcolor": "#E5ECF6",
                      "baxis": {
                        "ticks": "",
                        "gridcolor": "white",
                        "linecolor": "white"
                      },
                      "caxis": {
                        "ticks": "",
                        "gridcolor": "white",
                        "linecolor": "white"
                      },
                      "aaxis": {
                        "ticks": "",
                        "gridcolor": "white",
                        "linecolor": "white"
                      }
                    },
                    "mapbox": {
                      "style": "light"
                    },
                    "hovermode": "closest",
                    "font": {
                      "color": "#2a3f5f"
                    },
                    "geo": {
                      "showland": true,
                      "landcolor": "#E5ECF6",
                      "showlakes": true,
                      "bgcolor": "white",
                      "subunitcolor": "white",
                      "lakecolor": "white"
                    },
                    "coloraxis": {
                      "colorbar": {
                        "outlinewidth": 0,
                        "ticks": ""
                      }
                    }
                  },
                  "data": {
                    "mesh3d": [
                      {
                        "colorbar": {
                          "outlinewidth": 0,
                          "ticks": ""
                        },
                        "type": "mesh3d"
                      }
                    ],
                    "scattercarpet": [
                      {
                        "marker": {
                          "colorbar": {
                            "outlinewidth": 0,
                            "ticks": ""
                          }
                        },
                        "type": "scattercarpet"
                      }
                    ],
                    "pie": [
                      {
                        "automargin": true,
                        "type": "pie"
                      }
                    ],
                    "surface": [
                      {
                        "colorbar": {
                          "outlinewidth": 0,
                          "ticks": ""
                        },
                        "type": "surface",
                        "colorscale": [
                          [
                            0,
                            "#0d0887"
                          ],
                          [
                            0.1111111111111111,
                            "#46039f"
                          ],
                          [
                            0.2222222222222222,
                            "#7201a8"
                          ],
                          [
                            0.3333333333333333,
                            "#9c179e"
                          ],
                          [
                            0.4444444444444444,
                            "#bd3786"
                          ],
                          [
                            0.5555555555555556,
                            "#d8576b"
                          ],
                          [
                            0.6666666666666666,
                            "#ed7953"
                          ],
                          [
                            0.7777777777777778,
                            "#fb9f3a"
                          ],
                          [
                            0.8888888888888888,
                            "#fdca26"
                          ],
                          [
                            1,
                            "#f0f921"
                          ]
                        ]
                      }
                    ],
                    "table": [
                      {
                        "header": {
                          "line": {
                            "color": "white"
                          },
                          "fill": {
                            "color": "#C8D4E3"
                          }
                        },
                        "cells": {
                          "line": {
                            "color": "white"
                          },
                          "fill": {
                            "color": "#EBF0F8"
                          }
                        },
                        "type": "table"
                      }
                    ],
                    "scatterpolargl": [
                      {
                        "marker": {
                          "colorbar": {
                            "outlinewidth": 0,
                            "ticks": ""
                          }
                        },
                        "type": "scatterpolargl"
                      }
                    ],
                    "contour": [
                      {
                        "colorbar": {
                          "outlinewidth": 0,
                          "ticks": ""
                        },
                        "type": "contour",
                        "colorscale": [
                          [
                            0,
                            "#0d0887"
                          ],
                          [
                            0.1111111111111111,
                            "#46039f"
                          ],
                          [
                            0.2222222222222222,
                            "#7201a8"
                          ],
                          [
                            0.3333333333333333,
                            "#9c179e"
                          ],
                          [
                            0.4444444444444444,
                            "#bd3786"
                          ],
                          [
                            0.5555555555555556,
                            "#d8576b"
                          ],
                          [
                            0.6666666666666666,
                            "#ed7953"
                          ],
                          [
                            0.7777777777777778,
                            "#fb9f3a"
                          ],
                          [
                            0.8888888888888888,
                            "#fdca26"
                          ],
                          [
                            1,
                            "#f0f921"
                          ]
                        ]
                      }
                    ],
                    "carpet": [
                      {
                        "type": "carpet",
                        "baxis": {
                          "minorgridcolor": "white",
                          "gridcolor": "white",
                          "linecolor": "white",
                          "endlinecolor": "#2a3f5f",
                          "startlinecolor": "#2a3f5f"
                        },
                        "aaxis": {
                          "minorgridcolor": "white",
                          "gridcolor": "white",
                          "linecolor": "white",
                          "endlinecolor": "#2a3f5f",
                          "startlinecolor": "#2a3f5f"
                        }
                      }
                    ],
                    "contourcarpet": [
                      {
                        "colorbar": {
                          "outlinewidth": 0,
                          "ticks": ""
                        },
                        "type": "contourcarpet"
                      }
                    ],
                    "heatmap": [
                      {
                        "colorbar": {
                          "outlinewidth": 0,
                          "ticks": ""
                        },
                        "type": "heatmap",
                        "colorscale": [
                          [
                            0,
                            "#0d0887"
                          ],
                          [
                            0.1111111111111111,
                            "#46039f"
                          ],
                          [
                            0.2222222222222222,
                            "#7201a8"
                          ],
                          [
                            0.3333333333333333,
                            "#9c179e"
                          ],
                          [
                            0.4444444444444444,
                            "#bd3786"
                          ],
                          [
                            0.5555555555555556,
                            "#d8576b"
                          ],
                          [
                            0.6666666666666666,
                            "#ed7953"
                          ],
                          [
                            0.7777777777777778,
                            "#fb9f3a"
                          ],
                          [
                            0.8888888888888888,
                            "#fdca26"
                          ],
                          [
                            1,
                            "#f0f921"
                          ]
                        ]
                      }
                    ],
                    "scattermapbox": [
                      {
                        "marker": {
                          "colorbar": {
                            "outlinewidth": 0,
                            "ticks": ""
                          }
                        },
                        "type": "scattermapbox"
                      }
                    ],
                    "scatter3d": [
                      {
                        "marker": {
                          "colorbar": {
                            "outlinewidth": 0,
                            "ticks": ""
                          }
                        },
                        "line": {
                          "colorbar": {
                            "outlinewidth": 0,
                            "ticks": ""
                          }
                        },
                        "type": "scatter3d"
                      }
                    ],
                    "scattergl": [
                      {
                        "marker": {
                          "colorbar": {
                            "outlinewidth": 0,
                            "ticks": ""
                          }
                        },
                        "type": "scattergl"
                      }
                    ],
                    "scatterternary": [
                      {
                        "marker": {
                          "colorbar": {
                            "outlinewidth": 0,
                            "ticks": ""
                          }
                        },
                        "type": "scatterternary"
                      }
                    ],
                    "histogram": [
                      {
                        "marker": {
                          "colorbar": {
                            "outlinewidth": 0,
                            "ticks": ""
                          }
                        },
                        "type": "histogram"
                      }
                    ],
                    "heatmapgl": [
                      {
                        "colorbar": {
                          "outlinewidth": 0,
                          "ticks": ""
                        },
                        "type": "heatmapgl",
                        "colorscale": [
                          [
                            0,
                            "#0d0887"
                          ],
                          [
                            0.1111111111111111,
                            "#46039f"
                          ],
                          [
                            0.2222222222222222,
                            "#7201a8"
                          ],
                          [
                            0.3333333333333333,
                            "#9c179e"
                          ],
                          [
                            0.4444444444444444,
                            "#bd3786"
                          ],
                          [
                            0.5555555555555556,
                            "#d8576b"
                          ],
                          [
                            0.6666666666666666,
                            "#ed7953"
                          ],
                          [
                            0.7777777777777778,
                            "#fb9f3a"
                          ],
                          [
                            0.8888888888888888,
                            "#fdca26"
                          ],
                          [
                            1,
                            "#f0f921"
                          ]
                        ]
                      }
                    ],
                    "scatterpolar": [
                      {
                        "marker": {
                          "colorbar": {
                            "outlinewidth": 0,
                            "ticks": ""
                          }
                        },
                        "type": "scatterpolar"
                      }
                    ],
                    "histogram2d": [
                      {
                        "colorbar": {
                          "outlinewidth": 0,
                          "ticks": ""
                        },
                        "type": "histogram2d",
                        "colorscale": [
                          [
                            0,
                            "#0d0887"
                          ],
                          [
                            0.1111111111111111,
                            "#46039f"
                          ],
                          [
                            0.2222222222222222,
                            "#7201a8"
                          ],
                          [
                            0.3333333333333333,
                            "#9c179e"
                          ],
                          [
                            0.4444444444444444,
                            "#bd3786"
                          ],
                          [
                            0.5555555555555556,
                            "#d8576b"
                          ],
                          [
                            0.6666666666666666,
                            "#ed7953"
                          ],
                          [
                            0.7777777777777778,
                            "#fb9f3a"
                          ],
                          [
                            0.8888888888888888,
                            "#fdca26"
                          ],
                          [
                            1,
                            "#f0f921"
                          ]
                        ]
                      }
                    ],
                    "scattergeo": [
                      {
                        "marker": {
                          "colorbar": {
                            "outlinewidth": 0,
                            "ticks": ""
                          }
                        },
                        "type": "scattergeo"
                      }
                    ],
                    "bar": [
                      {
                        "marker": {
                          "line": {
                            "color": "#E5ECF6",
                            "width": 0.5
                          }
                        },
                        "type": "bar",
                        "error_x": {
                          "color": "#2a3f5f"
                        },
                        "error_y": {
                          "color": "#2a3f5f"
                        }
                      }
                    ],
                    "choropleth": [
                      {
                        "colorbar": {
                          "outlinewidth": 0,
                          "ticks": ""
                        },
                        "type": "choropleth"
                      }
                    ],
                    "parcoords": [
                      {
                        "line": {
                          "colorbar": {
                            "outlinewidth": 0,
                            "ticks": ""
                          }
                        },
                        "type": "parcoords"
                      }
                    ],
                    "barpolar": [
                      {
                        "marker": {
                          "line": {
                            "color": "#E5ECF6",
                            "width": 0.5
                          }
                        },
                        "type": "barpolar"
                      }
                    ],
                    "histogram2dcontour": [
                      {
                        "colorbar": {
                          "outlinewidth": 0,
                          "ticks": ""
                        },
                        "type": "histogram2dcontour",
                        "colorscale": [
                          [
                            0,
                            "#0d0887"
                          ],
                          [
                            0.1111111111111111,
                            "#46039f"
                          ],
                          [
                            0.2222222222222222,
                            "#7201a8"
                          ],
                          [
                            0.3333333333333333,
                            "#9c179e"
                          ],
                          [
                            0.4444444444444444,
                            "#bd3786"
                          ],
                          [
                            0.5555555555555556,
                            "#d8576b"
                          ],
                          [
                            0.6666666666666666,
                            "#ed7953"
                          ],
                          [
                            0.7777777777777778,
                            "#fb9f3a"
                          ],
                          [
                            0.8888888888888888,
                            "#fdca26"
                          ],
                          [
                            1,
                            "#f0f921"
                          ]
                        ]
                      }
                    ],
                    "scatter": [
                      {
                        "marker": {
                          "colorbar": {
                            "outlinewidth": 0,
                            "ticks": ""
                          }
                        },
                        "type": "scatter"
                      }
                    ]
                  }
                },
                "title": {
                  "text": "Top 20 bigrams in news",
                  "font": {
                    "color": "#4D5663"
                  }
                },
                "paper_bgcolor": "#F5F6F9",
                "plot_bgcolor": "#F5F6F9",
                "yaxis": {
                  "tickfont": {
                    "color": "#4D5663"
                  },
                  "title": {
                    "text": "Count",
                    "font": {
                      "color": "#4D5663"
                    }
                  },
                  "showgrid": true,
                  "zerolinecolor": "#E1E5ED",
                  "gridcolor": "#E1E5ED",
                  "linecolor": "black"
                },
                "xaxis": {
                  "tickfont": {
                    "color": "#4D5663"
                  },
                  "title": {
                    "text": "",
                    "font": {
                      "color": "#4D5663"
                    }
                  },
                  "showgrid": true,
                  "zerolinecolor": "#E1E5ED",
                  "gridcolor": "#E1E5ED",
                  "linecolor": "black"
                },
                "legend": {
                  "bgcolor": "#F5F6F9",
                  "font": {
                    "color": "#4D5663"
                  }
                }
              }
            }
          },
          "metadata": {
            "tags": []
          }
        }
      ]
    },
    {
      "cell_type": "code",
      "metadata": {
        "trusted": true,
        "colab": {
          "base_uri": "https://localhost:8080/",
          "height": 905
        },
        "id": "Gj7nSO_5QDy3",
        "outputId": "e3f7105b-2218-4c89-8577-17c41e3f802c"
      },
      "source": [
        "#Function to get top trigram words\n",
        "def get_top_n_trigram(corpus, n=None):\n",
        "    vec = CountVectorizer(ngram_range=(3, 3), stop_words='english').fit(corpus)\n",
        "    bag_of_words = vec.transform(corpus)\n",
        "    sum_words = bag_of_words.sum(axis=0) \n",
        "    words_freq = [(word, sum_words[0, idx]) for word, idx in vec.vocabulary_.items()]\n",
        "    words_freq =sorted(words_freq, key = lambda x: x[1], reverse=True)\n",
        "    return words_freq[:n]\n",
        "\n",
        "#Calling function and return only top 20 words\n",
        "common_words = get_top_n_trigram(combined['text'], 20)\n",
        "\n",
        "#Printing word and their respective frequencies\n",
        "for word, freq in common_words:\n",
        "    print(word, freq)\n",
        "\n",
        "#Creating a dataframe with words and count\n",
        "df6 = pd.DataFrame(common_words, columns = ['news' , 'count'])\n",
        "\n",
        "#Grouping the words and plotting their frequencies\n",
        "df6.groupby('news').sum()['count'].sort_values(ascending=False).iplot(\n",
        "    kind='bar',yTitle='Count', linecolor='black',color=\"blue\", title='Top 20 trigrams in news')"
      ],
      "execution_count": null,
      "outputs": [
        {
          "output_type": "stream",
          "text": [
            "president donald trump 6717\n",
            "president barack obama 3807\n",
            "new york times 1981\n",
            "donald trump realdonaldtrump 1695\n",
            "black lives matter 1283\n",
            "president united states 1093\n",
            "white house said 1050\n",
            "new york city 995\n",
            "president vladimir putin 955\n",
            "news century wire 939\n",
            "national security adviser 882\n",
            "elect donald trump 865\n",
            "affordable care act 864\n",
            "director james comey 845\n",
            "speaker paul ryan 843\n",
            "president elect donald 841\n",
            "fbi director james 784\n",
            "state rex tillerson 771\n",
            "secretary state rex 765\n",
            "russian president vladimir 746\n"
          ],
          "name": "stdout"
        },
        {
          "output_type": "display_data",
          "data": {
            "text/html": [
              "<div>\n",
              "        \n",
              "        \n",
              "            <div id=\"9218e0e4-ca18-412d-8675-d9738b506913\" class=\"plotly-graph-div\" style=\"height:525px; width:100%;\"></div>\n",
              "            <script type=\"text/javascript\">\n",
              "                require([\"plotly\"], function(Plotly) {\n",
              "                    window.PLOTLYENV=window.PLOTLYENV || {};\n",
              "                    window.PLOTLYENV.BASE_URL='https://plot.ly';\n",
              "                    \n",
              "                if (document.getElementById(\"9218e0e4-ca18-412d-8675-d9738b506913\")) {\n",
              "                    Plotly.newPlot(\n",
              "                        '9218e0e4-ca18-412d-8675-d9738b506913',\n",
              "                        [{\"marker\": {\"color\": \"rgba(55, 128, 191, 0.6)\", \"line\": {\"color\": \"rgba(55, 128, 191, 1.0)\", \"width\": 1}}, \"name\": \"count\", \"orientation\": \"v\", \"text\": \"\", \"type\": \"bar\", \"x\": [\"president donald trump\", \"president barack obama\", \"new york times\", \"donald trump realdonaldtrump\", \"black lives matter\", \"president united states\", \"white house said\", \"new york city\", \"president vladimir putin\", \"news century wire\", \"national security adviser\", \"elect donald trump\", \"affordable care act\", \"director james comey\", \"speaker paul ryan\", \"president elect donald\", \"fbi director james\", \"state rex tillerson\", \"secretary state rex\", \"russian president vladimir\"], \"y\": [6717, 3807, 1981, 1695, 1283, 1093, 1050, 995, 955, 939, 882, 865, 864, 845, 843, 841, 784, 771, 765, 746]}],\n",
              "                        {\"legend\": {\"bgcolor\": \"#F5F6F9\", \"font\": {\"color\": \"#4D5663\"}}, \"paper_bgcolor\": \"#F5F6F9\", \"plot_bgcolor\": \"#F5F6F9\", \"template\": {\"data\": {\"bar\": [{\"error_x\": {\"color\": \"#2a3f5f\"}, \"error_y\": {\"color\": \"#2a3f5f\"}, \"marker\": {\"line\": {\"color\": \"#E5ECF6\", \"width\": 0.5}}, \"type\": \"bar\"}], \"barpolar\": [{\"marker\": {\"line\": {\"color\": \"#E5ECF6\", \"width\": 0.5}}, \"type\": \"barpolar\"}], \"carpet\": [{\"aaxis\": {\"endlinecolor\": \"#2a3f5f\", \"gridcolor\": \"white\", \"linecolor\": \"white\", \"minorgridcolor\": \"white\", \"startlinecolor\": \"#2a3f5f\"}, \"baxis\": {\"endlinecolor\": \"#2a3f5f\", \"gridcolor\": \"white\", \"linecolor\": \"white\", \"minorgridcolor\": \"white\", \"startlinecolor\": \"#2a3f5f\"}, \"type\": \"carpet\"}], \"choropleth\": [{\"colorbar\": {\"outlinewidth\": 0, \"ticks\": \"\"}, \"type\": \"choropleth\"}], \"contour\": [{\"colorbar\": {\"outlinewidth\": 0, \"ticks\": \"\"}, \"colorscale\": [[0.0, \"#0d0887\"], [0.1111111111111111, \"#46039f\"], [0.2222222222222222, \"#7201a8\"], [0.3333333333333333, \"#9c179e\"], [0.4444444444444444, \"#bd3786\"], [0.5555555555555556, \"#d8576b\"], [0.6666666666666666, \"#ed7953\"], [0.7777777777777778, \"#fb9f3a\"], [0.8888888888888888, \"#fdca26\"], [1.0, \"#f0f921\"]], \"type\": \"contour\"}], \"contourcarpet\": [{\"colorbar\": {\"outlinewidth\": 0, \"ticks\": \"\"}, \"type\": \"contourcarpet\"}], \"heatmap\": [{\"colorbar\": {\"outlinewidth\": 0, \"ticks\": \"\"}, \"colorscale\": [[0.0, \"#0d0887\"], [0.1111111111111111, \"#46039f\"], [0.2222222222222222, \"#7201a8\"], [0.3333333333333333, \"#9c179e\"], [0.4444444444444444, \"#bd3786\"], [0.5555555555555556, \"#d8576b\"], [0.6666666666666666, \"#ed7953\"], [0.7777777777777778, \"#fb9f3a\"], [0.8888888888888888, \"#fdca26\"], [1.0, \"#f0f921\"]], \"type\": \"heatmap\"}], \"heatmapgl\": [{\"colorbar\": {\"outlinewidth\": 0, \"ticks\": \"\"}, \"colorscale\": [[0.0, \"#0d0887\"], [0.1111111111111111, \"#46039f\"], [0.2222222222222222, \"#7201a8\"], [0.3333333333333333, \"#9c179e\"], [0.4444444444444444, \"#bd3786\"], [0.5555555555555556, \"#d8576b\"], [0.6666666666666666, \"#ed7953\"], [0.7777777777777778, \"#fb9f3a\"], [0.8888888888888888, \"#fdca26\"], [1.0, \"#f0f921\"]], \"type\": \"heatmapgl\"}], \"histogram\": [{\"marker\": {\"colorbar\": {\"outlinewidth\": 0, \"ticks\": \"\"}}, \"type\": \"histogram\"}], \"histogram2d\": [{\"colorbar\": {\"outlinewidth\": 0, \"ticks\": \"\"}, \"colorscale\": [[0.0, \"#0d0887\"], [0.1111111111111111, \"#46039f\"], [0.2222222222222222, \"#7201a8\"], [0.3333333333333333, \"#9c179e\"], [0.4444444444444444, \"#bd3786\"], [0.5555555555555556, \"#d8576b\"], [0.6666666666666666, \"#ed7953\"], [0.7777777777777778, \"#fb9f3a\"], [0.8888888888888888, \"#fdca26\"], [1.0, \"#f0f921\"]], \"type\": \"histogram2d\"}], \"histogram2dcontour\": [{\"colorbar\": {\"outlinewidth\": 0, \"ticks\": \"\"}, \"colorscale\": [[0.0, \"#0d0887\"], [0.1111111111111111, \"#46039f\"], [0.2222222222222222, \"#7201a8\"], [0.3333333333333333, \"#9c179e\"], [0.4444444444444444, \"#bd3786\"], [0.5555555555555556, \"#d8576b\"], [0.6666666666666666, \"#ed7953\"], [0.7777777777777778, \"#fb9f3a\"], [0.8888888888888888, \"#fdca26\"], [1.0, \"#f0f921\"]], \"type\": \"histogram2dcontour\"}], \"mesh3d\": [{\"colorbar\": {\"outlinewidth\": 0, \"ticks\": \"\"}, \"type\": \"mesh3d\"}], \"parcoords\": [{\"line\": {\"colorbar\": {\"outlinewidth\": 0, \"ticks\": \"\"}}, \"type\": \"parcoords\"}], \"pie\": [{\"automargin\": true, \"type\": \"pie\"}], \"scatter\": [{\"marker\": {\"colorbar\": {\"outlinewidth\": 0, \"ticks\": \"\"}}, \"type\": \"scatter\"}], \"scatter3d\": [{\"line\": {\"colorbar\": {\"outlinewidth\": 0, \"ticks\": \"\"}}, \"marker\": {\"colorbar\": {\"outlinewidth\": 0, \"ticks\": \"\"}}, \"type\": \"scatter3d\"}], \"scattercarpet\": [{\"marker\": {\"colorbar\": {\"outlinewidth\": 0, \"ticks\": \"\"}}, \"type\": \"scattercarpet\"}], \"scattergeo\": [{\"marker\": {\"colorbar\": {\"outlinewidth\": 0, \"ticks\": \"\"}}, \"type\": \"scattergeo\"}], \"scattergl\": [{\"marker\": {\"colorbar\": {\"outlinewidth\": 0, \"ticks\": \"\"}}, \"type\": \"scattergl\"}], \"scattermapbox\": [{\"marker\": {\"colorbar\": {\"outlinewidth\": 0, \"ticks\": \"\"}}, \"type\": \"scattermapbox\"}], \"scatterpolar\": [{\"marker\": {\"colorbar\": {\"outlinewidth\": 0, \"ticks\": \"\"}}, \"type\": \"scatterpolar\"}], \"scatterpolargl\": [{\"marker\": {\"colorbar\": {\"outlinewidth\": 0, \"ticks\": \"\"}}, \"type\": \"scatterpolargl\"}], \"scatterternary\": [{\"marker\": {\"colorbar\": {\"outlinewidth\": 0, \"ticks\": \"\"}}, \"type\": \"scatterternary\"}], \"surface\": [{\"colorbar\": {\"outlinewidth\": 0, \"ticks\": \"\"}, \"colorscale\": [[0.0, \"#0d0887\"], [0.1111111111111111, \"#46039f\"], [0.2222222222222222, \"#7201a8\"], [0.3333333333333333, \"#9c179e\"], [0.4444444444444444, \"#bd3786\"], [0.5555555555555556, \"#d8576b\"], [0.6666666666666666, \"#ed7953\"], [0.7777777777777778, \"#fb9f3a\"], [0.8888888888888888, \"#fdca26\"], [1.0, \"#f0f921\"]], \"type\": \"surface\"}], \"table\": [{\"cells\": {\"fill\": {\"color\": \"#EBF0F8\"}, \"line\": {\"color\": \"white\"}}, \"header\": {\"fill\": {\"color\": \"#C8D4E3\"}, \"line\": {\"color\": \"white\"}}, \"type\": \"table\"}]}, \"layout\": {\"annotationdefaults\": {\"arrowcolor\": \"#2a3f5f\", \"arrowhead\": 0, \"arrowwidth\": 1}, \"coloraxis\": {\"colorbar\": {\"outlinewidth\": 0, \"ticks\": \"\"}}, \"colorscale\": {\"diverging\": [[0, \"#8e0152\"], [0.1, \"#c51b7d\"], [0.2, \"#de77ae\"], [0.3, \"#f1b6da\"], [0.4, \"#fde0ef\"], [0.5, \"#f7f7f7\"], [0.6, \"#e6f5d0\"], [0.7, \"#b8e186\"], [0.8, \"#7fbc41\"], [0.9, \"#4d9221\"], [1, \"#276419\"]], \"sequential\": [[0.0, \"#0d0887\"], [0.1111111111111111, \"#46039f\"], [0.2222222222222222, \"#7201a8\"], [0.3333333333333333, \"#9c179e\"], [0.4444444444444444, \"#bd3786\"], [0.5555555555555556, \"#d8576b\"], [0.6666666666666666, \"#ed7953\"], [0.7777777777777778, \"#fb9f3a\"], [0.8888888888888888, \"#fdca26\"], [1.0, \"#f0f921\"]], \"sequentialminus\": [[0.0, \"#0d0887\"], [0.1111111111111111, \"#46039f\"], [0.2222222222222222, \"#7201a8\"], [0.3333333333333333, \"#9c179e\"], [0.4444444444444444, \"#bd3786\"], [0.5555555555555556, \"#d8576b\"], [0.6666666666666666, \"#ed7953\"], [0.7777777777777778, \"#fb9f3a\"], [0.8888888888888888, \"#fdca26\"], [1.0, \"#f0f921\"]]}, \"colorway\": [\"#636efa\", \"#EF553B\", \"#00cc96\", \"#ab63fa\", \"#FFA15A\", \"#19d3f3\", \"#FF6692\", \"#B6E880\", \"#FF97FF\", \"#FECB52\"], \"font\": {\"color\": \"#2a3f5f\"}, \"geo\": {\"bgcolor\": \"white\", \"lakecolor\": \"white\", \"landcolor\": \"#E5ECF6\", \"showlakes\": true, \"showland\": true, \"subunitcolor\": \"white\"}, \"hoverlabel\": {\"align\": \"left\"}, \"hovermode\": \"closest\", \"mapbox\": {\"style\": \"light\"}, \"paper_bgcolor\": \"white\", \"plot_bgcolor\": \"#E5ECF6\", \"polar\": {\"angularaxis\": {\"gridcolor\": \"white\", \"linecolor\": \"white\", \"ticks\": \"\"}, \"bgcolor\": \"#E5ECF6\", \"radialaxis\": {\"gridcolor\": \"white\", \"linecolor\": \"white\", \"ticks\": \"\"}}, \"scene\": {\"xaxis\": {\"backgroundcolor\": \"#E5ECF6\", \"gridcolor\": \"white\", \"gridwidth\": 2, \"linecolor\": \"white\", \"showbackground\": true, \"ticks\": \"\", \"zerolinecolor\": \"white\"}, \"yaxis\": {\"backgroundcolor\": \"#E5ECF6\", \"gridcolor\": \"white\", \"gridwidth\": 2, \"linecolor\": \"white\", \"showbackground\": true, \"ticks\": \"\", \"zerolinecolor\": \"white\"}, \"zaxis\": {\"backgroundcolor\": \"#E5ECF6\", \"gridcolor\": \"white\", \"gridwidth\": 2, \"linecolor\": \"white\", \"showbackground\": true, \"ticks\": \"\", \"zerolinecolor\": \"white\"}}, \"shapedefaults\": {\"line\": {\"color\": \"#2a3f5f\"}}, \"ternary\": {\"aaxis\": {\"gridcolor\": \"white\", \"linecolor\": \"white\", \"ticks\": \"\"}, \"baxis\": {\"gridcolor\": \"white\", \"linecolor\": \"white\", \"ticks\": \"\"}, \"bgcolor\": \"#E5ECF6\", \"caxis\": {\"gridcolor\": \"white\", \"linecolor\": \"white\", \"ticks\": \"\"}}, \"title\": {\"x\": 0.05}, \"xaxis\": {\"automargin\": true, \"gridcolor\": \"white\", \"linecolor\": \"white\", \"ticks\": \"\", \"title\": {\"standoff\": 15}, \"zerolinecolor\": \"white\", \"zerolinewidth\": 2}, \"yaxis\": {\"automargin\": true, \"gridcolor\": \"white\", \"linecolor\": \"white\", \"ticks\": \"\", \"title\": {\"standoff\": 15}, \"zerolinecolor\": \"white\", \"zerolinewidth\": 2}}}, \"title\": {\"font\": {\"color\": \"#4D5663\"}, \"text\": \"Top 20 trigrams in news\"}, \"xaxis\": {\"gridcolor\": \"#E1E5ED\", \"linecolor\": \"black\", \"showgrid\": true, \"tickfont\": {\"color\": \"#4D5663\"}, \"title\": {\"font\": {\"color\": \"#4D5663\"}, \"text\": \"\"}, \"zerolinecolor\": \"#E1E5ED\"}, \"yaxis\": {\"gridcolor\": \"#E1E5ED\", \"linecolor\": \"black\", \"showgrid\": true, \"tickfont\": {\"color\": \"#4D5663\"}, \"title\": {\"font\": {\"color\": \"#4D5663\"}, \"text\": \"Count\"}, \"zerolinecolor\": \"#E1E5ED\"}},\n",
              "                        {\"showLink\": true, \"linkText\": \"Export to plot.ly\", \"plotlyServerURL\": \"https://plot.ly\", \"responsive\": true}\n",
              "                    ).then(function(){\n",
              "                            \n",
              "var gd = document.getElementById('9218e0e4-ca18-412d-8675-d9738b506913');\n",
              "var x = new MutationObserver(function (mutations, observer) {{\n",
              "        var display = window.getComputedStyle(gd).display;\n",
              "        if (!display || display === 'none') {{\n",
              "            console.log([gd, 'removed!']);\n",
              "            Plotly.purge(gd);\n",
              "            observer.disconnect();\n",
              "        }}\n",
              "}});\n",
              "\n",
              "// Listen for the removal of the full notebook cells\n",
              "var notebookContainer = gd.closest('#notebook-container');\n",
              "if (notebookContainer) {{\n",
              "    x.observe(notebookContainer, {childList: true});\n",
              "}}\n",
              "\n",
              "// Listen for the clearing of the current output cell\n",
              "var outputEl = gd.closest('.output');\n",
              "if (outputEl) {{\n",
              "    x.observe(outputEl, {childList: true});\n",
              "}}\n",
              "\n",
              "                        })\n",
              "                };\n",
              "                });\n",
              "            </script>\n",
              "        </div>"
            ],
            "application/vnd.plotly.v1+json": {
              "data": [
                {
                  "name": "count",
                  "text": "",
                  "y": [
                    6717,
                    3807,
                    1981,
                    1695,
                    1283,
                    1093,
                    1050,
                    995,
                    955,
                    939,
                    882,
                    865,
                    864,
                    845,
                    843,
                    841,
                    784,
                    771,
                    765,
                    746
                  ],
                  "marker": {
                    "color": "rgba(55, 128, 191, 0.6)",
                    "line": {
                      "color": "rgba(55, 128, 191, 1.0)",
                      "width": 1
                    }
                  },
                  "x": [
                    "president donald trump",
                    "president barack obama",
                    "new york times",
                    "donald trump realdonaldtrump",
                    "black lives matter",
                    "president united states",
                    "white house said",
                    "new york city",
                    "president vladimir putin",
                    "news century wire",
                    "national security adviser",
                    "elect donald trump",
                    "affordable care act",
                    "director james comey",
                    "speaker paul ryan",
                    "president elect donald",
                    "fbi director james",
                    "state rex tillerson",
                    "secretary state rex",
                    "russian president vladimir"
                  ],
                  "type": "bar",
                  "orientation": "v"
                }
              ],
              "config": {
                "plotlyServerURL": "https://plot.ly",
                "linkText": "Export to plot.ly",
                "showLink": true
              },
              "layout": {
                "template": {
                  "layout": {
                    "shapedefaults": {
                      "line": {
                        "color": "#2a3f5f"
                      }
                    },
                    "polar": {
                      "radialaxis": {
                        "ticks": "",
                        "gridcolor": "white",
                        "linecolor": "white"
                      },
                      "bgcolor": "#E5ECF6",
                      "angularaxis": {
                        "ticks": "",
                        "gridcolor": "white",
                        "linecolor": "white"
                      }
                    },
                    "colorway": [
                      "#636efa",
                      "#EF553B",
                      "#00cc96",
                      "#ab63fa",
                      "#FFA15A",
                      "#19d3f3",
                      "#FF6692",
                      "#B6E880",
                      "#FF97FF",
                      "#FECB52"
                    ],
                    "xaxis": {
                      "automargin": true,
                      "title": {
                        "standoff": 15
                      },
                      "zerolinewidth": 2,
                      "ticks": "",
                      "zerolinecolor": "white",
                      "gridcolor": "white",
                      "linecolor": "white"
                    },
                    "colorscale": {
                      "diverging": [
                        [
                          0,
                          "#8e0152"
                        ],
                        [
                          0.1,
                          "#c51b7d"
                        ],
                        [
                          0.2,
                          "#de77ae"
                        ],
                        [
                          0.3,
                          "#f1b6da"
                        ],
                        [
                          0.4,
                          "#fde0ef"
                        ],
                        [
                          0.5,
                          "#f7f7f7"
                        ],
                        [
                          0.6,
                          "#e6f5d0"
                        ],
                        [
                          0.7,
                          "#b8e186"
                        ],
                        [
                          0.8,
                          "#7fbc41"
                        ],
                        [
                          0.9,
                          "#4d9221"
                        ],
                        [
                          1,
                          "#276419"
                        ]
                      ],
                      "sequential": [
                        [
                          0,
                          "#0d0887"
                        ],
                        [
                          0.1111111111111111,
                          "#46039f"
                        ],
                        [
                          0.2222222222222222,
                          "#7201a8"
                        ],
                        [
                          0.3333333333333333,
                          "#9c179e"
                        ],
                        [
                          0.4444444444444444,
                          "#bd3786"
                        ],
                        [
                          0.5555555555555556,
                          "#d8576b"
                        ],
                        [
                          0.6666666666666666,
                          "#ed7953"
                        ],
                        [
                          0.7777777777777778,
                          "#fb9f3a"
                        ],
                        [
                          0.8888888888888888,
                          "#fdca26"
                        ],
                        [
                          1,
                          "#f0f921"
                        ]
                      ],
                      "sequentialminus": [
                        [
                          0,
                          "#0d0887"
                        ],
                        [
                          0.1111111111111111,
                          "#46039f"
                        ],
                        [
                          0.2222222222222222,
                          "#7201a8"
                        ],
                        [
                          0.3333333333333333,
                          "#9c179e"
                        ],
                        [
                          0.4444444444444444,
                          "#bd3786"
                        ],
                        [
                          0.5555555555555556,
                          "#d8576b"
                        ],
                        [
                          0.6666666666666666,
                          "#ed7953"
                        ],
                        [
                          0.7777777777777778,
                          "#fb9f3a"
                        ],
                        [
                          0.8888888888888888,
                          "#fdca26"
                        ],
                        [
                          1,
                          "#f0f921"
                        ]
                      ]
                    },
                    "paper_bgcolor": "white",
                    "plot_bgcolor": "#E5ECF6",
                    "title": {
                      "x": 0.05
                    },
                    "scene": {
                      "zaxis": {
                        "backgroundcolor": "#E5ECF6",
                        "ticks": "",
                        "gridwidth": 2,
                        "showbackground": true,
                        "zerolinecolor": "white",
                        "gridcolor": "white",
                        "linecolor": "white"
                      },
                      "xaxis": {
                        "backgroundcolor": "#E5ECF6",
                        "ticks": "",
                        "gridwidth": 2,
                        "showbackground": true,
                        "zerolinecolor": "white",
                        "gridcolor": "white",
                        "linecolor": "white"
                      },
                      "yaxis": {
                        "backgroundcolor": "#E5ECF6",
                        "ticks": "",
                        "gridwidth": 2,
                        "showbackground": true,
                        "zerolinecolor": "white",
                        "gridcolor": "white",
                        "linecolor": "white"
                      }
                    },
                    "yaxis": {
                      "automargin": true,
                      "title": {
                        "standoff": 15
                      },
                      "zerolinewidth": 2,
                      "ticks": "",
                      "zerolinecolor": "white",
                      "gridcolor": "white",
                      "linecolor": "white"
                    },
                    "annotationdefaults": {
                      "arrowwidth": 1,
                      "arrowhead": 0,
                      "arrowcolor": "#2a3f5f"
                    },
                    "hoverlabel": {
                      "align": "left"
                    },
                    "ternary": {
                      "bgcolor": "#E5ECF6",
                      "baxis": {
                        "ticks": "",
                        "gridcolor": "white",
                        "linecolor": "white"
                      },
                      "caxis": {
                        "ticks": "",
                        "gridcolor": "white",
                        "linecolor": "white"
                      },
                      "aaxis": {
                        "ticks": "",
                        "gridcolor": "white",
                        "linecolor": "white"
                      }
                    },
                    "mapbox": {
                      "style": "light"
                    },
                    "hovermode": "closest",
                    "font": {
                      "color": "#2a3f5f"
                    },
                    "geo": {
                      "showland": true,
                      "landcolor": "#E5ECF6",
                      "showlakes": true,
                      "bgcolor": "white",
                      "subunitcolor": "white",
                      "lakecolor": "white"
                    },
                    "coloraxis": {
                      "colorbar": {
                        "outlinewidth": 0,
                        "ticks": ""
                      }
                    }
                  },
                  "data": {
                    "mesh3d": [
                      {
                        "colorbar": {
                          "outlinewidth": 0,
                          "ticks": ""
                        },
                        "type": "mesh3d"
                      }
                    ],
                    "scattercarpet": [
                      {
                        "marker": {
                          "colorbar": {
                            "outlinewidth": 0,
                            "ticks": ""
                          }
                        },
                        "type": "scattercarpet"
                      }
                    ],
                    "pie": [
                      {
                        "automargin": true,
                        "type": "pie"
                      }
                    ],
                    "surface": [
                      {
                        "colorbar": {
                          "outlinewidth": 0,
                          "ticks": ""
                        },
                        "type": "surface",
                        "colorscale": [
                          [
                            0,
                            "#0d0887"
                          ],
                          [
                            0.1111111111111111,
                            "#46039f"
                          ],
                          [
                            0.2222222222222222,
                            "#7201a8"
                          ],
                          [
                            0.3333333333333333,
                            "#9c179e"
                          ],
                          [
                            0.4444444444444444,
                            "#bd3786"
                          ],
                          [
                            0.5555555555555556,
                            "#d8576b"
                          ],
                          [
                            0.6666666666666666,
                            "#ed7953"
                          ],
                          [
                            0.7777777777777778,
                            "#fb9f3a"
                          ],
                          [
                            0.8888888888888888,
                            "#fdca26"
                          ],
                          [
                            1,
                            "#f0f921"
                          ]
                        ]
                      }
                    ],
                    "table": [
                      {
                        "header": {
                          "line": {
                            "color": "white"
                          },
                          "fill": {
                            "color": "#C8D4E3"
                          }
                        },
                        "cells": {
                          "line": {
                            "color": "white"
                          },
                          "fill": {
                            "color": "#EBF0F8"
                          }
                        },
                        "type": "table"
                      }
                    ],
                    "scatterpolargl": [
                      {
                        "marker": {
                          "colorbar": {
                            "outlinewidth": 0,
                            "ticks": ""
                          }
                        },
                        "type": "scatterpolargl"
                      }
                    ],
                    "contour": [
                      {
                        "colorbar": {
                          "outlinewidth": 0,
                          "ticks": ""
                        },
                        "type": "contour",
                        "colorscale": [
                          [
                            0,
                            "#0d0887"
                          ],
                          [
                            0.1111111111111111,
                            "#46039f"
                          ],
                          [
                            0.2222222222222222,
                            "#7201a8"
                          ],
                          [
                            0.3333333333333333,
                            "#9c179e"
                          ],
                          [
                            0.4444444444444444,
                            "#bd3786"
                          ],
                          [
                            0.5555555555555556,
                            "#d8576b"
                          ],
                          [
                            0.6666666666666666,
                            "#ed7953"
                          ],
                          [
                            0.7777777777777778,
                            "#fb9f3a"
                          ],
                          [
                            0.8888888888888888,
                            "#fdca26"
                          ],
                          [
                            1,
                            "#f0f921"
                          ]
                        ]
                      }
                    ],
                    "carpet": [
                      {
                        "type": "carpet",
                        "baxis": {
                          "minorgridcolor": "white",
                          "gridcolor": "white",
                          "linecolor": "white",
                          "endlinecolor": "#2a3f5f",
                          "startlinecolor": "#2a3f5f"
                        },
                        "aaxis": {
                          "minorgridcolor": "white",
                          "gridcolor": "white",
                          "linecolor": "white",
                          "endlinecolor": "#2a3f5f",
                          "startlinecolor": "#2a3f5f"
                        }
                      }
                    ],
                    "contourcarpet": [
                      {
                        "colorbar": {
                          "outlinewidth": 0,
                          "ticks": ""
                        },
                        "type": "contourcarpet"
                      }
                    ],
                    "heatmap": [
                      {
                        "colorbar": {
                          "outlinewidth": 0,
                          "ticks": ""
                        },
                        "type": "heatmap",
                        "colorscale": [
                          [
                            0,
                            "#0d0887"
                          ],
                          [
                            0.1111111111111111,
                            "#46039f"
                          ],
                          [
                            0.2222222222222222,
                            "#7201a8"
                          ],
                          [
                            0.3333333333333333,
                            "#9c179e"
                          ],
                          [
                            0.4444444444444444,
                            "#bd3786"
                          ],
                          [
                            0.5555555555555556,
                            "#d8576b"
                          ],
                          [
                            0.6666666666666666,
                            "#ed7953"
                          ],
                          [
                            0.7777777777777778,
                            "#fb9f3a"
                          ],
                          [
                            0.8888888888888888,
                            "#fdca26"
                          ],
                          [
                            1,
                            "#f0f921"
                          ]
                        ]
                      }
                    ],
                    "scattermapbox": [
                      {
                        "marker": {
                          "colorbar": {
                            "outlinewidth": 0,
                            "ticks": ""
                          }
                        },
                        "type": "scattermapbox"
                      }
                    ],
                    "scatter3d": [
                      {
                        "marker": {
                          "colorbar": {
                            "outlinewidth": 0,
                            "ticks": ""
                          }
                        },
                        "line": {
                          "colorbar": {
                            "outlinewidth": 0,
                            "ticks": ""
                          }
                        },
                        "type": "scatter3d"
                      }
                    ],
                    "scattergl": [
                      {
                        "marker": {
                          "colorbar": {
                            "outlinewidth": 0,
                            "ticks": ""
                          }
                        },
                        "type": "scattergl"
                      }
                    ],
                    "scatterternary": [
                      {
                        "marker": {
                          "colorbar": {
                            "outlinewidth": 0,
                            "ticks": ""
                          }
                        },
                        "type": "scatterternary"
                      }
                    ],
                    "histogram": [
                      {
                        "marker": {
                          "colorbar": {
                            "outlinewidth": 0,
                            "ticks": ""
                          }
                        },
                        "type": "histogram"
                      }
                    ],
                    "heatmapgl": [
                      {
                        "colorbar": {
                          "outlinewidth": 0,
                          "ticks": ""
                        },
                        "type": "heatmapgl",
                        "colorscale": [
                          [
                            0,
                            "#0d0887"
                          ],
                          [
                            0.1111111111111111,
                            "#46039f"
                          ],
                          [
                            0.2222222222222222,
                            "#7201a8"
                          ],
                          [
                            0.3333333333333333,
                            "#9c179e"
                          ],
                          [
                            0.4444444444444444,
                            "#bd3786"
                          ],
                          [
                            0.5555555555555556,
                            "#d8576b"
                          ],
                          [
                            0.6666666666666666,
                            "#ed7953"
                          ],
                          [
                            0.7777777777777778,
                            "#fb9f3a"
                          ],
                          [
                            0.8888888888888888,
                            "#fdca26"
                          ],
                          [
                            1,
                            "#f0f921"
                          ]
                        ]
                      }
                    ],
                    "scatterpolar": [
                      {
                        "marker": {
                          "colorbar": {
                            "outlinewidth": 0,
                            "ticks": ""
                          }
                        },
                        "type": "scatterpolar"
                      }
                    ],
                    "histogram2d": [
                      {
                        "colorbar": {
                          "outlinewidth": 0,
                          "ticks": ""
                        },
                        "type": "histogram2d",
                        "colorscale": [
                          [
                            0,
                            "#0d0887"
                          ],
                          [
                            0.1111111111111111,
                            "#46039f"
                          ],
                          [
                            0.2222222222222222,
                            "#7201a8"
                          ],
                          [
                            0.3333333333333333,
                            "#9c179e"
                          ],
                          [
                            0.4444444444444444,
                            "#bd3786"
                          ],
                          [
                            0.5555555555555556,
                            "#d8576b"
                          ],
                          [
                            0.6666666666666666,
                            "#ed7953"
                          ],
                          [
                            0.7777777777777778,
                            "#fb9f3a"
                          ],
                          [
                            0.8888888888888888,
                            "#fdca26"
                          ],
                          [
                            1,
                            "#f0f921"
                          ]
                        ]
                      }
                    ],
                    "scattergeo": [
                      {
                        "marker": {
                          "colorbar": {
                            "outlinewidth": 0,
                            "ticks": ""
                          }
                        },
                        "type": "scattergeo"
                      }
                    ],
                    "bar": [
                      {
                        "marker": {
                          "line": {
                            "color": "#E5ECF6",
                            "width": 0.5
                          }
                        },
                        "type": "bar",
                        "error_x": {
                          "color": "#2a3f5f"
                        },
                        "error_y": {
                          "color": "#2a3f5f"
                        }
                      }
                    ],
                    "choropleth": [
                      {
                        "colorbar": {
                          "outlinewidth": 0,
                          "ticks": ""
                        },
                        "type": "choropleth"
                      }
                    ],
                    "parcoords": [
                      {
                        "line": {
                          "colorbar": {
                            "outlinewidth": 0,
                            "ticks": ""
                          }
                        },
                        "type": "parcoords"
                      }
                    ],
                    "barpolar": [
                      {
                        "marker": {
                          "line": {
                            "color": "#E5ECF6",
                            "width": 0.5
                          }
                        },
                        "type": "barpolar"
                      }
                    ],
                    "histogram2dcontour": [
                      {
                        "colorbar": {
                          "outlinewidth": 0,
                          "ticks": ""
                        },
                        "type": "histogram2dcontour",
                        "colorscale": [
                          [
                            0,
                            "#0d0887"
                          ],
                          [
                            0.1111111111111111,
                            "#46039f"
                          ],
                          [
                            0.2222222222222222,
                            "#7201a8"
                          ],
                          [
                            0.3333333333333333,
                            "#9c179e"
                          ],
                          [
                            0.4444444444444444,
                            "#bd3786"
                          ],
                          [
                            0.5555555555555556,
                            "#d8576b"
                          ],
                          [
                            0.6666666666666666,
                            "#ed7953"
                          ],
                          [
                            0.7777777777777778,
                            "#fb9f3a"
                          ],
                          [
                            0.8888888888888888,
                            "#fdca26"
                          ],
                          [
                            1,
                            "#f0f921"
                          ]
                        ]
                      }
                    ],
                    "scatter": [
                      {
                        "marker": {
                          "colorbar": {
                            "outlinewidth": 0,
                            "ticks": ""
                          }
                        },
                        "type": "scatter"
                      }
                    ]
                  }
                },
                "title": {
                  "text": "Top 20 trigrams in news",
                  "font": {
                    "color": "#4D5663"
                  }
                },
                "paper_bgcolor": "#F5F6F9",
                "plot_bgcolor": "#F5F6F9",
                "yaxis": {
                  "tickfont": {
                    "color": "#4D5663"
                  },
                  "title": {
                    "text": "Count",
                    "font": {
                      "color": "#4D5663"
                    }
                  },
                  "showgrid": true,
                  "zerolinecolor": "#E1E5ED",
                  "gridcolor": "#E1E5ED",
                  "linecolor": "black"
                },
                "xaxis": {
                  "tickfont": {
                    "color": "#4D5663"
                  },
                  "title": {
                    "text": "",
                    "font": {
                      "color": "#4D5663"
                    }
                  },
                  "showgrid": true,
                  "zerolinecolor": "#E1E5ED",
                  "gridcolor": "#E1E5ED",
                  "linecolor": "black"
                },
                "legend": {
                  "bgcolor": "#F5F6F9",
                  "font": {
                    "color": "#4D5663"
                  }
                }
              }
            }
          },
          "metadata": {
            "tags": []
          }
        }
      ]
    },
    {
      "cell_type": "markdown",
      "metadata": {
        "id": "FZCMO3KBQ4qe"
      },
      "source": [
        "### Subject Count Visualization\n",
        "Visualize Count of News Articles by Subject interactively"
      ]
    },
    {
      "cell_type": "code",
      "metadata": {
        "id": "Wo8CSGb51ZJa",
        "trusted": true
      },
      "source": [
        "import plotly.express as px"
      ],
      "execution_count": null,
      "outputs": []
    },
    {
      "cell_type": "code",
      "metadata": {
        "id": "Uwq3cV0s1Y4L",
        "trusted": true,
        "colab": {
          "base_uri": "https://localhost:8080/",
          "height": 542
        },
        "outputId": "8138e311-6405-4195-809e-9727ed17c8a2"
      },
      "source": [
        "\n",
        "sub_check=combined.groupby('subject').apply(lambda x:x['title'].count()).reset_index(name='Counts')\n",
        "fig=px.bar(sub_check,x='subject',y='Counts',color='Counts',title='Count of News Articles by Subject')\n",
        "fig.show()"
      ],
      "execution_count": null,
      "outputs": [
        {
          "output_type": "display_data",
          "data": {
            "text/html": [
              "<div>\n",
              "        \n",
              "        \n",
              "            <div id=\"ff0cc8e2-2c5e-455a-acba-bd47da3bc27c\" class=\"plotly-graph-div\" style=\"height:525px; width:100%;\"></div>\n",
              "            <script type=\"text/javascript\">\n",
              "                require([\"plotly\"], function(Plotly) {\n",
              "                    window.PLOTLYENV=window.PLOTLYENV || {};\n",
              "                    \n",
              "                if (document.getElementById(\"ff0cc8e2-2c5e-455a-acba-bd47da3bc27c\")) {\n",
              "                    Plotly.newPlot(\n",
              "                        'ff0cc8e2-2c5e-455a-acba-bd47da3bc27c',\n",
              "                        [{\"alignmentgroup\": \"True\", \"hoverlabel\": {\"namelength\": 0}, \"hovertemplate\": \"subject=%{x}<br>Counts=%{marker.color}\", \"legendgroup\": \"\", \"marker\": {\"color\": [1570, 778, 9050, 783, 4459, 6841, 11272, 10145], \"coloraxis\": \"coloraxis\"}, \"name\": \"\", \"offsetgroup\": \"\", \"orientation\": \"v\", \"showlegend\": false, \"textposition\": \"auto\", \"type\": \"bar\", \"x\": [\"Government News\", \"Middle-east\", \"News\", \"US_News\", \"left-news\", \"politics\", \"politicsNews\", \"worldnews\"], \"xaxis\": \"x\", \"y\": [1570, 778, 9050, 783, 4459, 6841, 11272, 10145], \"yaxis\": \"y\"}],\n",
              "                        {\"barmode\": \"relative\", \"coloraxis\": {\"colorbar\": {\"title\": {\"text\": \"Counts\"}}, \"colorscale\": [[0.0, \"#0d0887\"], [0.1111111111111111, \"#46039f\"], [0.2222222222222222, \"#7201a8\"], [0.3333333333333333, \"#9c179e\"], [0.4444444444444444, \"#bd3786\"], [0.5555555555555556, \"#d8576b\"], [0.6666666666666666, \"#ed7953\"], [0.7777777777777778, \"#fb9f3a\"], [0.8888888888888888, \"#fdca26\"], [1.0, \"#f0f921\"]]}, \"legend\": {\"tracegroupgap\": 0}, \"template\": {\"data\": {\"bar\": [{\"error_x\": {\"color\": \"#2a3f5f\"}, \"error_y\": {\"color\": \"#2a3f5f\"}, \"marker\": {\"line\": {\"color\": \"#E5ECF6\", \"width\": 0.5}}, \"type\": \"bar\"}], \"barpolar\": [{\"marker\": {\"line\": {\"color\": \"#E5ECF6\", \"width\": 0.5}}, \"type\": \"barpolar\"}], \"carpet\": [{\"aaxis\": {\"endlinecolor\": \"#2a3f5f\", \"gridcolor\": \"white\", \"linecolor\": \"white\", \"minorgridcolor\": \"white\", \"startlinecolor\": \"#2a3f5f\"}, \"baxis\": {\"endlinecolor\": \"#2a3f5f\", \"gridcolor\": \"white\", \"linecolor\": \"white\", \"minorgridcolor\": \"white\", \"startlinecolor\": \"#2a3f5f\"}, \"type\": \"carpet\"}], \"choropleth\": [{\"colorbar\": {\"outlinewidth\": 0, \"ticks\": \"\"}, \"type\": \"choropleth\"}], \"contour\": [{\"colorbar\": {\"outlinewidth\": 0, \"ticks\": \"\"}, \"colorscale\": [[0.0, \"#0d0887\"], [0.1111111111111111, \"#46039f\"], [0.2222222222222222, \"#7201a8\"], [0.3333333333333333, \"#9c179e\"], [0.4444444444444444, \"#bd3786\"], [0.5555555555555556, \"#d8576b\"], [0.6666666666666666, \"#ed7953\"], [0.7777777777777778, \"#fb9f3a\"], [0.8888888888888888, \"#fdca26\"], [1.0, \"#f0f921\"]], \"type\": \"contour\"}], \"contourcarpet\": [{\"colorbar\": {\"outlinewidth\": 0, \"ticks\": \"\"}, \"type\": \"contourcarpet\"}], \"heatmap\": [{\"colorbar\": {\"outlinewidth\": 0, \"ticks\": \"\"}, \"colorscale\": [[0.0, \"#0d0887\"], [0.1111111111111111, \"#46039f\"], [0.2222222222222222, \"#7201a8\"], [0.3333333333333333, \"#9c179e\"], [0.4444444444444444, \"#bd3786\"], [0.5555555555555556, \"#d8576b\"], [0.6666666666666666, \"#ed7953\"], [0.7777777777777778, \"#fb9f3a\"], [0.8888888888888888, \"#fdca26\"], [1.0, \"#f0f921\"]], \"type\": \"heatmap\"}], \"heatmapgl\": [{\"colorbar\": {\"outlinewidth\": 0, \"ticks\": \"\"}, \"colorscale\": [[0.0, \"#0d0887\"], [0.1111111111111111, \"#46039f\"], [0.2222222222222222, \"#7201a8\"], [0.3333333333333333, \"#9c179e\"], [0.4444444444444444, \"#bd3786\"], [0.5555555555555556, \"#d8576b\"], [0.6666666666666666, \"#ed7953\"], [0.7777777777777778, \"#fb9f3a\"], [0.8888888888888888, \"#fdca26\"], [1.0, \"#f0f921\"]], \"type\": \"heatmapgl\"}], \"histogram\": [{\"marker\": {\"colorbar\": {\"outlinewidth\": 0, \"ticks\": \"\"}}, \"type\": \"histogram\"}], \"histogram2d\": [{\"colorbar\": {\"outlinewidth\": 0, \"ticks\": \"\"}, \"colorscale\": [[0.0, \"#0d0887\"], [0.1111111111111111, \"#46039f\"], [0.2222222222222222, \"#7201a8\"], [0.3333333333333333, \"#9c179e\"], [0.4444444444444444, \"#bd3786\"], [0.5555555555555556, \"#d8576b\"], [0.6666666666666666, \"#ed7953\"], [0.7777777777777778, \"#fb9f3a\"], [0.8888888888888888, \"#fdca26\"], [1.0, \"#f0f921\"]], \"type\": \"histogram2d\"}], \"histogram2dcontour\": [{\"colorbar\": {\"outlinewidth\": 0, \"ticks\": \"\"}, \"colorscale\": [[0.0, \"#0d0887\"], [0.1111111111111111, \"#46039f\"], [0.2222222222222222, \"#7201a8\"], [0.3333333333333333, \"#9c179e\"], [0.4444444444444444, \"#bd3786\"], [0.5555555555555556, \"#d8576b\"], [0.6666666666666666, \"#ed7953\"], [0.7777777777777778, \"#fb9f3a\"], [0.8888888888888888, \"#fdca26\"], [1.0, \"#f0f921\"]], \"type\": \"histogram2dcontour\"}], \"mesh3d\": [{\"colorbar\": {\"outlinewidth\": 0, \"ticks\": \"\"}, \"type\": \"mesh3d\"}], \"parcoords\": [{\"line\": {\"colorbar\": {\"outlinewidth\": 0, \"ticks\": \"\"}}, \"type\": \"parcoords\"}], \"pie\": [{\"automargin\": true, \"type\": \"pie\"}], \"scatter\": [{\"marker\": {\"colorbar\": {\"outlinewidth\": 0, \"ticks\": \"\"}}, \"type\": \"scatter\"}], \"scatter3d\": [{\"line\": {\"colorbar\": {\"outlinewidth\": 0, \"ticks\": \"\"}}, \"marker\": {\"colorbar\": {\"outlinewidth\": 0, \"ticks\": \"\"}}, \"type\": \"scatter3d\"}], \"scattercarpet\": [{\"marker\": {\"colorbar\": {\"outlinewidth\": 0, \"ticks\": \"\"}}, \"type\": \"scattercarpet\"}], \"scattergeo\": [{\"marker\": {\"colorbar\": {\"outlinewidth\": 0, \"ticks\": \"\"}}, \"type\": \"scattergeo\"}], \"scattergl\": [{\"marker\": {\"colorbar\": {\"outlinewidth\": 0, \"ticks\": \"\"}}, \"type\": \"scattergl\"}], \"scattermapbox\": [{\"marker\": {\"colorbar\": {\"outlinewidth\": 0, \"ticks\": \"\"}}, \"type\": \"scattermapbox\"}], \"scatterpolar\": [{\"marker\": {\"colorbar\": {\"outlinewidth\": 0, \"ticks\": \"\"}}, \"type\": \"scatterpolar\"}], \"scatterpolargl\": [{\"marker\": {\"colorbar\": {\"outlinewidth\": 0, \"ticks\": \"\"}}, \"type\": \"scatterpolargl\"}], \"scatterternary\": [{\"marker\": {\"colorbar\": {\"outlinewidth\": 0, \"ticks\": \"\"}}, \"type\": \"scatterternary\"}], \"surface\": [{\"colorbar\": {\"outlinewidth\": 0, \"ticks\": \"\"}, \"colorscale\": [[0.0, \"#0d0887\"], [0.1111111111111111, \"#46039f\"], [0.2222222222222222, \"#7201a8\"], [0.3333333333333333, \"#9c179e\"], [0.4444444444444444, \"#bd3786\"], [0.5555555555555556, \"#d8576b\"], [0.6666666666666666, \"#ed7953\"], [0.7777777777777778, \"#fb9f3a\"], [0.8888888888888888, \"#fdca26\"], [1.0, \"#f0f921\"]], \"type\": \"surface\"}], \"table\": [{\"cells\": {\"fill\": {\"color\": \"#EBF0F8\"}, \"line\": {\"color\": \"white\"}}, \"header\": {\"fill\": {\"color\": \"#C8D4E3\"}, \"line\": {\"color\": \"white\"}}, \"type\": \"table\"}]}, \"layout\": {\"annotationdefaults\": {\"arrowcolor\": \"#2a3f5f\", \"arrowhead\": 0, \"arrowwidth\": 1}, \"coloraxis\": {\"colorbar\": {\"outlinewidth\": 0, \"ticks\": \"\"}}, \"colorscale\": {\"diverging\": [[0, \"#8e0152\"], [0.1, \"#c51b7d\"], [0.2, \"#de77ae\"], [0.3, \"#f1b6da\"], [0.4, \"#fde0ef\"], [0.5, \"#f7f7f7\"], [0.6, \"#e6f5d0\"], [0.7, \"#b8e186\"], [0.8, \"#7fbc41\"], [0.9, \"#4d9221\"], [1, \"#276419\"]], \"sequential\": [[0.0, \"#0d0887\"], [0.1111111111111111, \"#46039f\"], [0.2222222222222222, \"#7201a8\"], [0.3333333333333333, \"#9c179e\"], [0.4444444444444444, \"#bd3786\"], [0.5555555555555556, \"#d8576b\"], [0.6666666666666666, \"#ed7953\"], [0.7777777777777778, \"#fb9f3a\"], [0.8888888888888888, \"#fdca26\"], [1.0, \"#f0f921\"]], \"sequentialminus\": [[0.0, \"#0d0887\"], [0.1111111111111111, \"#46039f\"], [0.2222222222222222, \"#7201a8\"], [0.3333333333333333, \"#9c179e\"], [0.4444444444444444, \"#bd3786\"], [0.5555555555555556, \"#d8576b\"], [0.6666666666666666, \"#ed7953\"], [0.7777777777777778, \"#fb9f3a\"], [0.8888888888888888, \"#fdca26\"], [1.0, \"#f0f921\"]]}, \"colorway\": [\"#636efa\", \"#EF553B\", \"#00cc96\", \"#ab63fa\", \"#FFA15A\", \"#19d3f3\", \"#FF6692\", \"#B6E880\", \"#FF97FF\", \"#FECB52\"], \"font\": {\"color\": \"#2a3f5f\"}, \"geo\": {\"bgcolor\": \"white\", \"lakecolor\": \"white\", \"landcolor\": \"#E5ECF6\", \"showlakes\": true, \"showland\": true, \"subunitcolor\": \"white\"}, \"hoverlabel\": {\"align\": \"left\"}, \"hovermode\": \"closest\", \"mapbox\": {\"style\": \"light\"}, \"paper_bgcolor\": \"white\", \"plot_bgcolor\": \"#E5ECF6\", \"polar\": {\"angularaxis\": {\"gridcolor\": \"white\", \"linecolor\": \"white\", \"ticks\": \"\"}, \"bgcolor\": \"#E5ECF6\", \"radialaxis\": {\"gridcolor\": \"white\", \"linecolor\": \"white\", \"ticks\": \"\"}}, \"scene\": {\"xaxis\": {\"backgroundcolor\": \"#E5ECF6\", \"gridcolor\": \"white\", \"gridwidth\": 2, \"linecolor\": \"white\", \"showbackground\": true, \"ticks\": \"\", \"zerolinecolor\": \"white\"}, \"yaxis\": {\"backgroundcolor\": \"#E5ECF6\", \"gridcolor\": \"white\", \"gridwidth\": 2, \"linecolor\": \"white\", \"showbackground\": true, \"ticks\": \"\", \"zerolinecolor\": \"white\"}, \"zaxis\": {\"backgroundcolor\": \"#E5ECF6\", \"gridcolor\": \"white\", \"gridwidth\": 2, \"linecolor\": \"white\", \"showbackground\": true, \"ticks\": \"\", \"zerolinecolor\": \"white\"}}, \"shapedefaults\": {\"line\": {\"color\": \"#2a3f5f\"}}, \"ternary\": {\"aaxis\": {\"gridcolor\": \"white\", \"linecolor\": \"white\", \"ticks\": \"\"}, \"baxis\": {\"gridcolor\": \"white\", \"linecolor\": \"white\", \"ticks\": \"\"}, \"bgcolor\": \"#E5ECF6\", \"caxis\": {\"gridcolor\": \"white\", \"linecolor\": \"white\", \"ticks\": \"\"}}, \"title\": {\"x\": 0.05}, \"xaxis\": {\"automargin\": true, \"gridcolor\": \"white\", \"linecolor\": \"white\", \"ticks\": \"\", \"title\": {\"standoff\": 15}, \"zerolinecolor\": \"white\", \"zerolinewidth\": 2}, \"yaxis\": {\"automargin\": true, \"gridcolor\": \"white\", \"linecolor\": \"white\", \"ticks\": \"\", \"title\": {\"standoff\": 15}, \"zerolinecolor\": \"white\", \"zerolinewidth\": 2}}}, \"title\": {\"text\": \"Count of News Articles by Subject\"}, \"xaxis\": {\"anchor\": \"y\", \"domain\": [0.0, 1.0], \"title\": {\"text\": \"subject\"}}, \"yaxis\": {\"anchor\": \"x\", \"domain\": [0.0, 1.0], \"title\": {\"text\": \"Counts\"}}},\n",
              "                        {\"responsive\": true}\n",
              "                    ).then(function(){\n",
              "                            \n",
              "var gd = document.getElementById('ff0cc8e2-2c5e-455a-acba-bd47da3bc27c');\n",
              "var x = new MutationObserver(function (mutations, observer) {{\n",
              "        var display = window.getComputedStyle(gd).display;\n",
              "        if (!display || display === 'none') {{\n",
              "            console.log([gd, 'removed!']);\n",
              "            Plotly.purge(gd);\n",
              "            observer.disconnect();\n",
              "        }}\n",
              "}});\n",
              "\n",
              "// Listen for the removal of the full notebook cells\n",
              "var notebookContainer = gd.closest('#notebook-container');\n",
              "if (notebookContainer) {{\n",
              "    x.observe(notebookContainer, {childList: true});\n",
              "}}\n",
              "\n",
              "// Listen for the clearing of the current output cell\n",
              "var outputEl = gd.closest('.output');\n",
              "if (outputEl) {{\n",
              "    x.observe(outputEl, {childList: true});\n",
              "}}\n",
              "\n",
              "                        })\n",
              "                };\n",
              "                });\n",
              "            </script>\n",
              "        </div>"
            ],
            "application/vnd.plotly.v1+json": {
              "data": [
                {
                  "textposition": "auto",
                  "hovertemplate": "subject=%{x}<br>Counts=%{marker.color}",
                  "showlegend": false,
                  "legendgroup": "",
                  "name": "",
                  "yaxis": "y",
                  "y": [
                    1570,
                    778,
                    9050,
                    783,
                    4459,
                    6841,
                    11272,
                    10145
                  ],
                  "hoverlabel": {
                    "namelength": 0
                  },
                  "offsetgroup": "",
                  "xaxis": "x",
                  "marker": {
                    "color": [
                      1570,
                      778,
                      9050,
                      783,
                      4459,
                      6841,
                      11272,
                      10145
                    ],
                    "coloraxis": "coloraxis"
                  },
                  "x": [
                    "Government News",
                    "Middle-east",
                    "News",
                    "US_News",
                    "left-news",
                    "politics",
                    "politicsNews",
                    "worldnews"
                  ],
                  "alignmentgroup": "True",
                  "type": "bar",
                  "orientation": "v"
                }
              ],
              "config": {
                "plotlyServerURL": "https://plot.ly"
              },
              "layout": {
                "template": {
                  "layout": {
                    "shapedefaults": {
                      "line": {
                        "color": "#2a3f5f"
                      }
                    },
                    "polar": {
                      "radialaxis": {
                        "ticks": "",
                        "gridcolor": "white",
                        "linecolor": "white"
                      },
                      "bgcolor": "#E5ECF6",
                      "angularaxis": {
                        "ticks": "",
                        "gridcolor": "white",
                        "linecolor": "white"
                      }
                    },
                    "colorway": [
                      "#636efa",
                      "#EF553B",
                      "#00cc96",
                      "#ab63fa",
                      "#FFA15A",
                      "#19d3f3",
                      "#FF6692",
                      "#B6E880",
                      "#FF97FF",
                      "#FECB52"
                    ],
                    "xaxis": {
                      "automargin": true,
                      "title": {
                        "standoff": 15
                      },
                      "zerolinewidth": 2,
                      "ticks": "",
                      "zerolinecolor": "white",
                      "gridcolor": "white",
                      "linecolor": "white"
                    },
                    "colorscale": {
                      "diverging": [
                        [
                          0,
                          "#8e0152"
                        ],
                        [
                          0.1,
                          "#c51b7d"
                        ],
                        [
                          0.2,
                          "#de77ae"
                        ],
                        [
                          0.3,
                          "#f1b6da"
                        ],
                        [
                          0.4,
                          "#fde0ef"
                        ],
                        [
                          0.5,
                          "#f7f7f7"
                        ],
                        [
                          0.6,
                          "#e6f5d0"
                        ],
                        [
                          0.7,
                          "#b8e186"
                        ],
                        [
                          0.8,
                          "#7fbc41"
                        ],
                        [
                          0.9,
                          "#4d9221"
                        ],
                        [
                          1,
                          "#276419"
                        ]
                      ],
                      "sequential": [
                        [
                          0,
                          "#0d0887"
                        ],
                        [
                          0.1111111111111111,
                          "#46039f"
                        ],
                        [
                          0.2222222222222222,
                          "#7201a8"
                        ],
                        [
                          0.3333333333333333,
                          "#9c179e"
                        ],
                        [
                          0.4444444444444444,
                          "#bd3786"
                        ],
                        [
                          0.5555555555555556,
                          "#d8576b"
                        ],
                        [
                          0.6666666666666666,
                          "#ed7953"
                        ],
                        [
                          0.7777777777777778,
                          "#fb9f3a"
                        ],
                        [
                          0.8888888888888888,
                          "#fdca26"
                        ],
                        [
                          1,
                          "#f0f921"
                        ]
                      ],
                      "sequentialminus": [
                        [
                          0,
                          "#0d0887"
                        ],
                        [
                          0.1111111111111111,
                          "#46039f"
                        ],
                        [
                          0.2222222222222222,
                          "#7201a8"
                        ],
                        [
                          0.3333333333333333,
                          "#9c179e"
                        ],
                        [
                          0.4444444444444444,
                          "#bd3786"
                        ],
                        [
                          0.5555555555555556,
                          "#d8576b"
                        ],
                        [
                          0.6666666666666666,
                          "#ed7953"
                        ],
                        [
                          0.7777777777777778,
                          "#fb9f3a"
                        ],
                        [
                          0.8888888888888888,
                          "#fdca26"
                        ],
                        [
                          1,
                          "#f0f921"
                        ]
                      ]
                    },
                    "paper_bgcolor": "white",
                    "plot_bgcolor": "#E5ECF6",
                    "title": {
                      "x": 0.05
                    },
                    "scene": {
                      "zaxis": {
                        "backgroundcolor": "#E5ECF6",
                        "ticks": "",
                        "gridwidth": 2,
                        "showbackground": true,
                        "zerolinecolor": "white",
                        "gridcolor": "white",
                        "linecolor": "white"
                      },
                      "xaxis": {
                        "backgroundcolor": "#E5ECF6",
                        "ticks": "",
                        "gridwidth": 2,
                        "showbackground": true,
                        "zerolinecolor": "white",
                        "gridcolor": "white",
                        "linecolor": "white"
                      },
                      "yaxis": {
                        "backgroundcolor": "#E5ECF6",
                        "ticks": "",
                        "gridwidth": 2,
                        "showbackground": true,
                        "zerolinecolor": "white",
                        "gridcolor": "white",
                        "linecolor": "white"
                      }
                    },
                    "yaxis": {
                      "automargin": true,
                      "title": {
                        "standoff": 15
                      },
                      "zerolinewidth": 2,
                      "ticks": "",
                      "zerolinecolor": "white",
                      "gridcolor": "white",
                      "linecolor": "white"
                    },
                    "annotationdefaults": {
                      "arrowwidth": 1,
                      "arrowhead": 0,
                      "arrowcolor": "#2a3f5f"
                    },
                    "hoverlabel": {
                      "align": "left"
                    },
                    "ternary": {
                      "bgcolor": "#E5ECF6",
                      "baxis": {
                        "ticks": "",
                        "gridcolor": "white",
                        "linecolor": "white"
                      },
                      "caxis": {
                        "ticks": "",
                        "gridcolor": "white",
                        "linecolor": "white"
                      },
                      "aaxis": {
                        "ticks": "",
                        "gridcolor": "white",
                        "linecolor": "white"
                      }
                    },
                    "mapbox": {
                      "style": "light"
                    },
                    "hovermode": "closest",
                    "font": {
                      "color": "#2a3f5f"
                    },
                    "geo": {
                      "showland": true,
                      "landcolor": "#E5ECF6",
                      "showlakes": true,
                      "bgcolor": "white",
                      "subunitcolor": "white",
                      "lakecolor": "white"
                    },
                    "coloraxis": {
                      "colorbar": {
                        "outlinewidth": 0,
                        "ticks": ""
                      }
                    }
                  },
                  "data": {
                    "mesh3d": [
                      {
                        "colorbar": {
                          "outlinewidth": 0,
                          "ticks": ""
                        },
                        "type": "mesh3d"
                      }
                    ],
                    "scattercarpet": [
                      {
                        "marker": {
                          "colorbar": {
                            "outlinewidth": 0,
                            "ticks": ""
                          }
                        },
                        "type": "scattercarpet"
                      }
                    ],
                    "pie": [
                      {
                        "automargin": true,
                        "type": "pie"
                      }
                    ],
                    "surface": [
                      {
                        "colorbar": {
                          "outlinewidth": 0,
                          "ticks": ""
                        },
                        "type": "surface",
                        "colorscale": [
                          [
                            0,
                            "#0d0887"
                          ],
                          [
                            0.1111111111111111,
                            "#46039f"
                          ],
                          [
                            0.2222222222222222,
                            "#7201a8"
                          ],
                          [
                            0.3333333333333333,
                            "#9c179e"
                          ],
                          [
                            0.4444444444444444,
                            "#bd3786"
                          ],
                          [
                            0.5555555555555556,
                            "#d8576b"
                          ],
                          [
                            0.6666666666666666,
                            "#ed7953"
                          ],
                          [
                            0.7777777777777778,
                            "#fb9f3a"
                          ],
                          [
                            0.8888888888888888,
                            "#fdca26"
                          ],
                          [
                            1,
                            "#f0f921"
                          ]
                        ]
                      }
                    ],
                    "table": [
                      {
                        "header": {
                          "line": {
                            "color": "white"
                          },
                          "fill": {
                            "color": "#C8D4E3"
                          }
                        },
                        "cells": {
                          "line": {
                            "color": "white"
                          },
                          "fill": {
                            "color": "#EBF0F8"
                          }
                        },
                        "type": "table"
                      }
                    ],
                    "scatterpolargl": [
                      {
                        "marker": {
                          "colorbar": {
                            "outlinewidth": 0,
                            "ticks": ""
                          }
                        },
                        "type": "scatterpolargl"
                      }
                    ],
                    "contour": [
                      {
                        "colorbar": {
                          "outlinewidth": 0,
                          "ticks": ""
                        },
                        "type": "contour",
                        "colorscale": [
                          [
                            0,
                            "#0d0887"
                          ],
                          [
                            0.1111111111111111,
                            "#46039f"
                          ],
                          [
                            0.2222222222222222,
                            "#7201a8"
                          ],
                          [
                            0.3333333333333333,
                            "#9c179e"
                          ],
                          [
                            0.4444444444444444,
                            "#bd3786"
                          ],
                          [
                            0.5555555555555556,
                            "#d8576b"
                          ],
                          [
                            0.6666666666666666,
                            "#ed7953"
                          ],
                          [
                            0.7777777777777778,
                            "#fb9f3a"
                          ],
                          [
                            0.8888888888888888,
                            "#fdca26"
                          ],
                          [
                            1,
                            "#f0f921"
                          ]
                        ]
                      }
                    ],
                    "carpet": [
                      {
                        "type": "carpet",
                        "baxis": {
                          "minorgridcolor": "white",
                          "gridcolor": "white",
                          "linecolor": "white",
                          "endlinecolor": "#2a3f5f",
                          "startlinecolor": "#2a3f5f"
                        },
                        "aaxis": {
                          "minorgridcolor": "white",
                          "gridcolor": "white",
                          "linecolor": "white",
                          "endlinecolor": "#2a3f5f",
                          "startlinecolor": "#2a3f5f"
                        }
                      }
                    ],
                    "contourcarpet": [
                      {
                        "colorbar": {
                          "outlinewidth": 0,
                          "ticks": ""
                        },
                        "type": "contourcarpet"
                      }
                    ],
                    "heatmap": [
                      {
                        "colorbar": {
                          "outlinewidth": 0,
                          "ticks": ""
                        },
                        "type": "heatmap",
                        "colorscale": [
                          [
                            0,
                            "#0d0887"
                          ],
                          [
                            0.1111111111111111,
                            "#46039f"
                          ],
                          [
                            0.2222222222222222,
                            "#7201a8"
                          ],
                          [
                            0.3333333333333333,
                            "#9c179e"
                          ],
                          [
                            0.4444444444444444,
                            "#bd3786"
                          ],
                          [
                            0.5555555555555556,
                            "#d8576b"
                          ],
                          [
                            0.6666666666666666,
                            "#ed7953"
                          ],
                          [
                            0.7777777777777778,
                            "#fb9f3a"
                          ],
                          [
                            0.8888888888888888,
                            "#fdca26"
                          ],
                          [
                            1,
                            "#f0f921"
                          ]
                        ]
                      }
                    ],
                    "scattermapbox": [
                      {
                        "marker": {
                          "colorbar": {
                            "outlinewidth": 0,
                            "ticks": ""
                          }
                        },
                        "type": "scattermapbox"
                      }
                    ],
                    "scatter3d": [
                      {
                        "marker": {
                          "colorbar": {
                            "outlinewidth": 0,
                            "ticks": ""
                          }
                        },
                        "line": {
                          "colorbar": {
                            "outlinewidth": 0,
                            "ticks": ""
                          }
                        },
                        "type": "scatter3d"
                      }
                    ],
                    "scattergl": [
                      {
                        "marker": {
                          "colorbar": {
                            "outlinewidth": 0,
                            "ticks": ""
                          }
                        },
                        "type": "scattergl"
                      }
                    ],
                    "scatterternary": [
                      {
                        "marker": {
                          "colorbar": {
                            "outlinewidth": 0,
                            "ticks": ""
                          }
                        },
                        "type": "scatterternary"
                      }
                    ],
                    "histogram": [
                      {
                        "marker": {
                          "colorbar": {
                            "outlinewidth": 0,
                            "ticks": ""
                          }
                        },
                        "type": "histogram"
                      }
                    ],
                    "heatmapgl": [
                      {
                        "colorbar": {
                          "outlinewidth": 0,
                          "ticks": ""
                        },
                        "type": "heatmapgl",
                        "colorscale": [
                          [
                            0,
                            "#0d0887"
                          ],
                          [
                            0.1111111111111111,
                            "#46039f"
                          ],
                          [
                            0.2222222222222222,
                            "#7201a8"
                          ],
                          [
                            0.3333333333333333,
                            "#9c179e"
                          ],
                          [
                            0.4444444444444444,
                            "#bd3786"
                          ],
                          [
                            0.5555555555555556,
                            "#d8576b"
                          ],
                          [
                            0.6666666666666666,
                            "#ed7953"
                          ],
                          [
                            0.7777777777777778,
                            "#fb9f3a"
                          ],
                          [
                            0.8888888888888888,
                            "#fdca26"
                          ],
                          [
                            1,
                            "#f0f921"
                          ]
                        ]
                      }
                    ],
                    "scatterpolar": [
                      {
                        "marker": {
                          "colorbar": {
                            "outlinewidth": 0,
                            "ticks": ""
                          }
                        },
                        "type": "scatterpolar"
                      }
                    ],
                    "histogram2d": [
                      {
                        "colorbar": {
                          "outlinewidth": 0,
                          "ticks": ""
                        },
                        "type": "histogram2d",
                        "colorscale": [
                          [
                            0,
                            "#0d0887"
                          ],
                          [
                            0.1111111111111111,
                            "#46039f"
                          ],
                          [
                            0.2222222222222222,
                            "#7201a8"
                          ],
                          [
                            0.3333333333333333,
                            "#9c179e"
                          ],
                          [
                            0.4444444444444444,
                            "#bd3786"
                          ],
                          [
                            0.5555555555555556,
                            "#d8576b"
                          ],
                          [
                            0.6666666666666666,
                            "#ed7953"
                          ],
                          [
                            0.7777777777777778,
                            "#fb9f3a"
                          ],
                          [
                            0.8888888888888888,
                            "#fdca26"
                          ],
                          [
                            1,
                            "#f0f921"
                          ]
                        ]
                      }
                    ],
                    "scattergeo": [
                      {
                        "marker": {
                          "colorbar": {
                            "outlinewidth": 0,
                            "ticks": ""
                          }
                        },
                        "type": "scattergeo"
                      }
                    ],
                    "bar": [
                      {
                        "marker": {
                          "line": {
                            "color": "#E5ECF6",
                            "width": 0.5
                          }
                        },
                        "type": "bar",
                        "error_x": {
                          "color": "#2a3f5f"
                        },
                        "error_y": {
                          "color": "#2a3f5f"
                        }
                      }
                    ],
                    "choropleth": [
                      {
                        "colorbar": {
                          "outlinewidth": 0,
                          "ticks": ""
                        },
                        "type": "choropleth"
                      }
                    ],
                    "parcoords": [
                      {
                        "line": {
                          "colorbar": {
                            "outlinewidth": 0,
                            "ticks": ""
                          }
                        },
                        "type": "parcoords"
                      }
                    ],
                    "barpolar": [
                      {
                        "marker": {
                          "line": {
                            "color": "#E5ECF6",
                            "width": 0.5
                          }
                        },
                        "type": "barpolar"
                      }
                    ],
                    "histogram2dcontour": [
                      {
                        "colorbar": {
                          "outlinewidth": 0,
                          "ticks": ""
                        },
                        "type": "histogram2dcontour",
                        "colorscale": [
                          [
                            0,
                            "#0d0887"
                          ],
                          [
                            0.1111111111111111,
                            "#46039f"
                          ],
                          [
                            0.2222222222222222,
                            "#7201a8"
                          ],
                          [
                            0.3333333333333333,
                            "#9c179e"
                          ],
                          [
                            0.4444444444444444,
                            "#bd3786"
                          ],
                          [
                            0.5555555555555556,
                            "#d8576b"
                          ],
                          [
                            0.6666666666666666,
                            "#ed7953"
                          ],
                          [
                            0.7777777777777778,
                            "#fb9f3a"
                          ],
                          [
                            0.8888888888888888,
                            "#fdca26"
                          ],
                          [
                            1,
                            "#f0f921"
                          ]
                        ]
                      }
                    ],
                    "scatter": [
                      {
                        "marker": {
                          "colorbar": {
                            "outlinewidth": 0,
                            "ticks": ""
                          }
                        },
                        "type": "scatter"
                      }
                    ]
                  }
                },
                "title": {
                  "text": "Count of News Articles by Subject"
                },
                "yaxis": {
                  "domain": [
                    0,
                    1
                  ],
                  "anchor": "x",
                  "title": {
                    "text": "Counts"
                  }
                },
                "barmode": "relative",
                "xaxis": {
                  "domain": [
                    0,
                    1
                  ],
                  "anchor": "y",
                  "title": {
                    "text": "subject"
                  }
                },
                "legend": {
                  "tracegroupgap": 0
                },
                "coloraxis": {
                  "colorbar": {
                    "title": {
                      "text": "Counts"
                    }
                  },
                  "colorscale": [
                    [
                      0,
                      "#0d0887"
                    ],
                    [
                      0.1111111111111111,
                      "#46039f"
                    ],
                    [
                      0.2222222222222222,
                      "#7201a8"
                    ],
                    [
                      0.3333333333333333,
                      "#9c179e"
                    ],
                    [
                      0.4444444444444444,
                      "#bd3786"
                    ],
                    [
                      0.5555555555555556,
                      "#d8576b"
                    ],
                    [
                      0.6666666666666666,
                      "#ed7953"
                    ],
                    [
                      0.7777777777777778,
                      "#fb9f3a"
                    ],
                    [
                      0.8888888888888888,
                      "#fdca26"
                    ],
                    [
                      1,
                      "#f0f921"
                    ]
                  ]
                }
              }
            }
          },
          "metadata": {
            "tags": []
          }
        }
      ]
    },
    {
      "cell_type": "markdown",
      "metadata": {
        "id": "Zb6JavDOKN4I"
      },
      "source": [
        "Before we run our data through the networks, we need to ensure the subjects between datasets are unified. Otherwise, it will simply learn the subjects and not properly classify the articles based on truth."
      ]
    },
    {
      "cell_type": "code",
      "metadata": {
        "id": "vIkvFCkjMN4g",
        "trusted": true,
        "colab": {
          "base_uri": "https://localhost:8080/"
        },
        "outputId": "6116c79c-9026-4359-e6c5-1c9884093c78"
      },
      "source": [
        "combined[combined['truth'] == 1]['subject'].value_counts()"
      ],
      "execution_count": null,
      "outputs": [
        {
          "output_type": "execute_result",
          "data": {
            "text/plain": [
              "politicsNews    11272\n",
              "worldnews       10145\n",
              "Name: subject, dtype: int64"
            ]
          },
          "metadata": {
            "tags": []
          },
          "execution_count": 21
        }
      ]
    },
    {
      "cell_type": "code",
      "metadata": {
        "colab": {
          "base_uri": "https://localhost:8080/"
        },
        "id": "CAb_dZLqaZTY",
        "outputId": "5fba9fed-9d62-4080-922b-822ff159c6fa"
      },
      "source": [
        "combined[combined['truth'] == 0]['subject'].value_counts()"
      ],
      "execution_count": null,
      "outputs": [
        {
          "output_type": "execute_result",
          "data": {
            "text/plain": [
              "News               9050\n",
              "politics           6841\n",
              "left-news          4459\n",
              "Government News    1570\n",
              "US_News             783\n",
              "Middle-east         778\n",
              "Name: subject, dtype: int64"
            ]
          },
          "metadata": {
            "tags": []
          },
          "execution_count": 22
        }
      ]
    },
    {
      "cell_type": "code",
      "metadata": {
        "id": "c43qRMBPMdAO",
        "trusted": true
      },
      "source": [
        "combined = combined.replace({'politicsNews': 'politics'}, regex=True)\n",
        "combined = combined.replace({'left-news': 'politics'}, regex=True)\n",
        "combined = combined.replace({'Government News': 'politics'}, regex=True)\n",
        "combined = combined.replace({'US_News': 'worldnews'}, regex=True)\n",
        "combined = combined.replace({'Middle-east': 'worldnews'}, regex=True)\n",
        "combined = combined.replace({'News': 'worldnews'}, regex=True)"
      ],
      "execution_count": null,
      "outputs": []
    },
    {
      "cell_type": "markdown",
      "metadata": {
        "id": "nY8qpatgRNoY"
      },
      "source": [
        "Visualize Count of News Articles with two category"
      ]
    },
    {
      "cell_type": "code",
      "metadata": {
        "id": "STdOvgRV6KSq",
        "trusted": true,
        "colab": {
          "base_uri": "https://localhost:8080/",
          "height": 542
        },
        "outputId": "ba97cf46-35dc-44b2-e543-5259db4a2532"
      },
      "source": [
        "sub_check=combined.groupby( 'subject').apply(lambda x:x['title'].count()).reset_index(name='Counts')\n",
        "fig=px.bar(sub_check,x='subject',y='Counts',color='Counts',title='Count of News Articles with two category',width=500)\n",
        "fig.show()"
      ],
      "execution_count": null,
      "outputs": [
        {
          "output_type": "display_data",
          "data": {
            "text/html": [
              "<div>\n",
              "        \n",
              "        \n",
              "            <div id=\"63acaa53-0643-41c0-95a7-ee86368d8045\" class=\"plotly-graph-div\" style=\"height:525px; width:500px;\"></div>\n",
              "            <script type=\"text/javascript\">\n",
              "                require([\"plotly\"], function(Plotly) {\n",
              "                    window.PLOTLYENV=window.PLOTLYENV || {};\n",
              "                    \n",
              "                if (document.getElementById(\"63acaa53-0643-41c0-95a7-ee86368d8045\")) {\n",
              "                    Plotly.newPlot(\n",
              "                        '63acaa53-0643-41c0-95a7-ee86368d8045',\n",
              "                        [{\"alignmentgroup\": \"True\", \"hoverlabel\": {\"namelength\": 0}, \"hovertemplate\": \"subject=%{x}<br>Counts=%{marker.color}\", \"legendgroup\": \"\", \"marker\": {\"color\": [24142, 20756], \"coloraxis\": \"coloraxis\"}, \"name\": \"\", \"offsetgroup\": \"\", \"orientation\": \"v\", \"showlegend\": false, \"textposition\": \"auto\", \"type\": \"bar\", \"x\": [\"politics\", \"worldnews\"], \"xaxis\": \"x\", \"y\": [24142, 20756], \"yaxis\": \"y\"}],\n",
              "                        {\"barmode\": \"relative\", \"coloraxis\": {\"colorbar\": {\"title\": {\"text\": \"Counts\"}}, \"colorscale\": [[0.0, \"#0d0887\"], [0.1111111111111111, \"#46039f\"], [0.2222222222222222, \"#7201a8\"], [0.3333333333333333, \"#9c179e\"], [0.4444444444444444, \"#bd3786\"], [0.5555555555555556, \"#d8576b\"], [0.6666666666666666, \"#ed7953\"], [0.7777777777777778, \"#fb9f3a\"], [0.8888888888888888, \"#fdca26\"], [1.0, \"#f0f921\"]]}, \"legend\": {\"tracegroupgap\": 0}, \"template\": {\"data\": {\"bar\": [{\"error_x\": {\"color\": \"#2a3f5f\"}, \"error_y\": {\"color\": \"#2a3f5f\"}, \"marker\": {\"line\": {\"color\": \"#E5ECF6\", \"width\": 0.5}}, \"type\": \"bar\"}], \"barpolar\": [{\"marker\": {\"line\": {\"color\": \"#E5ECF6\", \"width\": 0.5}}, \"type\": \"barpolar\"}], \"carpet\": [{\"aaxis\": {\"endlinecolor\": \"#2a3f5f\", \"gridcolor\": \"white\", \"linecolor\": \"white\", \"minorgridcolor\": \"white\", \"startlinecolor\": \"#2a3f5f\"}, \"baxis\": {\"endlinecolor\": \"#2a3f5f\", \"gridcolor\": \"white\", \"linecolor\": \"white\", \"minorgridcolor\": \"white\", \"startlinecolor\": \"#2a3f5f\"}, \"type\": \"carpet\"}], \"choropleth\": [{\"colorbar\": {\"outlinewidth\": 0, \"ticks\": \"\"}, \"type\": \"choropleth\"}], \"contour\": [{\"colorbar\": {\"outlinewidth\": 0, \"ticks\": \"\"}, \"colorscale\": [[0.0, \"#0d0887\"], [0.1111111111111111, \"#46039f\"], [0.2222222222222222, \"#7201a8\"], [0.3333333333333333, \"#9c179e\"], [0.4444444444444444, \"#bd3786\"], [0.5555555555555556, \"#d8576b\"], [0.6666666666666666, \"#ed7953\"], [0.7777777777777778, \"#fb9f3a\"], [0.8888888888888888, \"#fdca26\"], [1.0, \"#f0f921\"]], \"type\": \"contour\"}], \"contourcarpet\": [{\"colorbar\": {\"outlinewidth\": 0, \"ticks\": \"\"}, \"type\": \"contourcarpet\"}], \"heatmap\": [{\"colorbar\": {\"outlinewidth\": 0, \"ticks\": \"\"}, \"colorscale\": [[0.0, \"#0d0887\"], [0.1111111111111111, \"#46039f\"], [0.2222222222222222, \"#7201a8\"], [0.3333333333333333, \"#9c179e\"], [0.4444444444444444, \"#bd3786\"], [0.5555555555555556, \"#d8576b\"], [0.6666666666666666, \"#ed7953\"], [0.7777777777777778, \"#fb9f3a\"], [0.8888888888888888, \"#fdca26\"], [1.0, \"#f0f921\"]], \"type\": \"heatmap\"}], \"heatmapgl\": [{\"colorbar\": {\"outlinewidth\": 0, \"ticks\": \"\"}, \"colorscale\": [[0.0, \"#0d0887\"], [0.1111111111111111, \"#46039f\"], [0.2222222222222222, \"#7201a8\"], [0.3333333333333333, \"#9c179e\"], [0.4444444444444444, \"#bd3786\"], [0.5555555555555556, \"#d8576b\"], [0.6666666666666666, \"#ed7953\"], [0.7777777777777778, \"#fb9f3a\"], [0.8888888888888888, \"#fdca26\"], [1.0, \"#f0f921\"]], \"type\": \"heatmapgl\"}], \"histogram\": [{\"marker\": {\"colorbar\": {\"outlinewidth\": 0, \"ticks\": \"\"}}, \"type\": \"histogram\"}], \"histogram2d\": [{\"colorbar\": {\"outlinewidth\": 0, \"ticks\": \"\"}, \"colorscale\": [[0.0, \"#0d0887\"], [0.1111111111111111, \"#46039f\"], [0.2222222222222222, \"#7201a8\"], [0.3333333333333333, \"#9c179e\"], [0.4444444444444444, \"#bd3786\"], [0.5555555555555556, \"#d8576b\"], [0.6666666666666666, \"#ed7953\"], [0.7777777777777778, \"#fb9f3a\"], [0.8888888888888888, \"#fdca26\"], [1.0, \"#f0f921\"]], \"type\": \"histogram2d\"}], \"histogram2dcontour\": [{\"colorbar\": {\"outlinewidth\": 0, \"ticks\": \"\"}, \"colorscale\": [[0.0, \"#0d0887\"], [0.1111111111111111, \"#46039f\"], [0.2222222222222222, \"#7201a8\"], [0.3333333333333333, \"#9c179e\"], [0.4444444444444444, \"#bd3786\"], [0.5555555555555556, \"#d8576b\"], [0.6666666666666666, \"#ed7953\"], [0.7777777777777778, \"#fb9f3a\"], [0.8888888888888888, \"#fdca26\"], [1.0, \"#f0f921\"]], \"type\": \"histogram2dcontour\"}], \"mesh3d\": [{\"colorbar\": {\"outlinewidth\": 0, \"ticks\": \"\"}, \"type\": \"mesh3d\"}], \"parcoords\": [{\"line\": {\"colorbar\": {\"outlinewidth\": 0, \"ticks\": \"\"}}, \"type\": \"parcoords\"}], \"pie\": [{\"automargin\": true, \"type\": \"pie\"}], \"scatter\": [{\"marker\": {\"colorbar\": {\"outlinewidth\": 0, \"ticks\": \"\"}}, \"type\": \"scatter\"}], \"scatter3d\": [{\"line\": {\"colorbar\": {\"outlinewidth\": 0, \"ticks\": \"\"}}, \"marker\": {\"colorbar\": {\"outlinewidth\": 0, \"ticks\": \"\"}}, \"type\": \"scatter3d\"}], \"scattercarpet\": [{\"marker\": {\"colorbar\": {\"outlinewidth\": 0, \"ticks\": \"\"}}, \"type\": \"scattercarpet\"}], \"scattergeo\": [{\"marker\": {\"colorbar\": {\"outlinewidth\": 0, \"ticks\": \"\"}}, \"type\": \"scattergeo\"}], \"scattergl\": [{\"marker\": {\"colorbar\": {\"outlinewidth\": 0, \"ticks\": \"\"}}, \"type\": \"scattergl\"}], \"scattermapbox\": [{\"marker\": {\"colorbar\": {\"outlinewidth\": 0, \"ticks\": \"\"}}, \"type\": \"scattermapbox\"}], \"scatterpolar\": [{\"marker\": {\"colorbar\": {\"outlinewidth\": 0, \"ticks\": \"\"}}, \"type\": \"scatterpolar\"}], \"scatterpolargl\": [{\"marker\": {\"colorbar\": {\"outlinewidth\": 0, \"ticks\": \"\"}}, \"type\": \"scatterpolargl\"}], \"scatterternary\": [{\"marker\": {\"colorbar\": {\"outlinewidth\": 0, \"ticks\": \"\"}}, \"type\": \"scatterternary\"}], \"surface\": [{\"colorbar\": {\"outlinewidth\": 0, \"ticks\": \"\"}, \"colorscale\": [[0.0, \"#0d0887\"], [0.1111111111111111, \"#46039f\"], [0.2222222222222222, \"#7201a8\"], [0.3333333333333333, \"#9c179e\"], [0.4444444444444444, \"#bd3786\"], [0.5555555555555556, \"#d8576b\"], [0.6666666666666666, \"#ed7953\"], [0.7777777777777778, \"#fb9f3a\"], [0.8888888888888888, \"#fdca26\"], [1.0, \"#f0f921\"]], \"type\": \"surface\"}], \"table\": [{\"cells\": {\"fill\": {\"color\": \"#EBF0F8\"}, \"line\": {\"color\": \"white\"}}, \"header\": {\"fill\": {\"color\": \"#C8D4E3\"}, \"line\": {\"color\": \"white\"}}, \"type\": \"table\"}]}, \"layout\": {\"annotationdefaults\": {\"arrowcolor\": \"#2a3f5f\", \"arrowhead\": 0, \"arrowwidth\": 1}, \"coloraxis\": {\"colorbar\": {\"outlinewidth\": 0, \"ticks\": \"\"}}, \"colorscale\": {\"diverging\": [[0, \"#8e0152\"], [0.1, \"#c51b7d\"], [0.2, \"#de77ae\"], [0.3, \"#f1b6da\"], [0.4, \"#fde0ef\"], [0.5, \"#f7f7f7\"], [0.6, \"#e6f5d0\"], [0.7, \"#b8e186\"], [0.8, \"#7fbc41\"], [0.9, \"#4d9221\"], [1, \"#276419\"]], \"sequential\": [[0.0, \"#0d0887\"], [0.1111111111111111, \"#46039f\"], [0.2222222222222222, \"#7201a8\"], [0.3333333333333333, \"#9c179e\"], [0.4444444444444444, \"#bd3786\"], [0.5555555555555556, \"#d8576b\"], [0.6666666666666666, \"#ed7953\"], [0.7777777777777778, \"#fb9f3a\"], [0.8888888888888888, \"#fdca26\"], [1.0, \"#f0f921\"]], \"sequentialminus\": [[0.0, \"#0d0887\"], [0.1111111111111111, \"#46039f\"], [0.2222222222222222, \"#7201a8\"], [0.3333333333333333, \"#9c179e\"], [0.4444444444444444, \"#bd3786\"], [0.5555555555555556, \"#d8576b\"], [0.6666666666666666, \"#ed7953\"], [0.7777777777777778, \"#fb9f3a\"], [0.8888888888888888, \"#fdca26\"], [1.0, \"#f0f921\"]]}, \"colorway\": [\"#636efa\", \"#EF553B\", \"#00cc96\", \"#ab63fa\", \"#FFA15A\", \"#19d3f3\", \"#FF6692\", \"#B6E880\", \"#FF97FF\", \"#FECB52\"], \"font\": {\"color\": \"#2a3f5f\"}, \"geo\": {\"bgcolor\": \"white\", \"lakecolor\": \"white\", \"landcolor\": \"#E5ECF6\", \"showlakes\": true, \"showland\": true, \"subunitcolor\": \"white\"}, \"hoverlabel\": {\"align\": \"left\"}, \"hovermode\": \"closest\", \"mapbox\": {\"style\": \"light\"}, \"paper_bgcolor\": \"white\", \"plot_bgcolor\": \"#E5ECF6\", \"polar\": {\"angularaxis\": {\"gridcolor\": \"white\", \"linecolor\": \"white\", \"ticks\": \"\"}, \"bgcolor\": \"#E5ECF6\", \"radialaxis\": {\"gridcolor\": \"white\", \"linecolor\": \"white\", \"ticks\": \"\"}}, \"scene\": {\"xaxis\": {\"backgroundcolor\": \"#E5ECF6\", \"gridcolor\": \"white\", \"gridwidth\": 2, \"linecolor\": \"white\", \"showbackground\": true, \"ticks\": \"\", \"zerolinecolor\": \"white\"}, \"yaxis\": {\"backgroundcolor\": \"#E5ECF6\", \"gridcolor\": \"white\", \"gridwidth\": 2, \"linecolor\": \"white\", \"showbackground\": true, \"ticks\": \"\", \"zerolinecolor\": \"white\"}, \"zaxis\": {\"backgroundcolor\": \"#E5ECF6\", \"gridcolor\": \"white\", \"gridwidth\": 2, \"linecolor\": \"white\", \"showbackground\": true, \"ticks\": \"\", \"zerolinecolor\": \"white\"}}, \"shapedefaults\": {\"line\": {\"color\": \"#2a3f5f\"}}, \"ternary\": {\"aaxis\": {\"gridcolor\": \"white\", \"linecolor\": \"white\", \"ticks\": \"\"}, \"baxis\": {\"gridcolor\": \"white\", \"linecolor\": \"white\", \"ticks\": \"\"}, \"bgcolor\": \"#E5ECF6\", \"caxis\": {\"gridcolor\": \"white\", \"linecolor\": \"white\", \"ticks\": \"\"}}, \"title\": {\"x\": 0.05}, \"xaxis\": {\"automargin\": true, \"gridcolor\": \"white\", \"linecolor\": \"white\", \"ticks\": \"\", \"title\": {\"standoff\": 15}, \"zerolinecolor\": \"white\", \"zerolinewidth\": 2}, \"yaxis\": {\"automargin\": true, \"gridcolor\": \"white\", \"linecolor\": \"white\", \"ticks\": \"\", \"title\": {\"standoff\": 15}, \"zerolinecolor\": \"white\", \"zerolinewidth\": 2}}}, \"title\": {\"text\": \"Count of News Articles with two category\"}, \"width\": 500, \"xaxis\": {\"anchor\": \"y\", \"domain\": [0.0, 1.0], \"title\": {\"text\": \"subject\"}}, \"yaxis\": {\"anchor\": \"x\", \"domain\": [0.0, 1.0], \"title\": {\"text\": \"Counts\"}}},\n",
              "                        {\"responsive\": true}\n",
              "                    ).then(function(){\n",
              "                            \n",
              "var gd = document.getElementById('63acaa53-0643-41c0-95a7-ee86368d8045');\n",
              "var x = new MutationObserver(function (mutations, observer) {{\n",
              "        var display = window.getComputedStyle(gd).display;\n",
              "        if (!display || display === 'none') {{\n",
              "            console.log([gd, 'removed!']);\n",
              "            Plotly.purge(gd);\n",
              "            observer.disconnect();\n",
              "        }}\n",
              "}});\n",
              "\n",
              "// Listen for the removal of the full notebook cells\n",
              "var notebookContainer = gd.closest('#notebook-container');\n",
              "if (notebookContainer) {{\n",
              "    x.observe(notebookContainer, {childList: true});\n",
              "}}\n",
              "\n",
              "// Listen for the clearing of the current output cell\n",
              "var outputEl = gd.closest('.output');\n",
              "if (outputEl) {{\n",
              "    x.observe(outputEl, {childList: true});\n",
              "}}\n",
              "\n",
              "                        })\n",
              "                };\n",
              "                });\n",
              "            </script>\n",
              "        </div>"
            ],
            "application/vnd.plotly.v1+json": {
              "data": [
                {
                  "textposition": "auto",
                  "hovertemplate": "subject=%{x}<br>Counts=%{marker.color}",
                  "showlegend": false,
                  "legendgroup": "",
                  "name": "",
                  "yaxis": "y",
                  "y": [
                    24142,
                    20756
                  ],
                  "hoverlabel": {
                    "namelength": 0
                  },
                  "offsetgroup": "",
                  "xaxis": "x",
                  "marker": {
                    "color": [
                      24142,
                      20756
                    ],
                    "coloraxis": "coloraxis"
                  },
                  "x": [
                    "politics",
                    "worldnews"
                  ],
                  "alignmentgroup": "True",
                  "type": "bar",
                  "orientation": "v"
                }
              ],
              "config": {
                "plotlyServerURL": "https://plot.ly"
              },
              "layout": {
                "xaxis": {
                  "domain": [
                    0,
                    1
                  ],
                  "anchor": "y",
                  "title": {
                    "text": "subject"
                  }
                },
                "barmode": "relative",
                "title": {
                  "text": "Count of News Articles with two category"
                },
                "yaxis": {
                  "domain": [
                    0,
                    1
                  ],
                  "anchor": "x",
                  "title": {
                    "text": "Counts"
                  }
                },
                "width": 500,
                "template": {
                  "layout": {
                    "shapedefaults": {
                      "line": {
                        "color": "#2a3f5f"
                      }
                    },
                    "polar": {
                      "radialaxis": {
                        "ticks": "",
                        "gridcolor": "white",
                        "linecolor": "white"
                      },
                      "bgcolor": "#E5ECF6",
                      "angularaxis": {
                        "ticks": "",
                        "gridcolor": "white",
                        "linecolor": "white"
                      }
                    },
                    "colorway": [
                      "#636efa",
                      "#EF553B",
                      "#00cc96",
                      "#ab63fa",
                      "#FFA15A",
                      "#19d3f3",
                      "#FF6692",
                      "#B6E880",
                      "#FF97FF",
                      "#FECB52"
                    ],
                    "xaxis": {
                      "automargin": true,
                      "title": {
                        "standoff": 15
                      },
                      "zerolinewidth": 2,
                      "ticks": "",
                      "zerolinecolor": "white",
                      "gridcolor": "white",
                      "linecolor": "white"
                    },
                    "colorscale": {
                      "diverging": [
                        [
                          0,
                          "#8e0152"
                        ],
                        [
                          0.1,
                          "#c51b7d"
                        ],
                        [
                          0.2,
                          "#de77ae"
                        ],
                        [
                          0.3,
                          "#f1b6da"
                        ],
                        [
                          0.4,
                          "#fde0ef"
                        ],
                        [
                          0.5,
                          "#f7f7f7"
                        ],
                        [
                          0.6,
                          "#e6f5d0"
                        ],
                        [
                          0.7,
                          "#b8e186"
                        ],
                        [
                          0.8,
                          "#7fbc41"
                        ],
                        [
                          0.9,
                          "#4d9221"
                        ],
                        [
                          1,
                          "#276419"
                        ]
                      ],
                      "sequential": [
                        [
                          0,
                          "#0d0887"
                        ],
                        [
                          0.1111111111111111,
                          "#46039f"
                        ],
                        [
                          0.2222222222222222,
                          "#7201a8"
                        ],
                        [
                          0.3333333333333333,
                          "#9c179e"
                        ],
                        [
                          0.4444444444444444,
                          "#bd3786"
                        ],
                        [
                          0.5555555555555556,
                          "#d8576b"
                        ],
                        [
                          0.6666666666666666,
                          "#ed7953"
                        ],
                        [
                          0.7777777777777778,
                          "#fb9f3a"
                        ],
                        [
                          0.8888888888888888,
                          "#fdca26"
                        ],
                        [
                          1,
                          "#f0f921"
                        ]
                      ],
                      "sequentialminus": [
                        [
                          0,
                          "#0d0887"
                        ],
                        [
                          0.1111111111111111,
                          "#46039f"
                        ],
                        [
                          0.2222222222222222,
                          "#7201a8"
                        ],
                        [
                          0.3333333333333333,
                          "#9c179e"
                        ],
                        [
                          0.4444444444444444,
                          "#bd3786"
                        ],
                        [
                          0.5555555555555556,
                          "#d8576b"
                        ],
                        [
                          0.6666666666666666,
                          "#ed7953"
                        ],
                        [
                          0.7777777777777778,
                          "#fb9f3a"
                        ],
                        [
                          0.8888888888888888,
                          "#fdca26"
                        ],
                        [
                          1,
                          "#f0f921"
                        ]
                      ]
                    },
                    "paper_bgcolor": "white",
                    "plot_bgcolor": "#E5ECF6",
                    "title": {
                      "x": 0.05
                    },
                    "scene": {
                      "zaxis": {
                        "backgroundcolor": "#E5ECF6",
                        "ticks": "",
                        "gridwidth": 2,
                        "showbackground": true,
                        "zerolinecolor": "white",
                        "gridcolor": "white",
                        "linecolor": "white"
                      },
                      "xaxis": {
                        "backgroundcolor": "#E5ECF6",
                        "ticks": "",
                        "gridwidth": 2,
                        "showbackground": true,
                        "zerolinecolor": "white",
                        "gridcolor": "white",
                        "linecolor": "white"
                      },
                      "yaxis": {
                        "backgroundcolor": "#E5ECF6",
                        "ticks": "",
                        "gridwidth": 2,
                        "showbackground": true,
                        "zerolinecolor": "white",
                        "gridcolor": "white",
                        "linecolor": "white"
                      }
                    },
                    "yaxis": {
                      "automargin": true,
                      "title": {
                        "standoff": 15
                      },
                      "zerolinewidth": 2,
                      "ticks": "",
                      "zerolinecolor": "white",
                      "gridcolor": "white",
                      "linecolor": "white"
                    },
                    "annotationdefaults": {
                      "arrowwidth": 1,
                      "arrowhead": 0,
                      "arrowcolor": "#2a3f5f"
                    },
                    "hoverlabel": {
                      "align": "left"
                    },
                    "ternary": {
                      "bgcolor": "#E5ECF6",
                      "baxis": {
                        "ticks": "",
                        "gridcolor": "white",
                        "linecolor": "white"
                      },
                      "caxis": {
                        "ticks": "",
                        "gridcolor": "white",
                        "linecolor": "white"
                      },
                      "aaxis": {
                        "ticks": "",
                        "gridcolor": "white",
                        "linecolor": "white"
                      }
                    },
                    "mapbox": {
                      "style": "light"
                    },
                    "hovermode": "closest",
                    "font": {
                      "color": "#2a3f5f"
                    },
                    "geo": {
                      "showland": true,
                      "landcolor": "#E5ECF6",
                      "showlakes": true,
                      "bgcolor": "white",
                      "subunitcolor": "white",
                      "lakecolor": "white"
                    },
                    "coloraxis": {
                      "colorbar": {
                        "outlinewidth": 0,
                        "ticks": ""
                      }
                    }
                  },
                  "data": {
                    "mesh3d": [
                      {
                        "colorbar": {
                          "outlinewidth": 0,
                          "ticks": ""
                        },
                        "type": "mesh3d"
                      }
                    ],
                    "scattercarpet": [
                      {
                        "marker": {
                          "colorbar": {
                            "outlinewidth": 0,
                            "ticks": ""
                          }
                        },
                        "type": "scattercarpet"
                      }
                    ],
                    "pie": [
                      {
                        "automargin": true,
                        "type": "pie"
                      }
                    ],
                    "surface": [
                      {
                        "colorbar": {
                          "outlinewidth": 0,
                          "ticks": ""
                        },
                        "type": "surface",
                        "colorscale": [
                          [
                            0,
                            "#0d0887"
                          ],
                          [
                            0.1111111111111111,
                            "#46039f"
                          ],
                          [
                            0.2222222222222222,
                            "#7201a8"
                          ],
                          [
                            0.3333333333333333,
                            "#9c179e"
                          ],
                          [
                            0.4444444444444444,
                            "#bd3786"
                          ],
                          [
                            0.5555555555555556,
                            "#d8576b"
                          ],
                          [
                            0.6666666666666666,
                            "#ed7953"
                          ],
                          [
                            0.7777777777777778,
                            "#fb9f3a"
                          ],
                          [
                            0.8888888888888888,
                            "#fdca26"
                          ],
                          [
                            1,
                            "#f0f921"
                          ]
                        ]
                      }
                    ],
                    "table": [
                      {
                        "header": {
                          "line": {
                            "color": "white"
                          },
                          "fill": {
                            "color": "#C8D4E3"
                          }
                        },
                        "cells": {
                          "line": {
                            "color": "white"
                          },
                          "fill": {
                            "color": "#EBF0F8"
                          }
                        },
                        "type": "table"
                      }
                    ],
                    "scatterpolargl": [
                      {
                        "marker": {
                          "colorbar": {
                            "outlinewidth": 0,
                            "ticks": ""
                          }
                        },
                        "type": "scatterpolargl"
                      }
                    ],
                    "contour": [
                      {
                        "colorbar": {
                          "outlinewidth": 0,
                          "ticks": ""
                        },
                        "type": "contour",
                        "colorscale": [
                          [
                            0,
                            "#0d0887"
                          ],
                          [
                            0.1111111111111111,
                            "#46039f"
                          ],
                          [
                            0.2222222222222222,
                            "#7201a8"
                          ],
                          [
                            0.3333333333333333,
                            "#9c179e"
                          ],
                          [
                            0.4444444444444444,
                            "#bd3786"
                          ],
                          [
                            0.5555555555555556,
                            "#d8576b"
                          ],
                          [
                            0.6666666666666666,
                            "#ed7953"
                          ],
                          [
                            0.7777777777777778,
                            "#fb9f3a"
                          ],
                          [
                            0.8888888888888888,
                            "#fdca26"
                          ],
                          [
                            1,
                            "#f0f921"
                          ]
                        ]
                      }
                    ],
                    "carpet": [
                      {
                        "type": "carpet",
                        "baxis": {
                          "minorgridcolor": "white",
                          "gridcolor": "white",
                          "linecolor": "white",
                          "endlinecolor": "#2a3f5f",
                          "startlinecolor": "#2a3f5f"
                        },
                        "aaxis": {
                          "minorgridcolor": "white",
                          "gridcolor": "white",
                          "linecolor": "white",
                          "endlinecolor": "#2a3f5f",
                          "startlinecolor": "#2a3f5f"
                        }
                      }
                    ],
                    "contourcarpet": [
                      {
                        "colorbar": {
                          "outlinewidth": 0,
                          "ticks": ""
                        },
                        "type": "contourcarpet"
                      }
                    ],
                    "heatmap": [
                      {
                        "colorbar": {
                          "outlinewidth": 0,
                          "ticks": ""
                        },
                        "type": "heatmap",
                        "colorscale": [
                          [
                            0,
                            "#0d0887"
                          ],
                          [
                            0.1111111111111111,
                            "#46039f"
                          ],
                          [
                            0.2222222222222222,
                            "#7201a8"
                          ],
                          [
                            0.3333333333333333,
                            "#9c179e"
                          ],
                          [
                            0.4444444444444444,
                            "#bd3786"
                          ],
                          [
                            0.5555555555555556,
                            "#d8576b"
                          ],
                          [
                            0.6666666666666666,
                            "#ed7953"
                          ],
                          [
                            0.7777777777777778,
                            "#fb9f3a"
                          ],
                          [
                            0.8888888888888888,
                            "#fdca26"
                          ],
                          [
                            1,
                            "#f0f921"
                          ]
                        ]
                      }
                    ],
                    "scattermapbox": [
                      {
                        "marker": {
                          "colorbar": {
                            "outlinewidth": 0,
                            "ticks": ""
                          }
                        },
                        "type": "scattermapbox"
                      }
                    ],
                    "scatter3d": [
                      {
                        "marker": {
                          "colorbar": {
                            "outlinewidth": 0,
                            "ticks": ""
                          }
                        },
                        "line": {
                          "colorbar": {
                            "outlinewidth": 0,
                            "ticks": ""
                          }
                        },
                        "type": "scatter3d"
                      }
                    ],
                    "scattergl": [
                      {
                        "marker": {
                          "colorbar": {
                            "outlinewidth": 0,
                            "ticks": ""
                          }
                        },
                        "type": "scattergl"
                      }
                    ],
                    "scatterternary": [
                      {
                        "marker": {
                          "colorbar": {
                            "outlinewidth": 0,
                            "ticks": ""
                          }
                        },
                        "type": "scatterternary"
                      }
                    ],
                    "histogram": [
                      {
                        "marker": {
                          "colorbar": {
                            "outlinewidth": 0,
                            "ticks": ""
                          }
                        },
                        "type": "histogram"
                      }
                    ],
                    "heatmapgl": [
                      {
                        "colorbar": {
                          "outlinewidth": 0,
                          "ticks": ""
                        },
                        "type": "heatmapgl",
                        "colorscale": [
                          [
                            0,
                            "#0d0887"
                          ],
                          [
                            0.1111111111111111,
                            "#46039f"
                          ],
                          [
                            0.2222222222222222,
                            "#7201a8"
                          ],
                          [
                            0.3333333333333333,
                            "#9c179e"
                          ],
                          [
                            0.4444444444444444,
                            "#bd3786"
                          ],
                          [
                            0.5555555555555556,
                            "#d8576b"
                          ],
                          [
                            0.6666666666666666,
                            "#ed7953"
                          ],
                          [
                            0.7777777777777778,
                            "#fb9f3a"
                          ],
                          [
                            0.8888888888888888,
                            "#fdca26"
                          ],
                          [
                            1,
                            "#f0f921"
                          ]
                        ]
                      }
                    ],
                    "scatterpolar": [
                      {
                        "marker": {
                          "colorbar": {
                            "outlinewidth": 0,
                            "ticks": ""
                          }
                        },
                        "type": "scatterpolar"
                      }
                    ],
                    "histogram2d": [
                      {
                        "colorbar": {
                          "outlinewidth": 0,
                          "ticks": ""
                        },
                        "type": "histogram2d",
                        "colorscale": [
                          [
                            0,
                            "#0d0887"
                          ],
                          [
                            0.1111111111111111,
                            "#46039f"
                          ],
                          [
                            0.2222222222222222,
                            "#7201a8"
                          ],
                          [
                            0.3333333333333333,
                            "#9c179e"
                          ],
                          [
                            0.4444444444444444,
                            "#bd3786"
                          ],
                          [
                            0.5555555555555556,
                            "#d8576b"
                          ],
                          [
                            0.6666666666666666,
                            "#ed7953"
                          ],
                          [
                            0.7777777777777778,
                            "#fb9f3a"
                          ],
                          [
                            0.8888888888888888,
                            "#fdca26"
                          ],
                          [
                            1,
                            "#f0f921"
                          ]
                        ]
                      }
                    ],
                    "scattergeo": [
                      {
                        "marker": {
                          "colorbar": {
                            "outlinewidth": 0,
                            "ticks": ""
                          }
                        },
                        "type": "scattergeo"
                      }
                    ],
                    "bar": [
                      {
                        "marker": {
                          "line": {
                            "color": "#E5ECF6",
                            "width": 0.5
                          }
                        },
                        "type": "bar",
                        "error_x": {
                          "color": "#2a3f5f"
                        },
                        "error_y": {
                          "color": "#2a3f5f"
                        }
                      }
                    ],
                    "choropleth": [
                      {
                        "colorbar": {
                          "outlinewidth": 0,
                          "ticks": ""
                        },
                        "type": "choropleth"
                      }
                    ],
                    "parcoords": [
                      {
                        "line": {
                          "colorbar": {
                            "outlinewidth": 0,
                            "ticks": ""
                          }
                        },
                        "type": "parcoords"
                      }
                    ],
                    "barpolar": [
                      {
                        "marker": {
                          "line": {
                            "color": "#E5ECF6",
                            "width": 0.5
                          }
                        },
                        "type": "barpolar"
                      }
                    ],
                    "histogram2dcontour": [
                      {
                        "colorbar": {
                          "outlinewidth": 0,
                          "ticks": ""
                        },
                        "type": "histogram2dcontour",
                        "colorscale": [
                          [
                            0,
                            "#0d0887"
                          ],
                          [
                            0.1111111111111111,
                            "#46039f"
                          ],
                          [
                            0.2222222222222222,
                            "#7201a8"
                          ],
                          [
                            0.3333333333333333,
                            "#9c179e"
                          ],
                          [
                            0.4444444444444444,
                            "#bd3786"
                          ],
                          [
                            0.5555555555555556,
                            "#d8576b"
                          ],
                          [
                            0.6666666666666666,
                            "#ed7953"
                          ],
                          [
                            0.7777777777777778,
                            "#fb9f3a"
                          ],
                          [
                            0.8888888888888888,
                            "#fdca26"
                          ],
                          [
                            1,
                            "#f0f921"
                          ]
                        ]
                      }
                    ],
                    "scatter": [
                      {
                        "marker": {
                          "colorbar": {
                            "outlinewidth": 0,
                            "ticks": ""
                          }
                        },
                        "type": "scatter"
                      }
                    ]
                  }
                },
                "legend": {
                  "tracegroupgap": 0
                },
                "coloraxis": {
                  "colorbar": {
                    "title": {
                      "text": "Counts"
                    }
                  },
                  "colorscale": [
                    [
                      0,
                      "#0d0887"
                    ],
                    [
                      0.1111111111111111,
                      "#46039f"
                    ],
                    [
                      0.2222222222222222,
                      "#7201a8"
                    ],
                    [
                      0.3333333333333333,
                      "#9c179e"
                    ],
                    [
                      0.4444444444444444,
                      "#bd3786"
                    ],
                    [
                      0.5555555555555556,
                      "#d8576b"
                    ],
                    [
                      0.6666666666666666,
                      "#ed7953"
                    ],
                    [
                      0.7777777777777778,
                      "#fb9f3a"
                    ],
                    [
                      0.8888888888888888,
                      "#fdca26"
                    ],
                    [
                      1,
                      "#f0f921"
                    ]
                  ]
                }
              }
            }
          },
          "metadata": {
            "tags": []
          }
        }
      ]
    },
    {
      "cell_type": "markdown",
      "metadata": {
        "id": "bDa52wuwcqxA"
      },
      "source": [
        "### Topic Representation"
      ]
    },
    {
      "cell_type": "code",
      "metadata": {
        "id": "8u8Z6LQAByij",
        "trusted": true,
        "colab": {
          "base_uri": "https://localhost:8080/",
          "height": 327
        },
        "outputId": "8f7bbdbc-7d39-43a2-8966-8d80b1b05c9b"
      },
      "source": [
        "import matplotlib.pyplot as plt\n",
        "import numpy as np\n",
        "\n",
        "# Representation of each subject in each dataset \n",
        "_combined = combined['subject'].unique()\n",
        "_X = np.arange(len(_combined))\n",
        "\n",
        "x = combined[(combined['subject'] == 'worldnews')]['truth'].value_counts()\n",
        "y = combined[(combined['subject'] == 'politics')]['truth'].value_counts()\n",
        "\n",
        "df = pd.DataFrame(np.c_[x,y], index=_combined, columns=['fake', 'real'])\n",
        "df.plot.bar()"
      ],
      "execution_count": null,
      "outputs": [
        {
          "output_type": "execute_result",
          "data": {
            "text/plain": [
              "<matplotlib.axes._subplots.AxesSubplot at 0x7fbdb3e26e50>"
            ]
          },
          "metadata": {
            "tags": []
          },
          "execution_count": 25
        },
        {
          "output_type": "display_data",
          "data": {
            "image/png": "[encoded data removed]",
            "text/plain": [
              "<Figure size 432x288 with 1 Axes>"
            ]
          },
          "metadata": {
            "tags": [],
            "needs_background": "light"
          }
        }
      ]
    },
    {
      "cell_type": "markdown",
      "metadata": {
        "id": "VHsBIK136dF9"
      },
      "source": [
        "### Topic Modeling"
      ]
    },
    {
      "cell_type": "markdown",
      "metadata": {
        "id": "_nZNniKH8t3l"
      },
      "source": [
        "Source: https://towardsdatascience.com/end-to-end-topic-modeling-in-python-latent-dirichlet-allocation-lda-35ce4ed6b3e0"
      ]
    },
    {
      "cell_type": "markdown",
      "metadata": {
        "id": "CZ4kD_jh7mO-"
      },
      "source": [
        "Drop non-text columns"
      ]
    },
    {
      "cell_type": "code",
      "metadata": {
        "id": "S_dIx8_F665J",
        "trusted": true
      },
      "source": [
        "topicModelFake = combined[combined['truth']==0].drop(columns=['date'])\n",
        "topicModelReal = combined[combined['truth']==1].drop(columns=['date'])"
      ],
      "execution_count": null,
      "outputs": []
    },
    {
      "cell_type": "markdown",
      "metadata": {
        "id": "ndBHt8Pc7i-V"
      },
      "source": [
        "Remove punctuation and lower"
      ]
    },
    {
      "cell_type": "code",
      "metadata": {
        "id": "yKJgt06z6fhg",
        "trusted": true
      },
      "source": [
        "# Load the regular expression library\n",
        "import re\n",
        "\n",
        "# Remove symbols\n",
        "topicModelFake['text_processed'] = topicModelFake['text'].map(lambda x: re.sub('[,\\.!?]', '', x))\n",
        "topicModelReal['text_processed'] = topicModelReal['text'].map(lambda x: re.sub('[,\\.!?]', '', x))\n",
        "# Convert the titles to lowercase \n",
        "topicModelFake['text_processed'] = topicModelFake['text_processed'].map(lambda x: x.lower())\n",
        "topicModelReal['text_processed'] = topicModelReal['text_processed'].map(lambda x: x.lower())\n"
      ],
      "execution_count": null,
      "outputs": []
    },
    {
      "cell_type": "code",
      "metadata": {
        "id": "RFG1AWoF7iac",
        "trusted": true,
        "colab": {
          "base_uri": "https://localhost:8080/"
        },
        "outputId": "2f564598-a84c-4c53-92d5-7b55473abd4e"
      },
      "source": [
        "import gensim\n",
        "from gensim.utils import simple_preprocess\n",
        "import nltk\n",
        "from nltk.corpus import stopwords\n",
        "\n",
        "nltk.download('stopwords')\n",
        "stop_words = stopwords.words('english')\n",
        "\n",
        "def sent_to_words(sentences):\n",
        "    for sentence in sentences:\n",
        "        yield(gensim.utils.simple_preprocess(str(sentence), deacc=True))\n",
        "        \n",
        "def remove_stopwords(texts):\n",
        "    return [[word for word in simple_preprocess(str(doc)) \n",
        "             if word not in stop_words] for doc in texts]\n",
        "             \n",
        "fake_data = topicModelFake.text_processed.values.tolist()\n",
        "real_data = topicModelReal.text_processed.values.tolist()\n",
        "\n",
        "fake_data_words = list(sent_to_words(fake_data))# remove stop words\n",
        "fake_data_words = remove_stopwords(fake_data_words)\n",
        "real_data_words = list(sent_to_words(real_data))# remove stop words\n",
        "real_data_words = remove_stopwords(real_data_words)"
      ],
      "execution_count": null,
      "outputs": [
        {
          "output_type": "stream",
          "text": [
            "[nltk_data] Downloading package stopwords to /root/nltk_data...\n",
            "[nltk_data]   Package stopwords is already up-to-date!\n"
          ],
          "name": "stdout"
        }
      ]
    },
    {
      "cell_type": "code",
      "metadata": {
        "id": "mIhaSQAr8MCK",
        "trusted": true
      },
      "source": [
        "import gensim.corpora as corpora\n",
        "# Create Dictionary\n",
        "fake_id2word = corpora.Dictionary(fake_data_words)\n",
        "real_id2word = corpora.Dictionary(real_data_words)\n",
        "# Create Corpus\n",
        "fake_texts = fake_data_words\n",
        "real_texts = real_data_words\n",
        "# Term Document Frequency\n",
        "fake_corpus = [fake_id2word.doc2bow(text) for text in fake_texts]\n",
        "real_corpus = [real_id2word.doc2bow(text) for text in real_texts]"
      ],
      "execution_count": null,
      "outputs": []
    },
    {
      "cell_type": "code",
      "metadata": {
        "id": "HPzXbzT98PmU",
        "trusted": true
      },
      "source": [
        "# number of topics\n",
        "num_topics = 10\n",
        "# Build LDA model\n",
        "fake_lda_model = gensim.models.LdaMulticore(corpus=fake_corpus,\n",
        "                                       id2word=fake_id2word,\n",
        "                                       num_topics=num_topics)\n",
        "real_lda_model = gensim.models.LdaMulticore(corpus=real_corpus,\n",
        "                                       id2word=real_id2word,\n",
        "                                       num_topics=num_topics)\n",
        "\n",
        "fake_doc_lda = fake_lda_model[fake_corpus]\n",
        "real_doc_lda = real_lda_model[real_corpus]"
      ],
      "execution_count": null,
      "outputs": []
    },
    {
      "cell_type": "code",
      "metadata": {
        "id": "3XDpznRITvBo",
        "colab": {
          "base_uri": "https://localhost:8080/",
          "height": 943
        },
        "outputId": "35d3a9b3-d95c-4dfd-b1cf-f0a2a3f7c18c"
      },
      "source": [
        "!pip install pyLDAvis"
      ],
      "execution_count": null,
      "outputs": [
        {
          "output_type": "stream",
          "text": [
            "Collecting pyLDAvis\n",
            "\u001b[?25l  Downloading https://files.pythonhosted.org/packages/03/a5/15a0da6b0150b8b68610cc78af80364a80a9a4c8b6dd5ee549b8989d4b60/pyLDAvis-3.3.1.tar.gz (1.7MB)\n",
            "\u001b[K     |████████████████████████████████| 1.7MB 8.1MB/s \n",
            "\u001b[?25h  Installing build dependencies ... \u001b[?25l\u001b[?25hdone\n",
            "  Getting requirements to build wheel ... \u001b[?25l\u001b[?25hdone\n",
            "  Installing backend dependencies ... \u001b[?25l\u001b[?25hdone\n",
            "    Preparing wheel metadata ... \u001b[?25l\u001b[?25hdone\n",
            "Collecting pandas>=1.2.0\n",
            "\u001b[?25l  Downloading https://files.pythonhosted.org/packages/51/51/48f3fc47c4e2144da2806dfb6629c4dd1fa3d5a143f9652b141e979a8ca9/pandas-1.2.4-cp37-cp37m-manylinux1_x86_64.whl (9.9MB)\n",
            "\u001b[K     |████████████████████████████████| 9.9MB 33.6MB/s \n",
            "\u001b[?25hRequirement already satisfied: numexpr in /usr/local/lib/python3.7/dist-packages (from pyLDAvis) (2.7.3)\n",
            "Requirement already satisfied: scikit-learn in /usr/local/lib/python3.7/dist-packages (from pyLDAvis) (0.22.2.post1)\n",
            "Requirement already satisfied: gensim in /usr/local/lib/python3.7/dist-packages (from pyLDAvis) (3.6.0)\n",
            "Requirement already satisfied: jinja2 in /usr/local/lib/python3.7/dist-packages (from pyLDAvis) (2.11.3)\n",
            "Requirement already satisfied: setuptools in /usr/local/lib/python3.7/dist-packages (from pyLDAvis) (56.0.0)\n",
            "Requirement already satisfied: scipy in /usr/local/lib/python3.7/dist-packages (from pyLDAvis) (1.4.1)\n",
            "Collecting funcy\n",
            "  Downloading https://files.pythonhosted.org/packages/66/89/479de0afbbfb98d1c4b887936808764627300208bb771fcd823403645a36/funcy-1.15-py2.py3-none-any.whl\n",
            "Requirement already satisfied: future in /usr/local/lib/python3.7/dist-packages (from pyLDAvis) (0.16.0)\n",
            "Collecting numpy>=1.20.0\n",
            "\u001b[?25l  Downloading https://files.pythonhosted.org/packages/73/ef/8967d406f3f85018ceb5efab50431e901683188f1741ceb053efcab26c87/numpy-1.20.2-cp37-cp37m-manylinux2010_x86_64.whl (15.3MB)\n",
            "\u001b[K     |████████████████████████████████| 15.3MB 277kB/s \n",
            "\u001b[?25hRequirement already satisfied: sklearn in /usr/local/lib/python3.7/dist-packages (from pyLDAvis) (0.0)\n",
            "Requirement already satisfied: joblib in /usr/local/lib/python3.7/dist-packages (from pyLDAvis) (1.0.1)\n",
            "Requirement already satisfied: pytz>=2017.3 in /usr/local/lib/python3.7/dist-packages (from pandas>=1.2.0->pyLDAvis) (2018.9)\n",
            "Requirement already satisfied: python-dateutil>=2.7.3 in /usr/local/lib/python3.7/dist-packages (from pandas>=1.2.0->pyLDAvis) (2.8.1)\n",
            "Requirement already satisfied: smart-open>=1.2.1 in /usr/local/lib/python3.7/dist-packages (from gensim->pyLDAvis) (5.0.0)\n",
            "Requirement already satisfied: six>=1.5.0 in /usr/local/lib/python3.7/dist-packages (from gensim->pyLDAvis) (1.15.0)\n",
            "Requirement already satisfied: MarkupSafe>=0.23 in /usr/local/lib/python3.7/dist-packages (from jinja2->pyLDAvis) (1.1.1)\n",
            "Building wheels for collected packages: pyLDAvis\n",
            "  Building wheel for pyLDAvis (PEP 517) ... \u001b[?25l\u001b[?25hdone\n",
            "  Created wheel for pyLDAvis: filename=pyLDAvis-3.3.1-cp37-none-any.whl size=136870 sha256=e91a7c7f5bbcb0fe35e6a6b9e59cc45c1c4e3f2891cb6cd86af94b012ad2fab3\n",
            "  Stored in directory: /root/.cache/pip/wheels/a0/9c/fc/c6e00689d35c82cf96a8adc70edfe7ba7904374fdac3240ac2\n",
            "Successfully built pyLDAvis\n",
            "\u001b[31mERROR: tensorflow 2.4.1 has requirement numpy~=1.19.2, but you'll have numpy 1.20.2 which is incompatible.\u001b[0m\n",
            "\u001b[31mERROR: google-colab 1.0.0 has requirement pandas~=1.1.0; python_version >= \"3.0\", but you'll have pandas 1.2.4 which is incompatible.\u001b[0m\n",
            "\u001b[31mERROR: datascience 0.10.6 has requirement folium==0.2.1, but you'll have folium 0.8.3 which is incompatible.\u001b[0m\n",
            "\u001b[31mERROR: albumentations 0.1.12 has requirement imgaug<0.2.7,>=0.2.5, but you'll have imgaug 0.2.9 which is incompatible.\u001b[0m\n",
            "Installing collected packages: numpy, pandas, funcy, pyLDAvis\n",
            "  Found existing installation: numpy 1.19.5\n",
            "    Uninstalling numpy-1.19.5:\n",
            "      Successfully uninstalled numpy-1.19.5\n",
            "  Found existing installation: pandas 1.1.5\n",
            "    Uninstalling pandas-1.1.5:\n",
            "      Successfully uninstalled pandas-1.1.5\n",
            "Successfully installed funcy-1.15 numpy-1.20.2 pandas-1.2.4 pyLDAvis-3.3.1\n"
          ],
          "name": "stdout"
        },
        {
          "output_type": "display_data",
          "data": {
            "application/vnd.colab-display-data+json": {
              "pip_warning": {
                "packages": [
                  "numpy",
                  "pandas"
                ]
              }
            }
          },
          "metadata": {
            "tags": []
          }
        }
      ]
    },
    {
      "cell_type": "code",
      "metadata": {
        "id": "NaaMr-9LCTPw",
        "trusted": true,
        "colab": {
          "base_uri": "https://localhost:8080/"
        },
        "outputId": "381190c1-b029-40a5-e683-9c5b1efa765d"
      },
      "source": [
        "import pyLDAvis\n",
        "import pyLDAvis.gensim_models as gensimvis\n",
        "pyLDAvis.enable_notebook()\n",
        "\n",
        "# feed the LDA model into the pyLDAvis instance\n",
        "lda_viz_fake = gensimvis.prepare(fake_lda_model, fake_corpus, fake_id2word)\n",
        "lda_viz_real = gensimvis.prepare(real_lda_model, real_corpus, real_id2word)"
      ],
      "execution_count": null,
      "outputs": [
        {
          "output_type": "stream",
          "text": [
            "/usr/local/lib/python3.7/dist-packages/past/types/oldstr.py:5: DeprecationWarning:\n",
            "\n",
            "Using or importing the ABCs from 'collections' instead of from 'collections.abc' is deprecated since Python 3.3,and in 3.9 it will stop working\n",
            "\n"
          ],
          "name": "stderr"
        }
      ]
    },
    {
      "cell_type": "code",
      "metadata": {
        "id": "dQN6xZ6cFv_t",
        "trusted": true,
        "colab": {
          "base_uri": "https://localhost:8080/",
          "height": 861
        },
        "outputId": "9887ce2c-93fa-4e5a-cc58-1a9e7d3b81bf"
      },
      "source": [
        "# Topic model for real\n",
        "pyLDAvis.display(lda_viz_real)"
      ],
      "execution_count": null,
      "outputs": [
        {
          "output_type": "execute_result",
          "data": {
            "text/html": [
              "\n",
              "<link rel=\"stylesheet\" type=\"text/css\" href=\"https://cdn.jsdelivr.net/gh/bmabey/pyLDAvis@3.3.1/pyLDAvis/js/ldavis.v1.0.0.css\">\n",
              "\n",
              "\n",
              "<div id=\"ldavis_el581404524045804321409806160\"></div>\n",
              "<script type=\"text/javascript\">\n",
              "\n",
              "var ldavis_el581404524045804321409806160_data = {\"mdsDat\": {\"x\": [0.07464015210073062, 0.09806291776276858, -0.0839734335458914, -0.03216199421374149, 0.0663448233045395, -0.06090674251345929, 0.010152523424698688, -0.029233965515907772, -0.03485459908209065, -0.008069681721646687], \"y\": [0.003786578445534444, -0.026096970400174734, -0.07037003134541814, -0.07430802471254991, -0.026843507046374206, 0.019496267913196006, 0.012162741838903531, -0.010470482967458946, 0.07805176147145915, 0.0945916668028828], \"topics\": [1, 2, 3, 4, 5, 6, 7, 8, 9, 10], \"cluster\": [1, 1, 1, 1, 1, 1, 1, 1, 1, 1], \"Freq\": [16.1678680558275, 14.011240009098339, 13.586255300782021, 12.17274698010052, 11.072744200887923, 9.338646718838776, 8.750748804942166, 6.620041833507528, 4.577757100355029, 3.7019509956602117]}, \"tinfo\": {\"Term\": [\"korea\", \"said\", \"north\", \"police\", \"trump\", \"eu\", \"people\", \"percent\", \"killed\", \"myanmar\", \"pakistan\", \"china\", \"hurricane\", \"party\", \"us\", \"state\", \"nuclear\", \"european\", \"government\", \"florida\", \"court\", \"mexico\", \"military\", \"clinton\", \"afghanistan\", \"rohingya\", \"israel\", \"forces\", \"islamic\", \"russia\", \"meirelles\", \"zlotys\", \"villegas\", \"keiko\", \"arko\", \"latakia\", \"salgado\", \"liam\", \"aston\", \"bras\", \"psychologists\", \"scenery\", \"understated\", \"unsuspecting\", \"usurp\", \"speedup\", \"coolers\", \"parity\", \"boj\", \"lawmaking\", \"odebrecht\", \"stashed\", \"belts\", \"chlimper\", \"fujimori\", \"lamda\", \"brazilians\", \"surcharge\", \"becerril\", \"levine\", \"temer\", \"kuczynski\", \"wesley\", \"zuma\", \"dlamini\", \"natal\", \"pension\", \"metall\", \"bonus\", \"nkosazana\", \"da\", \"pensioners\", \"bribing\", \"fiscal\", \"debt\", \"tax\", \"sao\", \"deficit\", \"brazilian\", \"moody\", \"prepa\", \"budget\", \"gdp\", \"growth\", \"brazil\", \"peru\", \"bribes\", \"spending\", \"rate\", \"billion\", \"rating\", \"anc\", \"rico\", \"percent\", \"income\", \"reform\", \"bill\", \"legislation\", \"taxes\", \"congress\", \"lower\", \"graft\", \"year\", \"said\", \"lawmakers\", \"puerto\", \"public\", \"would\", \"government\", \"companies\", \"finance\", \"new\", \"house\", \"president\", \"million\", \"party\", \"last\", \"us\", \"also\", \"election\", \"court\", \"week\", \"could\", \"trump\", \"republican\", \"vote\", \"one\", \"told\", \"campaign\", \"pretzell\", \"pauses\", \"magnificent\", \"rajiv\", \"clsa\", \"hoecke\", \"frauke\", \"dorchester\", \"juncture\", \"driesang\", \"durham\", \"punt\", \"juniper\", \"syracuse\", \"matviyenko\", \"digitally\", \"handedly\", \"anarchistic\", \"usairforce\", \"mystifying\", \"valentina\", \"aliot\", \"georgette\", \"fung\", \"powering\", \"lucke\", \"gossip\", \"loy\", \"petry\", \"monroe\", \"sandberg\", \"gingrich\", \"advertisers\", \"ads\", \"clooney\", \"bergdorf\", \"pen\", \"lewandowski\", \"predictit\", \"gauland\", \"archives\", \"zuckerberg\", \"fn\", \"bannon\", \"wheelchair\", \"mps\", \"bundestag\", \"priebus\", \"facebook\", \"cruz\", \"clinton\", \"afd\", \"pac\", \"trump\", \"sanders\", \"republican\", \"nomination\", \"campaign\", \"zealand\", \"white\", \"convention\", \"florida\", \"rubio\", \"nominee\", \"sap\", \"editorial\", \"presidential\", \"media\", \"house\", \"candidate\", \"delegates\", \"party\", \"national\", \"donald\", \"former\", \"election\", \"us\", \"said\", \"new\", \"news\", \"would\", \"president\", \"first\", \"win\", \"told\", \"democratic\", \"last\", \"people\", \"state\", \"year\", \"one\", \"also\", \"brics\", \"zapad\", \"ri\", \"darfur\", \"kem\", \"hun\", \"dprk\", \"onodera\", \"sokha\", \"nebenzia\", \"itsunori\", \"baltics\", \"penh\", \"symantec\", \"phnom\", \"carriage\", \"phay\", \"vassily\", \"yi\", \"hydrogen\", \"boko\", \"kyung\", \"jintao\", \"hyten\", \"pyongyang\", \"siphan\", \"feltman\", \"yonhap\", \"haram\", \"prayuth\", \"korea\", \"jong\", \"cambodian\", \"korean\", \"kcna\", \"reclusive\", \"missile\", \"kim\", \"north\", \"wang\", \"drills\", \"missiles\", \"exercises\", \"ballistic\", \"taiwan\", \"un\", \"test\", \"nuclear\", \"china\", \"weapons\", \"xi\", \"beijing\", \"peninsula\", \"chinese\", \"egypt\", \"sanctions\", \"military\", \"united\", \"council\", \"south\", \"saudi\", \"japan\", \"talks\", \"minister\", \"states\", \"said\", \"britain\", \"us\", \"foreign\", \"al\", \"russia\", \"security\", \"war\", \"prime\", \"president\", \"government\", \"would\", \"state\", \"told\", \"iran\", \"trump\", \"also\", \"may\", \"two\", \"country\", \"szijjarto\", \"dodon\", \"uncontrolled\", \"handelsblatt\", \"belarussian\", \"schaefer\", \"sechin\", \"alexei\", \"vladivostok\", \"witold\", \"isotope\", \"rosnmm\", \"publishers\", \"rotor\", \"seibert\", \"luhansk\", \"worryingly\", \"liberalize\", \"konya\", \"avramopoulos\", \"manfred\", \"fonseca\", \"ukrainians\", \"russias\", \"rferl\", \"adana\", \"claimants\", \"zypries\", \"admonish\", \"rotational\", \"peskov\", \"discreet\", \"poroshenko\", \"extradition\", \"juncker\", \"reparations\", \"ukrainian\", \"rt\", \"hungary\", \"kiev\", \"mogherini\", \"solberg\", \"kremlin\", \"viktor\", \"ukraine\", \"dmitry\", \"orban\", \"eu\", \"saakashvili\", \"gulen\", \"consulate\", \"european\", \"putin\", \"poland\", \"turkey\", \"russian\", \"german\", \"erdogan\", \"macron\", \"gabriel\", \"turkish\", \"russia\", \"europe\", \"brussels\", \"moscow\", \"ankara\", \"union\", \"deal\", \"said\", \"iran\", \"us\", \"foreign\", \"french\", \"president\", \"minister\", \"germany\", \"states\", \"would\", \"trump\", \"united\", \"told\", \"sanctions\", \"also\", \"security\", \"two\", \"officials\", \"government\", \"statement\", \"last\", \"election\", \"new\", \"could\", \"year\", \"berge\", \"qu\", \"sinaloa\", \"philanthropies\", \"becciu\", \"chihuahua\", \"coroner\", \"hurling\", \"hijacking\", \"surges\", \"grillo\", \"lim\", \"televisa\", \"simulations\", \"strenuously\", \"poppy\", \"ulchi\", \"baquer\", \"airforce\", \"racket\", \"homa\", \"cradle\", \"emilio\", \"durango\", \"casa\", \"ada\", \"sada\", \"recorder\", \"mexicans\", \"ratifies\", \"morneau\", \"oas\", \"prd\", \"namazi\", \"obrador\", \"tremor\", \"pena\", \"nieto\", \"morena\", \"mexico\", \"mexican\", \"zika\", \"cremation\", \"poll\", \"pri\", \"pontiff\", \"guzman\", \"lopez\", \"enrique\", \"nafta\", \"quake\", \"jamaica\", \"voters\", \"electoral\", \"polls\", \"survey\", \"results\", \"percentage\", \"pope\", \"points\", \"percent\", \"party\", \"voting\", \"election\", \"trump\", \"showed\", \"support\", \"said\", \"vote\", \"opinion\", \"states\", \"democratic\", \"would\", \"republican\", \"new\", \"us\", \"national\", \"people\", \"president\", \"clinton\", \"state\", \"presidential\", \"one\", \"last\", \"first\", \"also\", \"government\", \"country\", \"year\", \"barzani\", \"kirkuk\", \"bazar\", \"massoud\", \"oilfields\", \"peshmerga\", \"erbil\", \"arsa\", \"fukushima\", \"monsoon\", \"char\", \"masoud\", \"krg\", \"oilfield\", \"soleimani\", \"bengal\", \"jaishankar\", \"swe\", \"naypyitaw\", \"bouts\", \"payne\", \"turkmen\", \"baghdad\", \"luo\", \"mobilisation\", \"thengar\", \"mou\", \"overstretched\", \"shamlapur\", \"arakan\", \"kurds\", \"kosovo\", \"kurdistan\", \"kyi\", \"suu\", \"bangladesh\", \"myanmar\", \"buddhist\", \"boats\", \"iraqi\", \"rohingya\", \"rakhine\", \"villages\", \"kurdish\", \"abadi\", \"aung\", \"spd\", \"iraq\", \"boat\", \"merkel\", \"mosul\", \"refugees\", \"oil\", \"ethnic\", \"said\", \"border\", \"region\", \"forces\", \"germany\", \"northern\", \"state\", \"government\", \"would\", \"people\", \"city\", \"two\", \"police\", \"also\", \"us\", \"year\", \"military\", \"could\", \"since\", \"told\", \"new\", \"years\", \"one\", \"minister\", \"united\", \"last\", \"delos\", \"leaflet\", \"bellen\", \"zeman\", \"dormitory\", \"sirleaf\", \"austrian\", \"engels\", \"leu\", \"sobotka\", \"limbs\", \"escorting\", \"tatar\", \"chakrabarti\", \"weeds\", \"liberian\", \"slum\", \"bohuslav\", \"nan\", \"tito\", \"duisburg\", \"parolin\", \"pao\", \"smearing\", \"redevelopment\", \"bird\", \"imaginary\", \"liberia\", \"burch\", \"lowe\", \"fpo\", \"annulled\", \"berlusconi\", \"worshippers\", \"alwaleed\", \"rthk\", \"welsh\", \"babis\", \"melenchon\", \"mourners\", \"silvio\", \"kern\", \"ano\", \"weah\", \"clerics\", \"ovp\", \"homosexuality\", \"ghana\", \"teargas\", \"strache\", \"orthodox\", \"museveni\", \"madrid\", \"nairobi\", \"hrw\", \"kenya\", \"fein\", \"irish\", \"ireland\", \"labour\", \"kurz\", \"police\", \"sex\", \"brexit\", \"marriage\", \"religious\", \"church\", \"london\", \"women\", \"court\", \"people\", \"man\", \"old\", \"men\", \"said\", \"school\", \"village\", \"party\", \"right\", \"years\", \"one\", \"parliament\", \"northern\", \"government\", \"two\", \"social\", \"country\", \"year\", \"last\", \"would\", \"first\", \"also\", \"leader\", \"many\", \"vote\", \"told\", \"former\", \"eu\", \"political\", \"president\", \"election\", \"new\", \"could\", \"arreaza\", \"maduro\", \"hid\", \"misappropriated\", \"superbody\", \"dinka\", \"fsa\", \"prerequisite\", \"machar\", \"tanf\", \"berhad\", \"riek\", \"grief\", \"zulia\", \"wfp\", \"capriles\", \"anifah\", \"nuer\", \"masters\", \"grandi\", \"guanipa\", \"catalan\", \"dislodge\", \"spiraled\", \"bolivar\", \"venezuelan\", \"filippo\", \"menacing\", \"governorships\", \"juba\", \"najib\", \"caracas\", \"pdvsa\", \"barcelona\", \"zor\", \"euphrates\", \"dillon\", \"venezuela\", \"kiir\", \"deir\", \"venezuelans\", \"tunisian\", \"nicolas\", \"idlib\", \"tamim\", \"sdf\", \"malaysian\", \"rebel\", \"constituent\", \"syrian\", \"mugabe\", \"socialists\", \"doha\", \"carles\", \"catalonia\", \"spanish\", \"qatar\", \"syria\", \"assad\", \"state\", \"damascus\", \"islamic\", \"opposition\", \"zimbabwe\", \"government\", \"al\", \"said\", \"macron\", \"independence\", \"city\", \"year\", \"spain\", \"people\", \"political\", \"since\", \"would\", \"forces\", \"election\", \"president\", \"party\", \"could\", \"last\", \"one\", \"country\", \"two\", \"million\", \"also\", \"told\", \"us\", \"vote\", \"percent\", \"new\", \"nawaz\", \"sharif\", \"haqqani\", \"kabul\", \"kurram\", \"kashmir\", \"taliban\", \"bagram\", \"pakistani\", \"khaqan\", \"mata\", \"detectives\", \"lahore\", \"karachi\", \"islamabad\", \"pakistanis\", \"afghan\", \"kunduz\", \"mujahid\", \"isi\", \"asif\", \"rizvi\", \"helmand\", \"goldfein\", \"pml\", \"commuter\", \"ud\", \"pakistan\", \"khawaja\", \"hirohito\", \"kuria\", \"maryam\", \"mml\", \"afghanistan\", \"ghani\", \"mumbai\", \"pti\", \"uber\", \"yangon\", \"punjab\", \"india\", \"wounded\", \"suicide\", \"abbasi\", \"killed\", \"police\", \"militants\", \"khan\", \"modi\", \"shabaab\", \"insurgents\", \"attack\", \"attacks\", \"soldiers\", \"militant\", \"indian\", \"islamist\", \"court\", \"forces\", \"said\", \"islamic\", \"people\", \"troops\", \"security\", \"us\", \"terrorist\", \"told\", \"government\", \"military\", \"group\", \"would\", \"one\", \"two\", \"state\", \"president\", \"also\", \"trump\", \"year\", \"three\", \"mph\", \"bahamas\", \"intermodal\", \"bsi\", \"sana\", \"broward\", \"barthelemy\", \"saints\", \"fatah\", \"evacuations\", \"landfall\", \"barbuda\", \"browne\", \"pacheco\", \"antigua\", \"caicos\", \"eustatius\", \"ipc\", \"torrential\", \"guadeloupe\", \"kph\", \"kmh\", \"blankets\", \"branson\", \"landings\", \"brook\", \"anguilla\", \"rivlin\", \"onboard\", \"winds\", \"hurricane\", \"storm\", \"virgin\", \"hamas\", \"fl\", \"gaza\", \"irma\", \"nhc\", \"saffir\", \"fpl\", \"airlines\", \"customers\", \"caribbean\", \"flooding\", \"israeli\", \"category\", \"israel\", \"puerto\", \"terminal\", \"aircraft\", \"rico\", \"passengers\", \"miles\", \"florida\", \"emergency\", \"said\", \"million\", \"palestinian\", \"people\", \"us\", \"netanyahu\", \"maria\", \"damage\", \"city\", \"island\", \"air\", \"company\", \"one\", \"house\", \"two\", \"president\", \"would\", \"state\", \"government\", \"new\", \"monday\", \"officials\", \"also\", \"including\", \"trump\", \"year\", \"wednesday\"], \"Freq\": [7469.0, 98532.0, 10081.0, 7483.0, 31235.0, 8599.0, 15631.0, 14746.0, 4651.0, 3141.0, 1908.0, 6848.0, 1805.0, 22306.0, 30652.0, 17152.0, 5321.0, 6786.0, 21827.0, 3658.0, 7957.0, 3406.0, 7910.0, 8022.0, 1596.0, 2507.0, 2636.0, 4642.0, 4280.0, 6145.0, 240.1434993553653, 66.65065731430079, 111.5372041048108, 97.24155636764539, 75.50985520750358, 47.942159744060916, 56.89188152211541, 55.28262692248107, 46.5247930909072, 43.336894635369944, 40.84839993883177, 39.498035440641345, 48.94134869159907, 35.46546972652024, 34.76697240354933, 31.870444673798996, 33.73413985714146, 69.44250308450773, 68.44801734277617, 70.15503591377657, 672.5028812044745, 28.87050912571469, 63.57768525568196, 26.31903422778479, 295.11301818994974, 31.764206380697797, 106.09802925190812, 62.72109180734374, 22.853036638118436, 26.743927541206595, 1899.6401719800292, 1077.4421741413457, 93.72625492898727, 2079.6379809166115, 451.56937227800734, 131.842260469435, 921.2509554419577, 113.2173488428752, 181.8527076998523, 137.79944926030197, 236.9315461399482, 130.59792333269144, 93.94263090036749, 1201.3638141691943, 1425.9071048129042, 3481.0003943260317, 159.84232021746251, 600.5784251551414, 560.7942523740833, 188.23295697909037, 142.58238723222667, 2070.789523435214, 321.22026848547824, 1253.2840137947253, 1031.4480366355253, 573.678869959009, 398.1342957160272, 1402.3800845305643, 796.2483419932363, 2748.890507942865, 421.75535731107664, 680.1133409004699, 883.2848995043347, 6182.733790236359, 736.7020851309986, 1368.7621851175395, 2156.9711350452203, 1235.005337927507, 722.6870106992593, 2279.21170679641, 1328.4702713401698, 791.2423523481139, 5050.6234216799585, 16103.929920720439, 1663.5685656906114, 856.7125278083855, 2224.2638512128133, 5904.082174796809, 4766.812760026202, 1467.7211926217926, 1211.6572789017491, 3819.8771245035123, 2599.931987449088, 3899.68654784399, 2148.3226179687304, 3791.462966011996, 2891.473921329086, 3977.7621813959313, 2769.63213582345, 2657.4128471587196, 2062.198470982397, 1977.5527154571646, 2149.7605105521952, 2791.7946905414633, 1972.0282672073472, 1865.7617662730197, 1998.1591646515856, 2006.301628184999, 1889.5840452646132, 83.8367299609539, 53.340047341864604, 63.532879332028166, 58.65984194666484, 94.92186598714751, 160.2890441332886, 154.38199171119493, 72.3472353977948, 91.41508686808838, 48.26376602755796, 35.82798840195508, 40.94560867869234, 36.199349875272645, 28.89525543128408, 41.053144325629425, 39.51994927527616, 117.72795030233375, 35.54906959317537, 25.852584285896274, 25.829937401667774, 39.39448237478163, 36.18526226829674, 25.804711618319015, 43.44795352439767, 31.16058857891394, 24.68461470750547, 99.46814894930215, 21.001097011572373, 567.6884193484458, 110.75536790579297, 237.39177444926426, 149.47861520802024, 125.86221312289733, 726.1566520135952, 72.51212684805884, 76.1628994417523, 687.9791432409091, 180.6066686525348, 88.17506077412382, 576.2528148759181, 156.8724770792409, 155.50785409188077, 271.5875222653048, 352.46037583579243, 110.4501981765621, 345.84697183741486, 512.1164435072303, 255.3886367812642, 1327.470556404799, 1506.4294764937592, 3990.391435227894, 1493.8273746961588, 198.38218041713213, 11833.571679017896, 1375.1739849623937, 4194.918806180903, 1106.4197341504992, 4049.549997729143, 1025.0694384133792, 2541.2031640840873, 789.0135732317683, 1734.8253196294274, 752.3905181357085, 1028.8614674891542, 661.85459872748, 546.9549004120696, 2710.9842861268557, 2157.3877225153205, 3157.060715719385, 1676.5645697322527, 696.207669270696, 5225.091974880835, 2911.4711051279487, 2170.3708294856306, 2579.8092641527137, 3446.4415747838193, 5336.496938820586, 10484.773528080144, 3432.7228590713435, 1890.1242927734068, 3589.6356499759127, 3192.351596505138, 1901.0676782755418, 1243.8328858372427, 2078.329781551766, 1474.8099994946617, 1949.6837802198806, 1959.3377556852436, 1968.4477316488244, 1783.894517351769, 1666.0464555639721, 1644.8924476200793, 138.53027622072918, 108.75366447697458, 228.70779295762438, 72.75784096343006, 371.9657182997702, 472.6950464914251, 166.40896055699093, 44.3174241521625, 365.42383300163686, 62.70818647446419, 30.25090676345837, 37.65187272484366, 70.98406592782015, 29.950832741765602, 70.8125779491084, 23.14486496268488, 26.22732988204106, 38.79078725809814, 64.66822360187764, 176.91580773630332, 161.20649903447824, 23.04969073934029, 19.578793356205292, 20.85541397712253, 1360.9453085591997, 26.055441890863953, 36.845083511479324, 28.405915137309346, 165.96638868154588, 80.06577648085097, 6659.365979475466, 506.4324523218096, 151.5798613205551, 2285.8159788735547, 98.9606119963255, 73.07007105255812, 2111.795092487744, 953.8458678625432, 7795.604807791599, 281.010433613165, 275.57081979023195, 657.1058710241574, 412.37105886527604, 697.9596854454355, 616.0551450774171, 3096.4621747062724, 1070.9544944968034, 3513.1030480664467, 4339.340742941731, 1409.583145190202, 1034.3106316271046, 952.9966725372824, 529.1015755131195, 1366.2173866223902, 585.1509580759231, 1974.524534564808, 3266.765733275087, 4579.276018709074, 1487.3321548642034, 2545.6981085685593, 1498.055669873255, 1051.390196203078, 1888.5737651124687, 3539.2554127381386, 3764.7950686455774, 14020.323815068641, 1901.4583247104183, 5975.8853847545615, 2503.8927722799835, 1653.3830683354354, 2107.114592140987, 2696.7457281534707, 1808.9353552428106, 1878.359046797079, 3545.677687123277, 3248.495041760351, 3421.7155582945165, 2873.784902608432, 2579.707465388566, 1860.2815110021425, 3015.0773918525238, 2258.147954994199, 1922.9269697733562, 1991.0994414982576, 1943.0375461682763, 85.07480316881758, 48.49346421865643, 41.586138812375104, 67.08947793545049, 37.36269658010559, 29.886207189504088, 118.96072591182825, 84.68535834976176, 138.84580395409054, 21.9303200427409, 28.684295166931427, 22.219841237686367, 42.59528565024725, 15.723822765939746, 112.32077201031298, 31.009394564770194, 17.714460983637647, 19.0221028493673, 17.43001204842854, 32.19788929609185, 51.94940820468254, 31.117499045286312, 38.93089722010287, 24.200140715684697, 29.38219175133021, 14.835510954281247, 27.198656365020742, 12.913531196331864, 12.864982577860944, 21.225727689195743, 283.83200592546035, 36.57108498061584, 286.72814927357194, 262.40930458896923, 700.1295375659034, 68.67681302343144, 400.28949278895846, 105.79144423314301, 551.14874273364, 266.1252332729018, 98.04412171096995, 144.6630538511825, 722.7088385949171, 116.32942598641401, 1091.5025321122184, 188.93129029913038, 265.57075491302675, 5391.500892422709, 237.1838184246698, 363.90883805816134, 207.813960194264, 3924.5113012562524, 1330.21418770698, 868.8063322209189, 2622.9117405258835, 2690.561396809303, 1689.427437380539, 980.1330057053002, 1210.1390626168902, 334.06212088406187, 1151.9491889834678, 2629.0564650401498, 1370.9175966613984, 740.8089104259503, 970.4317633187017, 599.7116798493498, 1856.5910568830293, 1963.5063516301134, 15584.166310365696, 1976.7198854754006, 6130.82753124604, 2211.247063063733, 966.5554967166717, 4095.3112384643887, 2419.030171214007, 1216.1616837717488, 2501.6846684443963, 3830.497208476735, 4027.350349096135, 2364.916819186008, 2521.7549445937916, 1263.4144477205402, 2284.1262867368587, 1750.105527503309, 1831.8933518452136, 1488.2417564133812, 2030.7960158944015, 1453.5999757612583, 1697.0037516755774, 1668.542268957391, 1702.6689904444079, 1516.743070373669, 1410.2411964497765, 53.94221014049838, 65.12237548073783, 41.39130563941209, 55.47677348975868, 37.722483242223326, 35.81485286065918, 35.91391261538811, 31.325646482200344, 40.50967694576005, 68.50483350892343, 88.81099783454137, 133.4963019064078, 27.647432305096697, 53.025114837514884, 24.072256358603614, 63.26213932756144, 34.069598174326835, 28.86603868678187, 21.092243225107875, 30.626475221461344, 33.13922436646264, 25.341505341525934, 31.122982374188783, 29.863980211630885, 18.68670014487184, 45.36115303066341, 37.9835516885208, 24.706922821228392, 277.2670821979873, 18.072015860423896, 168.95458728243318, 131.0013407261923, 54.89157443578972, 55.21091057007294, 314.8876126034127, 150.04232629568537, 598.0756664126075, 632.5234735748182, 67.730213713175, 2622.5370883462674, 881.2246460445466, 338.9036764064458, 127.58031998330318, 2188.5667195359924, 271.3047250673046, 148.77650723529692, 75.106635958442, 362.1712401425313, 278.7365648657256, 287.86486738473525, 350.107470535729, 239.9452303057561, 1971.512944488766, 719.2633994602224, 1393.759598371549, 784.7707734966148, 861.0467534035363, 492.53874992507696, 517.4825989888599, 754.8860556258619, 4514.4466571623, 5946.645750709569, 640.545705138614, 3817.2681326117995, 6488.208475162175, 1169.5765194818543, 1908.3405883127, 10789.741283536365, 1877.6722004920343, 689.2384393385685, 2209.5667003827302, 1393.2359856557123, 3150.8631931873183, 1773.6917855833801, 2337.9451440134085, 3174.1542763922075, 1764.7972409721085, 2218.507221963562, 2563.252034971571, 1525.6837659047426, 2000.5146671628652, 1363.8314647482898, 1614.9816604716164, 1607.0550060320427, 1384.3594320325296, 1587.4784371804194, 1577.1509853303194, 1307.6784674874823, 1386.463128264755, 305.14481955384764, 486.6754655491048, 140.46600347206154, 53.3957294881821, 56.540142455629564, 191.02630076547365, 144.95421640953427, 168.3038295854421, 40.49241529537714, 45.560570595378316, 28.00514871481319, 64.1899010305866, 310.78180057327825, 22.49990287966678, 45.73576309521346, 36.890418774915034, 17.961296249662, 24.0925249994137, 23.255648564688837, 24.656765432849184, 20.88063012279829, 90.04185871385704, 622.9243625587036, 19.206449183560977, 48.629814508126195, 22.803068488922136, 15.629680791387853, 19.16820279446269, 18.85000370355187, 84.94826289709536, 623.0981193783281, 147.13602884564372, 473.7462300842394, 503.3206101977526, 502.21626917405683, 1264.703289410619, 2523.3273029258985, 342.07775883004774, 222.14985885456088, 1180.29266899535, 1866.8483278546003, 813.0470936165469, 354.4498976876635, 1513.2242228870077, 250.35043789162833, 251.03640326200758, 515.2411288437792, 1383.4155502176384, 240.66125606329004, 1308.6436389099072, 172.95142936905455, 858.0912045988953, 1018.5314975574613, 551.8061915302195, 9647.427084632003, 1144.555769877035, 1130.0352211981192, 1224.9617645010194, 1025.7147456779103, 765.0375785733847, 2359.1027676740737, 2586.7975396152897, 2711.0801342686573, 1776.9449266671147, 1022.9864791080396, 1523.8366656332053, 1192.555327358369, 1586.6271538426704, 1932.8858241882185, 1493.856923187918, 1172.021991900659, 1332.5590681453532, 1146.1386534091143, 1304.5293218819766, 1311.5529329001024, 1100.557782427271, 1170.8196031385396, 1138.419909741466, 1145.502212420314, 1108.5593419250417, 96.29961238452995, 29.526402306420586, 28.781896276565213, 40.761668107989514, 26.716336979931803, 80.88562721998093, 103.08535867058643, 47.25039015764812, 15.59895921933329, 15.129835382784513, 17.851507434471888, 17.736805223198044, 20.11845436561924, 18.015243653128806, 20.331462178958635, 17.068003146471302, 34.49024278525696, 12.907119801467973, 22.93544520760821, 44.72652804601157, 13.520699801604408, 18.452171325058842, 18.29016764235798, 15.223554315751807, 19.483764579653194, 22.260450433350226, 12.516206926888957, 74.52149039614154, 16.377151734140032, 12.2527102696513, 263.5379048612709, 68.56044356736304, 128.12686872382727, 60.43742636718212, 36.941116227186654, 29.322253105244723, 28.448690888572226, 221.79454454543543, 91.12926225927038, 51.868460891567125, 39.95524435946969, 65.59863092418927, 120.99226405796117, 74.95359689722326, 78.75590701031076, 96.36346474263242, 36.23249822173882, 36.994542514059376, 64.99959003255668, 99.36501309024436, 94.67028188290041, 127.10805735738599, 397.3986622712506, 116.62336069013128, 65.48600220207386, 270.4782186561118, 107.33373430998303, 308.8996024961713, 554.0834503303896, 706.1173528383476, 250.9223525021878, 2111.5319577226023, 286.7569598795086, 848.1039661539038, 258.28383144014043, 407.17099199060584, 240.3678483665988, 569.1029665247419, 791.9586191470114, 1600.7515018211197, 2380.9090055292113, 565.1231509290548, 857.7646483558347, 494.6748263384212, 6869.06594270452, 446.7994427336171, 262.45988797403754, 2413.7084444132797, 920.4016949675015, 1253.7517088292898, 1644.4724030530324, 893.7377105032712, 568.8976910980559, 1916.9231516930884, 1376.7706357488676, 749.7521549013953, 1154.6273747588923, 1469.910188944941, 1324.00507607024, 1788.488073616495, 1071.965853443493, 1349.3215887942183, 920.4975691566849, 900.6771850286907, 932.6244198686384, 1188.8154589536446, 985.8512815162302, 949.4520679779439, 953.3483515818194, 1202.559729946764, 1049.5256651325933, 1066.16561310427, 953.899406010071, 30.370850467138727, 593.5443729270853, 25.162517075455096, 21.208576482688446, 25.351939409981206, 22.51302501293395, 19.93405775038616, 15.037290007226108, 57.88898643073821, 16.569493982419143, 12.78852390574905, 35.316995840995375, 11.4438468512676, 13.064456007984836, 66.09897136836996, 14.742012779389452, 9.797804835909725, 17.45489032765767, 24.693990388232677, 50.38939418747939, 9.134585069834586, 832.0540223776987, 27.013911538118947, 15.062173149175464, 18.303927173780423, 219.88419286738912, 21.527048020091687, 9.554363791232907, 23.592442172026942, 43.79336344993282, 147.59669539458244, 77.36453144127181, 99.3251740454647, 253.67512615406096, 433.23370851533645, 206.85284007493476, 67.95526309480584, 595.6574885568829, 108.26927702969954, 400.9565852865443, 60.22759561387463, 51.95177539148305, 145.96930056303904, 168.92596445273912, 52.07438438904702, 326.66760552170604, 146.7291840994017, 332.83855002903556, 68.75996896622586, 1150.1740772310166, 403.71671862910836, 65.17636235437378, 89.95297831254842, 122.0341736424043, 459.97364638987773, 391.80661048360724, 314.1417399858574, 996.6345779258739, 336.0231066738323, 2963.286446917207, 176.44323166324378, 1061.97223719476, 1139.3984162700733, 196.0282718353684, 2883.395370877731, 867.5960005705239, 6883.088862851554, 580.195767077537, 658.0228401801439, 877.5854849640615, 1578.3347993733983, 441.0174914495944, 1427.5535286599913, 1051.9332292796842, 993.3374168938693, 1594.724470638671, 701.8853675602794, 1140.404199403576, 1290.109248550885, 1287.9856381175036, 1011.4896922884597, 973.4663092909587, 922.418987090012, 840.7382669290658, 898.3457003752217, 751.6905681327808, 868.3012812498058, 843.8490611643316, 866.3439443593264, 727.9887451775826, 718.4422834178961, 705.6474371866339, 215.2748280621031, 523.5305572443016, 133.36502494909823, 327.4640335406418, 44.57486864760963, 91.4446830476382, 854.4528440840772, 51.882351177562214, 477.0095155858421, 40.81142104057696, 29.116956767244005, 29.745330082202845, 77.44966874298774, 29.114680836009278, 252.47945335829297, 43.92048192287854, 797.0965360902426, 27.846347940557642, 32.80693214878566, 49.292525443903976, 46.1058795185326, 20.310224713110088, 46.08634524916901, 32.50686110736844, 189.39936877712302, 55.04325809621801, 103.43183530602835, 1743.9177103672494, 20.895064790196162, 18.74325090040716, 47.575546779069356, 113.56264120123718, 69.3754201376486, 1301.2791597877824, 121.20597370292542, 119.90739513408633, 50.33120880709348, 134.46308913375094, 100.54195144403789, 72.90252600610766, 758.7552106590209, 469.3728720621941, 340.2237885888474, 118.66033977447596, 1702.3426385330467, 2366.1967981557086, 1002.5937182193414, 254.42674657926824, 247.76178687718487, 179.350909625085, 337.36434086824846, 916.9350270026637, 915.3895889875024, 484.49435288199817, 415.3453507770855, 276.4109639113179, 405.38502343030717, 1172.3415926470589, 852.4740429356539, 4616.304755374686, 799.2472362264486, 1592.6400929236725, 491.90083357825455, 1118.4359708845366, 1459.6315982519689, 358.091211111927, 926.8323384945458, 1044.5258110281695, 728.9481947696788, 673.5028167494039, 924.3769928565542, 762.4985073968803, 704.952532010276, 733.2115789197928, 742.1654087677935, 692.8518866476473, 764.2160510091845, 640.5942327953429, 580.8708013603716, 120.81849103193719, 65.79755562890352, 44.17288268894199, 29.81964910800788, 57.24680849391743, 38.13901993402081, 39.90504083435443, 22.255843534670024, 145.74482150896682, 69.43988154741459, 141.13927696647553, 97.74767177991612, 24.70947719020317, 15.960344476221954, 68.49565276040991, 18.378457686073276, 30.7920650368637, 15.610108078211022, 34.21538388582835, 25.479181700103936, 85.95902429766359, 60.79010739893422, 18.167247309973053, 48.92426312270759, 9.401146704127287, 10.505624757432676, 16.89583021070653, 13.996762960941094, 13.310276699370236, 338.55252618405154, 1393.0078924008537, 1002.4056693644948, 188.93322447517562, 379.7719279344624, 94.63633553721054, 339.54755813678963, 881.2149002527232, 89.77179405401641, 59.84274583706418, 218.44525858721587, 212.53502818171071, 277.33259163100604, 297.8398820958626, 144.058762076426, 479.2400361297753, 202.83660463867153, 781.5658429811866, 479.3476365038178, 145.0104050972787, 289.19407090758693, 428.8146830451611, 142.81046616098874, 326.31670119622504, 718.7297307602637, 282.18590733759925, 3533.7860879419395, 796.3052563304203, 289.26687659545803, 938.3025794473542, 1216.4733554361721, 239.81193185314007, 198.37240045552275, 244.5298490300521, 479.07241178931235, 314.18828861594903, 368.24565556847585, 384.19181379584916, 573.236648596895, 506.02258792744965, 529.5585407063147, 540.8329379731257, 564.2145911472886, 479.2022339797332, 482.9107293246923, 459.14295120579, 388.829782558197, 386.60542886312294, 408.67490884234365, 380.56656672164576, 409.9732978278782, 396.80741463802127, 380.60733456522706], \"Total\": [7469.0, 98532.0, 10081.0, 7483.0, 31235.0, 8599.0, 15631.0, 14746.0, 4651.0, 3141.0, 1908.0, 6848.0, 1805.0, 22306.0, 30652.0, 17152.0, 5321.0, 6786.0, 21827.0, 3658.0, 7957.0, 3406.0, 7910.0, 8022.0, 1596.0, 2507.0, 2636.0, 4642.0, 4280.0, 6145.0, 241.93641342735924, 67.92428414735704, 113.91664458911845, 99.37534107970149, 77.45144639578977, 49.22342951285734, 58.43203206516419, 56.880530973570885, 47.87891117623905, 44.69758394473498, 42.17115261738851, 40.870135367591885, 50.64406590222152, 36.744776999502974, 36.083374004172796, 33.191697578800664, 35.134099921007646, 72.34061665494433, 71.40376600311292, 73.2061960640853, 703.6421938635203, 30.217630937014828, 66.63720107546149, 27.648482781917096, 310.2868825003328, 33.4270565114725, 111.87074130934464, 66.15361056348996, 24.16837219432856, 28.29953417625472, 2023.6816299468362, 1151.6897649258995, 99.71445260884731, 2328.105379042916, 494.91838816983056, 141.07009819248378, 1039.5054988308757, 121.1433248154186, 197.78650233236573, 148.70353547231244, 260.28706983715483, 141.7826650971722, 100.63738319508404, 1509.2827263934316, 1846.2298875722304, 4851.735223182665, 178.73118570468912, 756.904460911962, 707.5681026853349, 215.35511665895802, 159.10671819004133, 3125.4003460677254, 395.447526195888, 1842.389128695477, 1482.6730188283527, 765.5073214440838, 508.8011279609001, 2222.3596011608615, 1156.042447001159, 4938.5299227892465, 554.9582571670805, 980.9818518072747, 1362.3511975333913, 14746.8562943929, 1127.5187724488362, 2401.7762553417374, 4196.455482709656, 2175.0212904943855, 1106.4714908008318, 4865.657012383149, 2446.182747650706, 1253.401097926749, 16729.84113805031, 98532.607591276, 3763.000903426405, 1411.0385170601032, 6075.042838209285, 27479.678047258953, 21827.767291281314, 3331.4286387737848, 2483.4018740953074, 16785.12717571471, 9748.582133360063, 22048.907583291213, 7326.637739928066, 22306.42886606619, 14191.73239337287, 30652.51348422093, 15450.054081731692, 14959.425756357225, 7957.025253903495, 8144.185591293366, 12076.48879004264, 31235.360567596617, 9519.460184845053, 7774.651042983706, 13258.866417345647, 14987.833146790039, 9822.571250790132, 85.57228968519402, 54.45149454809008, 65.02280250671457, 60.04232315370168, 97.31337371967393, 164.36089756858055, 158.62086017526934, 74.36467248541776, 94.02225033911273, 49.71001217520886, 36.913312034170836, 42.23391708550438, 37.494795236526684, 29.991667244439885, 42.61180695281788, 41.04677270137871, 122.28350036946742, 37.084093623728485, 26.97935378560795, 27.016210185084272, 41.222006635259135, 37.88028617988822, 27.072125416236204, 45.62318297565341, 32.74400704265279, 25.94976945081229, 104.6736913421273, 22.125046155261103, 598.1559970692203, 116.88135118758309, 251.9148558228865, 159.486715486898, 135.04401118246716, 808.4592818634789, 77.49430981260905, 81.63451681332057, 799.634983187824, 199.86601613903727, 95.34389414651481, 675.1398749691533, 174.1184150062492, 173.4805486360559, 315.1683723630853, 417.5236951538298, 121.58458252943568, 417.8587233880353, 667.9281863825729, 317.5179708420087, 2038.649866095858, 2418.263502092263, 8022.162707652009, 2595.3289043670725, 246.6479108107417, 31235.360567596617, 2458.1226145558458, 9519.460184845053, 1964.504792666188, 9822.571250790132, 1817.7202615199817, 5632.2482367878465, 1350.5832114335174, 3658.803903912324, 1294.287046546852, 1962.766186809164, 1119.6986506011228, 885.7597406614832, 7638.223608414786, 5627.872416862049, 9748.582133360063, 4143.259303990204, 1238.6170299144928, 22306.42886606619, 10066.678284441192, 6547.28091378511, 9510.319309429873, 14959.425756357225, 30652.51348422093, 98532.607591276, 16785.12717571471, 6588.834923700243, 27479.678047258953, 22048.907583291213, 9152.702917196997, 3488.8324500544513, 14987.833146790039, 5883.95171962464, 14191.73239337287, 15631.297210709457, 17152.39216468848, 16729.84113805031, 13258.866417345647, 15450.054081731692, 140.0948947520581, 110.62865228979237, 233.14489941350604, 74.45988859053007, 380.96303905603537, 485.7781093718945, 172.3933856592668, 46.18219067271561, 381.3400312364489, 65.89731971560997, 32.067391195787685, 40.02867637226649, 75.83182805093432, 32.02000310632062, 75.79022148212913, 24.80760313406965, 28.159298472412942, 41.70002756499934, 69.5920673012085, 190.99054411386632, 174.06401232858488, 24.892266619862138, 21.190810034392374, 22.62019267993745, 1476.3582292779324, 28.30273267822474, 40.07232402145114, 30.96488356146098, 181.26403298861408, 87.49178887502356, 7469.051583121219, 554.9020996038247, 165.89465238518562, 2599.906132536073, 109.10578514466104, 80.34812187711861, 2534.0497475520847, 1118.328206090049, 10081.299866326395, 324.6432190319991, 319.9518192402104, 806.9957072073678, 496.49532355320105, 876.2941445236595, 781.8579088141971, 4552.301551632639, 1444.021760567394, 5321.697312043458, 6848.516143616595, 1993.868275098689, 1452.7250194994008, 1333.8216746601693, 689.3739445405154, 2180.090178328757, 828.0820228895252, 3879.8886657209314, 7910.996224964085, 12252.338805234313, 2928.516977647846, 5964.232389612323, 3037.37051740369, 1883.1185147799224, 4491.106795506128, 11255.534343373214, 12549.533657124291, 98532.607591276, 4653.001510523131, 30652.51348422093, 7620.29561390634, 3870.562595338509, 6145.657213009465, 9800.076309392558, 4860.930868695614, 5293.158934095725, 22048.907583291213, 21827.767291281314, 27479.678047258953, 17152.39216468848, 14987.833146790039, 5606.81426840581, 31235.360567596617, 15450.054081731692, 8770.311585835016, 12803.889671038018, 9938.47335256105, 86.56945802349254, 50.25201316994173, 43.22983886887233, 69.75152712061018, 39.29743725235884, 31.470228036802254, 126.78271769436927, 90.52749753380323, 149.0073385061452, 23.57612587620978, 31.27626145044575, 24.24686593466251, 46.636912100135696, 17.219231108289875, 123.3483835941312, 34.104399622810675, 19.501839382164892, 20.94436408510227, 19.284156011072145, 35.651433711782936, 57.626485098870084, 34.51888742065422, 43.19345363750881, 26.865080273426816, 32.71874421656541, 16.59072963357164, 30.42173951843362, 14.463727142340238, 14.432533277342936, 23.878905868827612, 321.60795348651817, 41.276915573219696, 331.6680720530654, 304.15764263108247, 831.0529157625601, 78.18891079691156, 477.6372200303199, 121.99376718742222, 681.1875868979481, 321.00898602975394, 114.08338811273885, 172.1340179178692, 923.6844657583192, 137.74436343641048, 1456.9109914971357, 231.4683684716563, 334.11055968166403, 8599.35493481433, 299.11384364441363, 478.77356664569305, 262.31458417006615, 6786.86755433277, 2156.624428805198, 1338.3360328133278, 4746.006415839288, 5010.103068883971, 2974.369509293791, 1713.6877140292713, 2261.0924833908243, 482.1178337889656, 2196.8386737058036, 6145.657213009465, 2861.5582061844198, 1325.4832853325047, 1907.9166721570127, 1034.6699025704472, 4853.977205324028, 5382.599432941544, 98532.607591276, 5606.81426840581, 30652.51348422093, 7620.29561390634, 2286.775826696203, 22048.907583291213, 11255.534343373214, 3589.4862793125353, 12549.533657124291, 27479.678047258953, 31235.360567596617, 12252.338805234313, 14987.833146790039, 3879.8886657209314, 15450.054081731692, 9800.076309392558, 12803.889671038018, 7228.859948668775, 21827.767291281314, 7132.148197316295, 14191.73239337287, 14959.425756357225, 16785.12717571471, 12076.48879004264, 16729.84113805031, 55.44886741157639, 67.26950799932095, 42.91078018439658, 57.5361545150424, 39.3614082097388, 37.40881686741216, 37.52210727921631, 32.76208662640073, 42.38052998506828, 71.76266576787773, 93.13919980738682, 140.84766178994633, 29.273495632998603, 56.209507966181604, 25.548930085449005, 67.20169257356645, 36.20666645738058, 30.75466914715948, 22.529818693414082, 32.802017612194454, 35.50646289252266, 27.15604212618391, 33.46445362938865, 32.1312547914217, 20.136349952798923, 49.02437751073969, 41.140350180420384, 26.823000897204892, 301.02173133244617, 19.62351200236885, 183.53433523988852, 143.52900689182536, 59.76374852718506, 60.120149233647595, 361.1154329815131, 168.4692563958175, 708.818960211953, 761.8501238880929, 74.85916360991014, 3406.727024499332, 1146.8696204700375, 426.06779968792455, 149.22355193406264, 3175.8426019759354, 341.6664344145965, 179.0527993792219, 85.28049579695399, 506.03790287772154, 376.94422476127727, 391.80731948957936, 494.513580548207, 322.33412247873684, 3873.6369948418337, 1227.8789146985819, 2822.319385278467, 1423.3317208129786, 1601.0109902407967, 823.438405596056, 892.1698813717941, 1445.5499065563874, 14746.8562943929, 22306.42886606619, 1284.8192939481835, 14959.425756357225, 31235.360567596617, 3312.04207091946, 7401.2100739171565, 98532.607591276, 7774.651042983706, 1672.206032401914, 12549.533657124291, 5883.95171962464, 27479.678047258953, 9519.460184845053, 16785.12717571471, 30652.51348422093, 10066.678284441192, 15631.297210709457, 22048.907583291213, 8022.162707652009, 17152.39216468848, 7638.223608414786, 13258.866417345647, 14191.73239337287, 9152.702917196997, 15450.054081731692, 21827.767291281314, 9938.47335256105, 16729.84113805031, 308.41046888897705, 493.45492204191555, 143.45511325276237, 55.23487608894507, 58.93024357836682, 199.45469705061134, 152.3255829081109, 176.86436351230492, 42.828252536606776, 48.365111209410315, 29.752310170155233, 68.86121556288306, 333.8128553098248, 24.269198010197183, 49.58758806279658, 40.31196570702417, 19.635310672616303, 26.37707265946634, 25.543563090672574, 27.18133308746968, 23.023353964414564, 99.84314861593562, 691.4355489480039, 21.371100940133122, 54.17182909568919, 25.433842750823043, 17.545343073211477, 21.522775642963563, 21.293972571888528, 96.10615741937688, 712.9633907273243, 167.23534077077986, 553.6917588142039, 589.2422474154785, 593.201791284346, 1540.9695140966317, 3141.9598256459644, 403.4495582483425, 264.9891036930793, 1538.0516593306497, 2507.6675002041293, 1069.2628151547392, 448.96612426669276, 2160.433936693897, 322.2753726822084, 327.06027681683, 763.5254173856262, 2604.211709847039, 328.58926483098315, 2965.892914502072, 241.37117643877434, 1943.494918333979, 2463.3152421436844, 1146.007123367605, 98532.607591276, 3906.2316619929034, 3868.708947505511, 4642.53960830183, 3589.4862793125353, 2168.356878893578, 17152.39216468848, 21827.767291281314, 27479.678047258953, 15631.297210709457, 5020.261164733452, 12803.889671038018, 7483.707463453854, 15450.054081731692, 30652.51348422093, 16729.84113805031, 7910.996224964085, 12076.48879004264, 8775.502052355281, 14987.833146790039, 16785.12717571471, 8023.4693629347, 13258.866417345647, 11255.534343373214, 12252.338805234313, 14191.73239337287, 99.93946546805195, 31.100793329865304, 30.486987460214408, 43.86876268315063, 28.762317853073085, 88.32179098930975, 112.74056526114063, 51.94047262071263, 17.235044295556957, 16.718424141591946, 19.73894730036493, 19.632986767121444, 22.28453997811499, 20.106316310927166, 22.72726452144884, 19.089109879512023, 38.63448640835816, 14.49223660293478, 25.755225541498493, 50.26234896242341, 15.223776935782562, 20.77643504313288, 20.675752343363595, 17.24673712662852, 22.15200468747926, 25.31250917295466, 14.264625854253488, 85.06026351068846, 18.713463433122847, 14.009477240051819, 305.5244720530341, 78.9104275554409, 148.54524893968212, 70.59861986218391, 42.6243121263656, 33.79341822695012, 32.755820414474734, 279.21083670530186, 110.68455076378413, 61.262476547764976, 46.82166883814886, 80.43470727527362, 155.3594035826525, 92.9470219878055, 99.13213749988861, 124.93022849855056, 42.67332854912262, 43.71864461989979, 81.8588612722515, 131.62023472477486, 125.58128291586306, 176.94813039170282, 647.3491447546676, 164.7491370185434, 83.57194869301134, 453.22422362466796, 151.05805095864622, 559.125460332197, 1168.0761444965644, 1659.7637924770975, 464.68017607808105, 7483.707463453854, 592.1347420639635, 2538.432233195231, 518.175072002469, 990.6908215654195, 479.06513600270176, 1618.3226194612844, 2678.3744800458758, 7957.025253903495, 15631.297210709457, 1815.074073586533, 3548.1317728671816, 1562.3546063338263, 98532.607591276, 1373.47067854476, 602.0271168262731, 22306.42886606619, 4630.647712980463, 8023.4693629347, 13258.866417345647, 4758.394845664725, 2168.356878893578, 21827.767291281314, 12803.889671038018, 4123.198120241508, 9938.47335256105, 16729.84113805031, 14191.73239337287, 27479.678047258953, 9152.702917196997, 15450.054081731692, 6564.056835512299, 6626.866980071001, 7774.651042983706, 14987.833146790039, 9510.319309429873, 8599.35493481433, 8911.615761919935, 22048.907583291213, 14959.425756357225, 16785.12717571471, 12076.48879004264, 32.097334830785016, 631.8635784961224, 26.95093119747715, 22.897763893250417, 27.747538390730476, 24.649230217008384, 22.028187285264597, 16.635798132378522, 64.13811948002827, 18.365841660503232, 14.429534659864306, 39.93421388101685, 13.012535657142077, 14.93209535840558, 76.6146699414414, 17.10166302219686, 11.389683460185951, 20.31134567629653, 28.798543253069095, 58.84127676299282, 10.7457588472692, 979.1305873144555, 31.82148603403623, 17.78555205501548, 21.643099740984756, 260.9227650098412, 25.557767549435855, 11.345625376167806, 28.085973385230698, 52.31986429053693, 177.2768309767019, 92.7211787622529, 119.629173441717, 314.2566763890887, 555.7232746478104, 260.8379223281831, 83.54595355419454, 804.4182072189677, 136.3786750747429, 553.8676670732309, 74.76013268768533, 64.27677068608783, 196.11576810096932, 242.0350714384973, 66.26675970924583, 524.3294523242319, 213.25060249663377, 567.9238532215762, 91.63800135146597, 2592.339025596338, 785.4182800189215, 86.72514135361583, 129.7455502654632, 196.3822520054486, 1117.2510687977237, 923.0117601401303, 695.4651698801229, 3369.494137682881, 809.0950325661731, 17152.39216468848, 332.8746574662003, 4280.738457991986, 5079.482128830124, 392.69209289321157, 21827.767291281314, 3870.562595338509, 98532.607591276, 2261.0924833908243, 2781.3782154225783, 5020.261164733452, 16729.84113805031, 1610.6211727300047, 15631.297210709457, 8911.615761919935, 8775.502052355281, 27479.678047258953, 4642.53960830183, 14959.425756357225, 22048.907583291213, 22306.42886606619, 12076.48879004264, 14191.73239337287, 13258.866417345647, 9938.47335256105, 12803.889671038018, 7326.637739928066, 15450.054081731692, 14987.833146790039, 30652.51348422093, 7774.651042983706, 14746.8562943929, 16785.12717571471, 218.8503278242999, 534.2838170994686, 138.0848278916999, 340.5882579150918, 46.38281589015908, 95.33500362799062, 891.5881903051787, 54.25811871837239, 499.64978865276646, 42.8551060264274, 30.73378099078462, 31.4257526982304, 81.92971196557421, 30.90225366029321, 268.51433627005866, 46.74568518145336, 848.4074525579499, 29.73705814793611, 35.111652774093535, 52.81350447790257, 49.44774039260665, 21.88131319705045, 49.90483286111443, 35.42088215539626, 206.39495364471543, 60.04457182664712, 112.8903112988318, 1908.3040989443452, 22.981543915797662, 20.802326006012308, 53.18258987108829, 128.8926932812384, 78.11103468416246, 1596.3013611645868, 140.63142338033717, 143.68687641900763, 56.40794962474396, 171.34010436440576, 125.26197542252189, 87.12975178953519, 1413.8572242951732, 812.5464663043764, 579.9512825240253, 158.6361919640988, 4651.281180898323, 7483.707463453854, 2596.3153686783467, 442.15884532469494, 444.4762754602913, 296.42617951194154, 708.142037552832, 3128.9857792971848, 3480.19205852291, 1438.4382770979933, 1197.7518195686514, 615.0426759763486, 1224.5177987685693, 7957.025253903495, 4642.53960830183, 98532.607591276, 4280.738457991986, 15631.297210709457, 1809.3617480893283, 9800.076309392558, 30652.51348422093, 1001.3464493177712, 14987.833146790039, 21827.767291281314, 7910.996224964085, 7268.09023328392, 27479.678047258953, 13258.866417345647, 12803.889671038018, 17152.39216468848, 22048.907583291213, 15450.054081731692, 31235.360567596617, 16729.84113805031, 6155.423838259743, 124.54796785146203, 68.23593795362476, 46.06075354232973, 31.521705457795356, 61.51962289993298, 41.074453200982376, 43.10412103702927, 24.12378825240061, 158.09685290631444, 75.49846877750365, 153.75491357142744, 107.33657871980634, 27.252022737147737, 17.706597940682553, 76.72561030275763, 20.843722374652195, 35.028158795223455, 17.771520270229036, 39.06564815432675, 29.1359503254758, 98.37730102497426, 70.68513420360713, 21.133822297094405, 57.00437588617807, 11.143145433101791, 12.613478086020631, 20.320814720818014, 16.88044368258275, 16.118472541936843, 411.4472292731029, 1805.443475940472, 1294.1171300435142, 237.60432699214314, 508.31134998946885, 121.92766369342354, 486.9740323772481, 1477.419487796928, 120.9586014352414, 77.58874862022412, 354.37786259673044, 357.4099978145969, 497.47449973717687, 555.6701413586162, 245.3134113419056, 1223.6671186647482, 410.33725511301486, 2636.209089515651, 1411.0385170601032, 262.5832152912826, 724.6813749824906, 1362.3511975333913, 257.93784130310274, 998.3738337418722, 3658.803903912324, 881.4363533711148, 98532.607591276, 7326.637739928066, 1051.784666101959, 15631.297210709457, 30652.51348422093, 811.8596726874221, 529.2438757728803, 887.137755566777, 5020.261164733452, 1695.1516597214918, 2684.3792622020824, 3074.7493436746327, 13258.866417345647, 9748.582133360063, 12803.889671038018, 22048.907583291213, 27479.678047258953, 17152.39216468848, 21827.767291281314, 16785.12717571471, 7543.985243802182, 7228.859948668775, 15450.054081731692, 7459.65210476753, 31235.360567596617, 16729.84113805031, 7559.887166838254], \"Category\": [\"Default\", \"Default\", \"Default\", \"Default\", \"Default\", \"Default\", \"Default\", \"Default\", \"Default\", \"Default\", \"Default\", \"Default\", \"Default\", \"Default\", \"Default\", \"Default\", \"Default\", \"Default\", \"Default\", \"Default\", \"Default\", \"Default\", \"Default\", \"Default\", \"Default\", \"Default\", \"Default\", \"Default\", \"Default\", \"Default\", \"Topic1\", \"Topic1\", \"Topic1\", \"Topic1\", \"Topic1\", \"Topic1\", \"Topic1\", \"Topic1\", \"Topic1\", \"Topic1\", \"Topic1\", \"Topic1\", \"Topic1\", \"Topic1\", \"Topic1\", \"Topic1\", \"Topic1\", \"Topic1\", \"Topic1\", \"Topic1\", \"Topic1\", \"Topic1\", \"Topic1\", \"Topic1\", \"Topic1\", \"Topic1\", \"Topic1\", \"Topic1\", \"Topic1\", \"Topic1\", \"Topic1\", \"Topic1\", \"Topic1\", \"Topic1\", \"Topic1\", \"Topic1\", \"Topic1\", \"Topic1\", \"Topic1\", \"Topic1\", \"Topic1\", \"Topic1\", \"Topic1\", \"Topic1\", \"Topic1\", \"Topic1\", \"Topic1\", \"Topic1\", \"Topic1\", \"Topic1\", \"Topic1\", \"Topic1\", \"Topic1\", \"Topic1\", \"Topic1\", \"Topic1\", \"Topic1\", \"Topic1\", \"Topic1\", \"Topic1\", \"Topic1\", \"Topic1\", \"Topic1\", \"Topic1\", \"Topic1\", \"Topic1\", \"Topic1\", \"Topic1\", \"Topic1\", \"Topic1\", \"Topic1\", \"Topic1\", \"Topic1\", \"Topic1\", \"Topic1\", \"Topic1\", \"Topic1\", \"Topic1\", \"Topic1\", \"Topic1\", \"Topic1\", \"Topic1\", \"Topic1\", \"Topic1\", \"Topic1\", \"Topic1\", \"Topic1\", \"Topic1\", \"Topic1\", \"Topic1\", \"Topic1\", \"Topic1\", \"Topic1\", \"Topic1\", \"Topic1\", \"Topic1\", \"Topic1\", \"Topic1\", \"Topic1\", \"Topic2\", \"Topic2\", \"Topic2\", \"Topic2\", \"Topic2\", \"Topic2\", \"Topic2\", \"Topic2\", \"Topic2\", \"Topic2\", \"Topic2\", \"Topic2\", \"Topic2\", \"Topic2\", \"Topic2\", \"Topic2\", \"Topic2\", \"Topic2\", \"Topic2\", \"Topic2\", \"Topic2\", \"Topic2\", \"Topic2\", \"Topic2\", \"Topic2\", \"Topic2\", \"Topic2\", \"Topic2\", \"Topic2\", \"Topic2\", \"Topic2\", \"Topic2\", \"Topic2\", \"Topic2\", \"Topic2\", \"Topic2\", \"Topic2\", \"Topic2\", \"Topic2\", \"Topic2\", \"Topic2\", \"Topic2\", \"Topic2\", \"Topic2\", \"Topic2\", \"Topic2\", \"Topic2\", \"Topic2\", \"Topic2\", \"Topic2\", \"Topic2\", \"Topic2\", \"Topic2\", \"Topic2\", \"Topic2\", \"Topic2\", \"Topic2\", \"Topic2\", \"Topic2\", \"Topic2\", \"Topic2\", \"Topic2\", \"Topic2\", \"Topic2\", \"Topic2\", \"Topic2\", \"Topic2\", \"Topic2\", \"Topic2\", \"Topic2\", \"Topic2\", \"Topic2\", \"Topic2\", \"Topic2\", \"Topic2\", \"Topic2\", \"Topic2\", \"Topic2\", \"Topic2\", \"Topic2\", \"Topic2\", \"Topic2\", \"Topic2\", \"Topic2\", \"Topic2\", \"Topic2\", \"Topic2\", \"Topic2\", \"Topic2\", \"Topic2\", \"Topic2\", \"Topic2\", \"Topic3\", \"Topic3\", \"Topic3\", \"Topic3\", \"Topic3\", \"Topic3\", \"Topic3\", \"Topic3\", \"Topic3\", \"Topic3\", \"Topic3\", \"Topic3\", \"Topic3\", \"Topic3\", \"Topic3\", \"Topic3\", \"Topic3\", \"Topic3\", \"Topic3\", \"Topic3\", \"Topic3\", \"Topic3\", \"Topic3\", \"Topic3\", \"Topic3\", \"Topic3\", \"Topic3\", \"Topic3\", \"Topic3\", \"Topic3\", \"Topic3\", \"Topic3\", \"Topic3\", \"Topic3\", \"Topic3\", \"Topic3\", \"Topic3\", \"Topic3\", \"Topic3\", \"Topic3\", \"Topic3\", \"Topic3\", \"Topic3\", \"Topic3\", \"Topic3\", \"Topic3\", \"Topic3\", \"Topic3\", \"Topic3\", \"Topic3\", \"Topic3\", \"Topic3\", \"Topic3\", \"Topic3\", \"Topic3\", \"Topic3\", \"Topic3\", \"Topic3\", \"Topic3\", \"Topic3\", \"Topic3\", \"Topic3\", \"Topic3\", \"Topic3\", \"Topic3\", \"Topic3\", \"Topic3\", \"Topic3\", \"Topic3\", \"Topic3\", \"Topic3\", \"Topic3\", \"Topic3\", \"Topic3\", \"Topic3\", \"Topic3\", \"Topic3\", \"Topic3\", \"Topic3\", \"Topic3\", \"Topic3\", \"Topic3\", \"Topic3\", \"Topic3\", \"Topic3\", \"Topic4\", \"Topic4\", \"Topic4\", \"Topic4\", \"Topic4\", \"Topic4\", \"Topic4\", \"Topic4\", \"Topic4\", \"Topic4\", \"Topic4\", \"Topic4\", \"Topic4\", \"Topic4\", \"Topic4\", \"Topic4\", \"Topic4\", \"Topic4\", \"Topic4\", \"Topic4\", \"Topic4\", \"Topic4\", \"Topic4\", \"Topic4\", \"Topic4\", \"Topic4\", \"Topic4\", \"Topic4\", \"Topic4\", \"Topic4\", \"Topic4\", \"Topic4\", \"Topic4\", \"Topic4\", \"Topic4\", \"Topic4\", \"Topic4\", \"Topic4\", \"Topic4\", \"Topic4\", \"Topic4\", \"Topic4\", \"Topic4\", \"Topic4\", \"Topic4\", \"Topic4\", \"Topic4\", \"Topic4\", \"Topic4\", \"Topic4\", \"Topic4\", \"Topic4\", \"Topic4\", \"Topic4\", \"Topic4\", \"Topic4\", \"Topic4\", \"Topic4\", \"Topic4\", \"Topic4\", \"Topic4\", \"Topic4\", \"Topic4\", \"Topic4\", \"Topic4\", \"Topic4\", \"Topic4\", \"Topic4\", \"Topic4\", \"Topic4\", \"Topic4\", \"Topic4\", \"Topic4\", \"Topic4\", \"Topic4\", \"Topic4\", \"Topic4\", \"Topic4\", \"Topic4\", \"Topic4\", \"Topic4\", \"Topic4\", \"Topic4\", \"Topic4\", \"Topic4\", \"Topic4\", \"Topic4\", \"Topic4\", \"Topic4\", \"Topic4\", \"Topic4\", \"Topic4\", \"Topic4\", \"Topic5\", \"Topic5\", \"Topic5\", \"Topic5\", \"Topic5\", \"Topic5\", \"Topic5\", \"Topic5\", \"Topic5\", \"Topic5\", \"Topic5\", \"Topic5\", \"Topic5\", \"Topic5\", \"Topic5\", \"Topic5\", \"Topic5\", \"Topic5\", \"Topic5\", \"Topic5\", \"Topic5\", \"Topic5\", \"Topic5\", \"Topic5\", \"Topic5\", \"Topic5\", \"Topic5\", \"Topic5\", \"Topic5\", \"Topic5\", \"Topic5\", \"Topic5\", \"Topic5\", \"Topic5\", \"Topic5\", \"Topic5\", \"Topic5\", \"Topic5\", \"Topic5\", \"Topic5\", \"Topic5\", \"Topic5\", \"Topic5\", \"Topic5\", \"Topic5\", \"Topic5\", \"Topic5\", \"Topic5\", \"Topic5\", \"Topic5\", \"Topic5\", \"Topic5\", \"Topic5\", \"Topic5\", \"Topic5\", \"Topic5\", \"Topic5\", \"Topic5\", \"Topic5\", \"Topic5\", \"Topic5\", \"Topic5\", \"Topic5\", \"Topic5\", \"Topic5\", \"Topic5\", \"Topic5\", \"Topic5\", \"Topic5\", \"Topic5\", \"Topic5\", \"Topic5\", \"Topic5\", \"Topic5\", \"Topic5\", \"Topic5\", \"Topic5\", \"Topic5\", \"Topic5\", \"Topic5\", \"Topic5\", \"Topic5\", \"Topic5\", \"Topic5\", \"Topic5\", \"Topic5\", \"Topic5\", \"Topic5\", \"Topic5\", \"Topic6\", \"Topic6\", \"Topic6\", \"Topic6\", \"Topic6\", \"Topic6\", \"Topic6\", \"Topic6\", \"Topic6\", \"Topic6\", \"Topic6\", \"Topic6\", \"Topic6\", \"Topic6\", \"Topic6\", \"Topic6\", \"Topic6\", \"Topic6\", \"Topic6\", \"Topic6\", \"Topic6\", \"Topic6\", \"Topic6\", \"Topic6\", \"Topic6\", \"Topic6\", \"Topic6\", \"Topic6\", \"Topic6\", \"Topic6\", \"Topic6\", \"Topic6\", \"Topic6\", \"Topic6\", \"Topic6\", \"Topic6\", \"Topic6\", \"Topic6\", \"Topic6\", \"Topic6\", \"Topic6\", \"Topic6\", \"Topic6\", \"Topic6\", \"Topic6\", \"Topic6\", \"Topic6\", \"Topic6\", \"Topic6\", \"Topic6\", \"Topic6\", \"Topic6\", \"Topic6\", \"Topic6\", \"Topic6\", \"Topic6\", \"Topic6\", \"Topic6\", \"Topic6\", \"Topic6\", \"Topic6\", \"Topic6\", \"Topic6\", \"Topic6\", \"Topic6\", \"Topic6\", \"Topic6\", \"Topic6\", \"Topic6\", \"Topic6\", \"Topic6\", \"Topic6\", \"Topic6\", \"Topic6\", \"Topic6\", \"Topic6\", \"Topic6\", \"Topic6\", \"Topic6\", \"Topic6\", \"Topic7\", \"Topic7\", \"Topic7\", \"Topic7\", \"Topic7\", \"Topic7\", \"Topic7\", \"Topic7\", \"Topic7\", \"Topic7\", \"Topic7\", \"Topic7\", \"Topic7\", \"Topic7\", \"Topic7\", \"Topic7\", \"Topic7\", \"Topic7\", \"Topic7\", \"Topic7\", \"Topic7\", \"Topic7\", \"Topic7\", \"Topic7\", \"Topic7\", \"Topic7\", \"Topic7\", \"Topic7\", \"Topic7\", \"Topic7\", \"Topic7\", \"Topic7\", \"Topic7\", \"Topic7\", \"Topic7\", \"Topic7\", \"Topic7\", \"Topic7\", \"Topic7\", \"Topic7\", \"Topic7\", \"Topic7\", \"Topic7\", \"Topic7\", \"Topic7\", \"Topic7\", \"Topic7\", \"Topic7\", \"Topic7\", \"Topic7\", \"Topic7\", \"Topic7\", \"Topic7\", \"Topic7\", \"Topic7\", \"Topic7\", \"Topic7\", \"Topic7\", \"Topic7\", \"Topic7\", \"Topic7\", \"Topic7\", \"Topic7\", \"Topic7\", \"Topic7\", \"Topic7\", \"Topic7\", \"Topic7\", \"Topic7\", \"Topic7\", \"Topic7\", \"Topic7\", \"Topic7\", \"Topic7\", \"Topic7\", \"Topic7\", \"Topic7\", \"Topic7\", \"Topic7\", \"Topic7\", \"Topic7\", \"Topic7\", \"Topic7\", \"Topic7\", \"Topic7\", \"Topic7\", \"Topic7\", \"Topic7\", \"Topic7\", \"Topic7\", \"Topic7\", \"Topic7\", \"Topic7\", \"Topic7\", \"Topic7\", \"Topic7\", \"Topic7\", \"Topic7\", \"Topic7\", \"Topic7\", \"Topic7\", \"Topic7\", \"Topic7\", \"Topic8\", \"Topic8\", \"Topic8\", \"Topic8\", \"Topic8\", \"Topic8\", \"Topic8\", \"Topic8\", \"Topic8\", \"Topic8\", \"Topic8\", \"Topic8\", \"Topic8\", \"Topic8\", \"Topic8\", \"Topic8\", \"Topic8\", \"Topic8\", \"Topic8\", \"Topic8\", \"Topic8\", \"Topic8\", \"Topic8\", \"Topic8\", \"Topic8\", \"Topic8\", \"Topic8\", \"Topic8\", \"Topic8\", \"Topic8\", \"Topic8\", \"Topic8\", \"Topic8\", \"Topic8\", \"Topic8\", \"Topic8\", \"Topic8\", \"Topic8\", \"Topic8\", \"Topic8\", \"Topic8\", \"Topic8\", \"Topic8\", \"Topic8\", \"Topic8\", \"Topic8\", \"Topic8\", \"Topic8\", \"Topic8\", \"Topic8\", \"Topic8\", \"Topic8\", \"Topic8\", \"Topic8\", \"Topic8\", \"Topic8\", \"Topic8\", \"Topic8\", \"Topic8\", \"Topic8\", \"Topic8\", \"Topic8\", \"Topic8\", \"Topic8\", \"Topic8\", \"Topic8\", \"Topic8\", \"Topic8\", \"Topic8\", \"Topic8\", \"Topic8\", \"Topic8\", \"Topic8\", \"Topic8\", \"Topic8\", \"Topic8\", \"Topic8\", \"Topic8\", \"Topic8\", \"Topic8\", \"Topic8\", \"Topic8\", \"Topic8\", \"Topic8\", \"Topic8\", \"Topic8\", \"Topic8\", \"Topic8\", \"Topic8\", \"Topic8\", \"Topic8\", \"Topic8\", \"Topic9\", \"Topic9\", \"Topic9\", \"Topic9\", \"Topic9\", \"Topic9\", \"Topic9\", \"Topic9\", \"Topic9\", \"Topic9\", \"Topic9\", \"Topic9\", \"Topic9\", \"Topic9\", \"Topic9\", \"Topic9\", \"Topic9\", \"Topic9\", \"Topic9\", \"Topic9\", \"Topic9\", \"Topic9\", \"Topic9\", \"Topic9\", \"Topic9\", \"Topic9\", \"Topic9\", \"Topic9\", \"Topic9\", \"Topic9\", \"Topic9\", \"Topic9\", \"Topic9\", \"Topic9\", \"Topic9\", \"Topic9\", \"Topic9\", \"Topic9\", \"Topic9\", \"Topic9\", \"Topic9\", \"Topic9\", \"Topic9\", \"Topic9\", \"Topic9\", \"Topic9\", \"Topic9\", \"Topic9\", \"Topic9\", \"Topic9\", \"Topic9\", \"Topic9\", \"Topic9\", \"Topic9\", \"Topic9\", \"Topic9\", \"Topic9\", \"Topic9\", \"Topic9\", \"Topic9\", \"Topic9\", \"Topic9\", \"Topic9\", \"Topic9\", \"Topic9\", \"Topic9\", \"Topic9\", \"Topic9\", \"Topic9\", \"Topic9\", \"Topic9\", \"Topic9\", \"Topic9\", \"Topic9\", \"Topic9\", \"Topic9\", \"Topic9\", \"Topic9\", \"Topic9\", \"Topic10\", \"Topic10\", \"Topic10\", \"Topic10\", \"Topic10\", \"Topic10\", \"Topic10\", \"Topic10\", \"Topic10\", \"Topic10\", \"Topic10\", \"Topic10\", \"Topic10\", \"Topic10\", \"Topic10\", \"Topic10\", \"Topic10\", \"Topic10\", \"Topic10\", \"Topic10\", \"Topic10\", \"Topic10\", \"Topic10\", \"Topic10\", \"Topic10\", \"Topic10\", \"Topic10\", \"Topic10\", \"Topic10\", \"Topic10\", \"Topic10\", \"Topic10\", \"Topic10\", \"Topic10\", \"Topic10\", \"Topic10\", \"Topic10\", \"Topic10\", \"Topic10\", \"Topic10\", \"Topic10\", \"Topic10\", \"Topic10\", \"Topic10\", \"Topic10\", \"Topic10\", \"Topic10\", \"Topic10\", \"Topic10\", \"Topic10\", \"Topic10\", \"Topic10\", \"Topic10\", \"Topic10\", \"Topic10\", \"Topic10\", \"Topic10\", \"Topic10\", \"Topic10\", \"Topic10\", \"Topic10\", \"Topic10\", \"Topic10\", \"Topic10\", \"Topic10\", \"Topic10\", \"Topic10\", \"Topic10\", \"Topic10\", \"Topic10\", \"Topic10\", \"Topic10\", \"Topic10\", \"Topic10\", \"Topic10\", \"Topic10\", \"Topic10\", \"Topic10\", \"Topic10\", \"Topic10\", \"Topic10\", \"Topic10\"], \"logprob\": [30.0, 29.0, 28.0, 27.0, 26.0, 25.0, 24.0, 23.0, 22.0, 21.0, 20.0, 19.0, 18.0, 17.0, 16.0, 15.0, 14.0, 13.0, 12.0, 11.0, 10.0, 9.0, 8.0, 7.0, 6.0, 5.0, 4.0, 3.0, 2.0, 1.0, -8.0903, -9.3721, -8.8572, -8.9944, -9.2473, -9.7016, -9.5304, -9.5591, -9.7316, -9.8025, -9.8617, -9.8953, -9.6809, -10.003, -10.0229, -10.1099, -10.053, -9.3311, -9.3455, -9.3208, -7.0605, -10.2087, -9.4193, -10.3013, -7.8842, -10.1132, -8.9072, -9.4329, -10.4425, -10.2852, -6.0221, -6.5892, -9.0312, -5.9316, -7.4588, -8.6899, -6.7458, -8.8422, -8.3684, -8.6458, -8.1038, -8.6994, -9.0289, -6.4803, -6.309, -5.4165, -8.4974, -7.1737, -7.2422, -8.3339, -8.6116, -5.9359, -7.7994, -6.438, -6.6328, -7.2195, -7.5848, -6.3256, -6.8916, -5.6526, -7.5271, -7.0493, -6.7879, -4.842, -6.9694, -6.3499, -5.8951, -6.4527, -6.9886, -5.84, -6.3798, -6.8979, -5.0443, -3.8847, -6.1548, -6.8184, -5.8644, -4.8882, -5.1021, -6.2801, -6.4718, -5.3236, -5.7083, -5.3029, -5.8991, -5.331, -5.602, -5.2831, -5.6451, -5.6864, -5.94, -5.9819, -5.8984, -5.6371, -5.9847, -6.0401, -5.9716, -5.9675, -6.0274, -8.9995, -9.4517, -9.2768, -9.3566, -8.8753, -8.3514, -8.389, -9.1469, -8.913, -9.5517, -9.8497, -9.7161, -9.8393, -10.0647, -9.7135, -9.7516, -8.66, -9.8575, -10.176, -10.1769, -9.7548, -9.8397, -10.1778, -9.6568, -9.9892, -10.2222, -8.8285, -10.3838, -7.0868, -8.7211, -7.9587, -8.4212, -8.5932, -6.8406, -9.1446, -9.0955, -6.8946, -8.2321, -8.9491, -7.0718, -8.373, -8.3817, -7.8241, -7.5634, -8.7238, -7.5824, -7.1898, -7.8856, -6.2374, -6.1109, -5.1367, -6.1193, -8.1382, -4.0497, -6.202, -5.0868, -6.4195, -5.122, -6.4959, -5.588, -6.7576, -5.9697, -6.8051, -6.4922, -6.9333, -7.124, -5.5233, -5.7517, -5.371, -6.0039, -6.8827, -4.8672, -5.452, -5.7457, -5.5729, -5.2833, -4.8461, -4.1707, -5.2873, -5.884, -5.2426, -5.3599, -5.8782, -6.3024, -5.7891, -6.1321, -5.853, -5.848, -5.8434, -5.9418, -6.0102, -6.023, -8.4665, -8.7085, -7.9651, -9.1104, -7.4788, -7.2391, -8.2831, -9.6062, -7.4965, -9.2591, -9.9881, -9.7692, -9.1351, -9.998, -9.1375, -10.2558, -10.1308, -9.7394, -9.2283, -8.2219, -8.3149, -10.2599, -10.4231, -10.36, -6.1816, -10.1374, -9.7909, -10.051, -8.2858, -9.0147, -4.5938, -7.1702, -8.3765, -5.6631, -8.8029, -9.1062, -5.7423, -6.5371, -4.4363, -7.7592, -7.7787, -6.9097, -7.3757, -6.8494, -6.9742, -5.3596, -6.4213, -5.2333, -5.0221, -6.1465, -6.4561, -6.538, -7.1264, -6.1778, -7.0257, -5.8095, -5.306, -4.9683, -6.0928, -5.5554, -6.0857, -6.4397, -5.854, -5.2259, -5.1641, -3.8493, -5.8472, -4.7021, -5.572, -5.987, -5.7445, -5.4978, -5.8971, -5.8594, -5.2241, -5.3116, -5.2597, -5.4342, -5.5422, -5.8691, -5.3862, -5.6753, -5.836, -5.8011, -5.8256, -8.8442, -9.4063, -9.56, -9.0817, -9.6671, -9.8903, -8.5089, -8.8488, -8.3544, -10.1999, -9.9314, -10.1867, -9.536, -10.5325, -8.5664, -9.8534, -10.4133, -10.3421, -10.4295, -9.8158, -9.3375, -9.85, -9.6259, -10.1014, -9.9073, -10.5907, -9.9846, -10.7294, -10.7332, -10.2325, -7.6393, -9.6885, -7.6292, -7.7178, -6.7365, -9.0583, -7.2955, -8.6263, -6.9757, -7.7038, -8.7023, -8.3133, -6.7047, -8.5313, -6.2924, -8.0463, -7.7058, -4.6951, -7.8189, -7.3908, -7.9511, -5.0127, -6.0946, -6.5206, -5.4157, -5.3902, -5.8556, -6.4, -6.1892, -7.4764, -6.2385, -5.4133, -6.0645, -6.68, -6.41, -6.8913, -5.7612, -5.7052, -3.6337, -5.6985, -4.5666, -5.5864, -6.414, -4.9701, -5.4966, -6.1843, -5.463, -5.037, -4.9869, -5.5192, -5.455, -6.1462, -5.554, -5.8203, -5.7746, -5.9824, -5.6715, -6.0059, -5.8511, -5.868, -5.8478, -5.9634, -6.0362, -9.2051, -9.0167, -9.4699, -9.177, -9.5628, -9.6146, -9.6119, -9.7486, -9.4915, -8.9661, -8.7065, -8.2989, -9.8735, -9.2222, -10.012, -9.0457, -9.6646, -9.8303, -10.1441, -9.7711, -9.6923, -9.9606, -9.7551, -9.7964, -10.2652, -9.3784, -9.5559, -9.9859, -7.568, -10.2986, -8.0634, -8.3178, -9.1877, -9.1819, -7.4408, -8.1821, -6.7993, -6.7433, -8.9775, -5.3211, -6.4117, -7.3673, -8.3443, -5.502, -7.5898, -8.1906, -8.8741, -7.3009, -7.5627, -7.5305, -7.3348, -7.7126, -5.6065, -6.6148, -5.9533, -6.5276, -6.4349, -6.9934, -6.944, -6.5664, -4.778, -4.5024, -6.7307, -4.9457, -4.4153, -6.1286, -5.639, -3.9067, -5.6552, -6.6574, -5.4925, -5.9536, -5.1376, -5.7122, -5.436, -5.1302, -5.7172, -5.4884, -5.344, -5.8628, -5.5919, -5.975, -5.8059, -5.8109, -5.96, -5.8231, -5.8296, -6.017, -5.9585, -7.3019, -6.8351, -8.0777, -9.045, -8.9877, -7.7703, -8.0463, -7.8969, -9.3216, -9.2036, -9.6903, -8.8608, -7.2836, -9.9092, -9.1998, -9.4147, -10.1345, -9.8408, -9.8761, -9.8176, -9.9839, -8.5224, -6.5883, -10.0674, -9.1385, -9.8958, -10.2735, -10.0694, -10.0862, -8.5806, -6.588, -8.0313, -6.862, -6.8015, -6.8037, -5.8801, -5.1894, -7.1876, -7.6193, -5.9492, -5.4907, -6.3219, -7.1521, -5.7007, -7.4998, -7.4971, -6.7781, -5.7904, -7.5393, -5.8459, -7.8697, -6.268, -6.0966, -6.7095, -3.8482, -5.9799, -5.9927, -5.912, -6.0895, -6.3828, -5.2567, -5.1645, -5.1176, -5.54, -6.0922, -5.6937, -5.9388, -5.6533, -5.4559, -5.7136, -5.9562, -5.8278, -5.9785, -5.8491, -5.8437, -6.0191, -5.9572, -5.9853, -5.9791, -6.0119, -8.3902, -9.5724, -9.5979, -9.2499, -9.6724, -8.5646, -8.3221, -9.1022, -10.2105, -10.241, -10.0756, -10.082, -9.956, -10.0664, -9.9455, -10.1205, -9.417, -10.3999, -9.825, -9.1571, -10.3534, -10.0425, -10.0513, -10.2348, -9.9881, -9.8549, -10.4306, -8.6466, -10.1618, -10.4519, -7.3835, -8.7299, -8.1046, -8.8561, -9.3483, -9.5793, -9.6096, -7.5559, -8.4454, -9.009, -9.2699, -8.7741, -8.1619, -8.6408, -8.5913, -8.3895, -9.3677, -9.3469, -8.7833, -8.3589, -8.4073, -8.1126, -6.9727, -8.1987, -8.7758, -7.3575, -8.2817, -7.2246, -6.6403, -6.3979, -7.4325, -5.3025, -7.299, -6.2147, -7.4036, -6.9484, -7.4755, -6.6136, -6.2832, -5.5794, -5.1824, -6.6206, -6.2033, -6.7538, -4.1229, -6.8556, -7.3876, -5.1687, -6.1329, -5.8238, -5.5525, -6.1623, -6.614, -5.3992, -5.7302, -6.3379, -5.9061, -5.6647, -5.7692, -5.4685, -5.9804, -5.7503, -6.1328, -6.1545, -6.1197, -5.877, -6.0642, -6.1018, -6.0977, -5.8655, -6.0016, -5.9858, -6.0971, -9.2651, -6.2925, -9.4533, -9.6242, -9.4458, -9.5645, -9.6862, -9.9681, -8.6201, -9.8711, -10.1301, -9.1143, -10.2412, -10.1087, -8.4875, -9.9879, -10.3965, -9.819, -9.4721, -8.7588, -10.4666, -5.9547, -9.3823, -9.9664, -9.7715, -7.2855, -9.6093, -10.4216, -9.5177, -8.8991, -7.6841, -8.3301, -8.0802, -7.1426, -6.6073, -7.3466, -8.4598, -6.289, -7.994, -6.6848, -8.5805, -8.7283, -7.6952, -7.5492, -8.726, -6.8897, -7.69, -6.871, -8.448, -5.631, -6.6779, -8.5015, -8.1793, -7.8743, -6.5475, -6.7079, -6.9288, -5.7742, -6.8614, -4.6846, -7.5056, -5.7107, -5.6404, -7.4004, -4.7119, -5.9129, -3.8418, -6.3153, -6.1894, -5.9015, -5.3145, -6.5895, -5.4149, -5.7202, -5.7776, -5.3042, -6.1249, -5.6395, -5.5161, -5.5178, -5.7594, -5.7978, -5.8516, -5.9443, -5.8781, -6.0563, -5.9121, -5.9407, -5.9143, -6.0883, -6.1015, -6.1195, -6.9378, -6.0491, -7.4166, -6.5184, -8.5126, -7.794, -5.5593, -8.3608, -6.1422, -8.6008, -8.9384, -8.9171, -7.9601, -8.9385, -6.7784, -8.5274, -5.6288, -8.983, -8.8191, -8.412, -8.4788, -9.2986, -8.4792, -8.8283, -7.0659, -8.3016, -7.6708, -4.8458, -9.2702, -9.3789, -8.4474, -7.5774, -8.0702, -5.1386, -7.5122, -7.523, -8.3911, -7.4084, -7.6992, -8.0206, -5.6781, -6.1583, -6.4801, -7.5335, -4.87, -4.5407, -5.3994, -6.7707, -6.7973, -7.1204, -6.4886, -5.4887, -5.4904, -6.1266, -6.2806, -6.6878, -6.3049, -5.243, -5.5616, -3.8724, -5.6261, -4.9366, -6.1115, -5.29, -5.0238, -6.4289, -5.478, -5.3584, -5.7181, -5.7972, -5.4806, -5.6731, -5.7516, -5.7123, -5.7002, -5.7689, -5.6709, -5.8473, -5.9452, -7.3031, -7.9108, -8.3093, -8.7022, -8.05, -8.4561, -8.4109, -8.9948, -7.1155, -7.8569, -7.1476, -7.515, -8.8902, -9.3273, -7.8706, -9.1862, -8.6701, -9.3495, -8.5647, -8.8595, -7.6435, -7.99, -9.1978, -8.2071, -9.8566, -9.7455, -9.2703, -9.4586, -9.5088, -6.2727, -4.8582, -5.1872, -6.856, -6.1578, -7.5473, -6.2698, -5.3161, -7.6001, -8.0057, -6.7109, -6.7383, -6.4722, -6.4008, -7.1272, -5.9252, -6.785, -5.4361, -5.925, -7.1206, -6.4303, -6.0364, -7.1359, -6.3095, -5.5199, -6.4548, -3.9273, -5.4174, -6.43, -5.2533, -4.9937, -6.6175, -6.8072, -6.598, -5.9255, -6.3474, -6.1886, -6.1462, -5.7461, -5.8708, -5.8253, -5.8043, -5.762, -5.9253, -5.9176, -5.968, -6.1342, -6.14, -6.0845, -6.1557, -6.0813, -6.1139, -6.1556], \"loglift\": [30.0, 29.0, 28.0, 27.0, 26.0, 25.0, 24.0, 23.0, 22.0, 21.0, 20.0, 19.0, 18.0, 17.0, 16.0, 15.0, 14.0, 13.0, 12.0, 11.0, 10.0, 9.0, 8.0, 7.0, 6.0, 5.0, 4.0, 3.0, 2.0, 1.0, 1.8147, 1.8032, 1.801, 1.8004, 1.7968, 1.7958, 1.7954, 1.7936, 1.7935, 1.7912, 1.7903, 1.788, 1.7879, 1.7867, 1.785, 1.7815, 1.7815, 1.7813, 1.7799, 1.7796, 1.7769, 1.7765, 1.7751, 1.7729, 1.772, 1.7711, 1.7692, 1.7689, 1.7662, 1.7656, 1.7589, 1.7555, 1.7602, 1.7093, 1.7305, 1.7545, 1.7014, 1.7545, 1.7382, 1.746, 1.7281, 1.74, 1.7533, 1.594, 1.5638, 1.4901, 1.7104, 1.5908, 1.5897, 1.6875, 1.7125, 1.4105, 1.6143, 1.4368, 1.4593, 1.5337, 1.5769, 1.3617, 1.4493, 1.2363, 1.5477, 1.4558, 1.3888, 0.9529, 1.3966, 1.2598, 1.1566, 1.2562, 1.3962, 1.0638, 1.2116, 1.3621, 0.6245, 0.0108, 1.0059, 1.3232, 0.8174, 0.2843, 0.3006, 1.0025, 1.1045, 0.3419, 0.5005, 0.0898, 0.5953, 0.05, 0.2313, -0.2199, 0.1032, 0.0942, 0.4719, 0.4067, 0.0962, -0.5927, 0.2479, 0.3949, -0.0703, -0.1888, 0.1738, 1.9448, 1.9447, 1.9421, 1.942, 1.9404, 1.9402, 1.9382, 1.9378, 1.9372, 1.9358, 1.9355, 1.9343, 1.9301, 1.9281, 1.928, 1.9274, 1.9273, 1.923, 1.9226, 1.9204, 1.92, 1.9195, 1.9174, 1.9165, 1.9157, 1.9153, 1.9143, 1.9132, 1.913, 1.9115, 1.9059, 1.9005, 1.8949, 1.8579, 1.8989, 1.8959, 1.8149, 1.864, 1.8871, 1.8069, 1.861, 1.8559, 1.8165, 1.7959, 1.8693, 1.7762, 1.6997, 1.7476, 1.5363, 1.492, 1.267, 1.4129, 1.7475, 0.9947, 1.3845, 1.1458, 1.3912, 1.0792, 1.3925, 1.1694, 1.4278, 1.2191, 1.4229, 1.3194, 1.4395, 1.4832, 0.9295, 1.0065, 0.8378, 1.0606, 1.3892, 0.5139, 0.7247, 0.8612, 0.6606, 0.4973, 0.2172, -0.2752, 0.3782, 0.7166, -0.0701, 0.0328, 0.3937, 0.9339, -0.0104, 0.5816, -0.0197, -0.1114, -0.1996, -0.2731, -0.1089, -0.2746, 1.9849, 1.979, 1.9769, 1.973, 1.9722, 1.9688, 1.9608, 1.9549, 1.9535, 1.9465, 1.9378, 1.9349, 1.93, 1.9293, 1.9282, 1.9267, 1.925, 1.9238, 1.9227, 1.9196, 1.9194, 1.9192, 1.917, 1.9149, 1.9147, 1.9134, 1.9121, 1.9099, 1.9079, 1.9074, 1.8814, 1.9047, 1.9059, 1.8674, 1.8985, 1.9012, 1.8138, 1.837, 1.739, 1.8518, 1.8468, 1.7906, 1.8105, 1.7686, 1.7578, 1.6107, 1.6972, 1.5808, 1.5398, 1.6493, 1.6564, 1.6599, 1.7315, 1.5288, 1.6489, 1.3206, 1.1117, 1.0119, 1.3186, 1.1447, 1.2893, 1.4133, 1.1298, 0.8392, 0.7921, 0.0462, 1.1012, 0.3611, 0.8831, 1.1455, 0.9257, 0.7058, 1.0076, 0.9601, 0.1686, 0.0911, -0.0872, 0.2096, 0.2365, 0.8929, -0.3418, 0.073, 0.4786, 0.135, 0.364, 2.0886, 2.0703, 2.0672, 2.0671, 2.0555, 2.0543, 2.0423, 2.0393, 2.0353, 2.0336, 2.0195, 2.0187, 2.0153, 2.0151, 2.0123, 2.0108, 2.0098, 2.0097, 2.0049, 2.0041, 2.0023, 2.0022, 2.0021, 2.0015, 1.9984, 1.9942, 1.994, 1.9926, 1.991, 1.9882, 1.981, 1.9849, 1.9604, 1.9583, 1.9345, 1.9763, 1.9293, 1.9635, 1.8941, 1.9185, 1.9545, 1.9321, 1.8606, 1.937, 1.8172, 1.9029, 1.8764, 1.6391, 1.874, 1.8316, 1.8731, 1.5582, 1.6228, 1.6739, 1.513, 1.4843, 1.5403, 1.5473, 1.4809, 1.7391, 1.4604, 1.2568, 1.3701, 1.5242, 1.4299, 1.5606, 1.1449, 1.0975, 0.2618, 1.0634, 0.4966, 0.8687, 1.2448, 0.4226, 0.5685, 1.0237, 0.4933, 0.1355, 0.0575, 0.461, 0.3237, 0.984, 0.1943, 0.3833, 0.1616, 0.5255, -0.2688, 0.5154, -0.0178, -0.0874, -0.1823, 0.0313, -0.3675, 2.1731, 2.1682, 2.1646, 2.1642, 2.1582, 2.1571, 2.1569, 2.1558, 2.1555, 2.1542, 2.1531, 2.1471, 2.1435, 2.1424, 2.1411, 2.1403, 2.1398, 2.1373, 2.1347, 2.1321, 2.1317, 2.1315, 2.1281, 2.1275, 2.126, 2.123, 2.1208, 2.1185, 2.1185, 2.1183, 2.1179, 2.1094, 2.1156, 2.1155, 2.0637, 2.0848, 2.0308, 2.0147, 2.1006, 1.9391, 1.9372, 1.9718, 2.044, 1.8284, 1.9701, 2.0154, 2.0736, 1.8662, 1.8989, 1.8924, 1.8553, 1.9055, 1.5253, 1.6659, 1.4951, 1.6053, 1.5804, 1.6868, 1.656, 1.551, 1.0169, 0.8786, 1.5046, 0.8349, 0.6291, 1.1598, 0.8453, -0.0111, 0.7798, 1.3144, 0.4638, 0.7601, 0.0349, 0.5204, 0.2295, -0.067, 0.4595, 0.2482, 0.0487, 0.5409, 0.052, 0.4778, 0.0953, 0.0224, 0.3119, -0.0748, -0.4269, 0.1725, -0.2898, 2.3604, 2.3572, 2.35, 2.3371, 2.3296, 2.3278, 2.3214, 2.3214, 2.3149, 2.3113, 2.3105, 2.3008, 2.2995, 2.2953, 2.2901, 2.2823, 2.2819, 2.2804, 2.2772, 2.2735, 2.2733, 2.2677, 2.2667, 2.2642, 2.2631, 2.2618, 2.2554, 2.2551, 2.2491, 2.2476, 2.2363, 2.243, 2.2151, 2.2134, 2.2045, 2.1734, 2.1517, 2.206, 2.1947, 2.1063, 2.0759, 2.0971, 2.1346, 2.0149, 2.1185, 2.1065, 1.9777, 1.7384, 2.0596, 1.5528, 2.0377, 1.5535, 1.4879, 1.6402, 0.0473, 1.1435, 1.1403, 1.0387, 1.1184, 1.3292, 0.3872, 0.2382, 0.0549, 0.1966, 0.7803, 0.2425, 0.5344, 0.095, -0.3927, -0.0448, 0.4615, 0.1668, 0.3354, -0.0704, -0.1783, 0.3845, -0.056, 0.0798, 0.0011, -0.1786, 2.3989, 2.3841, 2.3785, 2.3626, 2.3622, 2.3481, 2.3465, 2.3414, 2.3363, 2.3362, 2.3355, 2.3345, 2.3338, 2.3262, 2.3246, 2.3241, 2.3226, 2.3202, 2.3201, 2.3193, 2.3174, 2.3174, 2.3134, 2.3113, 2.3077, 2.3075, 2.3053, 2.3038, 2.3027, 2.302, 2.2882, 2.2954, 2.2882, 2.2806, 2.2929, 2.2941, 2.2951, 2.2058, 2.2416, 2.2696, 2.2774, 2.2321, 2.186, 2.2209, 2.2059, 2.1764, 2.2724, 2.269, 2.2054, 2.1549, 2.1535, 2.1052, 1.9481, 2.0906, 2.1922, 1.9198, 2.0943, 1.8427, 1.6902, 1.5814, 1.8198, 1.1707, 1.7109, 1.3397, 1.7398, 1.5469, 1.7464, 1.3909, 1.2176, 0.8324, 0.5542, 1.2692, 1.0162, 1.286, -0.2273, 1.313, 1.6058, 0.2123, 0.8204, 0.5798, 0.3488, 0.7638, 1.098, 0.0036, 0.206, 0.7314, 0.2834, 0.004, 0.064, -0.296, 0.2915, -0.002, 0.4716, 0.4403, 0.3154, -0.0983, 0.1694, 0.2325, 0.2009, -0.4728, -0.221, -0.3204, -0.1024, 2.6598, 2.6525, 2.6464, 2.6384, 2.6248, 2.6244, 2.6152, 2.614, 2.6126, 2.6121, 2.5943, 2.5922, 2.5866, 2.5815, 2.5674, 2.5666, 2.5645, 2.5635, 2.5613, 2.56, 2.5526, 2.5523, 2.5513, 2.5489, 2.5475, 2.5439, 2.5434, 2.5432, 2.5407, 2.5372, 2.5318, 2.534, 2.5291, 2.5009, 2.4661, 2.4832, 2.5085, 2.4146, 2.4843, 2.392, 2.4989, 2.5022, 2.4198, 2.3554, 2.4741, 2.2419, 2.3412, 2.1807, 2.4278, 1.9024, 2.0496, 2.4294, 2.3488, 2.2393, 1.8276, 1.8582, 1.9203, 1.4969, 1.8363, 0.9592, 2.0803, 1.3211, 1.2204, 2.0203, 0.6909, 1.2196, 0.0537, 1.3548, 1.2736, 0.971, 0.3542, 1.4198, 0.3218, 0.5783, 0.5364, -0.1317, 0.8258, 0.1411, -0.1235, -0.1367, 0.2352, 0.0355, 0.0496, 0.2452, 0.0581, 0.4381, -0.1638, -0.162, -0.8511, 0.3467, -0.3066, -0.4541, 3.0675, 3.0636, 3.0492, 3.0447, 3.0442, 3.0423, 3.0414, 3.0392, 3.0376, 3.0351, 3.0299, 3.029, 3.0277, 3.0244, 3.0224, 3.0216, 3.0216, 3.0183, 3.0161, 3.015, 3.014, 3.0095, 3.0044, 2.9981, 2.998, 2.997, 2.9965, 2.9939, 2.9888, 2.9797, 2.9725, 2.9573, 2.9654, 2.8796, 2.9353, 2.903, 2.97, 2.8416, 2.8641, 2.9057, 2.4616, 2.5352, 2.5506, 2.7936, 2.0788, 1.9325, 2.1325, 2.5313, 2.4995, 2.5815, 2.3425, 1.8565, 1.7485, 1.9958, 2.0249, 2.2842, 1.9785, 1.1689, 1.3891, 0.0232, 1.4058, 0.8001, 1.7815, 0.9135, 0.0394, 2.0556, 0.3007, 0.0443, 0.6996, 0.7052, -0.3081, 0.2281, 0.1846, -0.0685, -0.3075, -0.0206, -0.6265, -0.1786, 0.7234, 3.2659, 3.2599, 3.2545, 3.2408, 3.2243, 3.2222, 3.2192, 3.2157, 3.215, 3.2127, 3.2107, 3.2027, 3.1984, 3.1925, 3.1828, 3.1704, 3.1674, 3.1666, 3.1637, 3.1622, 3.1614, 3.1455, 3.1451, 3.1435, 3.1263, 3.1135, 3.1117, 3.109, 3.1049, 3.1013, 3.037, 3.0409, 3.0671, 3.0048, 3.0429, 2.9357, 2.7796, 2.9981, 3.0366, 2.8125, 2.7765, 2.712, 2.6727, 2.764, 2.3589, 2.5917, 2.0805, 2.2167, 2.7025, 2.3777, 2.1404, 2.7051, 2.1781, 1.6689, 2.1573, -0.0317, 1.077, 2.0054, 0.4834, 0.0696, 2.0768, 2.315, 2.0076, 0.9469, 1.6108, 1.3099, 1.2165, 0.1552, 0.338, 0.1108, -0.4116, -0.5895, -0.2815, -0.5148, -0.3026, 0.3309, 0.3679, -0.3361, 0.3207, -1.0369, -0.4452, 0.3075]}, \"token.table\": {\"Topic\": [1, 2, 3, 4, 5, 6, 7, 8, 9, 10, 1, 2, 3, 4, 5, 7, 9, 2, 3, 5, 2, 4, 2, 4, 1, 2, 3, 4, 5, 6, 7, 8, 9, 10, 1, 2, 4, 5, 7, 1, 2, 5, 6, 7, 8, 1, 2, 3, 4, 5, 6, 7, 8, 9, 10, 1, 2, 3, 4, 5, 6, 7, 8, 9, 10, 1, 2, 3, 4, 5, 6, 7, 8, 9, 10, 1, 2, 3, 4, 5, 6, 7, 8, 9, 10, 2, 5, 1, 2, 3, 4, 5, 6, 7, 8, 9, 10, 1, 2, 3, 4, 5, 6, 7, 8, 9, 10, 1, 2, 3, 4, 8, 2, 4, 1, 2, 3, 4, 5, 6, 7, 8, 9, 10, 2, 3, 7, 8, 2, 1, 2, 3, 4, 5, 6, 7, 8, 9, 10, 2, 5, 6, 10, 2, 8, 1, 2, 3, 4, 5, 6, 7, 8, 9, 10, 2, 3, 4, 7, 1, 2, 3, 4, 5, 6, 7, 8, 9, 2, 5, 6, 10, 2, 3, 6, 7, 8, 9, 1, 2, 3, 4, 5, 7, 8, 10, 1, 2, 2, 8, 2, 3, 6, 7, 8, 9, 2, 3, 7, 9, 1, 2, 3, 4, 5, 6, 7, 8, 9, 10, 1, 2, 1, 2, 3, 4, 5, 6, 7, 8, 9, 10, 1, 2, 3, 4, 5, 6, 7, 8, 9, 10, 1, 2, 3, 6, 8, 1, 2, 3, 4, 5, 7, 8, 2, 3, 4, 8, 1, 2, 3, 4, 5, 6, 7, 8, 9, 1, 2, 3, 4, 5, 6, 7, 8, 9, 10, 2, 3, 9, 1, 2, 10, 1, 2, 3, 4, 5, 6, 7, 8, 9, 10, 2, 3, 4, 1, 2, 3, 4, 5, 6, 7, 8, 9, 10, 1, 2, 3, 4, 5, 6, 7, 8, 9, 10, 1, 2, 5, 2, 5, 6, 10, 1, 2, 3, 4, 6, 7, 8, 2, 5, 6, 10, 2, 3, 6, 8, 2, 3, 6, 8, 2, 5, 1, 2, 1, 2, 3, 4, 5, 6, 7, 8, 9, 10, 2, 4, 2, 7, 1, 2, 8, 1, 2, 3, 6, 2, 5, 7, 2, 5, 2, 8, 2, 3, 4, 7, 8, 1, 2, 3, 4, 5, 6, 7, 8, 9, 10, 1, 2, 3, 4, 5, 6, 7, 8, 9, 10, 2, 6, 7, 1, 2, 10, 1, 2, 3, 4, 5, 6, 7, 8, 9, 10, 1, 2, 3, 4, 5, 6, 7, 10, 2, 7, 1, 2, 4, 2, 3, 4, 10, 2, 5, 8, 1, 2, 3, 4, 5, 6, 7, 8, 9, 10, 1, 2, 3, 4, 5, 6, 7, 8, 9, 10, 2, 6, 8, 1, 2, 6, 10, 1, 2, 1, 2, 3, 4, 5, 6, 7, 8, 9, 10, 1, 2, 3, 4, 5, 6, 7, 8, 9, 10, 1, 2, 6, 7, 8, 10, 1, 2, 3, 4, 5, 6, 7, 8, 9, 10, 1, 2, 3, 4, 5, 6, 7, 8, 9, 10, 1, 2, 5, 7, 8, 2, 3, 1, 2, 3, 4, 5, 6, 7, 8, 9, 10, 2, 5, 10, 2, 5, 10, 2, 7, 10, 1, 2, 3, 4, 5, 6, 7, 8, 9, 10, 2, 10, 2, 3, 5, 6, 8, 9, 1, 2, 3, 4, 5, 6, 7, 8, 9, 10, 1, 2, 5, 6, 7, 8, 2, 7, 2, 5, 6, 10, 2, 3, 4, 5, 7, 8, 1, 2, 3, 4, 5, 6, 7, 8, 9, 10, 1, 2, 3, 4, 5, 6, 7, 8, 9, 10, 2, 7, 8, 2, 4, 5, 6, 7, 8, 1, 2, 3, 4, 5, 6, 7, 8, 9, 10, 1, 2, 3, 4, 5, 8, 9, 2, 3, 2, 5, 2, 3, 8, 1, 2, 3, 4, 5, 6, 7, 8, 9, 10, 1, 2, 3, 4, 5, 6, 7, 8, 9, 10, 2, 7, 2, 6, 2, 5, 1, 2, 3, 4, 5, 6, 7, 8, 9, 10, 1, 2, 3, 4, 5, 6, 7, 8, 9, 10, 1, 2, 1, 2, 3, 4, 5, 6, 7, 8, 9, 10, 1, 2, 3, 4, 5, 6, 7, 8, 9, 10, 2, 3, 4, 6, 1, 2, 3, 5, 7, 8, 9, 1, 2, 3, 4, 5, 6, 7, 8, 9, 10, 1, 2, 5, 7, 2, 6, 2, 7, 9, 1, 2, 3, 4, 5, 6, 7, 8, 9, 10, 1, 2, 3, 4, 5, 6, 7, 8, 9, 10, 1, 2, 3, 4, 5, 6, 7, 8, 9, 10, 1, 2, 3, 4, 5, 8, 9, 1, 2, 3, 4, 5, 6, 7, 8, 10, 1, 2, 3, 4, 5, 6, 7, 8, 9, 10, 1, 2, 2, 5, 1, 2, 3, 4, 5, 6, 7, 8, 9, 10, 1, 2, 3, 4, 5, 6, 7, 8, 9, 10, 1, 2, 3, 4, 5, 6, 7, 8, 9, 10, 1, 2, 3, 4, 5, 6, 7, 8, 9, 10, 2, 5, 2, 3, 5, 8, 1, 2, 3, 4, 5, 6, 7, 8, 9, 10, 1, 2, 3, 4, 5, 6, 7, 8, 9, 10, 1, 2, 4, 5, 6, 7, 8, 9, 10, 1, 2, 3, 4, 5, 6, 7, 8, 9, 10, 1, 2, 3, 4, 5, 6, 7, 8, 9, 10, 2, 3, 1, 2, 3, 4, 5, 6, 7, 8, 9, 10, 1, 2, 3, 4, 5, 6, 7, 8, 9, 10, 1, 2, 3, 4, 5, 6, 7, 8, 9, 10, 2, 3, 6, 8, 9, 1, 2, 3, 4, 5, 6, 7, 8, 9, 10, 2, 7, 9, 10, 1, 2, 3, 4, 5, 6, 7, 8, 9, 10, 2, 9, 1, 2, 1, 2, 3, 4, 5, 7, 8, 10, 2, 3, 8, 1, 2, 3, 4, 5, 1, 2, 5, 8, 1, 2, 3, 5, 6, 1, 2, 3, 4, 5, 7, 8, 2, 4, 1, 2, 3, 4, 5, 8, 1, 2, 3, 4, 5, 6, 7, 8, 9, 10, 1, 2, 2, 7, 2, 3, 4, 5, 2, 1, 2, 3, 4, 5, 6, 10, 2, 7, 2, 5, 10, 2, 1, 2, 3, 4, 5, 6, 7, 8, 9, 10, 1, 2, 3, 4, 5, 6, 7, 8, 9, 10, 1, 2, 3, 4, 5, 6, 7, 8, 9, 10, 1, 2, 3, 4, 5, 6, 7, 8, 9, 10, 1, 2, 3, 4, 5, 6, 7, 8, 9, 10, 1, 2, 5, 2, 7, 8, 1, 2, 3, 4, 5, 6, 7, 8, 10, 1, 2, 3, 6, 8, 1, 2, 3, 4, 5, 6, 7, 8, 9, 10, 2, 7, 1, 2, 3, 4, 5, 6, 7, 8, 9, 10, 1, 2, 3, 4, 5, 6, 7, 8, 9, 10, 2, 3, 6, 7, 8, 9, 10, 1, 2, 3, 4, 5, 6, 7, 8, 9, 10, 1, 2, 3, 4, 5, 6, 7, 8, 9, 10, 2, 5, 6, 10, 2, 3, 6, 10, 1, 2, 3, 4, 5, 6, 7, 8, 10, 1, 2, 3, 4, 5, 7, 9, 1, 2, 3, 4, 5, 6, 7, 8, 9, 10, 2, 3, 6, 8, 10, 1, 2, 3, 7, 8, 2, 3, 6, 2, 3, 8, 1, 2, 3, 4, 5, 6, 7, 8, 9, 10, 1, 2, 3, 4, 5, 6, 7, 8, 9, 10, 1, 2, 3, 4, 5, 6, 7, 8, 9, 10, 1, 2, 5, 6, 10, 1, 2, 3, 4, 5, 6, 7, 8, 9, 10, 1, 2, 3, 4, 5, 6, 7, 8, 9, 10, 1, 2, 4, 5, 6, 7, 8, 9, 1, 2, 4, 1, 2, 3, 4, 5, 6, 7, 8, 9, 10, 1, 2, 3, 4, 5, 6, 7, 8, 9, 10, 1, 2, 3, 4, 5, 6, 7, 8, 9, 10, 1, 2, 5, 6, 8, 9, 10, 2, 3, 4, 5, 7, 8, 2, 5, 8, 1, 2, 3, 4, 5, 6, 7, 8, 9, 10, 2, 8, 1, 2, 5, 2, 6, 2, 7, 1, 2, 3, 4, 5, 6, 7, 8, 10, 1, 2, 5, 8, 1, 2, 3, 4, 5, 6, 7, 8, 9, 10, 1, 2, 3, 4, 5, 6, 7, 8, 9, 10, 2, 1, 2, 3, 4, 5, 6, 7, 8, 9, 10, 1, 2, 3, 4, 5, 6, 7, 8, 9, 10, 2, 3, 6, 7, 8, 1, 2, 3, 4, 5, 6, 7, 9, 1, 2, 3, 4, 5, 7, 10, 1, 2, 3, 9, 2, 3, 4, 5, 1, 2, 3, 4, 5, 6, 7, 8, 9, 10, 2, 5, 8, 1, 2, 3, 4, 5, 6, 7, 8, 9, 10, 2, 3, 4, 8, 2, 8, 2, 4, 5, 6, 1, 2, 3, 4, 5, 6, 7, 8, 9, 10, 1, 2, 3, 4, 5, 6, 7, 8, 9, 10, 2, 5, 6, 10, 2, 8, 1, 2, 3, 4, 5, 7, 8, 9, 1, 2, 4, 5, 6, 7, 2, 3, 4, 6, 7, 8, 10, 2, 7, 10, 2, 4, 6, 1, 2, 3, 5, 9, 2, 3, 4, 10, 2, 6, 9, 2, 8, 2, 5, 2, 9, 2, 5, 8, 2, 5, 6, 1, 2, 3, 4, 5, 7, 1, 2, 3, 4, 5, 6, 7, 8, 9, 10, 2, 3, 5, 6, 7, 1, 2, 3, 4, 5, 7, 8, 1, 2, 3, 4, 5, 6, 7, 8, 9, 10, 2, 5, 1, 2, 3, 4, 5, 6, 7, 8, 9, 10, 1, 2, 3, 4, 5, 6, 2, 3, 1, 2, 3, 4, 5, 6, 7, 8, 9, 10, 2, 7, 1, 2, 3, 4, 5, 6, 7, 8, 9, 10, 1, 2, 3, 4, 5, 6, 7, 8, 9, 10, 1, 2, 3, 4, 5, 6, 7, 8, 9, 10, 1, 2, 3, 4, 5, 6, 7, 8, 9, 10, 1, 2, 3, 4, 5, 6, 7, 8, 9, 10, 1, 2, 3, 4, 5, 6, 7, 8, 9, 10, 2, 10, 2, 10, 1, 2, 3, 4, 5, 6, 7, 8, 9, 10, 1, 2, 3, 4, 5, 6, 7, 8, 9, 10, 1, 2, 3, 4, 5, 6, 7, 8, 9, 10, 1, 2, 3, 4, 5, 6, 7, 8, 9, 10, 1, 2, 3, 4, 5, 6, 7, 8, 9, 10, 1, 2, 3, 4, 5, 6, 7, 8, 10, 1, 2, 9, 1, 2, 3, 4, 5, 6, 7, 9, 10, 1, 2, 3, 4, 5, 6, 7, 8, 9, 10, 1, 2, 3, 4, 5, 6, 7, 8, 9, 10, 1, 2, 3, 4, 5, 6, 7, 8, 9, 10, 2, 4, 6, 1, 2, 3, 4, 5, 6, 7, 8, 9, 10, 1, 2, 3, 4, 5, 6, 7, 8, 9, 10, 2, 3, 2, 6, 1, 2, 4, 5, 6, 7, 8, 10, 1, 2, 3, 4, 5, 6, 7, 8, 9, 10, 2, 3, 1, 2, 3, 4, 5, 6, 7, 8, 9, 1, 2, 3, 7, 8, 9, 1, 2, 3, 4, 5, 6, 7, 8, 1, 2, 2, 1, 2, 3, 4, 5, 6, 9, 10, 2, 9, 2, 3, 6, 7, 9, 1, 2, 3, 4, 5, 1, 2, 5, 2, 3, 4, 8, 1, 2, 3, 4, 5, 6, 7, 8, 9, 10, 1, 2, 4, 5, 6, 7, 8, 1, 2, 3, 4, 5, 6, 7, 8, 9, 10, 1, 2, 9, 2, 9, 1, 2, 3, 4, 5, 7, 8, 1, 2, 3, 4, 7, 8, 9, 1, 2, 3, 4, 5, 6, 7, 8, 9, 10, 1, 2, 3, 4, 5, 6, 7, 8, 9, 10, 1, 2, 3, 6, 7, 8, 1, 2, 6, 7, 10, 2, 4, 1, 2, 3, 4, 5, 6, 7, 8, 9, 10, 1, 2, 3, 4, 5, 6, 7, 8, 9, 10, 1, 2, 3, 4, 6, 8, 2, 6, 7, 10, 1, 2, 3, 4, 5, 6, 7, 8, 9, 10, 1, 2, 3, 4, 5, 6, 7, 8, 9, 10, 1, 2, 3, 4, 5, 6, 2, 9, 1, 2, 3, 4, 5, 6, 7, 8, 9, 10, 1, 2, 3, 4, 5, 6, 7, 8, 9, 10, 1, 2, 3, 4, 5, 6, 7, 8, 1, 2, 7, 9, 2, 9, 1, 2, 3, 4, 5, 7, 8, 9, 1, 2, 3, 6, 8, 2, 3, 1, 2, 3, 4, 5, 6, 7, 8, 9, 10, 2, 6, 7, 9, 10, 1, 2, 1, 2, 6, 10, 2, 10, 1, 2, 3, 4, 5, 6, 7, 8, 9, 10, 1, 2, 1, 2, 3, 4, 5, 6, 7, 8, 9, 10, 1, 2, 6, 1, 2, 3, 4, 5, 6, 7, 8, 9, 10, 2, 7, 1, 2, 3, 4, 5, 6, 7, 8, 9, 10, 2, 7, 1, 2, 1, 2, 4, 5, 6, 7, 1, 2, 2, 4, 1, 2, 3, 5, 6, 7, 8, 10, 2, 7, 1, 2, 4, 5, 6, 8, 2, 7, 1, 2, 3, 4, 5, 6, 7, 8, 9, 10, 1, 2, 3, 4, 5, 6, 7, 8, 9, 10, 2, 7, 1, 2, 3, 4, 5, 6, 7, 8, 9, 10, 2, 2, 2, 3, 4, 8, 2, 6, 1, 2, 3, 7, 8, 9, 1, 2, 3, 4, 5, 6, 7, 8, 9, 10, 1, 2, 3, 4, 5, 6, 7, 8, 1, 2, 3, 4, 5, 6, 7, 8, 9, 2, 1, 2, 3, 4, 5, 6, 7, 8, 9, 10, 1, 2, 3, 4, 5, 6, 7, 8, 9, 10, 2, 4, 6, 1, 2, 3, 4, 5, 6, 7, 8, 9, 10, 1, 2, 3, 4, 5, 6, 7, 8, 9, 10, 1, 2, 3, 4, 5, 6, 7, 8, 9, 10, 1, 2, 4, 7, 8, 9, 2, 3, 6, 2, 6, 2, 8, 2, 9, 2, 3, 1, 2, 3, 4, 5, 6, 7, 8, 9, 10, 1, 2, 3, 4, 5, 6, 7, 8, 9, 10, 1, 2, 1, 2, 7, 8, 1, 2, 3, 4, 5, 6, 7, 8, 9, 10, 2, 8, 1, 2, 3, 4, 5, 6, 7, 8, 9, 10, 1, 2, 6, 1, 2, 3, 4, 5, 6, 7, 8, 9, 10, 1, 2, 4, 5, 6, 7, 10, 1, 2, 3, 4, 5, 6, 7, 8, 9, 10, 1, 2, 3, 4, 5, 6, 7, 8, 9, 10, 1, 2, 3, 4, 5, 6, 7, 8, 9, 10, 1, 2, 3, 4, 5, 6, 7, 8, 9, 10, 1, 2, 3, 4, 5, 6, 7, 8, 9, 10, 1, 2, 3, 4, 5, 6, 7, 8, 9, 10, 1, 2, 3, 4, 5, 6, 7, 8, 9, 10, 2, 8, 1, 2, 3, 4, 5, 6, 7, 8, 9, 10, 1, 2, 3, 4, 5, 6, 7, 8, 9, 10, 2, 3, 5, 7, 8, 9, 10, 1, 2, 3, 6, 8, 1, 2, 3, 4, 5, 6, 7, 8, 9, 10, 1, 2, 3, 4, 5, 8, 1, 2, 3, 4, 5, 6, 7, 8, 9, 10, 1, 2, 5, 6, 2, 4, 6, 1, 2, 3, 4, 5, 6, 8, 10, 1, 2, 4, 5, 6, 7, 8, 1, 2, 5, 1, 2, 3, 4, 5, 6, 7, 8, 9, 10, 1, 2, 3, 4, 5, 6, 7, 8, 9, 10, 2, 6, 2, 3, 4, 6, 7, 9, 10, 2, 10, 2, 3, 5, 1, 2, 3, 4, 5, 6, 7, 8, 10, 2, 9, 2, 4, 5, 9, 1, 2, 3, 5, 6, 7, 8, 10, 1, 2, 3, 4, 5, 6, 7, 8, 9, 10, 2, 1, 2, 3, 4, 5, 6, 7, 8, 9, 10, 1, 2, 3, 4, 5, 6, 7, 8, 9, 2, 3, 4, 5, 8, 9, 1, 2, 5, 6, 1, 2, 7, 1, 2, 5, 7, 1, 2, 3, 4, 5, 6, 7, 8, 9, 10, 2, 3, 4, 9, 2, 3, 6, 1, 2, 3, 4, 1, 2, 3, 4, 5, 6, 7, 8, 9, 10, 1, 2, 3, 4, 5, 6, 7, 8, 9, 10, 1, 2, 3, 4, 5, 6, 7, 8, 9, 10, 1, 2, 5, 6, 10, 1, 2, 3, 4, 5, 6, 7, 8, 9, 1, 2, 3, 4, 5, 6, 7, 8, 9, 10, 1, 2, 3, 5, 6, 1, 2, 3, 4, 5, 6, 7, 8, 9, 10, 1, 2, 3, 4, 5, 6, 7, 8, 9, 10, 1, 2, 3, 4, 5, 6, 7, 8, 9, 10, 1, 2, 3, 4, 5, 6, 7, 8, 9, 10, 1, 2, 3, 4, 5, 6, 7, 8, 9, 10, 2, 3, 8, 1, 2, 4, 5, 8, 1, 2, 4, 5, 6, 1, 2, 3, 4, 5, 1, 2, 3, 4, 5, 6, 7, 8, 9, 10, 1, 2, 3, 4, 5, 6, 7, 8, 9, 10, 2, 6, 2, 6, 1, 2, 3, 4, 5, 6, 7, 8, 9, 10, 1, 2, 5, 10, 1, 2, 3, 4, 5, 6, 7, 8, 9, 10, 2, 3, 1, 2, 3, 4, 5, 6, 7, 8, 9, 10, 1, 2, 3, 4, 5, 6, 7, 8, 9, 10, 2, 4, 5, 7, 8, 1, 2, 3, 4, 5, 6, 7, 8, 9, 10, 2, 3, 6, 1, 2, 3, 4, 5, 6, 7, 8, 1, 2, 3, 4, 5, 6, 7, 8, 9, 2, 10, 1, 2, 3, 4, 5, 6, 7, 8, 9, 10, 1, 2, 3, 4, 5, 6, 7, 9, 10, 1, 2, 4, 9, 1, 2, 3, 4, 5, 6, 7, 8, 9, 10, 2, 7, 10, 1, 2, 4, 8, 1, 2, 3, 4, 5, 6, 7, 8, 9, 10, 2, 7, 1, 2, 3, 4, 5, 6, 7, 8, 9, 10, 1, 2, 3, 4, 5, 6, 7, 8, 9, 10, 2, 2, 6, 1, 2, 4, 5, 6, 7, 8, 1, 2, 3, 4, 5, 6, 7, 8, 9, 1, 2, 3, 4, 5, 6, 7, 8, 9, 10, 2, 3, 4, 1, 2, 3, 4, 5, 6, 7, 8, 9, 10, 1, 2, 3, 4, 5, 6, 7, 8, 9, 10, 1, 2, 5, 7, 8, 10, 1, 2, 3, 4, 5, 6, 7, 8, 9, 10, 1, 2, 3, 4, 5, 6, 7, 8, 9, 10, 1, 2, 3, 4, 5, 6, 7, 8, 9, 10, 1, 2, 3, 4, 5, 6, 7, 8, 10, 2, 6, 8, 9, 10, 1, 2, 3, 4, 5, 8, 2, 5, 8, 2, 3, 1, 2, 5, 2, 3, 4, 1, 2, 4, 5, 7, 8, 9, 1, 2, 3, 4, 5, 6, 7, 8, 9, 10, 1, 2, 3, 4, 5, 6, 7, 8, 9, 10, 1, 2, 3, 4, 5, 6, 7, 8, 9, 10, 1, 2, 3, 4, 5, 6, 7, 8, 9, 10, 1, 2, 3, 4, 5, 6, 7, 8, 9, 10, 1, 2, 3, 4, 5, 6, 7, 8, 9, 10, 1, 2, 4, 5, 8, 10, 1, 2, 3, 4, 5, 6, 7, 8, 9, 10, 1, 2, 5, 6, 10, 1, 2, 3, 4, 5, 7, 8, 2, 10, 2, 3, 8, 1, 2, 4, 5, 6, 1, 2, 5, 7, 9, 1, 2, 6, 10, 2, 8, 1, 2, 3, 4, 5, 6, 7, 8, 9, 10, 1, 2, 3, 4, 5, 6, 7, 8, 9, 10, 2, 8, 1, 2, 4, 5, 6, 7, 8, 10, 1, 2, 3, 4, 5, 6, 7, 8, 9, 10, 1, 2, 3, 4, 5, 6, 7, 8, 9, 10, 1, 2, 2, 5, 7, 8, 9, 1, 2, 3, 4, 5, 6, 7, 8, 9, 10, 2, 3, 4, 6, 8, 1, 2, 3, 4, 5, 6, 7, 8, 9, 10, 2, 7, 9, 2, 1, 2, 3, 4, 5, 6, 7, 8, 9, 10, 1, 2, 3, 4, 5, 6, 7, 8, 9, 10, 1, 2, 3, 4, 5, 6, 7, 8, 9, 10, 2, 5, 2, 3, 4, 5, 6, 7, 10, 1, 2, 5, 2, 1, 2, 3, 4, 6, 8, 9, 1, 2, 3, 4, 5, 6, 7, 8, 9, 10, 2, 5, 1, 2, 3, 4, 5, 6, 7, 8, 9, 10, 1, 2, 3, 4, 5, 6, 7, 8, 9, 10, 1, 2, 3, 4, 5, 6, 1, 2, 5, 2, 7, 10, 1, 2, 3, 4, 5, 6, 7, 8, 9, 10, 1, 2, 3, 4, 5, 6, 7, 8, 9, 10, 1, 2, 3, 4, 5, 6, 7, 8, 9, 10, 1, 2, 3, 4, 5, 6, 7, 8, 9, 10, 2, 3, 4, 5, 6, 8, 1, 2, 3, 4, 5, 6, 7, 8, 9, 10, 1, 2, 3, 4, 5, 6, 7, 8, 9, 10, 1, 2, 3, 4, 2, 3, 4, 5, 6, 1, 2, 3, 4, 5, 6, 7, 8, 9, 10, 2, 3, 8, 9, 1, 2, 3, 4, 5, 6, 7, 8, 9, 10, 2, 4, 10, 2, 9, 1, 2, 3, 4, 5, 6, 7, 8, 9, 10, 2, 4, 2, 3, 4, 2, 4, 1, 2, 3, 4, 5, 8, 2, 3, 7, 8, 1, 2, 3, 4, 5, 6, 7, 8, 9, 10, 1, 2, 3, 4, 5, 6, 7, 8, 9, 10, 1, 2, 3, 4, 5, 6, 7, 8, 9, 10, 2, 4, 2, 4, 5, 6, 7, 8, 2, 5, 6, 1, 2, 5, 6, 10, 1, 2, 3, 4, 5, 6, 7, 8, 9, 10, 2, 10, 1, 2, 2, 5, 10, 1, 2, 3, 4, 5, 6, 7, 8, 9, 10, 1, 2, 4, 7, 1, 2, 3, 4, 5, 6, 7, 8, 9, 10, 1, 2, 3, 4, 8, 1, 2, 3, 4, 5, 6, 7, 9, 10, 1, 2, 3, 4, 5, 6, 7, 8, 9, 10, 1, 2, 2, 4, 1, 2, 3, 4, 5, 6, 7, 8, 9, 10, 1, 2, 3, 4, 6, 7, 8, 9, 10, 1, 2, 4, 7, 8, 1, 2, 3, 4, 5, 6, 7, 8, 9, 10, 2, 3, 4, 6, 7, 1, 2, 3, 4, 5, 6, 7, 8, 9, 10, 1, 2, 3, 5, 6, 7, 8, 9, 10, 2, 3, 6, 2, 3, 4, 6, 9, 1, 2, 3, 4, 5, 6, 7, 8, 9, 10, 2, 3, 4, 7, 1, 2, 3, 5, 10, 2, 5, 1, 2, 3, 4, 5, 6, 7, 8, 9, 10, 2, 3, 4, 1, 2, 5, 6, 7, 8, 2, 7, 8, 2, 7, 2, 7, 1, 2, 3, 4, 5, 6, 7, 8, 9, 10, 1, 2, 3, 5, 6, 7, 8, 1, 2, 3, 4, 6, 7, 8, 2, 3, 4, 6, 7, 1, 2, 3, 4, 5, 6, 7, 8, 9, 10, 2, 3, 6, 8, 1, 2, 3, 4, 5, 6, 7, 8, 9, 10, 1, 2, 3, 4, 5, 6, 7, 8, 9, 10, 1, 2, 3, 4, 5, 6, 7, 8, 9, 10, 1, 2, 4, 5, 6, 7, 8, 1, 2, 1, 2, 3, 4, 5, 6, 7, 8, 9, 10, 2, 3, 8, 1, 2, 1, 2, 3, 4, 5, 6, 7, 8, 9, 10, 1, 2, 3, 4, 5, 6, 7, 8, 9, 10, 1, 2, 3, 4, 5, 6, 7, 8, 9, 10, 1, 2, 3, 4, 5, 6, 7, 8, 9, 10, 2, 4, 5, 7, 8, 2, 5, 1, 2, 3, 4, 5, 6, 7, 8, 9, 10, 2, 3, 8, 1, 2, 3, 4, 5, 6, 7, 8, 9, 10, 1, 2, 8, 10, 2, 5, 8, 1, 2, 3, 4, 5, 6, 7, 8, 9, 10, 2, 3, 6, 8, 2, 6, 8, 2, 3, 2, 1, 2, 3, 4, 5, 6, 7, 8, 9, 10, 1, 2, 3, 4, 5, 6, 7, 8, 9, 10, 2, 4, 1, 2, 3, 4, 5, 6, 7, 8, 9, 10, 1, 2, 3, 4, 5, 6, 7, 8, 9, 10, 1, 2, 3, 4, 5, 6, 7, 8, 9, 10, 2, 3, 4, 8, 2, 8, 2, 4, 7, 1, 2, 3, 4, 5, 6, 7, 8, 9, 10, 1, 2, 3, 4, 5, 6, 7, 8, 9, 10, 1, 2, 5, 6, 7, 2, 5, 1, 2, 3, 5, 6, 7, 8, 9, 10, 1, 2, 3, 4, 5, 6, 7, 8, 9, 10, 1, 2, 3, 4, 5, 6, 7, 8, 9, 10, 1, 2, 3, 4, 5, 6, 7, 8, 9, 10, 2, 6, 7, 1, 2, 3, 4, 5, 6, 7, 8, 9, 10, 1, 2, 6, 7, 1, 2, 3, 4, 5, 6, 7, 8, 9, 10, 1, 2, 3, 10, 1, 2, 3, 5, 8, 1, 2, 3, 4, 5, 6, 7, 8, 9, 10, 1, 2, 3, 4, 5, 6, 7, 8, 9, 10, 2, 4, 6, 7, 8, 1, 2, 3, 4, 5, 6, 7, 8, 9, 10, 1, 2, 3, 4, 5, 6, 7, 8, 9, 10, 2, 6, 7, 8, 1, 2, 3, 4, 5, 6, 7, 8, 9, 10, 1, 2, 4, 5, 6, 7, 8, 9, 10, 2, 7, 9, 10, 1, 2, 3, 4, 5, 6, 7, 8, 9, 10, 1, 2, 3, 4, 5, 7, 8, 10, 2, 3, 4, 5, 2, 3, 5, 1, 2, 3, 4, 5, 6, 7, 8, 9, 10, 2, 4, 1, 2, 1, 2, 3, 4, 5, 6, 7, 8, 9, 10, 1, 2, 3, 4, 5, 6, 7, 8, 9, 10, 1, 2, 1, 2, 3, 4, 5, 6, 7, 8, 9, 10, 2, 1, 2, 2, 3, 2, 3, 4, 1, 2, 3, 4, 5, 6, 7, 8, 9, 10, 1, 2, 3, 4, 5, 6, 7, 8, 9, 1, 2, 3, 5, 6, 7, 8, 1, 2, 3, 4, 5, 7, 8, 1, 2, 3, 4, 5, 6, 7, 8, 9, 10, 1, 2, 3, 5, 6, 7, 8, 9, 10, 1, 2, 8, 1, 2, 4, 5, 6, 7, 9, 10, 2, 3, 4, 1, 2, 3, 4, 5, 6, 7, 8, 9, 10, 1, 2, 3, 4, 5, 6, 7, 8, 9, 10, 1, 2, 3, 4, 5, 6, 7, 8, 9, 10, 1, 2, 3, 4, 5, 6, 7, 8, 10, 1, 2, 3, 4, 5, 6, 7, 8, 9, 10, 1, 2, 4, 5, 7, 8, 9, 1, 2, 3, 4, 5, 6, 7, 8, 9, 10, 1, 2, 3, 4, 5, 6, 7, 8, 9, 10, 1, 2, 7, 1, 2, 3, 4, 5, 6, 7, 8, 9, 10, 1, 2, 3, 7, 1, 2, 10, 1, 2, 3, 6, 8, 9, 1, 2, 3, 1, 2, 3, 4, 5, 6, 7, 8, 9, 10, 1, 2, 3, 4, 5, 6, 7, 8, 9, 10, 1, 2, 3, 4, 5, 6, 7, 9, 10, 2, 4, 1, 2, 3, 4, 5, 6, 7, 8, 9, 10, 2, 4, 2, 3, 5, 6, 7, 1, 2, 3, 4, 5, 6, 7, 8, 9, 10, 1, 2, 3, 4, 5, 6, 7, 8, 9, 10, 1, 2, 3, 4, 5, 6, 7, 8, 9, 10, 2, 3, 8, 9, 1, 2, 3, 4, 5, 6, 7, 8, 9, 10, 1, 2, 3, 4, 5, 6, 7, 8, 9, 10, 1, 2, 3, 5, 6, 1, 2, 3, 2, 3, 1, 2, 3, 4, 5, 6, 7, 8, 9, 10, 2, 4, 7, 1, 2, 3, 4, 5, 9, 10, 1, 2, 3, 4, 5, 6, 7, 8, 10, 1, 2, 2, 3, 6, 8, 9, 1, 2, 4, 5, 2, 8, 1, 2, 3, 5, 6, 8, 2, 4], \"Freq\": [0.009308809342246146, 0.0031029364474153822, 0.11170571210695375, 0.009308809342246146, 0.0062058728948307645, 0.7757341118538456, 0.009308809342246146, 0.06516166539572302, 0.0062058728948307645, 0.0031029364474153822, 0.050429854000848005, 0.006303731750106001, 0.006303731750106001, 0.037822390500636, 0.132378366752226, 0.018911195250318, 0.7501440782626141, 0.020398015248249336, 0.04079603049649867, 0.9179106861712201, 0.060274624569644115, 0.9041193685446618, 0.06928790537208465, 0.9007427698371004, 0.04205530292339626, 0.8980044094819318, 0.001236920674217537, 0.027212254832785814, 0.012369206742175369, 0.001236920674217537, 0.007421524045305222, 0.006184603371087684, 0.001236920674217537, 0.001236920674217537, 0.02961997325890541, 0.9330291576555203, 0.022214979944179054, 0.007404993314726352, 0.007404993314726352, 0.0011559228562329812, 0.5756495824040246, 0.29167786738945556, 0.0839970608862633, 0.025430302837125586, 0.021577226649682316, 0.004714715774761282, 0.005893394718451602, 0.009429431549522563, 0.016501505211664484, 0.004714715774761282, 0.009429431549522563, 0.005893394718451602, 0.0011786789436903204, 0.9394071181211854, 0.002357357887380641, 0.028816613904557815, 0.027563717647837913, 0.03570754331651729, 0.035081095188157344, 0.010023170053759241, 0.021925684492598338, 0.010649618182119193, 0.003758688770159715, 0.8150090149962983, 0.011902514438839098, 0.02197901050375438, 0.0458206490163015, 0.34309607921962343, 0.045448123414542956, 0.03725256017585488, 0.11958071816449417, 0.04060529059168182, 0.06034914748488491, 0.14901024070341953, 0.13708942144714595, 0.0262184190955081, 0.040017587040512365, 0.30082186120109294, 0.08003517408102473, 0.011039334356003412, 0.07865525728652431, 0.006899583972502133, 0.011039334356003412, 0.0469171710130145, 0.39879595361062325, 0.04438562127853785, 0.932098046849295, 0.036372793373126704, 0.025181164642933872, 0.036372793373126704, 0.06994767956370519, 0.02797907182548208, 0.09233093702409086, 0.01398953591274104, 0.025181164642933872, 0.07554349392880161, 0.5959542298827682, 0.023769154414606215, 0.0116262168332313, 0.4270696983406964, 0.031261605262688605, 0.018085226185026466, 0.08241695932890633, 0.07569958960303935, 0.22425680469432818, 0.07311598586232129, 0.03281176750711945, 0.011046367426942262, 0.011046367426942262, 0.011046367426942262, 0.9389412312900923, 0.022092734853884525, 0.9503624082732901, 0.02639895578536917, 0.17928739830595658, 0.1064721192105771, 0.14614835573099275, 0.14783119773675263, 0.10271808704388198, 0.10271808704388198, 0.08731361022192614, 0.05618103311536834, 0.04485421192275375, 0.026472399244453514, 0.023460789162658233, 0.04692157832531647, 0.8680491990183546, 0.04692157832531647, 0.9707666139901334, 0.6931830581240905, 0.09072542966624125, 0.022426510704014694, 0.003058160550547458, 0.019368350153467235, 0.036697926606569495, 0.10295807186843109, 0.014271415902554804, 0.012232642202189833, 0.004077547400729944, 0.04921062534837899, 0.04921062534837899, 0.04921062534837899, 0.836580630922443, 0.08779875257250333, 0.8779875257250334, 0.0135308855174192, 0.0038659672906912004, 0.1768680035491224, 0.5798950936036801, 0.017396852808110402, 0.0367266892615664, 0.015463869162764802, 0.1459402652235928, 0.008698426404055201, 0.0019329836453456002, 0.012672596397952854, 0.02534519279590571, 0.08870817478566997, 0.8744091514587469, 0.006436687943823057, 0.006436687943823057, 0.012873375887646114, 0.025746751775292228, 0.012873375887646114, 0.09655031915734585, 0.7788392412025898, 0.0450568156067614, 0.01931006383146917, 0.013033457747081076, 0.02606691549416215, 0.0521338309883243, 0.8862751268015131, 0.010405160572972616, 0.02081032114594523, 0.8844386487026723, 0.02081032114594523, 0.03121548171891785, 0.03121548171891785, 0.005743217912729734, 0.9016852122985681, 0.005743217912729734, 0.011486435825459468, 0.005743217912729734, 0.005743217912729734, 0.022972871650918936, 0.04020252538910814, 0.9812599187835351, 0.012911314720835988, 0.031155234703190548, 0.9346570410957163, 0.005654050257164595, 0.01130810051432919, 0.949880443203652, 0.005654050257164595, 0.005654050257164595, 0.016962150771493784, 0.02022337101878003, 0.02022337101878003, 0.02022337101878003, 0.9302750668638814, 0.017303282601546545, 0.03584251396034642, 0.4437056038539436, 0.03460656520309309, 0.008651641300773272, 0.008651641300773272, 0.0061797437862666236, 0.41527878243711713, 0.0037078462717599742, 0.02595492390231982, 0.9816430416931614, 0.020886022163684285, 0.034835568995293734, 0.09268178907004754, 0.22083833188759602, 0.051454372552681565, 0.05433070393761408, 0.03707271562801902, 0.12240388004768347, 0.05560907344202853, 0.2930662088870124, 0.03771190038022624, 0.04425043141594946, 0.054594688110587, 0.1965408771981132, 0.10775267390247434, 0.05775543321172624, 0.11321214271353304, 0.08304139402084022, 0.06062883784912556, 0.2629165243220374, 0.018964470606835482, 0.003057540370639537, 0.003057540370639537, 0.03669048444767444, 0.7674426330305237, 0.18956750297965128, 0.017739843643389635, 0.008869921821694817, 0.008869921821694817, 0.008869921821694817, 0.008869921821694817, 0.9136019476345663, 0.03547968728677927, 0.028049362841458356, 0.028049362841458356, 0.8975796109266674, 0.028049362841458356, 0.003581522879985737, 0.003581522879985737, 0.01074456863995721, 0.03223370591987163, 0.017907614399928683, 0.050141320319800314, 0.7950980793568336, 0.068048934719729, 0.017907614399928683, 0.004338799190415361, 0.0028925327936102406, 0.03471039352332289, 0.0014462663968051203, 0.0028925327936102406, 0.9010239652095899, 0.010123864777635843, 0.03471039352332289, 0.008677598380830723, 0.0014462663968051203, 0.018430421540977408, 0.018430421540977408, 0.9583819201308252, 0.014655034135819029, 0.014655034135819029, 0.9672322529640559, 0.005705846639792311, 0.007988185295709235, 0.7965361909150066, 0.13123447271522315, 0.01597637059141847, 0.030811571854878476, 0.002282338655916924, 0.0034235079838753862, 0.001141169327958462, 0.004564677311833848, 0.024982090107102343, 0.9493194240698891, 0.024982090107102343, 0.0006489421048580794, 0.0012978842097161587, 0.11161804203558966, 0.0012978842097161587, 0.0006489421048580794, 0.8209117626454704, 0.005191536838864635, 0.04283017892063324, 0.01038307367772927, 0.005191536838864635, 0.02395073648769961, 0.8430659243670262, 0.011975368243849805, 0.03353103108277945, 0.04790147297539922, 0.002395073648769961, 0.016765515541389726, 0.004790147297539922, 0.004790147297539922, 0.009580294595079844, 0.032515387995723594, 0.032515387995723594, 0.9429462518759841, 0.00931648848814551, 0.027949465464436527, 0.046582442440727546, 0.9130158718382599, 0.0031821121876878635, 0.0031821121876878635, 0.09546336563063591, 0.050913795003005816, 0.009546336563063591, 0.028639009689190774, 0.8082564956727174, 0.023199637898681062, 0.023199637898681062, 0.023199637898681062, 0.9279855159472425, 0.0032424320860521254, 0.0032424320860521254, 0.9889417862458982, 0.0032424320860521254, 0.006970821585411449, 0.006970821585411449, 0.9759150219576029, 0.006970821585411449, 0.02540559511162459, 0.9654126142417344, 0.9516569761118321, 0.04137639026573183, 0.020992311440083497, 0.020992311440083497, 0.7144883143714134, 0.07947089330888753, 0.01199560653719057, 0.12820304486622422, 0.007497254085744106, 0.01349505735433939, 0.0014994508171488213, 0.0014994508171488213, 0.02544695201313604, 0.9415372244860335, 0.032800879434381716, 0.9512255035970697, 0.9604244921320291, 0.015006632689562954, 0.015006632689562954, 0.024806530330664444, 0.024806530330664444, 0.024806530330664444, 0.9178416222345844, 0.9309787448585576, 0.03674916098125885, 0.024499440654172568, 0.018034633468297392, 0.9738702072880591, 0.06930230416795741, 0.9009299541834463, 0.06731955462312075, 0.013463910924624149, 0.04712368823618452, 0.8616902991759455, 0.0067319554623120744, 0.514005214373732, 0.1274885441307124, 0.05337838109398051, 0.06505490195828875, 0.07387186669256232, 0.06219534582825408, 0.019302003877734026, 0.02502111613780337, 0.03669763700211161, 0.02311474538444692, 0.5566433823382373, 0.07674348559701416, 0.049812394345291514, 0.05487462954298374, 0.03239830526523025, 0.07350365507049114, 0.014579237369353614, 0.0649990999383682, 0.010326959803292143, 0.06601154697790663, 0.03950615852293527, 0.03950615852293527, 0.869135487504576, 0.04731751719789399, 0.04731751719789399, 0.8517153095620918, 0.006086626113694683, 0.012173252227389367, 0.033476443625320755, 0.060866261136946834, 0.033476443625320755, 0.7334384467002093, 0.060866261136946834, 0.01825987834108405, 0.027389817511626075, 0.015216565284236708, 0.0037737400748305444, 0.022642440448983267, 0.045284880897966534, 0.015094960299322177, 0.06037984119728871, 0.8377702966123809, 0.007547480149661089, 0.0037737400748305444, 0.06900246162124436, 0.8970320010761768, 0.9523307215621578, 0.014004863552384674, 0.014004863552384674, 0.00574501292152381, 0.9249470803653335, 0.04596010337219048, 0.02298005168609524, 0.04620410255312626, 0.04620410255312626, 0.8316738459562727, 0.9201841270956009, 0.010111913484567043, 0.0050559567422835214, 0.0050559567422835214, 0.010111913484567043, 0.0050559567422835214, 0.0050559567422835214, 0.010111913484567043, 0.0050559567422835214, 0.02527978371141761, 0.03507216464732268, 0.0757763557343614, 0.13158461772791136, 0.16256076314634962, 0.12006456364667398, 0.29312137606703986, 0.05785627160799215, 0.03865618147259652, 0.06092828602965545, 0.024320114171501126, 0.036789954222701086, 0.9197488555675272, 0.036789954222701086, 0.017542512911582837, 0.017542512911582837, 0.07017005164633135, 0.8595831326675589, 0.9620206777432555, 0.02237257390100594, 0.6953657258933081, 0.004046745252531376, 0.016861438552214066, 0.016186981010125504, 0.06542238158259057, 0.02967613185189676, 0.042490825151579446, 0.02023372626265688, 0.002023372626265688, 0.1065642916499929, 0.7928565432372017, 0.001413291520921928, 0.007066457604609641, 0.001413291520921928, 0.02261266433475085, 0.019786081292906994, 0.0452253286695017, 0.01554620673014121, 0.007066457604609641, 0.08621078277623762, 0.9475221023778605, 0.008938887758281703, 0.008938887758281703, 0.008938887758281703, 0.02681666327484511, 0.008938887758281703, 0.03230340322963168, 0.02206086074218749, 0.3269734717145646, 0.23163903779296866, 0.016939589498465395, 0.01654564555664062, 0.3340644626674106, 0.015757757672991066, 0.0027576075927734363, 0.00039394394182477665, 0.782230970271326, 0.0019654044479179046, 0.011792426687507428, 0.06485834678129085, 0.011792426687507428, 0.02555025782293276, 0.05306592009378343, 0.03734268451044019, 0.003930808895835809, 0.009827022239589523, 0.934046544292417, 0.009936665364812946, 0.009936665364812946, 0.029809996094438837, 0.009936665364812946, 0.007138018853362315, 0.9921846206173618, 0.04448741302401323, 0.054803334884653984, 0.40855348868912633, 0.2561787262059119, 0.01998709860499145, 0.024070484341495082, 0.1629055993826185, 0.013969477519617681, 0.011605412093220843, 0.0034386406202135834, 0.0792802740988854, 0.0792802740988854, 0.8720830150877393, 0.024346033168278016, 0.024346033168278016, 0.9251492603945646, 0.036694523912783966, 0.036694523912783966, 0.9173630978195991, 0.04073985737696708, 0.024896579508146548, 0.19766375245861806, 0.5590413762283816, 0.02414213770486938, 0.009807743442603186, 0.06789976229494513, 0.04752983360646159, 0.025651021311423716, 0.0030177672131086724, 0.03172417181991968, 0.9517251545975906, 0.0024786246001648913, 0.022307621401484023, 0.0024786246001648913, 0.8476896132563929, 0.11897398080791478, 0.004957249200329783, 0.6626351093246864, 0.05855249879595249, 0.05919241681558039, 0.03903499919730166, 0.0166378685103253, 0.03871504018748771, 0.011198565343488181, 0.08542905562032413, 0.0035195491079534286, 0.024956802765487947, 0.03593200659786708, 0.7665494740878309, 0.1137846875599124, 0.00898300164946677, 0.005988667766311179, 0.06886967931257856, 0.05343746247581296, 0.8549993996130073, 0.04797607557928752, 0.04797607557928752, 0.04797607557928752, 0.8635693604271754, 0.0060279218505376, 0.9162441212817152, 0.0542512966548384, 0.0120558437010752, 0.0060279218505376, 0.0060279218505376, 0.19241397712925398, 0.4123156652769728, 0.03675208769505856, 0.08358300276355424, 0.12145496016677249, 0.022906425848720713, 0.06892289022037298, 0.038686408100061645, 0.017001658296606038, 0.006108380226325523, 0.18656809610143282, 0.4047538126288523, 0.013515929342406518, 0.04513354976839319, 0.23314978115651241, 0.011343726412376898, 0.06540744378200296, 0.022204741062524992, 0.01279186169906331, 0.005068473503402443, 0.058473845420884754, 0.058473845420884754, 0.8771076813132713, 0.021570045017743095, 0.010785022508871547, 0.03235506752661464, 0.021570045017743095, 0.07549515756210083, 0.8304467331831091, 0.06118737983090082, 0.023395174641226785, 0.005398886455667719, 0.02519480345978269, 0.09538032738346304, 0.23395174641226785, 0.008998144092779532, 0.008998144092779532, 0.0035992576371118128, 0.5362893879296601, 0.005092109851007591, 0.005092109851007591, 0.2596976024013871, 0.010184219702015182, 0.030552659106045543, 0.6212374018229261, 0.06619742806309868, 0.040310222418329676, 0.9271351156215826, 0.04966143329571015, 0.9435672326184928, 0.0010213142281080042, 0.14911187730376863, 0.8497334377858595, 0.018796133283271902, 0.006265377761090634, 0.1602146598907462, 0.04564775225937462, 0.024166457078492444, 0.015215917419791539, 0.3016331864982205, 0.41172482430024165, 0.008055485692830815, 0.008055485692830815, 0.14134714622494043, 0.07798463239996714, 0.017059138337492813, 0.002437019762498973, 0.06823655334997125, 0.15109522527493632, 0.021933177862490758, 0.017059138337492813, 0.0073110592874969195, 0.49471501178729155, 0.04973561464645469, 0.8952410636361844, 0.03361083540340029, 0.9411033912952081, 0.02673166605467085, 0.9623399779681505, 0.013287549900107895, 0.05709265946090315, 0.6335679012809687, 0.12134015348340287, 0.015623822410016976, 0.13535778854285735, 0.007008817529727242, 0.010805260358329497, 0.002774323605517033, 0.0029203406373863507, 0.01467829189732463, 0.04449357231376529, 0.6265795853670452, 0.09678498719798428, 0.020641347980612762, 0.15870903113982257, 0.012384808788367657, 0.021100044602404156, 0.0022934831089569735, 0.0022934831089569735, 0.9403770979073307, 0.03616834991951272, 0.0647093634461957, 0.060534565804505655, 0.027136184670985292, 0.012524392925070136, 0.20665248326365723, 0.04174797641690045, 0.5009757170028054, 0.04592277405859049, 0.012524392925070136, 0.029223583491830313, 0.07549408040012254, 0.0557739907969243, 0.04959901324440768, 0.05517641232410011, 0.09700690542179334, 0.20377425923304843, 0.1322640353184205, 0.17489129971321263, 0.06075381140379254, 0.09541336282759551, 0.03287123010812923, 0.03287123010812923, 0.8875232129194892, 0.03287123010812923, 0.01008754602916863, 0.01008754602916863, 0.1008754602916863, 0.01008754602916863, 0.7969161363043218, 0.06052527617501178, 0.01008754602916863, 0.19670506040656732, 0.49737211091394395, 0.02056801962426084, 0.04612222582410007, 0.1902230178583154, 0.0024930932877891927, 0.015955797041850833, 0.016080451706240294, 0.0063573878838624415, 0.008102553185314876, 0.012904173253728246, 0.942004647522162, 0.025808346507456493, 0.025808346507456493, 0.9762275869055989, 0.010276079862164198, 0.016654294794324953, 0.049962884382974866, 0.9159862136878725, 0.44065179212133265, 0.13057461142559926, 0.04802744328297903, 0.11136363411240764, 0.04412521351623699, 0.07294167948602441, 0.02881646596978742, 0.042324184393125276, 0.04022298374949494, 0.0411234983110508, 0.3037645985424544, 0.2663631758097111, 0.025367921505686772, 0.07317669665101953, 0.0354500441553828, 0.05398814064030774, 0.04423124775350514, 0.04943492395979986, 0.02341654292832625, 0.12488822895107334, 0.4683848438556028, 0.1303010052674209, 0.08837449884067977, 0.08405853494380937, 0.07439899669843274, 0.04583142614295718, 0.019730120671407576, 0.04028232970412381, 0.031239357729728665, 0.017469377677808793, 0.010912503385627392, 0.010912503385627392, 0.1309500406275287, 0.010912503385627392, 0.06547502031376436, 0.75296273360829, 0.010912503385627392, 0.011436649660527503, 0.0038122165535091675, 0.13723979592633004, 0.7929410431299069, 0.0038122165535091675, 0.022873299321055005, 0.0038122165535091675, 0.01524886621403667, 0.0038122165535091675, 0.11920776049712153, 0.5841920685231609, 0.023693467924893723, 0.013327575707752719, 0.16215217111099142, 0.017029680071017364, 0.05775282806692845, 0.005923366981223431, 0.01258715483509979, 0.0051829461085705015, 0.9677208204121508, 0.02846237707094561, 0.026650955197122024, 0.959434387096393, 0.178031879744113, 0.11534809696909275, 0.14350197562630132, 0.12561598212642763, 0.1003602968604023, 0.11037976544135006, 0.07899647129110875, 0.0837163862424643, 0.03982945774740389, 0.024179213435014415, 0.03687873446673492, 0.11541678009033707, 0.5077655384447669, 0.10619709647365334, 0.025951702032146796, 0.07102571082482281, 0.026293171795727675, 0.08297715255015357, 0.013317320779654277, 0.014000260306816035, 0.1617954733043213, 0.05956649265930237, 0.1955028635760549, 0.09176459679946582, 0.13160975067291808, 0.10383888585202711, 0.11621503213090242, 0.08462064244336705, 0.03823524866644409, 0.01690400467358581, 0.2591420705857934, 0.02702014799997361, 0.06183215263249774, 0.0943820053394427, 0.05894162517203545, 0.05152679386041479, 0.20120584626957091, 0.08294557060457014, 0.14729122537660033, 0.01570938837207768, 0.03682421743762866, 0.9206054359407165, 0.00670135502766929, 0.08041626033203148, 0.8577734435416691, 0.05361084022135432, 0.13191283734134168, 0.6227609186083404, 0.019021913848594727, 0.003721678796464186, 0.14762659225974603, 0.03349510916817767, 0.013232635720761549, 0.007443357592928372, 0.008270397325475968, 0.012405595988213952, 0.1909645621035649, 0.03819291242071298, 0.01809137956770615, 0.034172605850111615, 0.022111686138307517, 0.050253832132517086, 0.01809137956770615, 0.01809137956770615, 0.052263985417817765, 0.5568124600282893, 0.9105331284734041, 0.003841911934486937, 0.003841911934486937, 0.007683823868973874, 0.003841911934486937, 0.01152573580346081, 0.042261031279356306, 0.007683823868973874, 0.003841911934486937, 0.10934040332668334, 0.09468653483960206, 0.05974269460117749, 0.06988768047684914, 0.06988768047684914, 0.22206246861192389, 0.058615473948325086, 0.029307736974162543, 0.011272206528524054, 0.27616905994883933, 0.006008267541974348, 0.006008267541974348, 0.3154340459536532, 0.021028936396910215, 0.003004133770987174, 0.021028936396910215, 0.015020668854935868, 0.5287275436937425, 0.006008267541974348, 0.07810747804566652, 0.013430049640541385, 0.9803936237595211, 0.07059785977652312, 0.041615580499845206, 0.1984171427403334, 0.3648794647397142, 0.0652101283725253, 0.14231042260214924, 0.0334410914730899, 0.047374879586877354, 0.009846543600409803, 0.026381305495437588, 0.77238485282847, 0.025998929127466035, 0.006499732281866509, 0.014624397634199643, 0.024915640413821615, 0.03141537269568812, 0.0075830209955109265, 0.07312198817099821, 0.008124665352333135, 0.03520688319344359, 0.7940235935138771, 0.03699277973109577, 0.025102243388957845, 0.013211707046819919, 0.03963512114045976, 0.02906575550300382, 0.005284682818727967, 0.04227746254982374, 0.007927024228091951, 0.005284682818727967, 0.0018054854244954196, 0.04152616476339465, 0.22568567806192744, 0.7239996552226632, 0.005416456273486259, 0.15501159386873165, 0.5619170277741522, 0.025027913593388965, 0.004844112308397864, 0.21152623746670673, 0.02179850538779039, 0.005651464359797508, 0.009688224616795728, 0.001614704102799288, 0.003229408205598576, 0.010006057119843953, 0.9605814835050194, 0.010006057119843953, 0.010006057119843953, 0.1903482648004204, 0.2506818665898394, 0.09534408620806772, 0.058124202287271234, 0.2367456543455229, 0.026172886410057807, 0.06186318606013664, 0.05421526470654831, 0.017505242209324378, 0.009007551816448467, 0.03182103574742095, 0.9546310724226286, 0.02436245127662403, 0.9744980510649611, 0.011969460607704006, 0.03590838182311202, 0.07181676364622404, 0.011969460607704006, 0.011969460607704006, 0.03590838182311202, 0.8139233213238724, 0.011969460607704006, 0.04056921823505803, 0.04056921823505803, 0.9330920194063348, 0.024226616405630758, 0.024226616405630758, 0.024226616405630758, 0.896384807008338, 0.048453232811261515, 0.03142530801139837, 0.06285061602279673, 0.03142530801139837, 0.848483316307756, 0.9132818880936322, 0.0282874921090948, 0.034349097561043686, 0.004041070301299257, 0.020205351506496286, 0.012960734202294924, 0.038882202606884776, 0.1080061183524577, 0.8165262547445802, 0.012960734202294924, 0.004320244734098308, 0.004320244734098308, 0.019899700269085947, 0.9551856129161254, 0.03853696708495862, 0.007707393416991724, 0.16956265517381794, 0.07707393416991724, 0.007707393416991724, 0.6936654075292552, 0.0945430642355231, 0.33143529788543635, 0.14219643425407433, 0.15746995028566124, 0.1597609776903993, 0.02229933340611692, 0.020466511482326488, 0.022452068566432788, 0.02840873981875169, 0.021077452123589965, 0.01344724539997256, 0.9682016687980244, 0.03476771257129946, 0.9387282394250854, 0.005800686587688964, 0.962913973556368, 0.011601373175377927, 0.011601373175377927, 0.9656002463008515, 0.003125470586086055, 0.003125470586086055, 0.8626298817597512, 0.08126223523823743, 0.003125470586086055, 0.03438017644694661, 0.009376411758258166, 0.06568672177858575, 0.9196141049002007, 0.031122345096431674, 0.9336703528929502, 0.031122345096431674, 0.9752579223092911, 0.14112178987345972, 0.6175489524862597, 0.06773845913926066, 0.02483743501772891, 0.08693102256205118, 0.012418717508864455, 0.016934614784815165, 0.021450512060765876, 0.0022579486379753553, 0.007902820232913743, 0.030190246025103316, 0.016906537774057855, 0.7064517569874176, 0.07245659046024795, 0.015698927933053722, 0.003622829523012398, 0.05675766252719423, 0.025359806661086785, 0.02294458697907852, 0.049512003481169437, 0.17761376962420294, 0.23035643587693014, 0.03723404955991006, 0.1115684537082404, 0.25515685308828856, 0.01711295635069475, 0.07018986003214644, 0.07620613374918757, 0.019786855780490806, 0.004746171487887998, 0.11971864508813182, 0.03257650206479777, 0.052122403303676436, 0.035019739719657605, 0.58556262461474, 0.008144125516199443, 0.05293681585529638, 0.09854391874601326, 0.013845013377539054, 0.0008144125516199443, 0.18832896937495422, 0.024959261001499956, 0.05559108132152263, 0.057860105048931715, 0.04651498641188628, 0.1486210541452952, 0.030631820320022672, 0.061263640640045344, 0.06693619995856806, 0.31993234556468125, 0.029882454113094946, 0.029882454113094946, 0.9263560775059434, 0.019252809024329586, 0.9048820241434906, 0.03850561804865917, 0.010611649515344723, 0.015917474273017082, 0.005305824757672361, 0.11672814466879194, 0.7401625536952944, 0.039793685682542705, 0.021223299030689445, 0.0026529123788361806, 0.04509951044021507, 0.006564885430986609, 0.006564885430986609, 0.019694656292959824, 0.9519083874930582, 0.013129770861973217, 0.02917684452696377, 0.009920127139167682, 0.16047264489830074, 0.57186615272849, 0.016339032935099713, 0.02042379116887464, 0.0075859795770105804, 0.16572447691315423, 0.017506106716178263, 0.0011670737810785508, 0.050934685173559986, 0.9168243331240797, 0.006980759400946445, 0.012216328951656278, 0.06806240415922783, 0.026177847753549168, 0.018324493427484417, 0.4816723986653047, 0.09598544176301362, 0.22949246530611436, 0.05759126505780817, 0.0026177847753549167, 0.03395603533212048, 0.003604921559231969, 0.15210443224114242, 0.627023775721896, 0.014303398444694587, 0.01732688104276011, 0.11035711482939156, 0.03849125922921876, 0.0024420436368990757, 0.00034886337669986795, 0.003833798364418086, 0.09201116074603406, 0.08434356401719789, 0.007667596728836172, 0.7935962614345438, 0.011501395093254258, 0.003833798364418086, 0.03075247597963018, 0.056961972553178634, 0.10868204579164757, 0.4791095973644657, 0.06115549200494638, 0.11147772542615941, 0.08736498857849484, 0.0440319542435614, 0.009435418766477442, 0.01083325858373336, 0.06070547225236142, 0.020186042957702707, 0.12141094450472284, 0.5783227635692199, 0.031236796401700538, 0.04435035715524463, 0.0965099134109144, 0.040077399156898806, 0.00530436165311896, 0.0019154639302929575, 0.028548460278659094, 0.028548460278659094, 0.028548460278659094, 0.8850022686384319, 0.013245301741774807, 0.03973590522532442, 0.026490603483549615, 0.9139258201824617, 0.01007058830729195, 0.00604235298437517, 0.8298164765208567, 0.11883294202604501, 0.00201411766145839, 0.02618352959895907, 0.00201411766145839, 0.00402823532291678, 0.00201411766145839, 0.03616545652065719, 0.003287768774605199, 0.03616545652065719, 0.8613954189465621, 0.019726612647631193, 0.03287768774605199, 0.006575537549210398, 0.027469160316010273, 0.6509209953454578, 0.02305447383665148, 0.10938612054411234, 0.052976237752305526, 0.01618718375764891, 0.05984352783130809, 0.02011134951707895, 0.02011134951707895, 0.02011134951707895, 0.006325236597799852, 0.050601892782398815, 0.006325236597799852, 0.012650473195599704, 0.9234845432787784, 0.013239943103380314, 0.11915948793042282, 0.1390194025854933, 0.7083369560308468, 0.006619971551690157, 0.024954879069771185, 0.9233305255815337, 0.024954879069771185, 0.03912704809078966, 0.07825409618157932, 0.8607950579973724, 0.4880402212153143, 0.13207689155001906, 0.03624061048628572, 0.12201005530382858, 0.05113952813064762, 0.05879032367775239, 0.03261654943765715, 0.055166262629123816, 0.010469509696038095, 0.013690897294819048, 0.19458732749357377, 0.20769820862733504, 0.10281115955724475, 0.06096559727198998, 0.15121216240938018, 0.06653772175383853, 0.11712387146160083, 0.04326590774141224, 0.024364387440239724, 0.03135685737824574, 0.7957422284093179, 0.04505451418137686, 0.014576460470445455, 0.014576460470445455, 0.019876991550607438, 0.031803186480971905, 0.00662566385020248, 0.051017611646559095, 0.00331283192510124, 0.017889292395546694, 0.008201584199254508, 0.1968380207821082, 0.008201584199254508, 0.008201584199254508, 0.7791504989291782, 0.07745194156351586, 0.03668776179324435, 0.00407641797702715, 0.00407641797702715, 0.02853492583919005, 0.21197373480541182, 0.0326113438162172, 0.01222925393108145, 0.0081528359540543, 0.5870041886919096, 0.13228366775340528, 0.4741986850251201, 0.012572414703836037, 0.006286207351918018, 0.09538636373127776, 0.05575592607788156, 0.01448560824572413, 0.0051929538994105375, 0.0073794608044255, 0.1965123080882198, 0.009518721620150045, 0.8630307602269374, 0.07297686575448367, 0.04124779368731686, 0.0031729072067166815, 0.0031729072067166815, 0.006345814413433363, 0.0031729072067166815, 0.028969647480632722, 0.028969647480632722, 0.8980590718996144, 0.015293353636237626, 0.013570158860323527, 0.23413909017732815, 0.04954184980753033, 0.02412472686279738, 0.26386420006184635, 0.045664661561723614, 0.15121034158646215, 0.1835202436348515, 0.018955142535055085, 0.058396684662457954, 0.092647324430776, 0.328596176168078, 0.2901462242442574, 0.05760931363330122, 0.06705776598318205, 0.024670958913577744, 0.05905282718675524, 0.01509127805883745, 0.006561425242972804, 0.16119332591493193, 0.2712842667061477, 0.0800183437842552, 0.13564213335307385, 0.11829255815675045, 0.0264975330271121, 0.10367685541560528, 0.05310021499480798, 0.024394554215436536, 0.02597178832419321, 0.1467360280886794, 0.09312094090243114, 0.03386216032815678, 0.08747724751440501, 0.002821846694013065, 0.019752926858091456, 0.6151625792948482, 0.05891508421255202, 0.0032730602340306676, 0.03927672280836801, 0.022911421638214673, 0.8640879017840962, 0.006546120468061335, 0.9708685215162527, 0.012608682097613672, 0.006304341048806836, 0.03717023724306327, 0.036732940334321354, 0.13075177571383434, 0.42286611075343744, 0.02405132998080565, 0.0878966786571261, 0.09052046010957762, 0.11981935299528632, 0.023614033072063726, 0.02667511143325717, 0.04539638178348583, 0.9079276356697167, 0.9507330687744545, 0.0032228239619473036, 0.045119535467262245, 0.02334907311815409, 0.9339629247261636, 0.9425032887983011, 0.021918681134844215, 0.008296726898824686, 0.043557816218829606, 0.10993163140942709, 0.6927766960518613, 0.03940945276941726, 0.06429963346589132, 0.008296726898824686, 0.03318690759529874, 0.0020741817247061714, 0.0014811745492675711, 0.8531565403781209, 0.13034336033554625, 0.014811745492675712, 0.0020534975861409423, 0.04312344930895979, 0.012320985516845654, 0.18276128516654386, 0.0020534975861409423, 0.0041069951722818845, 0.0020534975861409423, 0.053390937239664496, 0.0020534975861409423, 0.6981891792879203, 0.811738546168045, 0.015172683105944766, 0.015172683105944766, 0.017701463623602226, 0.010115122070629845, 0.0708058544944089, 0.012643902588287306, 0.027816585694232072, 0.007586341552972383, 0.010115122070629845, 0.960397442027466, 0.011767199700856974, 0.04874982733212175, 0.038327450454219855, 0.5678514369927836, 0.029586102105011818, 0.17348214416120566, 0.10355135736754137, 0.0194999309328487, 0.0033620570573877065, 0.0036982627631264773, 0.021730129029755952, 0.10697909676187545, 0.06324024730454617, 0.3387671397459389, 0.06936925805652862, 0.28583477416063596, 0.0746624946150589, 0.03287378494245131, 0.0019501397847216878, 0.004457462365078144, 0.022873536192492605, 0.022873536192492605, 0.06862060857747782, 0.8463208391222264, 0.022873536192492605, 0.007110786309084732, 0.007110786309084732, 0.007110786309084732, 0.056886290472677854, 0.007110786309084732, 0.021332358927254196, 0.028443145236338927, 0.8604051433992526, 0.012540229409667052, 0.9342470910201954, 0.006270114704833526, 0.006270114704833526, 0.006270114704833526, 0.012540229409667052, 0.012540229409667052, 0.028231933795800544, 0.028231933795800544, 0.028231933795800544, 0.931653815261418, 0.9457963957382303, 0.009553498946850812, 0.019106997893701624, 0.009553498946850812, 0.21839155312527486, 0.05909903577335947, 0.14880129317199345, 0.09304662143852176, 0.0722474259027813, 0.11851876398889995, 0.08782391595157371, 0.1320794729725545, 0.047874800297023755, 0.022127778510490404, 0.03560496146186126, 0.10681488438558377, 0.8545190750846702, 0.6310829002052043, 0.0023934876113977407, 0.07738943276852696, 0.10451562569770134, 0.12685484340408026, 0.027924022132973642, 0.0007978292037992469, 0.027126192929174394, 0.0007978292037992469, 0.0007978292037992469, 0.016994872562468465, 0.1019692353748108, 0.016994872562468465, 0.8497436281234233, 0.07684897289415984, 0.8453387018357583, 0.0107366179016785, 0.021473235803357, 0.9555589932493865, 0.0107366179016785, 0.11832544346541894, 0.18629377959555493, 0.10869430271823367, 0.05448473908407663, 0.086267503549788, 0.11777509256557979, 0.11282193446702736, 0.08998237212370232, 0.09273412662289811, 0.032608290815470106, 0.680095198394489, 0.08521543986267738, 0.019539846083161692, 0.015740431566991363, 0.05156348271945447, 0.08033047834188696, 0.019539846083161692, 0.033651957143222916, 0.0075988290323406585, 0.006513282027720564, 0.034321859724123126, 0.034321859724123126, 0.034321859724123126, 0.8580464931030782, 0.09305997037651076, 0.8375397333885968, 0.02506404036478556, 0.00626601009119639, 0.07728079112475547, 0.760275891065162, 0.00626601009119639, 0.008354680121595187, 0.11069951161113623, 0.0020886700303987967, 0.02345202125421315, 0.011726010627106575, 0.0469040425084263, 0.8794507970329931, 0.011726010627106575, 0.02345202125421315, 0.007869192769515912, 0.05114975300185342, 0.1318089788893915, 0.007869192769515912, 0.003934596384757956, 0.047215156617095466, 0.7475733131040115, 0.9649707412976791, 0.0081777181465905, 0.016355436293181, 0.014336603674222927, 0.9605524461729361, 0.014336603674222927, 0.0072419252373207964, 0.0072419252373207964, 0.0072419252373207964, 0.0072419252373207964, 0.9631760565636659, 0.00551681424887426, 0.9157911653131271, 0.0551681424887426, 0.02206725699549704, 0.02003813944799712, 0.02003813944799712, 0.9217544146078676, 0.03710446932882264, 0.9276117332205659, 0.02359574078833665, 0.9674253723218026, 0.04807154736979793, 0.9133594000261607, 0.9734675483457923, 0.012168344354322402, 0.006084172177161201, 0.028163886755686693, 0.9294082629376608, 0.028163886755686693, 0.04686768217992971, 0.023433841089964855, 0.023433841089964855, 0.023433841089964855, 0.04686768217992971, 0.8436182792387348, 0.2667054515653809, 0.32384196561227213, 0.06513767759385264, 0.09129532765122654, 0.06267578111786451, 0.026978282216036608, 0.033748497525003966, 0.03354333948533829, 0.044108978528120686, 0.051904984035416435, 0.011965737494926028, 0.09572589995940822, 0.0837601624644822, 0.023931474989852056, 0.7777729371701918, 0.0020585530321508075, 0.0020585530321508075, 0.9736955842073319, 0.012351318192904845, 0.0020585530321508075, 0.0020585530321508075, 0.0061756590964524224, 0.011744195217107673, 0.011744195217107673, 0.013212219619246133, 0.808881445578291, 0.027892463640630725, 0.002936048804276918, 0.10129368374755368, 0.01761629282566151, 0.002936048804276918, 0.001468024402138459, 0.030523086377354493, 0.9462156776979893, 0.09582133271155593, 0.034340593226106754, 0.0033232832154296856, 0.0022155221436197907, 0.02381686304391275, 0.059819097877734345, 0.0038771637513346333, 0.0038771637513346333, 0.0011077610718098953, 0.7715555865155921, 0.005235861307373478, 0.031415167844240866, 0.9267474514051056, 0.005235861307373478, 0.005235861307373478, 0.02617930653686739, 0.04420828832669189, 0.9283740548605296, 0.004131632635124561, 0.004131632635124561, 0.24376632547234908, 0.004131632635124561, 0.004131632635124561, 0.004131632635124561, 0.024789795810747365, 0.6982459153360508, 0.004131632635124561, 0.008263265270249122, 0.07010348607929423, 0.911345319030825, 0.1619378468371141, 0.08753759435814197, 0.16502110054344987, 0.13646749013260112, 0.10228359034496527, 0.09611708293229371, 0.07574079756868334, 0.05898398394729321, 0.06488238234202254, 0.05107476791799708, 0.6536476535989941, 0.08159509380068855, 0.008869031934857451, 0.01241664470880043, 0.056761804383087686, 0.05942251396354492, 0.016851160676229156, 0.0549879979961162, 0.04789277244823024, 0.007982128741371705, 0.031638990883025256, 0.014381359492284206, 0.2948178695918262, 0.08449048701716971, 0.03775106866724604, 0.1412968570116923, 0.13518477922747155, 0.23657336364807519, 0.017617165378048152, 0.006471611771527892, 0.016974839883117845, 0.012731129912338384, 0.2270384834367012, 0.03182782478084596, 0.02192583484902722, 0.09336161935714815, 0.040315244722404886, 0.0056582799610392824, 0.5368293113036019, 0.013438414907468294, 0.055280716815344154, 0.04064758589363541, 0.12844637142388787, 0.048777103072362486, 0.03576987558639916, 0.13332408173112414, 0.06991384773705289, 0.008129517178727081, 0.44874934826573487, 0.029266261843417494, 0.005648584306367456, 0.002824292153183728, 0.10026237143802233, 0.007060730382959319, 0.007060730382959319, 0.25559843986312736, 0.031067213685021005, 0.10873524789757351, 0.4758932278114581, 0.007060730382959319, 0.021710456800950993, 0.9552600992418437, 0.056269806116430364, 0.9003168978628858, 0.014446706475802486, 0.0065991128346258275, 0.3317391857406497, 0.3526066506501422, 0.051901130672327454, 0.1747873129171165, 0.004102151221524163, 0.039594677007754965, 0.003923796820588329, 0.020510756107620813, 0.02073564134429445, 0.031103462016441673, 0.1793248982923242, 0.03763134910631215, 0.027263528434164925, 0.5310628144288745, 0.029567488583530973, 0.0829425653771778, 0.04339124947972727, 0.016511714403790023, 0.0058515589807410905, 0.0058515589807410905, 0.09492529013202214, 0.007802078640988121, 0.007151905420905777, 0.7672043996971653, 0.013003464401646868, 0.06306680234798731, 0.027307275243458422, 0.007802078640988121, 0.1369773715128471, 0.04965429717340708, 0.11386244007005417, 0.14981900009217652, 0.0051366514317317665, 0.03338823430625649, 0.47428414886323317, 0.019690497154971773, 0.01712217143910589, 0.0008561085719552945, 0.05723223546462653, 0.035770147165391585, 0.21283237563407992, 0.030404625090582844, 0.0053655220748087375, 0.05544372810635695, 0.5526487737053, 0.016096566224426213, 0.030404625090582844, 0.001788507358269579, 0.07851527677692596, 0.06971615093123598, 0.0006768558342838446, 0.0013537116685676891, 0.01489082835424458, 0.2341921186622102, 0.0006768558342838446, 0.004061135005703067, 0.596309990004067, 0.018934551113123064, 0.018934551113123064, 0.9277930045430302, 0.0037241959363921956, 0.007448391872784391, 0.014896783745568782, 0.007448391872784391, 0.007448391872784391, 0.0037241959363921956, 0.007448391872784391, 0.9384973759708333, 0.0037241959363921956, 0.013315459601037534, 0.024061269103629226, 0.1924901528290338, 0.03807754236787926, 0.029200569300520906, 0.18711724807773797, 0.06097078869948765, 0.24808803677722563, 0.18665003896892965, 0.020089991678758384, 0.020416199768709883, 0.03756580757442619, 0.24091115727077664, 0.0694150792136136, 0.026949383694697047, 0.05553206337089089, 0.12984703052899485, 0.05634871136163928, 0.3307424362531001, 0.03184927163918742, 0.211190543304437, 0.022416873311644152, 0.09379691727766895, 0.050143006091835605, 0.04719341749819821, 0.3344833465184799, 0.02890596821764641, 0.018287449280551808, 0.008848765780912166, 0.185234163680428, 0.031973130854670864, 0.927220794785455, 0.031973130854670864, 0.0037933258176563274, 0.19497694702753524, 0.057279219846610545, 0.361503950422648, 0.00834531679884392, 0.015552635852390943, 0.01820796392475037, 0.03982992108539144, 0.0034139932358906947, 0.2966380789407248, 0.0032688628622829672, 0.12830286734460647, 0.042495217209678575, 0.3277035019438675, 0.00898937287127816, 0.014709882880273353, 0.021247608604839287, 0.05883953152109341, 0.004086078577853709, 0.39144632775838534, 0.031184326591910543, 0.9355297977573164, 0.05092865688112666, 0.9167158238602798, 0.024818967158922896, 0.003102370894865362, 0.04653556342298043, 0.7445690147676869, 0.08066164326649941, 0.052740305212711155, 0.03722845073838434, 0.009307112684596086, 0.04142065376544596, 0.023365496995892594, 0.5581167577882526, 0.07487579719138308, 0.06425511673870463, 0.178427431604998, 0.02920687124486574, 0.007965510339508838, 0.011682748497946297, 0.010620680452678452, 0.04719026778009027, 0.9438053556018053, 0.0054063590715224645, 0.023427555976597347, 0.9118725633967891, 0.025229675667104837, 0.012614837833552418, 0.009010598452537441, 0.0036042393810149765, 0.0054063590715224645, 0.0036042393810149765, 0.03822639884717245, 0.019113199423586226, 0.05733959827075868, 0.019113199423586226, 0.840980774637794, 0.019113199423586226, 0.004813171248343034, 0.002406585624171517, 0.026472441865886688, 0.842304968460031, 0.009626342496686069, 0.006016464060428793, 0.09024696090643189, 0.01684609936920062, 0.021271560644278806, 0.9678560093146856, 0.9601332604406255, 0.00587219304694467, 0.002936096523472335, 0.00587219304694467, 0.014680482617361676, 0.002936096523472335, 0.00587219304694467, 0.9601035631754535, 0.002936096523472335, 0.03236009939575753, 0.9384428824769682, 0.010489326710492696, 0.010489326710492696, 0.010489326710492696, 0.010489326710492696, 0.9545287306548352, 0.009165416835359567, 0.009165416835359567, 0.9073762667005971, 0.07332333468287654, 0.009165416835359567, 0.9760972787223301, 0.010062858543529176, 0.010062858543529176, 0.002624926561059146, 0.9764726807140023, 0.01312463280529573, 0.005249853122118292, 0.039715441191657215, 0.004412826799073024, 0.03530261439258419, 0.039715441191657215, 0.04192185459119373, 0.09708218957960653, 0.5957316178748583, 0.059573161787485826, 0.06619240198609536, 0.017651307196292095, 0.024864888152764105, 0.012432444076382053, 0.03729733222914616, 0.062162220381910264, 0.012432444076382053, 0.8205413090412155, 0.03729733222914616, 0.004523261314678258, 0.1266513168109912, 0.10403501023759992, 0.013569783944034772, 0.07463381169219126, 0.004523261314678258, 0.03844772117476519, 0.013569783944034772, 0.5744541869641387, 0.047494243804121705, 0.023334442327206738, 0.023334442327206738, 0.9567121354154762, 0.04351317751600638, 0.913776727836134, 0.003115177591655678, 0.003115177591655678, 0.13083745884953846, 0.8286372393804103, 0.015575887958278389, 0.006230355183311356, 0.006230355183311356, 0.014665049348102933, 0.0073325246740514665, 0.09532282076266907, 0.0073325246740514665, 0.0073325246740514665, 0.7919126647975584, 0.07332524674051467, 0.01569460051131572, 0.015479605983763448, 0.12039693542927125, 0.029884239329765545, 0.034184129880810946, 0.12555680409052575, 0.14125140460184146, 0.07933298066678766, 0.3659206858939637, 0.07245315578511502, 0.01609545382292774, 0.02593156449249469, 0.8530590526151702, 0.03219090764585548, 0.01698964570197928, 0.01609545382292774, 0.01609545382292774, 0.00894191879051541, 0.009836110669566953, 0.006259343153360787, 0.002026527561751744, 0.002026527561751744, 0.004053055123503488, 0.9869189225730993, 0.002026527561751744, 0.002026527561751744, 0.014147246252932332, 0.014147246252932332, 0.084883477517594, 0.014147246252932332, 0.8629820214288723, 0.051856041790257365, 0.8815527104343752, 0.015664639438881373, 0.015530753631711447, 0.891545589944539, 0.043245115715886184, 0.016334068474731005, 0.011246407802273806, 0.0013388580716992627, 0.0022760587218887463, 0.00107108645735941, 0.001472743878869189, 0.01346202447926815, 0.00923110250006959, 0.8792625131316283, 0.05038643447954651, 0.015769800104285546, 0.020769980625156576, 0.003461663437526096, 0.0023077756250173974, 0.0019231463541811644, 0.003461663437526096, 0.06577557081715811, 0.005979597347014374, 0.011959194694028749, 0.02989798673507187, 0.879000810011113, 0.011959194694028749, 0.01016494648238152, 0.09148451834143369, 0.01016494648238152, 0.8741853974848107, 0.022735036452907743, 0.06495724700830784, 0.08877490424468737, 0.7827348264501094, 0.02381765723637954, 0.0010826207834717973, 0.007578345484302581, 0.006495724700830784, 0.0010826207834717973, 0.0010826207834717973, 0.0029956905017089917, 0.0029956905017089917, 0.02096983351196294, 0.0029956905017089917, 0.0029956905017089917, 0.9316597460314964, 0.02096983351196294, 0.014978452508544958, 0.0029956905017089917, 0.0029956905017089917, 0.9351476697974258, 0.0008682893869985384, 0.0017365787739970768, 0.0008682893869985384, 0.059043678315900607, 0.0008682893869985384, 0.03362807427100534, 0.9415860795881494, 0.0023143498697541657, 0.0018514798958033326, 0.08701955510275662, 0.02638358851519749, 0.0027772198437049987, 0.7003222705876105, 0.018514798958033325, 0.1564500511953816, 0.0027772198437049987, 0.0013886099218524994, 0.0036121180569550744, 0.0018060590284775372, 0.034315121541073204, 0.012642413199342761, 0.0018060590284775372, 0.8560719794983527, 0.009030295142387686, 0.07404842016757902, 0.005418177085432612, 0.0018060590284775372, 0.0014025965610658599, 0.0014025965610658599, 0.05470126588156853, 0.0014025965610658599, 0.0014025965610658599, 0.8738176575440307, 0.007012982805329299, 0.05890905556476612, 0.018803145962314843, 0.018803145962314843, 0.056409437886944525, 0.9025510061911124, 0.021559708715575575, 0.9701868922009009, 0.025824213335891518, 0.08392869334164745, 0.025824213335891518, 0.1657053689053039, 0.13988115556941239, 0.540156462275731, 0.01506412444593672, 0.00215201777799096, 0.0016970948780169416, 0.0016970948780169416, 0.016970948780169418, 0.8536387236425217, 0.12388792609523674, 0.04017311943790912, 0.9239817470719097, 0.1168841017494825, 0.21810332388305495, 0.06627449068269625, 0.012049907396853864, 0.12049907396853865, 0.027112291642921196, 0.42536173110894143, 0.010242421287325785, 0.0012049907396853865, 0.0012049907396853865, 0.012205584225905577, 0.012205584225905577, 0.024411168451811155, 0.9398299853947294, 0.012205584225905577, 0.9573083405958068, 0.029915885643618963, 0.006503857189158681, 0.006503857189158681, 0.0715424290807455, 0.917043863671374, 0.08974126793942788, 0.8076714114548509, 0.20371015460734124, 0.13740394378565043, 0.12620023760005125, 0.11957666287397374, 0.1132349423915591, 0.07814408905553145, 0.09329375465241085, 0.06856104477099378, 0.03523178045785909, 0.02466224632050136, 0.9751453824943714, 0.020315528801966073, 0.442200265879512, 0.14908314252308066, 0.08317829520449954, 0.07759764281058744, 0.07281422647294848, 0.037735839996929504, 0.042253510982477406, 0.0462396912638432, 0.03348391436347266, 0.015413230421281066, 0.956203214530112, 0.013660045921858743, 0.013660045921858743, 0.13832908866474405, 0.13330170989168616, 0.1881458419614085, 0.0722114405584677, 0.1302548136655905, 0.06870750989845767, 0.14015722640040146, 0.0761724056523921, 0.04692220188187353, 0.005789102829581799, 0.03215352063189093, 0.964605618956728, 0.5678105338082841, 0.0662062484764315, 0.05976952987455622, 0.0850566386676377, 0.05103398320058262, 0.045976561441966324, 0.020689452648884846, 0.028965233708438783, 0.05563163934477925, 0.019310155805625857, 0.058021318822939795, 0.9283411011670367, 0.9540793085793928, 0.03533627068812566, 0.030020111051926333, 0.9056066833997778, 0.02001340736795089, 0.02001340736795089, 0.010006703683975444, 0.010006703683975444, 0.9669389342647898, 0.01758070789572345, 0.047745541279589396, 0.9071652843121986, 0.023512741642855186, 0.011756370821427593, 0.011756370821427593, 0.023512741642855186, 0.011756370821427593, 0.8817278116070695, 0.023512741642855186, 0.011756370821427593, 0.052385889458014014, 0.8905601207862383, 0.0070998693715722, 0.0070998693715722, 0.0212996081147166, 0.9442826264191025, 0.0070998693715722, 0.0141997387431444, 0.05066126297330518, 0.9119027335194931, 0.04634428209683332, 0.04449051081295999, 0.1767261957292577, 0.22739594415512882, 0.012358475225822218, 0.017919789077442218, 0.3515986201746421, 0.009268856419366664, 0.09948572556786886, 0.014212246509695551, 0.055331823645561766, 0.011856819352620378, 0.001976136558770063, 0.023713638705240757, 0.7153614342747628, 0.049403413969251575, 0.08299773546834265, 0.055331823645561766, 0.001976136558770063, 0.001976136558770063, 0.07138025087339384, 0.8565630104807261, 0.5428866675130468, 0.09034484451836094, 0.026163212892195024, 0.03556561752532761, 0.10056484955437463, 0.07317523605785796, 0.04047121994261418, 0.03229521591380324, 0.042106420748376366, 0.01635200805762189, 0.9491505623370834, 0.9633996959929615, 0.029321730071775007, 0.029321730071775007, 0.9089736322250253, 0.029321730071775007, 0.04679216119007161, 0.8890510626113606, 0.015591352040051413, 0.015591352040051413, 0.04677405612015424, 0.015591352040051413, 0.904298418322982, 0.015591352040051413, 0.04466867266240095, 0.009729809886859614, 0.07076225372261537, 0.5351395437772788, 0.022113204288317305, 0.033612070518242304, 0.026093581060214418, 0.25651316974448074, 0.0008845281715326922, 0.0004422640857663461, 0.0015447614445817798, 0.004634284333745339, 0.24252754679933944, 0.05406665056036229, 0.041708559003708054, 0.013902853001236018, 0.6132702934989666, 0.026260944557890256, 0.0031652402006777064, 0.004747860301016559, 0.0031652402006777064, 0.0031652402006777064, 0.033235022107115916, 0.0031652402006777064, 0.006330480401355413, 0.9400763396012788, 0.0015826201003388532, 0.9842700949930765, 0.009378637042920293, 0.004689318521460146, 0.08909705190774277, 0.014067955564380438, 0.014067955564380438, 0.1219222815579638, 0.009378637042920293, 0.6893298226546415, 0.014067955564380438, 0.03282522965022102, 0.052890403425964225, 0.11129022387546639, 0.08925255578131462, 0.07217336300834701, 0.10853551536369742, 0.08594690556719187, 0.3112820618298936, 0.03911686086711937, 0.09972044812603671, 0.02919991022475108, 0.017353131954591615, 0.902362861638764, 0.06941252781836646, 0.1522589789465171, 0.1314346587338121, 0.0683580946112708, 0.06745268938463146, 0.1478828536844269, 0.14561934061782855, 0.13596168486700883, 0.07484683206885281, 0.03878152387438543, 0.03727251516331985, 0.2229595946248389, 0.015115904720328062, 0.02645283326057411, 0.12470621394270652, 0.07935849978172232, 0.056684642701230234, 0.05101617843110721, 0.04534771416098419, 0.0037789761800820156, 0.37411864182811955, 0.06368503963819154, 0.03473729434810448, 0.007719398744023218, 0.023158196232069654, 0.3280744466209867, 0.015438797488046435, 0.4979012189894975, 0.015438797488046435, 0.009649248430029022, 0.003859699372011609, 0.015516783372941744, 0.007758391686470872, 0.015516783372941744, 0.06206713349176698, 0.007758391686470872, 0.8844566522576794, 0.01452196264364248, 0.043565887930927444, 0.9294056091931188, 0.0181045033646802, 0.9595386783280506, 0.10417193583846594, 0.8680994653205495, 0.03253748701794437, 0.9435871235203867, 0.9621746396579107, 0.023467674137997822, 0.17616249831936862, 0.1710315517663773, 0.21926244936449568, 0.14035989348294028, 0.0714911886383457, 0.05187957070246778, 0.09098878553971272, 0.03591662587093923, 0.02394441724729282, 0.01904151276332334, 0.05739291442219583, 0.38327094863367306, 0.09488488019025564, 0.1368190219971851, 0.07107481662191434, 0.0527730513417714, 0.10003780439534443, 0.055082982881983614, 0.022921628360567374, 0.02558693398388916, 0.9919961885855573, 0.004133317452439822, 0.00903468454359214, 0.15358963724106636, 0.8221562934668847, 0.00903468454359214, 0.06464601543756031, 0.05824541984968305, 0.07040655146664984, 0.09216857646543253, 0.07872732573089028, 0.1708959021963228, 0.3168294815999243, 0.04992464558544262, 0.07104661102543758, 0.026882501469084486, 0.08813969850446167, 0.8813969850446167, 0.010452164286991604, 0.037425491479228, 0.030682159681168903, 0.28726593459731764, 0.09777831107185694, 0.44135106618296804, 0.06979348410991168, 0.024613161062915712, 0.00033716658990295495, 0.00033716658990295495, 0.9327794178686588, 0.008254685113881936, 0.04952811068329162, 0.03400560909793398, 0.06626734080623033, 0.00697550955855056, 0.040981118656484544, 0.7681779901353805, 0.040981118656484544, 0.02005458998083286, 0.00348775477927528, 0.00348775477927528, 0.01482295781191994, 0.013288077183977225, 0.023254135071960145, 0.016610096479971533, 0.9201993449904228, 0.013288077183977225, 0.006644038591988612, 0.003322019295994306, 0.023482949888465797, 0.039921014810391856, 0.007925495587357206, 0.030527834855005535, 0.7699472194680723, 0.06810055467655081, 0.009393179955386318, 0.0044030531040873365, 0.003522442483269869, 0.04285638354645008, 0.018029318669677663, 0.019030947484659756, 0.11118079846301225, 0.02003257629964185, 0.04607492548917625, 0.2764495529350575, 0.12219871542781527, 0.0260423491895344, 0.03405537970939114, 0.3265309936841621, 0.022542232504997203, 0.027551617506107694, 0.20955927254645548, 0.06011262001332588, 0.030891207506848022, 0.10102259752239488, 0.06762669751499162, 0.1135460600251711, 0.34648246257680887, 0.020872437504627042, 0.011939997880835463, 0.02426515698363336, 0.17794448454664463, 0.03081289775699474, 0.020413544764009015, 0.20028383542046582, 0.03967160586213073, 0.08627611371958527, 0.38631670562832154, 0.021954189651858753, 0.030211112886870964, 0.03691064838061222, 0.41296948034061687, 0.09139177664103643, 0.028188611605741525, 0.14814821884273124, 0.029579081236518014, 0.08469224114729516, 0.09215021462145996, 0.04575909148555351, 0.29317677169897705, 0.15668851671807527, 0.052138513402704485, 0.04613303018354481, 0.057052090582016955, 0.07970914090884665, 0.07438609896459147, 0.10263916774563815, 0.029344974820893887, 0.10864465096479783, 0.08769019487565281, 0.04104647419711408, 0.31442309996447343, 0.2149164958502575, 0.07258651389403074, 0.10110581739462299, 0.07418572717443779, 0.055528238903022296, 0.024610115481819482, 0.013859848430194364, 0.043672386730075875, 0.9171201213315934, 0.011444132076733799, 0.013022633052835013, 0.8334485153814408, 0.0805035497811619, 0.01736351073711335, 0.028018392325796546, 0.0023677514641518207, 0.0039462524402530345, 0.0011838757320759103, 0.009076380612581978, 0.007434983787910316, 0.014869967575820632, 0.8141307247761796, 0.06939318202049628, 0.011152475681865474, 0.05576237840932737, 0.004956655858606877, 0.006195819823258597, 0.007434983787910316, 0.008674147752562035, 0.0128022884864276, 0.0128022884864276, 0.0128022884864276, 0.0384068654592828, 0.0128022884864276, 0.8833579055635044, 0.0128022884864276, 0.018459779126778212, 0.018459779126778212, 0.036919558253556424, 0.9045291772121324, 0.018459779126778212, 0.013499033202135509, 0.006749516601067754, 0.2609813085746198, 0.026998066404271017, 0.020248549803203262, 0.022498388670225848, 0.08099419921281305, 0.002249838867022585, 0.557960039021601, 0.006749516601067754, 0.00876551807009611, 0.00876551807009611, 0.0964206987710572, 0.8590207708694187, 0.00876551807009611, 0.026296554210288328, 0.14236507168175505, 0.13732794624050115, 0.1719250446659556, 0.13640005471184913, 0.10776797325630062, 0.08748691555862043, 0.06163850868902803, 0.051431701873855644, 0.05196192560451395, 0.05156425780652022, 0.00855568480206135, 0.9496810130288099, 0.00855568480206135, 0.0342227392082454, 0.02067606121425462, 0.02067606121425462, 0.9510988158557125, 0.8729767043228497, 0.009286986216200529, 0.009286986216200529, 0.004643493108100264, 0.009286986216200529, 0.027860958648601587, 0.037147944864802114, 0.027860958648601587, 0.01335841801828008, 0.01335841801828008, 0.01335841801828008, 0.9083724252430454, 0.02671683603656016, 0.01335841801828008, 0.01335841801828008, 0.0708314331648536, 0.005448571781911816, 0.9208086311430969, 0.029351386681205887, 0.06604062003271324, 0.3066171644375972, 0.5084079478708876, 0.03249617811133509, 0.003144791430129202, 0.01834461667575368, 0.028827254776184353, 0.0026206595251076683, 0.003668923335150736, 0.008285993503898406, 0.004142996751949203, 0.041429967519492024, 0.004142996751949203, 0.024857980511695216, 0.716738438087212, 0.01657198700779681, 0.07043094478313644, 0.09943192204678086, 0.012428990255847608, 0.056995180762627363, 0.9119228922020378, 0.01632320559584826, 0.03264641119169652, 0.01632320559584826, 0.06529282238339304, 0.8488066909841094, 0.01632320559584826, 0.01632320559584826, 0.024087105167206337, 0.971513241743989, 0.8280310560339667, 0.16034127385628832, 0.009572613364554528, 0.16042407365023964, 0.0012732069337320607, 0.031830173343301515, 0.006366034668660304, 0.011458862403588546, 0.04328903574689006, 0.22790404113803886, 0.5143756012277525, 0.0025464138674641213, 0.02848057328528354, 0.9398589184143568, 0.041757466997217635, 0.0069595778328696055, 0.11135324532591369, 0.8351493399443527, 0.01695412092435802, 0.1073760991876008, 0.011302747282905347, 0.005651373641452673, 0.05086236277307406, 0.7177244524644895, 0.07911923098033742, 0.005651373641452673, 0.0012730907528958073, 0.0006365453764479036, 0.06970171872104544, 0.0009548180646718554, 0.0009548180646718554, 0.8030019923890304, 0.0012730907528958073, 0.11744262195463821, 0.004137544946911373, 0.0003182726882239518, 0.9623851688255918, 0.017865924529228135, 0.02041819946197501, 0.02041819946197501, 0.03317957412570939, 0.7350551806311003, 0.15568877089755945, 0.002552274932746876, 0.002552274932746876, 0.002552274932746876, 0.010209099730987504, 0.0060698345259765744, 0.0060698345259765744, 0.0060698345259765744, 0.0060698345259765744, 0.018209503577929723, 0.0060698345259765744, 0.7101706395392592, 0.03641900715585945, 0.21851404293515667, 0.0056408950593855225, 0.016922685178156566, 0.0056408950593855225, 0.13538148142525253, 0.8348524687890573, 0.0056408950593855225, 0.03326671715712667, 0.016633358578563334, 0.9148347218209834, 0.016633358578563334, 0.03882707213682656, 0.03882707213682656, 0.893022659147011, 0.9357050267299875, 0.014177348889848295, 0.04253204666954489, 0.0070886744449241475, 0.14662234734185048, 0.2891718517019829, 0.08870850689449356, 0.08245023597136579, 0.17533092348127785, 0.049271466315418594, 0.06596018877709263, 0.047185376007709334, 0.02811255033722472, 0.027218511633920753, 0.004569332885819719, 0.004569332885819719, 0.004569332885819719, 0.9824065704512397, 0.03914880615716284, 0.03914880615716284, 0.9004225416147453, 0.01517512403107826, 0.01517512403107826, 0.9560328139579304, 0.01517512403107826, 0.0024634799181237686, 0.20693231312239654, 0.030793498976547106, 0.3978520067769886, 0.006158699795309421, 0.013549139549680726, 0.009853919672495074, 0.03325697889467087, 0.0024634799181237686, 0.29561759017485223, 0.2275824281824272, 0.20452630260478338, 0.09067551196168958, 0.10145886785200876, 0.13928997829594628, 0.0781644360668441, 0.06350860430431082, 0.042061045627432875, 0.02549876420473268, 0.02734563731301939, 0.1127665222462026, 0.28684889238939826, 0.15799454866527174, 0.1816709651799522, 0.08757238672417078, 0.040826641297750335, 0.041585500801425986, 0.03961246609186928, 0.02822957353673443, 0.022765785110269703, 0.033069165421373635, 0.13227666168549454, 0.016534582710686817, 0.06613833084274727, 0.7440562219809067, 0.015297087169734682, 0.010198058113156454, 0.03569320339604759, 0.04589126150920404, 0.112178639244721, 0.010198058113156454, 0.025495145282891138, 0.7444582422604212, 0.005099029056578227, 0.010500753034169105, 0.0052503765170845524, 0.0013125941292711381, 0.11157050098804674, 0.8308720838286304, 0.019688911939067074, 0.006562970646355691, 0.0013125941292711381, 0.0013125941292711381, 0.011813347163440244, 0.9280209751683721, 0.013449579350266262, 0.03362394837566565, 0.006724789675133131, 0.020174369025399392, 0.1873245620849606, 0.5629917545270827, 0.024433638532820948, 0.017816194763515276, 0.14405666051642352, 0.008144546177606984, 0.021888467852318766, 0.01272585340251091, 0.011707785130310037, 0.008653580313707419, 0.13552301939357927, 0.5242601013383199, 0.02853116197759564, 0.026493221836338808, 0.20328452909036893, 0.013756095953483611, 0.029040647012909846, 0.01171815581222678, 0.019360431341939897, 0.007642275529713118, 0.021425808463597457, 0.032039519137694344, 0.7733129758435453, 0.03561048721496059, 0.05951613462110405, 0.04572823010054828, 0.009125807308569288, 0.010216936443289528, 0.005951613462110405, 0.007042742596830646, 0.025364828334007546, 0.01383536090945866, 0.14527128954931595, 0.03781665315252034, 0.032743687485718834, 0.35280170319119586, 0.2624106785827326, 0.062259124092563976, 0.04288961881932185, 0.02398129224306168, 0.013905338026747904, 0.021985466880128444, 0.6601277363238566, 0.1834001339744048, 0.02799858602683024, 0.06689595050705749, 0.0033823795200197604, 0.0022549196800131736, 0.0031944695466853295, 0.016536077653429942, 0.04923356708792596, 0.04923356708792596, 0.8369706404947412, 0.006967232768172624, 0.006967232768172624, 0.06967232768172624, 0.9127074926306137, 0.006967232768172624, 0.03046117389439607, 0.002769197626763279, 0.044307162028212464, 0.8722972524304329, 0.04984555728173902, 0.9564520232999789, 0.001421176854829092, 0.001421176854829092, 0.004263530564487276, 0.03695059822555639, 0.10236745562296778, 0.0782972701116213, 0.21082162482351743, 0.20584158644185954, 0.08023395170448826, 0.08147896129990273, 0.05007705261555991, 0.0787122733100928, 0.05851545098448023, 0.05353541260282234, 0.10148924332658255, 0.05845780415611155, 0.14858025223011687, 0.05967567507603054, 0.045467181010308985, 0.41367015579915045, 0.032070600891200084, 0.10473689911303319, 0.005683397626288623, 0.030446772997974766, 0.041204493019498634, 0.9064988464289699, 0.01696921545335506, 0.9672452808412384, 0.12513627689797202, 0.1397918768950318, 0.05439482306601036, 0.05157643845119117, 0.11245354613128566, 0.11273538459276759, 0.24181739995148646, 0.09469772305792477, 0.043121284606733604, 0.02423810768744503, 0.06204061814158956, 0.06204061814158956, 0.06204061814158956, 0.8065280358406642, 0.1506916154903074, 0.12565176747089696, 0.11961806915296674, 0.09955602224584874, 0.12180528479321645, 0.0883182591287037, 0.12399250043346616, 0.06953837311414586, 0.057470976478285404, 0.04321636420217525, 0.021653368656476466, 0.9527482208849645, 0.16206136968106888, 0.12378857388922973, 0.028704596843879358, 0.06637938020147101, 0.41203056719651826, 0.022126460067157003, 0.09747602678234031, 0.06578136776722353, 0.014950310856187164, 0.006578136776722352, 0.16458370731437982, 0.0403584449754161, 0.1273751897516791, 0.06910153261644415, 0.15592140692941245, 0.04331150192483679, 0.1317063399441628, 0.22423545769267778, 0.0372085175627007, 0.005906113898841381, 0.0029930212351048898, 0.7961436485379007, 0.014965106175524448, 0.17958127410629338, 0.0029930212351048898, 0.02388891027662092, 0.02388891027662092, 0.015925940184413945, 0.11148158129089762, 0.007962970092206973, 0.015925940184413945, 0.7564821587596624, 0.02388891027662092, 0.007962970092206973, 0.007962970092206973, 0.046462408779832716, 0.046462408779832716, 0.8827857668168216, 0.04002233934966356, 0.08004467869932712, 0.008004467869932712, 0.04002233934966356, 0.04002233934966356, 0.008004467869932712, 0.7684289155135403, 0.016008935739865424, 0.10946778308905963, 0.802763742653104, 0.0040543623366318384, 0.0040543623366318384, 0.04865234803958206, 0.0040543623366318384, 0.012163087009895514, 0.008108724673263677, 0.0040543623366318384, 0.056476122818737935, 0.903617965099807, 0.008908433414466925, 0.007860382424529638, 0.023581147273588916, 0.006812331434592354, 0.012576611879247421, 0.013624662869184708, 0.007860382424529638, 0.0015720764849059276, 0.9139004632253127, 0.0031441529698118553, 0.006004205481781683, 0.008005607309042245, 0.008005607309042245, 0.004002803654521122, 0.004002803654521122, 0.006004205481781683, 0.008005607309042245, 0.9546686716032877, 0.002001401827260561, 0.02139234875086944, 0.02139234875086944, 0.02139234875086944, 0.9412633450382555, 0.00475382477150062, 0.1635315721396213, 0.02281835890320297, 0.4344995841151566, 0.0028522948629003714, 0.006655354680100867, 0.014261474314501858, 0.06845507670960892, 0.005704589725800743, 0.2747710717927358, 0.04836583372604457, 0.8705850070688023, 0.04836583372604457, 0.9538210094215999, 0.013823492890168114, 0.013823492890168114, 0.013823492890168114, 0.11579535071621992, 0.1309265036228766, 0.16118880943619, 0.14101393889398106, 0.052959035173298405, 0.09435955076512295, 0.18787848192432052, 0.09667125468141773, 0.0161819274140634, 0.0029421686207388004, 0.04813145267337499, 0.8663661481207499, 0.16995100483193368, 0.23423740444390753, 0.08029075432708868, 0.03864356796758819, 0.2666047548761566, 0.028511959660540705, 0.1082199223593479, 0.05774120132512017, 0.012507604945425875, 0.003272599143426842, 0.02326141821490008, 0.007753806071633359, 0.031015224286533437, 0.03489212732235012, 0.031015224286533437, 0.042645933393983475, 0.050399739465616836, 0.02326141821490008, 0.20159895786246734, 0.5543971341217853, 0.9733433478706786, 0.043434158270147065, 0.9121173236730883, 0.01671833000647116, 0.050154990019413474, 0.01671833000647116, 0.01671833000647116, 0.03343666001294232, 0.03343666001294232, 0.8275573353203224, 0.005002282396467454, 0.860392572192402, 0.0012505705991168634, 0.06753081235231062, 0.03626654737438904, 0.0012505705991168634, 0.018758558986752952, 0.00750342359470118, 0.0012505705991168634, 0.022572759615820146, 0.0070539873799437955, 0.0014107974759887591, 0.07900465865537051, 0.8436568906412779, 0.023983557091808903, 0.008464784855932555, 0.0014107974759887591, 0.0014107974759887591, 0.009875582331921314, 0.013187074948639315, 0.9362823213533913, 0.039561224845917946, 0.010154140659704903, 0.015956506750964848, 0.7673629155691277, 0.0942884489829741, 0.017407098273779835, 0.03626478807037466, 0.005802366091259945, 0.004351774568444959, 0.007252957614074931, 0.03916597111600462, 0.8859981991782073, 0.007695966985261302, 0.005771975238945976, 0.0019239917463153254, 0.006733971112103639, 0.009619958731576627, 0.01731592571683793, 0.03847983492630651, 0.002885987619472988, 0.023087900955783905, 0.923949341128676, 0.007053048405562413, 0.014106096811124826, 0.007053048405562413, 0.04231829043337448, 0.007053048405562413, 0.06838843799013666, 0.12532549113440386, 0.08585339923551301, 0.059240124956844296, 0.1419587875585718, 0.1136821836374863, 0.15232261071516875, 0.09135518189889164, 0.10191092770653669, 0.06000781556103667, 0.4192758020128617, 0.07879645510899971, 0.014782811715802013, 0.011256636444142817, 0.3060991380051848, 0.0489595874257296, 0.039805093931999, 0.04868834317406351, 0.019122719742459483, 0.013155346205805461, 0.2465272431069765, 0.0825805543412532, 0.007286519500698812, 0.003643259750349406, 0.5987090189740858, 0.008500939417481947, 0.0206451385853133, 0.017001878834963895, 0.01092977925104822, 0.003643259750349406, 0.749829536466331, 0.0026126464685238015, 0.01959484851392851, 0.005225292937047603, 0.1593714345799519, 0.05486557583899983, 0.0039189697027857025, 0.0026126464685238015, 0.0026126464685238015, 0.005013669844768065, 0.9576109403507004, 0.015041009534304196, 0.015041009534304196, 0.005013669844768065, 0.012437503353497383, 0.0342031342221178, 0.05596876509073822, 0.8830627380983141, 0.009328127515123037, 0.003109375838374346, 0.949585062731168, 0.028420679694418763, 0.020061656254883833, 0.03551224832464056, 0.9233184564406546, 0.017380376016241362, 0.017380376016241362, 0.9559206808932749, 0.013194314259073565, 0.9367963123942231, 0.039582942777220693, 0.004845079699581135, 0.004845079699581135, 0.004845079699581135, 0.029070478197486805, 0.03391555789706794, 0.004845079699581135, 0.9157200632208344, 0.18124590428298715, 0.1127598564814004, 0.027671130424883533, 0.03458891303110442, 0.5222925867696767, 0.026287573903639356, 0.030438243467371884, 0.043582030419191564, 0.008301339127465059, 0.01245200869119759, 0.11955144005475411, 0.0059775720027377055, 0.12328742255646519, 0.6493137587973833, 0.015691126507186477, 0.0022415895010266394, 0.061270113028061485, 0.009713554504448772, 0.007471965003422132, 0.005230375502395492, 0.021513401049711244, 0.015633962253516865, 0.033405902251104416, 0.041824189618382725, 0.06347121427709838, 0.15941296554227027, 0.28221306221733006, 0.0537166908197759, 0.3161534589044522, 0.01256061924641526, 0.15866931853616692, 0.16517767813666032, 0.12556645505089872, 0.1247809633749771, 0.13757325638284346, 0.038713518313279766, 0.10693908102190033, 0.11804817758136323, 0.015822046614992598, 0.008640408435137803, 0.18420308350169073, 0.0264496735284479, 0.005352910118852551, 0.0034636477239634155, 0.6892658970687197, 0.004408278921407984, 0.03211746071311531, 0.03872987909522728, 0.013539713830038807, 0.002519016526518848, 0.12755466368469853, 0.1768049366074016, 0.010629555307058213, 0.021259110614116426, 0.4939200032679716, 0.012046829347999307, 0.07228097608799584, 0.07298961310846638, 0.008149325735411295, 0.004251822122823285, 0.0055849447954291215, 0.027924723977145606, 0.011169889590858243, 0.8321567745189391, 0.06143439274972033, 0.06143439274972033, 0.006725176589434338, 0.07397694248377772, 0.023538118063020183, 0.03698847124188886, 0.5794860494562588, 0.01905466700339729, 0.11096541372566658, 0.05380141271547471, 0.005604313824528615, 0.08966902119245784, 0.014880577582257899, 0.014880577582257899, 0.9374763876822476, 0.014880577582257899, 0.014880577582257899, 0.006030125202042388, 0.006030125202042388, 0.05125606421736029, 0.8653229664930826, 0.06934643982348745, 0.003015062601021194, 0.003015062601021194, 0.9467381301139771, 0.030539939681096036, 0.022859288005379255, 0.9143715202151701, 0.04571857601075851, 0.016732551498926218, 0.016732551498926218, 0.033465102997852436, 0.920290332440942, 0.016732551498926218, 0.010488348613738197, 0.9229746780089613, 0.04195339445495279, 0.010488348613738197, 0.010488348613738197, 0.8987678309673697, 0.006285089727044543, 0.025140358908178173, 0.06285089727044543, 0.06011133292448914, 0.9016699938673371, 0.1768795113892827, 0.14476907701399755, 0.16082429420164013, 0.18572348695874685, 0.11624158658736707, 0.04431058528905877, 0.05456052620546336, 0.05850629992107043, 0.033652460884832765, 0.024536362990154346, 0.22204115602632674, 0.3549254563604787, 0.029980792883271712, 0.08666936632631386, 0.17857555237022976, 0.014924936195165831, 0.05498660703482148, 0.03207552077031253, 0.018852550983367366, 0.007069706618762762, 0.9816261818986238, 0.011686025974983617, 0.035121975094101726, 0.002926831257841811, 0.09073176899309614, 0.7931712708751307, 0.03219514383625992, 0.03219514383625992, 0.002926831257841811, 0.014634156289209053, 0.03464370842012405, 0.8031041497392394, 0.009448284114579287, 0.01574714019096548, 0.08818398506940668, 0.0031494280381930955, 0.009448284114579287, 0.006298856076386191, 0.012597712152772382, 0.018896568229158573, 0.06461170054747783, 0.04401908253673198, 0.35479758370808007, 0.18608925450077682, 0.07103508598202242, 0.07122400908303844, 0.10239632075068125, 0.05497662239566097, 0.03608431229405926, 0.014736001879249332, 0.9722285841220852, 0.023712892295660617, 0.017727997678563718, 0.035455995357127436, 0.035455995357127436, 0.017727997678563718, 0.8863998839281859, 0.3660879534893221, 0.11456709335816914, 0.04609020997167724, 0.08049325955767918, 0.09234502783611047, 0.046913249435457195, 0.12971101949172023, 0.060411096641448385, 0.02222206552205867, 0.041151973188997534, 0.02144224295667059, 0.02144224295667059, 0.9220164471368353, 0.02144224295667059, 0.02144224295667059, 0.6073540797352281, 0.006378280884033901, 0.0021260936280113004, 0.004960885132026367, 0.007086978760037668, 0.020552238404109236, 0.0007086978760037668, 0.006378280884033901, 0.004960885132026367, 0.3394662826058043, 0.011477135874500517, 0.1377256304940062, 0.8378309188385378, 0.9707837403997772, 0.013910627923574271, 0.1010838962446397, 0.21978792119247348, 0.6167045046117927, 0.02596650545733864, 0.001391062792357427, 0.007882689156692086, 0.010664814741406941, 0.0009273751949049514, 0.001391062792357427, 0.006096081439801899, 0.008805450968602743, 0.9218629821744871, 0.03318977672781034, 0.016933559555005275, 0.008805450968602743, 0.001354684764400422, 0.0020320271466006327, 0.000677342382200211, 0.000677342382200211, 0.04313659590626385, 0.007189432651043975, 0.29189096563238537, 0.15097808567192347, 0.00575154612083518, 0.004313659590626385, 0.00862731918125277, 0.4514963704855616, 0.007189432651043975, 0.0287577306041759, 0.014865576243104, 0.96626245580176, 0.0020221891558396066, 0.01213313493503764, 0.0020221891558396066, 0.7077662045438623, 0.26490677941498847, 0.0020221891558396066, 0.010110945779198032, 0.030485929610263994, 0.030485929610263994, 0.9450638179181838, 0.9826401928014435, 0.0009352237689620622, 0.0009352237689620622, 0.0841701392065856, 0.0009352237689620622, 0.7603369241661565, 0.14870057926496788, 0.004676118844810311, 0.688556031886952, 0.10812751757018718, 0.011245261827299466, 0.012110281967860964, 0.05449626885537434, 0.06055140983930482, 0.007785181265053477, 0.029410684779090913, 0.019030443092352946, 0.009515221546176473, 0.05095927782342351, 0.917267000821623, 0.7604175531222865, 0.045048433241841615, 0.028830997274778634, 0.007207749318694659, 0.09009686648368323, 0.010811623978041989, 0.01982131062641031, 0.030632934604452298, 0.0036038746593473293, 0.0036038746593473293, 0.02465119209306724, 0.008803997176095443, 0.17255834465147069, 0.029933590398724508, 0.02465119209306724, 0.02465119209306724, 0.09508316950183078, 0.5863462119279566, 0.010564796611314532, 0.02465119209306724, 0.012445841628126196, 0.024891683256252392, 0.9085464388532123, 0.012445841628126196, 0.024891683256252392, 0.012445841628126196, 0.037281436325202734, 0.037281436325202734, 0.9320359081300683, 0.0451426412240342, 0.8577101832566497, 0.0451426412240342, 0.5699948098642567, 0.08993343968639843, 0.027896020643466177, 0.051628456116265764, 0.05412660721866572, 0.051628456116265764, 0.030394171745866134, 0.09659517595946497, 0.01956885030213299, 0.008327170341333187, 0.038590273271356015, 0.012348887446833925, 0.09982017352857424, 0.13480868796127035, 0.05917175234941256, 0.44147272622431283, 0.09724748864381717, 0.08284045328917759, 0.016465183262445234, 0.018008794193299475, 0.030242647246813425, 0.014216629047647337, 0.2915701375590217, 0.1367381230219171, 0.03205203639833218, 0.2920871058880271, 0.04652714961048219, 0.10856334909112511, 0.027916289766289314, 0.02042024899571163, 0.156456481301684, 0.03431948622101455, 0.03936646948881081, 0.016150346456948024, 0.0938738887810104, 0.08277052559185863, 0.4108244379986154, 0.0646013858277921, 0.08478931889897713, 0.016150346456948024, 0.012789537414038255, 0.012789537414038255, 0.8824780815686396, 0.012789537414038255, 0.05115814965615302, 0.03836861224211476, 0.20715460348680453, 0.4406762482896273, 0.03708193459981846, 0.04128385353464208, 0.18635510475942763, 0.012710804777841455, 0.022795410221418146, 0.014496620325141494, 0.026682185236129998, 0.010714893283800235, 0.11929961828136673, 0.04934382117396844, 0.028731845240538584, 0.044971583854756046, 0.5377851902631243, 0.028731845240538584, 0.07307882376397858, 0.08994316770951209, 0.02123658126474591, 0.006246053313160562, 0.03056352020667415, 0.03056352020667415, 0.03056352020667415, 0.8863420859935504, 0.004289178114192406, 0.982221788150061, 0.004289178114192406, 0.004289178114192406, 0.004289178114192406, 0.6481441801487884, 0.005138175833569104, 0.0014680502381626012, 0.004404150714487803, 0.004404150714487803, 0.01174440190530081, 0.0007340251190813006, 0.005872200952650405, 0.003670125595406503, 0.31489677608587796, 0.02504118405784771, 0.02504118405784771, 0.8764414420246699, 0.02504118405784771, 0.12438864618990077, 0.15850914288782492, 0.06759313586360927, 0.08810862438451304, 0.19370940213948087, 0.0766631413149562, 0.19867630988664706, 0.060466703008979536, 0.01619643830597666, 0.015548580773737596, 0.05924014906265766, 0.05924014906265766, 0.8293620868772072, 0.045701096227387196, 0.914021924547744, 0.0007975539021170852, 0.0003987769510585426, 0.07497006679900602, 0.0003987769510585426, 0.0003987769510585426, 0.7445165676262991, 0.0011963308531756278, 0.16628998859141228, 0.01076697767858065, 0.0003987769510585426, 0.04124244356753891, 0.907333758485856, 0.04187796566112504, 0.04187796566112504, 0.8794372788836259, 0.05807460238561807, 0.9291936381698891, 0.008197140092113671, 0.09016854101325039, 0.008197140092113671, 0.8688968497640492, 0.008197140092113671, 0.016394280184227342, 0.029591561092878842, 0.059183122185757685, 0.8581552716934865, 0.029591561092878842, 0.1467989658916224, 0.581014854476316, 0.05485645567529047, 0.006181009090173574, 0.15993361020824123, 0.02626928863323769, 0.010044139771532058, 0.010044139771532058, 0.0038631306813584837, 0.0007726261362716967, 0.03970283267402019, 0.10299956181415892, 0.34284372313180544, 0.42778175040983224, 0.02619736090375922, 0.004067913183813544, 0.010902007332620296, 0.03661121865432189, 0.0035797636017559182, 0.005369645402633878, 0.03193547074783851, 0.08602617432698999, 0.2676591642053215, 0.5371146986402089, 0.01976007252522508, 0.004391127227827795, 0.012574591606961413, 0.033931437669578415, 0.0029939503826098605, 0.003792337151305823, 0.03722304157747612, 0.893352997859427, 0.0033432086854154413, 0.7923404584434596, 0.07355059107913971, 0.0033432086854154413, 0.1203555126749559, 0.0033432086854154413, 0.024307036659010316, 0.9236673930423921, 0.04861407331802063, 0.09021926663958844, 0.06444233331399174, 0.012888466662798349, 0.03866539998839505, 0.7733079997679009, 0.16343828092727586, 0.1064114738898713, 0.14228792216843067, 0.15816084016211296, 0.1095068958771303, 0.0979066751183203, 0.06971296272289232, 0.06985504766656978, 0.04684743571536919, 0.035866299354010985, 0.04145285929130504, 0.9119629044087109, 0.9754923453018515, 0.017113900794769325, 0.01625497610130977, 0.04876492830392932, 0.926533637774657, 0.03762994574816527, 0.0239697599628724, 0.5090352250179891, 0.32552480465707356, 0.016495318684127243, 0.03402159478601244, 0.004639308379910787, 0.04381569025471299, 0.00283513289883437, 0.0018041754810764173, 0.003969595190142613, 0.9407940600637993, 0.047635142281711354, 0.003969595190142613, 0.11919665775213646, 0.5593699809187291, 0.010577177821008697, 0.0134248795420495, 0.22008666158329634, 0.004068145315772575, 0.02359524283148094, 0.017493024857822073, 0.00976354875785418, 0.022374799236749166, 0.8951991191081898, 0.0055949944944261865, 0.027974972472130932, 0.011189988988852373, 0.055949944944261865, 0.265249940098215, 0.591230506212183, 0.011610266738305708, 0.004465487207040657, 0.10181310832052697, 0.005358584648448788, 0.01339646162112197, 0.002679292324224394, 0.004465487207040657, 0.027326267745216497, 0.022717017764095643, 0.4931897479799315, 0.17580996356560977, 0.02238778562258701, 0.019095464207500686, 0.13235132088647028, 0.09020960677336531, 0.00131692856603453, 0.01580314279241436, 0.9542420070114371, 0.024467743769524028, 0.031776064629419565, 0.9532819388825869, 0.29196109262767334, 0.07062400494983619, 0.0269390534344736, 0.026210970909217556, 0.05023769424266698, 0.09319456323277353, 0.32545288878945133, 0.03858837383857029, 0.0371322087880582, 0.03931645636382634, 0.0019071978420575652, 0.0019071978420575652, 0.15066862952254764, 0.0019071978420575652, 0.2078845647842746, 0.0019071978420575652, 0.6236536943528238, 0.0038143956841151304, 0.007628791368230261, 0.007887510365653034, 0.01577502073130607, 0.9386137335127112, 0.01577502073130607, 0.01577502073130607, 0.06367297358714931, 0.10050942144766357, 0.275201938725227, 0.17857003810498603, 0.05765261230246692, 0.09765230083798379, 0.03765276803470848, 0.0485710503645562, 0.1140807443436425, 0.026428365639537932, 0.00810711880335965, 0.02432135641007895, 0.9079973059762807, 0.00810711880335965, 0.0324284752134386, 0.10808350777885382, 0.03546490098993641, 0.01519924328140132, 0.0185768528994905, 0.26851996463808997, 0.028709681753758046, 0.48468698019579765, 0.025332072135668866, 0.003377609618089182, 0.01519924328140132, 0.05734986035305682, 0.0033735211972386364, 0.22265239901775, 0.0033735211972386364, 0.04722929676134091, 0.013494084788954546, 0.01012056359171591, 0.603860294305716, 0.04048225436686364, 0.04696164591289842, 0.04696164591289842, 0.8922712723450701, 0.009358322000363227, 0.0037433288001452914, 0.0037433288001452914, 0.0018716644000726457, 0.9807521456380663, 0.20199018782822348, 0.087861202777299, 0.051629778951608696, 0.0528374930791317, 0.3532563823004805, 0.06793391967316934, 0.0929939878192718, 0.05072399335596643, 0.026267782273625476, 0.014794498062156877, 0.06407289775104497, 0.021357632583681653, 0.021357632583681653, 0.8543053033472662, 0.01779058447908224, 0.01779058447908224, 0.01779058447908224, 0.9429009773913587, 0.01779058447908224, 0.023304167290895, 0.9554708589266949, 0.15053269797201554, 0.10574893544135534, 0.14153036402819325, 0.08865589630751558, 0.08216054143665648, 0.1305908189825358, 0.0946954368014723, 0.11315591906601925, 0.05321632850335447, 0.039655850790508256, 0.03533227732350274, 0.9186392104110713, 0.03533227732350274, 0.022644468342383085, 0.011322234171191542, 0.022644468342383085, 0.011322234171191542, 0.9171009678665148, 0.011322234171191542, 0.02588361055017573, 0.8800427587059748, 0.07765083165052719, 0.05798198190520488, 0.8697297285780732, 0.05981424992755202, 0.8972137489132803, 0.17340908177318443, 0.2694510347552558, 0.029103622115779205, 0.051658929255508086, 0.1486710029747721, 0.07081881381506273, 0.18189763822362004, 0.04753591612243937, 0.011398918662013521, 0.01600699216367856, 0.0922454535690008, 0.0115306816961251, 0.0115306816961251, 0.0922454535690008, 0.0115306816961251, 0.0230613633922502, 0.7494943102481315, 0.0026223315626151835, 0.0026223315626151835, 0.957151020354542, 0.0157339893756911, 0.0026223315626151835, 0.005244663125230367, 0.013111657813075918, 0.005809426934292168, 0.005809426934292168, 0.8423669054723645, 0.06390369627721386, 0.08133197708009036, 0.01946555541923507, 0.029198333128852606, 0.19396035578452087, 0.05074948377157715, 0.02502714268187366, 0.1133173404762613, 0.09037579301787711, 0.06882464237515257, 0.3364760293896348, 0.07160543600647186, 0.020166336760191344, 0.04033267352038269, 0.9276514909688017, 0.020166336760191344, 0.10948600881771564, 0.11636032177564266, 0.42687806807029716, 0.08265942166482973, 0.048958521554016796, 0.08249175549512419, 0.03152123990464095, 0.042922539444617464, 0.01710194930996477, 0.04174887625667871, 0.025456017028824322, 0.007450541569411997, 0.17074157763235825, 0.16577454991941692, 0.0906482557611793, 0.007450541569411997, 0.17260421302471127, 0.2738074026758909, 0.0049670277129413316, 0.0813350787994143, 0.01300091777614857, 0.016251147220185714, 0.16251147220185713, 0.056337310363310474, 0.046586622031199044, 0.02708524536697619, 0.23076629052663714, 0.4246966473541866, 0.00866727851743238, 0.014084327590827618, 0.00654857046818482, 0.015716569123643567, 0.055007991932752485, 0.12049369661460069, 0.6745027582230365, 0.09167998655458748, 0.03405256643456107, 0.9640965161251109, 0.030128016128909717, 0.6308609998434357, 0.13004196073805485, 0.030148136226469464, 0.04634713479591574, 0.03554780241628489, 0.033747913686346415, 0.013499165474538567, 0.03554780241628489, 0.0166489707519309, 0.026998330949077134, 0.05622541245313792, 0.05622541245313792, 0.8433811867970687, 0.959704619480169, 0.03309326274069548, 0.099636248028325, 0.11473618263296877, 0.1675568032963172, 0.08063015273444908, 0.11666011252468013, 0.137531836804458, 0.03976121776203491, 0.17274558391335693, 0.04273456395831611, 0.02792613388271953, 0.1309563365987611, 0.12590876902107867, 0.16278405438025872, 0.20386564605417415, 0.04837252261945672, 0.10221324344806942, 0.06505753766790702, 0.07332994008688656, 0.055943873985980386, 0.03140708715002408, 0.0682097059052114, 0.073150128529187, 0.30001114805271134, 0.19936995814817632, 0.1761021612739687, 0.07107833839655206, 0.023825586525301645, 0.0405592760581222, 0.026614534780771738, 0.021196006741572702, 0.020863644698909237, 0.03477274116484873, 0.008500003395851911, 0.006181820651528663, 0.022409099861791404, 0.10045458558734077, 0.022409099861791404, 0.007727275814410828, 0.0023181827443232487, 0.774273036603965, 0.12915947183613471, 0.07597615990360866, 0.015195231980721731, 0.7521639830457257, 0.007597615990360866, 0.03914058227313145, 0.9393739745551547, 0.03276137250237549, 0.02586424144924381, 0.108629814086824, 0.03620993802894133, 0.018967110396112125, 0.06897131053131682, 0.08621413816414603, 0.03103708973909257, 0.5862561395161929, 0.006897131053131682, 0.03603923295531205, 0.03603923295531205, 0.9009808238828012, 0.15686624057483756, 0.10268591114287386, 0.12160173687971905, 0.08971505920903716, 0.25779568218500437, 0.06958321610339478, 0.06485425966918348, 0.0817433897913667, 0.03472405153120866, 0.02026695614661984, 0.9523289728764943, 0.015116332902801496, 0.015116332902801496, 0.015116332902801496, 0.02786964473239003, 0.961502743267456, 0.013934822366195015, 0.29437972460887446, 0.018969576526108853, 0.007728345992118422, 0.008430922900492825, 0.5515228730739056, 0.04145203759408972, 0.04004688377734091, 0.02107730725123206, 0.004918038358620814, 0.011241230533990433, 0.0016857669931085203, 0.026972271889736325, 0.8462550305404772, 0.12306099049692198, 0.03791171267980394, 0.9098811043152947, 0.03791171267980394, 0.031230477919679027, 0.9369143375903708, 0.9669352411669035, 0.009200194074626866, 0.025523119045739045, 0.4220218056167549, 0.07953716167741935, 0.013948681338950409, 0.07122730896485314, 0.027897362677900817, 0.2958901126581608, 0.026116679953779486, 0.02849092358594126, 0.008872296321160813, 0.011958312432868923, 0.4135261589688866, 0.03818944938238785, 0.01157256041890541, 0.02430237687970136, 0.019287600698175682, 0.4436148160580407, 0.008100792293233787, 0.020444856740066224, 0.011551418050100624, 0.981870534258553, 0.02430109075550096, 0.02302208597889565, 0.7878669423888733, 0.016627062095869078, 0.0038370143298159416, 0.13813251587337388, 0.0025580095532106275, 0.0025580095532106275, 0.0012790047766053137, 0.0012790047766053137, 0.007851158277011267, 0.006729564237438228, 0.00560797019786519, 0.00560797019786519, 0.003364782118719114, 0.00560797019786519, 0.003364782118719114, 0.001121594039573038, 0.9578413097953745, 0.002243188079146076, 0.03673927330454524, 0.03161804126815408, 0.42060901377143, 0.20284532109358008, 0.09062354081787825, 0.09463146154201046, 0.039633882716418496, 0.06768932778534395, 0.005121232036391155, 0.010687788597685887, 0.015090522071512659, 0.04527156621453798, 0.15090522071512658, 0.7847071477186582, 0.054448906752286544, 0.9256314147888713, 0.04487415943887877, 0.04487415943887877, 0.8974831887775754, 0.7174752619159865, 0.09089531470983914, 0.007420025690599114, 0.01937451152545324, 0.06039076464848723, 0.032771780133479415, 0.011130038535898671, 0.044314042318855815, 0.012366709484331856, 0.003916124670038421, 0.6534284941012928, 0.0858585158224382, 0.009941512358387581, 0.015364155462962626, 0.09308870662853826, 0.0497075617919379, 0.019883024716775163, 0.06055284800108799, 0.009037738507625074, 0.004518869253812537, 0.04886459373893, 0.024432296869465, 0.061080742173662494, 0.07329689060839499, 0.7940496482576125, 0.034160594024607985, 0.9564966326890235, 0.938882861752278, 0.0004941488746064621, 0.0029648932476387725, 0.0004941488746064621, 0.012353721865161553, 0.015318615112800325, 0.0064239353698840075, 0.011365424115948628, 0.012353721865161553, 0.03808316532687375, 0.030466532261499004, 0.1980324596997435, 0.026658215728811628, 0.015233266130749502, 0.11805781251330863, 0.0038083165326873755, 0.007616633065374751, 0.007616633065374751, 0.5522058972396694, 0.018974451862235012, 0.011983864334043165, 0.16977141139894483, 0.15279427025905035, 0.03994621444681055, 0.06890721992074819, 0.08089108425479136, 0.07589780744894005, 0.3575186192989544, 0.024966384029256595, 0.053323296159847815, 0.024930372230578198, 0.7416785738597014, 0.047090703102203264, 0.04847572378167983, 0.03947308936508215, 0.009002634416597682, 0.018005268833195365, 0.010387655096074248, 0.0069251033973828325, 0.03931769217090248, 0.9043069199307571, 0.03931769217090248, 0.16245834994893207, 0.07521821602635555, 0.11615772021348643, 0.08935209247191264, 0.11502051176384391, 0.11745738701307788, 0.10462317736711226, 0.08447834197344467, 0.09438830132032953, 0.04061458748723302, 0.019895608156865273, 0.019895608156865273, 0.05968682447059582, 0.8953023670589373, 0.1338418956465116, 0.13864579220012518, 0.1721396265044865, 0.16826982094740892, 0.07779643585435321, 0.08707062503424608, 0.07933101392009087, 0.056312342934025816, 0.0618501681277748, 0.024820132193670148, 0.07679381097553177, 0.02559793699184392, 0.02559793699184392, 0.8703298577226933, 0.035614806691513116, 0.005935801115252186, 0.05342221003726968, 0.8903701672878279, 0.017807403345756558, 0.019343837702416183, 0.021554562011263746, 0.3205550247828967, 0.09506114528044524, 0.017133113393568617, 0.14867120976999865, 0.021554562011263746, 0.045319848331375055, 0.2719190899882503, 0.03813499432762047, 0.0893858738706671, 0.3788654840205854, 0.09652521838111078, 0.12892439615944715, 0.2077133057567651, 0.013510329073575042, 0.025708043237158196, 0.021802213504987213, 0.024459458322775667, 0.013126149099918879, 0.015557719986956993, 0.14001947988261293, 0.015557719986956993, 0.015557719986956993, 0.8090014393217636, 0.02170245696597639, 0.00906024902463092, 0.18078357356124022, 0.5526751905024861, 0.011167283681521832, 0.07922450309909829, 0.014749242598236383, 0.1074587675014365, 0.015170649529614565, 0.008217435161874556, 0.03186396927450225, 0.01046958990447931, 0.17934862705934124, 0.5243898943460942, 0.014111186392993854, 0.03914716225153134, 0.011835188587672265, 0.1552230503229324, 0.028222372785987708, 0.005007195171707496, 0.01001570977941288, 0.9014138801471593, 0.07010996845589017, 0.01001570977941288, 0.10371848197066966, 0.1057491149008183, 0.1554996216894603, 0.14308152030893584, 0.09887620344493056, 0.11902633021332873, 0.10754544403133443, 0.0701349373566727, 0.05506139291364616, 0.041393671268414846, 0.017509035675731855, 0.06419979747768348, 0.017509035675731855, 0.058363452252439524, 0.011672690450487903, 0.029181726126219762, 0.005836345225243952, 0.7820702601826895, 0.011672690450487903, 0.008858156102988336, 0.053148936617930014, 0.9123900786077985, 0.008858156102988336, 0.02059151188719615, 0.021964279346342562, 0.1619865601792764, 0.74953103269394, 0.02333704680548897, 0.004804686107012435, 0.00823660475487846, 0.0075502210253052555, 0.0013727674591464101, 0.0013727674591464101, 0.010468195924267806, 0.010468195924267806, 0.1130565159820923, 0.8374556739414245, 0.01674911347882849, 0.006280917554560683, 0.0020936391848535613, 0.0020936391848535613, 0.02315165646146917, 0.04630331292293834, 0.9029146019972978, 0.02315165646146917, 0.027619223138841444, 0.027619223138841444, 0.939053586720609, 0.011642462477247815, 0.033609372811677654, 0.6800955439539478, 0.05996966521299346, 0.02877665253810309, 0.09335936892132682, 0.010324447857182024, 0.0676580838300439, 0.005711396686951758, 0.009006433237116234, 0.023132170421297837, 0.9715511576945092, 0.9675368501139755, 0.019745650002326032, 0.125258107791096, 0.03461079294227653, 0.1223738750459063, 0.3825728719869495, 0.07045768563249151, 0.06468922014211208, 0.13452885590063435, 0.05047407304081994, 0.012154980854728067, 0.0030902493698461183, 0.04480777170195964, 0.05786650298121928, 0.3737245657983118, 0.19302437172155654, 0.10659189406695681, 0.09353316278769717, 0.026933633263473006, 0.04945994472019589, 0.02872920881437121, 0.025382908924060924, 0.9525163263468281, 0.027214752181337946, 0.12977728570440936, 0.17408034100521075, 0.19495954232517604, 0.20001622389485516, 0.10354778904620295, 0.06306171273670771, 0.018987023700343452, 0.028252169286078054, 0.04763067801117086, 0.039670482507934084, 0.9636998797899161, 0.9699758120167058, 0.027713594629048738, 0.9460965921693257, 0.02425888697870066, 0.023980799495666134, 0.9352511803309792, 0.023980799495666134, 0.009945075743197779, 0.013674479146896946, 0.034807765101192226, 0.02113328595429528, 0.09074881615667973, 0.03853716850489139, 0.02734895829379389, 0.7409081428682345, 0.008701941275298056, 0.013674479146896946, 0.015330207005314895, 0.015330207005314895, 0.011497655253986171, 0.011497655253986171, 0.07665103502657447, 0.019162758756643618, 0.0038325517513287236, 0.8431613852923192, 0.0038325517513287236, 0.013376113231066035, 0.02675222646213207, 0.013376113231066035, 0.10700890584852828, 0.013376113231066035, 0.013376113231066035, 0.802566793863962, 0.03629912596974064, 0.014519650387896254, 0.007259825193948127, 0.8421397224979827, 0.007259825193948127, 0.07259825193948127, 0.007259825193948127, 0.013288437972983465, 0.004983164239868799, 0.04152636866557333, 0.011627383226360533, 0.006644218986491732, 0.20264867908799786, 0.4351963436152085, 0.08305273733114665, 0.1362064892230805, 0.06644218986491733, 0.002227339538441401, 0.002227339538441401, 0.008909358153765604, 0.05568348846103502, 0.7884781966082558, 0.006682018615324202, 0.09800293969142163, 0.013364037230648404, 0.022273395384414005, 0.9831750259496185, 0.008778348445978737, 0.008778348445978737, 0.04629545319839119, 0.004208677563490109, 0.03366942050792087, 0.008417355126980218, 0.07996487370631206, 0.016834710253960435, 0.012626032690470326, 0.7954400594996305, 0.006711078863802128, 0.06039970977421915, 0.9328399620684957, 0.24001077214700023, 0.0998115536902852, 0.06225359792022943, 0.03537136245467581, 0.2415542497813861, 0.05788041128946951, 0.12000538607350011, 0.09363764315274178, 0.041545272992219225, 0.007846011308128089, 0.14095280500652435, 0.14766484334016838, 0.012907766026238495, 0.016005629872535735, 0.5090822920748462, 0.015489319231486193, 0.07073455782378694, 0.07563950891375758, 0.008002814936267868, 0.0041304851283963185, 0.12764440942977784, 0.061487246005807614, 0.032689421927138224, 0.026462865369588084, 0.4989028441737048, 0.018679669672650414, 0.08872843094508946, 0.12453113115100276, 0.01712303053326288, 0.003891597848468836, 0.01540152298547522, 0.021562132179665308, 0.8655655917837073, 0.01540152298547522, 0.012321218388380175, 0.05236517815061575, 0.003080304597095044, 0.006160609194190088, 0.003080304597095044, 0.02633240493591871, 0.06500812468554931, 0.3721509416334136, 0.07879149289419426, 0.0674767876482917, 0.10903261418778841, 0.08969475431297311, 0.10594678548436043, 0.0627451836363688, 0.022835132405367005, 0.043035267988734416, 0.010758816997183604, 0.010758816997183604, 0.043035267988734416, 0.8069112747887703, 0.06455290198310162, 0.021517633994367208, 0.01655074229934604, 0.019058430526519683, 0.7071680800629672, 0.10181214202324988, 0.021566118753693325, 0.06820911977912307, 0.011033828199564027, 0.019058430526519683, 0.024073806980866967, 0.011535365844998756, 0.17817726247405768, 0.14021373290460368, 0.15542560015368803, 0.14219788950231033, 0.07023914355881561, 0.07394290254120137, 0.07553022781936669, 0.07222330015652227, 0.04179956565835355, 0.05039757758174906, 0.04400001588648078, 0.04400001588648078, 0.8800003177296156, 0.24287265777864928, 0.10400057691532656, 0.15778127666610936, 0.09577384887125703, 0.09503712695686276, 0.0704797298103866, 0.0884066297273142, 0.06237578875204946, 0.05464020865090947, 0.028854941647109493, 0.030528925465658677, 0.030528925465658677, 0.030528925465658677, 0.8548099130384429, 0.9426918319326933, 0.02005727301984454, 0.030085909529766808, 0.07831398353064703, 0.013052330588441172, 0.013052330588441172, 0.013052330588441172, 0.8614538188371172, 0.013052330588441172, 0.01644945402116094, 0.9047199711638517, 0.06579781608464376, 0.13760046919416213, 0.45115198996434314, 0.06729106816075799, 0.09410096602955603, 0.10155802371491708, 0.01633450731079086, 0.04048117029195995, 0.030715975703987156, 0.024146662981169093, 0.03639754346426224, 0.1479004817190194, 0.3565662776326746, 0.03554197622705117, 0.04643387216759911, 0.25882584300828393, 0.028376255213532788, 0.049873418254087934, 0.06047868535409514, 0.011751782462170145, 0.0040128037675702935, 0.007291336012397146, 0.012152226687328575, 0.007291336012397146, 0.00486089067493143, 0.007291336012397146, 0.11666137619835433, 0.017013117362260004, 0.002430445337465715, 0.8239209694008774, 0.0424157898227495, 0.933147376100489, 0.18294678494383174, 0.1377701298862733, 0.028375419705573904, 0.021281564779180428, 0.15718489073745542, 0.08960658854391759, 0.29570174219492806, 0.04144304720156188, 0.01232090592478867, 0.033602470703969094, 0.05127721444134827, 0.9229898599442689, 0.014164582848108185, 0.02832916569621637, 0.02832916569621637, 0.05665833139243274, 0.8498749708864911, 0.21484967872791047, 0.13064199638096183, 0.12452838763667168, 0.13937572315851915, 0.11466655448367986, 0.09865472205815808, 0.06506626449280216, 0.05804289254251646, 0.03362484809359574, 0.02052425792725974, 0.03199817004712751, 0.025844675807295298, 0.07507262972595301, 0.011076289631697985, 0.015999085023563755, 0.06030424355035569, 0.08245682281375166, 0.05415074931052348, 0.5771977596962616, 0.0664577377901879, 0.020650845547038076, 0.04956202931289138, 0.7117658098545789, 0.048873667794656774, 0.010325422773519038, 0.1101378429175364, 0.021339207065272675, 0.02478101465644569, 0.0013767230364692049, 0.0013767230364692049, 0.00798326863860237, 0.17563191004925216, 0.01596653727720474, 0.8063101324988395, 0.3019155984997382, 0.1066358003808222, 0.09079584124353639, 0.08428053729650185, 0.08284597495954012, 0.08930150547586792, 0.08786694313890618, 0.09432247365523398, 0.03831476908301963, 0.023730051990575343, 0.20689304400768982, 0.08736868906589794, 0.0879918608851982, 0.09297723543960036, 0.07677476813779334, 0.1372224346099196, 0.15629149228050787, 0.07228793103883138, 0.05321887336824311, 0.029039806779392607, 0.014369453858466344, 0.014369453858466344, 0.9340145008003123, 0.014369453858466344, 0.014369453858466344, 0.03229464751627886, 0.03229464751627886, 0.9042501304558082, 0.009039249591330956, 0.985278205455074, 0.029707541442512767, 0.5638931477513998, 0.026956843160798622, 0.008252094845142435, 0.16999315380993416, 0.1100279312685658, 0.07316857429359626, 0.002750698281714145, 0.001100279312685658, 0.014303631064913554, 0.022795263391007056, 0.022795263391007056, 0.9346057990312893, 0.10326994913069708, 0.007041132895274801, 0.007041132895274801, 0.03755270877479894, 0.7956480171660525, 0.0023470442984249336, 0.044593841670073735, 0.15533798898412834, 0.005093048819151748, 0.05857006142024511, 0.010186097638303497, 0.005093048819151748, 0.050930488191517485, 0.21390805040437344, 0.4991187842768714, 0.002546524409575874, 0.9863924344737757, 0.014722275141399637, 0.0017994567541439576, 0.03958804859116707, 0.1655500213812441, 0.7791647745443336, 0.014395654033151661, 0.011528670019344886, 0.8992362615089011, 0.07493635512574176, 0.005764335009672443, 0.06696983752096652, 0.8706078877725648, 0.8934303484385607, 0.01932902196141117, 0.03908757774418704, 0.001288601464094078, 0.04596011888602212, 0.001288601464094078, 0.06913847241162761, 0.8988001413511589], \"Term\": [\"abadi\", \"abadi\", \"abadi\", \"abadi\", \"abadi\", \"abadi\", \"abadi\", \"abadi\", \"abadi\", \"abadi\", \"abbasi\", \"abbasi\", \"abbasi\", \"abbasi\", \"abbasi\", \"abbasi\", \"abbasi\", \"ada\", \"ada\", \"ada\", \"adana\", \"adana\", \"admonish\", \"admonish\", \"ads\", \"ads\", \"ads\", \"ads\", \"ads\", \"ads\", \"ads\", \"ads\", \"ads\", \"ads\", \"advertisers\", \"advertisers\", \"advertisers\", \"advertisers\", \"advertisers\", \"afd\", \"afd\", \"afd\", \"afd\", \"afd\", \"afd\", \"afghan\", \"afghan\", \"afghan\", \"afghan\", \"afghan\", \"afghan\", \"afghan\", \"afghan\", \"afghan\", \"afghan\", \"afghanistan\", \"afghanistan\", \"afghanistan\", \"afghanistan\", \"afghanistan\", \"afghanistan\", \"afghanistan\", \"afghanistan\", \"afghanistan\", \"afghanistan\", \"air\", \"air\", \"air\", \"air\", \"air\", \"air\", \"air\", \"air\", \"air\", \"air\", \"aircraft\", \"aircraft\", \"aircraft\", \"aircraft\", \"aircraft\", \"aircraft\", \"aircraft\", \"aircraft\", \"aircraft\", \"aircraft\", \"airforce\", \"airforce\", \"airlines\", \"airlines\", \"airlines\", \"airlines\", \"airlines\", \"airlines\", \"airlines\", \"airlines\", \"airlines\", \"airlines\", \"al\", \"al\", \"al\", \"al\", \"al\", \"al\", \"al\", \"al\", \"al\", \"al\", \"alexei\", \"alexei\", \"alexei\", \"alexei\", \"alexei\", \"aliot\", \"aliot\", \"also\", \"also\", \"also\", \"also\", \"also\", \"also\", \"also\", \"also\", \"also\", \"also\", \"alwaleed\", \"alwaleed\", \"alwaleed\", \"alwaleed\", \"anarchistic\", \"anc\", \"anc\", \"anc\", \"anc\", \"anc\", \"anc\", \"anc\", \"anc\", \"anc\", \"anc\", \"anguilla\", \"anguilla\", \"anguilla\", \"anguilla\", \"anifah\", \"anifah\", \"ankara\", \"ankara\", \"ankara\", \"ankara\", \"ankara\", \"ankara\", \"ankara\", \"ankara\", \"ankara\", \"ankara\", \"annulled\", \"annulled\", \"annulled\", \"annulled\", \"ano\", \"ano\", \"ano\", \"ano\", \"ano\", \"ano\", \"ano\", \"ano\", \"ano\", \"antigua\", \"antigua\", \"antigua\", \"antigua\", \"arakan\", \"arakan\", \"arakan\", \"arakan\", \"arakan\", \"arakan\", \"archives\", \"archives\", \"archives\", \"archives\", \"archives\", \"archives\", \"archives\", \"archives\", \"arko\", \"arko\", \"arreaza\", \"arreaza\", \"arsa\", \"arsa\", \"arsa\", \"arsa\", \"arsa\", \"arsa\", \"asif\", \"asif\", \"asif\", \"asif\", \"assad\", \"assad\", \"assad\", \"assad\", \"assad\", \"assad\", \"assad\", \"assad\", \"assad\", \"assad\", \"aston\", \"aston\", \"attack\", \"attack\", \"attack\", \"attack\", \"attack\", \"attack\", \"attack\", \"attack\", \"attack\", \"attack\", \"attacks\", \"attacks\", \"attacks\", \"attacks\", \"attacks\", \"attacks\", \"attacks\", \"attacks\", \"attacks\", \"attacks\", \"aung\", \"aung\", \"aung\", \"aung\", \"aung\", \"austrian\", \"austrian\", \"austrian\", \"austrian\", \"austrian\", \"austrian\", \"austrian\", \"avramopoulos\", \"avramopoulos\", \"avramopoulos\", \"avramopoulos\", \"babis\", \"babis\", \"babis\", \"babis\", \"babis\", \"babis\", \"babis\", \"babis\", \"babis\", \"baghdad\", \"baghdad\", \"baghdad\", \"baghdad\", \"baghdad\", \"baghdad\", \"baghdad\", \"baghdad\", \"baghdad\", \"baghdad\", \"bagram\", \"bagram\", \"bagram\", \"bahamas\", \"bahamas\", \"bahamas\", \"ballistic\", \"ballistic\", \"ballistic\", \"ballistic\", \"ballistic\", \"ballistic\", \"ballistic\", \"ballistic\", \"ballistic\", \"ballistic\", \"baltics\", \"baltics\", \"baltics\", \"bangladesh\", \"bangladesh\", \"bangladesh\", \"bangladesh\", \"bangladesh\", \"bangladesh\", \"bangladesh\", \"bangladesh\", \"bangladesh\", \"bangladesh\", \"bannon\", \"bannon\", \"bannon\", \"bannon\", \"bannon\", \"bannon\", \"bannon\", \"bannon\", \"bannon\", \"bannon\", \"baquer\", \"baquer\", \"baquer\", \"barbuda\", \"barbuda\", \"barbuda\", \"barbuda\", \"barcelona\", \"barcelona\", \"barcelona\", \"barcelona\", \"barcelona\", \"barcelona\", \"barcelona\", \"barthelemy\", \"barthelemy\", \"barthelemy\", \"barthelemy\", \"barzani\", \"barzani\", \"barzani\", \"barzani\", \"bazar\", \"bazar\", \"bazar\", \"bazar\", \"becciu\", \"becciu\", \"becerril\", \"becerril\", \"beijing\", \"beijing\", \"beijing\", \"beijing\", \"beijing\", \"beijing\", \"beijing\", \"beijing\", \"beijing\", \"beijing\", \"belarussian\", \"belarussian\", \"bellen\", \"bellen\", \"belts\", \"belts\", \"belts\", \"bengal\", \"bengal\", \"bengal\", \"bengal\", \"bergdorf\", \"bergdorf\", \"bergdorf\", \"berge\", \"berge\", \"berhad\", \"berhad\", \"berlusconi\", \"berlusconi\", \"berlusconi\", \"berlusconi\", \"berlusconi\", \"bill\", \"bill\", \"bill\", \"bill\", \"bill\", \"bill\", \"bill\", \"bill\", \"bill\", \"bill\", \"billion\", \"billion\", \"billion\", \"billion\", \"billion\", \"billion\", \"billion\", \"billion\", \"billion\", \"billion\", \"bird\", \"bird\", \"bird\", \"blankets\", \"blankets\", \"blankets\", \"boat\", \"boat\", \"boat\", \"boat\", \"boat\", \"boat\", \"boat\", \"boat\", \"boat\", \"boat\", \"boats\", \"boats\", \"boats\", \"boats\", \"boats\", \"boats\", \"boats\", \"boats\", \"bohuslav\", \"bohuslav\", \"boj\", \"boj\", \"boj\", \"boko\", \"boko\", \"boko\", \"boko\", \"bolivar\", \"bolivar\", \"bolivar\", \"bonus\", \"bonus\", \"bonus\", \"bonus\", \"bonus\", \"bonus\", \"bonus\", \"bonus\", \"bonus\", \"bonus\", \"border\", \"border\", \"border\", \"border\", \"border\", \"border\", \"border\", \"border\", \"border\", \"border\", \"bouts\", \"bouts\", \"bouts\", \"branson\", \"branson\", \"branson\", \"branson\", \"bras\", \"bras\", \"brazil\", \"brazil\", \"brazil\", \"brazil\", \"brazil\", \"brazil\", \"brazil\", \"brazil\", \"brazil\", \"brazil\", \"brazilian\", \"brazilian\", \"brazilian\", \"brazilian\", \"brazilian\", \"brazilian\", \"brazilian\", \"brazilian\", \"brazilian\", \"brazilian\", \"brazilians\", \"brazilians\", \"brazilians\", \"brazilians\", \"brazilians\", \"brazilians\", \"brexit\", \"brexit\", \"brexit\", \"brexit\", \"brexit\", \"brexit\", \"brexit\", \"brexit\", \"brexit\", \"brexit\", \"bribes\", \"bribes\", \"bribes\", \"bribes\", \"bribes\", \"bribes\", \"bribes\", \"bribes\", \"bribes\", \"bribes\", \"bribing\", \"bribing\", \"bribing\", \"bribing\", \"bribing\", \"brics\", \"brics\", \"britain\", \"britain\", \"britain\", \"britain\", \"britain\", \"britain\", \"britain\", \"britain\", \"britain\", \"britain\", \"brook\", \"brook\", \"brook\", \"broward\", \"broward\", \"broward\", \"browne\", \"browne\", \"browne\", \"brussels\", \"brussels\", \"brussels\", \"brussels\", \"brussels\", \"brussels\", \"brussels\", \"brussels\", \"brussels\", \"brussels\", \"bsi\", \"bsi\", \"buddhist\", \"buddhist\", \"buddhist\", \"buddhist\", \"buddhist\", \"buddhist\", \"budget\", \"budget\", \"budget\", \"budget\", \"budget\", \"budget\", \"budget\", \"budget\", \"budget\", \"budget\", \"bundestag\", \"bundestag\", \"bundestag\", \"bundestag\", \"bundestag\", \"bundestag\", \"burch\", \"burch\", \"caicos\", \"caicos\", \"caicos\", \"caicos\", \"cambodian\", \"cambodian\", \"cambodian\", \"cambodian\", \"cambodian\", \"cambodian\", \"campaign\", \"campaign\", \"campaign\", \"campaign\", \"campaign\", \"campaign\", \"campaign\", \"campaign\", \"campaign\", \"campaign\", \"candidate\", \"candidate\", \"candidate\", \"candidate\", \"candidate\", \"candidate\", \"candidate\", \"candidate\", \"candidate\", \"candidate\", \"capriles\", \"capriles\", \"capriles\", \"caracas\", \"caracas\", \"caracas\", \"caracas\", \"caracas\", \"caracas\", \"caribbean\", \"caribbean\", \"caribbean\", \"caribbean\", \"caribbean\", \"caribbean\", \"caribbean\", \"caribbean\", \"caribbean\", \"caribbean\", \"carles\", \"carles\", \"carles\", \"carles\", \"carles\", \"carles\", \"carles\", \"carriage\", \"carriage\", \"casa\", \"casa\", \"catalan\", \"catalan\", \"catalan\", \"catalonia\", \"catalonia\", \"catalonia\", \"catalonia\", \"catalonia\", \"catalonia\", \"catalonia\", \"catalonia\", \"catalonia\", \"catalonia\", \"category\", \"category\", \"category\", \"category\", \"category\", \"category\", \"category\", \"category\", \"category\", \"category\", \"chakrabarti\", \"chakrabarti\", \"char\", \"char\", \"chihuahua\", \"chihuahua\", \"china\", \"china\", \"china\", \"china\", \"china\", \"china\", \"china\", \"china\", \"china\", \"china\", \"chinese\", \"chinese\", \"chinese\", \"chinese\", \"chinese\", \"chinese\", \"chinese\", \"chinese\", \"chinese\", \"chinese\", \"chlimper\", \"chlimper\", \"church\", \"church\", \"church\", \"church\", \"church\", \"church\", \"church\", \"church\", \"church\", \"church\", \"city\", \"city\", \"city\", \"city\", \"city\", \"city\", \"city\", \"city\", \"city\", \"city\", \"claimants\", \"claimants\", \"claimants\", \"claimants\", \"clerics\", \"clerics\", \"clerics\", \"clerics\", \"clerics\", \"clerics\", \"clerics\", \"clinton\", \"clinton\", \"clinton\", \"clinton\", \"clinton\", \"clinton\", \"clinton\", \"clinton\", \"clinton\", \"clinton\", \"clooney\", \"clooney\", \"clooney\", \"clooney\", \"clsa\", \"clsa\", \"commuter\", \"commuter\", \"commuter\", \"companies\", \"companies\", \"companies\", \"companies\", \"companies\", \"companies\", \"companies\", \"companies\", \"companies\", \"companies\", \"company\", \"company\", \"company\", \"company\", \"company\", \"company\", \"company\", \"company\", \"company\", \"company\", \"congress\", \"congress\", \"congress\", \"congress\", \"congress\", \"congress\", \"congress\", \"congress\", \"congress\", \"congress\", \"constituent\", \"constituent\", \"constituent\", \"constituent\", \"constituent\", \"constituent\", \"constituent\", \"consulate\", \"consulate\", \"consulate\", \"consulate\", \"consulate\", \"consulate\", \"consulate\", \"consulate\", \"consulate\", \"convention\", \"convention\", \"convention\", \"convention\", \"convention\", \"convention\", \"convention\", \"convention\", \"convention\", \"convention\", \"coolers\", \"coolers\", \"coroner\", \"coroner\", \"could\", \"could\", \"could\", \"could\", \"could\", \"could\", \"could\", \"could\", \"could\", \"could\", \"council\", \"council\", \"council\", \"council\", \"council\", \"council\", \"council\", \"council\", \"council\", \"council\", \"country\", \"country\", \"country\", \"country\", \"country\", \"country\", \"country\", \"country\", \"country\", \"country\", \"court\", \"court\", \"court\", \"court\", \"court\", \"court\", \"court\", \"court\", \"court\", \"court\", \"cradle\", \"cradle\", \"cremation\", \"cremation\", \"cremation\", \"cremation\", \"cruz\", \"cruz\", \"cruz\", \"cruz\", \"cruz\", \"cruz\", \"cruz\", \"cruz\", \"cruz\", \"cruz\", \"customers\", \"customers\", \"customers\", \"customers\", \"customers\", \"customers\", \"customers\", \"customers\", \"customers\", \"customers\", \"da\", \"da\", \"da\", \"da\", \"da\", \"da\", \"da\", \"da\", \"da\", \"damage\", \"damage\", \"damage\", \"damage\", \"damage\", \"damage\", \"damage\", \"damage\", \"damage\", \"damage\", \"damascus\", \"damascus\", \"damascus\", \"damascus\", \"damascus\", \"damascus\", \"damascus\", \"damascus\", \"damascus\", \"damascus\", \"darfur\", \"darfur\", \"deal\", \"deal\", \"deal\", \"deal\", \"deal\", \"deal\", \"deal\", \"deal\", \"deal\", \"deal\", \"debt\", \"debt\", \"debt\", \"debt\", \"debt\", \"debt\", \"debt\", \"debt\", \"debt\", \"debt\", \"deficit\", \"deficit\", \"deficit\", \"deficit\", \"deficit\", \"deficit\", \"deficit\", \"deficit\", \"deficit\", \"deficit\", \"deir\", \"deir\", \"deir\", \"deir\", \"deir\", \"delegates\", \"delegates\", \"delegates\", \"delegates\", \"delegates\", \"delegates\", \"delegates\", \"delegates\", \"delegates\", \"delegates\", \"delos\", \"delos\", \"delos\", \"delos\", \"democratic\", \"democratic\", \"democratic\", \"democratic\", \"democratic\", \"democratic\", \"democratic\", \"democratic\", \"democratic\", \"democratic\", \"detectives\", \"detectives\", \"digitally\", \"digitally\", \"dillon\", \"dillon\", \"dillon\", \"dillon\", \"dillon\", \"dillon\", \"dillon\", \"dillon\", \"dinka\", \"dinka\", \"dinka\", \"discreet\", \"discreet\", \"discreet\", \"discreet\", \"discreet\", \"dislodge\", \"dislodge\", \"dislodge\", \"dislodge\", \"dlamini\", \"dlamini\", \"dlamini\", \"dlamini\", \"dlamini\", \"dmitry\", \"dmitry\", \"dmitry\", \"dmitry\", \"dmitry\", \"dmitry\", \"dmitry\", \"dodon\", \"dodon\", \"doha\", \"doha\", \"doha\", \"doha\", \"doha\", \"doha\", \"donald\", \"donald\", \"donald\", \"donald\", \"donald\", \"donald\", \"donald\", \"donald\", \"donald\", \"donald\", \"dorchester\", \"dorchester\", \"dormitory\", \"dormitory\", \"dprk\", \"dprk\", \"dprk\", \"dprk\", \"driesang\", \"drills\", \"drills\", \"drills\", \"drills\", \"drills\", \"drills\", \"drills\", \"duisburg\", \"duisburg\", \"durango\", \"durango\", \"durango\", \"durham\", \"editorial\", \"editorial\", \"editorial\", \"editorial\", \"editorial\", \"editorial\", \"editorial\", \"editorial\", \"editorial\", \"editorial\", \"egypt\", \"egypt\", \"egypt\", \"egypt\", \"egypt\", \"egypt\", \"egypt\", \"egypt\", \"egypt\", \"egypt\", \"election\", \"election\", \"election\", \"election\", \"election\", \"election\", \"election\", \"election\", \"election\", \"election\", \"electoral\", \"electoral\", \"electoral\", \"electoral\", \"electoral\", \"electoral\", \"electoral\", \"electoral\", \"electoral\", \"electoral\", \"emergency\", \"emergency\", \"emergency\", \"emergency\", \"emergency\", \"emergency\", \"emergency\", \"emergency\", \"emergency\", \"emergency\", \"emilio\", \"emilio\", \"emilio\", \"engels\", \"engels\", \"engels\", \"enrique\", \"enrique\", \"enrique\", \"enrique\", \"enrique\", \"enrique\", \"enrique\", \"enrique\", \"enrique\", \"erbil\", \"erbil\", \"erbil\", \"erbil\", \"erbil\", \"erdogan\", \"erdogan\", \"erdogan\", \"erdogan\", \"erdogan\", \"erdogan\", \"erdogan\", \"erdogan\", \"erdogan\", \"erdogan\", \"escorting\", \"escorting\", \"ethnic\", \"ethnic\", \"ethnic\", \"ethnic\", \"ethnic\", \"ethnic\", \"ethnic\", \"ethnic\", \"ethnic\", \"ethnic\", \"eu\", \"eu\", \"eu\", \"eu\", \"eu\", \"eu\", \"eu\", \"eu\", \"eu\", \"eu\", \"euphrates\", \"euphrates\", \"euphrates\", \"euphrates\", \"euphrates\", \"euphrates\", \"euphrates\", \"europe\", \"europe\", \"europe\", \"europe\", \"europe\", \"europe\", \"europe\", \"europe\", \"europe\", \"europe\", \"european\", \"european\", \"european\", \"european\", \"european\", \"european\", \"european\", \"european\", \"european\", \"european\", \"eustatius\", \"eustatius\", \"eustatius\", \"eustatius\", \"evacuations\", \"evacuations\", \"evacuations\", \"evacuations\", \"exercises\", \"exercises\", \"exercises\", \"exercises\", \"exercises\", \"exercises\", \"exercises\", \"exercises\", \"exercises\", \"extradition\", \"extradition\", \"extradition\", \"extradition\", \"extradition\", \"extradition\", \"extradition\", \"facebook\", \"facebook\", \"facebook\", \"facebook\", \"facebook\", \"facebook\", \"facebook\", \"facebook\", \"facebook\", \"facebook\", \"fatah\", \"fatah\", \"fatah\", \"fatah\", \"fatah\", \"fein\", \"fein\", \"fein\", \"fein\", \"fein\", \"feltman\", \"feltman\", \"feltman\", \"filippo\", \"filippo\", \"filippo\", \"finance\", \"finance\", \"finance\", \"finance\", \"finance\", \"finance\", \"finance\", \"finance\", \"finance\", \"finance\", \"first\", \"first\", \"first\", \"first\", \"first\", \"first\", \"first\", \"first\", \"first\", \"first\", \"fiscal\", \"fiscal\", \"fiscal\", \"fiscal\", \"fiscal\", \"fiscal\", \"fiscal\", \"fiscal\", \"fiscal\", \"fiscal\", \"fl\", \"fl\", \"fl\", \"fl\", \"fl\", \"flooding\", \"flooding\", \"flooding\", \"flooding\", \"flooding\", \"flooding\", \"flooding\", \"flooding\", \"flooding\", \"flooding\", \"florida\", \"florida\", \"florida\", \"florida\", \"florida\", \"florida\", \"florida\", \"florida\", \"florida\", \"florida\", \"fn\", \"fn\", \"fn\", \"fn\", \"fn\", \"fn\", \"fn\", \"fn\", \"fonseca\", \"fonseca\", \"fonseca\", \"forces\", \"forces\", \"forces\", \"forces\", \"forces\", \"forces\", \"forces\", \"forces\", \"forces\", \"forces\", \"foreign\", \"foreign\", \"foreign\", \"foreign\", \"foreign\", \"foreign\", \"foreign\", \"foreign\", \"foreign\", \"foreign\", \"former\", \"former\", \"former\", \"former\", \"former\", \"former\", \"former\", \"former\", \"former\", \"former\", \"fpl\", \"fpl\", \"fpl\", \"fpl\", \"fpl\", \"fpl\", \"fpl\", \"fpo\", \"fpo\", \"fpo\", \"fpo\", \"fpo\", \"fpo\", \"frauke\", \"frauke\", \"frauke\", \"french\", \"french\", \"french\", \"french\", \"french\", \"french\", \"french\", \"french\", \"french\", \"french\", \"fsa\", \"fsa\", \"fujimori\", \"fujimori\", \"fujimori\", \"fukushima\", \"fukushima\", \"fung\", \"fung\", \"gabriel\", \"gabriel\", \"gabriel\", \"gabriel\", \"gabriel\", \"gabriel\", \"gabriel\", \"gabriel\", \"gabriel\", \"gauland\", \"gauland\", \"gauland\", \"gauland\", \"gaza\", \"gaza\", \"gaza\", \"gaza\", \"gaza\", \"gaza\", \"gaza\", \"gaza\", \"gaza\", \"gaza\", \"gdp\", \"gdp\", \"gdp\", \"gdp\", \"gdp\", \"gdp\", \"gdp\", \"gdp\", \"gdp\", \"gdp\", \"georgette\", \"german\", \"german\", \"german\", \"german\", \"german\", \"german\", \"german\", \"german\", \"german\", \"german\", \"germany\", \"germany\", \"germany\", \"germany\", \"germany\", \"germany\", \"germany\", \"germany\", \"germany\", \"germany\", \"ghana\", \"ghana\", \"ghana\", \"ghana\", \"ghana\", \"ghani\", \"ghani\", \"ghani\", \"ghani\", \"ghani\", \"ghani\", \"ghani\", \"ghani\", \"gingrich\", \"gingrich\", \"gingrich\", \"gingrich\", \"gingrich\", \"gingrich\", \"gingrich\", \"goldfein\", \"goldfein\", \"goldfein\", \"goldfein\", \"gossip\", \"gossip\", \"gossip\", \"gossip\", \"government\", \"government\", \"government\", \"government\", \"government\", \"government\", \"government\", \"government\", \"government\", \"government\", \"governorships\", \"governorships\", \"governorships\", \"graft\", \"graft\", \"graft\", \"graft\", \"graft\", \"graft\", \"graft\", \"graft\", \"graft\", \"graft\", \"grandi\", \"grandi\", \"grandi\", \"grandi\", \"grief\", \"grief\", \"grillo\", \"grillo\", \"grillo\", \"grillo\", \"group\", \"group\", \"group\", \"group\", \"group\", \"group\", \"group\", \"group\", \"group\", \"group\", \"growth\", \"growth\", \"growth\", \"growth\", \"growth\", \"growth\", \"growth\", \"growth\", \"growth\", \"growth\", \"guadeloupe\", \"guadeloupe\", \"guadeloupe\", \"guadeloupe\", \"guanipa\", \"guanipa\", \"gulen\", \"gulen\", \"gulen\", \"gulen\", \"gulen\", \"gulen\", \"gulen\", \"gulen\", \"guzman\", \"guzman\", \"guzman\", \"guzman\", \"guzman\", \"guzman\", \"hamas\", \"hamas\", \"hamas\", \"hamas\", \"hamas\", \"hamas\", \"hamas\", \"handedly\", \"handedly\", \"handedly\", \"handelsblatt\", \"handelsblatt\", \"handelsblatt\", \"haqqani\", \"haqqani\", \"haqqani\", \"haqqani\", \"haqqani\", \"haram\", \"haram\", \"haram\", \"haram\", \"helmand\", \"helmand\", \"helmand\", \"hid\", \"hid\", \"hijacking\", \"hijacking\", \"hirohito\", \"hirohito\", \"hoecke\", \"hoecke\", \"hoecke\", \"homa\", \"homa\", \"homa\", \"homosexuality\", \"homosexuality\", \"homosexuality\", \"homosexuality\", \"homosexuality\", \"homosexuality\", \"house\", \"house\", \"house\", \"house\", \"house\", \"house\", \"house\", \"house\", \"house\", \"house\", \"hrw\", \"hrw\", \"hrw\", \"hrw\", \"hrw\", \"hun\", \"hun\", \"hun\", \"hun\", \"hun\", \"hun\", \"hun\", \"hungary\", \"hungary\", \"hungary\", \"hungary\", \"hungary\", \"hungary\", \"hungary\", \"hungary\", \"hungary\", \"hungary\", \"hurling\", \"hurling\", \"hurricane\", \"hurricane\", \"hurricane\", \"hurricane\", \"hurricane\", \"hurricane\", \"hurricane\", \"hurricane\", \"hurricane\", \"hurricane\", \"hydrogen\", \"hydrogen\", \"hydrogen\", \"hydrogen\", \"hydrogen\", \"hydrogen\", \"hyten\", \"hyten\", \"idlib\", \"idlib\", \"idlib\", \"idlib\", \"idlib\", \"idlib\", \"idlib\", \"idlib\", \"idlib\", \"idlib\", \"imaginary\", \"imaginary\", \"including\", \"including\", \"including\", \"including\", \"including\", \"including\", \"including\", \"including\", \"including\", \"including\", \"income\", \"income\", \"income\", \"income\", \"income\", \"income\", \"income\", \"income\", \"income\", \"income\", \"independence\", \"independence\", \"independence\", \"independence\", \"independence\", \"independence\", \"independence\", \"independence\", \"independence\", \"independence\", \"india\", \"india\", \"india\", \"india\", \"india\", \"india\", \"india\", \"india\", \"india\", \"india\", \"indian\", \"indian\", \"indian\", \"indian\", \"indian\", \"indian\", \"indian\", \"indian\", \"indian\", \"indian\", \"insurgents\", \"insurgents\", \"insurgents\", \"insurgents\", \"insurgents\", \"insurgents\", \"insurgents\", \"insurgents\", \"insurgents\", \"insurgents\", \"intermodal\", \"intermodal\", \"ipc\", \"ipc\", \"iran\", \"iran\", \"iran\", \"iran\", \"iran\", \"iran\", \"iran\", \"iran\", \"iran\", \"iran\", \"iraq\", \"iraq\", \"iraq\", \"iraq\", \"iraq\", \"iraq\", \"iraq\", \"iraq\", \"iraq\", \"iraq\", \"iraqi\", \"iraqi\", \"iraqi\", \"iraqi\", \"iraqi\", \"iraqi\", \"iraqi\", \"iraqi\", \"iraqi\", \"iraqi\", \"ireland\", \"ireland\", \"ireland\", \"ireland\", \"ireland\", \"ireland\", \"ireland\", \"ireland\", \"ireland\", \"ireland\", \"irish\", \"irish\", \"irish\", \"irish\", \"irish\", \"irish\", \"irish\", \"irish\", \"irish\", \"irish\", \"irma\", \"irma\", \"irma\", \"irma\", \"irma\", \"irma\", \"irma\", \"irma\", \"irma\", \"isi\", \"isi\", \"isi\", \"islamabad\", \"islamabad\", \"islamabad\", \"islamabad\", \"islamabad\", \"islamabad\", \"islamabad\", \"islamabad\", \"islamabad\", \"islamic\", \"islamic\", \"islamic\", \"islamic\", \"islamic\", \"islamic\", \"islamic\", \"islamic\", \"islamic\", \"islamic\", \"islamist\", \"islamist\", \"islamist\", \"islamist\", \"islamist\", \"islamist\", \"islamist\", \"islamist\", \"islamist\", \"islamist\", \"island\", \"island\", \"island\", \"island\", \"island\", \"island\", \"island\", \"island\", \"island\", \"island\", \"isotope\", \"isotope\", \"isotope\", \"israel\", \"israel\", \"israel\", \"israel\", \"israel\", \"israel\", \"israel\", \"israel\", \"israel\", \"israel\", \"israeli\", \"israeli\", \"israeli\", \"israeli\", \"israeli\", \"israeli\", \"israeli\", \"israeli\", \"israeli\", \"israeli\", \"itsunori\", \"itsunori\", \"jaishankar\", \"jaishankar\", \"jamaica\", \"jamaica\", \"jamaica\", \"jamaica\", \"jamaica\", \"jamaica\", \"jamaica\", \"jamaica\", \"japan\", \"japan\", \"japan\", \"japan\", \"japan\", \"japan\", \"japan\", \"japan\", \"japan\", \"japan\", \"jintao\", \"jintao\", \"jong\", \"jong\", \"jong\", \"jong\", \"jong\", \"jong\", \"jong\", \"jong\", \"jong\", \"juba\", \"juba\", \"juba\", \"juba\", \"juba\", \"juba\", \"juncker\", \"juncker\", \"juncker\", \"juncker\", \"juncker\", \"juncker\", \"juncker\", \"juncker\", \"juncture\", \"juncture\", \"juniper\", \"kabul\", \"kabul\", \"kabul\", \"kabul\", \"kabul\", \"kabul\", \"kabul\", \"kabul\", \"karachi\", \"karachi\", \"kashmir\", \"kashmir\", \"kashmir\", \"kashmir\", \"kashmir\", \"kcna\", \"kcna\", \"kcna\", \"kcna\", \"kcna\", \"keiko\", \"keiko\", \"keiko\", \"kem\", \"kem\", \"kem\", \"kem\", \"kenya\", \"kenya\", \"kenya\", \"kenya\", \"kenya\", \"kenya\", \"kenya\", \"kenya\", \"kenya\", \"kenya\", \"kern\", \"kern\", \"kern\", \"kern\", \"kern\", \"kern\", \"kern\", \"khan\", \"khan\", \"khan\", \"khan\", \"khan\", \"khan\", \"khan\", \"khan\", \"khan\", \"khan\", \"khaqan\", \"khaqan\", \"khaqan\", \"khawaja\", \"khawaja\", \"kiev\", \"kiev\", \"kiev\", \"kiev\", \"kiev\", \"kiev\", \"kiev\", \"kiir\", \"kiir\", \"kiir\", \"kiir\", \"kiir\", \"kiir\", \"kiir\", \"killed\", \"killed\", \"killed\", \"killed\", \"killed\", \"killed\", \"killed\", \"killed\", \"killed\", \"killed\", \"kim\", \"kim\", \"kim\", \"kim\", \"kim\", \"kim\", \"kim\", \"kim\", \"kim\", \"kim\", \"kirkuk\", \"kirkuk\", \"kirkuk\", \"kirkuk\", \"kirkuk\", \"kirkuk\", \"kmh\", \"kmh\", \"kmh\", \"kmh\", \"kmh\", \"konya\", \"konya\", \"korea\", \"korea\", \"korea\", \"korea\", \"korea\", \"korea\", \"korea\", \"korea\", \"korea\", \"korea\", \"korean\", \"korean\", \"korean\", \"korean\", \"korean\", \"korean\", \"korean\", \"korean\", \"korean\", \"korean\", \"kosovo\", \"kosovo\", \"kosovo\", \"kosovo\", \"kosovo\", \"kosovo\", \"kph\", \"kph\", \"kph\", \"kph\", \"kremlin\", \"kremlin\", \"kremlin\", \"kremlin\", \"kremlin\", \"kremlin\", \"kremlin\", \"kremlin\", \"kremlin\", \"kremlin\", \"krg\", \"krg\", \"krg\", \"krg\", \"krg\", \"krg\", \"krg\", \"krg\", \"krg\", \"krg\", \"kuczynski\", \"kuczynski\", \"kuczynski\", \"kuczynski\", \"kuczynski\", \"kuczynski\", \"kunduz\", \"kunduz\", \"kurdish\", \"kurdish\", \"kurdish\", \"kurdish\", \"kurdish\", \"kurdish\", \"kurdish\", \"kurdish\", \"kurdish\", \"kurdish\", \"kurdistan\", \"kurdistan\", \"kurdistan\", \"kurdistan\", \"kurdistan\", \"kurdistan\", \"kurdistan\", \"kurdistan\", \"kurdistan\", \"kurdistan\", \"kurds\", \"kurds\", \"kurds\", \"kurds\", \"kurds\", \"kurds\", \"kurds\", \"kurds\", \"kuria\", \"kuria\", \"kuria\", \"kuria\", \"kurram\", \"kurram\", \"kurz\", \"kurz\", \"kurz\", \"kurz\", \"kurz\", \"kurz\", \"kurz\", \"kurz\", \"kyi\", \"kyi\", \"kyi\", \"kyi\", \"kyi\", \"kyung\", \"kyung\", \"labour\", \"labour\", \"labour\", \"labour\", \"labour\", \"labour\", \"labour\", \"labour\", \"labour\", \"labour\", \"lahore\", \"lahore\", \"lahore\", \"lahore\", \"lahore\", \"lamda\", \"lamda\", \"landfall\", \"landfall\", \"landfall\", \"landfall\", \"landings\", \"landings\", \"last\", \"last\", \"last\", \"last\", \"last\", \"last\", \"last\", \"last\", \"last\", \"last\", \"latakia\", \"latakia\", \"lawmakers\", \"lawmakers\", \"lawmakers\", \"lawmakers\", \"lawmakers\", \"lawmakers\", \"lawmakers\", \"lawmakers\", \"lawmakers\", \"lawmakers\", \"lawmaking\", \"lawmaking\", \"lawmaking\", \"leader\", \"leader\", \"leader\", \"leader\", \"leader\", \"leader\", \"leader\", \"leader\", \"leader\", \"leader\", \"leaflet\", \"leaflet\", \"legislation\", \"legislation\", \"legislation\", \"legislation\", \"legislation\", \"legislation\", \"legislation\", \"legislation\", \"legislation\", \"legislation\", \"leu\", \"leu\", \"levine\", \"levine\", \"lewandowski\", \"lewandowski\", \"lewandowski\", \"lewandowski\", \"lewandowski\", \"lewandowski\", \"liam\", \"liam\", \"liberalize\", \"liberalize\", \"liberia\", \"liberia\", \"liberia\", \"liberia\", \"liberia\", \"liberia\", \"liberia\", \"liberia\", \"liberian\", \"liberian\", \"lim\", \"lim\", \"lim\", \"lim\", \"lim\", \"lim\", \"limbs\", \"limbs\", \"london\", \"london\", \"london\", \"london\", \"london\", \"london\", \"london\", \"london\", \"london\", \"london\", \"lopez\", \"lopez\", \"lopez\", \"lopez\", \"lopez\", \"lopez\", \"lopez\", \"lopez\", \"lopez\", \"lopez\", \"lowe\", \"lowe\", \"lower\", \"lower\", \"lower\", \"lower\", \"lower\", \"lower\", \"lower\", \"lower\", \"lower\", \"lower\", \"loy\", \"lucke\", \"luhansk\", \"luhansk\", \"luhansk\", \"luhansk\", \"luo\", \"luo\", \"machar\", \"machar\", \"machar\", \"machar\", \"machar\", \"machar\", \"macron\", \"macron\", \"macron\", \"macron\", \"macron\", \"macron\", \"macron\", \"macron\", \"macron\", \"macron\", \"madrid\", \"madrid\", \"madrid\", \"madrid\", \"madrid\", \"madrid\", \"madrid\", \"madrid\", \"maduro\", \"maduro\", \"maduro\", \"maduro\", \"maduro\", \"maduro\", \"maduro\", \"maduro\", \"maduro\", \"magnificent\", \"malaysian\", \"malaysian\", \"malaysian\", \"malaysian\", \"malaysian\", \"malaysian\", \"malaysian\", \"malaysian\", \"malaysian\", \"malaysian\", \"man\", \"man\", \"man\", \"man\", \"man\", \"man\", \"man\", \"man\", \"man\", \"man\", \"manfred\", \"manfred\", \"manfred\", \"many\", \"many\", \"many\", \"many\", \"many\", \"many\", \"many\", \"many\", \"many\", \"many\", \"maria\", \"maria\", \"maria\", \"maria\", \"maria\", \"maria\", \"maria\", \"maria\", \"maria\", \"maria\", \"marriage\", \"marriage\", \"marriage\", \"marriage\", \"marriage\", \"marriage\", \"marriage\", \"marriage\", \"marriage\", \"marriage\", \"maryam\", \"maryam\", \"maryam\", \"maryam\", \"maryam\", \"maryam\", \"masoud\", \"masoud\", \"masoud\", \"massoud\", \"massoud\", \"masters\", \"masters\", \"mata\", \"mata\", \"matviyenko\", \"matviyenko\", \"may\", \"may\", \"may\", \"may\", \"may\", \"may\", \"may\", \"may\", \"may\", \"may\", \"media\", \"media\", \"media\", \"media\", \"media\", \"media\", \"media\", \"media\", \"media\", \"media\", \"meirelles\", \"meirelles\", \"melenchon\", \"melenchon\", \"melenchon\", \"melenchon\", \"men\", \"men\", \"men\", \"men\", \"men\", \"men\", \"men\", \"men\", \"men\", \"men\", \"menacing\", \"menacing\", \"merkel\", \"merkel\", \"merkel\", \"merkel\", \"merkel\", \"merkel\", \"merkel\", \"merkel\", \"merkel\", \"merkel\", \"metall\", \"metall\", \"metall\", \"mexican\", \"mexican\", \"mexican\", \"mexican\", \"mexican\", \"mexican\", \"mexican\", \"mexican\", \"mexican\", \"mexican\", \"mexicans\", \"mexicans\", \"mexicans\", \"mexicans\", \"mexicans\", \"mexicans\", \"mexicans\", \"mexico\", \"mexico\", \"mexico\", \"mexico\", \"mexico\", \"mexico\", \"mexico\", \"mexico\", \"mexico\", \"mexico\", \"miles\", \"miles\", \"miles\", \"miles\", \"miles\", \"miles\", \"miles\", \"miles\", \"miles\", \"miles\", \"militant\", \"militant\", \"militant\", \"militant\", \"militant\", \"militant\", \"militant\", \"militant\", \"militant\", \"militant\", \"militants\", \"militants\", \"militants\", \"militants\", \"militants\", \"militants\", \"militants\", \"militants\", \"militants\", \"militants\", \"military\", \"military\", \"military\", \"military\", \"military\", \"military\", \"military\", \"military\", \"military\", \"military\", \"million\", \"million\", \"million\", \"million\", \"million\", \"million\", \"million\", \"million\", \"million\", \"million\", \"minister\", \"minister\", \"minister\", \"minister\", \"minister\", \"minister\", \"minister\", \"minister\", \"minister\", \"minister\", \"misappropriated\", \"misappropriated\", \"missile\", \"missile\", \"missile\", \"missile\", \"missile\", \"missile\", \"missile\", \"missile\", \"missile\", \"missile\", \"missiles\", \"missiles\", \"missiles\", \"missiles\", \"missiles\", \"missiles\", \"missiles\", \"missiles\", \"missiles\", \"missiles\", \"mml\", \"mml\", \"mml\", \"mml\", \"mml\", \"mml\", \"mml\", \"mobilisation\", \"mobilisation\", \"mobilisation\", \"mobilisation\", \"mobilisation\", \"modi\", \"modi\", \"modi\", \"modi\", \"modi\", \"modi\", \"modi\", \"modi\", \"modi\", \"modi\", \"mogherini\", \"mogherini\", \"mogherini\", \"mogherini\", \"mogherini\", \"mogherini\", \"monday\", \"monday\", \"monday\", \"monday\", \"monday\", \"monday\", \"monday\", \"monday\", \"monday\", \"monday\", \"monroe\", \"monroe\", \"monroe\", \"monroe\", \"monsoon\", \"monsoon\", \"monsoon\", \"moody\", \"moody\", \"moody\", \"moody\", \"moody\", \"moody\", \"moody\", \"moody\", \"morena\", \"morena\", \"morena\", \"morena\", \"morena\", \"morena\", \"morena\", \"morneau\", \"morneau\", \"morneau\", \"moscow\", \"moscow\", \"moscow\", \"moscow\", \"moscow\", \"moscow\", \"moscow\", \"moscow\", \"moscow\", \"moscow\", \"mosul\", \"mosul\", \"mosul\", \"mosul\", \"mosul\", \"mosul\", \"mosul\", \"mosul\", \"mosul\", \"mosul\", \"mou\", \"mou\", \"mourners\", \"mourners\", \"mourners\", \"mourners\", \"mourners\", \"mourners\", \"mourners\", \"mph\", \"mph\", \"mps\", \"mps\", \"mps\", \"mugabe\", \"mugabe\", \"mugabe\", \"mugabe\", \"mugabe\", \"mugabe\", \"mugabe\", \"mugabe\", \"mugabe\", \"mujahid\", \"mujahid\", \"mumbai\", \"mumbai\", \"mumbai\", \"mumbai\", \"museveni\", \"museveni\", \"museveni\", \"museveni\", \"museveni\", \"museveni\", \"museveni\", \"museveni\", \"myanmar\", \"myanmar\", \"myanmar\", \"myanmar\", \"myanmar\", \"myanmar\", \"myanmar\", \"myanmar\", \"myanmar\", \"myanmar\", \"mystifying\", \"nafta\", \"nafta\", \"nafta\", \"nafta\", \"nafta\", \"nafta\", \"nafta\", \"nafta\", \"nafta\", \"nafta\", \"nairobi\", \"nairobi\", \"nairobi\", \"nairobi\", \"nairobi\", \"nairobi\", \"nairobi\", \"nairobi\", \"nairobi\", \"najib\", \"najib\", \"najib\", \"najib\", \"najib\", \"najib\", \"namazi\", \"namazi\", \"namazi\", \"namazi\", \"nan\", \"nan\", \"nan\", \"natal\", \"natal\", \"natal\", \"natal\", \"national\", \"national\", \"national\", \"national\", \"national\", \"national\", \"national\", \"national\", \"national\", \"national\", \"nawaz\", \"nawaz\", \"nawaz\", \"nawaz\", \"naypyitaw\", \"naypyitaw\", \"naypyitaw\", \"nebenzia\", \"nebenzia\", \"nebenzia\", \"nebenzia\", \"netanyahu\", \"netanyahu\", \"netanyahu\", \"netanyahu\", \"netanyahu\", \"netanyahu\", \"netanyahu\", \"netanyahu\", \"netanyahu\", \"netanyahu\", \"new\", \"new\", \"new\", \"new\", \"new\", \"new\", \"new\", \"new\", \"new\", \"new\", \"news\", \"news\", \"news\", \"news\", \"news\", \"news\", \"news\", \"news\", \"news\", \"news\", \"nhc\", \"nhc\", \"nhc\", \"nhc\", \"nhc\", \"nicolas\", \"nicolas\", \"nicolas\", \"nicolas\", \"nicolas\", \"nicolas\", \"nicolas\", \"nicolas\", \"nicolas\", \"nieto\", \"nieto\", \"nieto\", \"nieto\", \"nieto\", \"nieto\", \"nieto\", \"nieto\", \"nieto\", \"nieto\", \"nkosazana\", \"nkosazana\", \"nkosazana\", \"nkosazana\", \"nkosazana\", \"nomination\", \"nomination\", \"nomination\", \"nomination\", \"nomination\", \"nomination\", \"nomination\", \"nomination\", \"nomination\", \"nomination\", \"nominee\", \"nominee\", \"nominee\", \"nominee\", \"nominee\", \"nominee\", \"nominee\", \"nominee\", \"nominee\", \"nominee\", \"north\", \"north\", \"north\", \"north\", \"north\", \"north\", \"north\", \"north\", \"north\", \"north\", \"northern\", \"northern\", \"northern\", \"northern\", \"northern\", \"northern\", \"northern\", \"northern\", \"northern\", \"northern\", \"nuclear\", \"nuclear\", \"nuclear\", \"nuclear\", \"nuclear\", \"nuclear\", \"nuclear\", \"nuclear\", \"nuclear\", \"nuclear\", \"nuer\", \"nuer\", \"nuer\", \"oas\", \"oas\", \"oas\", \"oas\", \"oas\", \"obrador\", \"obrador\", \"obrador\", \"obrador\", \"obrador\", \"odebrecht\", \"odebrecht\", \"odebrecht\", \"odebrecht\", \"odebrecht\", \"officials\", \"officials\", \"officials\", \"officials\", \"officials\", \"officials\", \"officials\", \"officials\", \"officials\", \"officials\", \"oil\", \"oil\", \"oil\", \"oil\", \"oil\", \"oil\", \"oil\", \"oil\", \"oil\", \"oil\", \"oilfield\", \"oilfield\", \"oilfields\", \"oilfields\", \"old\", \"old\", \"old\", \"old\", \"old\", \"old\", \"old\", \"old\", \"old\", \"old\", \"onboard\", \"onboard\", \"onboard\", \"onboard\", \"one\", \"one\", \"one\", \"one\", \"one\", \"one\", \"one\", \"one\", \"one\", \"one\", \"onodera\", \"onodera\", \"opinion\", \"opinion\", \"opinion\", \"opinion\", \"opinion\", \"opinion\", \"opinion\", \"opinion\", \"opinion\", \"opinion\", \"opposition\", \"opposition\", \"opposition\", \"opposition\", \"opposition\", \"opposition\", \"opposition\", \"opposition\", \"opposition\", \"opposition\", \"orban\", \"orban\", \"orban\", \"orban\", \"orban\", \"orthodox\", \"orthodox\", \"orthodox\", \"orthodox\", \"orthodox\", \"orthodox\", \"orthodox\", \"orthodox\", \"orthodox\", \"orthodox\", \"overstretched\", \"overstretched\", \"overstretched\", \"ovp\", \"ovp\", \"ovp\", \"ovp\", \"ovp\", \"ovp\", \"ovp\", \"ovp\", \"pac\", \"pac\", \"pac\", \"pac\", \"pac\", \"pac\", \"pac\", \"pac\", \"pac\", \"pacheco\", \"pacheco\", \"pakistan\", \"pakistan\", \"pakistan\", \"pakistan\", \"pakistan\", \"pakistan\", \"pakistan\", \"pakistan\", \"pakistan\", \"pakistan\", \"pakistani\", \"pakistani\", \"pakistani\", \"pakistani\", \"pakistani\", \"pakistani\", \"pakistani\", \"pakistani\", \"pakistani\", \"pakistanis\", \"pakistanis\", \"pakistanis\", \"pakistanis\", \"palestinian\", \"palestinian\", \"palestinian\", \"palestinian\", \"palestinian\", \"palestinian\", \"palestinian\", \"palestinian\", \"palestinian\", \"palestinian\", \"pao\", \"pao\", \"pao\", \"parity\", \"parity\", \"parity\", \"parity\", \"parliament\", \"parliament\", \"parliament\", \"parliament\", \"parliament\", \"parliament\", \"parliament\", \"parliament\", \"parliament\", \"parliament\", \"parolin\", \"parolin\", \"party\", \"party\", \"party\", \"party\", \"party\", \"party\", \"party\", \"party\", \"party\", \"party\", \"passengers\", \"passengers\", \"passengers\", \"passengers\", \"passengers\", \"passengers\", \"passengers\", \"passengers\", \"passengers\", \"passengers\", \"pauses\", \"payne\", \"payne\", \"pdvsa\", \"pdvsa\", \"pdvsa\", \"pdvsa\", \"pdvsa\", \"pdvsa\", \"pdvsa\", \"pen\", \"pen\", \"pen\", \"pen\", \"pen\", \"pen\", \"pen\", \"pen\", \"pen\", \"pena\", \"pena\", \"pena\", \"pena\", \"pena\", \"pena\", \"pena\", \"pena\", \"pena\", \"pena\", \"penh\", \"penh\", \"penh\", \"peninsula\", \"peninsula\", \"peninsula\", \"peninsula\", \"peninsula\", \"peninsula\", \"peninsula\", \"peninsula\", \"peninsula\", \"peninsula\", \"pension\", \"pension\", \"pension\", \"pension\", \"pension\", \"pension\", \"pension\", \"pension\", \"pension\", \"pension\", \"pensioners\", \"pensioners\", \"pensioners\", \"pensioners\", \"pensioners\", \"pensioners\", \"people\", \"people\", \"people\", \"people\", \"people\", \"people\", \"people\", \"people\", \"people\", \"people\", \"percent\", \"percent\", \"percent\", \"percent\", \"percent\", \"percent\", \"percent\", \"percent\", \"percent\", \"percent\", \"percentage\", \"percentage\", \"percentage\", \"percentage\", \"percentage\", \"percentage\", \"percentage\", \"percentage\", \"percentage\", \"percentage\", \"peru\", \"peru\", \"peru\", \"peru\", \"peru\", \"peru\", \"peru\", \"peru\", \"peru\", \"peshmerga\", \"peshmerga\", \"peshmerga\", \"peshmerga\", \"peshmerga\", \"peskov\", \"peskov\", \"peskov\", \"peskov\", \"peskov\", \"peskov\", \"petry\", \"petry\", \"petry\", \"phay\", \"phay\", \"philanthropies\", \"philanthropies\", \"philanthropies\", \"phnom\", \"phnom\", \"phnom\", \"pml\", \"pml\", \"pml\", \"pml\", \"pml\", \"pml\", \"pml\", \"points\", \"points\", \"points\", \"points\", \"points\", \"points\", \"points\", \"points\", \"points\", \"points\", \"poland\", \"poland\", \"poland\", \"poland\", \"poland\", \"poland\", \"poland\", \"poland\", \"poland\", \"poland\", \"police\", \"police\", \"police\", \"police\", \"police\", \"police\", \"police\", \"police\", \"police\", \"police\", \"political\", \"political\", \"political\", \"political\", \"political\", \"political\", \"political\", \"political\", \"political\", \"political\", \"poll\", \"poll\", \"poll\", \"poll\", \"poll\", \"poll\", \"poll\", \"poll\", \"poll\", \"poll\", \"polls\", \"polls\", \"polls\", \"polls\", \"polls\", \"polls\", \"polls\", \"polls\", \"polls\", \"polls\", \"pontiff\", \"pontiff\", \"pontiff\", \"pontiff\", \"pontiff\", \"pontiff\", \"pope\", \"pope\", \"pope\", \"pope\", \"pope\", \"pope\", \"pope\", \"pope\", \"pope\", \"pope\", \"poppy\", \"poppy\", \"poppy\", \"poppy\", \"poppy\", \"poroshenko\", \"poroshenko\", \"poroshenko\", \"poroshenko\", \"poroshenko\", \"poroshenko\", \"poroshenko\", \"powering\", \"powering\", \"prayuth\", \"prayuth\", \"prayuth\", \"prd\", \"prd\", \"prd\", \"prd\", \"prd\", \"predictit\", \"predictit\", \"predictit\", \"predictit\", \"predictit\", \"prepa\", \"prepa\", \"prepa\", \"prepa\", \"prerequisite\", \"prerequisite\", \"president\", \"president\", \"president\", \"president\", \"president\", \"president\", \"president\", \"president\", \"president\", \"president\", \"presidential\", \"presidential\", \"presidential\", \"presidential\", \"presidential\", \"presidential\", \"presidential\", \"presidential\", \"presidential\", \"presidential\", \"pretzell\", \"pretzell\", \"pri\", \"pri\", \"pri\", \"pri\", \"pri\", \"pri\", \"pri\", \"pri\", \"priebus\", \"priebus\", \"priebus\", \"priebus\", \"priebus\", \"priebus\", \"priebus\", \"priebus\", \"priebus\", \"priebus\", \"prime\", \"prime\", \"prime\", \"prime\", \"prime\", \"prime\", \"prime\", \"prime\", \"prime\", \"prime\", \"psychologists\", \"psychologists\", \"pti\", \"pti\", \"pti\", \"pti\", \"pti\", \"public\", \"public\", \"public\", \"public\", \"public\", \"public\", \"public\", \"public\", \"public\", \"public\", \"publishers\", \"publishers\", \"publishers\", \"publishers\", \"publishers\", \"puerto\", \"puerto\", \"puerto\", \"puerto\", \"puerto\", \"puerto\", \"puerto\", \"puerto\", \"puerto\", \"puerto\", \"punjab\", \"punjab\", \"punjab\", \"punt\", \"putin\", \"putin\", \"putin\", \"putin\", \"putin\", \"putin\", \"putin\", \"putin\", \"putin\", \"putin\", \"pyongyang\", \"pyongyang\", \"pyongyang\", \"pyongyang\", \"pyongyang\", \"pyongyang\", \"pyongyang\", \"pyongyang\", \"pyongyang\", \"pyongyang\", \"qatar\", \"qatar\", \"qatar\", \"qatar\", \"qatar\", \"qatar\", \"qatar\", \"qatar\", \"qatar\", \"qatar\", \"qu\", \"qu\", \"quake\", \"quake\", \"quake\", \"quake\", \"quake\", \"quake\", \"quake\", \"racket\", \"racket\", \"racket\", \"rajiv\", \"rakhine\", \"rakhine\", \"rakhine\", \"rakhine\", \"rakhine\", \"rakhine\", \"rakhine\", \"rate\", \"rate\", \"rate\", \"rate\", \"rate\", \"rate\", \"rate\", \"rate\", \"rate\", \"rate\", \"ratifies\", \"ratifies\", \"rating\", \"rating\", \"rating\", \"rating\", \"rating\", \"rating\", \"rating\", \"rating\", \"rating\", \"rating\", \"rebel\", \"rebel\", \"rebel\", \"rebel\", \"rebel\", \"rebel\", \"rebel\", \"rebel\", \"rebel\", \"rebel\", \"reclusive\", \"reclusive\", \"reclusive\", \"reclusive\", \"reclusive\", \"reclusive\", \"recorder\", \"recorder\", \"recorder\", \"redevelopment\", \"redevelopment\", \"redevelopment\", \"reform\", \"reform\", \"reform\", \"reform\", \"reform\", \"reform\", \"reform\", \"reform\", \"reform\", \"reform\", \"refugees\", \"refugees\", \"refugees\", \"refugees\", \"refugees\", \"refugees\", \"refugees\", \"refugees\", \"refugees\", \"refugees\", \"region\", \"region\", \"region\", \"region\", \"region\", \"region\", \"region\", \"region\", \"region\", \"region\", \"religious\", \"religious\", \"religious\", \"religious\", \"religious\", \"religious\", \"religious\", \"religious\", \"religious\", \"religious\", \"reparations\", \"reparations\", \"reparations\", \"reparations\", \"reparations\", \"reparations\", \"republican\", \"republican\", \"republican\", \"republican\", \"republican\", \"republican\", \"republican\", \"republican\", \"republican\", \"republican\", \"results\", \"results\", \"results\", \"results\", \"results\", \"results\", \"results\", \"results\", \"results\", \"results\", \"rferl\", \"rferl\", \"rferl\", \"rferl\", \"ri\", \"ri\", \"ri\", \"ri\", \"ri\", \"rico\", \"rico\", \"rico\", \"rico\", \"rico\", \"rico\", \"rico\", \"rico\", \"rico\", \"rico\", \"riek\", \"riek\", \"riek\", \"riek\", \"right\", \"right\", \"right\", \"right\", \"right\", \"right\", \"right\", \"right\", \"right\", \"right\", \"rivlin\", \"rivlin\", \"rivlin\", \"rizvi\", \"rizvi\", \"rohingya\", \"rohingya\", \"rohingya\", \"rohingya\", \"rohingya\", \"rohingya\", \"rohingya\", \"rohingya\", \"rohingya\", \"rohingya\", \"rosnmm\", \"rosnmm\", \"rotational\", \"rotational\", \"rotational\", \"rotor\", \"rotor\", \"rt\", \"rt\", \"rt\", \"rt\", \"rt\", \"rt\", \"rthk\", \"rthk\", \"rthk\", \"rthk\", \"rubio\", \"rubio\", \"rubio\", \"rubio\", \"rubio\", \"rubio\", \"rubio\", \"rubio\", \"rubio\", \"rubio\", \"russia\", \"russia\", \"russia\", \"russia\", \"russia\", \"russia\", \"russia\", \"russia\", \"russia\", \"russia\", \"russian\", \"russian\", \"russian\", \"russian\", \"russian\", \"russian\", \"russian\", \"russian\", \"russian\", \"russian\", \"russias\", \"russias\", \"saakashvili\", \"saakashvili\", \"saakashvili\", \"saakashvili\", \"saakashvili\", \"saakashvili\", \"sada\", \"sada\", \"sada\", \"saffir\", \"saffir\", \"saffir\", \"saffir\", \"saffir\", \"said\", \"said\", \"said\", \"said\", \"said\", \"said\", \"said\", \"said\", \"said\", \"said\", \"saints\", \"saints\", \"salgado\", \"salgado\", \"sana\", \"sana\", \"sana\", \"sanctions\", \"sanctions\", \"sanctions\", \"sanctions\", \"sanctions\", \"sanctions\", \"sanctions\", \"sanctions\", \"sanctions\", \"sanctions\", \"sandberg\", \"sandberg\", \"sandberg\", \"sandberg\", \"sanders\", \"sanders\", \"sanders\", \"sanders\", \"sanders\", \"sanders\", \"sanders\", \"sanders\", \"sanders\", \"sanders\", \"sao\", \"sao\", \"sao\", \"sao\", \"sao\", \"sap\", \"sap\", \"sap\", \"sap\", \"sap\", \"sap\", \"sap\", \"sap\", \"sap\", \"saudi\", \"saudi\", \"saudi\", \"saudi\", \"saudi\", \"saudi\", \"saudi\", \"saudi\", \"saudi\", \"saudi\", \"scenery\", \"scenery\", \"schaefer\", \"schaefer\", \"school\", \"school\", \"school\", \"school\", \"school\", \"school\", \"school\", \"school\", \"school\", \"school\", \"sdf\", \"sdf\", \"sdf\", \"sdf\", \"sdf\", \"sdf\", \"sdf\", \"sdf\", \"sdf\", \"sechin\", \"sechin\", \"sechin\", \"sechin\", \"sechin\", \"security\", \"security\", \"security\", \"security\", \"security\", \"security\", \"security\", \"security\", \"security\", \"security\", \"seibert\", \"seibert\", \"seibert\", \"seibert\", \"seibert\", \"sex\", \"sex\", \"sex\", \"sex\", \"sex\", \"sex\", \"sex\", \"sex\", \"sex\", \"sex\", \"shabaab\", \"shabaab\", \"shabaab\", \"shabaab\", \"shabaab\", \"shabaab\", \"shabaab\", \"shabaab\", \"shabaab\", \"shamlapur\", \"shamlapur\", \"shamlapur\", \"sharif\", \"sharif\", \"sharif\", \"sharif\", \"sharif\", \"showed\", \"showed\", \"showed\", \"showed\", \"showed\", \"showed\", \"showed\", \"showed\", \"showed\", \"showed\", \"silvio\", \"silvio\", \"silvio\", \"silvio\", \"simulations\", \"simulations\", \"simulations\", \"simulations\", \"simulations\", \"sinaloa\", \"sinaloa\", \"since\", \"since\", \"since\", \"since\", \"since\", \"since\", \"since\", \"since\", \"since\", \"since\", \"siphan\", \"siphan\", \"siphan\", \"sirleaf\", \"sirleaf\", \"sirleaf\", \"sirleaf\", \"sirleaf\", \"sirleaf\", \"slum\", \"slum\", \"slum\", \"smearing\", \"smearing\", \"sobotka\", \"sobotka\", \"social\", \"social\", \"social\", \"social\", \"social\", \"social\", \"social\", \"social\", \"social\", \"social\", \"socialists\", \"socialists\", \"socialists\", \"socialists\", \"socialists\", \"socialists\", \"socialists\", \"sokha\", \"sokha\", \"sokha\", \"sokha\", \"sokha\", \"sokha\", \"sokha\", \"solberg\", \"solberg\", \"solberg\", \"solberg\", \"solberg\", \"soldiers\", \"soldiers\", \"soldiers\", \"soldiers\", \"soldiers\", \"soldiers\", \"soldiers\", \"soldiers\", \"soldiers\", \"soldiers\", \"soleimani\", \"soleimani\", \"soleimani\", \"soleimani\", \"south\", \"south\", \"south\", \"south\", \"south\", \"south\", \"south\", \"south\", \"south\", \"south\", \"spain\", \"spain\", \"spain\", \"spain\", \"spain\", \"spain\", \"spain\", \"spain\", \"spain\", \"spain\", \"spanish\", \"spanish\", \"spanish\", \"spanish\", \"spanish\", \"spanish\", \"spanish\", \"spanish\", \"spanish\", \"spanish\", \"spd\", \"spd\", \"spd\", \"spd\", \"spd\", \"spd\", \"spd\", \"speedup\", \"speedup\", \"spending\", \"spending\", \"spending\", \"spending\", \"spending\", \"spending\", \"spending\", \"spending\", \"spending\", \"spending\", \"spiraled\", \"spiraled\", \"spiraled\", \"stashed\", \"stashed\", \"state\", \"state\", \"state\", \"state\", \"state\", \"state\", \"state\", \"state\", \"state\", \"state\", \"statement\", \"statement\", \"statement\", \"statement\", \"statement\", \"statement\", \"statement\", \"statement\", \"statement\", \"statement\", \"states\", \"states\", \"states\", \"states\", \"states\", \"states\", \"states\", \"states\", \"states\", \"states\", \"storm\", \"storm\", \"storm\", \"storm\", \"storm\", \"storm\", \"storm\", \"storm\", \"storm\", \"storm\", \"strache\", \"strache\", \"strache\", \"strache\", \"strache\", \"strenuously\", \"strenuously\", \"suicide\", \"suicide\", \"suicide\", \"suicide\", \"suicide\", \"suicide\", \"suicide\", \"suicide\", \"suicide\", \"suicide\", \"superbody\", \"superbody\", \"superbody\", \"support\", \"support\", \"support\", \"support\", \"support\", \"support\", \"support\", \"support\", \"support\", \"support\", \"surcharge\", \"surcharge\", \"surcharge\", \"surcharge\", \"surges\", \"surges\", \"surges\", \"survey\", \"survey\", \"survey\", \"survey\", \"survey\", \"survey\", \"survey\", \"survey\", \"survey\", \"survey\", \"suu\", \"suu\", \"suu\", \"suu\", \"swe\", \"swe\", \"swe\", \"symantec\", \"symantec\", \"syracuse\", \"syria\", \"syria\", \"syria\", \"syria\", \"syria\", \"syria\", \"syria\", \"syria\", \"syria\", \"syria\", \"syrian\", \"syrian\", \"syrian\", \"syrian\", \"syrian\", \"syrian\", \"syrian\", \"syrian\", \"syrian\", \"syrian\", \"szijjarto\", \"szijjarto\", \"taiwan\", \"taiwan\", \"taiwan\", \"taiwan\", \"taiwan\", \"taiwan\", \"taiwan\", \"taiwan\", \"taiwan\", \"taiwan\", \"taliban\", \"taliban\", \"taliban\", \"taliban\", \"taliban\", \"taliban\", \"taliban\", \"taliban\", \"taliban\", \"taliban\", \"talks\", \"talks\", \"talks\", \"talks\", \"talks\", \"talks\", \"talks\", \"talks\", \"talks\", \"talks\", \"tamim\", \"tamim\", \"tamim\", \"tamim\", \"tanf\", \"tanf\", \"tatar\", \"tatar\", \"tatar\", \"tax\", \"tax\", \"tax\", \"tax\", \"tax\", \"tax\", \"tax\", \"tax\", \"tax\", \"tax\", \"taxes\", \"taxes\", \"taxes\", \"taxes\", \"taxes\", \"taxes\", \"taxes\", \"taxes\", \"taxes\", \"taxes\", \"teargas\", \"teargas\", \"teargas\", \"teargas\", \"teargas\", \"televisa\", \"televisa\", \"temer\", \"temer\", \"temer\", \"temer\", \"temer\", \"temer\", \"temer\", \"temer\", \"temer\", \"terminal\", \"terminal\", \"terminal\", \"terminal\", \"terminal\", \"terminal\", \"terminal\", \"terminal\", \"terminal\", \"terminal\", \"terrorist\", \"terrorist\", \"terrorist\", \"terrorist\", \"terrorist\", \"terrorist\", \"terrorist\", \"terrorist\", \"terrorist\", \"terrorist\", \"test\", \"test\", \"test\", \"test\", \"test\", \"test\", \"test\", \"test\", \"test\", \"test\", \"thengar\", \"thengar\", \"thengar\", \"three\", \"three\", \"three\", \"three\", \"three\", \"three\", \"three\", \"three\", \"three\", \"three\", \"tito\", \"tito\", \"tito\", \"tito\", \"told\", \"told\", \"told\", \"told\", \"told\", \"told\", \"told\", \"told\", \"told\", \"told\", \"torrential\", \"torrential\", \"torrential\", \"torrential\", \"tremor\", \"tremor\", \"tremor\", \"tremor\", \"tremor\", \"troops\", \"troops\", \"troops\", \"troops\", \"troops\", \"troops\", \"troops\", \"troops\", \"troops\", \"troops\", \"trump\", \"trump\", \"trump\", \"trump\", \"trump\", \"trump\", \"trump\", \"trump\", \"trump\", \"trump\", \"tunisian\", \"tunisian\", \"tunisian\", \"tunisian\", \"tunisian\", \"turkey\", \"turkey\", \"turkey\", \"turkey\", \"turkey\", \"turkey\", \"turkey\", \"turkey\", \"turkey\", \"turkey\", \"turkish\", \"turkish\", \"turkish\", \"turkish\", \"turkish\", \"turkish\", \"turkish\", \"turkish\", \"turkish\", \"turkish\", \"turkmen\", \"turkmen\", \"turkmen\", \"turkmen\", \"two\", \"two\", \"two\", \"two\", \"two\", \"two\", \"two\", \"two\", \"two\", \"two\", \"uber\", \"uber\", \"uber\", \"uber\", \"uber\", \"uber\", \"uber\", \"uber\", \"uber\", \"ud\", \"ud\", \"ud\", \"ud\", \"ukraine\", \"ukraine\", \"ukraine\", \"ukraine\", \"ukraine\", \"ukraine\", \"ukraine\", \"ukraine\", \"ukraine\", \"ukraine\", \"ukrainian\", \"ukrainian\", \"ukrainian\", \"ukrainian\", \"ukrainian\", \"ukrainian\", \"ukrainian\", \"ukrainian\", \"ukrainians\", \"ukrainians\", \"ukrainians\", \"ukrainians\", \"ulchi\", \"ulchi\", \"ulchi\", \"un\", \"un\", \"un\", \"un\", \"un\", \"un\", \"un\", \"un\", \"un\", \"un\", \"uncontrolled\", \"uncontrolled\", \"understated\", \"understated\", \"union\", \"union\", \"union\", \"union\", \"union\", \"union\", \"union\", \"union\", \"union\", \"union\", \"united\", \"united\", \"united\", \"united\", \"united\", \"united\", \"united\", \"united\", \"united\", \"united\", \"unsuspecting\", \"unsuspecting\", \"us\", \"us\", \"us\", \"us\", \"us\", \"us\", \"us\", \"us\", \"us\", \"us\", \"usairforce\", \"usurp\", \"usurp\", \"valentina\", \"valentina\", \"vassily\", \"vassily\", \"vassily\", \"venezuela\", \"venezuela\", \"venezuela\", \"venezuela\", \"venezuela\", \"venezuela\", \"venezuela\", \"venezuela\", \"venezuela\", \"venezuela\", \"venezuelan\", \"venezuelan\", \"venezuelan\", \"venezuelan\", \"venezuelan\", \"venezuelan\", \"venezuelan\", \"venezuelan\", \"venezuelan\", \"venezuelans\", \"venezuelans\", \"venezuelans\", \"venezuelans\", \"venezuelans\", \"venezuelans\", \"venezuelans\", \"viktor\", \"viktor\", \"viktor\", \"viktor\", \"viktor\", \"viktor\", \"viktor\", \"village\", \"village\", \"village\", \"village\", \"village\", \"village\", \"village\", \"village\", \"village\", \"village\", \"villages\", \"villages\", \"villages\", \"villages\", \"villages\", \"villages\", \"villages\", \"villages\", \"villages\", \"villegas\", \"villegas\", \"villegas\", \"virgin\", \"virgin\", \"virgin\", \"virgin\", \"virgin\", \"virgin\", \"virgin\", \"virgin\", \"vladivostok\", \"vladivostok\", \"vladivostok\", \"vote\", \"vote\", \"vote\", \"vote\", \"vote\", \"vote\", \"vote\", \"vote\", \"vote\", \"vote\", \"voters\", \"voters\", \"voters\", \"voters\", \"voters\", \"voters\", \"voters\", \"voters\", \"voters\", \"voters\", \"voting\", \"voting\", \"voting\", \"voting\", \"voting\", \"voting\", \"voting\", \"voting\", \"voting\", \"voting\", \"wang\", \"wang\", \"wang\", \"wang\", \"wang\", \"wang\", \"wang\", \"wang\", \"wang\", \"war\", \"war\", \"war\", \"war\", \"war\", \"war\", \"war\", \"war\", \"war\", \"war\", \"weah\", \"weah\", \"weah\", \"weah\", \"weah\", \"weah\", \"weah\", \"weapons\", \"weapons\", \"weapons\", \"weapons\", \"weapons\", \"weapons\", \"weapons\", \"weapons\", \"weapons\", \"weapons\", \"wednesday\", \"wednesday\", \"wednesday\", \"wednesday\", \"wednesday\", \"wednesday\", \"wednesday\", \"wednesday\", \"wednesday\", \"wednesday\", \"weeds\", \"weeds\", \"weeds\", \"week\", \"week\", \"week\", \"week\", \"week\", \"week\", \"week\", \"week\", \"week\", \"week\", \"welsh\", \"welsh\", \"welsh\", \"welsh\", \"wesley\", \"wesley\", \"wesley\", \"wfp\", \"wfp\", \"wfp\", \"wfp\", \"wfp\", \"wfp\", \"wheelchair\", \"wheelchair\", \"wheelchair\", \"white\", \"white\", \"white\", \"white\", \"white\", \"white\", \"white\", \"white\", \"white\", \"white\", \"win\", \"win\", \"win\", \"win\", \"win\", \"win\", \"win\", \"win\", \"win\", \"win\", \"winds\", \"winds\", \"winds\", \"winds\", \"winds\", \"winds\", \"winds\", \"winds\", \"winds\", \"witold\", \"witold\", \"women\", \"women\", \"women\", \"women\", \"women\", \"women\", \"women\", \"women\", \"women\", \"women\", \"worryingly\", \"worryingly\", \"worshippers\", \"worshippers\", \"worshippers\", \"worshippers\", \"worshippers\", \"would\", \"would\", \"would\", \"would\", \"would\", \"would\", \"would\", \"would\", \"would\", \"would\", \"wounded\", \"wounded\", \"wounded\", \"wounded\", \"wounded\", \"wounded\", \"wounded\", \"wounded\", \"wounded\", \"wounded\", \"xi\", \"xi\", \"xi\", \"xi\", \"xi\", \"xi\", \"xi\", \"xi\", \"xi\", \"xi\", \"yangon\", \"yangon\", \"yangon\", \"yangon\", \"year\", \"year\", \"year\", \"year\", \"year\", \"year\", \"year\", \"year\", \"year\", \"year\", \"years\", \"years\", \"years\", \"years\", \"years\", \"years\", \"years\", \"years\", \"years\", \"years\", \"yi\", \"yi\", \"yi\", \"yi\", \"yi\", \"yonhap\", \"yonhap\", \"yonhap\", \"zapad\", \"zapad\", \"zealand\", \"zealand\", \"zealand\", \"zealand\", \"zealand\", \"zealand\", \"zealand\", \"zealand\", \"zealand\", \"zealand\", \"zeman\", \"zeman\", \"zeman\", \"zika\", \"zika\", \"zika\", \"zika\", \"zika\", \"zika\", \"zika\", \"zimbabwe\", \"zimbabwe\", \"zimbabwe\", \"zimbabwe\", \"zimbabwe\", \"zimbabwe\", \"zimbabwe\", \"zimbabwe\", \"zimbabwe\", \"zlotys\", \"zlotys\", \"zor\", \"zor\", \"zor\", \"zor\", \"zor\", \"zuckerberg\", \"zuckerberg\", \"zuckerberg\", \"zuckerberg\", \"zulia\", \"zulia\", \"zuma\", \"zuma\", \"zuma\", \"zuma\", \"zuma\", \"zuma\", \"zypries\", \"zypries\"]}, \"R\": 30, \"lambda.step\": 0.01, \"plot.opts\": {\"xlab\": \"PC1\", \"ylab\": \"PC2\"}, \"topic.order\": [5, 1, 3, 7, 9, 2, 10, 6, 8, 4]};\n",
              "\n",
              "function LDAvis_load_lib(url, callback){\n",
              "  var s = document.createElement('script');\n",
              "  s.src = url;\n",
              "  s.async = true;\n",
              "  s.onreadystatechange = s.onload = callback;\n",
              "  s.onerror = function(){console.warn(\"failed to load library \" + url);};\n",
              "  document.getElementsByTagName(\"head\")[0].appendChild(s);\n",
              "}\n",
              "\n",
              "if(typeof(LDAvis) !== \"undefined\"){\n",
              "   // already loaded: just create the visualization\n",
              "   !function(LDAvis){\n",
              "       new LDAvis(\"#\" + \"ldavis_el581404524045804321409806160\", ldavis_el581404524045804321409806160_data);\n",
              "   }(LDAvis);\n",
              "}else if(typeof define === \"function\" && define.amd){\n",
              "   // require.js is available: use it to load d3/LDAvis\n",
              "   require.config({paths: {d3: \"https://d3js.org/d3.v5\"}});\n",
              "   require([\"d3\"], function(d3){\n",
              "      window.d3 = d3;\n",
              "      LDAvis_load_lib(\"https://cdn.jsdelivr.net/gh/bmabey/pyLDAvis@3.3.1/pyLDAvis/js/ldavis.v3.0.0.js\", function(){\n",
              "        new LDAvis(\"#\" + \"ldavis_el581404524045804321409806160\", ldavis_el581404524045804321409806160_data);\n",
              "      });\n",
              "    });\n",
              "}else{\n",
              "    // require.js not available: dynamically load d3 & LDAvis\n",
              "    LDAvis_load_lib(\"https://d3js.org/d3.v5.js\", function(){\n",
              "         LDAvis_load_lib(\"https://cdn.jsdelivr.net/gh/bmabey/pyLDAvis@3.3.1/pyLDAvis/js/ldavis.v3.0.0.js\", function(){\n",
              "                 new LDAvis(\"#\" + \"ldavis_el581404524045804321409806160\", ldavis_el581404524045804321409806160_data);\n",
              "            })\n",
              "         });\n",
              "}\n",
              "</script>"
            ],
            "text/plain": [
              "<IPython.core.display.HTML object>"
            ]
          },
          "metadata": {
            "tags": []
          },
          "execution_count": 36
        }
      ]
    },
    {
      "cell_type": "code",
      "metadata": {
        "id": "9Hlw2mO6FxQ_",
        "trusted": true,
        "colab": {
          "base_uri": "https://localhost:8080/",
          "height": 861
        },
        "outputId": "6014105d-2938-4a24-ba6d-327204529416"
      },
      "source": [
        "# Topic model for fake\n",
        "pyLDAvis.display(lda_viz_fake)"
      ],
      "execution_count": null,
      "outputs": [
        {
          "output_type": "execute_result",
          "data": {
            "text/html": [
              "\n",
              "<link rel=\"stylesheet\" type=\"text/css\" href=\"https://cdn.jsdelivr.net/gh/bmabey/pyLDAvis@3.3.1/pyLDAvis/js/ldavis.v1.0.0.css\">\n",
              "\n",
              "\n",
              "<div id=\"ldavis_el581404524050012963825145899\"></div>\n",
              "<script type=\"text/javascript\">\n",
              "\n",
              "var ldavis_el581404524050012963825145899_data = {\"mdsDat\": {\"x\": [-0.012840202857836974, -0.08284810364941277, -0.08121814699171281, -0.006503788245432307, 0.10781616844756266, 0.0047004078963134655, 0.04934549529537196, 0.037764327036745926, -0.016710653580987063, 0.0004944966493875704], \"y\": [0.016932699445903938, -0.05663499322276937, 0.03377669722969186, -0.06818231941265619, -0.025157861559244415, -0.08071602334526938, 0.031385584659552226, 0.023240556927803267, 0.09133380248021784, 0.03402185679677023], \"topics\": [1, 2, 3, 4, 5, 6, 7, 8, 9, 10], \"cluster\": [1, 1, 1, 1, 1, 1, 1, 1, 1, 1], \"Freq\": [14.809720188485272, 13.782134113920705, 12.676815323492294, 11.640861959054558, 11.01810847145535, 9.587508393983015, 8.824896506019375, 7.513880152986258, 5.547657134040507, 4.5984177565626805]}, \"tinfo\": {\"Term\": [\"trump\", \"clinton\", \"hillary\", \"russia\", \"fbi\", \"syria\", \"intelligence\", \"cia\", \"us\", \"russian\", \"news\", \"police\", \"media\", \"party\", \"donald\", \"cnn\", \"campaign\", \"election\", \"boiler\", \"republican\", \"hollywood\", \"black\", \"rubio\", \"military\", \"acr\", \"episode\", \"democratic\", \"president\", \"school\", \"students\", \"europen\", \"intricate\", \"blackonblack\", \"cheadle\", \"filtered\", \"rationality\", \"underwhelming\", \"obfuscating\", \"illustrating\", \"kardashians\", \"caitlyn\", \"refrigerator\", \"practitioner\", \"stalemate\", \"wilcox\", \"lavar\", \"harrington\", \"foursome\", \"robotics\", \"innings\", \"surf\", \"deportationthe\", \"upscale\", \"rainbowcolored\", \"instinctive\", \"naples\", \"debatable\", \"descends\", \"optimal\", \"coeditor\", \"jenner\", \"kosovo\", \"scottsdale\", \"pondering\", \"grenade\", \"cbsdfw\", \"sociopathic\", \"clickbait\", \"luggage\", \"rubio\", \"crips\", \"revamp\", \"greeley\", \"behemoth\", \"moore\", \"vr\", \"feldman\", \"mayer\", \"pepe\", \"corfman\", \"roy\", \"farming\", \"marco\", \"ball\", \"black\", \"mnuchin\", \"blacks\", \"people\", \"jobs\", \"retailers\", \"matter\", \"want\", \"bernie\", \"think\", \"guy\", \"know\", \"trump\", \"like\", \"lives\", \"even\", \"say\", \"one\", \"much\", \"right\", \"really\", \"jones\", \"get\", \"make\", \"would\", \"america\", \"way\", \"going\", \"go\", \"country\", \"time\", \"media\", \"white\", \"said\", \"new\", \"us\", \"president\", \"donald\", \"hillary\", \"could\", \"news\", \"also\", \"many\", \"wtc\", \"ddos\", \"hinkle\", \"preplanned\", \"spillway\", \"unexplained\", \"sequestration\", \"maniacs\", \"knox\", \"evict\", \"smugglers\", \"bunkerville\", \"holstered\", \"breathed\", \"lorry\", \"lula\", \"sheppard\", \"arraigned\", \"hallucinogenic\", \"centre\", \"algeria\", \"ebt\", \"collier\", \"gunfights\", \"infusion\", \"bretzing\", \"ordinance\", \"hereon\", \"isp\", \"jerad\", \"opium\", \"rancher\", \"provocateurs\", \"emotive\", \"spacebased\", \"finicum\", \"bundy\", \"narcotics\", \"lavoy\", \"stockholm\", \"sweden\", \"gabbard\", \"swedish\", \"foster\", \"oregon\", \"payne\", \"cliven\", \"fiore\", \"expire\", \"federal\", \"swedes\", \"ammon\", \"epa\", \"swat\", \"enforcement\", \"tulsi\", \"police\", \"parenthood\", \"law\", \"city\", \"distribute\", \"authorities\", \"residents\", \"public\", \"local\", \"planned\", \"services\", \"government\", \"officers\", \"district\", \"state\", \"group\", \"order\", \"shooting\", \"department\", \"refugees\", \"rights\", \"said\", \"new\", \"people\", \"also\", \"according\", \"wire\", \"us\", \"children\", \"gun\", \"one\", \"university\", \"program\", \"would\", \"two\", \"states\", \"could\", \"many\", \"including\", \"told\", \"news\", \"media\", \"like\", \"time\", \"america\", \"obama\", \"commutation\", \"cibolo\", \"deli\", \"mcveigh\", \"usmc\", \"lacy\", \"evacuating\", \"sanctioning\", \"hannan\", \"murrah\", \"obfuscate\", \"seneca\", \"auxiliary\", \"securitythis\", \"collegiate\", \"starnes\", \"entrusting\", \"unduly\", \"gab\", \"cinderela\", \"realitythe\", \"dissension\", \"corinthians\", \"austrian\", \"adminstration\", \"commemorating\", \"orphans\", \"colts\", \"chilled\", \"extinguished\", \"huddleston\", \"synthetic\", \"meanings\", \"indulge\", \"scalia\", \"kelley\", \"hammond\", \"mosby\", \"poindexter\", \"anthem\", \"flag\", \"presidio\", \"irving\", \"oregonian\", \"rodgers\", \"lovable\", \"nfl\", \"teacher\", \"manning\", \"ncaa\", \"robertson\", \"passengers\", \"cowboys\", \"samesex\", \"students\", \"school\", \"confederate\", \"student\", \"campus\", \"player\", \"antonin\", \"blogspot\", \"shooting\", \"liberation\", \"police\", \"marriage\", \"officer\", \"christmas\", \"black\", \"gay\", \"players\", \"court\", \"church\", \"justice\", \"said\", \"white\", \"man\", \"protest\", \"shooter\", \"supreme\", \"shot\", \"officers\", \"one\", \"lives\", \"would\", \"first\", \"like\", \"obama\", \"two\", \"video\", \"us\", \"president\", \"people\", \"right\", \"back\", \"many\", \"trump\", \"america\", \"see\", \"also\", \"media\", \"even\", \"years\", \"openended\", \"muddled\", \"amarillo\", \"doublespeak\", \"omnibus\", \"autonomous\", \"hoard\", \"originating\", \"allencompassing\", \"usaccording\", \"jamestown\", \"eitc\", \"cosponsors\", \"twentytwo\", \"tweak\", \"smelly\", \"dwellings\", \"replay\", \"undercutting\", \"inconsequential\", \"resurrecting\", \"yugoslav\", \"bedfellows\", \"dismembering\", \"comprises\", \"antivirus\", \"shrinks\", \"vetoing\", \"irk\", \"portman\", \"evangelists\", \"oddities\", \"miniscule\", \"postal\", \"hadley\", \"chartered\", \"ltd\", \"sectors\", \"parry\", \"usps\", \"mccain\", \"maduro\", \"angloamerican\", \"appropriations\", \"autopilot\", \"obamacare\", \"globalisation\", \"derivatives\", \"graham\", \"provision\", \"gnashing\", \"veto\", \"growth\", \"gdp\", \"repeal\", \"banking\", \"expenditure\", \"legislative\", \"percent\", \"ryan\", \"senate\", \"senators\", \"legislation\", \"tax\", \"congress\", \"spending\", \"million\", \"vote\", \"aliens\", \"illegal\", \"bill\", \"rep\", \"voter\", \"republicans\", \"insurance\", \"would\", \"government\", \"obama\", \"sen\", \"states\", \"court\", \"us\", \"federal\", \"act\", \"house\", \"american\", \"president\", \"years\", \"health\", \"state\", \"said\", \"money\", \"democrats\", \"one\", \"party\", \"people\", \"new\", \"election\", \"trump\", \"year\", \"even\", \"also\", \"news\", \"many\", \"gorbachev\", \"evidencefree\", \"excia\", \"peskov\", \"ic\", \"witting\", \"neophyte\", \"exfbi\", \"seniormost\", \"formulation\", \"deconstructs\", \"dni\", \"pravda\", \"protestations\", \"tubes\", \"neomccarthyist\", \"clapper\", \"smallscale\", \"haberman\", \"morphing\", \"stenographers\", \"bestever\", \"wittingly\", \"wto\", \"cascading\", \"powergrab\", \"russiansthe\", \"manipulates\", \"filtering\", \"waurishuk\", \"gchq\", \"flynn\", \"rubin\", \"borger\", \"gru\", \"assange\", \"nsa\", \"hersh\", \"rosenstein\", \"hacking\", \"comey\", \"intelligence\", \"cia\", \"mueller\", \"boiler\", \"papadopoulos\", \"wikileaks\", \"russian\", \"russia\", \"manafort\", \"cyber\", \"meddling\", \"hacked\", \"collusion\", \"leaks\", \"fbi\", \"hack\", \"russians\", \"podesta\", \"kremlin\", \"putin\", \"fake\", \"trumprussia\", \"neocon\", \"hackers\", \"cnn\", \"investigation\", \"information\", \"director\", \"evidence\", \"news\", \"trump\", \"sources\", \"media\", \"clinton\", \"story\", \"said\", \"former\", \"campaign\", \"president\", \"election\", \"us\", \"hillary\", \"emails\", \"report\", \"donald\", \"new\", \"one\", \"would\", \"also\", \"house\", \"duterte\", \"sonic\", \"nucleararmed\", \"erdogan\", \"militarily\", \"dunford\", \"atlanticist\", \"milosevic\", \"eurasian\", \"vit\", \"destabilization\", \"zi\", \"rend\", \"tayyip\", \"brigades\", \"shipments\", \"warmonger\", \"airspace\", \"vanguard\", \"gaddafi\", \"repetition\", \"chinathe\", \"preparedness\", \"realists\", \"vassal\", \"darkly\", \"unwinnable\", \"reactors\", \"jinsa\", \"wahhabi\", \"usled\", \"airstrikes\", \"saudis\", \"pyongyang\", \"destabilizing\", \"alnusra\", \"ankara\", \"turkish\", \"saudi\", \"arabia\", \"turkey\", \"neoconservative\", \"usbacked\", \"deir\", \"iranian\", \"hezbollah\", \"nato\", \"pentagon\", \"missile\", \"syria\", \"iran\", \"yemen\", \"syrian\", \"china\", \"shaw\", \"subscribing\", \"nuclear\", \"bashar\", \"petraeus\", \"isis\", \"military\", \"korea\", \"aleppo\", \"regime\", \"qaeda\", \"forces\", \"us\", \"troops\", \"israel\", \"arab\", \"war\", \"western\", \"iraq\", \"weapons\", \"international\", \"policy\", \"security\", \"united\", \"state\", \"world\", \"foreign\", \"obama\", \"states\", \"american\", \"president\", \"also\", \"would\", \"trump\", \"one\", \"clinton\", \"said\", \"government\", \"century\", \"people\", \"new\", \"washington\", \"media\", \"like\", \"america\", \"country\", \"harrelson\", \"rachael\", \"antiwall\", \"fronted\", \"culpa\", \"saviour\", \"einstein\", \"instigator\", \"yesterdays\", \"wrapup\", \"tr\", \"pies\", \"antiiran\", \"nusra\", \"nomineewatch\", \"oversupply\", \"flatten\", \"mindthe\", \"advertiser\", \"periphery\", \"huddle\", \"generalelection\", \"modrikamen\", \"everyman\", \"defamed\", \"irvine\", \"documentaries\", \"gravel\", \"winnertakeall\", \"surges\", \"mallory\", \"delegates\", \"propelling\", \"catchup\", \"curly\", \"jeb\", \"retool\", \"hypothesis\", \"russianbased\", \"deity\", \"delegate\", \"trilateral\", \"creamer\", \"cruz\", \"cst\", \"superdelegates\", \"nudge\", \"caucuses\", \"romney\", \"crowell\", \"kasich\", \"ad\", \"atty\", \"ads\", \"mitt\", \"moveonorg\", \"candidate\", \"republican\", \"party\", \"sputnik\", \"google\", \"grassroots\", \"ted\", \"trump\", \"gop\", \"donald\", \"nomination\", \"bush\", \"convention\", \"democratic\", \"establishment\", \"presidential\", \"election\", \"campaign\", \"candidates\", \"political\", \"voters\", \"primary\", \"media\", \"hillary\", \"america\", \"clinton\", \"support\", \"new\", \"also\", \"vote\", \"would\", \"one\", \"president\", \"like\", \"said\", \"news\", \"people\", \"many\", \"us\", \"even\", \"custommade\", \"vittert\", \"abundant\", \"lucie\", \"santiago\", \"pryor\", \"morton\", \"vitale\", \"kane\", \"attributing\", \"gerster\", \"acrimonious\", \"zerohedge\", \"oroville\", \"replicated\", \"bardack\", \"domains\", \"blackmailing\", \"capone\", \"triumphant\", \"summertime\", \"ingrid\", \"bayer\", \"boucher\", \"redact\", \"piersmorgan\", \"clubthis\", \"harrisburg\", \"conversational\", \"arkin\", \"dyer\", \"seddique\", \"dao\", \"patsy\", \"bibi\", \"clot\", \"headphones\", \"mikhail\", \"sailor\", \"howell\", \"lauderdale\", \"lewinsky\", \"maxine\", \"clintons\", \"waters\", \"clinton\", \"brazile\", \"onset\", \"lerner\", \"hillary\", \"cults\", \"pst\", \"benghazi\", \"reilly\", \"emails\", \"mccabe\", \"abedin\", \"orlando\", \"email\", \"mateen\", \"biden\", \"est\", \"fox\", \"bill\", \"pulse\", \"mrs\", \"news\", \"alternate\", \"server\", \"media\", \"former\", \"trump\", \"president\", \"political\", \"like\", \"one\", \"time\", \"obama\", \"campaign\", \"first\", \"said\", \"would\", \"us\", \"fbi\", \"told\", \"also\", \"wire\", \"democratic\", \"people\", \"new\", \"house\", \"state\", \"even\", \"donald\", \"occult\", \"concha\", \"hegemonic\", \"overtones\", \"rehabilitate\", \"deliberating\", \"pratt\", \"actionwatch\", \"cnnread\", \"walkouts\", \"widelyknown\", \"effortthe\", \"selfidentifying\", \"symbiotic\", \"gorman\", \"sherri\", \"hominem\", \"cyborg\", \"gushes\", \"cinematic\", \"ottoman\", \"idle\", \"regency\", \"preconditioned\", \"appraisal\", \"secondhand\", \"schoolhouse\", \"americanism\", \"revenant\", \"mystical\", \"ramsey\", \"philosopher\", \"affleck\", \"haiti\", \"eyeopening\", \"dicaprio\", \"keurig\", \"lolita\", \"uncensored\", \"imam\", \"ferrell\", \"kimmel\", \"philosophers\", \"spacey\", \"hollywood\", \"episode\", \"jay\", \"andy\", \"pt\", \"weinstein\", \"howe\", \"harvey\", \"boil\", \"leonardo\", \"hannity\", \"film\", \"acr\", \"patrick\", \"radio\", \"stewart\", \"downs\", \"host\", \"actor\", \"broadcast\", \"show\", \"live\", \"hesher\", \"esoteric\", \"hosts\", \"women\", \"one\", \"political\", \"tonight\", \"hour\", \"like\", \"people\", \"news\", \"trump\", \"president\", \"room\", \"obama\", \"also\", \"video\", \"said\", \"new\", \"century\", \"us\", \"media\", \"would\", \"time\", \"america\", \"quigley\", \"youngblood\", \"homs\", \"sheikhoun\", \"downed\", \"shayrat\", \"alarmist\", \"idlib\", \"jargon\", \"colgate\", \"robber\", \"massshooting\", \"panda\", \"memoranda\", \"obtuse\", \"outtakes\", \"bragg\", \"kurdi\", \"eventsin\", \"tub\", \"pendleton\", \"catcher\", \"diesel\", \"illustrious\", \"mishap\", \"eckhart\", \"standout\", \"longerthe\", \"jolt\", \"harpers\", \"garten\", \"countryside\", \"tomahawk\", \"spacex\", \"bulgarian\", \"vargas\", \"authorizes\", \"preempted\", \"paddock\", \"danley\", \"airfield\", \"campos\", \"lombardo\", \"mandalay\", \"mgm\", \"stahl\", \"sarin\", \"las\", \"kissinger\", \"vegas\", \"carson\", \"pst\", \"water\", \"chemical\", \"alt\", \"assad\", \"deray\", \"pm\", \"puerto\", \"kelly\", \"county\", \"room\", \"informant\", \"trump\", \"cnn\", \"sheriff\", \"hotel\", \"shooter\", \"video\", \"media\", \"ben\", \"acr\", \"said\", \"new\", \"president\", \"story\", \"get\", \"news\", \"syria\", \"one\", \"another\", \"us\", \"like\", \"would\", \"people\", \"first\", \"also\", \"told\", \"wire\", \"donald\", \"time\", \"even\"], \"Freq\": [40488.0, 17452.0, 13189.0, 5690.0, 6649.0, 5358.0, 4782.0, 4390.0, 28433.0, 4782.0, 17672.0, 8888.0, 17512.0, 8244.0, 9927.0, 4904.0, 9095.0, 8964.0, 2273.0, 5943.0, 2126.0, 8656.0, 2949.0, 4167.0, 2602.0, 1927.0, 5882.0, 19209.0, 3434.0, 3055.0, 106.24552277383219, 68.91907238623676, 67.81408549874953, 69.80418573648333, 54.4454880105423, 48.949241982527184, 48.90388576827414, 40.464225037821045, 41.55128742090558, 37.337415594604494, 79.62074058052397, 32.531183903168085, 59.46982465744371, 30.155279772981803, 61.492363273111465, 139.48570379130436, 34.037092462611234, 29.023053850406768, 88.37864250385681, 29.587820964099155, 27.29081571130614, 24.466842107193436, 30.830435146902285, 22.508757513213073, 23.028605525546553, 26.50584434995977, 33.133335672280815, 46.78675822290746, 20.507464884794967, 20.543421733952524, 254.80382676631237, 99.21784021820729, 39.699018656221135, 36.06036151693105, 72.29189299231824, 42.70189509097653, 62.498206054423946, 75.04402479168394, 98.6093215547022, 2305.4460408146133, 86.43710205777131, 75.86927092988893, 268.3614583267812, 67.12518982609072, 1003.2265456113104, 113.35785569229965, 98.06962516608324, 76.6696361420403, 133.64099826585894, 59.041039914228726, 318.4139905085881, 78.94084023110783, 552.4828149985036, 322.4381668418009, 3531.3686306419027, 298.5012435979626, 431.84982484060913, 5808.989997114322, 930.1716375533484, 134.51668493145414, 1499.5218569349072, 1813.9599835880565, 897.21838664197, 1999.5194684600333, 675.4668283605308, 2047.2538529285357, 7074.388206400011, 3401.8249330952585, 1234.149422590177, 2734.5070393786905, 1792.9102830338168, 4073.766284922913, 1759.9444248663335, 1910.9729113384847, 1432.5779711846344, 404.19470428945993, 1968.6016912550983, 1827.6669237107888, 3461.333758575534, 2217.4151848843894, 1685.7316737696055, 1648.93597045927, 1408.6378041030027, 1603.5014439803435, 2083.197232107171, 2721.149421476206, 1926.0219260818947, 3086.006726005583, 2308.700369317469, 3007.4609438070156, 2374.253315826687, 1797.2026396305587, 1969.2489864335025, 1750.407633777517, 1963.2440675293817, 1808.4218092311162, 1693.9902547321733, 115.28077081936075, 126.7310709126513, 36.68530450776432, 36.097344579181915, 38.33830369887514, 54.49133049125143, 39.71903097607593, 34.799063200778285, 34.4576059921072, 22.988189754592668, 31.06358182018725, 52.666264592471464, 22.125145218892985, 21.715265434360987, 17.619495716884938, 18.546015860421168, 47.61526706253987, 19.842723629304466, 16.365836070347267, 124.44393117070847, 21.509435703378134, 33.411500891749405, 34.5413712607913, 17.496312600199293, 13.640106198746453, 22.326812110404973, 74.39108408463444, 23.32596182668299, 24.132634745144266, 35.05797549100552, 124.84989031247298, 127.05996600722644, 71.20389857361089, 40.1726613872037, 37.044197202872375, 540.2584716079451, 612.0703454598026, 53.02728487187996, 214.8118941248825, 76.02985923730895, 446.21147382420514, 267.3747126248391, 227.436995420951, 393.2161160978652, 719.1470869876954, 91.45707201946747, 165.89405840085814, 65.8464646754555, 104.48330458047279, 2575.426633200508, 102.750343010352, 126.87707404358837, 231.77474105476074, 144.71537240327552, 1056.6146067592874, 83.75505627946396, 3417.429076490901, 399.6441932353101, 2425.19252657083, 1621.4868147849436, 156.41794244184527, 608.7965953679211, 387.4525517807186, 2355.1099960576794, 972.8801679759877, 624.4841334774271, 662.5363239215094, 3000.2717440059714, 1060.7103590814202, 708.4779716205675, 3072.8559496923367, 1643.4964522478726, 1348.3776549714973, 1316.5535755026851, 1422.0625737552648, 702.9827130790501, 955.8442498992677, 3701.1487748599434, 2557.555224811934, 2959.4166445662127, 2480.394491628083, 1473.440260894708, 1635.9844043619353, 3033.1576566417248, 968.5962676203225, 843.8087329231959, 2137.3582353847182, 895.4659444966172, 946.9756863778479, 1913.679940113403, 1344.8518276212167, 1293.7492117078573, 1414.0193951893236, 1397.711062771635, 1091.9846386525178, 1196.9238832104722, 1319.067154443155, 1289.0394305279967, 1222.7262835814975, 1156.8670212857594, 1126.3987723435228, 1128.7310543395283, 146.67791068229468, 118.85666088012789, 45.23870061024655, 76.73817096912995, 34.74430575403074, 41.719847440388506, 27.4896015980419, 22.26365496000458, 39.20191312911168, 24.723727453674638, 52.29710388531694, 18.795339186827192, 26.25748901141485, 19.769018239672167, 25.9038810831825, 21.044096413613833, 19.06416426587546, 18.65563364239755, 16.771977444600765, 19.640650716679463, 17.634276313996317, 17.509615925238098, 17.366792794149774, 28.59914736673838, 24.499943070944752, 14.145178681074814, 14.936979229813979, 20.016661452792317, 23.549395452629295, 13.991268609354274, 22.23138615344425, 138.65698175757748, 116.0816173632351, 143.21133155134999, 634.4622098645879, 169.26611465974935, 257.36473695104377, 107.29560091814038, 101.91039027945821, 438.46542226272885, 1549.065139560691, 42.92213064278349, 97.67871378182991, 85.37613835619092, 60.71796514673843, 636.1419109092868, 427.12346230335953, 362.3930978951202, 149.89228652962163, 176.86545429756634, 121.8095385309092, 241.40064522693197, 58.30393151866436, 182.37093756486533, 1830.5588993868037, 2002.1672533339347, 415.13747515671486, 1005.139044439678, 742.7209665959634, 459.02313084921104, 166.6149179805759, 216.1317745762433, 1906.7886858810468, 198.7317763456685, 3235.7050730716724, 375.5131431894168, 970.9806332818988, 343.50741023460415, 2700.5821269683115, 530.1814001697825, 439.4787253127667, 1540.1793603425185, 614.6783027793531, 1162.309562873637, 4750.0496167833435, 2469.944931834048, 1496.3053232911823, 764.8913031902115, 808.0656223471536, 640.052233515784, 858.1496064797077, 891.4785648143447, 2783.6978685331555, 1022.3306160634119, 2392.2380418887547, 1581.3309331513635, 1994.2443640787333, 1949.0094887583941, 1449.3915346306294, 1270.2817133279943, 2554.7490391929305, 2059.4573156399624, 2004.7714043627166, 1350.3876360540676, 1357.7518852882126, 1484.4639193028356, 2323.420869684061, 1468.695493372901, 1317.5215328750605, 1590.9191872296292, 1495.8117476606212, 1371.4007559887925, 1243.9014113409974, 39.932006537092946, 24.10413047512384, 28.615940564239423, 57.59579449434397, 165.1989735686334, 41.10094887264598, 21.13564859338348, 35.220500022599055, 17.904162823640224, 18.79752770883633, 18.860716499636464, 27.84690419380782, 27.727915911144244, 17.734801177010883, 27.683781294521783, 16.734600003976418, 17.047429105136835, 23.884910839309267, 21.1100493855346, 20.243094067217292, 13.577525989004128, 17.971570680352052, 16.141886230334915, 13.77236139041077, 34.92658268942695, 43.95348499126047, 28.279852915691716, 27.41037271303293, 13.966727755558814, 95.21814895247499, 765.6415696272401, 28.445161636963615, 20.60561049617728, 180.86828372937592, 74.10951458717116, 36.82634454710245, 49.424039099189564, 130.96222906461364, 262.8176116655551, 43.00265920865841, 1337.6437057135477, 94.65791848270919, 54.40114445891465, 108.23817957471528, 65.45712700085497, 590.190200341135, 57.13769864775201, 53.02593919036292, 441.75387288432665, 153.49989371721514, 210.61034531406997, 137.18783887184452, 363.8220089040245, 125.32492409019345, 244.6784628065642, 375.46897261096916, 64.01909573822361, 219.06959846179686, 1616.5154949592873, 830.0438148689706, 1243.0376773337416, 312.5142252528387, 483.94234391886414, 865.0188473085991, 1254.4644584677817, 470.5139556371848, 1718.4211108973166, 1672.5428457673677, 475.2265787970365, 1235.364994601063, 1674.7125555100893, 589.1304451257527, 618.6822158748131, 1045.2974518724163, 368.2048283709859, 3814.0022385188245, 2316.142437698077, 2933.0673883212007, 540.940769313424, 1772.5766205024986, 1286.2697009238946, 4173.60638405231, 1331.5429703114737, 981.2901464625053, 1678.9460790406265, 1830.185321970513, 2653.72745794148, 1630.739115568993, 781.8717883824596, 1916.7881044250735, 2886.7272027212884, 1071.574404682686, 973.9475205892758, 2106.1031638074896, 1398.146028616014, 2009.5196876030898, 1788.9489741971918, 1447.2685870310856, 2489.8476810610823, 1260.8423750851546, 1436.0382631467198, 1519.1783057425139, 1354.4092632407994, 1284.9002868403768, 41.92921189121808, 35.5710846631461, 27.978906137215784, 90.27263131713154, 40.31910461079869, 27.41737136547027, 22.860020609255635, 20.47645139500536, 22.42093097822294, 61.69709635698973, 15.57351313046377, 103.48259443939857, 15.811121658356948, 15.442195525552599, 57.7364856771707, 14.21614591954423, 311.92340654880076, 14.743336531283934, 35.17439971993868, 26.77193008276959, 14.806539199449741, 15.30620099593981, 23.918304262129254, 12.497034843077124, 16.36543244279459, 30.65840102256798, 15.197655050709175, 16.047237892115003, 28.130266482568285, 15.017833072554476, 38.157210074160126, 607.5384237318401, 69.45608448411444, 46.70947822912811, 34.83435135070252, 604.2191679092048, 763.8876142828, 108.82938483926645, 109.43053012515914, 830.7922330906516, 1245.0179289042449, 3726.27071895616, 3387.076485395703, 346.3335227461482, 1773.3529195058413, 130.55267740215132, 1492.6299494413217, 3406.1951031710123, 3953.089226407401, 221.5787257731826, 588.9379390382043, 227.51332815851296, 466.56901551000294, 445.5822637054797, 386.60936687320185, 4194.414638581422, 685.5715388258615, 662.3797432544242, 543.8188719464017, 311.6993934088382, 908.0030994649451, 2312.3759111177765, 183.92474937373277, 332.63404435776505, 395.3655968697318, 2356.956716807872, 1576.5340983997519, 1911.081017797417, 1417.4866860092252, 1618.6511703323013, 5247.4031911287275, 9163.92843416787, 861.8931576253805, 4056.5359202079644, 3711.965097433713, 2224.2704203662715, 4224.7837549092255, 1824.7774909346083, 2209.46213855238, 3289.937212914964, 2093.776604607483, 3439.1233916173364, 2141.0789782498373, 1026.041524479858, 1406.8290828699571, 1719.5836041842147, 1927.9630642841275, 1993.7940357628556, 1953.2167118491807, 1706.079418424726, 1500.5984364096093, 80.74359635197601, 31.308045775930317, 24.80907289521276, 179.52180628448443, 37.43600670224214, 20.14677553140558, 20.81183131268742, 24.603908331486203, 29.062221447287833, 20.208196629619483, 32.903147526344696, 20.1780371427419, 20.15838507215673, 31.991292195871466, 24.503352506503553, 73.69749128366796, 21.66918174826466, 50.75433185236634, 24.55832654897319, 178.18285910928364, 28.69619884009395, 13.828987629801825, 15.889622469683983, 12.82685862533514, 12.777849459159068, 17.165210520384466, 17.474430898928848, 12.269792424042256, 12.646189336213013, 16.907857012482644, 262.1546003412591, 146.76212483084097, 115.64842157559899, 115.76144146012764, 50.19851484957314, 92.46381124978495, 43.32755076197469, 209.12227776430763, 959.8752803732897, 624.0433620940296, 536.461880281791, 145.64320042089577, 120.6426985603628, 80.13301940183607, 352.9337920155049, 52.91140537493301, 557.3637600031686, 639.7217676239476, 281.845662302551, 3300.968796160615, 1133.9279578606063, 327.8111628500849, 1451.726915746022, 628.4641322337588, 78.55296760771294, 422.1839653642045, 801.1389158504747, 208.1365465845581, 178.8669358459623, 1274.320265020738, 2135.8623926796026, 521.8733864801208, 386.805472367292, 778.371109633309, 418.22760664166873, 782.8276839243733, 7693.973025039431, 507.51461116022807, 766.2367789169167, 302.39304518113346, 2077.713114750771, 811.9236504864231, 924.5478425472495, 839.655008245672, 1079.8109065190781, 1249.5103115429763, 1554.4650514119833, 1583.0765598065495, 2308.227032516201, 1638.7096578089386, 1123.6337579702383, 2399.6943072984686, 1556.5130965277908, 1723.7961681437785, 2286.6096655110705, 1992.0935336236735, 2084.9270852890036, 2657.4915841242446, 1953.3328291729317, 1772.1507170720824, 1993.8514519225055, 1411.186488804454, 1305.840428797647, 1668.3012825059445, 1488.3677284811056, 1240.3918699400472, 1399.7894495638088, 1330.3382129692586, 1200.5121219307703, 1153.7992022773278, 244.261879398431, 132.85792524583903, 34.738939027161734, 28.988025728368452, 37.763291527034696, 44.645525402431346, 44.43409637925872, 33.515258126597345, 16.67581431493705, 24.001394196033253, 18.339117539729187, 25.5151606790143, 33.384009064798725, 621.990757007674, 15.99022509360008, 14.712469415067792, 15.053080882526393, 20.830102791952168, 21.67063863195549, 22.403055761060518, 12.811669683187203, 25.381973520692615, 12.156412272200749, 22.734292050731618, 14.98658240889785, 17.325225734510223, 30.118883629409286, 15.497326535153098, 24.87115570907, 22.357783814073134, 470.27753451479737, 778.7974959422841, 26.127960752685453, 21.96544007788361, 23.966448482156355, 374.8509396479406, 28.937974514181406, 36.975841710186, 32.113902955567, 54.49408198047999, 222.67382149993512, 113.12071354098877, 233.46414219023, 1404.8512435431928, 438.7887542253836, 96.46989056088135, 55.50646751970093, 108.3939034684409, 689.3006059204894, 67.74008235035011, 277.19692180625196, 500.681419436275, 82.8752076054062, 397.32172768412977, 441.35678866767415, 196.22285836897848, 1610.0426324341477, 2185.9189890812672, 2843.740712542155, 218.46690110726192, 584.1710122075573, 250.14829151974544, 545.7618393041303, 9124.544886169857, 1055.1868535400095, 2880.099581530541, 415.20589977044534, 844.0249621010561, 591.1470355603193, 1789.754430115168, 1024.53538578418, 1682.7752857001653, 2278.606325275432, 2248.802067882999, 675.4069043170143, 2113.2119988864515, 845.3812663812012, 625.7169472091948, 2286.6509303985176, 1826.1638575472466, 1621.738302956304, 1949.5101191418635, 1152.448028984069, 1653.6302621581367, 1594.7308816399006, 963.4697788455168, 1673.2159013487005, 1676.5321404384576, 1563.1996311610728, 1385.2426830625382, 1559.514677347466, 1305.1370513744623, 1280.5508421218385, 1107.0280121077662, 1292.1887158981685, 1046.2630140501474, 710.1398156298271, 32.58725343602137, 29.555830601632216, 36.14592401283303, 155.7686095450072, 25.676141865149205, 20.539846933285077, 41.71975756273372, 22.453454829627617, 24.67722124487052, 18.18023944123151, 22.79933796283374, 28.0092648483656, 42.11344762721787, 16.060422388709206, 15.463585694711732, 16.377591598715927, 25.164625500772228, 26.194533229836935, 21.71409465189604, 23.65808561412803, 13.002520881646134, 14.844459234214396, 26.82457623369697, 18.789712887710188, 12.94055541831897, 119.47138591795, 21.608009253425244, 14.934994175700476, 9.687800469723538, 730.8958734440649, 67.02888354754164, 58.374489586752325, 257.62937285031626, 70.76538785480227, 54.504862395715605, 115.4428108207475, 31.659808307088838, 50.260069122356306, 45.58901999356719, 224.11090996006484, 118.06190580330752, 165.58546801080186, 505.7398700581539, 325.6854094578677, 6912.144081530038, 180.51555251416667, 55.7829062777618, 62.22925790614968, 4627.52913955545, 86.59095573905051, 416.6758634857591, 382.88174693279353, 266.7327837032178, 895.2698706870351, 175.37407944645727, 229.5674891540714, 461.96421018475115, 891.5985971764411, 337.4526086315124, 287.9093720967353, 329.35871395327337, 856.7693086751575, 1115.8112898236193, 250.62961871389243, 264.56292155081036, 2454.339346929687, 407.56481893132406, 333.53532916752386, 1908.8780828859678, 1032.432780112624, 2875.183491588573, 1863.4477073180772, 1165.6048744172504, 1343.4334223532578, 1552.4279224619772, 1136.4853145271882, 1293.0220448624325, 1029.2227969454611, 1027.7966254039181, 1607.9920251432618, 1378.4252830180865, 1514.214873196542, 824.832329302909, 827.7034414870129, 1017.5283397105882, 806.18032506425, 704.5616107936507, 930.1622831300514, 840.4197408733364, 746.7198597280719, 777.9176073181804, 755.0800468631692, 750.3691892648387, 72.74675121212687, 23.71374312920018, 35.57525867883621, 19.943673991277166, 23.145046172537516, 15.248312110448937, 21.44767018052234, 14.535702247989205, 14.734388538879607, 15.508090880893539, 16.883175819551678, 15.670766089490646, 15.555244941895195, 38.2900670500542, 21.578298552925027, 12.854884524122347, 16.371671730791608, 22.239319354059987, 12.217281860472024, 15.536943698152314, 18.008916142035247, 14.601461334635884, 16.962123565162635, 10.885401818087695, 22.47445300976272, 66.99745249352175, 14.039918334044593, 15.311057077371528, 10.208517569112505, 14.446811569907425, 401.06050269073535, 66.11120218848652, 91.75214847728421, 250.60247146174365, 33.42793644563545, 51.07802691299753, 39.11404852859501, 49.47689807640359, 524.8969322522199, 126.20529928957309, 31.978558518810175, 85.15241124639142, 494.2032569919474, 33.629738116884, 1168.853894592357, 1020.5825415115053, 582.3302402986304, 367.84280917516116, 101.3855336532681, 214.88647558295264, 172.00955173041513, 186.97352936666297, 172.09021552060094, 41.55202540769851, 283.27065152460324, 673.6117982922729, 890.4483382388204, 573.7314802648216, 958.1960630872227, 163.85028870215086, 145.66144857202522, 661.0358307984301, 262.7453536872106, 583.5302003569076, 1127.7998172753457, 813.3947007959802, 296.96736309815606, 178.99912085757455, 295.3734603927663, 728.8501549812935, 1567.5570841941746, 1027.6955021074555, 320.4693788594895, 272.0235682665141, 1111.3863906143806, 1165.9826773222042, 1043.1074567887288, 1475.8744823821469, 1063.375716356241, 532.9148095815751, 921.4956242511125, 905.0380048640714, 615.9081631336242, 1051.3213057621892, 811.4598039826766, 647.4787985743785, 869.6035049300057, 724.236117239254, 730.7912567015344, 630.6384053727118, 616.0693528271751, 103.703923286737, 47.17502478850235, 93.26971160516547, 54.31195085931521, 24.754674145183607, 38.26692791224096, 47.67729118921742, 159.33099598883192, 22.73694902311597, 26.237587789605925, 37.80463923826867, 28.02435608747702, 15.984670616364328, 25.578416044061605, 16.892178942947005, 15.576974951707095, 16.329628073293485, 16.220884942014045, 16.492049865809168, 12.398451905618842, 18.584896183062867, 15.28358351191802, 19.104403045404617, 12.389670056639227, 9.537149603205679, 16.61219913220458, 11.800736137488947, 9.47176746514424, 16.60994183538501, 8.976938178831933, 14.76712150011216, 51.35497774581188, 55.54079538884568, 45.09307564307856, 32.335994812332615, 22.94307379646116, 36.35640831657803, 25.174118825486364, 240.29593261347262, 42.0532861666712, 34.73714787241102, 155.97693864872664, 44.67533286457094, 181.49803649759767, 68.67726995387186, 46.64936393498952, 113.7454653285246, 469.66797728910325, 47.20499468978875, 458.80315052247704, 295.2813972679824, 351.9109454883302, 536.1139950569633, 293.65122893696895, 274.17638633944654, 425.9770258515067, 82.05328942885828, 633.8172876328156, 133.70827692301407, 241.90424231072697, 464.37093028152066, 698.4986136085668, 180.13137185354708, 2606.1432417513033, 675.3754364564487, 237.36107529412558, 206.70169840954458, 356.0247117884191, 622.0846016725086, 1070.5502756828148, 189.89648075506983, 381.7226359837193, 1137.6663962989348, 868.3084814679447, 955.5427742751644, 640.9711470014473, 641.2363079443031, 859.4567348637124, 515.5491066826087, 828.7547550733342, 533.8518407632254, 855.3497690274596, 633.787685613764, 680.7487172351023, 645.8402791081455, 525.0367823756553, 587.8781542830604, 486.54467124730144, 458.9943349910813, 478.73033825861467, 479.5381933596233, 455.09355464660086], \"Total\": [40488.0, 17452.0, 13189.0, 5690.0, 6649.0, 5358.0, 4782.0, 4390.0, 28433.0, 4782.0, 17672.0, 8888.0, 17512.0, 8244.0, 9927.0, 4904.0, 9095.0, 8964.0, 2273.0, 5943.0, 2126.0, 8656.0, 2949.0, 4167.0, 2602.0, 1927.0, 5882.0, 19209.0, 3434.0, 3055.0, 107.07436402137313, 69.71623831225537, 68.73773154237051, 70.88988041021028, 55.29464901957295, 49.76114330587377, 49.755217236332115, 41.22418047150487, 42.438733363801894, 38.14439348893017, 81.46386795857292, 33.332187411451834, 60.97787136367914, 30.92479002120824, 63.09183940039648, 143.2755187863118, 34.96604627193144, 29.82436635470989, 90.92064769076737, 30.48706320287467, 28.18278173568968, 25.316673772955166, 31.907781223295366, 23.32343163560616, 23.865223749017165, 27.477070159955478, 34.3621742272789, 48.529526303932535, 21.27236822650271, 21.315721952714593, 264.4704771534216, 102.95887584969763, 41.25726768012735, 37.466464261041416, 75.90034115995306, 44.56662371587358, 65.76561334867945, 79.50659981247304, 106.81508495780187, 2949.2314496206805, 93.63503025837745, 81.662356287529, 312.00866319206256, 72.12022046377899, 1305.5353590806824, 127.40727673217528, 109.94440615396184, 84.58253680178301, 158.52850549129678, 63.35644274106399, 446.3338121119069, 88.54792333972864, 896.6663698153068, 480.2157515549199, 8656.884427476934, 447.45509774783835, 722.0189431137245, 19689.098585090032, 1990.9862198003168, 176.02086266122285, 4209.15824485152, 5578.859845246327, 2195.931012720008, 6442.248781115255, 1516.8346867635576, 7252.945467624593, 40488.44264352431, 14905.14180963793, 3653.254240822712, 11649.503567004189, 6452.974076366968, 20673.324319752006, 6401.618616270058, 7393.631269903224, 5054.737971091875, 801.7552978531683, 8351.063032724313, 7507.474481533863, 20082.578934538124, 10613.63217074093, 6936.059623530742, 6873.440962121723, 5358.284660024565, 6786.262609139624, 10847.165923978862, 17512.24193084386, 10072.236086609262, 25999.061931753746, 15380.02029894089, 28433.427303402925, 19209.947288393654, 9927.995489430952, 13189.185384049351, 9346.097882627868, 17672.18140426918, 15202.26212637736, 10241.581559176793, 116.87301770021772, 129.34839311120166, 37.742972871048515, 37.13917986089991, 39.45191586509518, 56.09110783556003, 40.942183998439006, 35.93851380760779, 35.825163817647685, 23.904199920567947, 32.41487193896809, 54.972066195789225, 23.181971032327688, 22.773499320448543, 18.518822001981558, 19.505537894455447, 50.22501063886905, 20.94040934347622, 17.271858466206776, 131.40710183214043, 22.744870902029646, 35.398240590639034, 36.62915146084547, 18.561347770931498, 14.507339817188678, 23.75054588045898, 79.28044790358366, 24.86487685152017, 25.753357011059595, 37.41436458542312, 133.81366522544593, 138.87565141874757, 77.03083174374791, 43.09424471409554, 39.76233196619084, 617.8775066248, 709.8708606561429, 57.51435481935874, 246.65591736178936, 84.1753912730841, 533.4533208806495, 319.830733214703, 277.8598238489429, 504.8455806398382, 1028.9942764925313, 106.98418192274893, 210.95736427550997, 75.38804551364063, 127.28192352255309, 5074.56441346228, 126.56230089460546, 162.27870223403752, 334.3406648059102, 191.64999980062495, 2046.6038258639346, 100.1092156534355, 8888.883097327302, 659.5290000785404, 6019.501187332812, 3899.5616117395834, 213.65202270304357, 1206.1086612500078, 677.7970747598383, 6997.518159248698, 2230.730596067565, 1270.9879765551161, 1388.7540922323751, 9946.449792278843, 2590.354152765958, 1555.5360539875296, 11735.188889495636, 5268.152745611318, 4360.894440404865, 4212.058371997946, 4813.745345916432, 1771.4184269421069, 2961.967164819937, 25999.061931753746, 15380.02029894089, 19689.098585090032, 15202.26212637736, 6311.772124204674, 7606.190603223848, 28433.427303402925, 3199.319847249877, 2457.921900841105, 20673.324319752006, 2819.28600125641, 3263.76213973948, 20082.578934538124, 8062.82797100306, 7390.458612266831, 9346.097882627868, 10241.581559176793, 4994.664281110087, 7963.430263050756, 17672.18140426918, 17512.24193084386, 14905.14180963793, 10847.165923978862, 10613.63217074093, 14566.410680265282, 148.6951395465659, 121.04102148822409, 46.42373462814602, 79.09178370367049, 35.82749170345986, 43.300032600210535, 28.532413731496018, 23.14229131638746, 40.79864511159426, 25.808960190213515, 54.626067447991886, 19.649209237357496, 27.464776243435622, 20.700538505507048, 27.140604607528882, 22.05064798604654, 19.97964232305539, 19.580582766279466, 17.669268003692345, 20.705126176979054, 18.603718828029915, 18.47404961929208, 18.333119289697176, 30.23189595652311, 25.90029151747799, 14.993198821652332, 15.834877687641994, 21.23502305311925, 24.989176147013026, 14.860833426321255, 23.631710066231985, 152.19341595954742, 127.80593002538349, 158.36135110097598, 750.8013797766071, 192.07737909682987, 298.298041721379, 121.04353349599639, 115.01888504316845, 532.5887141451273, 2014.73240080725, 46.95463606176814, 111.71964513121519, 97.62429530464388, 67.95213767804358, 832.7837151428806, 549.1282389366021, 466.7162248005143, 182.51966187919746, 221.5938448845913, 147.25071258211028, 312.31339119876577, 65.70726504090156, 232.30758689871956, 3055.1358059166655, 3434.901938567298, 596.8697547647067, 1699.5674524120811, 1222.3050063421033, 712.4487281023675, 215.8245291965901, 297.0616185852007, 4212.058371997946, 268.6838702517263, 8888.883097327302, 608.7613545723775, 2087.2000386618197, 558.8349475872898, 8656.884427476934, 1009.9899084769888, 782.8224525376108, 4566.071479740276, 1313.4716876932116, 3345.8958352266914, 25999.061931753746, 10072.236086609262, 4894.158234834224, 1829.4425249778958, 2029.148818078204, 1452.6276361924351, 2312.782148348586, 2590.354152765958, 20673.324319752006, 3653.254240822712, 20082.578934538124, 9102.382407957855, 14905.14180963793, 14566.410680265282, 8062.82797100306, 6115.767367757349, 28433.427303402925, 19209.947288393654, 19689.098585090032, 7393.631269903224, 7743.647070801021, 10241.581559176793, 40488.44264352431, 10613.63217074093, 7904.497878223016, 15202.26212637736, 17512.24193084386, 11649.503567004189, 8061.822050494736, 40.799085252056756, 24.924722798558, 29.59612165635768, 59.76197844628211, 171.55082513505678, 42.69734248498885, 21.984695419649942, 36.70529365082841, 18.7373753823099, 19.681327745084737, 19.774827358918298, 29.196759982875964, 29.08052109868025, 18.6288140911095, 29.095165047198563, 17.60786893735153, 18.032411263650857, 25.381564010628264, 22.455946329788883, 21.545203379328353, 14.477428682867863, 19.171204324872765, 17.235533911400978, 14.71602322556068, 37.33018818689019, 47.000238326738206, 30.275472000140244, 29.34605161658808, 14.963871900414519, 102.14589802339115, 849.6564779170097, 30.620304354942014, 22.108415176170382, 204.4470665875824, 81.65624675057047, 39.990085403994925, 54.98802499442751, 154.61942549074473, 324.5808666614313, 47.701406059334595, 1878.0558908705195, 111.29537425291677, 61.533632794671036, 131.14041629426083, 76.5146369799709, 870.9347404319806, 66.35901872899572, 61.08388686099902, 649.1856448511469, 202.1391551215361, 290.8382094603616, 178.91183597108952, 552.027997810467, 162.40841834635813, 357.5483661783809, 606.0755944856484, 76.07184853969444, 324.2329353374561, 3660.804355765723, 1649.6457083193961, 2722.349969234113, 511.8645866538656, 874.0021439096611, 1814.5445619397303, 2882.1584056499114, 874.2234988147364, 4565.582061868106, 4432.136509589461, 925.0882528731518, 3256.6773047339943, 4865.81957224687, 1254.8564393456659, 1377.0377119233779, 2844.322868143555, 680.3543317614431, 20082.578934538124, 9946.449792278843, 14566.410680265282, 1214.1614666889536, 7390.458612266831, 4566.071479740276, 28433.427303402925, 5074.56441346228, 3192.3018790262427, 8108.353106863368, 9608.075728736527, 19209.947288393654, 8061.822050494736, 2197.793049906671, 11735.188889495636, 25999.061931753746, 4112.137077443519, 3489.914845371025, 20673.324319752006, 8244.479893179578, 19689.098585090032, 15380.02029894089, 8964.237196177231, 40488.44264352431, 6894.466218508245, 11649.503567004189, 15202.26212637736, 17672.18140426918, 10241.581559176793, 42.88037317140602, 36.8194892989679, 29.01198380353737, 93.7724113867412, 41.89930777104794, 28.535277160508187, 23.807138251447217, 21.351089803617302, 23.391712109137412, 64.72386079257068, 16.42326002040972, 109.13286969889903, 16.69084803557212, 16.310155181851528, 61.06463549848554, 15.040051560618403, 330.5416156733789, 15.650562995014813, 37.43295745952959, 28.55591906640095, 15.817587450025437, 16.37595767837831, 25.622474671991203, 13.399766172899028, 17.58289734408078, 32.96117106914535, 16.358416213206382, 17.296126674110095, 30.360550076125367, 16.214395255463586, 41.20900981229037, 679.1211194004865, 76.67848670362311, 51.170149290549524, 37.948920883660115, 700.9156760779798, 893.832662588341, 121.6430451545688, 123.02010482593941, 997.9206169595303, 1524.787041378728, 4782.3433318393445, 4390.296884360428, 413.2886178750715, 2273.299774395318, 151.00492048124326, 1979.088615258263, 4782.974821555443, 5690.223832051816, 265.5073319475092, 757.6150028106588, 275.3674583129032, 606.5576679712366, 578.4094889201897, 496.6644561582956, 6649.984342419858, 930.4462930630475, 927.894528228248, 756.0490167712247, 406.6193240060654, 1408.3064192010643, 4241.205729959522, 224.85361638925298, 451.53634255108784, 554.4513866871828, 4904.0428218311445, 3052.08419657427, 4252.8525909240325, 2899.395235360186, 3600.396667169002, 17672.18140426918, 40488.44264352431, 1673.2243989333688, 17512.24193084386, 17452.97108534146, 8297.630319376853, 25999.061931753746, 6367.123213085589, 9095.939584088159, 19209.947288393654, 8964.237196177231, 28433.427303402925, 13189.185384049351, 2423.927438481814, 5500.063457435617, 9927.995489430952, 15380.02029894089, 20673.324319752006, 20082.578934538124, 15202.26212637736, 8108.353106863368, 82.44338831015922, 32.38323445099024, 25.690431032879665, 186.69901485886322, 38.94399459353066, 21.046907505317787, 21.828030420140664, 25.806499752305893, 30.51486943209769, 21.219100454481115, 34.550565753396214, 21.229987950649765, 21.24505299519581, 33.733254181406956, 25.867345947177338, 77.9006353490297, 22.942297614588366, 53.77463777128408, 26.099774004321183, 189.54430295892354, 30.608870597977564, 14.821730839194574, 17.042266117330588, 13.759701213596118, 13.763832724527363, 18.519733709279052, 18.868186259624206, 13.259038153761441, 13.670492838559344, 18.288958103983756, 284.40305952113255, 158.8730904724379, 126.94135841678856, 128.6209502950488, 54.9136523111098, 102.48044661182703, 47.323275776032744, 236.8813233956655, 1184.186131759484, 777.4217096640389, 666.5658633761436, 170.70607855294244, 139.84797419706473, 91.4997544659758, 443.6066332400549, 58.93656060278763, 745.8872778652983, 871.7527866860481, 360.4918645138762, 5358.531263623803, 1669.6043937727818, 433.32955948490485, 2397.1569572324847, 942.1280292133973, 91.60691759755747, 618.4050930691914, 1284.5669344543614, 277.9000180871652, 234.08494408881717, 2243.488240322267, 4167.146094627751, 815.6609800452121, 577.6388780934633, 1345.2482770780248, 643.8397505490971, 1483.780919488821, 28433.427303402925, 878.6765747380945, 1522.3898990882735, 450.40980774745896, 5902.546884056941, 1688.1311495457412, 2032.8183346142905, 1835.822357096182, 2760.0629045709475, 3880.1409320503185, 5770.057144201711, 6156.385807380462, 11735.188889495636, 6852.5310148970675, 3653.961737510285, 14566.410680265282, 7390.458612266831, 9608.075728736527, 19209.947288393654, 15202.26212637736, 20082.578934538124, 40488.44264352431, 20673.324319752006, 17452.97108534146, 25999.061931753746, 9946.449792278843, 8158.123830134011, 19689.098585090032, 15380.02029894089, 7689.627874965745, 17512.24193084386, 14905.14180963793, 10613.63217074093, 6786.262609139624, 245.61259818957274, 136.11994131735148, 35.609865136794674, 29.898922200212887, 38.997304397045696, 46.54725308982296, 46.35459123273524, 35.105941779845786, 17.476917118447002, 25.164909171448294, 19.23249018044872, 26.773716407792087, 35.113795579884716, 654.4071987707937, 16.84425515877978, 15.50887917723338, 15.87985058542594, 22.063941686308855, 22.95432074865685, 23.767335598760535, 13.600224048100246, 26.968264704581575, 12.92839267509189, 24.196246431533154, 15.951314225734002, 18.465628519552205, 32.1121917347301, 16.53259252043208, 26.56694090394152, 23.901399190470933, 503.50133883131457, 894.3750273114766, 28.028393802619195, 23.535953982277803, 25.775566429208713, 451.01835851149986, 31.35096816120055, 40.55977992959455, 35.10055096205546, 62.3612951236935, 286.4834523160135, 138.0279988347931, 305.15527762549647, 2162.907749216073, 623.2142054482465, 118.54455088099098, 65.32437754565584, 139.48197042351566, 1147.79390456935, 82.36348544177324, 414.76100755079085, 818.5567055719067, 104.23779748037978, 652.7690881897631, 738.8638935495987, 299.6160087445088, 3984.4460509507953, 5943.198747891389, 8244.479893179578, 350.9592928787711, 1209.0530056114, 422.5425214235019, 1135.3051130660374, 40488.44264352431, 2677.869495770046, 9927.995489430952, 823.090235620567, 2069.36214756185, 1306.5945646754792, 5882.181451508549, 2773.1850026883158, 5739.7894893956945, 8964.237196177231, 9095.939584088159, 1669.5338313991936, 11006.316805723854, 2644.0533813614584, 1671.8966634035119, 17512.24193084386, 13189.185384049351, 10613.63217074093, 17452.97108534146, 5872.865591100879, 15380.02029894089, 15202.26212637736, 4432.136509589461, 20082.578934538124, 20673.324319752006, 19209.947288393654, 14905.14180963793, 25999.061931753746, 17672.18140426918, 19689.098585090032, 10241.581559176793, 28433.427303402925, 11649.503567004189, 714.8572624495919, 33.516847983443405, 30.551031842965454, 37.391511326511555, 161.46820316826924, 26.629812505602004, 21.395362980256568, 43.50701962632683, 23.619046323036876, 26.027498869283974, 19.17916829394861, 24.06874320262304, 29.588562864799233, 44.61051937365628, 17.08435084820367, 16.462540065397175, 17.45814712755986, 26.838696182912315, 28.032414657026877, 23.25945855497092, 25.390418590500182, 13.9653144165119, 15.946942455108168, 28.858403037397906, 20.218573258559772, 13.944207964466479, 128.77339708812312, 23.344177331081383, 16.170388264987462, 10.51253585318192, 799.0016196345845, 72.74371450954924, 63.725298531468695, 291.7048908915313, 78.66887432871734, 60.3150737527642, 132.7585215027669, 34.707766439300336, 56.2311745510784, 50.91476247065016, 274.8948817767669, 145.1718667195434, 209.7539594780809, 723.2157322323649, 471.33220779147496, 17452.97108534146, 262.92181067293865, 67.90891978673558, 77.3958242173683, 13189.185384049351, 116.2625191028621, 781.8682641312623, 723.6261845898084, 472.57005307895133, 2423.927438481814, 308.4853118074872, 443.97173735983256, 1149.8427626227124, 2823.423829864051, 799.5845826492721, 653.3219990890053, 792.1885650967372, 3262.2576415091435, 4865.81957224687, 550.358001452906, 596.8085689534785, 17672.18140426918, 1150.3371492895726, 887.7716735649191, 17512.24193084386, 6367.123213085589, 40488.44264352431, 19209.947288393654, 11006.316805723854, 14905.14180963793, 20673.324319752006, 10847.165923978862, 14566.410680265282, 9095.939584088159, 9102.382407957855, 25999.061931753746, 20082.578934538124, 28433.427303402925, 6649.984342419858, 7963.430263050756, 15202.26212637736, 7606.190603223848, 5882.181451508549, 19689.098585090032, 15380.02029894089, 8108.353106863368, 11735.188889495636, 11649.503567004189, 9927.995489430952, 74.32335519969436, 24.616720439985976, 37.26407848811851, 20.911375163620026, 24.31155951667437, 16.088278330367526, 22.728116941876603, 15.449607029942916, 15.69525732648637, 16.553541574738894, 18.034120562795632, 16.776892057757003, 16.662954754805938, 41.02705591046982, 23.143648351647666, 13.79019620163434, 17.594021072930115, 23.905875349595487, 13.141240955710252, 16.71682871361029, 19.424172219927588, 15.88035887390827, 18.453473153232064, 11.867273690869247, 24.503694656275844, 73.06284187831848, 15.3304337690243, 16.740033992103907, 11.193928389365169, 15.846171738467637, 465.67032646304006, 75.3590159563073, 107.63170797349292, 310.1297893849217, 37.89353526760364, 59.454817433407314, 44.88446606857086, 57.943203841289396, 734.7448220563494, 161.7139170316545, 37.03068806078372, 110.12329868826076, 792.7591826649153, 39.371064834302295, 2126.7885117318306, 1927.777903319331, 1049.5816187420826, 638.7195663331564, 143.34262793891648, 346.4842097251182, 269.35371752991273, 307.402086412579, 282.3429423390887, 50.90643253800845, 536.9907404486092, 1777.4855959794827, 2602.151838094955, 1572.1629298375294, 3207.5552063844166, 322.3779577628435, 277.3044646863285, 2287.6066595666402, 634.7666361984438, 1996.1217343091673, 5298.613742167455, 3802.641675747897, 878.5489495663059, 396.0012266849422, 956.0213353281824, 4709.855570880967, 20673.324319752006, 11006.316805723854, 1190.097644095319, 886.4844977052215, 14905.14180963793, 19689.098585090032, 17672.18140426918, 40488.44264352431, 19209.947288393654, 3837.2054302777747, 14566.410680265282, 15202.26212637736, 6115.767367757349, 25999.061931753746, 15380.02029894089, 8158.123830134011, 28433.427303402925, 17512.24193084386, 20082.578934538124, 10847.165923978862, 10613.63217074093, 104.59888017280119, 48.05898601307361, 95.8803828516627, 55.95347059040517, 25.61849033435874, 39.62847034094667, 49.58352220503764, 166.0577094316815, 23.733551580235712, 27.40601232043585, 39.84568020187653, 29.57051301282467, 16.95505390325303, 27.2515827320613, 18.03951945999738, 16.742258577205305, 17.612248019603737, 17.52235261847318, 17.82607342443989, 13.402883546311946, 20.121312429363126, 16.612580002297708, 20.77933938354674, 13.495811304098583, 10.396314915576173, 18.126868479284923, 12.879458192426684, 10.340539159357952, 18.142055069447665, 9.850859921112512, 16.219083188922134, 57.307095286255766, 62.513499962794405, 50.61667819006138, 36.21556571978003, 25.89229581004971, 42.65467389697256, 28.724977207458277, 349.1017270965615, 50.505440187355774, 41.05162835479044, 226.63787132598378, 55.194622458996584, 272.43107079651134, 91.51789076416364, 59.49373418855723, 171.83284743763116, 947.293622590767, 61.67671918275605, 991.6775252235875, 579.049535658202, 781.8682641312623, 1419.3248657923382, 683.6535420727273, 625.0622944629433, 1156.2550855599175, 128.7260473220881, 2650.110506903367, 283.1986645217209, 697.5128431079315, 1939.6475127780186, 3837.2054302777747, 496.30204620296024, 40488.44264352431, 4904.0428218311445, 845.6009083384753, 729.7783491863256, 2029.148818078204, 6115.767367757349, 17512.24193084386, 639.8551906079647, 2602.151838094955, 25999.061931753746, 15380.02029894089, 19209.947288393654, 8297.630319376853, 8351.063032724313, 17672.18140426918, 5358.531263623803, 20673.324319752006, 7119.617130869483, 28433.427303402925, 14905.14180963793, 20082.578934538124, 19689.098585090032, 9102.382407957855, 15202.26212637736, 7963.430263050756, 7606.190603223848, 9927.995489430952, 10847.165923978862, 11649.503567004189], \"Category\": [\"Default\", \"Default\", \"Default\", \"Default\", \"Default\", \"Default\", \"Default\", \"Default\", \"Default\", \"Default\", \"Default\", \"Default\", \"Default\", \"Default\", \"Default\", \"Default\", \"Default\", \"Default\", \"Default\", \"Default\", \"Default\", \"Default\", \"Default\", \"Default\", \"Default\", \"Default\", \"Default\", \"Default\", \"Default\", \"Default\", \"Topic1\", \"Topic1\", \"Topic1\", \"Topic1\", \"Topic1\", \"Topic1\", \"Topic1\", \"Topic1\", \"Topic1\", \"Topic1\", \"Topic1\", \"Topic1\", \"Topic1\", \"Topic1\", \"Topic1\", \"Topic1\", \"Topic1\", \"Topic1\", \"Topic1\", \"Topic1\", \"Topic1\", \"Topic1\", \"Topic1\", \"Topic1\", \"Topic1\", \"Topic1\", \"Topic1\", \"Topic1\", \"Topic1\", \"Topic1\", \"Topic1\", \"Topic1\", \"Topic1\", \"Topic1\", \"Topic1\", \"Topic1\", \"Topic1\", \"Topic1\", \"Topic1\", \"Topic1\", \"Topic1\", \"Topic1\", \"Topic1\", \"Topic1\", \"Topic1\", \"Topic1\", \"Topic1\", \"Topic1\", \"Topic1\", \"Topic1\", \"Topic1\", \"Topic1\", \"Topic1\", \"Topic1\", \"Topic1\", \"Topic1\", \"Topic1\", \"Topic1\", \"Topic1\", \"Topic1\", \"Topic1\", \"Topic1\", \"Topic1\", \"Topic1\", \"Topic1\", \"Topic1\", \"Topic1\", \"Topic1\", \"Topic1\", \"Topic1\", \"Topic1\", \"Topic1\", \"Topic1\", \"Topic1\", \"Topic1\", \"Topic1\", \"Topic1\", \"Topic1\", \"Topic1\", \"Topic1\", \"Topic1\", \"Topic1\", \"Topic1\", \"Topic1\", \"Topic1\", \"Topic1\", \"Topic1\", \"Topic1\", \"Topic1\", \"Topic1\", \"Topic1\", \"Topic1\", \"Topic1\", \"Topic1\", \"Topic1\", \"Topic1\", \"Topic1\", \"Topic2\", \"Topic2\", \"Topic2\", \"Topic2\", \"Topic2\", \"Topic2\", \"Topic2\", \"Topic2\", \"Topic2\", \"Topic2\", \"Topic2\", \"Topic2\", \"Topic2\", \"Topic2\", \"Topic2\", \"Topic2\", \"Topic2\", \"Topic2\", \"Topic2\", \"Topic2\", \"Topic2\", \"Topic2\", \"Topic2\", \"Topic2\", \"Topic2\", \"Topic2\", \"Topic2\", \"Topic2\", \"Topic2\", \"Topic2\", \"Topic2\", \"Topic2\", \"Topic2\", \"Topic2\", \"Topic2\", \"Topic2\", \"Topic2\", \"Topic2\", \"Topic2\", \"Topic2\", \"Topic2\", \"Topic2\", \"Topic2\", \"Topic2\", \"Topic2\", \"Topic2\", \"Topic2\", \"Topic2\", \"Topic2\", \"Topic2\", \"Topic2\", \"Topic2\", \"Topic2\", \"Topic2\", \"Topic2\", \"Topic2\", \"Topic2\", \"Topic2\", \"Topic2\", \"Topic2\", \"Topic2\", \"Topic2\", \"Topic2\", \"Topic2\", \"Topic2\", \"Topic2\", \"Topic2\", \"Topic2\", \"Topic2\", \"Topic2\", \"Topic2\", \"Topic2\", \"Topic2\", \"Topic2\", \"Topic2\", \"Topic2\", \"Topic2\", \"Topic2\", \"Topic2\", \"Topic2\", \"Topic2\", \"Topic2\", \"Topic2\", \"Topic2\", \"Topic2\", \"Topic2\", \"Topic2\", \"Topic2\", \"Topic2\", \"Topic2\", \"Topic2\", \"Topic2\", \"Topic2\", \"Topic2\", \"Topic2\", \"Topic2\", \"Topic2\", \"Topic2\", \"Topic2\", \"Topic2\", \"Topic2\", \"Topic2\", \"Topic3\", \"Topic3\", \"Topic3\", \"Topic3\", \"Topic3\", \"Topic3\", \"Topic3\", \"Topic3\", \"Topic3\", \"Topic3\", \"Topic3\", \"Topic3\", \"Topic3\", \"Topic3\", \"Topic3\", \"Topic3\", \"Topic3\", \"Topic3\", \"Topic3\", \"Topic3\", \"Topic3\", \"Topic3\", \"Topic3\", \"Topic3\", \"Topic3\", \"Topic3\", \"Topic3\", \"Topic3\", \"Topic3\", \"Topic3\", \"Topic3\", \"Topic3\", \"Topic3\", \"Topic3\", \"Topic3\", \"Topic3\", \"Topic3\", \"Topic3\", \"Topic3\", \"Topic3\", \"Topic3\", \"Topic3\", \"Topic3\", \"Topic3\", \"Topic3\", \"Topic3\", \"Topic3\", \"Topic3\", \"Topic3\", \"Topic3\", \"Topic3\", \"Topic3\", \"Topic3\", \"Topic3\", \"Topic3\", \"Topic3\", \"Topic3\", \"Topic3\", \"Topic3\", \"Topic3\", \"Topic3\", \"Topic3\", \"Topic3\", \"Topic3\", \"Topic3\", \"Topic3\", \"Topic3\", \"Topic3\", \"Topic3\", \"Topic3\", \"Topic3\", \"Topic3\", \"Topic3\", \"Topic3\", \"Topic3\", \"Topic3\", \"Topic3\", \"Topic3\", \"Topic3\", \"Topic3\", \"Topic3\", \"Topic3\", \"Topic3\", \"Topic3\", \"Topic3\", \"Topic3\", \"Topic3\", \"Topic3\", \"Topic3\", \"Topic3\", \"Topic3\", \"Topic3\", \"Topic3\", \"Topic3\", \"Topic3\", \"Topic3\", \"Topic3\", \"Topic3\", \"Topic3\", \"Topic3\", \"Topic3\", \"Topic3\", \"Topic3\", \"Topic4\", \"Topic4\", \"Topic4\", \"Topic4\", \"Topic4\", \"Topic4\", \"Topic4\", \"Topic4\", \"Topic4\", \"Topic4\", \"Topic4\", \"Topic4\", \"Topic4\", \"Topic4\", \"Topic4\", \"Topic4\", \"Topic4\", \"Topic4\", \"Topic4\", \"Topic4\", \"Topic4\", \"Topic4\", \"Topic4\", \"Topic4\", \"Topic4\", \"Topic4\", \"Topic4\", \"Topic4\", \"Topic4\", \"Topic4\", \"Topic4\", \"Topic4\", \"Topic4\", \"Topic4\", \"Topic4\", \"Topic4\", \"Topic4\", \"Topic4\", \"Topic4\", \"Topic4\", \"Topic4\", \"Topic4\", \"Topic4\", \"Topic4\", \"Topic4\", \"Topic4\", \"Topic4\", \"Topic4\", \"Topic4\", \"Topic4\", \"Topic4\", \"Topic4\", \"Topic4\", \"Topic4\", \"Topic4\", \"Topic4\", \"Topic4\", \"Topic4\", \"Topic4\", \"Topic4\", \"Topic4\", \"Topic4\", \"Topic4\", \"Topic4\", \"Topic4\", \"Topic4\", \"Topic4\", \"Topic4\", \"Topic4\", \"Topic4\", \"Topic4\", \"Topic4\", \"Topic4\", \"Topic4\", \"Topic4\", \"Topic4\", \"Topic4\", \"Topic4\", \"Topic4\", \"Topic4\", \"Topic4\", \"Topic4\", \"Topic4\", \"Topic4\", \"Topic4\", \"Topic4\", \"Topic4\", \"Topic4\", \"Topic4\", \"Topic4\", \"Topic4\", \"Topic4\", \"Topic4\", \"Topic4\", \"Topic4\", \"Topic4\", \"Topic4\", \"Topic4\", \"Topic4\", \"Topic4\", \"Topic4\", \"Topic4\", \"Topic4\", \"Topic4\", \"Topic5\", \"Topic5\", \"Topic5\", \"Topic5\", \"Topic5\", \"Topic5\", \"Topic5\", \"Topic5\", \"Topic5\", \"Topic5\", \"Topic5\", \"Topic5\", \"Topic5\", \"Topic5\", \"Topic5\", \"Topic5\", \"Topic5\", \"Topic5\", \"Topic5\", \"Topic5\", \"Topic5\", \"Topic5\", \"Topic5\", \"Topic5\", \"Topic5\", \"Topic5\", \"Topic5\", \"Topic5\", \"Topic5\", \"Topic5\", \"Topic5\", \"Topic5\", \"Topic5\", \"Topic5\", \"Topic5\", \"Topic5\", \"Topic5\", \"Topic5\", \"Topic5\", \"Topic5\", \"Topic5\", \"Topic5\", \"Topic5\", \"Topic5\", \"Topic5\", \"Topic5\", \"Topic5\", \"Topic5\", \"Topic5\", \"Topic5\", \"Topic5\", \"Topic5\", \"Topic5\", \"Topic5\", \"Topic5\", \"Topic5\", \"Topic5\", \"Topic5\", \"Topic5\", \"Topic5\", \"Topic5\", \"Topic5\", \"Topic5\", \"Topic5\", \"Topic5\", \"Topic5\", \"Topic5\", \"Topic5\", \"Topic5\", \"Topic5\", \"Topic5\", \"Topic5\", \"Topic5\", \"Topic5\", \"Topic5\", \"Topic5\", \"Topic5\", \"Topic5\", \"Topic5\", \"Topic5\", \"Topic5\", \"Topic5\", \"Topic5\", \"Topic5\", \"Topic5\", \"Topic5\", \"Topic5\", \"Topic5\", \"Topic5\", \"Topic5\", \"Topic5\", \"Topic6\", \"Topic6\", \"Topic6\", \"Topic6\", \"Topic6\", \"Topic6\", \"Topic6\", \"Topic6\", \"Topic6\", \"Topic6\", \"Topic6\", \"Topic6\", \"Topic6\", \"Topic6\", \"Topic6\", \"Topic6\", \"Topic6\", \"Topic6\", \"Topic6\", \"Topic6\", \"Topic6\", \"Topic6\", \"Topic6\", \"Topic6\", \"Topic6\", \"Topic6\", \"Topic6\", \"Topic6\", \"Topic6\", \"Topic6\", \"Topic6\", \"Topic6\", \"Topic6\", \"Topic6\", \"Topic6\", \"Topic6\", \"Topic6\", \"Topic6\", \"Topic6\", \"Topic6\", \"Topic6\", \"Topic6\", \"Topic6\", \"Topic6\", \"Topic6\", \"Topic6\", \"Topic6\", \"Topic6\", \"Topic6\", \"Topic6\", \"Topic6\", \"Topic6\", \"Topic6\", \"Topic6\", \"Topic6\", \"Topic6\", \"Topic6\", \"Topic6\", \"Topic6\", \"Topic6\", \"Topic6\", \"Topic6\", \"Topic6\", \"Topic6\", \"Topic6\", \"Topic6\", \"Topic6\", \"Topic6\", \"Topic6\", \"Topic6\", \"Topic6\", \"Topic6\", \"Topic6\", \"Topic6\", \"Topic6\", \"Topic6\", \"Topic6\", \"Topic6\", \"Topic6\", \"Topic6\", \"Topic6\", \"Topic6\", \"Topic6\", \"Topic6\", \"Topic6\", \"Topic6\", \"Topic6\", \"Topic6\", \"Topic6\", \"Topic6\", \"Topic6\", \"Topic6\", \"Topic6\", \"Topic6\", \"Topic6\", \"Topic6\", \"Topic6\", \"Topic6\", \"Topic6\", \"Topic6\", \"Topic7\", \"Topic7\", \"Topic7\", \"Topic7\", \"Topic7\", \"Topic7\", \"Topic7\", \"Topic7\", \"Topic7\", \"Topic7\", \"Topic7\", \"Topic7\", \"Topic7\", \"Topic7\", \"Topic7\", \"Topic7\", \"Topic7\", \"Topic7\", \"Topic7\", \"Topic7\", \"Topic7\", \"Topic7\", \"Topic7\", \"Topic7\", \"Topic7\", \"Topic7\", \"Topic7\", \"Topic7\", \"Topic7\", \"Topic7\", \"Topic7\", \"Topic7\", \"Topic7\", \"Topic7\", \"Topic7\", \"Topic7\", \"Topic7\", \"Topic7\", \"Topic7\", \"Topic7\", \"Topic7\", \"Topic7\", \"Topic7\", \"Topic7\", \"Topic7\", \"Topic7\", \"Topic7\", \"Topic7\", \"Topic7\", \"Topic7\", \"Topic7\", \"Topic7\", \"Topic7\", \"Topic7\", \"Topic7\", \"Topic7\", \"Topic7\", \"Topic7\", \"Topic7\", \"Topic7\", \"Topic7\", \"Topic7\", \"Topic7\", \"Topic7\", \"Topic7\", \"Topic7\", \"Topic7\", \"Topic7\", \"Topic7\", \"Topic7\", \"Topic7\", \"Topic7\", \"Topic7\", \"Topic7\", \"Topic7\", \"Topic7\", \"Topic7\", \"Topic7\", \"Topic7\", \"Topic7\", \"Topic7\", \"Topic7\", \"Topic7\", \"Topic7\", \"Topic7\", \"Topic7\", \"Topic7\", \"Topic7\", \"Topic7\", \"Topic7\", \"Topic7\", \"Topic7\", \"Topic7\", \"Topic7\", \"Topic7\", \"Topic7\", \"Topic8\", \"Topic8\", \"Topic8\", \"Topic8\", \"Topic8\", \"Topic8\", \"Topic8\", \"Topic8\", \"Topic8\", \"Topic8\", \"Topic8\", \"Topic8\", \"Topic8\", \"Topic8\", \"Topic8\", \"Topic8\", \"Topic8\", \"Topic8\", \"Topic8\", \"Topic8\", \"Topic8\", \"Topic8\", \"Topic8\", \"Topic8\", \"Topic8\", \"Topic8\", \"Topic8\", \"Topic8\", \"Topic8\", \"Topic8\", \"Topic8\", \"Topic8\", \"Topic8\", \"Topic8\", \"Topic8\", \"Topic8\", \"Topic8\", \"Topic8\", \"Topic8\", \"Topic8\", \"Topic8\", \"Topic8\", \"Topic8\", \"Topic8\", \"Topic8\", \"Topic8\", \"Topic8\", \"Topic8\", \"Topic8\", \"Topic8\", \"Topic8\", \"Topic8\", \"Topic8\", \"Topic8\", \"Topic8\", \"Topic8\", \"Topic8\", \"Topic8\", \"Topic8\", \"Topic8\", \"Topic8\", \"Topic8\", \"Topic8\", \"Topic8\", \"Topic8\", \"Topic8\", \"Topic8\", \"Topic8\", \"Topic8\", \"Topic8\", \"Topic8\", \"Topic8\", \"Topic8\", \"Topic8\", \"Topic8\", \"Topic8\", \"Topic8\", \"Topic8\", \"Topic8\", \"Topic8\", \"Topic8\", \"Topic8\", \"Topic8\", \"Topic8\", \"Topic8\", \"Topic8\", \"Topic8\", \"Topic8\", \"Topic8\", \"Topic8\", \"Topic8\", \"Topic8\", \"Topic8\", \"Topic8\", \"Topic9\", \"Topic9\", \"Topic9\", \"Topic9\", \"Topic9\", \"Topic9\", \"Topic9\", \"Topic9\", \"Topic9\", \"Topic9\", \"Topic9\", \"Topic9\", \"Topic9\", \"Topic9\", \"Topic9\", \"Topic9\", \"Topic9\", \"Topic9\", \"Topic9\", \"Topic9\", \"Topic9\", \"Topic9\", \"Topic9\", \"Topic9\", \"Topic9\", \"Topic9\", \"Topic9\", \"Topic9\", \"Topic9\", \"Topic9\", \"Topic9\", \"Topic9\", \"Topic9\", \"Topic9\", \"Topic9\", \"Topic9\", \"Topic9\", \"Topic9\", \"Topic9\", \"Topic9\", \"Topic9\", \"Topic9\", \"Topic9\", \"Topic9\", \"Topic9\", \"Topic9\", \"Topic9\", \"Topic9\", \"Topic9\", \"Topic9\", \"Topic9\", \"Topic9\", \"Topic9\", \"Topic9\", \"Topic9\", \"Topic9\", \"Topic9\", \"Topic9\", \"Topic9\", \"Topic9\", \"Topic9\", \"Topic9\", \"Topic9\", \"Topic9\", \"Topic9\", \"Topic9\", \"Topic9\", \"Topic9\", \"Topic9\", \"Topic9\", \"Topic9\", \"Topic9\", \"Topic9\", \"Topic9\", \"Topic9\", \"Topic9\", \"Topic9\", \"Topic9\", \"Topic9\", \"Topic9\", \"Topic9\", \"Topic9\", \"Topic9\", \"Topic9\", \"Topic9\", \"Topic9\", \"Topic9\", \"Topic9\", \"Topic9\", \"Topic9\", \"Topic9\", \"Topic10\", \"Topic10\", \"Topic10\", \"Topic10\", \"Topic10\", \"Topic10\", \"Topic10\", \"Topic10\", \"Topic10\", \"Topic10\", \"Topic10\", \"Topic10\", \"Topic10\", \"Topic10\", \"Topic10\", \"Topic10\", \"Topic10\", \"Topic10\", \"Topic10\", \"Topic10\", \"Topic10\", \"Topic10\", \"Topic10\", \"Topic10\", \"Topic10\", \"Topic10\", \"Topic10\", \"Topic10\", \"Topic10\", \"Topic10\", \"Topic10\", \"Topic10\", \"Topic10\", \"Topic10\", \"Topic10\", \"Topic10\", \"Topic10\", \"Topic10\", \"Topic10\", \"Topic10\", \"Topic10\", \"Topic10\", \"Topic10\", \"Topic10\", \"Topic10\", \"Topic10\", \"Topic10\", \"Topic10\", \"Topic10\", \"Topic10\", \"Topic10\", \"Topic10\", \"Topic10\", \"Topic10\", \"Topic10\", \"Topic10\", \"Topic10\", \"Topic10\", \"Topic10\", \"Topic10\", \"Topic10\", \"Topic10\", \"Topic10\", \"Topic10\", \"Topic10\", \"Topic10\", \"Topic10\", \"Topic10\", \"Topic10\", \"Topic10\", \"Topic10\", \"Topic10\", \"Topic10\", \"Topic10\", \"Topic10\", \"Topic10\", \"Topic10\", \"Topic10\", \"Topic10\", \"Topic10\", \"Topic10\", \"Topic10\", \"Topic10\", \"Topic10\", \"Topic10\", \"Topic10\", \"Topic10\", \"Topic10\", \"Topic10\", \"Topic10\", \"Topic10\", \"Topic10\"], \"logprob\": [30.0, 29.0, 28.0, 27.0, 26.0, 25.0, 24.0, 23.0, 22.0, 21.0, 20.0, 19.0, 18.0, 17.0, 16.0, 15.0, 14.0, 13.0, 12.0, 11.0, 10.0, 9.0, 8.0, 7.0, 6.0, 5.0, 4.0, 3.0, 2.0, 1.0, -8.9146, -9.3475, -9.3636, -9.3347, -9.5832, -9.6896, -9.6905, -9.88, -9.8535, -9.9604, -9.2031, -10.0982, -9.4949, -10.174, -9.4615, -8.6424, -10.0529, -10.2123, -9.0988, -10.193, -10.2738, -10.3831, -10.1519, -10.4665, -10.4437, -10.303, -10.0799, -9.7348, -10.5596, -10.5579, -8.0399, -8.9831, -9.8991, -9.9952, -9.2997, -9.8261, -9.4453, -9.2623, -8.9892, -5.8374, -9.121, -9.2514, -7.9881, -9.3738, -6.6694, -8.8498, -8.9947, -9.2409, -8.6852, -9.5022, -7.817, -9.2117, -7.266, -7.8045, -5.411, -7.8816, -7.5123, -4.9132, -6.745, -8.6787, -6.2675, -6.0771, -6.7811, -5.9797, -7.065, -5.9561, -4.7162, -5.4483, -6.4623, -5.6667, -6.0888, -5.2681, -6.1074, -6.025, -6.3132, -7.5785, -5.9953, -6.0696, -5.431, -5.8763, -6.1504, -6.1725, -6.33, -6.2004, -5.9387, -5.6716, -6.0172, -5.5458, -5.836, -5.5715, -5.808, -6.0864, -5.995, -6.1128, -5.998, -6.0802, -6.1456, -8.7611, -8.6664, -9.9061, -9.9223, -9.862, -9.5104, -9.8267, -9.9589, -9.9688, -10.3735, -10.0724, -9.5445, -10.4118, -10.4305, -10.6395, -10.5882, -9.6453, -10.5206, -10.7133, -8.6846, -10.44, -9.9996, -9.9663, -10.6465, -10.8955, -10.4027, -9.1991, -10.3589, -10.3249, -9.9515, -8.6814, -8.6638, -9.2429, -9.8153, -9.8964, -7.2164, -7.0916, -9.5377, -8.1387, -9.1774, -7.4077, -7.9198, -8.0816, -7.5341, -6.9304, -8.9926, -8.3971, -9.3212, -8.8595, -5.6547, -8.8762, -8.6653, -8.0627, -8.5337, -6.5457, -9.0806, -5.3718, -7.5179, -5.7148, -6.1174, -8.456, -7.097, -7.5489, -5.7441, -6.6282, -7.0716, -7.0124, -5.502, -6.5418, -6.9454, -5.4781, -6.1039, -6.3018, -6.3257, -6.2486, -6.9532, -6.6459, -5.2921, -5.6617, -5.5157, -5.6923, -6.2131, -6.1085, -5.4911, -6.6326, -6.7706, -5.8412, -6.7111, -6.6552, -5.9517, -6.3044, -6.3432, -6.2543, -6.2659, -6.5127, -6.421, -6.3238, -6.3468, -6.3996, -6.455, -6.4817, -6.4796, -8.4366, -8.647, -9.6129, -9.0845, -9.8769, -9.6939, -10.1111, -10.3219, -9.7562, -10.2171, -9.4679, -10.4913, -10.1569, -10.4408, -10.1705, -10.3783, -10.4771, -10.4987, -10.6052, -10.4473, -10.555, -10.5621, -10.5703, -10.0715, -10.2262, -10.7755, -10.721, -10.4283, -10.2658, -10.7865, -10.3234, -8.4929, -8.6706, -8.4606, -6.9721, -8.2934, -7.8744, -8.7493, -8.8008, -7.3416, -6.0795, -9.6655, -8.8432, -8.9778, -9.3186, -6.9695, -7.3678, -7.5322, -8.415, -8.2495, -8.6224, -7.9384, -9.3592, -8.2188, -5.9125, -5.8229, -7.3963, -6.512, -6.8146, -7.2958, -8.3092, -8.049, -5.8717, -8.1329, -5.3429, -7.4966, -6.5466, -7.5857, -5.5237, -7.1517, -7.3393, -6.0852, -7.0038, -6.3667, -4.959, -5.6129, -6.1141, -6.7852, -6.7302, -6.9633, -6.6701, -6.632, -5.4933, -6.495, -5.6449, -6.0589, -5.8269, -5.8498, -6.146, -6.2779, -5.5792, -5.7947, -5.8216, -6.2167, -6.2113, -6.1221, -5.6741, -6.1328, -6.2414, -6.0528, -6.1145, -6.2013, -6.2989, -9.6525, -10.1572, -9.9857, -9.2862, -8.2325, -9.6236, -10.2887, -9.778, -10.4546, -10.4059, -10.4025, -10.0129, -10.0172, -10.4641, -10.0188, -10.5222, -10.5036, -10.1664, -10.2899, -10.3318, -10.7312, -10.4508, -10.5582, -10.717, -9.7864, -9.5565, -9.9975, -10.0287, -10.703, -8.7835, -6.6989, -9.9917, -10.3141, -8.1419, -9.0341, -9.7334, -9.4392, -8.4647, -7.7682, -9.5784, -6.141, -8.7894, -9.3432, -8.6553, -9.1582, -6.9592, -9.2942, -9.3688, -7.2489, -8.3059, -7.9896, -8.4183, -7.443, -8.5087, -7.8397, -7.4115, -9.1804, -7.9502, -5.9516, -6.6182, -6.2143, -7.595, -7.1577, -6.5769, -6.2052, -7.1858, -5.8905, -5.9175, -7.1758, -6.2205, -5.9162, -6.961, -6.912, -6.3876, -7.431, -5.0932, -5.592, -5.3558, -7.0463, -5.8594, -6.1801, -5.0031, -6.1455, -6.4508, -5.9137, -5.8275, -5.4559, -5.9428, -6.6779, -5.7812, -5.3718, -6.3627, -6.4583, -5.687, -6.0967, -5.734, -5.8502, -6.0622, -5.5197, -6.2001, -6.07, -6.0137, -6.1285, -6.1812, -9.5487, -9.7131, -9.9532, -8.7818, -9.5878, -9.9735, -10.1553, -10.2654, -10.1747, -9.1624, -10.5391, -8.6452, -10.5239, -10.5475, -9.2288, -10.6303, -7.5419, -10.5939, -9.7243, -9.9973, -10.5896, -10.5564, -10.11, -10.7592, -10.4895, -9.8617, -10.5635, -10.5091, -9.9478, -10.5754, -9.6429, -6.8752, -9.044, -9.4407, -9.734, -6.8807, -6.6462, -8.5949, -8.5894, -6.5623, -6.1577, -5.0615, -5.1569, -7.4372, -5.804, -8.4129, -5.9764, -5.1513, -5.0024, -7.8839, -6.9063, -7.8574, -7.1392, -7.1853, -7.3272, -4.9431, -6.7544, -6.7888, -6.986, -7.5426, -6.4734, -5.5386, -8.0701, -7.4776, -7.3048, -5.5195, -5.9217, -5.7292, -6.028, -5.8953, -4.7192, -4.1616, -6.5255, -4.9766, -5.0653, -5.5775, -4.9359, -5.7754, -5.5841, -5.186, -5.6379, -5.1417, -5.6156, -6.3512, -6.0356, -5.8348, -5.7204, -5.6869, -5.7074, -5.8427, -5.971, -8.7543, -9.7017, -9.9344, -7.9553, -9.5229, -10.1425, -10.11, -9.9427, -9.7761, -10.1395, -9.652, -10.141, -10.142, -9.6801, -9.9468, -8.8456, -10.0697, -9.2186, -9.9445, -7.9628, -9.7888, -10.5188, -10.3799, -10.594, -10.5979, -10.3027, -10.2848, -10.6384, -10.6082, -10.3178, -7.5766, -8.1568, -8.395, -8.394, -9.2296, -8.6188, -9.3768, -7.8027, -6.2788, -6.7094, -6.8606, -8.1644, -8.3527, -8.7619, -7.2793, -9.177, -6.8224, -6.6845, -7.5042, -5.0436, -6.1121, -7.3531, -5.8651, -6.7023, -8.7818, -7.1001, -6.4595, -7.8074, -7.9589, -5.9954, -5.4789, -6.8881, -7.1876, -6.4884, -7.1095, -6.4827, -4.1974, -6.916, -6.5041, -7.4338, -5.5065, -6.4462, -6.3163, -6.4126, -6.161, -6.0151, -5.7967, -5.7784, -5.4013, -5.7439, -6.1212, -5.3625, -5.7954, -5.6933, -5.4107, -5.5486, -5.5031, -5.2604, -5.5683, -5.6656, -5.5477, -5.8934, -5.971, -5.726, -5.8401, -6.0224, -5.9015, -5.9524, -6.0551, -6.0948, -7.5644, -8.1734, -9.5148, -9.6958, -9.4313, -9.2639, -9.2687, -9.5507, -10.2487, -9.8846, -10.1537, -9.8234, -9.5546, -6.6298, -10.2907, -10.374, -10.3511, -10.0263, -9.9867, -9.9535, -10.5123, -9.8286, -10.5648, -9.9388, -10.3555, -10.2105, -9.6575, -10.322, -9.849, -9.9555, -6.9094, -6.4049, -9.7997, -9.9732, -9.886, -7.1362, -9.6975, -9.4524, -9.5934, -9.0646, -7.657, -8.3342, -7.6097, -5.815, -6.9787, -8.4935, -9.0462, -8.3769, -6.527, -8.847, -7.438, -6.8467, -8.6454, -7.0779, -6.9728, -7.7834, -5.6787, -5.3729, -5.1098, -7.6761, -6.6925, -7.5406, -6.7605, -3.944, -6.1012, -5.0971, -7.0339, -6.3245, -6.6806, -5.5729, -6.1307, -5.6345, -5.3314, -5.3445, -6.5474, -5.4067, -6.3229, -6.6238, -5.3278, -5.5527, -5.6714, -5.4874, -6.013, -5.652, -5.6882, -6.1921, -5.6402, -5.6382, -5.7082, -5.8291, -5.7106, -5.8886, -5.9076, -6.0533, -5.8986, -6.1097, -6.3364, -9.4179, -9.5156, -9.3143, -7.8535, -9.6563, -9.8795, -9.1709, -9.7904, -9.696, -10.0015, -9.7751, -9.5693, -9.1615, -10.1255, -10.1634, -10.1059, -9.6764, -9.6363, -9.8239, -9.7382, -10.3367, -10.2042, -9.6125, -9.9686, -10.3415, -8.1188, -9.8288, -10.1982, -10.631, -6.3076, -8.6967, -8.835, -7.3503, -8.6425, -8.9036, -8.1531, -9.4468, -8.9847, -9.0822, -7.4897, -8.1307, -7.7924, -6.6758, -7.1159, -4.0608, -7.706, -8.8804, -8.771, -4.4621, -8.4407, -6.8696, -6.9541, -7.3156, -6.1047, -7.7349, -7.4657, -6.7664, -6.1088, -7.0804, -7.2392, -7.1047, -6.1487, -5.8845, -7.3779, -7.3238, -5.0962, -6.8917, -7.0921, -5.3476, -5.9622, -4.938, -5.3717, -5.8409, -5.6989, -5.5543, -5.8662, -5.7371, -5.9653, -5.9667, -5.5191, -5.6732, -5.5792, -6.1867, -6.1832, -5.9767, -6.2096, -6.3443, -6.0665, -6.168, -6.2862, -6.2452, -6.275, -6.2813, -8.3115, -9.4324, -9.0268, -9.6056, -9.4567, -9.874, -9.5329, -9.9219, -9.9083, -9.8571, -9.7722, -9.8467, -9.8541, -8.9533, -9.5268, -10.0448, -9.8029, -9.4966, -10.0956, -9.8553, -9.7076, -9.9174, -9.7675, -10.2111, -9.4861, -8.3938, -9.9566, -9.8699, -10.2753, -9.928, -6.6044, -8.4071, -8.0794, -7.0746, -9.0891, -8.6651, -8.932, -8.697, -6.3353, -7.7606, -9.1334, -8.154, -6.3955, -9.0831, -5.5347, -5.6704, -6.2314, -6.6908, -7.9796, -7.2284, -7.4509, -7.3675, -7.4505, -8.8715, -6.9521, -6.0858, -5.8068, -6.2463, -5.7334, -7.4995, -7.6172, -6.1047, -7.0273, -6.2294, -5.5705, -5.8973, -6.9049, -7.4111, -6.9102, -6.007, -5.2412, -5.6634, -6.8287, -6.9926, -5.5851, -5.5372, -5.6485, -5.3015, -5.6293, -6.3201, -5.7725, -5.7905, -6.1754, -5.6407, -5.8997, -6.1254, -5.8304, -6.0134, -6.0044, -6.1518, -6.1751, -7.7693, -8.557, -7.8753, -8.4161, -9.2018, -8.7662, -8.5464, -7.3398, -9.2868, -9.1436, -8.7784, -9.0777, -9.6392, -9.1691, -9.584, -9.665, -9.6178, -9.6245, -9.6079, -9.8933, -9.4885, -9.684, -9.4609, -9.894, -10.1556, -9.6007, -9.9427, -10.1625, -9.6008, -10.2162, -9.7184, -8.4721, -8.3937, -8.6021, -8.9346, -9.2778, -8.8175, -9.185, -6.929, -8.6719, -8.863, -7.3611, -8.6114, -7.2096, -8.1814, -8.5682, -7.6769, -6.2588, -8.5563, -6.2822, -6.7229, -6.5474, -6.1265, -6.7284, -6.7971, -6.3564, -8.0035, -5.9591, -7.5152, -6.9223, -6.2701, -5.8619, -7.2171, -4.5452, -5.8956, -6.9412, -7.0795, -6.5358, -5.9777, -5.4349, -7.1643, -6.4661, -5.3741, -5.6443, -5.5485, -5.9478, -5.9474, -5.6545, -6.1656, -5.6909, -6.1307, -5.6593, -5.9591, -5.8876, -5.9403, -6.1474, -6.0343, -6.2235, -6.2818, -6.2397, -6.238, -6.2903], \"loglift\": [30.0, 29.0, 28.0, 27.0, 26.0, 25.0, 24.0, 23.0, 22.0, 21.0, 20.0, 19.0, 18.0, 17.0, 16.0, 15.0, 14.0, 13.0, 12.0, 11.0, 10.0, 9.0, 8.0, 7.0, 6.0, 5.0, 4.0, 3.0, 2.0, 1.0, 1.9021, 1.8984, 1.8964, 1.8945, 1.8944, 1.8934, 1.8926, 1.8913, 1.8888, 1.8885, 1.887, 1.8856, 1.8848, 1.8847, 1.8842, 1.8831, 1.883, 1.8827, 1.8815, 1.8799, 1.8777, 1.8757, 1.8755, 1.8743, 1.8742, 1.8739, 1.8735, 1.8733, 1.8733, 1.873, 1.8727, 1.8729, 1.8714, 1.8716, 1.8612, 1.8671, 1.8589, 1.8521, 1.83, 1.6636, 1.8299, 1.8363, 1.7592, 1.8381, 1.6465, 1.793, 1.7956, 1.8117, 1.7391, 1.8393, 1.5722, 1.795, 1.4256, 1.5116, 1.0132, 1.5051, 1.3959, 0.6892, 1.1489, 1.641, 0.8778, 0.7864, 1.0148, 0.7399, 1.1009, 0.645, 0.1654, 0.4325, 0.8247, 0.4606, 0.6292, 0.2856, 0.6186, 0.5569, 0.649, 1.225, 0.4648, 0.497, 0.1517, 0.3441, 0.4954, 0.4824, 0.5739, 0.4672, 0.2599, 0.048, 0.2556, -0.2213, 0.0135, -0.3366, -0.1809, 0.2008, 0.0081, 0.2348, -0.2875, -0.2191, 0.1105, 1.9681, 1.9614, 1.9534, 1.9533, 1.9532, 1.9529, 1.9515, 1.9496, 1.9429, 1.9427, 1.9392, 1.9389, 1.9351, 1.9342, 1.932, 1.9314, 1.9284, 1.928, 1.9279, 1.9274, 1.9259, 1.924, 1.9231, 1.9227, 1.9202, 1.92, 1.9181, 1.9179, 1.9168, 1.9167, 1.9125, 1.8929, 1.9031, 1.9116, 1.911, 1.8476, 1.8336, 1.9006, 1.8436, 1.88, 1.8032, 1.8027, 1.7816, 1.7319, 1.6235, 1.825, 1.7415, 1.8465, 1.7844, 1.3036, 1.7734, 1.7357, 1.6154, 1.7009, 1.3207, 1.8034, 1.0259, 1.4808, 1.0727, 1.1043, 1.67, 1.2981, 1.4225, 0.8928, 1.152, 1.2712, 1.2417, 0.7833, 1.0889, 1.1953, 0.6418, 0.8169, 0.808, 0.8189, 0.7624, 1.0576, 0.8508, 0.0324, 0.1878, 0.0867, 0.1688, 0.527, 0.4451, -0.2562, 0.787, 0.9127, -0.2875, 0.8349, 0.7444, -0.369, 0.1908, 0.2392, 0.0933, -0.0098, 0.4614, 0.0867, -0.6133, -0.6272, -0.5188, -0.2564, -0.2613, -0.5758, 2.0517, 2.0472, 2.0395, 2.0352, 2.0347, 2.0282, 2.0282, 2.0267, 2.0255, 2.0224, 2.0218, 2.021, 2.0204, 2.0194, 2.0188, 2.0187, 2.0185, 2.017, 2.0133, 2.0126, 2.0119, 2.0118, 2.0112, 2.0099, 2.0098, 2.0072, 2.007, 2.0063, 2.0061, 2.0051, 2.0043, 1.9722, 1.9692, 1.9648, 1.897, 1.939, 1.9178, 1.9448, 1.9444, 1.8709, 1.8026, 1.9756, 1.9311, 1.9313, 1.9528, 1.796, 1.8141, 1.8124, 1.8685, 1.8399, 1.8757, 1.8078, 1.9459, 1.8234, 1.5532, 1.5256, 1.7023, 1.5401, 1.5672, 1.6258, 1.8066, 1.7473, 1.2729, 1.7638, 1.0548, 1.5823, 1.3001, 1.5787, 0.9005, 1.4209, 1.4881, 0.9786, 1.3061, 1.0081, 0.3655, 0.6598, 0.8804, 1.1934, 1.1447, 1.2458, 1.074, 0.9987, 0.0603, 0.7919, -0.0622, 0.3151, 0.054, 0.054, 0.3493, 0.4938, -0.3442, -0.1676, -0.2191, 0.3652, 0.3244, 0.134, -0.7926, 0.0876, 0.2737, -0.1917, -0.3948, -0.074, 0.1965, 2.1292, 2.1172, 2.117, 2.1137, 2.1129, 2.1125, 2.1113, 2.1094, 2.1052, 2.1047, 2.1033, 2.1033, 2.103, 2.1015, 2.1009, 2.0998, 2.0945, 2.0899, 2.0888, 2.0883, 2.0865, 2.086, 2.0851, 2.0844, 2.0841, 2.0836, 2.0825, 2.0824, 2.0817, 2.0804, 2.0465, 2.077, 2.0803, 2.0281, 2.0537, 2.0682, 2.044, 1.9846, 1.9396, 2.0469, 1.8113, 1.9887, 2.0274, 1.9587, 1.9946, 1.7615, 2.001, 2.0092, 1.7657, 1.8754, 1.8279, 1.8851, 1.7337, 1.8914, 1.7713, 1.6718, 1.9782, 1.7586, 1.3332, 1.4638, 1.3667, 1.6572, 1.5595, 1.4098, 1.3188, 1.5311, 1.1735, 1.1761, 1.4846, 1.1813, 1.0841, 1.3945, 1.3506, 1.1496, 1.5367, 0.4895, 0.6933, 0.548, 1.3421, 0.7229, 0.8837, 0.2319, 0.8127, 0.971, 0.5759, 0.4925, 0.1712, 0.5525, 1.1171, 0.3387, -0.0473, 0.8058, 0.8744, -0.1334, 0.3763, -0.1315, -0.0008, 0.3271, -0.6381, 0.4517, 0.0573, -0.1526, -0.418, 0.0749, 2.1832, 2.1711, 2.1694, 2.1676, 2.1672, 2.1657, 2.165, 2.1638, 2.1632, 2.1577, 2.1525, 2.1525, 2.1515, 2.1509, 2.1496, 2.1493, 2.1477, 2.1459, 2.1434, 2.1411, 2.1396, 2.1381, 2.1368, 2.1359, 2.1339, 2.1332, 2.132, 2.1307, 2.1293, 2.129, 2.1287, 2.0942, 2.1067, 2.1144, 2.12, 2.0572, 2.0485, 2.0943, 2.0886, 2.0223, 2.0029, 1.9561, 1.9462, 2.0289, 1.9573, 2.0601, 1.9235, 1.8662, 1.8414, 2.0248, 1.9538, 2.0147, 1.9432, 1.9447, 1.9551, 1.7448, 1.9002, 1.8686, 1.8761, 1.9398, 1.7667, 1.5991, 2.0047, 1.9, 1.8675, 1.4729, 1.545, 1.4057, 1.49, 1.4062, 0.9914, 0.7199, 1.5423, 0.7431, 0.6577, 0.8891, 0.3885, 0.9559, 0.7906, 0.4411, 0.7514, 0.0933, 0.3875, 1.3459, 0.8422, 0.4524, 0.129, -0.1332, -0.1247, 0.0184, 0.5186, 2.3239, 2.3109, 2.3098, 2.3055, 2.3052, 2.301, 2.297, 2.297, 2.2959, 2.2959, 2.2959, 2.2939, 2.2922, 2.2917, 2.2905, 2.2892, 2.2876, 2.2869, 2.2838, 2.2829, 2.2802, 2.2754, 2.2747, 2.2745, 2.2704, 2.2688, 2.268, 2.2672, 2.2668, 2.2662, 2.2633, 2.2654, 2.2515, 2.2394, 2.2549, 2.2419, 2.2565, 2.2201, 2.1347, 2.1249, 2.1276, 2.1859, 2.197, 2.2121, 2.1161, 2.2369, 2.0534, 2.0352, 2.0986, 1.8602, 1.9578, 2.0656, 1.8432, 1.9398, 2.191, 1.963, 1.8726, 2.0556, 2.0757, 1.7791, 1.6763, 1.8981, 1.9437, 1.7976, 1.9133, 1.7053, 1.0376, 1.7958, 1.6582, 1.9463, 1.3006, 1.6127, 1.5568, 1.5625, 1.4062, 1.2116, 1.0332, 0.9866, 0.7186, 0.914, 1.1655, 0.5413, 0.787, 0.6266, 0.2164, 0.3125, 0.0796, -0.3789, -0.0146, 0.0574, -0.2233, 0.3919, 0.5125, -0.1236, 0.0093, 0.5203, -0.1819, -0.0716, 0.1653, 0.5729, 2.4221, 2.4033, 2.4028, 2.3967, 2.3954, 2.3859, 2.3853, 2.3812, 2.3807, 2.3803, 2.38, 2.3794, 2.3771, 2.3768, 2.3756, 2.3749, 2.3741, 2.37, 2.37, 2.3685, 2.3679, 2.367, 2.366, 2.3653, 2.3652, 2.3638, 2.3635, 2.3629, 2.3616, 2.3608, 2.3593, 2.2892, 2.3574, 2.3585, 2.3548, 2.2426, 2.3475, 2.3351, 2.3387, 2.2927, 2.1756, 2.2286, 2.1598, 1.9961, 2.0767, 2.2215, 2.2647, 2.1754, 1.9177, 2.2321, 2.0246, 1.936, 2.1983, 1.9311, 1.9123, 2.0043, 1.5215, 1.4274, 1.3632, 1.9536, 1.7002, 1.9034, 1.6951, 0.9375, 1.4963, 1.1901, 1.7433, 1.5308, 1.6345, 1.2377, 1.4318, 1.2006, 1.0579, 1.0302, 1.5226, 0.7773, 1.2873, 1.4448, 0.3918, 0.4504, 0.549, 0.2357, 0.7991, 0.1975, 0.1729, 0.9015, -0.0575, -0.0845, -0.0811, 0.0518, -0.3861, -0.1781, -0.3052, 0.2028, -0.6636, 0.0176, 2.5818, 2.5603, 2.5553, 2.5545, 2.5525, 2.5519, 2.5476, 2.5465, 2.5378, 2.5351, 2.5349, 2.5342, 2.5336, 2.5308, 2.5266, 2.5258, 2.5245, 2.524, 2.5206, 2.5197, 2.5178, 2.517, 2.5168, 2.5153, 2.5151, 2.5137, 2.5134, 2.5111, 2.5089, 2.5067, 2.4993, 2.5066, 2.5007, 2.4642, 2.4825, 2.4871, 2.4487, 2.4965, 2.4762, 2.4779, 2.3842, 2.3817, 2.352, 2.2307, 2.2188, 1.6622, 2.2124, 2.3917, 2.3703, 1.541, 2.2938, 1.959, 1.9519, 2.0165, 1.5924, 2.0237, 1.9289, 1.6765, 1.4357, 1.7258, 1.769, 1.7108, 1.2514, 1.1158, 1.8018, 1.7749, 0.6143, 1.5508, 1.6095, 0.372, 0.7692, -0.0565, 0.2554, 0.3432, 0.1819, -0.0006, 0.3325, 0.1667, 0.4094, 0.4073, -0.1947, -0.0905, -0.3443, 0.5012, 0.3245, -0.1156, 0.344, 0.4663, -0.464, -0.3185, 0.2035, -0.1253, -0.1478, 0.0059, 2.8704, 2.8544, 2.8454, 2.8444, 2.8426, 2.8382, 2.8338, 2.8308, 2.8286, 2.8266, 2.8258, 2.8236, 2.823, 2.8228, 2.8218, 2.8216, 2.8198, 2.8195, 2.8189, 2.8186, 2.8161, 2.8078, 2.8075, 2.8054, 2.8053, 2.8051, 2.8039, 2.8026, 2.7996, 2.7993, 2.7424, 2.7609, 2.7322, 2.6787, 2.7664, 2.7399, 2.7542, 2.7338, 2.5555, 2.6439, 2.7451, 2.6346, 2.4192, 2.7342, 2.2932, 2.2558, 2.3027, 2.34, 2.5455, 2.4141, 2.4433, 2.3946, 2.3967, 2.6888, 2.2522, 1.9215, 1.8194, 1.8837, 1.6836, 2.215, 2.248, 1.6503, 2.0097, 1.6619, 1.3446, 1.3496, 1.8071, 2.0978, 1.7173, 1.0259, 0.3125, 0.5206, 1.5798, 1.7104, 0.2957, 0.0653, 0.062, -0.42, -0.0022, 0.9177, 0.1313, 0.0706, 0.5963, -0.3162, -0.0502, 0.3581, -0.5955, -0.2937, -0.4217, 0.0469, 0.0453, 3.0709, 3.0609, 3.0519, 3.0497, 3.0452, 3.0445, 3.0403, 3.0381, 3.0366, 3.0359, 3.0269, 3.0258, 3.0205, 3.0161, 3.0137, 3.0073, 3.0038, 3.0023, 3.0017, 3.0016, 3.0, 2.9961, 2.9954, 2.9939, 2.9932, 2.9922, 2.992, 2.9917, 2.9912, 2.9866, 2.9857, 2.9698, 2.9612, 2.9639, 2.9661, 2.9585, 2.9197, 2.9475, 2.706, 2.8963, 2.9124, 2.7058, 2.868, 2.6733, 2.7923, 2.8362, 2.6669, 2.3779, 2.8121, 2.3087, 2.406, 2.2811, 2.1059, 2.2344, 2.2554, 2.0809, 2.6291, 1.6489, 2.329, 2.0205, 1.6499, 1.3759, 2.066, 0.3363, 1.0969, 1.809, 1.818, 1.3391, 0.7939, 0.2847, 1.8647, 1.1601, -0.0496, 0.2052, 0.0786, 0.5187, 0.5127, 0.056, 0.7382, -0.1372, 0.489, -0.4244, -0.0783, -0.305, -0.3378, 0.2266, -0.1732, 0.2842, 0.2718, 0.0475, -0.0394, -0.1631]}, \"token.table\": {\"Topic\": [1, 2, 3, 4, 5, 6, 7, 8, 9, 10, 8, 1, 2, 3, 4, 5, 6, 7, 8, 9, 10, 1, 2, 3, 4, 5, 6, 7, 8, 9, 10, 8, 1, 2, 3, 4, 5, 6, 7, 8, 9, 10, 9, 1, 2, 3, 4, 5, 6, 7, 8, 9, 10, 1, 2, 3, 4, 5, 6, 7, 8, 9, 10, 1, 3, 1, 2, 3, 4, 5, 6, 7, 8, 9, 10, 7, 1, 3, 7, 8, 9, 10, 3, 5, 6, 10, 1, 6, 8, 10, 1, 2, 5, 6, 8, 10, 3, 4, 10, 1, 2, 4, 5, 6, 7, 8, 9, 10, 2, 1, 2, 3, 4, 5, 6, 7, 8, 9, 10, 4, 2, 3, 5, 6, 8, 1, 2, 3, 4, 5, 6, 7, 8, 9, 10, 1, 2, 3, 4, 5, 6, 7, 8, 9, 10, 1, 2, 3, 4, 5, 6, 7, 8, 9, 10, 4, 1, 2, 3, 4, 5, 6, 7, 8, 9, 10, 1, 2, 3, 4, 5, 6, 7, 8, 9, 10, 6, 9, 1, 2, 3, 4, 8, 9, 10, 1, 2, 3, 4, 5, 6, 7, 8, 9, 10, 1, 2, 4, 2, 5, 6, 10, 1, 2, 3, 4, 5, 6, 7, 8, 9, 10, 1, 2, 3, 4, 5, 6, 7, 8, 9, 10, 7, 2, 4, 7, 1, 2, 3, 4, 7, 8, 9, 6, 9, 1, 2, 3, 4, 6, 7, 8, 1, 2, 3, 4, 5, 6, 7, 8, 9, 10, 1, 2, 3, 4, 5, 6, 7, 8, 9, 10, 8, 2, 1, 2, 3, 4, 5, 6, 7, 8, 9, 10, 1, 2, 3, 4, 5, 6, 7, 8, 9, 10, 6, 8, 3, 4, 5, 7, 8, 3, 9, 1, 2, 3, 4, 5, 6, 7, 8, 9, 10, 5, 10, 4, 9, 1, 2, 4, 3, 1, 2, 3, 4, 5, 6, 7, 8, 9, 10, 1, 2, 3, 4, 5, 6, 7, 8, 9, 10, 1, 2, 3, 4, 5, 6, 7, 8, 9, 10, 8, 1, 2, 3, 4, 5, 6, 7, 8, 9, 10, 8, 4, 1, 3, 4, 9, 1, 2, 3, 4, 5, 6, 7, 8, 9, 10, 1, 2, 3, 4, 5, 6, 7, 8, 9, 10, 1, 2, 3, 4, 5, 6, 7, 8, 9, 10, 5, 5, 8, 1, 2, 3, 4, 5, 6, 7, 8, 9, 10, 1, 2, 3, 4, 5, 6, 7, 8, 9, 10, 1, 2, 3, 4, 5, 6, 7, 8, 9, 10, 5, 8, 1, 1, 2, 3, 4, 5, 6, 7, 8, 9, 10, 1, 2, 3, 7, 8, 9, 10, 1, 2, 3, 4, 6, 8, 9, 10, 1, 2, 4, 5, 6, 7, 8, 9, 10, 1, 5, 9, 10, 2, 8, 10, 1, 3, 4, 5, 7, 8, 2, 2, 3, 6, 1, 2, 3, 4, 5, 6, 7, 8, 9, 10, 6, 10, 1, 2, 3, 4, 5, 6, 8, 9, 10, 2, 4, 1, 2, 3, 4, 5, 6, 7, 8, 9, 10, 1, 4, 1, 2, 3, 4, 5, 6, 7, 8, 9, 10, 2, 3, 6, 9, 10, 1, 2, 3, 4, 5, 6, 7, 8, 9, 10, 1, 2, 3, 4, 5, 6, 7, 8, 9, 10, 1, 2, 3, 4, 5, 6, 7, 8, 9, 10, 7, 8, 1, 2, 3, 4, 5, 6, 7, 8, 9, 10, 5, 1, 10, 7, 9, 1, 2, 3, 4, 5, 6, 7, 8, 9, 10, 1, 3, 2, 7, 9, 1, 2, 3, 4, 5, 6, 7, 8, 9, 10, 1, 4, 1, 1, 2, 3, 4, 5, 6, 7, 8, 9, 10, 1, 2, 3, 4, 5, 6, 7, 8, 9, 10, 3, 9, 1, 2, 3, 4, 5, 6, 7, 8, 9, 10, 6, 1, 2, 3, 4, 5, 6, 7, 8, 9, 10, 1, 2, 3, 4, 5, 6, 7, 8, 9, 10, 1, 2, 3, 4, 5, 6, 7, 8, 9, 10, 2, 3, 8, 3, 9, 1, 2, 3, 4, 5, 6, 7, 8, 9, 10, 1, 2, 3, 4, 5, 6, 7, 8, 10, 1, 6, 7, 1, 2, 3, 4, 5, 6, 7, 8, 9, 10, 1, 2, 3, 4, 5, 6, 7, 8, 9, 10, 1, 2, 3, 4, 8, 9, 2, 4, 8, 7, 8, 10, 1, 2, 3, 4, 5, 6, 7, 8, 9, 10, 9, 1, 10, 3, 2, 10, 1, 2, 3, 4, 5, 6, 7, 8, 9, 10, 3, 1, 2, 3, 4, 5, 6, 7, 8, 9, 10, 3, 2, 3, 4, 5, 9, 1, 2, 3, 4, 5, 6, 7, 8, 9, 10, 1, 2, 3, 4, 5, 6, 7, 8, 9, 10, 1, 2, 3, 4, 5, 6, 7, 8, 9, 10, 8, 1, 4, 10, 3, 4, 8, 1, 2, 3, 4, 5, 6, 7, 8, 9, 10, 1, 2, 3, 4, 5, 6, 7, 8, 9, 10, 2, 3, 4, 10, 1, 2, 3, 4, 5, 6, 7, 8, 9, 10, 1, 2, 3, 4, 5, 6, 7, 8, 9, 10, 1, 3, 7, 10, 1, 2, 5, 7, 8, 9, 1, 3, 6, 1, 3, 7, 10, 1, 2, 3, 4, 5, 6, 7, 8, 9, 10, 2, 3, 4, 7, 9, 10, 7, 1, 5, 6, 7, 8, 9, 10, 7, 10, 1, 4, 8, 10, 1, 2, 3, 4, 5, 6, 7, 8, 9, 10, 3, 9, 3, 10, 3, 8, 10, 6, 2, 8, 9, 1, 7, 5, 7, 1, 2, 5, 6, 10, 1, 4, 7, 8, 9, 1, 2, 3, 4, 5, 6, 7, 8, 9, 10, 1, 2, 3, 4, 5, 6, 7, 8, 9, 10, 3, 9, 1, 2, 3, 4, 5, 6, 7, 8, 9, 10, 1, 2, 3, 4, 5, 6, 7, 8, 9, 10, 1, 2, 3, 4, 5, 6, 7, 8, 9, 10, 1, 1, 2, 3, 5, 7, 8, 10, 1, 2, 4, 1, 6, 6, 9, 1, 2, 4, 6, 8, 2, 4, 7, 9, 10, 3, 10, 1, 2, 3, 4, 5, 6, 7, 8, 9, 10, 4, 3, 1, 2, 3, 4, 5, 7, 8, 9, 10, 1, 2, 3, 4, 5, 6, 7, 8, 9, 10, 3, 4, 5, 10, 1, 7, 8, 1, 2, 3, 4, 5, 6, 7, 8, 9, 10, 4, 8, 10, 1, 2, 3, 4, 5, 7, 8, 9, 10, 6, 6, 4, 1, 2, 8, 10, 2, 4, 7, 10, 9, 3, 7, 4, 1, 2, 3, 4, 5, 6, 7, 8, 9, 10, 1, 2, 3, 4, 5, 6, 7, 8, 9, 10, 1, 2, 3, 4, 5, 6, 7, 8, 9, 10, 2, 9, 10, 1, 2, 3, 4, 5, 6, 7, 8, 9, 10, 3, 1, 2, 3, 4, 5, 6, 7, 8, 9, 10, 1, 2, 3, 4, 5, 6, 7, 8, 9, 10, 3, 4, 6, 10, 1, 3, 4, 5, 6, 7, 8, 9, 1, 2, 3, 4, 6, 7, 8, 9, 10, 1, 2, 3, 4, 5, 6, 7, 8, 9, 10, 6, 8, 1, 3, 2, 3, 4, 5, 7, 8, 9, 10, 1, 2, 3, 4, 5, 6, 7, 8, 9, 10, 10, 7, 2, 1, 2, 3, 4, 5, 6, 7, 8, 9, 10, 5, 5, 5, 1, 2, 4, 6, 7, 1, 2, 3, 4, 5, 7, 8, 9, 3, 1, 5, 9, 10, 1, 2, 3, 4, 5, 6, 7, 8, 9, 10, 1, 2, 6, 7, 1, 2, 3, 4, 5, 6, 7, 8, 9, 10, 1, 2, 3, 4, 5, 6, 7, 8, 9, 10, 1, 2, 4, 5, 6, 7, 8, 9, 1, 2, 3, 4, 5, 6, 7, 8, 9, 10, 1, 5, 8, 1, 2, 3, 4, 5, 9, 10, 2, 3, 4, 9, 1, 2, 3, 4, 5, 6, 7, 8, 9, 10, 1, 2, 3, 4, 5, 6, 7, 8, 9, 10, 7, 1, 2, 3, 4, 5, 6, 7, 8, 9, 10, 1, 2, 3, 4, 5, 6, 7, 8, 9, 10, 1, 2, 3, 4, 5, 6, 7, 8, 9, 10, 1, 2, 3, 4, 5, 6, 7, 8, 9, 10, 1, 5, 1, 2, 3, 4, 5, 6, 7, 8, 9, 10, 1, 1, 2, 3, 4, 5, 6, 7, 8, 9, 10, 7, 3, 1, 2, 4, 7, 8, 10, 1, 4, 6, 7, 10, 7, 10, 1, 2, 3, 4, 5, 6, 7, 8, 9, 10, 5, 8, 10, 1, 2, 4, 5, 6, 7, 8, 10, 4, 7, 8, 1, 2, 3, 4, 5, 6, 7, 8, 9, 10, 1, 4, 7, 2, 4, 7, 8, 9, 10, 1, 2, 3, 4, 5, 6, 7, 8, 9, 10, 1, 2, 3, 4, 5, 6, 7, 8, 9, 10, 1, 2, 3, 4, 5, 6, 7, 8, 9, 10, 1, 2, 3, 4, 5, 6, 7, 8, 9, 10, 5, 6, 9, 1, 2, 3, 4, 5, 6, 7, 8, 9, 10, 1, 2, 3, 4, 5, 6, 7, 8, 9, 10, 1, 2, 3, 4, 5, 6, 7, 8, 9, 10, 7, 1, 2, 3, 4, 5, 6, 7, 8, 9, 10, 1, 4, 1, 2, 3, 4, 5, 6, 7, 8, 9, 10, 1, 2, 3, 4, 5, 6, 7, 8, 9, 10, 4, 5, 1, 2, 3, 4, 5, 6, 7, 8, 9, 10, 2, 9, 1, 2, 3, 4, 5, 6, 7, 8, 9, 10, 1, 5, 1, 2, 3, 4, 5, 6, 7, 8, 9, 10, 1, 2, 3, 4, 5, 6, 7, 8, 9, 10, 1, 2, 3, 4, 5, 6, 7, 8, 9, 10, 1, 2, 3, 4, 5, 6, 7, 8, 9, 10, 2, 4, 1, 2, 3, 4, 6, 7, 8, 9, 10, 2, 1, 2, 3, 4, 7, 8, 10, 3, 1, 2, 3, 4, 5, 6, 7, 8, 9, 10, 10, 2, 7, 1, 1, 8, 1, 2, 3, 4, 5, 6, 7, 8, 9, 10, 1, 3, 4, 6, 8, 10, 1, 2, 3, 4, 5, 6, 7, 8, 9, 10, 3, 9, 2, 1, 2, 5, 8, 9, 1, 2, 3, 4, 5, 6, 7, 8, 9, 10, 1, 4, 6, 7, 8, 1, 2, 3, 4, 5, 6, 7, 8, 9, 10, 2, 4, 1, 2, 3, 4, 5, 6, 7, 8, 9, 10, 2, 9, 8, 10, 1, 2, 3, 4, 5, 6, 7, 8, 9, 10, 1, 2, 3, 4, 5, 6, 7, 8, 9, 10, 1, 2, 3, 4, 5, 6, 7, 8, 9, 10, 1, 2, 3, 4, 5, 6, 7, 8, 9, 10, 1, 2, 3, 4, 5, 6, 7, 8, 9, 10, 4, 7, 9, 10, 6, 8, 9, 7, 3, 4, 7, 5, 8, 9, 2, 5, 6, 8, 10, 1, 2, 3, 4, 5, 6, 7, 8, 9, 10, 1, 10, 1, 2, 3, 5, 8, 9, 1, 2, 3, 4, 5, 6, 7, 8, 9, 10, 4, 1, 2, 3, 4, 8, 9, 10, 1, 2, 3, 4, 5, 6, 8, 9, 10, 1, 2, 3, 4, 5, 6, 7, 8, 9, 10, 2, 8, 1, 7, 1, 1, 2, 3, 4, 5, 6, 7, 8, 9, 10, 1, 2, 3, 4, 5, 6, 7, 8, 9, 10, 1, 2, 3, 4, 5, 6, 7, 8, 9, 10, 1, 1, 2, 3, 4, 5, 6, 7, 8, 9, 10, 1, 2, 3, 4, 5, 6, 7, 8, 9, 10, 1, 2, 3, 4, 5, 6, 7, 8, 9, 10, 1, 2, 3, 4, 5, 6, 7, 8, 9, 10, 4, 7, 1, 2, 3, 8, 9, 10, 1, 2, 3, 4, 5, 6, 7, 8, 9, 10, 2, 1, 2, 3, 4, 5, 6, 7, 8, 9, 10, 4, 10, 1, 2, 3, 4, 5, 6, 7, 8, 9, 10, 1, 2, 3, 4, 5, 6, 7, 8, 9, 10, 1, 2, 3, 4, 8, 2, 3, 7, 6, 1, 2, 3, 4, 5, 6, 7, 8, 9, 10, 3, 10, 1, 2, 3, 4, 5, 6, 7, 8, 9, 10, 1, 2, 3, 4, 5, 6, 7, 8, 9, 10, 8, 1, 1, 2, 3, 4, 5, 6, 7, 8, 9, 10, 1, 2, 3, 4, 5, 6, 1, 2, 3, 4, 5, 6, 7, 8, 9, 10, 2, 7, 9, 10, 1, 3, 4, 5, 6, 7, 8, 9, 10, 6, 8, 10, 1, 2, 3, 4, 5, 6, 7, 8, 9, 10, 2, 1, 2, 3, 4, 5, 6, 7, 8, 9, 10, 1, 2, 4, 1, 3, 4, 5, 6, 7, 8, 9, 10, 10, 3, 1, 2, 3, 4, 5, 6, 7, 8, 9, 10, 1, 2, 3, 5, 6, 8, 10, 1, 6, 9, 1, 2, 3, 4, 9, 10, 1, 2, 3, 4, 5, 6, 7, 8, 9, 10, 1, 2, 3, 4, 5, 6, 7, 8, 9, 10, 1, 2, 3, 4, 5, 6, 7, 8, 9, 10, 1, 2, 3, 4, 5, 6, 7, 8, 9, 10, 2, 4, 7, 9, 10, 1, 2, 3, 4, 7, 8, 1, 4, 5, 6, 8, 9, 10, 2, 3, 4, 5, 6, 7, 8, 10, 1, 2, 3, 4, 5, 6, 7, 8, 9, 10, 1, 2, 3, 4, 5, 6, 7, 8, 9, 10, 1, 2, 3, 4, 5, 6, 7, 8, 9, 10, 1, 2, 3, 4, 5, 6, 7, 8, 9, 10, 2, 3, 8, 9, 3, 4, 8, 10, 10, 2, 1, 3, 7, 8, 9, 1, 2, 3, 4, 8, 10, 8, 1, 5, 10, 2, 1, 2, 4, 6, 7, 1, 2, 3, 4, 5, 6, 7, 8, 9, 10, 1, 2, 3, 6, 7, 8, 9, 10, 1, 2, 3, 4, 5, 6, 7, 8, 9, 10, 1, 3, 4, 5, 6, 7, 8, 9, 10, 1, 2, 3, 6, 8, 9, 10, 2, 5, 1, 2, 3, 4, 5, 6, 7, 8, 9, 1, 2, 3, 4, 5, 6, 7, 8, 9, 10, 1, 2, 3, 4, 5, 6, 7, 8, 9, 10, 1, 2, 3, 4, 5, 6, 7, 8, 9, 10, 3, 10, 1, 2, 3, 4, 5, 6, 7, 8, 9, 10, 1, 2, 3, 4, 5, 6, 7, 8, 9, 10, 1, 2, 3, 4, 5, 7, 8, 9, 10, 1, 3, 7, 10, 2, 3, 5, 6, 7, 8, 9, 10, 1, 2, 3, 4, 5, 6, 7, 8, 9, 10, 3, 4, 1, 2, 3, 6, 10, 1, 2, 4, 5, 6, 7, 8, 10, 1, 2, 3, 4, 5, 6, 7, 8, 9, 10, 3, 10, 2, 3, 6, 8, 10, 6, 8, 6, 1, 2, 3, 4, 5, 6, 7, 8, 9, 10, 1, 2, 3, 4, 5, 6, 7, 8, 9, 10, 6, 7, 4, 10, 1, 2, 3, 4, 5, 6, 7, 8, 9, 10, 1, 2, 3, 4, 5, 6, 7, 8, 9, 10, 1, 3, 4, 5, 6, 7, 8, 10, 7, 1, 2, 3, 4, 5, 6, 7, 8, 9, 10, 1, 2, 3, 4, 5, 6, 7, 8, 9, 10, 5, 6, 8, 1, 2, 3, 4, 6, 1, 2, 3, 4, 5, 6, 7, 8, 10, 1, 2, 3, 4, 5, 6, 7, 8, 9, 10, 1, 2, 3, 4, 5, 6, 7, 8, 9, 10, 4, 1, 2, 3, 4, 5, 6, 7, 8, 9, 10, 3, 9, 1, 2, 5, 6, 8, 1, 2, 3, 4, 5, 6, 7, 8, 9, 10, 1, 2, 3, 6, 8, 1, 4, 5, 6, 7, 8, 9, 10, 1, 6, 7, 5, 5, 1, 2, 3, 4, 5, 6, 7, 8, 9, 10, 1, 2, 3, 4, 5, 6, 7, 8, 9, 10, 1, 2, 3, 4, 5, 6, 7, 8, 9, 10, 1, 2, 3, 4, 5, 6, 7, 8, 9, 10, 7, 1, 2, 3, 4, 5, 6, 7, 8, 9, 10, 1, 2, 3, 4, 5, 6, 7, 8, 9, 10, 6, 1, 2, 6, 7, 8, 1, 3, 5, 6, 7, 8, 1, 2, 3, 4, 5, 6, 7, 8, 9, 10, 1, 2, 3, 4, 5, 6, 7, 8, 9, 10, 3, 6, 1, 10, 3, 9, 4, 9, 1, 2, 3, 4, 5, 6, 7, 8, 9, 10, 1, 2, 3, 4, 5, 6, 7, 8, 9, 10, 1, 3, 4, 6, 1, 2, 3, 4, 5, 6, 7, 8, 9, 10, 3, 5, 8, 4, 2, 5, 7, 1, 1, 2, 3, 4, 5, 6, 7, 8, 9, 10, 2, 4, 6, 1, 2, 3, 4, 5, 6, 7, 8, 9, 10, 1, 3, 5, 9, 4, 1, 2, 3, 4, 5, 6, 7, 8, 9, 10, 2, 8, 3, 9, 10, 7, 9, 1, 2, 3, 6, 8, 10, 10, 4, 5, 7, 8, 1, 2, 3, 4, 5, 6, 7, 8, 9, 10, 2, 3, 4, 5, 8, 10, 1, 2, 3, 4, 5, 6, 7, 8, 9, 10, 1, 2, 3, 4, 6, 7, 8, 9, 10, 1, 2, 3, 4, 5, 6, 7, 8, 9, 10, 5, 6, 8, 1, 2, 3, 5, 9, 10, 1, 2, 3, 4, 5, 6, 7, 8, 9, 10, 1, 2, 3, 4, 5, 6, 7, 8, 9, 10, 1, 3, 5, 6, 7, 8, 1, 2, 3, 4, 5, 6, 7, 8, 9, 10, 7, 5, 7, 8, 1, 2, 5, 6, 8, 1, 2, 4, 6, 9, 2, 3, 4, 7, 8, 9, 8, 7, 1, 2, 3, 4, 5, 6, 7, 8, 9, 10, 1, 2, 3, 4, 5, 6, 7, 8, 9, 10, 1, 2, 3, 4, 5, 6, 7, 8, 9, 10, 1, 2, 3, 4, 5, 6, 7, 8, 9, 10, 1, 2, 3, 4, 5, 6, 7, 8, 9, 10, 1, 2, 3, 9, 10, 1, 2, 3, 4, 5, 6, 7, 8, 9, 10, 1, 2, 3, 4, 5, 6, 7, 8, 9, 10, 1, 2, 3, 4, 5, 6, 7, 8, 9, 10, 1, 1, 2, 4, 8, 9, 10, 1, 2, 4, 8, 5, 6, 1, 9, 5, 9, 5, 9, 10, 6, 2, 1, 2, 3, 4, 5, 6, 7, 8, 9, 10, 1, 2, 3, 4, 5, 6, 7, 8, 9, 10, 2, 3, 4, 9, 10, 1, 2, 3, 4, 5, 6, 7, 8, 9, 10, 1, 2, 3, 4, 5, 6, 7, 8, 9, 10, 2, 7, 1, 2, 3, 4, 5, 6, 7, 8, 9, 10, 5, 1, 2, 3, 4, 5, 6, 7, 8, 9, 10, 2, 3, 6, 8, 3, 5, 6, 8, 10, 1, 3, 4, 5, 7, 8, 9, 1, 2, 3, 4, 5, 6, 7, 8, 9, 10, 1, 2, 3, 4, 6, 7, 8, 9, 10, 1, 2, 3, 4, 5, 6, 7, 8, 9, 10, 1, 2, 3, 4, 5, 6, 7, 8, 9, 10, 1, 2, 3, 4, 5, 6, 8, 10, 1, 2, 3, 4, 5, 6, 7, 8, 10, 10, 5, 7, 1, 2, 3, 4, 5, 6, 7, 8, 9, 10, 1, 1, 2, 3, 4, 6, 8, 9, 1, 2, 3, 4, 9, 1, 6, 6, 3, 1, 2, 3, 4, 5, 6, 7, 8, 9, 10, 8, 10, 1, 1, 2, 3, 4, 5, 6, 7, 8, 9, 10, 1, 9, 1, 2, 3, 4, 5, 6, 7, 8, 9, 10, 9, 1, 2, 3, 4, 5, 6, 7, 8, 9, 10, 6, 1, 2, 3, 4, 5, 6, 7, 8, 9, 10, 1, 2, 3, 4, 5, 6, 7, 8, 9, 10, 1, 6, 4, 8, 1, 2, 3, 4, 5, 6, 7, 8, 9, 10, 1, 2, 3, 4, 5, 6, 7, 8, 9, 10, 1, 2, 3, 4, 5, 6, 7, 8, 9, 10, 1, 2, 3, 4, 5, 6, 7, 8, 9, 10, 4, 1, 2, 3, 4, 6, 7, 8, 9, 10, 7, 10, 1, 2, 7, 10, 9, 1, 2, 3, 4, 5, 6, 7, 8, 9, 10, 1, 2, 3, 4, 5, 6, 7, 8, 9, 10, 1, 10, 1, 2, 3, 4, 5, 7, 8, 9, 1, 3, 6, 1, 2, 3, 4, 5, 1, 2, 3, 4, 5, 6, 7, 8, 9, 10, 1, 2, 3, 4, 5, 6, 7, 8, 9, 10, 1, 2, 3, 4, 5, 6, 8, 10, 1, 2, 3, 4, 5, 6, 7, 8, 9, 10, 1, 5, 8, 9, 1, 2, 3, 4, 5, 6, 7, 8, 9, 10, 1, 2, 3, 4, 5, 6, 7, 8, 9, 10, 1, 2, 3, 4, 5, 6, 7, 8, 9, 10, 1, 5, 7, 1, 2, 3, 4, 5, 6, 7, 8, 9, 10, 5, 1, 2, 3, 4, 5, 6, 7, 8, 9, 10, 1, 2, 3, 4, 5, 6, 7, 8, 9, 10, 2, 8, 1, 2, 3, 4, 6, 7, 8, 9, 10, 3, 6, 8, 2, 3, 5, 6, 8, 10, 1, 2, 3, 4, 5, 6, 7, 8, 9, 10, 1, 4, 6, 7, 8, 10, 3, 7, 1, 2, 3, 4, 5, 6, 7, 8, 9, 10, 1, 2, 3, 4, 6, 7, 8, 9, 10, 1, 2, 3, 4, 5, 6, 7, 8, 9, 10, 9, 1, 4, 7, 8, 9, 1, 2, 3, 4, 5, 1, 2, 3, 4, 5, 6, 7, 8, 9, 10, 3, 6, 7, 8, 1, 2, 3, 4, 5, 6, 7, 8, 9, 10, 9, 1, 2, 3, 4, 5, 6, 7, 8, 9, 10, 1, 2, 3, 4, 5, 6, 7, 8, 9, 10, 1, 2, 3, 4, 5, 6, 7, 8, 9, 10, 3, 5, 2, 1, 2, 3, 4, 5, 6, 7, 8, 9, 10, 1, 2, 3, 4, 5, 6, 7, 8, 9, 10, 2, 3, 6, 7, 5, 10, 10, 2, 6, 1, 2, 3, 4, 5, 6, 7, 8, 9, 10, 9, 5, 6, 1, 2, 3, 4, 5, 6, 7, 8, 9, 10, 1, 2, 3, 4, 5, 6, 7, 8, 9, 10, 1, 2, 3, 4, 5, 6, 7, 8, 9, 10, 1, 2, 3, 4, 5, 6, 7, 8, 9, 10, 1, 3, 4, 5, 4, 2, 1, 7, 8, 9, 6, 1, 2, 3, 4, 5, 6, 7, 8, 9, 10, 2, 6, 2, 3, 4, 10, 3, 5, 7, 9, 1, 2, 3, 4, 5, 6, 7, 8, 9, 10, 2, 1, 4, 5, 6, 7, 8, 1, 3, 5, 10, 1, 10, 3, 1, 2, 3, 4, 5, 6, 7, 8, 9, 10, 1, 2, 3, 4, 5, 6, 7, 8, 9, 10, 5, 1, 2, 3, 4, 5, 6, 7, 8, 9, 10, 1, 2, 6, 9, 10, 1, 2, 3, 4, 5, 6, 7, 8, 9, 10, 1, 2, 3, 4, 5, 6, 7, 8, 9, 10, 1, 2, 3, 4, 5, 6, 7, 8, 9, 10, 2, 3, 6, 1, 8, 1, 2, 4, 6, 7, 8, 9, 1, 2, 3, 4, 5, 6, 7, 8, 9, 10, 1, 2, 3, 4, 5, 6, 7, 8, 9, 10, 1, 4, 7, 1, 2, 3, 4, 6, 8, 10, 1, 2, 3, 4, 5, 6, 7, 8, 9, 10, 1, 2, 4, 6, 7, 8, 1, 2, 3, 4, 6, 7, 8, 9, 10, 3, 9, 2, 3, 4, 1, 2, 3, 4, 5, 6, 7, 8, 9, 10, 1, 2, 3, 4, 5, 6, 7, 8, 9, 10, 1, 2, 3, 4, 5, 6, 7, 8, 9, 10, 4, 6, 1, 2, 3, 4, 5, 6, 7, 8, 9, 10, 1, 2, 3, 4, 5, 6, 7, 8, 9, 10, 1, 2, 3, 4, 5, 6, 7, 8, 9, 10, 1, 2, 3, 4, 5, 6, 7, 8, 9, 10, 1, 2, 3, 4, 5, 6, 7, 8, 9, 10, 5, 6, 8, 10, 1, 2, 3, 4, 5, 6, 7, 8, 9, 10, 7, 5, 7, 8, 1, 2, 3, 4, 5, 6, 7, 8, 9, 10, 1, 2, 3, 4, 5, 6, 7, 8, 9, 10, 1, 3, 4, 5, 6, 7, 8, 9, 10, 10, 3, 4, 5, 1, 2, 4, 7, 8, 10, 1, 2, 3, 4, 5, 6, 7, 8, 9, 10, 1, 2, 3, 4, 5, 6, 7, 8, 9, 10, 4, 4, 1, 2, 3, 4, 5, 6, 7, 8, 9, 10, 1, 3, 7, 8, 9, 4, 1, 3, 2, 9, 1, 2, 3, 4, 5, 6, 7, 8, 9, 10, 1, 2, 3, 4, 5, 6, 7, 8, 9, 10, 6, 1, 1, 2, 3, 4, 5, 6, 7, 8, 9, 10, 4, 1, 2, 3, 5, 6, 1, 2, 3, 5, 6, 7, 8, 3, 2, 4, 6, 6, 10, 6, 1, 2, 3, 4, 5, 6, 7, 8, 9, 10, 1, 2, 3, 4, 5, 6, 7, 8, 9, 10, 2, 4, 1, 2, 3, 4, 5, 6, 7, 8, 9, 10, 6, 3, 8, 8, 1, 2, 3, 4, 5, 6, 7, 8, 9, 10, 1, 2, 3, 4, 5, 6, 7, 8, 9, 10, 1, 2, 3, 4, 5, 6, 7, 8, 9, 10, 1, 2, 3, 6, 9, 6, 9, 9, 1, 2, 3, 4, 5, 6, 7, 8, 9, 10, 1, 2, 3, 4, 5, 6, 7, 8, 9, 10, 6, 1, 2, 3, 4, 5, 6, 7, 8, 9, 10, 1, 2, 3, 4, 5, 6, 7, 8, 9, 10, 1, 2, 3, 4, 5, 6, 7, 8, 9, 10, 5, 1, 2, 3, 4, 5, 6, 7, 8, 9, 10, 1, 2, 3, 4, 5, 6, 7, 8, 9, 10, 1, 2, 3, 4, 5, 6, 7, 8, 9, 10, 1, 2, 3, 4, 5, 6, 7, 8, 9, 10, 1, 2, 3, 4, 5, 6, 7, 8, 9, 10, 9, 1, 2, 3, 4, 5, 6, 7, 8, 9, 10, 1, 2, 4, 7, 1, 2, 3, 4, 5, 6, 7, 8, 9, 10, 5, 5, 10, 1, 2, 3, 4, 5, 6, 7, 8, 9, 10, 1, 2, 3, 4, 5, 6, 7, 8, 9, 10, 1, 2, 3, 4, 5, 6, 7, 8, 9, 10, 7, 1, 2, 5, 1, 2, 3, 4, 5, 6, 7, 8, 9, 10, 1, 2, 3, 4, 5, 6, 7, 8, 9, 10, 1, 2, 3, 4, 5, 6, 7, 8, 10, 7, 10, 4, 8, 6], \"Freq\": [0.009009582510334568, 0.009009582510334568, 0.015766769393085495, 0.024776351903420063, 0.27479226656520434, 0.12162936388951667, 0.006757186882750926, 0.5180509943442377, 0.009009582510334568, 0.01126197813791821, 0.9819635603210458, 0.07684054342521329, 0.23337344425843132, 0.10551711736328259, 0.10979483833746972, 0.14179852858879566, 0.11090387710855527, 0.06337364406203158, 0.08080139617909027, 0.03279586080210135, 0.044836853173887345, 0.011144622529495054, 0.009607433215081942, 0.08800408825015059, 0.04957435538982282, 0.09607433215081942, 0.004611567943239333, 0.12374373981025541, 0.12835530775349474, 0.3420246224569171, 0.14680157952645206, 0.9555962189788718, 0.10337368222226555, 0.1798075563502437, 0.09648210340744784, 0.30730176442437124, 0.07330133830306103, 0.09460258191249755, 0.018481961367011114, 0.06640975948824332, 0.03383138690910509, 0.026313300929303958, 0.9708984811670918, 0.08822139792251621, 0.023630731586388273, 0.1559628284701626, 0.009452292634555309, 0.03308302422094358, 0.031507642115184364, 0.1654151211047179, 0.05356299159581342, 0.4143254938146744, 0.02520611369214749, 0.06596977293377793, 0.026876574158205824, 0.054974810778148274, 0.010994962155629654, 0.03298488646688896, 0.05863979816335816, 0.6120528933300508, 0.06841309785725118, 0.06108312308683141, 0.009773299693893026, 0.03860960403959862, 0.9266304969503668, 0.06434128202435713, 0.009191611717765304, 0.019915158721824824, 0.061277411451768696, 0.12102288761724317, 0.02451096458070748, 0.6081783086588043, 0.04595805858882652, 0.04136225272994387, 0.004595805858882652, 0.9584252237691375, 0.009290942407476018, 0.07432753925980815, 0.02787282722242805, 0.009290942407476018, 0.8547667014877937, 0.009290942407476018, 0.02435956964623809, 0.07307870893871427, 0.04871913929247618, 0.8525849376183331, 0.01859612712322174, 0.9484024832843087, 0.01859612712322174, 0.01859612712322174, 0.006294332142884103, 0.006294332142884103, 0.03776599285730462, 0.9252668250039632, 0.006294332142884103, 0.012588664285768205, 0.020167990403440944, 0.020167990403440944, 0.9680635393651653, 0.038086079096013255, 0.0796345290189368, 0.010387112480730888, 0.10213993939385373, 0.6699687550071423, 0.005193556240365444, 0.006924741653820591, 0.01558066872109633, 0.06924741653820592, 0.9672510384764076, 0.09620703724599526, 0.22484341288951704, 0.05188694143604239, 0.5134645246275028, 0.006485867679505299, 0.04648205170312131, 0.016214669198763246, 0.002161955893168433, 0.020538580985100113, 0.02161955893168433, 0.9606468159352745, 0.019515918071430268, 0.019515918071430268, 0.0292738771071454, 0.8977322312857924, 0.009757959035715134, 0.11892966881967844, 0.16313361652256778, 0.10465547737395377, 0.09991934012007277, 0.11222014104334703, 0.13103313069070766, 0.10491859611028048, 0.0669637183951508, 0.0595306140939209, 0.038678454240028165, 0.23037703805782353, 0.01759824596275041, 0.06879314330893342, 0.001599840542068219, 0.01439856487861397, 0.007999202710341095, 0.043195694635841914, 0.14078596770200327, 0.03679633246756904, 0.438356308526692, 0.08432310480445271, 0.0478120697344835, 0.0764993115751736, 0.024340690046646143, 0.15734517494439115, 0.04172689722282196, 0.050420000810909874, 0.3546786263939867, 0.1138796570039516, 0.04955069045210108, 0.97985811575992, 0.2088823094992591, 0.10608997767080096, 0.13840690692576077, 0.08960174845908678, 0.055306231698721287, 0.11315636161867847, 0.15282233017943087, 0.05134905668790988, 0.05803856682523392, 0.02638116673874269, 0.14446180891858182, 0.08409592334741652, 0.12041953380316943, 0.19046477688833194, 0.07472880317258052, 0.17943239090463622, 0.07660222720754771, 0.06421681275415345, 0.036115452229645455, 0.029454388994206524, 0.05973703520982629, 0.8960555281473943, 0.012324476178738539, 0.7826042373498973, 0.06778461898306197, 0.08627133325116977, 0.006162238089369269, 0.036973428536215616, 0.006162238089369269, 0.01722195558083529, 0.014090690929774328, 0.043837705114853465, 0.010959426278713366, 0.07671598395099356, 0.004696896976591443, 0.012525058604243848, 0.15030070325092618, 0.576152695795217, 0.09550357185735935, 0.01625127519021764, 0.0812563759510882, 0.8775688602717526, 0.04226250121537267, 0.021131250607686336, 0.9086437761305125, 0.021131250607686336, 0.10927553907733614, 0.11166330792606971, 0.15941868490074101, 0.08497647961669455, 0.10435954438876703, 0.08062231289253335, 0.10744959819301048, 0.0941061840383229, 0.07303763537302672, 0.07500403324845437, 0.11265728770897379, 0.00375524292363246, 0.8223982002755087, 0.00187762146181623, 0.00563286438544869, 0.00187762146181623, 0.00751048584726492, 0.02253145754179476, 0.00563286438544869, 0.013143350232713609, 0.9398015638874533, 0.042552975712512715, 0.9361654656752797, 0.9828737027098562, 0.01390018090699673, 0.004633393635665576, 0.7737767371561513, 0.13900180906996729, 0.01390018090699673, 0.009266787271331152, 0.04170054272099019, 0.04081017226289513, 0.8978237897836928, 0.06862872830756656, 0.061003314051170265, 0.007625414256396283, 0.8235447396907986, 0.015250828512792566, 0.007625414256396283, 0.007625414256396283, 0.01998180289414618, 0.15985442315316944, 0.037743405466720566, 0.028862604180433373, 0.024422203537289775, 0.670500497114683, 0.01110100160785899, 0.024422203537289775, 0.01998180289414618, 0.0022202003215717977, 0.0463069136769506, 0.030871275784633733, 0.032157578942326806, 0.009004122103851505, 0.005145212630772289, 0.802653170400477, 0.0038589094730792166, 0.054024732623109036, 0.005145212630772289, 0.010290425261544578, 0.9512452694249993, 0.9550911671280583, 0.011243193792055618, 0.022486387584111235, 0.007783749548346196, 0.024216109705965945, 0.37707942256432686, 0.18075596173381722, 0.0008648610609273551, 0.006054027426491486, 0.0025945831827820652, 0.3684308119550533, 0.004280115429557374, 0.012840346288672123, 0.002853410286371583, 0.03852103886601637, 0.861729906484218, 0.031387513150087414, 0.015693756575043707, 0.024253987434158453, 0.0071335257159289575, 0.0014267051431857915, 0.9620657290555797, 0.9605225659812989, 0.019186898115114637, 0.08634104151801586, 0.028780347172671954, 0.7962562717772574, 0.07674759246045855, 0.9592517796999991, 0.03307764757586204, 0.030677169635489807, 0.5049296299463052, 0.20810728590562003, 0.06632901542808607, 0.02653160617123443, 0.08539860736366081, 0.007462014235659682, 0.027360718864085504, 0.016582253857021518, 0.027360718864085504, 0.14066453806427653, 0.8439872283856593, 0.9602471164198196, 0.023420661376093162, 0.013069394817383348, 0.11762455335645014, 0.8495106631299176, 0.9466670971409891, 0.2015846003475629, 0.0734795884674973, 0.1753695626342027, 0.10834688000743452, 0.09530393020916171, 0.0720590691825369, 0.09827410689589709, 0.08820133378435968, 0.04119505926385174, 0.04623144581962045, 0.6705319410231266, 0.018741575991329626, 0.17283897858670655, 0.006247191997109876, 0.016659178658959668, 0.04373034397976913, 0.010411986661849794, 0.01457678132658971, 0.01457678132658971, 0.03123595998554938, 0.11549714365153764, 0.15344620513704285, 0.004949877585065899, 0.6187346981332373, 0.018149551145241628, 0.03464914309546129, 0.018149551145241628, 0.024749387925329495, 0.0016499591950219661, 0.0065998367800878645, 0.9111595136845676, 0.003598416462449971, 0.014393665849799883, 0.003598416462449971, 0.010795249387349912, 0.07196832924899942, 0.748470624189594, 0.007196832924899942, 0.003598416462449971, 0.003598416462449971, 0.13314140911064892, 0.9406191840364457, 0.9283147294564692, 0.9290043703298089, 0.013865736870594163, 0.04159721061178249, 0.013865736870594163, 0.1500339473823517, 0.0343827796084556, 0.08283124178400668, 0.03750848684558793, 0.06095129112408038, 0.023442804278492456, 0.17347675166084417, 0.03594563322702177, 0.10627404606249913, 0.2969421875275711, 0.013819289866726639, 0.011055431893381311, 0.022110863786762622, 0.04836751453354324, 0.21972670888095355, 0.07186030730697852, 0.03593015365348926, 0.5292788018956303, 0.03178436669347127, 0.019347005813417296, 0.4084827778304946, 0.024590936458023085, 0.006830815682784191, 0.1429917416262824, 0.028234038155507988, 0.02003705933616696, 0.1835212480108019, 0.15346565900655149, 0.015483182214310833, 0.01639395763868206, 0.9159769641933656, 0.08898055374163039, 0.9025170450936796, 0.03826596997324458, 0.0030612775978595664, 0.02449022078287653, 0.045919163967893493, 0.013775749190368048, 0.05204171916361263, 0.3551082013517097, 0.44082397409177754, 0.007653193994648916, 0.016837026788227617, 0.06432626515484775, 0.1085120383442799, 0.027539040034343765, 0.34423800042929703, 0.0526118973790448, 0.033704496758450574, 0.0559001409652351, 0.22935499013677343, 0.06884760008585941, 0.015208126586130138, 0.4078834631074215, 0.07404511465643081, 0.3120060135522927, 0.0369647998284834, 0.015479009928177424, 0.021716819899233998, 0.02056166990459389, 0.03511655983705923, 0.05267483975558884, 0.023680574890122177, 0.03725963411876471, 0.9314908529691178, 0.9892674441559689, 0.5983222519578079, 0.07756029192045658, 0.15650558905377843, 0.052630198088881246, 0.008310031277191775, 0.01662006255438355, 0.02077507819297944, 0.026315099044440623, 0.036010135534497695, 0.008310031277191775, 0.006732609919535523, 0.010098914879303283, 0.7271218713098364, 0.0875239289539618, 0.0875239289539618, 0.07069240415512298, 0.006732609919535523, 0.017708960452764183, 0.038959712996081204, 0.1664642282559833, 0.06375225762995106, 0.0035417920905528363, 0.06375225762995106, 0.6091882395750878, 0.035417920905528366, 0.021994459579489315, 0.009677562214975299, 0.002639335149538718, 0.7799235366886912, 0.001319667574769359, 0.01803545685518124, 0.0321119109860544, 0.13328642505170527, 0.0008797783831795726, 0.05862793135438559, 0.9185042578853743, 0.019542643784795196, 0.019542643784795196, 0.03465195210920333, 0.9356027069484898, 0.908458703408606, 0.2472217874722333, 0.022820472689744613, 0.007606824229914871, 0.011410236344872307, 0.01901706057478718, 0.6884175928072959, 0.9660351134639193, 0.9262944991129968, 0.042104295414227125, 0.9664694650565037, 0.04258257326646335, 0.035568972963751735, 0.09017486103486355, 0.037071887314332794, 0.24848183929606846, 0.01001942900387373, 0.08616708943331407, 0.07664863187963403, 0.2925673269131129, 0.0811573749313772, 0.08283730877525615, 0.8835979602693989, 0.00845224157314208, 0.8621286404604922, 0.029582845505997282, 0.06339181179856561, 0.00422612078657104, 0.002817413857714027, 0.005634827715428054, 0.0211306039328552, 0.002817413857714027, 0.9641260310506524, 0.01819105718963495, 0.0454246252212316, 0.040592218282802704, 0.037692774119745365, 0.14110628260212368, 0.10293026778853542, 0.11936045137919367, 0.4078551456033986, 0.040592218282802704, 0.03479332995668803, 0.02947768232441625, 0.9820304633789627, 0.012275380792237034, 0.13830346918757716, 0.0241866162331216, 0.018689657998321237, 0.08861096674498187, 0.24285561481348006, 0.057828000630099824, 0.24725318140132035, 0.11312740047219148, 0.02946369613852995, 0.039688038455258624, 0.19414231056164816, 0.08383417956071171, 0.004412325240037459, 0.02647395144022475, 0.6883227374458435, 0.025361918538459788, 0.23562040448633612, 0.6078679185185685, 0.005726884831265114, 0.0024543792133993343, 0.02045316011166112, 0.014726275280396007, 0.01554440168486245, 0.016362528089328896, 0.05645072190818469, 0.19199657624111902, 0.0165644104992338, 0.015560506832613568, 0.07479082316320715, 0.08432790799609934, 0.052704942497562086, 0.40407122581464266, 0.09687670382885222, 0.022336856582300123, 0.04065809849811932, 0.18568057392415757, 0.034141266818312845, 0.02036496617232696, 0.16531560775183063, 0.05869902014376595, 0.04432374990447632, 0.4043044754800205, 0.04013096275135019, 0.019167026985719492, 0.02755260129197177, 0.03567298829711519, 0.9274976957249949, 0.25904519520855146, 0.04144723123336823, 0.006907871872228038, 0.013815743744456077, 0.017269679680570096, 0.005180903904171029, 0.11916078979593366, 0.008634839840285048, 0.020723615616684114, 0.5094555505768178, 0.9099751700129411, 0.060195345928307865, 0.902930188924618, 0.9347401008926873, 0.04248818640421306, 0.02867754153353736, 0.02150815615015302, 0.01433877076676868, 0.0716938538338434, 0.00716938538338434, 0.00716938538338434, 0.7742936214055087, 0.02150815615015302, 0.0358469269169217, 0.02150815615015302, 0.9648476015176445, 0.022438316314363826, 0.9436324085314486, 0.007609938778479424, 0.03804969389239712, 0.17356931930472302, 0.12698998220317306, 0.0523404656377943, 0.11939019562344648, 0.07281085852189652, 0.16008582698585327, 0.09597794986977268, 0.08923620371033782, 0.07930745027553375, 0.030276569116007474, 0.05001239631761837, 0.9252293318759399, 0.9874470036476164, 0.005850916807762957, 0.08337556451062214, 0.02194093802911109, 0.01901547962522961, 0.10531650253973322, 0.30863586160949597, 0.0014627292019407392, 0.01901547962522961, 0.004388187605822218, 0.4300423853705773, 0.15972144843200145, 0.30287687579375616, 0.25692960980646806, 0.0687646157632883, 0.007189028011616504, 0.02844354561117834, 0.023442482646575554, 0.021879650470137187, 0.08283010535123363, 0.048135231034301805, 0.960415815983943, 0.040017325665997625, 0.11038839390738837, 0.012737122373929427, 0.018044256696400023, 0.05731705068268242, 0.037149940257294164, 0.6665760709023066, 0.025474244747858855, 0.022289964154376497, 0.008491414915952952, 0.040334220850776516, 0.9445590499443163, 0.09126129319611641, 0.07336692198119163, 0.6155663697934126, 0.030420431065372136, 0.06084086213074427, 0.023262682579402224, 0.007157748485969915, 0.021473245457909743, 0.03757817955134205, 0.03936761667283453, 0.09440629833276068, 0.25581061483715795, 0.4682247860858695, 0.03349900908581831, 0.005329387809107458, 0.04644180805079356, 0.009136093387041357, 0.02360157458319017, 0.0525325369754878, 0.012181457849388474, 0.010249876303423507, 0.03553290451853482, 0.008883226129633706, 0.017538677230302446, 0.7714740231043427, 0.12140409043832731, 0.01070542636135344, 0.011388751448248342, 0.0047832756082643035, 0.007744350984808872, 0.008261661936629382, 0.9831377704588964, 0.008261661936629382, 0.9659443670638894, 0.9571193360959264, 0.08206050624681602, 0.41568775195652735, 0.1682240378059728, 0.06308401417723981, 0.012309075937022402, 0.09334382585575321, 0.026413225448193904, 0.030516250760534703, 0.060519623357026806, 0.04744123017394051, 0.006050675331533075, 0.0030253376657665373, 0.0030253376657665373, 0.006050675331533075, 0.9439053517191597, 0.018152025994599225, 0.006050675331533075, 0.0030253376657665373, 0.006050675331533075, 0.9433179154547866, 0.025155144412127645, 0.012577572206063823, 0.07058970039976413, 0.01541284854507837, 0.008881009384710585, 0.04285803238557108, 0.21268585055513348, 0.101529991159401, 0.11172882774313316, 0.396035721723352, 0.02538249778985025, 0.014839880197677686, 0.024888839108130337, 0.023506125824345317, 0.009678992986495131, 0.013827132837850187, 0.15209846121635207, 0.03318511881084045, 0.009678992986495131, 0.6996529215952194, 0.02074069925677528, 0.013827132837850187, 0.004740294340680146, 0.7868888605529043, 0.042662649066121314, 0.1422088302204044, 0.004740294340680146, 0.014220883022040439, 0.01657960336911916, 0.06631841347647664, 0.9118781853015538, 0.046593474550446455, 0.924103911917188, 0.015531158183482151, 0.1515076492995564, 0.02365395332267637, 0.02528526044837819, 0.018760031945570913, 0.4806238619098983, 0.033441796076887284, 0.05648400922742547, 0.0418022450961091, 0.030587008606909098, 0.13764153873109095, 0.955702712480343, 0.9851883059173426, 0.9486969390513107, 0.9579742373457489, 0.9555230903291073, 0.02730065972368878, 0.01037327380503589, 0.003457757935011963, 0.008644394837529908, 0.03457757935011963, 0.7710800195076678, 0.015559910707553833, 0.06396852179772132, 0.07952843250527515, 0.005186636902517945, 0.01037327380503589, 0.9418402772613033, 0.028856488680684717, 0.014428244340342358, 0.026233171527895196, 0.009837439322960698, 0.816507463805738, 0.01705156149313188, 0.009181610034763319, 0.06427127024334323, 0.0019674878645921396, 0.011149097899355458, 0.933756709727746, 0.006725169383810534, 0.9885998994201485, 0.9375789863360904, 0.02678797103817401, 0.9749470916936518, 0.06869170312736435, 0.11392770274782381, 0.6952940682403953, 0.02513111090025525, 0.00502622218005105, 0.006701629573401401, 0.0016754073933503502, 0.033508147867007, 0.045235999620459454, 0.0033508147867007004, 0.07841345553976871, 0.1297638600525376, 0.03851280338457667, 0.4350905895879202, 0.11102790164923003, 0.08500573720019175, 0.032961408302115164, 0.050656480127461205, 0.01075582797226916, 0.027410013219653664, 0.1308745686099433, 0.045920901266646774, 0.030613934177764514, 0.04209415949442621, 0.013776270379994031, 0.0237257989877675, 0.4523208774764707, 0.17679546987659006, 0.01836836050665871, 0.06505461012774959, 0.9276215112582289, 0.9312391518117795, 0.015783714437487786, 0.03156742887497557, 0.9272835534078283, 0.9628438192350932, 0.034387279258396186, 0.18724391954559197, 0.1512930869928383, 0.08795114392370092, 0.13000077842736815, 0.10592656020007775, 0.12047808766190661, 0.06986873112186946, 0.07168767205459807, 0.03466687424729817, 0.04087267272366636, 0.23635984817913763, 0.114496011243884, 0.134389140610582, 0.12923166262662325, 0.04715408442476561, 0.170049416956811, 0.06395272700108837, 0.057321683878855695, 0.02681888551658544, 0.020335198908180172, 0.05234953865685641, 0.03489969243790427, 0.017449846218952136, 0.889942157166559, 0.05413354710496651, 0.36501477476491706, 0.144356125613244, 0.08970702091680165, 0.012888939786896788, 0.008248921463613943, 0.02371564920789009, 0.03918237695216623, 0.02371564920789009, 0.23921872244480438, 0.030879937080621492, 0.21134141335318965, 0.337270234781256, 0.28164254670694494, 0.04051622950294309, 0.010731325652130873, 0.02102463801233804, 0.022557684534071018, 0.030441923788697783, 0.013797418695596838, 0.030438034496718693, 0.8827030004048422, 0.030438034496718693, 0.030438034496718693, 0.0032770201707841857, 0.009831060512352557, 0.17695908922234602, 0.7635456997927152, 0.036047221878626044, 0.006554040341568371, 0.9184596807700144, 0.04271905491953556, 0.03203929118965167, 0.08498911820516195, 0.08498911820516195, 0.8256085768501445, 0.01214130260073742, 0.06010427400203146, 0.006472767969449541, 0.09570449783400393, 0.05270682489408912, 0.01202085480040629, 0.006010427400203145, 0.6495884997911862, 0.046696397493885974, 0.014794898215884667, 0.05594320887881389, 0.006418338935523785, 0.004813754201642839, 0.23426937114661817, 0.7044126981737354, 0.01604584733880946, 0.03369627941149987, 0.9744263247815341, 0.07741101835267598, 0.03440489704563377, 0.09461346687549287, 0.017202448522816886, 0.7483065107425345, 0.008601224261408443, 0.017202448522816886, 0.9311143584725784, 0.0387964316030241, 0.0013988806612572045, 0.0013988806612572045, 0.9932052694926151, 0.002797761322514409, 0.018479042717028722, 0.030358427320832902, 0.007919589735869453, 0.06467664950960053, 0.7774397257378513, 0.05675705977373108, 0.014519247849093997, 0.019798974339673633, 0.0013199316226449088, 0.007919589735869453, 0.04183072091593254, 0.9202758601505159, 0.15839877784102216, 0.8315935836653664, 0.047077064668728796, 0.9101565835954234, 0.015692354889576265, 0.9179397645162894, 0.9818444353677999, 0.0077310585462031485, 0.0077310585462031485, 0.9603583225476601, 0.029101767349929093, 0.9742280144207836, 0.9403613888942604, 0.010928991075837807, 0.021857982151675615, 0.06557394645502684, 0.8743192860670246, 0.010928991075837807, 0.08017793713364212, 0.016035587426728424, 0.8659217210433348, 0.016035587426728424, 0.016035587426728424, 0.04537783908600763, 0.010471809019847915, 0.0069812060132319435, 0.04537783908600763, 0.017453015033079857, 0.02094361803969583, 0.7784044704753617, 0.02094361803969583, 0.010471809019847915, 0.04188723607939166, 0.032424876717740025, 0.004472396788653797, 0.0022361983943268984, 0.04584206708370142, 0.0022361983943268984, 0.0033542975914903476, 0.870999274590327, 0.01229909116879794, 0.005590495985817246, 0.021243884746105536, 0.9693317515372226, 0.9323558240341143, 0.12461363289158893, 0.04199122418038535, 0.009350272590774067, 0.2007758532673486, 0.12342359819821769, 0.04335126382995249, 0.3043088715906469, 0.11985349411810395, 0.019550569962527593, 0.012920376670887801, 0.18596442284568193, 0.03925597215694673, 0.057307988550287195, 0.27908990423989866, 0.08596198282543079, 0.02206357559186057, 0.199145260212248, 0.08252350351241355, 0.02836745433239216, 0.02005779599260052, 0.030953029147335102, 0.2954040768289296, 0.10116862546813553, 0.09265134899135205, 0.19693605121928642, 0.14832525376642458, 0.009971445631356273, 0.0779019189949709, 0.014749429996381156, 0.03199172140060138, 0.9479918339682633, 0.031073742130771072, 0.11652653299039152, 0.16313714618654812, 0.031073742130771072, 0.007768435532692768, 0.007768435532692768, 0.637011713680807, 0.016370929411803396, 0.09822557647082038, 0.86765925882558, 0.9684825626701287, 0.020606011971704866, 0.9551218418690062, 0.02894308611724261, 0.018210407756791766, 0.018210407756791766, 0.018210407756791766, 0.9105203878395883, 0.018210407756791766, 0.050458484770559864, 0.016819494923519956, 0.03363898984703991, 0.8577942410995176, 0.03363898984703991, 0.04812472531209575, 0.9143697809298192, 0.03311035309336643, 0.10622904950788395, 0.07311869641451751, 0.08174118419924836, 0.48872260763854397, 0.07346359592590676, 0.026557262376970987, 0.059322715958948176, 0.018624573615018614, 0.03931854429837263, 0.9513439728528698, 0.9743397019570067, 0.009361015986166505, 0.7301592469209874, 0.13573473179941434, 0.023402539965416264, 0.009361015986166505, 0.05148558792391578, 0.023402539965416264, 0.004680507993083252, 0.014041523979249758, 0.04500056415957632, 0.4551485632140005, 0.2365743944389155, 0.12407298403997472, 0.010928708438754249, 0.010285843236474588, 0.04114337294589835, 0.03792904693450004, 0.009642978034194926, 0.028286068900305116, 0.009163142165683272, 0.018326284331366544, 0.943803643065377, 0.009163142165683272, 0.031140820541329675, 0.9342246162398903, 0.916477555326705, 0.1810033054419729, 0.01863417446119365, 0.046937974588736435, 0.05610397391829656, 0.17324745985542203, 0.06728447859501274, 0.2900887699904741, 0.07554395051835264, 0.0429089638944243, 0.048247403064387885, 0.9705167316730338, 0.016733047097810927, 0.9758576588125789, 0.025243012253401736, 0.007212289215257639, 0.07212289215257639, 0.007212289215257639, 0.12260891665937987, 0.17309494116618335, 0.05409216911443229, 0.5264971127138076, 0.014424578430515278, 0.9502583690714054, 0.9824923703435251, 0.9427469100745302, 0.02002499069691178, 0.06132653400929233, 0.914891762465157, 0.0025031238371139727, 0.9322497234149756, 0.028249991618635624, 0.05516672673731721, 0.9378343545343925, 0.953692730746408, 0.021572836118416854, 0.9492047892103416, 0.9590105209078723, 0.15695702480965257, 0.012940309081677112, 0.021529997006583472, 0.16141920035505847, 0.2335948898019989, 0.04629507128358622, 0.2542324516995012, 0.07451833160827855, 0.021753105783853765, 0.016733158295272128, 0.03400127142959703, 0.0492310075907707, 0.044626668751346105, 0.02373005401857293, 0.35028393170699446, 0.09421185625284179, 0.04568920848352102, 0.3159284803666724, 0.010979577232474043, 0.03152201205452225, 0.012789161716580231, 0.018152358565468714, 0.01402682252786219, 0.03836748514974069, 0.4232799974584296, 0.09117434643110423, 0.016089590546665453, 0.3692354753657841, 0.008251072075213053, 0.008663625678973705, 0.9281981913217415, 0.02320495478304354, 0.02320495478304354, 0.04690697768996666, 0.5164653689405705, 0.18371899595236943, 0.05521342165589826, 0.05716787905964687, 0.05863372211245833, 0.0063519865621829855, 0.03224854716185208, 0.009772287018743055, 0.03322577586372639, 0.9509679749409259, 0.011963845326209602, 0.693903028920157, 0.005981922663104801, 0.09571076260967681, 0.011963845326209602, 0.0029909613315524004, 0.023927690652419203, 0.008972883994657201, 0.005981922663104801, 0.13758422125141043, 0.08403457666002988, 0.01608069059543782, 0.04253602028470648, 0.02489913382519404, 0.06121037065360201, 0.02541786577988558, 0.035792504873716435, 0.07625359733965674, 0.5296253257400649, 0.10322765898361695, 0.010712429315772865, 0.005356214657886433, 0.9641186384195578, 0.016068643973659296, 0.007575734108487483, 0.267675938499891, 0.06565636227355819, 0.0025252447028291606, 0.017676712919804126, 0.18181761860369958, 0.005050489405658321, 0.4520188018064198, 0.040394423007219696, 0.05175535447800024, 0.020197211503609848, 0.1136093147078054, 0.0037869771569268465, 0.0037869771569268465, 0.41530516154297753, 0.22090700082073272, 0.1287572233355128, 0.28162563955989284, 0.04038677545545198, 0.014063252167523457, 0.07969176228263292, 0.06094075939260164, 0.05985897076433061, 0.3696111146592703, 0.06454672148683843, 0.008654309026168282, 0.020914580146573346, 0.9503563521558364, 0.03277090869502884, 0.9899661881609806, 0.9462921803280725, 0.07061677461354035, 0.011769462435590058, 0.9015408225661985, 0.0011769462435590058, 0.0011769462435590058, 0.0023538924871180115, 0.0035308387306770173, 0.0070616774613540345, 0.2347739527499315, 0.09081932066158228, 0.11768741836203148, 0.12326705526468068, 0.107729912504996, 0.09433878393863793, 0.08978923384878551, 0.06480962863846372, 0.03768400923481533, 0.03905745831854436, 0.8975616569638769, 0.9505606609306898, 0.962174014458859, 0.06027113678299993, 0.10748815638258513, 0.0627708613500368, 0.08526838245336857, 0.4496726748925203, 0.08054668049341004, 0.029718947630327158, 0.06054888395711514, 0.027219223063290294, 0.03666262698320733, 0.9777430563386202, 0.9651184210500635, 0.9367203353063317, 0.026290934667591206, 0.06572733666897801, 0.8413099093629186, 0.05258186933518241, 0.013145467333795603, 0.039282875852469736, 0.8170838177313705, 0.04713945102296368, 0.04713945102296368, 0.007856575170493946, 0.007856575170493946, 0.02356972551148184, 0.007856575170493946, 0.9420736777254658, 0.026389725660010695, 0.026389725660010695, 0.870860946780353, 0.07916917698003209, 0.1556161247585363, 0.03913981319684398, 0.02758649484355871, 0.03843246717521427, 0.5451280006692969, 0.031123224951707263, 0.060360193845735294, 0.04621327341314109, 0.031830570973336976, 0.02428554674262006, 0.8921722500131769, 0.04517327848167984, 0.01129331962041996, 0.04517327848167984, 0.010375964280074024, 0.07518814695705815, 0.053684336927339524, 0.024360959614086842, 0.6306781766758037, 0.051127939930799546, 0.006466180638307001, 0.12406044247914595, 0.007969943577448164, 0.016090263448810444, 0.047688822188954726, 0.5074327154403241, 0.0409887397326553, 0.2624855832879657, 0.04512702595566377, 0.02088849236375703, 0.016356083643319183, 0.02601208483033894, 0.007291266202443491, 0.02581502358162425, 0.8913595827946411, 0.02728651784065228, 0.036382023787536376, 0.018191011893768188, 0.018191011893768188, 0.05400925839447316, 0.08101388759170974, 0.8641481343115706, 0.09732849615845603, 0.07594998255139632, 0.22559957780081424, 0.016315181436966617, 0.011814441730217205, 0.04331961967746309, 0.0500707292375872, 0.07201183530799059, 0.37918732029363794, 0.0286922156305275, 0.9765863597558115, 0.9222494299277656, 0.032937479640277344, 0.0032368875360508633, 0.8739596347337331, 0.05664553188089011, 0.011329106376178021, 0.0016184437680254317, 0.045316425504712085, 0.0032368875360508633, 0.8754703686814381, 0.013264702555779365, 0.06632351277889682, 0.02652940511155873, 0.14413808838145165, 0.11843053298415006, 0.1736907909535633, 0.0984357676751377, 0.07866072506182879, 0.08316504032374916, 0.08744963288996609, 0.11293746559156424, 0.045482598010610505, 0.057677207622151, 0.08586748291271012, 0.0337513805668456, 0.7688365955594682, 0.01786837794715355, 0.010919564301038283, 0.01141590813290366, 0.010919564301038283, 0.03672944355803786, 0.01141590813290366, 0.011912251964769036, 0.9445932705290413, 0.029449827768065248, 0.0014724913884032623, 0.011779931107226098, 0.007362456942016312, 0.8952747641491835, 0.027977336379661984, 0.010307439718822836, 0.007362456942016312, 0.0029449827768065246, 0.010307439718822836, 0.054590269315436, 0.1179419398790284, 0.09233169007672509, 0.05391631537327013, 0.0431330522986161, 0.5277059367158814, 0.03302374316612795, 0.04919863777810899, 0.010783263074654026, 0.01752280249631279, 0.07772385711775687, 0.0829236926291561, 0.014778479874503066, 0.13601674995607452, 0.24931842899393136, 0.307611321832249, 0.0443354396235092, 0.05062997734783458, 0.010947022129261531, 0.02545182645053306, 0.05229991455413095, 0.06800559460041652, 0.07004733300643365, 0.11826377074853034, 0.28662866084471167, 0.06345094738699371, 0.09878872749113624, 0.16208261807766708, 0.034866609702753966, 0.045389415333765296, 0.03090050524658396, 0.9579156626441028, 0.017827233405893057, 0.7784558587239968, 0.04357768165884969, 0.00792321484706358, 0.01584642969412716, 0.005942411135297685, 0.00792321484706358, 0.11488661528242192, 0.00396160742353179, 0.001980803711765895, 0.9723593002813383, 0.0735686835234063, 0.04352813775134872, 0.08153862423844198, 0.08828242022808755, 0.169514508285182, 0.03126669049744767, 0.054256904098512145, 0.26270150741482995, 0.10698112729028665, 0.08828242022808755, 0.9699346286065628, 0.9621224827450414, 0.01250661548311804, 0.8348165834981293, 0.07191303902792874, 0.06565973128636972, 0.00312665387077951, 0.01250661548311804, 0.005275811429778038, 0.010551622859556076, 0.9390944345004908, 0.015827434289334114, 0.02110324571911215, 0.06165576613374881, 0.9248364920062322, 0.09406034575459764, 0.1237636128349969, 0.5247577184203869, 0.060396643063478486, 0.004950544513399876, 0.021782395858959455, 0.03366370269111916, 0.06435707867419839, 0.06138675196615846, 0.010891197929479728, 0.9221284416464358, 0.0242665379380641, 0.0242665379380641, 0.12314632581020073, 0.01847194887153011, 0.7696645363137545, 0.0061573162905100365, 0.03694389774306022, 0.03078658145255018, 0.0061573162905100365, 0.0061573162905100365, 0.037080620905879505, 0.9270155226469877, 0.9385182779630408, 0.23577836645278752, 0.12190064857741884, 0.11890701771844489, 0.08513886162921885, 0.08573758780101365, 0.03915669163537913, 0.0892101995974234, 0.08082803319229638, 0.06669809553793939, 0.07675669522409183, 0.10548679190973832, 0.8589638769792978, 0.01506954170139119, 0.13753351072480594, 0.7254892690733513, 0.09971179527548431, 0.010315013304360446, 0.020630026608720892, 0.0034383377681201483, 0.26295728752744923, 0.10731046155307544, 0.13847715212588171, 0.08323559278725504, 0.07987630877341964, 0.06121361980766739, 0.07091821806985855, 0.09294019104944622, 0.053002036662736396, 0.05020263331787356, 0.23990894940210264, 0.06925206786864818, 0.12904744579724986, 0.1225005066079869, 0.12599220750892715, 0.08350984654748751, 0.09122068603706389, 0.07099791831911831, 0.02909750750783537, 0.03869968498542104, 0.046317241460957816, 0.0661674878013683, 0.03308374390068415, 0.16293743871086946, 0.07195714298398803, 0.09180738932439853, 0.48302266094998864, 0.015714778352824973, 0.0215044335354447, 0.009098029572688142, 0.19269049549093858, 0.01568411009809965, 0.022032440375901893, 0.20837460558903823, 0.03921027524524913, 0.018298128447782926, 0.3939699084165508, 0.03659625689556585, 0.027633908268080338, 0.045185174330239476, 0.9794690879231182, 0.04320839933297755, 0.950584785325506, 0.08284362935603905, 0.30161515542247225, 0.040718045982033754, 0.23284689998614858, 0.1035545366950488, 0.14185966143370277, 0.030463130697669694, 0.03448466610330266, 0.013974835534574548, 0.017594217399644212, 0.033888611330961306, 0.029267437058557493, 0.010782739968942235, 0.6808530094674954, 0.07547917978259563, 0.015403914241346049, 0.055454091268845776, 0.036969394179230515, 0.009242348544807629, 0.05237330842057657, 0.06626552022662928, 0.08519852600566621, 0.002366625722379617, 0.14673079478753626, 0.018933005779036935, 0.021299631501416554, 0.5916564305949042, 0.021299631501416554, 0.004733251444759234, 0.04023263728045349, 0.9072987180602196, 0.85895050880375, 0.003205039211954291, 0.006410078423908582, 0.003205039211954291, 0.02564031369563433, 0.02564031369563433, 0.012820156847817165, 0.04487054896736008, 0.012820156847817165, 0.009615117635862874, 0.9486123369098771, 0.02635034269194103, 0.10041470427004763, 0.31187402479336157, 0.1400870543502744, 0.09377100928053597, 0.049922622349759034, 0.11180389568063905, 0.06245073290140959, 0.03986216993706995, 0.06643694989511659, 0.022968202678026017, 0.16665821365022002, 0.057968074313120004, 0.016303520900565003, 0.6593868453117401, 0.005434506966855001, 0.027172534834275, 0.032607041801130006, 0.019926525545135004, 0.0072460092891400004, 0.0072460092891400004, 0.05270242087071181, 0.9222923652374566, 0.11147628405371088, 0.34337950270559114, 0.1993553984902129, 0.05126281675462617, 0.03295466791368825, 0.16477333956844126, 0.013425975816687806, 0.05777238078695965, 0.01261228031264612, 0.013019128064666964, 0.9158817673048134, 0.9131557697209448, 0.4450056462251896, 0.036918986946089805, 0.13053498955938894, 0.030326310705716626, 0.07449724151621692, 0.03955605744223908, 0.0659267624037318, 0.038237522194164444, 0.08108991775659011, 0.05735628329124666, 0.026714426747636594, 0.9350049361672808, 0.031167838720203216, 0.021495061186347045, 0.015046542830442931, 0.06126092438108908, 0.7372805986917036, 0.01934555506771234, 0.055887159084502314, 0.04513962849132879, 0.008598024474538817, 0.006448518355904114, 0.024729717868658303, 0.018135126437016088, 0.004945943573731661, 0.0642972664585116, 0.7699185496442286, 0.031324309300300515, 0.029675661442389964, 0.047810787879406055, 0.0032972957158211073, 0.008243239289552768, 0.009017923158015225, 0.03967886189526699, 0.001803584631603045, 0.07935772379053398, 0.7124159294832028, 0.05410753894809135, 0.06132187747450353, 0.037875277263663944, 0.00360716926320609, 0.001803584631603045, 0.012025004590607279, 0.013027088306491219, 0.00200416743176788, 0.04509376721477729, 0.832731567899554, 0.02204584174944668, 0.03607501377182184, 0.033068762624170016, 0.00200416743176788, 0.00200416743176788, 0.08572522346492856, 0.9062380766292447, 0.006448912901809873, 0.06448912901809872, 0.006448912901809873, 0.009673369352714808, 0.02257119515633455, 0.0032244564509049363, 0.07738695482171846, 0.809338569177139, 0.0032244564509049363, 0.9263623848762292, 0.03352351876765037, 0.013409407507060146, 0.8615544323286144, 0.006704703753530073, 0.013409407507060146, 0.0033523518767650364, 0.06704703753530074, 0.955914096983502, 0.027933442553346077, 0.0055866885106692155, 0.009311147517782026, 0.04283127858179732, 0.1843607208520841, 0.00744891801422562, 0.022346754042676862, 0.09124924567426385, 0.5270109495064627, 0.08193809815648183, 0.9136258227275229, 0.004071452390354031, 0.9934343832463834, 0.9723718757214217, 0.0428372345624945, 0.9424191603748789, 0.10735125576118935, 0.019518410138398064, 0.03903682027679613, 0.009759205069199032, 0.022771478494797742, 0.006506136712799354, 0.042289888633195806, 0.03578375192039645, 0.6083237826467397, 0.11060432411758903, 0.04519483896086437, 0.022597419480432184, 0.04519483896086437, 0.007532473160144062, 0.866234413416567, 0.007532473160144062, 0.22386093177466945, 0.23296096965168855, 0.015015062497081488, 0.35581148099144616, 0.010920045452422901, 0.0077350321954662215, 0.01865507764788912, 0.08326534657472462, 0.023205096586398664, 0.02821011741875916, 0.02683549521609251, 0.9660778277793304, 0.9249995540836087, 0.008220774140677956, 0.05754541898474569, 0.8960643813338971, 0.01644154828135591, 0.01644154828135591, 0.014797126564680805, 0.011382405049754464, 0.10244164544779018, 0.039838417674140626, 0.0978886834278884, 0.0034147215149263393, 0.10927108847764286, 0.13772710110202901, 0.3380574299777076, 0.14569478463685714, 0.016967396634148025, 0.016967396634148025, 0.8992720216098454, 0.016967396634148025, 0.016967396634148025, 0.1492889774967646, 0.014102463085016868, 0.02039549768747063, 0.05011681773761371, 0.16232996486570492, 0.06338526418857043, 0.1384467612539828, 0.3508935438573014, 0.031237713930252417, 0.019788940135426897, 0.9803149350850837, 0.9552099585255195, 0.0898067668441889, 0.026330779807720302, 0.045138479670377665, 0.007523079945062944, 0.02586058731115387, 0.022569239835188833, 0.13870678648709803, 0.062065409546769285, 0.5496550284861613, 0.03150289726995108, 0.9490133504748407, 0.9093998429169412, 0.020859324300928333, 0.9699585799931675, 0.15343546869482044, 0.024916870984628962, 0.045462361094761615, 0.045462361094761615, 0.16917243984300714, 0.03846815169556752, 0.07081637016684021, 0.09179899836442248, 0.288948275804206, 0.07169064634173947, 0.03242605458105005, 0.009414015846111306, 0.05648409507666784, 0.02824204753833392, 0.20083233805037454, 0.007322012324753238, 0.06903611620481624, 0.1809583045974729, 0.30857051940031505, 0.10564617782858243, 0.04247865127070951, 0.10825204678664682, 0.12743595381212852, 0.067143674589186, 0.0876978606879164, 0.04658948849045559, 0.0438489303439582, 0.08906813976116511, 0.10414120956690073, 0.28364776816247966, 0.1331100547222857, 0.08234774571802421, 0.054146462937878934, 0.054146462937878934, 0.047378155070644065, 0.0203049236017046, 0.20643338995066343, 0.047378155070644065, 0.30682995664798063, 0.046250103759438256, 0.08324748455128846, 0.07510773050627359, 0.12702949494492904, 0.20707040972090862, 0.185117739720717, 0.08324748455128846, 0.06992788702308231, 0.09212721623675922, 0.032189027359831535, 0.04501530646106709, 0.11880288972230829, 0.1522162024567075, 0.6385655322574071, 0.08910216729173122, 0.019640669060892714, 0.9034707768010648, 0.07856267624357086, 0.9558666058752107, 0.9309525183891122, 0.07396489836008804, 0.912233746441086, 0.9546697100241751, 0.06297086910567361, 0.9445630365851041, 0.006022002853239489, 0.006022002853239489, 0.006022002853239489, 0.018066008559718467, 0.9574984536650788, 0.11484097594082886, 0.23981497917055436, 0.03377675762965555, 0.3792208697511327, 0.05066513644448332, 0.07676535824921715, 0.029784959000696252, 0.015967194515837165, 0.016581317381830905, 0.04237447775356787, 0.989661959040085, 0.8891647733957042, 0.006183759681019019, 0.10512391457732334, 0.06802135649120922, 0.012367519362038039, 0.01855127904305706, 0.7791537198083965, 0.07367862568697216, 0.21863331317981954, 0.08248802658432752, 0.1729845994389781, 0.10951687024666786, 0.10290981957365132, 0.0716764891193914, 0.09690340987090904, 0.036639099186728, 0.03443674896238916, 0.9282808636278224, 0.006314672065170559, 0.018944016195511677, 0.90299810531939, 0.018944016195511677, 0.006314672065170559, 0.006314672065170559, 0.037888032391023355, 0.008059608116876915, 0.12492392581159219, 0.06649176696423455, 0.002014902029219229, 0.36671216931789963, 0.060447060876576864, 0.008059608116876915, 0.002014902029219229, 0.3626823652594612, 0.028686627949522377, 0.13191146130886927, 0.03550558049490064, 0.13637905090756539, 0.44934545911096113, 0.06842466174845091, 0.02727581018151308, 0.0799463401871935, 0.008229770313387567, 0.034329899021559564, 0.965028749337796, 0.9308777169119401, 0.9840239382969251, 0.9684970200548585, 0.9637454164219685, 0.3086626926535593, 0.07643076199040515, 0.01175857876775464, 0.5408946233167133, 0.01028875642178531, 0.00587928938387732, 0.008818934075815979, 0.019107690497601287, 0.01175857876775464, 0.00587928938387732, 0.01923743102831886, 0.018819226005964102, 0.009827818025336808, 0.06210344581968153, 0.7791159566469138, 0.06356716339792319, 0.01338256071535225, 0.019655636050673615, 0.006482177846498746, 0.007945895424740399, 0.032607952467659615, 0.23622650009904522, 0.04528882287174947, 0.09238919865836892, 0.06485359435234524, 0.39129542961191544, 0.03949185354416554, 0.048187307535541436, 0.03079639955278964, 0.01884015031464778, 0.9897263775327726, 0.020641632387046416, 0.09239587830392205, 0.07699656525326838, 0.06454605682933562, 0.5166960995932095, 0.027194531557537344, 0.011139928589834574, 0.14318084687522672, 0.00884641388016275, 0.03833446014737192, 0.022160938326468833, 0.03653560102471889, 0.013775718419156301, 0.1629128439135006, 0.01856727265190632, 0.6792028124923151, 0.0071873313491250266, 0.03174404679196887, 0.005989442790937522, 0.022160938326468833, 0.011271247148584186, 0.03832224030518623, 0.0067627482891505115, 0.09242422661839032, 0.0067627482891505115, 0.7957500486900436, 0.004508498859433675, 0.029305242586318885, 0.0022542494297168375, 0.011271247148584186, 0.08313581057505873, 0.14511872260143388, 0.04378158071704276, 0.07920038758925713, 0.09100665654666192, 0.4550332827333096, 0.032467239632863173, 0.05214435456187115, 0.006886990225152794, 0.01131434108417959, 0.935586731373461, 0.9206293726747328, 0.008950977232567253, 0.07160781786053802, 0.8771957687915907, 0.008950977232567253, 0.017901954465134505, 0.008950977232567253, 0.037887428368151434, 0.14174355554202536, 0.09538717259746361, 0.019166581409770726, 0.05705400977792216, 0.5678656910708815, 0.011143361284750422, 0.04501917959039171, 0.013372033541700508, 0.011143361284750422, 0.9319173414826413, 0.04203916489351921, 0.07159795270927491, 0.04203916489351921, 0.039411717087674256, 0.18851938006937521, 0.503156254819308, 0.00853920536899609, 0.030215649767216933, 0.06502933319466253, 0.010509791223379802, 0.9608174905977697, 0.969092212020784, 0.039063184099144437, 0.04287422645028048, 0.11528403112186529, 0.005716563526704064, 0.13910304581646557, 0.018102451167896202, 0.007622084702272085, 0.06764600173266476, 0.5545066620902942, 0.009527605877840108, 0.05099570686192712, 0.008868818584682978, 0.006651613938512233, 0.03325806969256117, 0.0399096836310734, 0.008868818584682978, 0.8314517423140292, 0.004434409292341489, 0.011086023230853722, 0.006651613938512233, 0.9641907964346141, 0.018905701890874788, 0.011343421134524873, 0.0037811403781749576, 0.0037811403781749576, 0.9354695820127926, 0.026727702343222647, 0.026727702343222647, 0.9509532797041425, 0.46710519176434734, 0.07483728341170727, 0.05273768294113599, 0.18734434035279737, 0.027624500588214092, 0.02812676423527253, 0.08940292917640197, 0.04219014635290879, 0.01004527294116876, 0.020592809529395958, 0.05512054704784032, 0.9370492998132854, 0.503894394064843, 0.054879587472408654, 0.107264648241526, 0.02120347697797607, 0.049890534065826046, 0.016214423571393466, 0.028687057087849976, 0.06111590423063691, 0.08231938120861297, 0.07358853774709342, 0.059176976735315814, 0.14973568355754155, 0.34729114629513624, 0.15242554613641954, 0.15780527129417551, 0.020622279771397935, 0.013150439274514626, 0.048716400039679184, 0.0331749718061619, 0.017633543572644614, 0.9314516640133037, 0.9699983828747393, 0.094030054151665, 0.009644108118119487, 0.007233081088589615, 0.05304259464965718, 0.0024110270295298717, 0.004822054059059743, 0.6678544871797745, 0.0024110270295298717, 0.038576432472477946, 0.1205513514764936, 0.005206235136600239, 0.0937122324588043, 0.8798537380854404, 0.005206235136600239, 0.010412470273200478, 0.005206235136600239, 0.08028526005410726, 0.02437231108785399, 0.08171892541221631, 0.028673307162181163, 0.10609123650007031, 0.02437231108785399, 0.017203984297308697, 0.06451494111490762, 0.22508546122312215, 0.3469470166623921, 0.044558845747314044, 0.022279422873657022, 0.8688974920726238, 0.044558845747314044, 0.10896876630956942, 0.009080730525797453, 0.009080730525797453, 0.03632292210318981, 0.018161461051594906, 0.018161461051594906, 0.027242191577392355, 0.7718620946927834, 0.009080730525797453, 0.19456287816546233, 0.03242714636091039, 0.7620379394813942, 0.2822301655427187, 0.05432275780353256, 0.11926189213212098, 0.07803726121015084, 0.13608264454844324, 0.06190588389285817, 0.05721813321945689, 0.09789126406220335, 0.05845900839771017, 0.05446063282333848, 0.949053580691553, 0.018389993351365846, 0.10788796099467962, 0.009807996454061784, 0.02819798980542763, 0.026971990248669905, 0.6399717686275314, 0.004903998227030892, 0.11524395833522597, 0.0159379942378504, 0.03310198803245852, 0.9615489600384048, 0.01942523151592737, 0.009712615757963686, 0.009837210786225037, 0.0024593026965562593, 0.024593026965562592, 0.7673024413255529, 0.08607559437946907, 0.022133724269006335, 0.07623838359324404, 0.0024593026965562593, 0.009837210786225037, 0.9131193937469206, 0.9699761750247686, 0.025335333657543323, 0.11084208475175204, 0.30296836498812224, 0.005278194511988192, 0.004222555609590554, 0.020057139145555132, 0.004222555609590554, 0.025335333657543323, 0.005278194511988192, 0.49615028412689005, 0.018188770804617366, 0.021826524965540838, 0.02546427912646431, 0.03637754160923473, 0.07639283737939294, 0.8148569320468579, 0.003637754160923473, 0.9701587624841301, 0.013959118884663743, 0.006979559442331871, 0.004054230730387151, 0.8716596070332374, 0.05270499949503296, 0.016216922921548603, 0.04865076876464581, 0.004054230730387151, 0.08406012130453688, 0.40285730071838327, 0.1642993280043221, 0.13738679904911463, 0.059473366456569574, 0.05814435268100378, 0.02192872729683571, 0.038707526213353945, 0.014785278253169531, 0.018273939414029758, 0.06040295339845797, 0.014094022459640193, 0.014094022459640193, 0.02214774957943459, 0.7791980988401078, 0.014094022459640193, 0.04228206737892058, 0.04026863559897198, 0.004026863559897198, 0.008053727119794397, 0.08237966062408433, 0.22539990476311966, 0.028604048827807062, 0.5537743853063447, 0.00915329562489826, 0.03318069664025619, 0.038901506405817604, 0.016018267343571955, 0.005720809765561412, 0.008009133671785977, 0.040094631307179884, 0.13262070355451808, 0.04317883371542449, 0.6754403274055688, 0.00925260722473382, 0.030842024082446066, 0.03701042889893528, 0.01850521444946764, 0.006168404816489214, 0.006168404816489214, 0.05893164872160506, 0.019643882907201687, 0.019643882907201687, 0.8250430821024708, 0.05893164872160506, 0.012920593715643787, 0.025841187431287573, 0.012920593715643787, 0.11628534344079407, 0.012920593715643787, 0.8010768103699147, 0.03444193501802569, 0.006888387003605138, 0.048218709025235965, 0.006888387003605138, 0.8128296664254062, 0.07577225703965651, 0.006888387003605138, 0.037218460455520214, 0.7406473630648522, 0.0037218460455520214, 0.0037218460455520214, 0.0707150748654884, 0.03349661440996819, 0.09676799718435256, 0.014887384182208085, 0.22824338362216764, 0.0820522216842772, 0.13377933772563266, 0.08399785899322572, 0.08252185827609236, 0.08923095244488036, 0.09292095423771375, 0.0901031346868228, 0.07453803621523464, 0.0425356570301159, 0.13911381747425813, 0.14805497020417263, 0.14279546859834058, 0.05312096621890386, 0.061010218627651956, 0.05443584162036188, 0.08704475157652068, 0.0565396422626947, 0.21379874027707346, 0.04391683840869775, 0.33778103538780907, 0.12098802077910178, 0.279750581982448, 0.05967282472815428, 0.01341269913614477, 0.048449954022400495, 0.035037254886255725, 0.047355039807205, 0.04242792583882529, 0.015055070458938006, 0.0932429941861523, 0.43617996799579895, 0.14972673104891762, 0.1259676988764846, 0.013000225150953925, 0.04348351171181141, 0.02869015205727763, 0.03048328656085748, 0.023310748546538074, 0.0569320204886603, 0.017258279378873698, 0.08629139689436849, 0.034516558757747395, 0.8456556895648112, 0.12682394929325252, 0.03623541408378644, 0.01811770704189322, 0.8152968168851948, 0.8703608062694879, 0.9719840710210378, 0.0060039598626663235, 0.7637036945311563, 0.0060039598626663235, 0.043228511011197526, 0.17891800390745644, 0.01818577772344688, 0.01818577772344688, 0.01818577772344688, 0.8911031084488971, 0.01818577772344688, 0.01818577772344688, 0.9627853681986656, 0.926835381342539, 0.028085920646743607, 0.04680986774457268, 0.9740823402466051, 0.017970198792404753, 0.07188079516961901, 0.8535844426392257, 0.02695529818860713, 0.02695529818860713, 0.24349067112999614, 0.10283085235905745, 0.14625424338114648, 0.14159222287263998, 0.07339352286248789, 0.059274260751011096, 0.10642726817990532, 0.043689792194003686, 0.051415426179528725, 0.03170173945784414, 0.009930460188260043, 0.0019860920376520087, 0.005958276112956026, 0.0019860920376520087, 0.9334632576964441, 0.023833104451824103, 0.01787482833886808, 0.0039721840753040175, 0.15487852325756998, 0.1080880459145838, 0.30567054194370014, 0.03473528885723865, 0.04781210348584614, 0.043725598914406305, 0.05761971445730177, 0.09623718265740827, 0.07600898502878105, 0.07519168411449309, 0.01883187165990768, 0.0037663743319815363, 0.015065497327926145, 0.836135101699901, 0.0037663743319815363, 0.0941593582995384, 0.01883187165990768, 0.011299122995944608, 0.007532748663963073, 0.014682613067243513, 0.036706532668108784, 0.2532750754099506, 0.018353266334054392, 0.007341306533621757, 0.0036706532668108784, 0.664388241292769, 0.9738855698754822, 0.9250626051409407, 0.01095772356472872, 0.016436585347093077, 0.8218292673546539, 0.02191544712945744, 0.01095772356472872, 0.06026747960600795, 0.00547886178236436, 0.038352032476550516, 0.01095772356472872, 0.16540414097294576, 0.13650235482891274, 0.1448994953977872, 0.12546890268608932, 0.08182329996182323, 0.09295439327405217, 0.1080887745319073, 0.061904501403097764, 0.04647719663702608, 0.036420156188257835, 0.6156135867052756, 0.018959114083314646, 0.016728630073512923, 0.04126395418133187, 0.0579925842548448, 0.017843872078413783, 0.20074356088215506, 0.00780669403430603, 0.006691452029405169, 0.0144981460637112, 0.06406451346997122, 0.0969181101212385, 0.617647617043825, 0.0919900706235484, 0.0049280394976900935, 0.006570719330253457, 0.027925557153577196, 0.04435235547921084, 0.02956823698614056, 0.018069478158197008, 0.03381747214078775, 0.9468892199420571, 0.02251168968311071, 0.17384027033068825, 0.1238142932571089, 0.005002597707357935, 0.027514287390468645, 0.2001039082943174, 0.006253247134197419, 0.42146885684490604, 0.0037519482805184515, 0.01625844254891329, 0.35636578924889367, 0.08077624556308256, 0.22712379634796157, 0.05107909645900809, 0.09099206485488419, 0.03848750523888052, 0.05369244558016665, 0.04727786137368656, 0.03278565261089822, 0.022094678933431408, 0.03813992365105266, 0.004767490456381583, 0.01906996182552633, 0.06674486638934217, 0.052442395020197416, 0.004767490456381583, 0.7914034157593428, 0.014302471369144748, 0.009534980912763166, 0.9103534004950397, 0.011822771435000516, 0.05911385717500258, 0.011822771435000516, 0.006483290851942138, 0.012966581703884277, 0.3241645425971069, 0.06807455394539245, 0.006483290851942138, 0.5672879495449371, 0.006483290851942138, 0.003241645425971069, 0.029285603409015856, 0.0069220517148582935, 0.006389586198330733, 0.7124388611138767, 0.06442832749983489, 0.016506431012354394, 0.0724153102477483, 0.04951929303706318, 0.022363551694157564, 0.020233689628047318, 0.9735524525340372, 0.012643538344597886, 0.007824363077686539, 0.04694617846611923, 0.9076261170116385, 0.023473089233059616, 0.007824363077686539, 0.018157555836966193, 0.0036315111673932386, 0.07989324568265124, 0.8279845461656584, 0.03994662284132562, 0.018157555836966193, 0.007263022334786477, 0.0036315111673932386, 0.15537702201381612, 0.07360565283932707, 0.08542595550630978, 0.03197763040343147, 0.23166651169057406, 0.07994407600857868, 0.13059435845115674, 0.1090094579288405, 0.041342507878722116, 0.061157218146562685, 0.03669511638395618, 0.9540730259828607, 0.04370730101623267, 0.10926825254058167, 0.07648777677840718, 0.010926825254058168, 0.7539509425300136, 0.05762399039701264, 0.9219838463522022, 0.950082301165541, 0.06239282091290002, 0.0871099768899335, 0.14782299108594774, 0.055433621657230404, 0.04535478135591579, 0.5125810210382863, 0.017517984333237313, 0.03887552687649924, 0.010558785077567696, 0.02279737687202116, 0.09111653111537428, 0.13207516409271802, 0.03416869916826536, 0.3762937510966659, 0.042053783591711205, 0.07359412128549461, 0.060671344035958356, 0.08651689853503088, 0.0637377657561873, 0.03986348236297625, 0.9687481928953255, 0.9517791652355094, 0.9498645575751132, 0.9618792890755552, 0.005547975410477024, 0.033287852462862144, 0.01386993852619256, 0.024965889347146608, 0.02773987705238512, 0.7822645328772604, 0.002773987705238512, 0.036061840168100656, 0.002773987705238512, 0.07212368033620131, 0.19895409869575947, 0.005413716971313183, 0.006767146214141479, 0.02571515561373762, 0.024361726370909324, 0.020301438642424438, 0.5968622960872785, 0.04330973577050547, 0.009474004699798071, 0.0676714621414148, 0.668223474276966, 0.006704583353949492, 0.03575777788773062, 0.24136500074218173, 0.004469722235966328, 0.0312880556517643, 0.002234861117983164, 0.008939444471932656, 0.9281896289489604, 0.23272570490158825, 0.14420725497036765, 0.048879693505976214, 0.2606916986985398, 0.05106833649878112, 0.06711838511268377, 0.06833429788646427, 0.06517292467463495, 0.02820917635170767, 0.03380237511109798, 0.7682672039662576, 0.011489539441170354, 0.032936679731355015, 0.04366024987644734, 0.02374504817841873, 0.0061277543686241885, 0.013787447329404423, 0.006893723664702212, 0.04059637269213525, 0.05285188142938362, 0.94551325549064, 0.035019009462616296, 0.9815210903118865, 0.04956894289770924, 0.00826149048295154, 0.8839794816758147, 0.00826149048295154, 0.04956894289770924, 0.12349139872412813, 0.0567392913056805, 0.0066752107418447644, 0.06675210741844764, 0.0066752107418447644, 0.036713659080146205, 0.6541706527007869, 0.03337605370922382, 0.013350421483689529, 0.04021389981394656, 0.04356505813177544, 0.10221032869378084, 0.02848484570154548, 0.10388590785269528, 0.07707664131006424, 0.083778957945722, 0.44402847711232657, 0.04524063729068988, 0.03016042486045992, 0.2749304676674842, 0.07623072058052971, 0.08591577114608881, 0.1209069215764959, 0.08903998100594658, 0.08685303410404614, 0.08857134952696792, 0.07716798353848704, 0.056391987970432836, 0.044051359023994624, 0.9628993748082325, 0.014517699594169986, 0.002419616599028331, 0.012098082995141654, 0.012098082995141654, 0.8371873432638025, 0.002419616599028331, 0.014517699594169986, 0.08468658096599159, 0.007258849797084993, 0.012098082995141654, 0.9686558395126563, 0.8834941480543258, 0.982637517130529, 0.9215090765855334, 0.01738696370916101, 0.01738696370916101, 0.01738696370916101, 0.06569357254655983, 0.006703425770057125, 0.006703425770057125, 0.01340685154011425, 0.10591412716690257, 0.7467616307843638, 0.01340685154011425, 0.0268137030802285, 0.001340685154011425, 0.012066166386102825, 0.18051042898250388, 0.004512760724562597, 0.7987586482475797, 0.009025521449125194, 0.004512760724562597, 0.04207856203257947, 0.04429322319218891, 0.7374821661499453, 0.008858644638437782, 0.08858644638437782, 0.024361272755703902, 0.055366528990236134, 0.0022146611596094456, 0.005858022212664571, 0.8552712430490274, 0.13473451089128513, 0.9308478726667584, 0.9660967965606638, 0.15012984086627013, 0.16631967645557338, 0.07379704174240649, 0.1163197424468416, 0.12535744183203498, 0.09674889701559547, 0.10754212074179766, 0.05461631283138454, 0.05273074965030102, 0.05643685659243069, 0.11107853383203647, 0.0746370790241753, 0.0667716097411121, 0.07661759287242863, 0.2969073189081484, 0.05353046001278987, 0.07384487348487397, 0.1388623138175331, 0.059019312677949076, 0.048607468447131603, 0.16571721056674, 0.0072842729919446155, 0.7775961418900876, 0.0036421364959723077, 0.0018210682479861539, 0.0036421364959723077, 0.0072842729919446155, 0.016389614231875384, 0.0018210682479861539, 0.014568545983889231, 0.11784856119313221, 0.0072896017232865285, 0.04252267671917142, 0.14093229998353954, 0.044952543960266926, 0.013364269826025302, 0.5041974525273182, 0.05831681378629223, 0.035233074995884885, 0.03401814137533713, 0.9498787479279114, 0.005593888217869674, 0.015662887010035084, 0.01454410936646115, 0.0738393244758797, 0.8547461196904861, 0.01230655407931328, 0.005593888217869674, 0.003356332930721804, 0.004475110574295739, 0.011187776435739347, 0.02568959165527426, 0.03736667877130801, 0.011677087116033755, 0.07940419238902953, 0.09730905930028129, 0.6235564519962025, 0.009341669692827003, 0.06072085300337552, 0.011677087116033755, 0.04203751361772152, 0.9731249727964462, 0.01530822087514099, 0.03061644175028198, 0.06123288350056396, 0.8572603690078955, 0.01530822087514099, 0.00611240219776525, 0.022921508241619686, 0.010696703846089187, 0.0015281005494413124, 0.9504785417524964, 0.009168603296647876, 0.11196993108327606, 0.0775070828896497, 0.13380097834537402, 0.20135365289224322, 0.0921297654897342, 0.16476262084602242, 0.045790278376790394, 0.08876586198079457, 0.0632276557496611, 0.02073262978979115, 0.17567332303693906, 0.01607468315370684, 0.006889149923017218, 0.6774330757633598, 0.010333724884525828, 0.005740958269181015, 0.04133489953810331, 0.04133489953810331, 0.01837106646137925, 0.005740958269181015, 0.9519264781325857, 0.018306278425626647, 0.9703043102979074, 0.9423754350939052, 0.013454720892418918, 0.9821946251465811, 0.9144259206385352, 0.0326580685942334, 0.06036795595346156, 0.2237447256370361, 0.46521654945088237, 0.03832886092283274, 0.058930623668855334, 0.016289765892203913, 0.007186661423031138, 0.01916443046141637, 0.015810655130668504, 0.09486393078401102, 0.07296299612089235, 0.4095965020331576, 0.3439684102842068, 0.01775818953206904, 0.021232617918778198, 0.04014895024641696, 0.0038604759852323995, 0.04400942623164936, 0.00926514236455776, 0.03706056945823104, 0.017487528827903862, 0.005829176275967954, 0.9618140855347125, 0.005829176275967954, 0.19706554867460577, 0.10336992575297803, 0.13466629541239628, 0.10187040881411874, 0.09645279922856256, 0.09446956714813576, 0.08111902924087233, 0.07507258997127839, 0.0758465341977864, 0.040099985235947024, 0.1325304544419795, 0.014725606049108834, 0.8246339387500946, 0.9804141380347131, 0.9341347895179697, 0.007473078316143758, 0.04483846989686255, 0.987196149314331, 0.07108633429137065, 0.30911089878957304, 0.12405711887623072, 0.1832192938671134, 0.07750703545317188, 0.07429668487227126, 0.05595182440998206, 0.03164488429744887, 0.019491414241182274, 0.053429406096417296, 0.9333953320999719, 0.012613450433783405, 0.02522690086756681, 0.06414029845235883, 0.6987405240491819, 0.052478426006475405, 0.07580217089824226, 0.002915468111470856, 0.00680275892676533, 0.019436454076472372, 0.007774581630588949, 0.05830936222941712, 0.01360551785353066, 0.010243351789423172, 0.8706849021009696, 0.010243351789423172, 0.10243351789423172, 0.9535409342573147, 0.03217831272478121, 0.2609052383090368, 0.07653220323731746, 0.009566525404664683, 0.03652673336326515, 0.09305620166355645, 0.016523998426238997, 0.4017940669959167, 0.029569260341690835, 0.04261452225714268, 0.022416237561011833, 0.941481977562497, 0.9472760254855926, 0.9266804163491453, 0.9556655648470336, 0.9671878817664399, 0.9564172534570771, 0.0028644945652858377, 0.12030877174200517, 0.1604116956560069, 0.0229159565222867, 0.0028644945652858377, 0.687478695668601, 0.9436714322052498, 0.006622300762207366, 0.867521399849165, 0.11257911295752523, 0.013244601524414732, 0.048519473739879915, 0.606493421748499, 0.0030324671087424947, 0.288084375330537, 0.0030324671087424947, 0.0015162335543712473, 0.019711036206826214, 0.01667856909808372, 0.004548700663113742, 0.007581167771856237, 0.06161792654544207, 0.030808963272721035, 0.8102757340725633, 0.05237523756362576, 0.0030808963272721036, 0.04005165225453734, 0.20231718939358306, 0.028989093684092537, 0.036994450098946544, 0.1695680040600894, 0.04172488798045118, 0.03893514256315357, 0.3449580855127999, 0.07932580447446243, 0.026927107940872566, 0.030202026474221932, 0.016009560079407056, 0.048028680238221176, 0.7716607958274202, 0.006403824031762823, 0.02241338411116988, 0.009605736047644234, 0.012807648063525646, 0.07044206434939106, 0.03842294419057694, 0.09095749383607328, 0.12912147726379633, 0.0337115186944887, 0.042616448160957415, 0.05597384236066048, 0.1424788714634994, 0.06424270543666714, 0.06297057265574305, 0.36510210812521726, 0.012721327809241019, 0.037709343735653315, 0.07541868747130663, 0.8844555167089596, 0.037388704835714104, 0.8505930350124958, 0.07477740967142821, 0.009347176208928526, 0.018694352417857052, 0.9442724010523891, 0.010324027794867546, 0.10209316374924574, 0.04014899698004046, 0.018353827190875638, 0.05276725317376746, 0.7341530876350255, 0.019500941390305365, 0.011471141994297274, 0.0011471141994297274, 0.010324027794867546, 0.2950363611058854, 0.1502862097628361, 0.10183300120800486, 0.10208694884194003, 0.061760064573034366, 0.08471693068077411, 0.06506138381419163, 0.047234259911942404, 0.059220588233682626, 0.03281003430442451, 0.8452738489189668, 0.03784808278741642, 0.03784808278741642, 0.006308013797902737, 0.056772124181124636, 0.01892404139370821, 0.22399448872718639, 0.05217432603279585, 0.039608781543221984, 0.4417062052095858, 0.04179409362836526, 0.04561838977736601, 0.1098119322784499, 0.018028824702432073, 0.010380232404430588, 0.017209332670503345, 0.9256401462664287, 0.9597705622479642, 0.010664117358310713, 0.010664117358310713, 0.012815860548731966, 0.004271953516243989, 0.21359767581219943, 0.764679679407674, 0.004271953516243989, 0.013269812341761387, 0.013269812341761387, 0.06634906170880694, 0.026539624683522774, 0.8758076145562516, 0.0050456684545156835, 0.14758580229458376, 0.10848187177208721, 0.11352754022660289, 0.0012614171136289209, 0.6231400541326869, 0.9322867267275008, 0.9711016432680631, 0.08339968745204203, 0.4909566506610776, 0.04563379124734375, 0.215580324168486, 0.02753763264925916, 0.025964053640730064, 0.03304515917911099, 0.041699843726021014, 0.01180184256396821, 0.02360368512793642, 0.07158409860010602, 0.016843317317672007, 0.6442568874009542, 0.028072195529453343, 0.039301073741234684, 0.022457756423562673, 0.01543970754119934, 0.04912634217654335, 0.03087941508239868, 0.08000575725894203, 0.25931806036215704, 0.012774288687790989, 0.5607912733940243, 0.0038322866063372966, 0.03193572171947747, 0.05620687022628035, 0.01021943095023279, 0.03704543719459387, 0.0038322866063372966, 0.02299371963802378, 0.019621823265310392, 0.0724498089796076, 0.2524423031633202, 0.04490378785715263, 0.054337356734705695, 0.010188254387757318, 0.04867721540817385, 0.10980674173471777, 0.1482957027551343, 0.2392353067347459, 0.013226655650854357, 0.007935993390512614, 0.003967996695256307, 0.010581324520683486, 0.7195300674064771, 0.03438930469222133, 0.030421307996965023, 0.16533319563567947, 0.010581324520683486, 0.005290662260341743, 0.008694224427794477, 0.06085957099456134, 0.8868108916350367, 0.008694224427794477, 0.03477689771117791, 0.08606255607411681, 0.38441275046438844, 0.3640502371971791, 0.01383750901583839, 0.018225011874518852, 0.021825014220102825, 0.007875005130964936, 0.050175032691576596, 0.015637510188630376, 0.0380250247752307, 0.10231587124084689, 0.13942792529294248, 0.05205996471196743, 0.1556644489407343, 0.08685251538580706, 0.3221532469799965, 0.06546153978633529, 0.029895821319743672, 0.017009691440543814, 0.02938037612457568, 0.13274195407860734, 0.08867634988413467, 0.05996556447082877, 0.07831866147553697, 0.12874424978055207, 0.09022091745383784, 0.19198066322251697, 0.10593916389846417, 0.09340090950910906, 0.029982782235414385, 0.960859283362741, 0.019579836671875017, 0.009789918335937509, 0.9300422419140634, 0.009789918335937509, 0.019579836671875017, 0.009789918335937509, 0.004891241614227873, 0.009782483228455745, 0.885314732175245, 0.09782483228455746, 0.94050056458761, 0.030338727889922906, 0.9675641126945399, 0.9239656788859378, 0.958609171079878, 0.92691887678157, 0.034812908389022346, 0.06962581677804469, 0.8703227097255587, 0.9388422812931733, 0.9693267362077849, 0.12358180708982648, 0.057261999915252375, 0.10718405256864058, 0.13815758888643617, 0.17126543611016393, 0.11905290346016562, 0.08136409624321769, 0.0969810053110138, 0.05533591446355752, 0.04976588356271024, 0.1304925906052449, 0.017944908988438216, 0.0306631454559721, 0.13118948027469882, 0.15070239101940833, 0.0635911823376694, 0.2932163284227332, 0.10435922800072323, 0.024565360848250374, 0.053486282130587696, 0.021297151546111753, 0.9157775164828054, 0.021297151546111753, 0.021297151546111753, 0.021297151546111753, 0.22130554363735852, 0.036485508545618564, 0.03708363163653035, 0.13218520309150333, 0.043662985636559924, 0.043662985636559924, 0.37442505491077416, 0.06758790927303111, 0.009569969454588476, 0.033494893091059665, 0.05852142154429366, 0.29015594870390626, 0.0643429242110035, 0.2610484353703571, 0.0643429242110035, 0.08517777586028083, 0.020222061894886817, 0.041056913544164145, 0.06985803200051809, 0.04534644182489771, 0.03567810581805626, 0.9276307512694628, 0.13774688002458277, 0.19076849654198172, 0.41816017150319773, 0.047008855881405236, 0.01967812571779754, 0.03662317841923431, 0.03552994921269, 0.03607656381596216, 0.05356823112067108, 0.02405104254397477, 0.919672426948497, 0.06431213186868102, 0.06431213186868102, 0.03462960946775132, 0.7569043212237074, 0.009894174133643236, 0.044523783601394556, 0.004947087066821618, 0.004947087066821618, 0.004947087066821618, 0.004947087066821618, 0.9217088585540634, 0.05192725963684864, 0.01298181490921216, 0.9763493451007396, 0.006394939185254596, 0.003836963511152758, 0.0051159513482036765, 0.5333379280502333, 0.45020371864192354, 0.020928875402496522, 0.04883404260582522, 0.06976291800832174, 0.03488145900416087, 0.0558103344066574, 0.0558103344066574, 0.7046054718840497, 0.07902801927982048, 0.33654789403974184, 0.08045709738614634, 0.09646277217699606, 0.10660922673190973, 0.08402979265196102, 0.058449294548727986, 0.09589114093446571, 0.028009930883987004, 0.034297874551820824, 0.07062180195579994, 0.02471763068452998, 0.0035310900977899968, 0.0070621801955799935, 0.0035310900977899968, 0.33898464938783973, 0.07062180195579994, 0.0035310900977899968, 0.4731660731038596, 0.025437987569983528, 0.3179748446247941, 0.07813096182209227, 0.005450997336425041, 0.010901994672850083, 0.05450997336425042, 0.009084995560708404, 0.45606677714756183, 0.023620988457841847, 0.019986990233558488, 0.014201454830651166, 0.002130218224597675, 0.0035503637076627916, 0.012071236606053491, 0.6447460493115629, 0.18532898553999771, 0.05751589206413722, 0.05822596480566978, 0.01278130934758605, 0.0085208728983907, 0.007774783172617365, 0.03109913269046946, 0.007774783172617365, 0.01554956634523473, 0.01554956634523473, 0.9018748480236144, 0.023324349517852096, 0.007774783172617365, 0.009319089097687609, 0.1164886137210951, 0.04038271942331297, 0.0046595445488438044, 0.048148627004719315, 0.6492298738055701, 0.0031063630325625364, 0.12114815826993891, 0.006212726065125073, 0.9942745068416429, 0.014692924347779277, 0.977079469127322, 0.07045864699387329, 0.04551753301374115, 0.11285854076009792, 0.06765277167110843, 0.12065263887888922, 0.025876405754387093, 0.08729389893046248, 0.10319385909279673, 0.29866983991208235, 0.06765277167110843, 0.9861327595072931, 0.0021474419630630455, 0.094487446374774, 0.0021474419630630455, 0.010737209815315228, 0.0021474419630630455, 0.025769303556756547, 0.8611242271882812, 0.007200686295862837, 0.9144871595745804, 0.014401372591725674, 0.05040480407103986, 0.007200686295862837, 0.9847040631443063, 0.9050430250550062, 0.9447879571072773, 0.967548486750923, 0.2834963964888683, 0.07834233985316948, 0.09139939649536438, 0.07438565602220132, 0.11870051492904465, 0.06548311740252297, 0.10722613181923701, 0.08625570751510578, 0.05361306590961851, 0.04114951184206882, 0.9397300075046653, 0.04945947407919291, 0.9900340350499258, 0.11064579492849863, 0.3968571114017068, 0.15750090196454652, 0.1027425238621773, 0.0033871161712805704, 0.19137206367735224, 0.008467790428201427, 0.009596829151961616, 0.010161348513841711, 0.009596829151961616, 0.05419034084783402, 0.9212357944131784, 0.03939793189337494, 0.05500843320961784, 0.014867144110707524, 0.0780525065812145, 0.08994622186978052, 0.5783319059065227, 0.03196435983802118, 0.03196435983802118, 0.017097215727313653, 0.0624420052649716, 0.9460520204072131, 0.012696530304677585, 0.014812618688790514, 0.012696530304677585, 0.021160883841129307, 0.042321767682258614, 0.010580441920564653, 0.08464353536451723, 0.5649955985581525, 0.20526057325895428, 0.03385741414580689, 0.9413956277031948, 0.111566547064939, 0.0892532376519512, 0.07331515949981705, 0.4693764015803505, 0.06933063996178351, 0.021516405505381093, 0.05897088916289633, 0.07092444777699694, 0.015141174244527435, 0.020719501597774387, 0.1370443963252622, 0.050342839466422845, 0.011187297659205077, 0.6852219816263109, 0.005593648829602538, 0.013984122074006346, 0.022374595318410153, 0.050342839466422845, 0.019577770903608883, 0.011187297659205077, 0.03267026781661371, 0.9474377666817976, 0.9455682080879749, 0.9365295844227126, 0.0665446867717861, 0.15963452181865626, 0.0736355140507469, 0.15181643020339178, 0.255815230294817, 0.08818080077682038, 0.031999630797361615, 0.07218098537813956, 0.04454494059859998, 0.055453905643155076, 0.17616775820789593, 0.03499798825906624, 0.02170548310297858, 0.20090191337175523, 0.051823944152848085, 0.0346614691411906, 0.36781539583807116, 0.03718536252525788, 0.025575452958548406, 0.04896353165090517, 0.15047518156029485, 0.042189303241204165, 0.040079838079143955, 0.36739851572548626, 0.030235667322862984, 0.030235667322862984, 0.22114226448931182, 0.07066708292901697, 0.03375144259296333, 0.013711523553391353, 0.12098016213636625, 0.5709673505704115, 0.08114523070122127, 0.08999743768680904, 0.0029507356618625915, 0.03098272444955721, 0.019179781802106846, 0.01032757481651907, 0.023605885294900732, 0.05016250625166406, 0.9670225498376768, 0.7669545414047122, 0.06817373701375219, 0.034086868506876096, 0.02840572375573008, 0.005681144751146016, 0.011362289502292032, 0.005681144751146016, 0.005681144751146016, 0.07385488176489821, 0.925011305899316, 0.06379388316547006, 0.93066136534694, 0.036736632842642364, 0.01224554428088079, 0.01224554428088079, 0.8933414304758761, 0.2584656889475925, 0.09535233422713381, 0.18258957617961794, 0.08155667736022934, 0.07709337660917201, 0.05558838208135035, 0.08547897195964335, 0.06681425972794908, 0.0601869343703185, 0.036788418311745244, 0.18129843111635072, 0.32275847327231155, 0.18534979270554292, 0.11039960330548731, 0.015530219425236748, 0.0894675684279943, 0.02970998498740943, 0.028359531124345364, 0.027346690727047318, 0.00979079050721447, 0.02509682341808548, 0.9536792898872483, 0.0067911386129447604, 0.013582277225889521, 0.8285189107792608, 0.0067911386129447604, 0.013582277225889521, 0.020373415838834282, 0.09507594058122665, 0.0067911386129447604, 0.967876959030243, 0.010998601807161851, 0.010998601807161851, 0.04414872147531199, 0.014716240491770664, 0.8976906699980105, 0.02943248098354133, 0.014716240491770664, 0.20038440619380668, 0.002613709646006174, 0.004356182743343624, 0.025265859911393015, 0.03484946194674899, 0.023523386814055566, 0.6002819820327513, 0.041819354336098784, 0.017424730973374495, 0.04966048327411731, 0.0536849026571631, 0.0693212820718708, 0.2121335473928678, 0.05655157221652618, 0.10893344325579699, 0.025018207063532322, 0.04378186236118156, 0.1094546559029539, 0.13890317046732006, 0.18190321385776625, 0.008128752624742885, 0.03251501049897154, 0.01625750524948577, 0.01625750524948577, 0.8860340360969746, 0.008128752624742885, 0.01625750524948577, 0.008128752624742885, 0.7124712297626009, 0.004480951130582396, 0.013442853391747188, 0.03136665791407677, 0.006721426695873594, 0.004480951130582396, 0.017923804522329584, 0.02240475565291198, 0.07393569365460953, 0.11202377826455989, 0.052165870401965006, 0.8998612644338964, 0.013041467600491252, 0.026082935200982503, 0.7815595484364107, 0.005425142201727797, 0.008476784690199683, 0.019327069093655277, 0.030855496272326845, 0.0033907138760798728, 0.13834112614405883, 0.004746999426511822, 0.0013562855504319492, 0.006103284976943771, 0.027591181759081693, 0.005447940347334601, 0.004042020257699866, 0.02460360156860788, 0.6947002642907639, 0.1736311310698899, 0.029524321882329455, 0.020913061333316697, 0.003163320201678156, 0.01651956105320815, 0.013589868737561479, 0.0043905729767506315, 0.005435947495024591, 0.05665929889044862, 0.7121091218482214, 0.1277447661330779, 0.03240661006649276, 0.030734010837254418, 0.0043905729767506315, 0.012544494219287518, 0.028489581291217456, 0.028489581291217456, 0.9116666013189586, 0.04526376513955327, 0.003233126081396662, 0.006466252162793324, 0.03987522167055883, 0.7134431552948635, 0.09699378244189986, 0.04849689122094993, 0.03664209558916217, 0.002155417387597775, 0.006466252162793324, 0.9169591850762598, 0.09759671375984205, 0.044251926114710995, 0.045464307652100334, 0.503138338016577, 0.02606620305387086, 0.02546001228517619, 0.18791913829534806, 0.03697763689037494, 0.006668098455641382, 0.02606620305387086, 0.1186965902116237, 0.14235128981633807, 0.18269889938600536, 0.11104246790050473, 0.16250586313807847, 0.07669507481593572, 0.060002164850982816, 0.061848385307936134, 0.040424535422040345, 0.04377081000026824, 0.08891864770596564, 0.8891864770596563, 0.05596029029248917, 0.04304637714806859, 0.7834440640948483, 0.06026492800729603, 0.004304637714806859, 0.017218550859227435, 0.008609275429613717, 0.017218550859227435, 0.008609275429613717, 0.95064052643834, 0.024772679211841602, 0.9661344892618225, 0.005819609084712178, 0.005819609084712178, 0.005819609084712178, 0.28516084515089674, 0.03491765450827307, 0.6634354356571883, 0.04053416833102139, 0.022800469686199535, 0.02786724072757721, 0.007600156562066511, 0.008444618402296123, 0.8106833666204278, 0.0033778473609184494, 0.059956790656302474, 0.006755694721836899, 0.011822465763214572, 0.02363295963912764, 0.007877653213042547, 0.9138077727129355, 0.007877653213042547, 0.03151061285217019, 0.007877653213042547, 0.0214835448629006, 0.9667595188305269, 0.2778563773511176, 0.08383731184994682, 0.1428798549457504, 0.0748492081765699, 0.10801221138523646, 0.08786646177249509, 0.07112999286344841, 0.06136705266650451, 0.052998818211981165, 0.03920672809248899, 0.017314832324719504, 0.005327640715298309, 0.844431053374782, 0.07858270055065006, 0.0013319101788245773, 0.005327640715298309, 0.006659550894122886, 0.039957305364737315, 0.0013319101788245773, 0.07569357281519551, 0.23465007572710608, 0.5828405106770054, 0.018341134951374297, 0.0069870990290949704, 0.00640484077667039, 0.009316132038793293, 0.008733873786368713, 0.016012101941675974, 0.04075807766972066, 0.9132161692833187, 0.96952615258298, 0.0242381538145745, 0.013686847846206645, 0.05474739138482658, 0.9170188056958453, 0.09701238995289034, 0.02586997065410409, 0.02586997065410409, 0.8472415389219089, 0.006467492663526022, 0.06447076531535223, 0.18422694497370812, 0.06412414829752776, 0.09843923306215072, 0.20918337025707026, 0.2693214228496166, 0.014211297730803448, 0.04765983995086522, 0.01594438281992582, 0.03240869116658835, 0.9661584405004401, 0.01374689217813764, 0.04124067653441292, 0.921041775935222, 0.1949522947239284, 0.10778673270914145, 0.16674050905005686, 0.07388198580063217, 0.12043775767500313, 0.08121958028083194, 0.08299072377605257, 0.06034538908716018, 0.06553230932316347, 0.046176241125395104, 0.9602138537515545, 0.08977389168612435, 0.06259464007472891, 0.045298752685659076, 0.44557500368984654, 0.10048086959364377, 0.028002865296589248, 0.1210712117234888, 0.04776959374124048, 0.032120933722558254, 0.027179251611395446, 0.1641963763115129, 0.04554888291415571, 0.04150825620402899, 0.4565908182443189, 0.07934321539885188, 0.016897166242348084, 0.07162929167951905, 0.055834114539932804, 0.04775286111967937, 0.0209377929524748, 0.13089399373765803, 0.050794684137001625, 0.03516555055638574, 0.6114898513415965, 0.050794684137001625, 0.023443700370923824, 0.03516555055638574, 0.02149005867334684, 0.02149005867334684, 0.01758277527819287, 0.966960032359816, 0.9405040510654296, 0.9769874514150264, 0.009011326040484432, 0.019149067836029418, 0.003379247265181662, 0.03604530416193773, 0.4629568753298877, 0.07321702407893602, 0.009011326040484432, 0.37622286219022505, 0.002252831510121108, 0.01126415755060554, 0.06696649933935075, 0.47740633399988763, 0.04392426300753114, 0.26498571781592556, 0.04248412323679241, 0.03600349426846815, 0.015841537478125983, 0.01728167724886471, 0.014401397707387258, 0.02016195679034216, 0.0873296494391959, 0.021832412359798974, 0.8623802882120596, 0.021832412359798974, 0.025234383043211638, 0.9589065556420423, 0.965087588494642, 0.955699150471715, 0.039820797936321456, 0.04612104790264625, 0.44820197833597253, 0.11707650621440971, 0.016556273606078142, 0.014191091662352693, 0.013008500690489968, 0.015373682634215418, 0.011825909718627244, 0.03666032012774446, 0.2802740603314657, 0.9426986976776524, 0.038510597334138, 0.9499280675754042, 0.03252595345003244, 0.1912131808880695, 0.39819652102463954, 0.000985634953031286, 0.01823424663107879, 0.06554472437658052, 0.004435357288640787, 0.10053476520919118, 0.012320436912891074, 0.1754430216395689, 0.0524684086690781, 0.3126737294894835, 0.4527477616829499, 0.004985685891631855, 0.023978775002610354, 0.032050837874776215, 0.006410167574955243, 0.05721668094682272, 0.012108094308248791, 0.04534600025246116, 0.09598828845964434, 0.2330526463051725, 0.370981763506193, 0.021186604209561137, 0.05837125649572966, 0.040211310030391544, 0.04064368970813769, 0.05188556132953748, 0.04799414422982217, 0.0397789303526454, 0.12720308231494018, 0.05548621098010744, 0.10417819204428336, 0.05567493958888332, 0.1300340114465783, 0.06152552646093546, 0.09908251960733472, 0.10474437787061099, 0.21288587069918774, 0.04906943828172767, 0.03303003830940663, 0.03303003830940663, 0.9248410726633857, 0.9584319749249891, 0.9654774271938122, 0.9563511482744074, 0.9427419109023627, 0.015205514691973593, 0.015205514691973593, 0.015205514691973593, 0.9572854758197898, 0.042433041285592304, 0.07112016778852794, 0.0454212836296481, 0.06394838616279404, 0.5151729801152192, 0.0920378641969185, 0.04064009587915882, 0.06992487085090562, 0.02271064181482405, 0.03705420506629187, 0.9305289244971949, 0.02514943039181608, 0.019756333994204123, 0.019756333994204123, 0.05926900198261237, 0.8890350297391855, 0.025399363827435614, 0.025399363827435614, 0.07619809148230684, 0.8635783701328108, 0.13726466991872766, 0.09722914119243209, 0.04689876222223195, 0.5387638294310061, 0.014870339241195497, 0.03317229523035919, 0.05719361246613652, 0.027452933983745532, 0.017158083739840957, 0.029740678482390995, 0.9631978363215624, 0.017095999797539282, 0.03989066619425832, 0.008547999898769641, 0.10827466538441544, 0.6211546593105939, 0.20230266427088148, 0.016808492753718186, 0.15127643478346367, 0.03361698550743637, 0.7899991594247547, 0.9700955117052042, 0.9317162120263864, 0.952352965467891, 0.07311343754918255, 0.2618619971895547, 0.03970962925165392, 0.16335484823051624, 0.0749029272794073, 0.1966734427313675, 0.08206088620030628, 0.06629633381499303, 0.016275835165377468, 0.02573456659656542, 0.08971026492179246, 0.17509062263770653, 0.060212772081746066, 0.23990392112569836, 0.06562515608909403, 0.2106770474860194, 0.07347311289974857, 0.03179775604316927, 0.017860867224248272, 0.035857044048680245, 0.9483114948718604, 0.015509745252739137, 0.05273313385931307, 0.01240779620219131, 0.04963118480876524, 0.05893703196040872, 0.006203898101095655, 0.05893703196040872, 0.22334033163944358, 0.5087196442898437, 0.015509745252739137, 0.011879956658066165, 0.9028767060130285, 0.04751982663226466, 0.02375991331613233, 0.011879956658066165, 0.12051633556929775, 0.09930546050910134, 0.12401130930080738, 0.07170721966373216, 0.26802833030611817, 0.04676033820088753, 0.05700422672427784, 0.07375599736841022, 0.061704363811480444, 0.07725097109991985, 0.05471980524692409, 0.2671267912054144, 0.5913269276683731, 0.015298010069032541, 0.0023535400106203907, 0.011767700053101954, 0.015298010069032541, 0.008237390037171367, 0.009414160042481563, 0.0253005551141692, 0.03535031070986895, 0.2821478502954355, 0.5993186936089819, 0.018984426121966658, 0.003600494609338504, 0.006873671526918962, 0.02422150919009539, 0.0065463538351609165, 0.009164895369225283, 0.01407466074559597, 0.315327286572302, 0.0016170630080630873, 0.6824005894026228, 0.039384935558886364, 0.9452384534132727, 0.025306941379462936, 0.01687129425297529, 0.0927921183913641, 0.008435647126487644, 0.809822124142814, 0.01687129425297529, 0.025306941379462936, 0.14013601830886227, 0.09944038237226678, 0.12140580930038736, 0.14405233473790702, 0.06572600615701195, 0.09961065699961656, 0.19615637070693723, 0.06197996435531697, 0.0369495941349005, 0.03439547472465392, 0.042681275266462454, 0.05713783624381264, 0.4405809059763866, 0.3393849791349353, 0.00826089198705725, 0.008949299652645354, 0.02202904529881933, 0.022717452964407435, 0.05300739025028401, 0.004130445993528625, 0.9580317604279691, 0.04183855480722996, 0.9204482057590592, 0.015653535106292325, 0.7565875301374624, 0.005217845035430775, 0.005217845035430775, 0.07826767553146163, 0.09392121063775395, 0.046960605318876976, 0.03749156527319592, 0.8360619055922691, 0.03749156527319592, 0.011247469581958778, 0.0018745782636597963, 0.03936614353685572, 0.007498313054639185, 0.01499662610927837, 0.005623734790979389, 0.005623734790979389, 0.10271621097364315, 0.8138284407911727, 0.0474074819878353, 0.0158024939959451, 0.00790124699797255, 0.00790124699797255, 0.03598936996892523, 0.8169586982946028, 0.06837980294095794, 0.007197873993785047, 0.039588306965817756, 0.0035989369968925235, 0.007197873993785047, 0.014395747987570094, 0.007197873993785047, 0.024374159388434374, 0.9262180567605063, 0.07884703766153436, 0.9133115195794397, 0.00657058647179453, 0.01250342616358835, 0.06494316873027979, 0.03807013339361229, 0.028925836647107375, 0.11868923940361478, 0.6160270114329126, 0.0027992745142361975, 0.018288593493009826, 0.0037323660189815967, 0.0962950432897252, 0.01752075510670313, 0.14308616670474225, 0.05464806949947882, 0.05715103451472212, 0.034207188541658495, 0.6057175336888797, 0.002920125851117189, 0.006674573373982146, 0.005840251702234378, 0.07300314627792973, 0.23146303971230342, 0.07605214161975683, 0.01267535693662614, 0.4767036413122439, 0.023697406446735826, 0.02149299654471389, 0.029759533677296154, 0.09699403568896524, 0.01543086931415356, 0.01543086931415356, 0.02964433833220806, 0.9486188266306579, 0.027854184854097394, 0.12212988743719627, 0.7756319167064044, 0.027854184854097394, 0.004285259208322676, 0.002142629604161338, 0.008570518416645353, 0.006427888812484015, 0.014998407229129367, 0.01071314802080669, 0.10922174010572547, 0.036113639873667294, 0.08984368944180643, 0.0942477918654244, 0.03347117841949651, 0.01056984581668311, 0.4809279846590815, 0.036994460358390886, 0.04404102423617962, 0.06341907490009865, 0.31045060008591724, 0.0619348947171405, 0.08832319572444346, 0.08071715602233849, 0.12697429543514016, 0.0720245392199328, 0.09763671372702099, 0.06938570911920251, 0.05246615141452002, 0.040358578011169245, 0.19203172649874356, 0.1066638058372762, 0.10924512525252575, 0.09772137786301881, 0.09735261794655459, 0.09762918788390276, 0.09228216909517153, 0.10472781627583903, 0.05817187682223101, 0.04425118997570663, 0.12029991704014675, 0.15031210928711447, 0.15370260799283886, 0.09342707544662754, 0.14491242616318303, 0.0708237507417983, 0.042318446808485864, 0.10397529364221451, 0.05901979228483191, 0.061154550729176894, 0.01599654475585531, 0.03199308951171062, 0.04798963426756593, 0.8958065063278974, 0.10251259684892594, 0.031089885929592297, 0.1277206124675143, 0.030249618742306018, 0.1193179405946515, 0.020166412494870677, 0.0773045812303376, 0.07562404685576504, 0.26888549993160904, 0.1470467577750987, 0.9359162454323444, 0.17387776539979985, 0.818674478757391, 0.9458517681314748, 0.040970706440797575, 0.04210878161970862, 0.16729705129992345, 0.046661082335352794, 0.039832631261886534, 0.5781421908868103, 0.01479497732584357, 0.028451879472776095, 0.011380751789110438, 0.031866105009509225, 0.17471652496694412, 0.017239487479067995, 0.057374397441081595, 0.06149903126487007, 0.22633619377962624, 0.06562366508865855, 0.2253729559405379, 0.07100791762510099, 0.03645484744857359, 0.06436404637600458, 0.013342013564979011, 0.0044473378549930035, 0.013342013564979011, 0.8183101653187127, 0.008894675709986007, 0.022236689274965016, 0.048920716404923036, 0.022236689274965016, 0.04447337854993003, 0.8953297220359737, 0.016376090544662318, 0.016376090544662318, 0.9498132515904144, 0.00998909034970231, 0.839083589374994, 0.0998909034970231, 0.03995636139880924, 0.00998909034970231, 0.00998909034970231, 0.019502948942142405, 0.018002722100439145, 0.055508393143020696, 0.019502948942142405, 0.03000453683406524, 0.8041215871529485, 0.0030004536834065242, 0.013502041575329358, 0.0015002268417032621, 0.0315047636757685, 0.012664569570092559, 0.025329139140185118, 0.021107615950154264, 0.008443046380061707, 0.0042215231900308535, 0.8822983467164484, 0.008443046380061707, 0.008443046380061707, 0.0042215231900308535, 0.025329139140185118, 0.9623592082938188, 0.9662450820522387, 0.10914284704632278, 0.16681491963330014, 0.17971361973877467, 0.10145323736805913, 0.09339154980213756, 0.10108115948040121, 0.07788830448305761, 0.07131492846776773, 0.04886622924573997, 0.050230514833819004, 0.008166100420017447, 0.028581351470061068, 0.010888133893356597, 0.2354558954438364, 0.7145337867515267, 0.9351643298212955, 0.9848213458149542, 0.9703490558371269, 0.9627194413472729, 0.017828137802727278, 0.11224117877271568, 0.17591490102872803, 0.06643508265997208, 0.12767231044190236, 0.07666835945111693, 0.2571313834981316, 0.05620180586882724, 0.05538964104413321, 0.03508552042678233, 0.037359581935925625, 0.06065365483451985, 0.3174562636075747, 0.2922725823604933, 0.05214086117353461, 0.024119582039458187, 0.04611096566367006, 0.1046364220829436, 0.024119582039458187, 0.03759817200268482, 0.041145169361428674, 0.9009875017175385, 0.9715498480780416, 0.10575580523281204, 0.10667022190592582, 0.08985902306944954, 0.1467990459068033, 0.12094918995531781, 0.2705969954975909, 0.04543947467934591, 0.053247186272855816, 0.030597788677268534, 0.030070240596625972, 0.9653820233111614, 0.007150621993214322, 0.09295808591178618, 0.021451865979642964, 0.007150621993214322, 0.865225261178933, 0.007032273152643037, 0.010548409728964555, 0.010548409728964555, 0.035161365763215185, 0.9212277829962378, 0.0035161365763215183, 0.010548409728964555, 0.9769034430233375, 0.08385497054372987, 0.9014409333450961, 0.9578627001084722, 0.03862152693357786, 0.8882951194722908, 0.944504358646687, 0.025209807991124333, 0.10386440892343225, 0.3378114270810661, 0.008067138557159787, 0.004033569278579893, 0.025209807991124333, 0.004033569278579893, 0.023193023351834388, 0.0060503539178698405, 0.46285207471704276, 0.039125415945824485, 0.055893451351177834, 0.022357380540471133, 0.7657402835111363, 0.011178690270235566, 0.08942952216188453, 0.005589345135117783, 0.005589345135117783, 0.005589345135117783, 0.005589345135117783, 0.034076134434205874, 0.9200556297235586, 0.13947554717287994, 0.08633421911756227, 0.20765995886231833, 0.040223897543409694, 0.08240993643040034, 0.061316916986905015, 0.07668702417828921, 0.10333944409526392, 0.10072325563715598, 0.10170432630894645, 0.942547024691442, 0.0229847966739345, 0.965361460305249, 0.9845794573613033, 0.18253047897997526, 0.020080608935992336, 0.02662372870165276, 0.3774703230327548, 0.03587434630137956, 0.04377121498407318, 0.21727670118382716, 0.058211203432427215, 0.0205318585750034, 0.017824360740937017, 0.11909622995795296, 0.02977405748948824, 0.010166751337874034, 0.44951564843885905, 0.06681008022031508, 0.01815491310334649, 0.20406122328161452, 0.03703602273082684, 0.009440554813740175, 0.055917132358307184, 0.149391840113534, 0.0215578098391682, 0.0173975307473989, 0.31126451750237594, 0.04878872753074909, 0.029878368022706804, 0.31958507568591454, 0.052192592242196696, 0.01475008041627298, 0.0347950614947978, 0.8869195143189424, 0.023546535778379004, 0.04709307155675801, 0.007848845259459667, 0.023546535778379004, 0.929522606118115, 0.05467780035988912, 0.9665605349622819, 0.3251560444820433, 0.08944479944682449, 0.13300208655219192, 0.08603908564023198, 0.06112360042358147, 0.0743879594597839, 0.06775577994168268, 0.07169923803352665, 0.054849917095647883, 0.03638736330201477, 0.12943565125481685, 0.0686144486363885, 0.10724184194279981, 0.09555197291585955, 0.09843208557467091, 0.3520514179417662, 0.044895873799118406, 0.049131333591488066, 0.03439193351404165, 0.020330207003374373, 0.9589274958237319, 0.1219824958049974, 0.09779406913151177, 0.05162798596437523, 0.13706775114975187, 0.18323383431688842, 0.16125617782323748, 0.10429633436631973, 0.06476256173868732, 0.04460553951078263, 0.03342164330691293, 0.10075212761115845, 0.3163475894923786, 0.025364171986025905, 0.06200130929917443, 0.015500327324793608, 0.01409120665890328, 0.019727689322464593, 0.023955051320135576, 0.043682740642600165, 0.3776443384586079, 0.02970304122775719, 0.04667620764361844, 0.016973166415861253, 0.09123076948525423, 0.05728443665353173, 0.014851520613878596, 0.00636493740594797, 0.691656531446346, 0.016973166415861253, 0.027581395425774535, 0.9251038823014762, 0.24307749522224495, 0.12269214023376658, 0.09948011370305399, 0.08506270592000267, 0.09169471350020628, 0.07396130192705318, 0.10755386206156271, 0.08362096514169755, 0.050460927240679555, 0.04238717888217083, 0.03377233083601221, 0.20372341504304137, 0.04793492118659797, 0.023422745579814917, 0.10948771771029764, 0.45756061132661696, 0.008715440215745085, 0.044121916092209494, 0.006536580161808814, 0.06427637159112, 0.11544537637583493, 0.014430672046979367, 0.03463361291275048, 0.005772268818791747, 0.0028861344093958734, 0.005772268818791747, 0.10101470432885558, 0.0548365537785216, 0.6205188980201128, 0.04906428495972985, 0.08648617143240743, 0.11314286810677958, 0.08352431624636608, 0.041465972604578905, 0.081154832097533, 0.4810052822131153, 0.03554226223249621, 0.01066267866974886, 0.05094390919991123, 0.015994018004623294, 0.19121871086407116, 0.06900155973547739, 0.24522856481529373, 0.05202419755595705, 0.13631531153497906, 0.09938210258304009, 0.04735790502708304, 0.07227789278766553, 0.05639264162554123, 0.03087695694637909, 0.942657555205158, 0.015158492534749447, 0.019200757210682633, 0.0040422646759331856, 0.053560006956114715, 0.7543876451460308, 0.04699132685772329, 0.026780003478057358, 0.06316038556145603, 0.011621510943307909, 0.00555811392940813, 0.9668445329811809, 0.015849910376740668, 0.03764076577787841, 0.9410191444469601, 0.15855505901848457, 0.21508795734182487, 0.04062480367886545, 0.06626181570921744, 0.13751956196793935, 0.09597445529311256, 0.08861203132542173, 0.10596631639212153, 0.031158830006120103, 0.0603455821637516, 0.946197222761412, 0.9366776748631238, 0.039028236452630156, 0.2637023537789051, 0.1273924414390846, 0.09299648225053177, 0.11274231067358988, 0.010403716050858576, 0.04755984480392492, 0.06560710734112857, 0.10212627388699949, 0.15478181634848778, 0.022718318723303422, 0.20955760679932803, 0.10638404969130233, 0.0805541775440314, 0.10273576266485163, 0.042028266544712034, 0.2391816974541077, 0.07077676831314353, 0.04246606098788611, 0.06902559054044718, 0.03721252766979711, 0.17233842382901104, 0.0953064846023482, 0.11910820855215094, 0.18991584758273566, 0.09724846626352457, 0.10382132727058307, 0.08330603382430958, 0.06861668536156522, 0.036399707546664856, 0.03390998746823361, 0.9537089856549142, 0.008556294854686012, 0.9839739082888913, 0.8955380150043178, 0.22829903724447664, 0.12589807136480669, 0.12386745731053563, 0.18290030874541618, 0.059467983017938646, 0.07716333406230087, 0.07759846564535897, 0.04293298286173131, 0.05453649174328032, 0.027413289732659524, 0.1494699327835017, 0.10754392674132446, 0.15430754886529138, 0.20231158536920438, 0.06648621076510947, 0.08980600110809563, 0.05519843990760021, 0.0876972966621873, 0.048872326569875245, 0.038452845778328235, 0.02538483645813502, 0.12230875748010508, 0.05076967291627004, 0.009230849621140007, 0.0023077124052850017, 0.7569296689334806, 0.0023077124052850017, 0.018461699242280014, 0.011538562026425008, 0.9727115992360225, 0.9779648698209004, 0.938908150733481, 0.9463115910002812, 0.9420636529088506], \"Term\": [\"abedin\", \"abedin\", \"abedin\", \"abedin\", \"abedin\", \"abedin\", \"abedin\", \"abedin\", \"abedin\", \"abedin\", \"abundant\", \"according\", \"according\", \"according\", \"according\", \"according\", \"according\", \"according\", \"according\", \"according\", \"according\", \"acr\", \"acr\", \"acr\", \"acr\", \"acr\", \"acr\", \"acr\", \"acr\", \"acr\", \"acr\", \"acrimonious\", \"act\", \"act\", \"act\", \"act\", \"act\", \"act\", \"act\", \"act\", \"act\", \"act\", \"actionwatch\", \"actor\", \"actor\", \"actor\", \"actor\", \"actor\", \"actor\", \"actor\", \"actor\", \"actor\", \"actor\", \"ad\", \"ad\", \"ad\", \"ad\", \"ad\", \"ad\", \"ad\", \"ad\", \"ad\", \"ad\", \"adminstration\", \"adminstration\", \"ads\", \"ads\", \"ads\", \"ads\", \"ads\", \"ads\", \"ads\", \"ads\", \"ads\", \"ads\", \"advertiser\", \"affleck\", \"affleck\", \"affleck\", \"affleck\", \"affleck\", \"affleck\", \"airfield\", \"airfield\", \"airfield\", \"airfield\", \"airspace\", \"airspace\", \"airspace\", \"airspace\", \"airstrikes\", \"airstrikes\", \"airstrikes\", \"airstrikes\", \"airstrikes\", \"airstrikes\", \"alarmist\", \"alarmist\", \"alarmist\", \"aleppo\", \"aleppo\", \"aleppo\", \"aleppo\", \"aleppo\", \"aleppo\", \"aleppo\", \"aleppo\", \"aleppo\", \"algeria\", \"aliens\", \"aliens\", \"aliens\", \"aliens\", \"aliens\", \"aliens\", \"aliens\", \"aliens\", \"aliens\", \"aliens\", \"allencompassing\", \"alnusra\", \"alnusra\", \"alnusra\", \"alnusra\", \"alnusra\", \"also\", \"also\", \"also\", \"also\", \"also\", \"also\", \"also\", \"also\", \"also\", \"also\", \"alt\", \"alt\", \"alt\", \"alt\", \"alt\", \"alt\", \"alt\", \"alt\", \"alt\", \"alt\", \"alternate\", \"alternate\", \"alternate\", \"alternate\", \"alternate\", \"alternate\", \"alternate\", \"alternate\", \"alternate\", \"alternate\", \"amarillo\", \"america\", \"america\", \"america\", \"america\", \"america\", \"america\", \"america\", \"america\", \"america\", \"america\", \"american\", \"american\", \"american\", \"american\", \"american\", \"american\", \"american\", \"american\", \"american\", \"american\", \"americanism\", \"americanism\", \"ammon\", \"ammon\", \"ammon\", \"ammon\", \"ammon\", \"ammon\", \"ammon\", \"andy\", \"andy\", \"andy\", \"andy\", \"andy\", \"andy\", \"andy\", \"andy\", \"andy\", \"andy\", \"angloamerican\", \"angloamerican\", \"angloamerican\", \"ankara\", \"ankara\", \"ankara\", \"ankara\", \"another\", \"another\", \"another\", \"another\", \"another\", \"another\", \"another\", \"another\", \"another\", \"another\", \"anthem\", \"anthem\", \"anthem\", \"anthem\", \"anthem\", \"anthem\", \"anthem\", \"anthem\", \"anthem\", \"anthem\", \"antiiran\", \"antivirus\", \"antivirus\", \"antiwall\", \"antonin\", \"antonin\", \"antonin\", \"antonin\", \"antonin\", \"antonin\", \"antonin\", \"appraisal\", \"appraisal\", \"appropriations\", \"appropriations\", \"appropriations\", \"appropriations\", \"appropriations\", \"appropriations\", \"appropriations\", \"arab\", \"arab\", \"arab\", \"arab\", \"arab\", \"arab\", \"arab\", \"arab\", \"arab\", \"arab\", \"arabia\", \"arabia\", \"arabia\", \"arabia\", \"arabia\", \"arabia\", \"arabia\", \"arabia\", \"arabia\", \"arabia\", \"arkin\", \"arraigned\", \"assad\", \"assad\", \"assad\", \"assad\", \"assad\", \"assad\", \"assad\", \"assad\", \"assad\", \"assad\", \"assange\", \"assange\", \"assange\", \"assange\", \"assange\", \"assange\", \"assange\", \"assange\", \"assange\", \"assange\", \"atlanticist\", \"attributing\", \"atty\", \"atty\", \"atty\", \"atty\", \"atty\", \"austrian\", \"austrian\", \"authorities\", \"authorities\", \"authorities\", \"authorities\", \"authorities\", \"authorities\", \"authorities\", \"authorities\", \"authorities\", \"authorities\", \"authorizes\", \"authorizes\", \"autonomous\", \"autonomous\", \"autopilot\", \"autopilot\", \"autopilot\", \"auxiliary\", \"back\", \"back\", \"back\", \"back\", \"back\", \"back\", \"back\", \"back\", \"back\", \"back\", \"ball\", \"ball\", \"ball\", \"ball\", \"ball\", \"ball\", \"ball\", \"ball\", \"ball\", \"ball\", \"banking\", \"banking\", \"banking\", \"banking\", \"banking\", \"banking\", \"banking\", \"banking\", \"banking\", \"banking\", \"bardack\", \"bashar\", \"bashar\", \"bashar\", \"bashar\", \"bashar\", \"bashar\", \"bashar\", \"bashar\", \"bashar\", \"bashar\", \"bayer\", \"bedfellows\", \"behemoth\", \"behemoth\", \"behemoth\", \"behemoth\", \"ben\", \"ben\", \"ben\", \"ben\", \"ben\", \"ben\", \"ben\", \"ben\", \"ben\", \"ben\", \"benghazi\", \"benghazi\", \"benghazi\", \"benghazi\", \"benghazi\", \"benghazi\", \"benghazi\", \"benghazi\", \"benghazi\", \"benghazi\", \"bernie\", \"bernie\", \"bernie\", \"bernie\", \"bernie\", \"bernie\", \"bernie\", \"bernie\", \"bernie\", \"bernie\", \"bestever\", \"bibi\", \"bibi\", \"biden\", \"biden\", \"biden\", \"biden\", \"biden\", \"biden\", \"biden\", \"biden\", \"biden\", \"biden\", \"bill\", \"bill\", \"bill\", \"bill\", \"bill\", \"bill\", \"bill\", \"bill\", \"bill\", \"bill\", \"black\", \"black\", \"black\", \"black\", \"black\", \"black\", \"black\", \"black\", \"black\", \"black\", \"blackmailing\", \"blackmailing\", \"blackonblack\", \"blacks\", \"blacks\", \"blacks\", \"blacks\", \"blacks\", \"blacks\", \"blacks\", \"blacks\", \"blacks\", \"blacks\", \"blogspot\", \"blogspot\", \"blogspot\", \"blogspot\", \"blogspot\", \"blogspot\", \"blogspot\", \"boil\", \"boil\", \"boil\", \"boil\", \"boil\", \"boil\", \"boil\", \"boil\", \"boiler\", \"boiler\", \"boiler\", \"boiler\", \"boiler\", \"boiler\", \"boiler\", \"boiler\", \"boiler\", \"borger\", \"borger\", \"borger\", \"borger\", \"boucher\", \"boucher\", \"bragg\", \"brazile\", \"brazile\", \"brazile\", \"brazile\", \"brazile\", \"brazile\", \"breathed\", \"bretzing\", \"bretzing\", \"brigades\", \"broadcast\", \"broadcast\", \"broadcast\", \"broadcast\", \"broadcast\", \"broadcast\", \"broadcast\", \"broadcast\", \"broadcast\", \"broadcast\", \"bulgarian\", \"bulgarian\", \"bundy\", \"bundy\", \"bundy\", \"bundy\", \"bundy\", \"bundy\", \"bundy\", \"bundy\", \"bundy\", \"bunkerville\", \"bunkerville\", \"bush\", \"bush\", \"bush\", \"bush\", \"bush\", \"bush\", \"bush\", \"bush\", \"bush\", \"bush\", \"caitlyn\", \"caitlyn\", \"campaign\", \"campaign\", \"campaign\", \"campaign\", \"campaign\", \"campaign\", \"campaign\", \"campaign\", \"campaign\", \"campaign\", \"campos\", \"campos\", \"campos\", \"campos\", \"campos\", \"campus\", \"campus\", \"campus\", \"campus\", \"campus\", \"campus\", \"campus\", \"campus\", \"campus\", \"campus\", \"candidate\", \"candidate\", \"candidate\", \"candidate\", \"candidate\", \"candidate\", \"candidate\", \"candidate\", \"candidate\", \"candidate\", \"candidates\", \"candidates\", \"candidates\", \"candidates\", \"candidates\", \"candidates\", \"candidates\", \"candidates\", \"candidates\", \"candidates\", \"capone\", \"capone\", \"carson\", \"carson\", \"carson\", \"carson\", \"carson\", \"carson\", \"carson\", \"carson\", \"carson\", \"carson\", \"cascading\", \"catcher\", \"catcher\", \"catchup\", \"catchup\", \"caucuses\", \"caucuses\", \"caucuses\", \"caucuses\", \"caucuses\", \"caucuses\", \"caucuses\", \"caucuses\", \"caucuses\", \"caucuses\", \"cbsdfw\", \"cbsdfw\", \"centre\", \"centre\", \"centre\", \"century\", \"century\", \"century\", \"century\", \"century\", \"century\", \"century\", \"century\", \"century\", \"century\", \"chartered\", \"chartered\", \"cheadle\", \"chemical\", \"chemical\", \"chemical\", \"chemical\", \"chemical\", \"chemical\", \"chemical\", \"chemical\", \"chemical\", \"chemical\", \"children\", \"children\", \"children\", \"children\", \"children\", \"children\", \"children\", \"children\", \"children\", \"children\", \"chilled\", \"chilled\", \"china\", \"china\", \"china\", \"china\", \"china\", \"china\", \"china\", \"china\", \"china\", \"china\", \"chinathe\", \"christmas\", \"christmas\", \"christmas\", \"christmas\", \"christmas\", \"christmas\", \"christmas\", \"christmas\", \"christmas\", \"christmas\", \"church\", \"church\", \"church\", \"church\", \"church\", \"church\", \"church\", \"church\", \"church\", \"church\", \"cia\", \"cia\", \"cia\", \"cia\", \"cia\", \"cia\", \"cia\", \"cia\", \"cia\", \"cia\", \"cibolo\", \"cibolo\", \"cibolo\", \"cinderela\", \"cinematic\", \"city\", \"city\", \"city\", \"city\", \"city\", \"city\", \"city\", \"city\", \"city\", \"city\", \"clapper\", \"clapper\", \"clapper\", \"clapper\", \"clapper\", \"clapper\", \"clapper\", \"clapper\", \"clapper\", \"clickbait\", \"clickbait\", \"clickbait\", \"clinton\", \"clinton\", \"clinton\", \"clinton\", \"clinton\", \"clinton\", \"clinton\", \"clinton\", \"clinton\", \"clinton\", \"clintons\", \"clintons\", \"clintons\", \"clintons\", \"clintons\", \"clintons\", \"clintons\", \"clintons\", \"clintons\", \"clintons\", \"cliven\", \"cliven\", \"cliven\", \"cliven\", \"cliven\", \"cliven\", \"clot\", \"clot\", \"clot\", \"clubthis\", \"clubthis\", \"clubthis\", \"cnn\", \"cnn\", \"cnn\", \"cnn\", \"cnn\", \"cnn\", \"cnn\", \"cnn\", \"cnn\", \"cnn\", \"cnnread\", \"coeditor\", \"colgate\", \"collegiate\", \"collier\", \"collier\", \"collusion\", \"collusion\", \"collusion\", \"collusion\", \"collusion\", \"collusion\", \"collusion\", \"collusion\", \"collusion\", \"collusion\", \"colts\", \"comey\", \"comey\", \"comey\", \"comey\", \"comey\", \"comey\", \"comey\", \"comey\", \"comey\", \"comey\", \"commemorating\", \"commutation\", \"commutation\", \"comprises\", \"comprises\", \"concha\", \"confederate\", \"confederate\", \"confederate\", \"confederate\", \"confederate\", \"confederate\", \"confederate\", \"confederate\", \"confederate\", \"confederate\", \"congress\", \"congress\", \"congress\", \"congress\", \"congress\", \"congress\", \"congress\", \"congress\", \"congress\", \"congress\", \"convention\", \"convention\", \"convention\", \"convention\", \"convention\", \"convention\", \"convention\", \"convention\", \"convention\", \"convention\", \"conversational\", \"corfman\", \"corfman\", \"corfman\", \"corinthians\", \"cosponsors\", \"cosponsors\", \"could\", \"could\", \"could\", \"could\", \"could\", \"could\", \"could\", \"could\", \"could\", \"could\", \"country\", \"country\", \"country\", \"country\", \"country\", \"country\", \"country\", \"country\", \"country\", \"country\", \"countryside\", \"countryside\", \"countryside\", \"countryside\", \"county\", \"county\", \"county\", \"county\", \"county\", \"county\", \"county\", \"county\", \"county\", \"county\", \"court\", \"court\", \"court\", \"court\", \"court\", \"court\", \"court\", \"court\", \"court\", \"court\", \"cowboys\", \"cowboys\", \"cowboys\", \"cowboys\", \"creamer\", \"creamer\", \"creamer\", \"creamer\", \"creamer\", \"creamer\", \"crips\", \"crips\", \"crips\", \"crowell\", \"crowell\", \"crowell\", \"crowell\", \"cruz\", \"cruz\", \"cruz\", \"cruz\", \"cruz\", \"cruz\", \"cruz\", \"cruz\", \"cruz\", \"cruz\", \"cst\", \"cst\", \"cst\", \"cst\", \"cst\", \"cst\", \"culpa\", \"cults\", \"cults\", \"cults\", \"cults\", \"cults\", \"cults\", \"cults\", \"curly\", \"curly\", \"custommade\", \"custommade\", \"custommade\", \"custommade\", \"cyber\", \"cyber\", \"cyber\", \"cyber\", \"cyber\", \"cyber\", \"cyber\", \"cyber\", \"cyber\", \"cyber\", \"cyborg\", \"cyborg\", \"danley\", \"danley\", \"dao\", \"dao\", \"dao\", \"darkly\", \"ddos\", \"ddos\", \"ddos\", \"debatable\", \"debatable\", \"deconstructs\", \"defamed\", \"deir\", \"deir\", \"deir\", \"deir\", \"deir\", \"deity\", \"deity\", \"deity\", \"deity\", \"deity\", \"delegate\", \"delegate\", \"delegate\", \"delegate\", \"delegate\", \"delegate\", \"delegate\", \"delegate\", \"delegate\", \"delegate\", \"delegates\", \"delegates\", \"delegates\", \"delegates\", \"delegates\", \"delegates\", \"delegates\", \"delegates\", \"delegates\", \"delegates\", \"deli\", \"deliberating\", \"democratic\", \"democratic\", \"democratic\", \"democratic\", \"democratic\", \"democratic\", \"democratic\", \"democratic\", \"democratic\", \"democratic\", \"democrats\", \"democrats\", \"democrats\", \"democrats\", \"democrats\", \"democrats\", \"democrats\", \"democrats\", \"democrats\", \"democrats\", \"department\", \"department\", \"department\", \"department\", \"department\", \"department\", \"department\", \"department\", \"department\", \"department\", \"deportationthe\", \"deray\", \"deray\", \"deray\", \"deray\", \"deray\", \"deray\", \"deray\", \"derivatives\", \"derivatives\", \"derivatives\", \"descends\", \"descends\", \"destabilization\", \"destabilization\", \"destabilizing\", \"destabilizing\", \"destabilizing\", \"destabilizing\", \"destabilizing\", \"dicaprio\", \"dicaprio\", \"dicaprio\", \"dicaprio\", \"dicaprio\", \"diesel\", \"diesel\", \"director\", \"director\", \"director\", \"director\", \"director\", \"director\", \"director\", \"director\", \"director\", \"director\", \"dismembering\", \"dissension\", \"distribute\", \"distribute\", \"distribute\", \"distribute\", \"distribute\", \"distribute\", \"distribute\", \"distribute\", \"distribute\", \"district\", \"district\", \"district\", \"district\", \"district\", \"district\", \"district\", \"district\", \"district\", \"district\", \"dni\", \"dni\", \"dni\", \"dni\", \"documentaries\", \"documentaries\", \"domains\", \"donald\", \"donald\", \"donald\", \"donald\", \"donald\", \"donald\", \"donald\", \"donald\", \"donald\", \"donald\", \"doublespeak\", \"doublespeak\", \"downed\", \"downs\", \"downs\", \"downs\", \"downs\", \"downs\", \"downs\", \"downs\", \"downs\", \"downs\", \"dunford\", \"duterte\", \"dwellings\", \"dyer\", \"dyer\", \"dyer\", \"dyer\", \"ebt\", \"ebt\", \"eckhart\", \"eckhart\", \"effortthe\", \"einstein\", \"einstein\", \"eitc\", \"election\", \"election\", \"election\", \"election\", \"election\", \"election\", \"election\", \"election\", \"election\", \"election\", \"email\", \"email\", \"email\", \"email\", \"email\", \"email\", \"email\", \"email\", \"email\", \"email\", \"emails\", \"emails\", \"emails\", \"emails\", \"emails\", \"emails\", \"emails\", \"emails\", \"emails\", \"emails\", \"emotive\", \"emotive\", \"emotive\", \"enforcement\", \"enforcement\", \"enforcement\", \"enforcement\", \"enforcement\", \"enforcement\", \"enforcement\", \"enforcement\", \"enforcement\", \"enforcement\", \"entrusting\", \"epa\", \"epa\", \"epa\", \"epa\", \"epa\", \"epa\", \"epa\", \"epa\", \"epa\", \"epa\", \"episode\", \"episode\", \"episode\", \"episode\", \"episode\", \"episode\", \"episode\", \"episode\", \"episode\", \"episode\", \"erdogan\", \"erdogan\", \"erdogan\", \"erdogan\", \"esoteric\", \"esoteric\", \"esoteric\", \"esoteric\", \"esoteric\", \"esoteric\", \"esoteric\", \"esoteric\", \"est\", \"est\", \"est\", \"est\", \"est\", \"est\", \"est\", \"est\", \"est\", \"establishment\", \"establishment\", \"establishment\", \"establishment\", \"establishment\", \"establishment\", \"establishment\", \"establishment\", \"establishment\", \"establishment\", \"eurasian\", \"eurasian\", \"europen\", \"evacuating\", \"evangelists\", \"evangelists\", \"evangelists\", \"evangelists\", \"evangelists\", \"evangelists\", \"evangelists\", \"evangelists\", \"even\", \"even\", \"even\", \"even\", \"even\", \"even\", \"even\", \"even\", \"even\", \"even\", \"eventsin\", \"everyman\", \"evict\", \"evidence\", \"evidence\", \"evidence\", \"evidence\", \"evidence\", \"evidence\", \"evidence\", \"evidence\", \"evidence\", \"evidence\", \"evidencefree\", \"excia\", \"exfbi\", \"expenditure\", \"expenditure\", \"expenditure\", \"expenditure\", \"expenditure\", \"expire\", \"expire\", \"expire\", \"expire\", \"expire\", \"expire\", \"expire\", \"expire\", \"extinguished\", \"eyeopening\", \"eyeopening\", \"eyeopening\", \"eyeopening\", \"fake\", \"fake\", \"fake\", \"fake\", \"fake\", \"fake\", \"fake\", \"fake\", \"fake\", \"fake\", \"farming\", \"farming\", \"farming\", \"farming\", \"fbi\", \"fbi\", \"fbi\", \"fbi\", \"fbi\", \"fbi\", \"fbi\", \"fbi\", \"fbi\", \"fbi\", \"federal\", \"federal\", \"federal\", \"federal\", \"federal\", \"federal\", \"federal\", \"federal\", \"federal\", \"federal\", \"feldman\", \"feldman\", \"feldman\", \"feldman\", \"feldman\", \"ferrell\", \"ferrell\", \"ferrell\", \"film\", \"film\", \"film\", \"film\", \"film\", \"film\", \"film\", \"film\", \"film\", \"film\", \"filtered\", \"filtering\", \"filtering\", \"finicum\", \"finicum\", \"finicum\", \"finicum\", \"finicum\", \"finicum\", \"finicum\", \"fiore\", \"fiore\", \"fiore\", \"fiore\", \"first\", \"first\", \"first\", \"first\", \"first\", \"first\", \"first\", \"first\", \"first\", \"first\", \"flag\", \"flag\", \"flag\", \"flag\", \"flag\", \"flag\", \"flag\", \"flag\", \"flag\", \"flag\", \"flatten\", \"flynn\", \"flynn\", \"flynn\", \"flynn\", \"flynn\", \"flynn\", \"flynn\", \"flynn\", \"flynn\", \"flynn\", \"forces\", \"forces\", \"forces\", \"forces\", \"forces\", \"forces\", \"forces\", \"forces\", \"forces\", \"forces\", \"foreign\", \"foreign\", \"foreign\", \"foreign\", \"foreign\", \"foreign\", \"foreign\", \"foreign\", \"foreign\", \"foreign\", \"former\", \"former\", \"former\", \"former\", \"former\", \"former\", \"former\", \"former\", \"former\", \"former\", \"formulation\", \"formulation\", \"foster\", \"foster\", \"foster\", \"foster\", \"foster\", \"foster\", \"foster\", \"foster\", \"foster\", \"foster\", \"foursome\", \"fox\", \"fox\", \"fox\", \"fox\", \"fox\", \"fox\", \"fox\", \"fox\", \"fox\", \"fox\", \"fronted\", \"gab\", \"gabbard\", \"gabbard\", \"gabbard\", \"gabbard\", \"gabbard\", \"gabbard\", \"gaddafi\", \"gaddafi\", \"gaddafi\", \"gaddafi\", \"gaddafi\", \"garten\", \"garten\", \"gay\", \"gay\", \"gay\", \"gay\", \"gay\", \"gay\", \"gay\", \"gay\", \"gay\", \"gay\", \"gchq\", \"gchq\", \"gchq\", \"gdp\", \"gdp\", \"gdp\", \"gdp\", \"gdp\", \"gdp\", \"gdp\", \"gdp\", \"generalelection\", \"generalelection\", \"gerster\", \"get\", \"get\", \"get\", \"get\", \"get\", \"get\", \"get\", \"get\", \"get\", \"get\", \"globalisation\", \"globalisation\", \"globalisation\", \"gnashing\", \"gnashing\", \"gnashing\", \"gnashing\", \"gnashing\", \"gnashing\", \"go\", \"go\", \"go\", \"go\", \"go\", \"go\", \"go\", \"go\", \"go\", \"go\", \"going\", \"going\", \"going\", \"going\", \"going\", \"going\", \"going\", \"going\", \"going\", \"going\", \"google\", \"google\", \"google\", \"google\", \"google\", \"google\", \"google\", \"google\", \"google\", \"google\", \"gop\", \"gop\", \"gop\", \"gop\", \"gop\", \"gop\", \"gop\", \"gop\", \"gop\", \"gop\", \"gorbachev\", \"gorman\", \"gorman\", \"government\", \"government\", \"government\", \"government\", \"government\", \"government\", \"government\", \"government\", \"government\", \"government\", \"graham\", \"graham\", \"graham\", \"graham\", \"graham\", \"graham\", \"graham\", \"graham\", \"graham\", \"graham\", \"grassroots\", \"grassroots\", \"grassroots\", \"grassroots\", \"grassroots\", \"grassroots\", \"grassroots\", \"grassroots\", \"grassroots\", \"grassroots\", \"gravel\", \"greeley\", \"greeley\", \"greeley\", \"greeley\", \"greeley\", \"greeley\", \"greeley\", \"greeley\", \"greeley\", \"greeley\", \"grenade\", \"grenade\", \"group\", \"group\", \"group\", \"group\", \"group\", \"group\", \"group\", \"group\", \"group\", \"group\", \"growth\", \"growth\", \"growth\", \"growth\", \"growth\", \"growth\", \"growth\", \"growth\", \"growth\", \"growth\", \"gru\", \"gru\", \"gun\", \"gun\", \"gun\", \"gun\", \"gun\", \"gun\", \"gun\", \"gun\", \"gun\", \"gun\", \"gunfights\", \"gushes\", \"guy\", \"guy\", \"guy\", \"guy\", \"guy\", \"guy\", \"guy\", \"guy\", \"guy\", \"guy\", \"haberman\", \"haberman\", \"hack\", \"hack\", \"hack\", \"hack\", \"hack\", \"hack\", \"hack\", \"hack\", \"hack\", \"hack\", \"hacked\", \"hacked\", \"hacked\", \"hacked\", \"hacked\", \"hacked\", \"hacked\", \"hacked\", \"hacked\", \"hacked\", \"hackers\", \"hackers\", \"hackers\", \"hackers\", \"hackers\", \"hackers\", \"hackers\", \"hackers\", \"hackers\", \"hackers\", \"hacking\", \"hacking\", \"hacking\", \"hacking\", \"hacking\", \"hacking\", \"hacking\", \"hacking\", \"hacking\", \"hacking\", \"hadley\", \"hadley\", \"haiti\", \"haiti\", \"haiti\", \"haiti\", \"haiti\", \"haiti\", \"haiti\", \"haiti\", \"haiti\", \"hallucinogenic\", \"hammond\", \"hammond\", \"hammond\", \"hammond\", \"hammond\", \"hammond\", \"hammond\", \"hannan\", \"hannity\", \"hannity\", \"hannity\", \"hannity\", \"hannity\", \"hannity\", \"hannity\", \"hannity\", \"hannity\", \"hannity\", \"harpers\", \"harrelson\", \"harrelson\", \"harrington\", \"harrisburg\", \"harrisburg\", \"harvey\", \"harvey\", \"harvey\", \"harvey\", \"harvey\", \"harvey\", \"harvey\", \"harvey\", \"harvey\", \"harvey\", \"headphones\", \"headphones\", \"headphones\", \"headphones\", \"headphones\", \"headphones\", \"health\", \"health\", \"health\", \"health\", \"health\", \"health\", \"health\", \"health\", \"health\", \"health\", \"hegemonic\", \"hegemonic\", \"hereon\", \"hersh\", \"hersh\", \"hersh\", \"hersh\", \"hersh\", \"hesher\", \"hesher\", \"hesher\", \"hesher\", \"hesher\", \"hesher\", \"hesher\", \"hesher\", \"hesher\", \"hesher\", \"hezbollah\", \"hezbollah\", \"hezbollah\", \"hezbollah\", \"hezbollah\", \"hillary\", \"hillary\", \"hillary\", \"hillary\", \"hillary\", \"hillary\", \"hillary\", \"hillary\", \"hillary\", \"hillary\", \"hinkle\", \"hoard\", \"hollywood\", \"hollywood\", \"hollywood\", \"hollywood\", \"hollywood\", \"hollywood\", \"hollywood\", \"hollywood\", \"hollywood\", \"hollywood\", \"holstered\", \"hominem\", \"homs\", \"homs\", \"host\", \"host\", \"host\", \"host\", \"host\", \"host\", \"host\", \"host\", \"host\", \"host\", \"hosts\", \"hosts\", \"hosts\", \"hosts\", \"hosts\", \"hosts\", \"hosts\", \"hosts\", \"hosts\", \"hosts\", \"hotel\", \"hotel\", \"hotel\", \"hotel\", \"hotel\", \"hotel\", \"hotel\", \"hotel\", \"hotel\", \"hotel\", \"hour\", \"hour\", \"hour\", \"hour\", \"hour\", \"hour\", \"hour\", \"hour\", \"hour\", \"hour\", \"house\", \"house\", \"house\", \"house\", \"house\", \"house\", \"house\", \"house\", \"house\", \"house\", \"howe\", \"howe\", \"howe\", \"howe\", \"howell\", \"howell\", \"howell\", \"huddle\", \"huddleston\", \"hypothesis\", \"hypothesis\", \"ic\", \"idle\", \"idle\", \"idlib\", \"idlib\", \"idlib\", \"idlib\", \"idlib\", \"illegal\", \"illegal\", \"illegal\", \"illegal\", \"illegal\", \"illegal\", \"illegal\", \"illegal\", \"illegal\", \"illegal\", \"illustrating\", \"illustrious\", \"imam\", \"imam\", \"imam\", \"imam\", \"imam\", \"imam\", \"including\", \"including\", \"including\", \"including\", \"including\", \"including\", \"including\", \"including\", \"including\", \"including\", \"inconsequential\", \"indulge\", \"indulge\", \"indulge\", \"indulge\", \"indulge\", \"indulge\", \"indulge\", \"informant\", \"informant\", \"informant\", \"informant\", \"informant\", \"informant\", \"informant\", \"informant\", \"informant\", \"information\", \"information\", \"information\", \"information\", \"information\", \"information\", \"information\", \"information\", \"information\", \"information\", \"infusion\", \"ingrid\", \"innings\", \"instigator\", \"instinctive\", \"insurance\", \"insurance\", \"insurance\", \"insurance\", \"insurance\", \"insurance\", \"insurance\", \"insurance\", \"insurance\", \"insurance\", \"intelligence\", \"intelligence\", \"intelligence\", \"intelligence\", \"intelligence\", \"intelligence\", \"intelligence\", \"intelligence\", \"intelligence\", \"intelligence\", \"international\", \"international\", \"international\", \"international\", \"international\", \"international\", \"international\", \"international\", \"international\", \"international\", \"intricate\", \"investigation\", \"investigation\", \"investigation\", \"investigation\", \"investigation\", \"investigation\", \"investigation\", \"investigation\", \"investigation\", \"investigation\", \"iran\", \"iran\", \"iran\", \"iran\", \"iran\", \"iran\", \"iran\", \"iran\", \"iran\", \"iran\", \"iranian\", \"iranian\", \"iranian\", \"iranian\", \"iranian\", \"iranian\", \"iranian\", \"iranian\", \"iranian\", \"iranian\", \"iraq\", \"iraq\", \"iraq\", \"iraq\", \"iraq\", \"iraq\", \"iraq\", \"iraq\", \"iraq\", \"iraq\", \"irk\", \"irvine\", \"irving\", \"irving\", \"irving\", \"irving\", \"irving\", \"irving\", \"isis\", \"isis\", \"isis\", \"isis\", \"isis\", \"isis\", \"isis\", \"isis\", \"isis\", \"isis\", \"isp\", \"israel\", \"israel\", \"israel\", \"israel\", \"israel\", \"israel\", \"israel\", \"israel\", \"israel\", \"israel\", \"jamestown\", \"jargon\", \"jay\", \"jay\", \"jay\", \"jay\", \"jay\", \"jay\", \"jay\", \"jay\", \"jay\", \"jay\", \"jeb\", \"jeb\", \"jeb\", \"jeb\", \"jeb\", \"jeb\", \"jeb\", \"jeb\", \"jeb\", \"jeb\", \"jenner\", \"jenner\", \"jenner\", \"jenner\", \"jenner\", \"jerad\", \"jerad\", \"jerad\", \"jinsa\", \"jobs\", \"jobs\", \"jobs\", \"jobs\", \"jobs\", \"jobs\", \"jobs\", \"jobs\", \"jobs\", \"jobs\", \"jolt\", \"jolt\", \"jones\", \"jones\", \"jones\", \"jones\", \"jones\", \"jones\", \"jones\", \"jones\", \"jones\", \"jones\", \"justice\", \"justice\", \"justice\", \"justice\", \"justice\", \"justice\", \"justice\", \"justice\", \"justice\", \"justice\", \"kane\", \"kardashians\", \"kasich\", \"kasich\", \"kasich\", \"kasich\", \"kasich\", \"kasich\", \"kasich\", \"kasich\", \"kasich\", \"kasich\", \"kelley\", \"kelley\", \"kelley\", \"kelley\", \"kelley\", \"kelley\", \"kelly\", \"kelly\", \"kelly\", \"kelly\", \"kelly\", \"kelly\", \"kelly\", \"kelly\", \"kelly\", \"kelly\", \"keurig\", \"keurig\", \"keurig\", \"keurig\", \"kimmel\", \"kimmel\", \"kimmel\", \"kimmel\", \"kimmel\", \"kimmel\", \"kimmel\", \"kimmel\", \"kimmel\", \"kissinger\", \"kissinger\", \"kissinger\", \"know\", \"know\", \"know\", \"know\", \"know\", \"know\", \"know\", \"know\", \"know\", \"know\", \"knox\", \"korea\", \"korea\", \"korea\", \"korea\", \"korea\", \"korea\", \"korea\", \"korea\", \"korea\", \"korea\", \"kosovo\", \"kosovo\", \"kosovo\", \"kremlin\", \"kremlin\", \"kremlin\", \"kremlin\", \"kremlin\", \"kremlin\", \"kremlin\", \"kremlin\", \"kremlin\", \"kurdi\", \"lacy\", \"las\", \"las\", \"las\", \"las\", \"las\", \"las\", \"las\", \"las\", \"las\", \"las\", \"lauderdale\", \"lauderdale\", \"lauderdale\", \"lauderdale\", \"lauderdale\", \"lauderdale\", \"lauderdale\", \"lavar\", \"lavar\", \"lavar\", \"lavoy\", \"lavoy\", \"lavoy\", \"lavoy\", \"lavoy\", \"lavoy\", \"law\", \"law\", \"law\", \"law\", \"law\", \"law\", \"law\", \"law\", \"law\", \"law\", \"leaks\", \"leaks\", \"leaks\", \"leaks\", \"leaks\", \"leaks\", \"leaks\", \"leaks\", \"leaks\", \"leaks\", \"legislation\", \"legislation\", \"legislation\", \"legislation\", \"legislation\", \"legislation\", \"legislation\", \"legislation\", \"legislation\", \"legislation\", \"legislative\", \"legislative\", \"legislative\", \"legislative\", \"legislative\", \"legislative\", \"legislative\", \"legislative\", \"legislative\", \"legislative\", \"leonardo\", \"leonardo\", \"leonardo\", \"leonardo\", \"leonardo\", \"lerner\", \"lerner\", \"lerner\", \"lerner\", \"lerner\", \"lerner\", \"lewinsky\", \"lewinsky\", \"lewinsky\", \"lewinsky\", \"lewinsky\", \"lewinsky\", \"lewinsky\", \"liberation\", \"liberation\", \"liberation\", \"liberation\", \"liberation\", \"liberation\", \"liberation\", \"liberation\", \"like\", \"like\", \"like\", \"like\", \"like\", \"like\", \"like\", \"like\", \"like\", \"like\", \"live\", \"live\", \"live\", \"live\", \"live\", \"live\", \"live\", \"live\", \"live\", \"live\", \"lives\", \"lives\", \"lives\", \"lives\", \"lives\", \"lives\", \"lives\", \"lives\", \"lives\", \"lives\", \"local\", \"local\", \"local\", \"local\", \"local\", \"local\", \"local\", \"local\", \"local\", \"local\", \"lolita\", \"lolita\", \"lolita\", \"lolita\", \"lombardo\", \"lombardo\", \"lombardo\", \"lombardo\", \"longerthe\", \"lorry\", \"lovable\", \"lovable\", \"lovable\", \"lovable\", \"lovable\", \"ltd\", \"ltd\", \"ltd\", \"ltd\", \"ltd\", \"ltd\", \"lucie\", \"luggage\", \"luggage\", \"luggage\", \"lula\", \"maduro\", \"maduro\", \"maduro\", \"maduro\", \"maduro\", \"make\", \"make\", \"make\", \"make\", \"make\", \"make\", \"make\", \"make\", \"make\", \"make\", \"mallory\", \"mallory\", \"mallory\", \"mallory\", \"mallory\", \"mallory\", \"mallory\", \"mallory\", \"man\", \"man\", \"man\", \"man\", \"man\", \"man\", \"man\", \"man\", \"man\", \"man\", \"manafort\", \"manafort\", \"manafort\", \"manafort\", \"manafort\", \"manafort\", \"manafort\", \"manafort\", \"manafort\", \"mandalay\", \"mandalay\", \"mandalay\", \"mandalay\", \"mandalay\", \"mandalay\", \"mandalay\", \"maniacs\", \"manipulates\", \"manning\", \"manning\", \"manning\", \"manning\", \"manning\", \"manning\", \"manning\", \"manning\", \"manning\", \"many\", \"many\", \"many\", \"many\", \"many\", \"many\", \"many\", \"many\", \"many\", \"many\", \"marco\", \"marco\", \"marco\", \"marco\", \"marco\", \"marco\", \"marco\", \"marco\", \"marco\", \"marco\", \"marriage\", \"marriage\", \"marriage\", \"marriage\", \"marriage\", \"marriage\", \"marriage\", \"marriage\", \"marriage\", \"marriage\", \"massshooting\", \"massshooting\", \"mateen\", \"mateen\", \"mateen\", \"mateen\", \"mateen\", \"mateen\", \"mateen\", \"mateen\", \"mateen\", \"mateen\", \"matter\", \"matter\", \"matter\", \"matter\", \"matter\", \"matter\", \"matter\", \"matter\", \"matter\", \"matter\", \"maxine\", \"maxine\", \"maxine\", \"maxine\", \"maxine\", \"maxine\", \"maxine\", \"maxine\", \"maxine\", \"mayer\", \"mayer\", \"mayer\", \"mayer\", \"mccabe\", \"mccabe\", \"mccabe\", \"mccabe\", \"mccabe\", \"mccabe\", \"mccabe\", \"mccabe\", \"mccain\", \"mccain\", \"mccain\", \"mccain\", \"mccain\", \"mccain\", \"mccain\", \"mccain\", \"mccain\", \"mccain\", \"mcveigh\", \"mcveigh\", \"meanings\", \"meanings\", \"meanings\", \"meanings\", \"meanings\", \"meddling\", \"meddling\", \"meddling\", \"meddling\", \"meddling\", \"meddling\", \"meddling\", \"meddling\", \"media\", \"media\", \"media\", \"media\", \"media\", \"media\", \"media\", \"media\", \"media\", \"media\", \"memoranda\", \"memoranda\", \"mgm\", \"mgm\", \"mgm\", \"mgm\", \"mgm\", \"mikhail\", \"mikhail\", \"militarily\", \"military\", \"military\", \"military\", \"military\", \"military\", \"military\", \"military\", \"military\", \"military\", \"military\", \"million\", \"million\", \"million\", \"million\", \"million\", \"million\", \"million\", \"million\", \"million\", \"million\", \"milosevic\", \"mindthe\", \"miniscule\", \"mishap\", \"missile\", \"missile\", \"missile\", \"missile\", \"missile\", \"missile\", \"missile\", \"missile\", \"missile\", \"missile\", \"mitt\", \"mitt\", \"mitt\", \"mitt\", \"mitt\", \"mitt\", \"mitt\", \"mitt\", \"mitt\", \"mitt\", \"mnuchin\", \"mnuchin\", \"mnuchin\", \"mnuchin\", \"mnuchin\", \"mnuchin\", \"mnuchin\", \"mnuchin\", \"modrikamen\", \"money\", \"money\", \"money\", \"money\", \"money\", \"money\", \"money\", \"money\", \"money\", \"money\", \"moore\", \"moore\", \"moore\", \"moore\", \"moore\", \"moore\", \"moore\", \"moore\", \"moore\", \"moore\", \"morphing\", \"morphing\", \"morton\", \"mosby\", \"mosby\", \"mosby\", \"mosby\", \"mosby\", \"moveonorg\", \"moveonorg\", \"moveonorg\", \"moveonorg\", \"moveonorg\", \"moveonorg\", \"moveonorg\", \"moveonorg\", \"moveonorg\", \"mrs\", \"mrs\", \"mrs\", \"mrs\", \"mrs\", \"mrs\", \"mrs\", \"mrs\", \"mrs\", \"mrs\", \"much\", \"much\", \"much\", \"much\", \"much\", \"much\", \"much\", \"much\", \"much\", \"much\", \"muddled\", \"mueller\", \"mueller\", \"mueller\", \"mueller\", \"mueller\", \"mueller\", \"mueller\", \"mueller\", \"mueller\", \"mueller\", \"murrah\", \"mystical\", \"naples\", \"narcotics\", \"narcotics\", \"narcotics\", \"narcotics\", \"nato\", \"nato\", \"nato\", \"nato\", \"nato\", \"nato\", \"nato\", \"nato\", \"nato\", \"nato\", \"ncaa\", \"ncaa\", \"ncaa\", \"ncaa\", \"ncaa\", \"neocon\", \"neocon\", \"neocon\", \"neocon\", \"neocon\", \"neocon\", \"neocon\", \"neocon\", \"neoconservative\", \"neoconservative\", \"neoconservative\", \"neomccarthyist\", \"neophyte\", \"new\", \"new\", \"new\", \"new\", \"new\", \"new\", \"new\", \"new\", \"new\", \"new\", \"news\", \"news\", \"news\", \"news\", \"news\", \"news\", \"news\", \"news\", \"news\", \"news\", \"nfl\", \"nfl\", \"nfl\", \"nfl\", \"nfl\", \"nfl\", \"nfl\", \"nfl\", \"nfl\", \"nfl\", \"nomination\", \"nomination\", \"nomination\", \"nomination\", \"nomination\", \"nomination\", \"nomination\", \"nomination\", \"nomination\", \"nomination\", \"nomineewatch\", \"nsa\", \"nsa\", \"nsa\", \"nsa\", \"nsa\", \"nsa\", \"nsa\", \"nsa\", \"nsa\", \"nsa\", \"nuclear\", \"nuclear\", \"nuclear\", \"nuclear\", \"nuclear\", \"nuclear\", \"nuclear\", \"nuclear\", \"nuclear\", \"nuclear\", \"nucleararmed\", \"nudge\", \"nudge\", \"nudge\", \"nudge\", \"nudge\", \"nusra\", \"nusra\", \"nusra\", \"nusra\", \"nusra\", \"nusra\", \"obama\", \"obama\", \"obama\", \"obama\", \"obama\", \"obama\", \"obama\", \"obama\", \"obama\", \"obama\", \"obamacare\", \"obamacare\", \"obamacare\", \"obamacare\", \"obamacare\", \"obamacare\", \"obamacare\", \"obamacare\", \"obamacare\", \"obamacare\", \"obfuscate\", \"obfuscate\", \"obfuscating\", \"obtuse\", \"occult\", \"occult\", \"oddities\", \"oddities\", \"officer\", \"officer\", \"officer\", \"officer\", \"officer\", \"officer\", \"officer\", \"officer\", \"officer\", \"officer\", \"officers\", \"officers\", \"officers\", \"officers\", \"officers\", \"officers\", \"officers\", \"officers\", \"officers\", \"officers\", \"omnibus\", \"omnibus\", \"omnibus\", \"omnibus\", \"one\", \"one\", \"one\", \"one\", \"one\", \"one\", \"one\", \"one\", \"one\", \"one\", \"onset\", \"onset\", \"onset\", \"openended\", \"opium\", \"opium\", \"opium\", \"optimal\", \"order\", \"order\", \"order\", \"order\", \"order\", \"order\", \"order\", \"order\", \"order\", \"order\", \"ordinance\", \"ordinance\", \"ordinance\", \"oregon\", \"oregon\", \"oregon\", \"oregon\", \"oregon\", \"oregon\", \"oregon\", \"oregon\", \"oregon\", \"oregon\", \"oregonian\", \"oregonian\", \"oregonian\", \"oregonian\", \"originating\", \"orlando\", \"orlando\", \"orlando\", \"orlando\", \"orlando\", \"orlando\", \"orlando\", \"orlando\", \"orlando\", \"orlando\", \"oroville\", \"oroville\", \"orphans\", \"ottoman\", \"outtakes\", \"oversupply\", \"overtones\", \"paddock\", \"paddock\", \"paddock\", \"paddock\", \"paddock\", \"paddock\", \"panda\", \"papadopoulos\", \"papadopoulos\", \"papadopoulos\", \"papadopoulos\", \"parenthood\", \"parenthood\", \"parenthood\", \"parenthood\", \"parenthood\", \"parenthood\", \"parenthood\", \"parenthood\", \"parenthood\", \"parenthood\", \"parry\", \"parry\", \"parry\", \"parry\", \"parry\", \"parry\", \"party\", \"party\", \"party\", \"party\", \"party\", \"party\", \"party\", \"party\", \"party\", \"party\", \"passengers\", \"passengers\", \"passengers\", \"passengers\", \"passengers\", \"passengers\", \"passengers\", \"passengers\", \"passengers\", \"patrick\", \"patrick\", \"patrick\", \"patrick\", \"patrick\", \"patrick\", \"patrick\", \"patrick\", \"patrick\", \"patrick\", \"patsy\", \"patsy\", \"patsy\", \"payne\", \"payne\", \"payne\", \"payne\", \"payne\", \"pendleton\", \"pentagon\", \"pentagon\", \"pentagon\", \"pentagon\", \"pentagon\", \"pentagon\", \"pentagon\", \"pentagon\", \"pentagon\", \"pentagon\", \"people\", \"people\", \"people\", \"people\", \"people\", \"people\", \"people\", \"people\", \"people\", \"people\", \"pepe\", \"pepe\", \"pepe\", \"pepe\", \"pepe\", \"pepe\", \"percent\", \"percent\", \"percent\", \"percent\", \"percent\", \"percent\", \"percent\", \"percent\", \"percent\", \"percent\", \"periphery\", \"peskov\", \"peskov\", \"peskov\", \"petraeus\", \"petraeus\", \"petraeus\", \"petraeus\", \"petraeus\", \"philosopher\", \"philosopher\", \"philosopher\", \"philosopher\", \"philosopher\", \"philosophers\", \"philosophers\", \"philosophers\", \"philosophers\", \"philosophers\", \"philosophers\", \"piersmorgan\", \"pies\", \"planned\", \"planned\", \"planned\", \"planned\", \"planned\", \"planned\", \"planned\", \"planned\", \"planned\", \"planned\", \"player\", \"player\", \"player\", \"player\", \"player\", \"player\", \"player\", \"player\", \"player\", \"player\", \"players\", \"players\", \"players\", \"players\", \"players\", \"players\", \"players\", \"players\", \"players\", \"players\", \"pm\", \"pm\", \"pm\", \"pm\", \"pm\", \"pm\", \"pm\", \"pm\", \"pm\", \"pm\", \"podesta\", \"podesta\", \"podesta\", \"podesta\", \"podesta\", \"podesta\", \"podesta\", \"podesta\", \"podesta\", \"podesta\", \"poindexter\", \"poindexter\", \"poindexter\", \"poindexter\", \"poindexter\", \"police\", \"police\", \"police\", \"police\", \"police\", \"police\", \"police\", \"police\", \"police\", \"police\", \"policy\", \"policy\", \"policy\", \"policy\", \"policy\", \"policy\", \"policy\", \"policy\", \"policy\", \"policy\", \"political\", \"political\", \"political\", \"political\", \"political\", \"political\", \"political\", \"political\", \"political\", \"political\", \"pondering\", \"portman\", \"portman\", \"portman\", \"portman\", \"portman\", \"portman\", \"postal\", \"postal\", \"postal\", \"postal\", \"powergrab\", \"powergrab\", \"practitioner\", \"pratt\", \"pravda\", \"preconditioned\", \"preempted\", \"preempted\", \"preempted\", \"preparedness\", \"preplanned\", \"president\", \"president\", \"president\", \"president\", \"president\", \"president\", \"president\", \"president\", \"president\", \"president\", \"presidential\", \"presidential\", \"presidential\", \"presidential\", \"presidential\", \"presidential\", \"presidential\", \"presidential\", \"presidential\", \"presidential\", \"presidio\", \"presidio\", \"presidio\", \"presidio\", \"presidio\", \"primary\", \"primary\", \"primary\", \"primary\", \"primary\", \"primary\", \"primary\", \"primary\", \"primary\", \"primary\", \"program\", \"program\", \"program\", \"program\", \"program\", \"program\", \"program\", \"program\", \"program\", \"program\", \"propelling\", \"propelling\", \"protest\", \"protest\", \"protest\", \"protest\", \"protest\", \"protest\", \"protest\", \"protest\", \"protest\", \"protest\", \"protestations\", \"provision\", \"provision\", \"provision\", \"provision\", \"provision\", \"provision\", \"provision\", \"provision\", \"provision\", \"provision\", \"provocateurs\", \"provocateurs\", \"provocateurs\", \"pryor\", \"pst\", \"pst\", \"pst\", \"pst\", \"pst\", \"pt\", \"pt\", \"pt\", \"pt\", \"pt\", \"pt\", \"pt\", \"public\", \"public\", \"public\", \"public\", \"public\", \"public\", \"public\", \"public\", \"public\", \"public\", \"puerto\", \"puerto\", \"puerto\", \"puerto\", \"puerto\", \"puerto\", \"puerto\", \"puerto\", \"puerto\", \"pulse\", \"pulse\", \"pulse\", \"pulse\", \"pulse\", \"pulse\", \"pulse\", \"pulse\", \"pulse\", \"pulse\", \"putin\", \"putin\", \"putin\", \"putin\", \"putin\", \"putin\", \"putin\", \"putin\", \"putin\", \"putin\", \"pyongyang\", \"pyongyang\", \"pyongyang\", \"pyongyang\", \"pyongyang\", \"pyongyang\", \"pyongyang\", \"pyongyang\", \"qaeda\", \"qaeda\", \"qaeda\", \"qaeda\", \"qaeda\", \"qaeda\", \"qaeda\", \"qaeda\", \"qaeda\", \"quigley\", \"rachael\", \"rachael\", \"radio\", \"radio\", \"radio\", \"radio\", \"radio\", \"radio\", \"radio\", \"radio\", \"radio\", \"radio\", \"rainbowcolored\", \"ramsey\", \"ramsey\", \"ramsey\", \"ramsey\", \"ramsey\", \"ramsey\", \"ramsey\", \"rancher\", \"rancher\", \"rancher\", \"rancher\", \"rancher\", \"rationality\", \"reactors\", \"realists\", \"realitythe\", \"really\", \"really\", \"really\", \"really\", \"really\", \"really\", \"really\", \"really\", \"really\", \"really\", \"redact\", \"redact\", \"refrigerator\", \"refugees\", \"refugees\", \"refugees\", \"refugees\", \"refugees\", \"refugees\", \"refugees\", \"refugees\", \"refugees\", \"refugees\", \"regency\", \"regency\", \"regime\", \"regime\", \"regime\", \"regime\", \"regime\", \"regime\", \"regime\", \"regime\", \"regime\", \"regime\", \"rehabilitate\", \"reilly\", \"reilly\", \"reilly\", \"reilly\", \"reilly\", \"reilly\", \"reilly\", \"reilly\", \"reilly\", \"reilly\", \"rend\", \"rep\", \"rep\", \"rep\", \"rep\", \"rep\", \"rep\", \"rep\", \"rep\", \"rep\", \"rep\", \"repeal\", \"repeal\", \"repeal\", \"repeal\", \"repeal\", \"repeal\", \"repeal\", \"repeal\", \"repeal\", \"repeal\", \"repetition\", \"repetition\", \"replay\", \"replicated\", \"report\", \"report\", \"report\", \"report\", \"report\", \"report\", \"report\", \"report\", \"report\", \"report\", \"republican\", \"republican\", \"republican\", \"republican\", \"republican\", \"republican\", \"republican\", \"republican\", \"republican\", \"republican\", \"republicans\", \"republicans\", \"republicans\", \"republicans\", \"republicans\", \"republicans\", \"republicans\", \"republicans\", \"republicans\", \"republicans\", \"residents\", \"residents\", \"residents\", \"residents\", \"residents\", \"residents\", \"residents\", \"residents\", \"residents\", \"residents\", \"resurrecting\", \"retailers\", \"retailers\", \"retailers\", \"retailers\", \"retailers\", \"retailers\", \"retailers\", \"retailers\", \"retailers\", \"retool\", \"retool\", \"revamp\", \"revamp\", \"revamp\", \"revamp\", \"revenant\", \"right\", \"right\", \"right\", \"right\", \"right\", \"right\", \"right\", \"right\", \"right\", \"right\", \"rights\", \"rights\", \"rights\", \"rights\", \"rights\", \"rights\", \"rights\", \"rights\", \"rights\", \"rights\", \"robber\", \"robber\", \"robertson\", \"robertson\", \"robertson\", \"robertson\", \"robertson\", \"robertson\", \"robertson\", \"robertson\", \"robotics\", \"robotics\", \"robotics\", \"rodgers\", \"rodgers\", \"rodgers\", \"rodgers\", \"rodgers\", \"romney\", \"romney\", \"romney\", \"romney\", \"romney\", \"romney\", \"romney\", \"romney\", \"romney\", \"romney\", \"room\", \"room\", \"room\", \"room\", \"room\", \"room\", \"room\", \"room\", \"room\", \"room\", \"rosenstein\", \"rosenstein\", \"rosenstein\", \"rosenstein\", \"rosenstein\", \"rosenstein\", \"rosenstein\", \"rosenstein\", \"roy\", \"roy\", \"roy\", \"roy\", \"roy\", \"roy\", \"roy\", \"roy\", \"roy\", \"roy\", \"rubin\", \"rubin\", \"rubin\", \"rubin\", \"rubio\", \"rubio\", \"rubio\", \"rubio\", \"rubio\", \"rubio\", \"rubio\", \"rubio\", \"rubio\", \"rubio\", \"russia\", \"russia\", \"russia\", \"russia\", \"russia\", \"russia\", \"russia\", \"russia\", \"russia\", \"russia\", \"russian\", \"russian\", \"russian\", \"russian\", \"russian\", \"russian\", \"russian\", \"russian\", \"russian\", \"russian\", \"russianbased\", \"russianbased\", \"russianbased\", \"russians\", \"russians\", \"russians\", \"russians\", \"russians\", \"russians\", \"russians\", \"russians\", \"russians\", \"russians\", \"russiansthe\", \"ryan\", \"ryan\", \"ryan\", \"ryan\", \"ryan\", \"ryan\", \"ryan\", \"ryan\", \"ryan\", \"ryan\", \"said\", \"said\", \"said\", \"said\", \"said\", \"said\", \"said\", \"said\", \"said\", \"said\", \"sailor\", \"sailor\", \"samesex\", \"samesex\", \"samesex\", \"samesex\", \"samesex\", \"samesex\", \"samesex\", \"samesex\", \"samesex\", \"sanctioning\", \"santiago\", \"santiago\", \"sarin\", \"sarin\", \"sarin\", \"sarin\", \"sarin\", \"sarin\", \"saudi\", \"saudi\", \"saudi\", \"saudi\", \"saudi\", \"saudi\", \"saudi\", \"saudi\", \"saudi\", \"saudi\", \"saudis\", \"saudis\", \"saudis\", \"saudis\", \"saudis\", \"saudis\", \"saviour\", \"saviour\", \"say\", \"say\", \"say\", \"say\", \"say\", \"say\", \"say\", \"say\", \"say\", \"say\", \"scalia\", \"scalia\", \"scalia\", \"scalia\", \"scalia\", \"scalia\", \"scalia\", \"scalia\", \"scalia\", \"school\", \"school\", \"school\", \"school\", \"school\", \"school\", \"school\", \"school\", \"school\", \"school\", \"schoolhouse\", \"scottsdale\", \"scottsdale\", \"secondhand\", \"secondhand\", \"secondhand\", \"sectors\", \"sectors\", \"sectors\", \"sectors\", \"sectors\", \"security\", \"security\", \"security\", \"security\", \"security\", \"security\", \"security\", \"security\", \"security\", \"security\", \"securitythis\", \"seddique\", \"seddique\", \"seddique\", \"see\", \"see\", \"see\", \"see\", \"see\", \"see\", \"see\", \"see\", \"see\", \"see\", \"selfidentifying\", \"sen\", \"sen\", \"sen\", \"sen\", \"sen\", \"sen\", \"sen\", \"sen\", \"sen\", \"sen\", \"senate\", \"senate\", \"senate\", \"senate\", \"senate\", \"senate\", \"senate\", \"senate\", \"senate\", \"senate\", \"senators\", \"senators\", \"senators\", \"senators\", \"senators\", \"senators\", \"senators\", \"senators\", \"senators\", \"senators\", \"seneca\", \"seniormost\", \"sequestration\", \"server\", \"server\", \"server\", \"server\", \"server\", \"server\", \"server\", \"server\", \"server\", \"server\", \"services\", \"services\", \"services\", \"services\", \"services\", \"services\", \"services\", \"services\", \"services\", \"services\", \"shaw\", \"shaw\", \"shaw\", \"shaw\", \"shayrat\", \"shayrat\", \"sheikhoun\", \"sheppard\", \"sheppard\", \"sheriff\", \"sheriff\", \"sheriff\", \"sheriff\", \"sheriff\", \"sheriff\", \"sheriff\", \"sheriff\", \"sheriff\", \"sheriff\", \"sherri\", \"shipments\", \"shipments\", \"shooter\", \"shooter\", \"shooter\", \"shooter\", \"shooter\", \"shooter\", \"shooter\", \"shooter\", \"shooter\", \"shooter\", \"shooting\", \"shooting\", \"shooting\", \"shooting\", \"shooting\", \"shooting\", \"shooting\", \"shooting\", \"shooting\", \"shooting\", \"shot\", \"shot\", \"shot\", \"shot\", \"shot\", \"shot\", \"shot\", \"shot\", \"shot\", \"shot\", \"show\", \"show\", \"show\", \"show\", \"show\", \"show\", \"show\", \"show\", \"show\", \"show\", \"shrinks\", \"shrinks\", \"shrinks\", \"smallscale\", \"smelly\", \"smugglers\", \"sociopathic\", \"sociopathic\", \"sociopathic\", \"sociopathic\", \"sonic\", \"sources\", \"sources\", \"sources\", \"sources\", \"sources\", \"sources\", \"sources\", \"sources\", \"sources\", \"sources\", \"spacebased\", \"spacebased\", \"spacex\", \"spacex\", \"spacex\", \"spacex\", \"spacey\", \"spacey\", \"spacey\", \"spacey\", \"spending\", \"spending\", \"spending\", \"spending\", \"spending\", \"spending\", \"spending\", \"spending\", \"spending\", \"spending\", \"spillway\", \"sputnik\", \"sputnik\", \"sputnik\", \"sputnik\", \"sputnik\", \"sputnik\", \"stahl\", \"stahl\", \"stahl\", \"stahl\", \"stalemate\", \"standout\", \"starnes\", \"state\", \"state\", \"state\", \"state\", \"state\", \"state\", \"state\", \"state\", \"state\", \"state\", \"states\", \"states\", \"states\", \"states\", \"states\", \"states\", \"states\", \"states\", \"states\", \"states\", \"stenographers\", \"stewart\", \"stewart\", \"stewart\", \"stewart\", \"stewart\", \"stewart\", \"stewart\", \"stewart\", \"stewart\", \"stewart\", \"stockholm\", \"stockholm\", \"stockholm\", \"stockholm\", \"stockholm\", \"story\", \"story\", \"story\", \"story\", \"story\", \"story\", \"story\", \"story\", \"story\", \"story\", \"student\", \"student\", \"student\", \"student\", \"student\", \"student\", \"student\", \"student\", \"student\", \"student\", \"students\", \"students\", \"students\", \"students\", \"students\", \"students\", \"students\", \"students\", \"students\", \"students\", \"subscribing\", \"subscribing\", \"subscribing\", \"summertime\", \"summertime\", \"superdelegates\", \"superdelegates\", \"superdelegates\", \"superdelegates\", \"superdelegates\", \"superdelegates\", \"superdelegates\", \"support\", \"support\", \"support\", \"support\", \"support\", \"support\", \"support\", \"support\", \"support\", \"support\", \"supreme\", \"supreme\", \"supreme\", \"supreme\", \"supreme\", \"supreme\", \"supreme\", \"supreme\", \"supreme\", \"supreme\", \"surf\", \"surges\", \"surges\", \"swat\", \"swat\", \"swat\", \"swat\", \"swat\", \"swat\", \"swat\", \"sweden\", \"sweden\", \"sweden\", \"sweden\", \"sweden\", \"sweden\", \"sweden\", \"sweden\", \"sweden\", \"sweden\", \"swedes\", \"swedes\", \"swedes\", \"swedes\", \"swedes\", \"swedes\", \"swedish\", \"swedish\", \"swedish\", \"swedish\", \"swedish\", \"swedish\", \"swedish\", \"swedish\", \"swedish\", \"symbiotic\", \"symbiotic\", \"synthetic\", \"synthetic\", \"synthetic\", \"syria\", \"syria\", \"syria\", \"syria\", \"syria\", \"syria\", \"syria\", \"syria\", \"syria\", \"syria\", \"syrian\", \"syrian\", \"syrian\", \"syrian\", \"syrian\", \"syrian\", \"syrian\", \"syrian\", \"syrian\", \"syrian\", \"tax\", \"tax\", \"tax\", \"tax\", \"tax\", \"tax\", \"tax\", \"tax\", \"tax\", \"tax\", \"tayyip\", \"tayyip\", \"teacher\", \"teacher\", \"teacher\", \"teacher\", \"teacher\", \"teacher\", \"teacher\", \"teacher\", \"teacher\", \"teacher\", \"ted\", \"ted\", \"ted\", \"ted\", \"ted\", \"ted\", \"ted\", \"ted\", \"ted\", \"ted\", \"think\", \"think\", \"think\", \"think\", \"think\", \"think\", \"think\", \"think\", \"think\", \"think\", \"time\", \"time\", \"time\", \"time\", \"time\", \"time\", \"time\", \"time\", \"time\", \"time\", \"told\", \"told\", \"told\", \"told\", \"told\", \"told\", \"told\", \"told\", \"told\", \"told\", \"tomahawk\", \"tomahawk\", \"tomahawk\", \"tomahawk\", \"tonight\", \"tonight\", \"tonight\", \"tonight\", \"tonight\", \"tonight\", \"tonight\", \"tonight\", \"tonight\", \"tonight\", \"tr\", \"trilateral\", \"trilateral\", \"triumphant\", \"troops\", \"troops\", \"troops\", \"troops\", \"troops\", \"troops\", \"troops\", \"troops\", \"troops\", \"troops\", \"trump\", \"trump\", \"trump\", \"trump\", \"trump\", \"trump\", \"trump\", \"trump\", \"trump\", \"trump\", \"trumprussia\", \"trumprussia\", \"trumprussia\", \"trumprussia\", \"trumprussia\", \"trumprussia\", \"trumprussia\", \"trumprussia\", \"trumprussia\", \"tub\", \"tubes\", \"tubes\", \"tubes\", \"tulsi\", \"tulsi\", \"tulsi\", \"tulsi\", \"tulsi\", \"tulsi\", \"turkey\", \"turkey\", \"turkey\", \"turkey\", \"turkey\", \"turkey\", \"turkey\", \"turkey\", \"turkey\", \"turkey\", \"turkish\", \"turkish\", \"turkish\", \"turkish\", \"turkish\", \"turkish\", \"turkish\", \"turkish\", \"turkish\", \"turkish\", \"tweak\", \"twentytwo\", \"two\", \"two\", \"two\", \"two\", \"two\", \"two\", \"two\", \"two\", \"two\", \"two\", \"uncensored\", \"uncensored\", \"uncensored\", \"uncensored\", \"uncensored\", \"undercutting\", \"underwhelming\", \"unduly\", \"unexplained\", \"unexplained\", \"united\", \"united\", \"united\", \"united\", \"united\", \"united\", \"united\", \"united\", \"united\", \"united\", \"university\", \"university\", \"university\", \"university\", \"university\", \"university\", \"university\", \"university\", \"university\", \"university\", \"unwinnable\", \"upscale\", \"us\", \"us\", \"us\", \"us\", \"us\", \"us\", \"us\", \"us\", \"us\", \"us\", \"usaccording\", \"usbacked\", \"usbacked\", \"usbacked\", \"usbacked\", \"usbacked\", \"usled\", \"usled\", \"usled\", \"usled\", \"usled\", \"usled\", \"usled\", \"usmc\", \"usps\", \"usps\", \"vanguard\", \"vargas\", \"vargas\", \"vassal\", \"vegas\", \"vegas\", \"vegas\", \"vegas\", \"vegas\", \"vegas\", \"vegas\", \"vegas\", \"vegas\", \"vegas\", \"veto\", \"veto\", \"veto\", \"veto\", \"veto\", \"veto\", \"veto\", \"veto\", \"veto\", \"veto\", \"vetoing\", \"vetoing\", \"video\", \"video\", \"video\", \"video\", \"video\", \"video\", \"video\", \"video\", \"video\", \"video\", \"vit\", \"vitale\", \"vitale\", \"vittert\", \"vote\", \"vote\", \"vote\", \"vote\", \"vote\", \"vote\", \"vote\", \"vote\", \"vote\", \"vote\", \"voter\", \"voter\", \"voter\", \"voter\", \"voter\", \"voter\", \"voter\", \"voter\", \"voter\", \"voter\", \"voters\", \"voters\", \"voters\", \"voters\", \"voters\", \"voters\", \"voters\", \"voters\", \"voters\", \"voters\", \"vr\", \"vr\", \"vr\", \"vr\", \"vr\", \"wahhabi\", \"wahhabi\", \"walkouts\", \"want\", \"want\", \"want\", \"want\", \"want\", \"want\", \"want\", \"want\", \"want\", \"want\", \"war\", \"war\", \"war\", \"war\", \"war\", \"war\", \"war\", \"war\", \"war\", \"war\", \"warmonger\", \"washington\", \"washington\", \"washington\", \"washington\", \"washington\", \"washington\", \"washington\", \"washington\", \"washington\", \"washington\", \"water\", \"water\", \"water\", \"water\", \"water\", \"water\", \"water\", \"water\", \"water\", \"water\", \"waters\", \"waters\", \"waters\", \"waters\", \"waters\", \"waters\", \"waters\", \"waters\", \"waters\", \"waters\", \"waurishuk\", \"way\", \"way\", \"way\", \"way\", \"way\", \"way\", \"way\", \"way\", \"way\", \"way\", \"weapons\", \"weapons\", \"weapons\", \"weapons\", \"weapons\", \"weapons\", \"weapons\", \"weapons\", \"weapons\", \"weapons\", \"weinstein\", \"weinstein\", \"weinstein\", \"weinstein\", \"weinstein\", \"weinstein\", \"weinstein\", \"weinstein\", \"weinstein\", \"weinstein\", \"western\", \"western\", \"western\", \"western\", \"western\", \"western\", \"western\", \"western\", \"western\", \"western\", \"white\", \"white\", \"white\", \"white\", \"white\", \"white\", \"white\", \"white\", \"white\", \"white\", \"widelyknown\", \"wikileaks\", \"wikileaks\", \"wikileaks\", \"wikileaks\", \"wikileaks\", \"wikileaks\", \"wikileaks\", \"wikileaks\", \"wikileaks\", \"wikileaks\", \"wilcox\", \"wilcox\", \"winnertakeall\", \"winnertakeall\", \"wire\", \"wire\", \"wire\", \"wire\", \"wire\", \"wire\", \"wire\", \"wire\", \"wire\", \"wire\", \"witting\", \"wittingly\", \"wittingly\", \"women\", \"women\", \"women\", \"women\", \"women\", \"women\", \"women\", \"women\", \"women\", \"women\", \"world\", \"world\", \"world\", \"world\", \"world\", \"world\", \"world\", \"world\", \"world\", \"world\", \"would\", \"would\", \"would\", \"would\", \"would\", \"would\", \"would\", \"would\", \"would\", \"would\", \"wrapup\", \"wtc\", \"wtc\", \"wto\", \"year\", \"year\", \"year\", \"year\", \"year\", \"year\", \"year\", \"year\", \"year\", \"year\", \"years\", \"years\", \"years\", \"years\", \"years\", \"years\", \"years\", \"years\", \"years\", \"years\", \"yemen\", \"yemen\", \"yemen\", \"yemen\", \"yemen\", \"yemen\", \"yemen\", \"yemen\", \"yemen\", \"yesterdays\", \"youngblood\", \"yugoslav\", \"zerohedge\", \"zi\"]}, \"R\": 30, \"lambda.step\": 0.01, \"plot.opts\": {\"xlab\": \"PC1\", \"ylab\": \"PC2\"}, \"topic.order\": [3, 2, 6, 8, 9, 7, 1, 5, 4, 10]};\n",
              "\n",
              "function LDAvis_load_lib(url, callback){\n",
              "  var s = document.createElement('script');\n",
              "  s.src = url;\n",
              "  s.async = true;\n",
              "  s.onreadystatechange = s.onload = callback;\n",
              "  s.onerror = function(){console.warn(\"failed to load library \" + url);};\n",
              "  document.getElementsByTagName(\"head\")[0].appendChild(s);\n",
              "}\n",
              "\n",
              "if(typeof(LDAvis) !== \"undefined\"){\n",
              "   // already loaded: just create the visualization\n",
              "   !function(LDAvis){\n",
              "       new LDAvis(\"#\" + \"ldavis_el581404524050012963825145899\", ldavis_el581404524050012963825145899_data);\n",
              "   }(LDAvis);\n",
              "}else if(typeof define === \"function\" && define.amd){\n",
              "   // require.js is available: use it to load d3/LDAvis\n",
              "   require.config({paths: {d3: \"https://d3js.org/d3.v5\"}});\n",
              "   require([\"d3\"], function(d3){\n",
              "      window.d3 = d3;\n",
              "      LDAvis_load_lib(\"https://cdn.jsdelivr.net/gh/bmabey/pyLDAvis@3.3.1/pyLDAvis/js/ldavis.v3.0.0.js\", function(){\n",
              "        new LDAvis(\"#\" + \"ldavis_el581404524050012963825145899\", ldavis_el581404524050012963825145899_data);\n",
              "      });\n",
              "    });\n",
              "}else{\n",
              "    // require.js not available: dynamically load d3 & LDAvis\n",
              "    LDAvis_load_lib(\"https://d3js.org/d3.v5.js\", function(){\n",
              "         LDAvis_load_lib(\"https://cdn.jsdelivr.net/gh/bmabey/pyLDAvis@3.3.1/pyLDAvis/js/ldavis.v3.0.0.js\", function(){\n",
              "                 new LDAvis(\"#\" + \"ldavis_el581404524050012963825145899\", ldavis_el581404524050012963825145899_data);\n",
              "            })\n",
              "         });\n",
              "}\n",
              "</script>"
            ],
            "text/plain": [
              "<IPython.core.display.HTML object>"
            ]
          },
          "metadata": {
            "tags": []
          },
          "execution_count": 37
        }
      ]
    },
    {
      "cell_type": "markdown",
      "metadata": {
        "id": "Dt2sikCYy9sd"
      },
      "source": [
        "### Sentiment Analysis"
      ]
    },
    {
      "cell_type": "code",
      "metadata": {
        "id": "qgFE3tS0zD2G",
        "trusted": true,
        "colab": {
          "base_uri": "https://localhost:8080/"
        },
        "outputId": "6d986b3f-fd9b-4ead-c5c3-e44682d49ef1"
      },
      "source": [
        "import nltk\n",
        "nltk.download('vader_lexicon')\n",
        "from nltk.sentiment.vader import SentimentIntensityAnalyzer\n",
        "\n",
        "sid = SentimentIntensityAnalyzer()"
      ],
      "execution_count": null,
      "outputs": [
        {
          "output_type": "stream",
          "text": [
            "[nltk_data] Downloading package vader_lexicon to /root/nltk_data...\n"
          ],
          "name": "stdout"
        },
        {
          "output_type": "stream",
          "text": [
            "/usr/local/lib/python3.7/dist-packages/nltk/twitter/__init__.py:20: UserWarning:\n",
            "\n",
            "The twython library has not been installed. Some functionality from the twitter package will not be available.\n",
            "\n"
          ],
          "name": "stderr"
        }
      ]
    },
    {
      "cell_type": "code",
      "metadata": {
        "id": "cR7XHiCBzHIJ",
        "trusted": true,
        "colab": {
          "base_uri": "https://localhost:8080/"
        },
        "outputId": "599fd4cc-005e-4ac6-df1e-37a601d65c21"
      },
      "source": [
        "sid.polarity_scores(combined['text'].head(1).iloc[0])"
      ],
      "execution_count": null,
      "outputs": [
        {
          "output_type": "execute_result",
          "data": {
            "text/plain": [
              "{'compound': 0.9584, 'neg': 0.222, 'neu': 0.499, 'pos': 0.279}"
            ]
          },
          "metadata": {
            "tags": []
          },
          "execution_count": 39
        }
      ]
    },
    {
      "cell_type": "code",
      "metadata": {
        "id": "MknP7Bte03VY",
        "trusted": true
      },
      "source": [
        "combined['text-score'] = combined['text'].apply(sid.polarity_scores)"
      ],
      "execution_count": null,
      "outputs": []
    },
    {
      "cell_type": "code",
      "metadata": {
        "id": "MPFDxMKf1PIQ",
        "trusted": true
      },
      "source": [
        "combined['text-score'] = combined['text-score'].apply(lambda x :  x['compound'])"
      ],
      "execution_count": null,
      "outputs": []
    },
    {
      "cell_type": "code",
      "metadata": {
        "id": "riMk3VyZ38pd",
        "trusted": true,
        "colab": {
          "base_uri": "https://localhost:8080/"
        },
        "outputId": "8f17a255-3fea-4df7-fb4f-1a2528cc085b"
      },
      "source": [
        "import matplotlib.pyplot as plt\n",
        "\n",
        "meanWorld = combined[(combined['subject'] == 'worldnews')]['text-score'].mean()\n",
        "meanPolitics = combined[(combined['subject'] == 'politics')]['text-score'].mean()\n",
        "x = ['fake', 'real']\n",
        "y = [meanWorld, meanPolitics]\n",
        "\n",
        "plt.title(\"Mean sentiment of each dataset\")\n",
        "plt.bar(x, y)\n",
        "plt.ylabel('some numbers')\n",
        "plt.show()"
      ],
      "execution_count": null,
      "outputs": [
        {
          "output_type": "display_data",
          "data": {
            "image/png": "[encoded data removed]",
            "text/plain": [
              "<Figure size 432x288 with 1 Axes>"
            ]
          },
          "metadata": {
            "tags": [],
            "needs_background": "light"
          }
        }
      ]
    },
    {
      "cell_type": "markdown",
      "metadata": {
        "id": "mZdGbGqd60e7"
      },
      "source": [
        "# Classification\n"
      ]
    },
    {
      "cell_type": "markdown",
      "metadata": {
        "id": "ETlJ0-VxdBI0"
      },
      "source": [
        "## Logistic Regression\n",
        "[Source](https://towardsdatascience.com/a-complete-sentiment-analysis-algorithm-in-python-with-amazon-product-review-data-step-by-step-2680d2e2c23b)"
      ]
    },
    {
      "cell_type": "markdown",
      "metadata": {
        "id": "StY-xoamb-t5"
      },
      "source": [
        "### Text"
      ]
    },
    {
      "cell_type": "code",
      "metadata": {
        "id": "WSaqRALM_tba",
        "trusted": true
      },
      "source": [
        "X = combined['text']\n",
        "y = combined['truth']\n",
        "\n",
        "# Split data \n",
        "from sklearn.model_selection import train_test_split\n",
        "X_train, X_test, y_train, y_test = train_test_split(X, y, random_state=0)\n",
        "\n",
        "# Use CountVectorizer to vectorize words in text\n",
        "from sklearn.feature_extraction.text import CountVectorizer\n",
        "cv = CountVectorizer()\n",
        "vecTrain = cv.fit_transform(X_train)\n",
        "vecTest = cv.transform(X_test)"
      ],
      "execution_count": null,
      "outputs": []
    },
    {
      "cell_type": "markdown",
      "metadata": {
        "id": "E1t3vTetCwXm"
      },
      "source": [
        "We can use Logistic Regression for our binary classification"
      ]
    },
    {
      "cell_type": "code",
      "metadata": {
        "id": "ieHiW9iKBNQW",
        "trusted": true,
        "colab": {
          "base_uri": "https://localhost:8080/"
        },
        "outputId": "64c3c8ca-e90d-4d8e-dab5-b4a45d21fa7a"
      },
      "source": [
        "from sklearn.linear_model import LogisticRegression\n",
        "from sklearn.metrics import accuracy_score\n",
        "model = LogisticRegression(max_iter=500)\n",
        "model.fit(vecTrain, y_train)"
      ],
      "execution_count": null,
      "outputs": [
        {
          "output_type": "stream",
          "text": [
            "/usr/local/lib/python3.7/dist-packages/scipy/optimize/lbfgsb.py:339: DeprecationWarning:\n",
            "\n",
            "tostring() is deprecated. Use tobytes() instead.\n",
            "\n",
            "/usr/local/lib/python3.7/dist-packages/scipy/optimize/lbfgsb.py:339: DeprecationWarning:\n",
            "\n",
            "tostring() is deprecated. Use tobytes() instead.\n",
            "\n",
            "/usr/local/lib/python3.7/dist-packages/scipy/optimize/lbfgsb.py:339: DeprecationWarning:\n",
            "\n",
            "tostring() is deprecated. Use tobytes() instead.\n",
            "\n",
            "/usr/local/lib/python3.7/dist-packages/scipy/optimize/lbfgsb.py:339: DeprecationWarning:\n",
            "\n",
            "tostring() is deprecated. Use tobytes() instead.\n",
            "\n",
            "/usr/local/lib/python3.7/dist-packages/scipy/optimize/lbfgsb.py:339: DeprecationWarning:\n",
            "\n",
            "tostring() is deprecated. Use tobytes() instead.\n",
            "\n",
            "/usr/local/lib/python3.7/dist-packages/scipy/optimize/lbfgsb.py:339: DeprecationWarning:\n",
            "\n",
            "tostring() is deprecated. Use tobytes() instead.\n",
            "\n",
            "/usr/local/lib/python3.7/dist-packages/scipy/optimize/lbfgsb.py:339: DeprecationWarning:\n",
            "\n",
            "tostring() is deprecated. Use tobytes() instead.\n",
            "\n",
            "/usr/local/lib/python3.7/dist-packages/scipy/optimize/lbfgsb.py:339: DeprecationWarning:\n",
            "\n",
            "tostring() is deprecated. Use tobytes() instead.\n",
            "\n",
            "/usr/local/lib/python3.7/dist-packages/scipy/optimize/lbfgsb.py:339: DeprecationWarning:\n",
            "\n",
            "tostring() is deprecated. Use tobytes() instead.\n",
            "\n",
            "/usr/local/lib/python3.7/dist-packages/scipy/optimize/lbfgsb.py:339: DeprecationWarning:\n",
            "\n",
            "tostring() is deprecated. Use tobytes() instead.\n",
            "\n",
            "/usr/local/lib/python3.7/dist-packages/scipy/optimize/lbfgsb.py:339: DeprecationWarning:\n",
            "\n",
            "tostring() is deprecated. Use tobytes() instead.\n",
            "\n",
            "/usr/local/lib/python3.7/dist-packages/scipy/optimize/lbfgsb.py:339: DeprecationWarning:\n",
            "\n",
            "tostring() is deprecated. Use tobytes() instead.\n",
            "\n",
            "/usr/local/lib/python3.7/dist-packages/scipy/optimize/lbfgsb.py:339: DeprecationWarning:\n",
            "\n",
            "tostring() is deprecated. Use tobytes() instead.\n",
            "\n",
            "/usr/local/lib/python3.7/dist-packages/scipy/optimize/lbfgsb.py:339: DeprecationWarning:\n",
            "\n",
            "tostring() is deprecated. Use tobytes() instead.\n",
            "\n",
            "/usr/local/lib/python3.7/dist-packages/scipy/optimize/lbfgsb.py:339: DeprecationWarning:\n",
            "\n",
            "tostring() is deprecated. Use tobytes() instead.\n",
            "\n",
            "/usr/local/lib/python3.7/dist-packages/scipy/optimize/lbfgsb.py:339: DeprecationWarning:\n",
            "\n",
            "tostring() is deprecated. Use tobytes() instead.\n",
            "\n",
            "/usr/local/lib/python3.7/dist-packages/scipy/optimize/lbfgsb.py:339: DeprecationWarning:\n",
            "\n",
            "tostring() is deprecated. Use tobytes() instead.\n",
            "\n",
            "/usr/local/lib/python3.7/dist-packages/scipy/optimize/lbfgsb.py:339: DeprecationWarning:\n",
            "\n",
            "tostring() is deprecated. Use tobytes() instead.\n",
            "\n",
            "/usr/local/lib/python3.7/dist-packages/scipy/optimize/lbfgsb.py:339: DeprecationWarning:\n",
            "\n",
            "tostring() is deprecated. Use tobytes() instead.\n",
            "\n",
            "/usr/local/lib/python3.7/dist-packages/scipy/optimize/lbfgsb.py:339: DeprecationWarning:\n",
            "\n",
            "tostring() is deprecated. Use tobytes() instead.\n",
            "\n",
            "/usr/local/lib/python3.7/dist-packages/scipy/optimize/lbfgsb.py:339: DeprecationWarning:\n",
            "\n",
            "tostring() is deprecated. Use tobytes() instead.\n",
            "\n",
            "/usr/local/lib/python3.7/dist-packages/scipy/optimize/lbfgsb.py:339: DeprecationWarning:\n",
            "\n",
            "tostring() is deprecated. Use tobytes() instead.\n",
            "\n",
            "/usr/local/lib/python3.7/dist-packages/scipy/optimize/lbfgsb.py:339: DeprecationWarning:\n",
            "\n",
            "tostring() is deprecated. Use tobytes() instead.\n",
            "\n",
            "/usr/local/lib/python3.7/dist-packages/scipy/optimize/lbfgsb.py:339: DeprecationWarning:\n",
            "\n",
            "tostring() is deprecated. Use tobytes() instead.\n",
            "\n",
            "/usr/local/lib/python3.7/dist-packages/scipy/optimize/lbfgsb.py:339: DeprecationWarning:\n",
            "\n",
            "tostring() is deprecated. Use tobytes() instead.\n",
            "\n",
            "/usr/local/lib/python3.7/dist-packages/scipy/optimize/lbfgsb.py:339: DeprecationWarning:\n",
            "\n",
            "tostring() is deprecated. Use tobytes() instead.\n",
            "\n",
            "/usr/local/lib/python3.7/dist-packages/scipy/optimize/lbfgsb.py:339: DeprecationWarning:\n",
            "\n",
            "tostring() is deprecated. Use tobytes() instead.\n",
            "\n",
            "/usr/local/lib/python3.7/dist-packages/scipy/optimize/lbfgsb.py:339: DeprecationWarning:\n",
            "\n",
            "tostring() is deprecated. Use tobytes() instead.\n",
            "\n",
            "/usr/local/lib/python3.7/dist-packages/scipy/optimize/lbfgsb.py:339: DeprecationWarning:\n",
            "\n",
            "tostring() is deprecated. Use tobytes() instead.\n",
            "\n",
            "/usr/local/lib/python3.7/dist-packages/scipy/optimize/lbfgsb.py:339: DeprecationWarning:\n",
            "\n",
            "tostring() is deprecated. Use tobytes() instead.\n",
            "\n",
            "/usr/local/lib/python3.7/dist-packages/scipy/optimize/lbfgsb.py:339: DeprecationWarning:\n",
            "\n",
            "tostring() is deprecated. Use tobytes() instead.\n",
            "\n",
            "/usr/local/lib/python3.7/dist-packages/scipy/optimize/lbfgsb.py:339: DeprecationWarning:\n",
            "\n",
            "tostring() is deprecated. Use tobytes() instead.\n",
            "\n",
            "/usr/local/lib/python3.7/dist-packages/scipy/optimize/lbfgsb.py:339: DeprecationWarning:\n",
            "\n",
            "tostring() is deprecated. Use tobytes() instead.\n",
            "\n",
            "/usr/local/lib/python3.7/dist-packages/scipy/optimize/lbfgsb.py:339: DeprecationWarning:\n",
            "\n",
            "tostring() is deprecated. Use tobytes() instead.\n",
            "\n",
            "/usr/local/lib/python3.7/dist-packages/scipy/optimize/lbfgsb.py:339: DeprecationWarning:\n",
            "\n",
            "tostring() is deprecated. Use tobytes() instead.\n",
            "\n",
            "/usr/local/lib/python3.7/dist-packages/scipy/optimize/lbfgsb.py:339: DeprecationWarning:\n",
            "\n",
            "tostring() is deprecated. Use tobytes() instead.\n",
            "\n",
            "/usr/local/lib/python3.7/dist-packages/scipy/optimize/lbfgsb.py:339: DeprecationWarning:\n",
            "\n",
            "tostring() is deprecated. Use tobytes() instead.\n",
            "\n",
            "/usr/local/lib/python3.7/dist-packages/scipy/optimize/lbfgsb.py:339: DeprecationWarning:\n",
            "\n",
            "tostring() is deprecated. Use tobytes() instead.\n",
            "\n",
            "/usr/local/lib/python3.7/dist-packages/scipy/optimize/lbfgsb.py:339: DeprecationWarning:\n",
            "\n",
            "tostring() is deprecated. Use tobytes() instead.\n",
            "\n",
            "/usr/local/lib/python3.7/dist-packages/scipy/optimize/lbfgsb.py:339: DeprecationWarning:\n",
            "\n",
            "tostring() is deprecated. Use tobytes() instead.\n",
            "\n",
            "/usr/local/lib/python3.7/dist-packages/scipy/optimize/lbfgsb.py:339: DeprecationWarning:\n",
            "\n",
            "tostring() is deprecated. Use tobytes() instead.\n",
            "\n",
            "/usr/local/lib/python3.7/dist-packages/scipy/optimize/lbfgsb.py:339: DeprecationWarning:\n",
            "\n",
            "tostring() is deprecated. Use tobytes() instead.\n",
            "\n",
            "/usr/local/lib/python3.7/dist-packages/scipy/optimize/lbfgsb.py:339: DeprecationWarning:\n",
            "\n",
            "tostring() is deprecated. Use tobytes() instead.\n",
            "\n",
            "/usr/local/lib/python3.7/dist-packages/scipy/optimize/lbfgsb.py:339: DeprecationWarning:\n",
            "\n",
            "tostring() is deprecated. Use tobytes() instead.\n",
            "\n",
            "/usr/local/lib/python3.7/dist-packages/scipy/optimize/lbfgsb.py:339: DeprecationWarning:\n",
            "\n",
            "tostring() is deprecated. Use tobytes() instead.\n",
            "\n",
            "/usr/local/lib/python3.7/dist-packages/scipy/optimize/lbfgsb.py:339: DeprecationWarning:\n",
            "\n",
            "tostring() is deprecated. Use tobytes() instead.\n",
            "\n",
            "/usr/local/lib/python3.7/dist-packages/scipy/optimize/lbfgsb.py:339: DeprecationWarning:\n",
            "\n",
            "tostring() is deprecated. Use tobytes() instead.\n",
            "\n",
            "/usr/local/lib/python3.7/dist-packages/scipy/optimize/lbfgsb.py:339: DeprecationWarning:\n",
            "\n",
            "tostring() is deprecated. Use tobytes() instead.\n",
            "\n",
            "/usr/local/lib/python3.7/dist-packages/scipy/optimize/lbfgsb.py:339: DeprecationWarning:\n",
            "\n",
            "tostring() is deprecated. Use tobytes() instead.\n",
            "\n",
            "/usr/local/lib/python3.7/dist-packages/scipy/optimize/lbfgsb.py:339: DeprecationWarning:\n",
            "\n",
            "tostring() is deprecated. Use tobytes() instead.\n",
            "\n",
            "/usr/local/lib/python3.7/dist-packages/scipy/optimize/lbfgsb.py:339: DeprecationWarning:\n",
            "\n",
            "tostring() is deprecated. Use tobytes() instead.\n",
            "\n",
            "/usr/local/lib/python3.7/dist-packages/scipy/optimize/lbfgsb.py:339: DeprecationWarning:\n",
            "\n",
            "tostring() is deprecated. Use tobytes() instead.\n",
            "\n",
            "/usr/local/lib/python3.7/dist-packages/scipy/optimize/lbfgsb.py:339: DeprecationWarning:\n",
            "\n",
            "tostring() is deprecated. Use tobytes() instead.\n",
            "\n",
            "/usr/local/lib/python3.7/dist-packages/scipy/optimize/lbfgsb.py:339: DeprecationWarning:\n",
            "\n",
            "tostring() is deprecated. Use tobytes() instead.\n",
            "\n",
            "/usr/local/lib/python3.7/dist-packages/scipy/optimize/lbfgsb.py:339: DeprecationWarning:\n",
            "\n",
            "tostring() is deprecated. Use tobytes() instead.\n",
            "\n",
            "/usr/local/lib/python3.7/dist-packages/scipy/optimize/lbfgsb.py:339: DeprecationWarning:\n",
            "\n",
            "tostring() is deprecated. Use tobytes() instead.\n",
            "\n",
            "/usr/local/lib/python3.7/dist-packages/scipy/optimize/lbfgsb.py:339: DeprecationWarning:\n",
            "\n",
            "tostring() is deprecated. Use tobytes() instead.\n",
            "\n",
            "/usr/local/lib/python3.7/dist-packages/scipy/optimize/lbfgsb.py:339: DeprecationWarning:\n",
            "\n",
            "tostring() is deprecated. Use tobytes() instead.\n",
            "\n",
            "/usr/local/lib/python3.7/dist-packages/scipy/optimize/lbfgsb.py:339: DeprecationWarning:\n",
            "\n",
            "tostring() is deprecated. Use tobytes() instead.\n",
            "\n",
            "/usr/local/lib/python3.7/dist-packages/scipy/optimize/lbfgsb.py:339: DeprecationWarning:\n",
            "\n",
            "tostring() is deprecated. Use tobytes() instead.\n",
            "\n",
            "/usr/local/lib/python3.7/dist-packages/scipy/optimize/lbfgsb.py:339: DeprecationWarning:\n",
            "\n",
            "tostring() is deprecated. Use tobytes() instead.\n",
            "\n",
            "/usr/local/lib/python3.7/dist-packages/scipy/optimize/lbfgsb.py:339: DeprecationWarning:\n",
            "\n",
            "tostring() is deprecated. Use tobytes() instead.\n",
            "\n",
            "/usr/local/lib/python3.7/dist-packages/scipy/optimize/lbfgsb.py:339: DeprecationWarning:\n",
            "\n",
            "tostring() is deprecated. Use tobytes() instead.\n",
            "\n",
            "/usr/local/lib/python3.7/dist-packages/scipy/optimize/lbfgsb.py:339: DeprecationWarning:\n",
            "\n",
            "tostring() is deprecated. Use tobytes() instead.\n",
            "\n",
            "/usr/local/lib/python3.7/dist-packages/scipy/optimize/lbfgsb.py:339: DeprecationWarning:\n",
            "\n",
            "tostring() is deprecated. Use tobytes() instead.\n",
            "\n",
            "/usr/local/lib/python3.7/dist-packages/scipy/optimize/lbfgsb.py:339: DeprecationWarning:\n",
            "\n",
            "tostring() is deprecated. Use tobytes() instead.\n",
            "\n",
            "/usr/local/lib/python3.7/dist-packages/scipy/optimize/lbfgsb.py:339: DeprecationWarning:\n",
            "\n",
            "tostring() is deprecated. Use tobytes() instead.\n",
            "\n",
            "/usr/local/lib/python3.7/dist-packages/scipy/optimize/lbfgsb.py:339: DeprecationWarning:\n",
            "\n",
            "tostring() is deprecated. Use tobytes() instead.\n",
            "\n",
            "/usr/local/lib/python3.7/dist-packages/scipy/optimize/lbfgsb.py:339: DeprecationWarning:\n",
            "\n",
            "tostring() is deprecated. Use tobytes() instead.\n",
            "\n",
            "/usr/local/lib/python3.7/dist-packages/scipy/optimize/lbfgsb.py:339: DeprecationWarning:\n",
            "\n",
            "tostring() is deprecated. Use tobytes() instead.\n",
            "\n",
            "/usr/local/lib/python3.7/dist-packages/scipy/optimize/lbfgsb.py:339: DeprecationWarning:\n",
            "\n",
            "tostring() is deprecated. Use tobytes() instead.\n",
            "\n",
            "/usr/local/lib/python3.7/dist-packages/scipy/optimize/lbfgsb.py:339: DeprecationWarning:\n",
            "\n",
            "tostring() is deprecated. Use tobytes() instead.\n",
            "\n",
            "/usr/local/lib/python3.7/dist-packages/scipy/optimize/lbfgsb.py:339: DeprecationWarning:\n",
            "\n",
            "tostring() is deprecated. Use tobytes() instead.\n",
            "\n",
            "/usr/local/lib/python3.7/dist-packages/scipy/optimize/lbfgsb.py:339: DeprecationWarning:\n",
            "\n",
            "tostring() is deprecated. Use tobytes() instead.\n",
            "\n",
            "/usr/local/lib/python3.7/dist-packages/scipy/optimize/lbfgsb.py:339: DeprecationWarning:\n",
            "\n",
            "tostring() is deprecated. Use tobytes() instead.\n",
            "\n",
            "/usr/local/lib/python3.7/dist-packages/scipy/optimize/lbfgsb.py:339: DeprecationWarning:\n",
            "\n",
            "tostring() is deprecated. Use tobytes() instead.\n",
            "\n",
            "/usr/local/lib/python3.7/dist-packages/scipy/optimize/lbfgsb.py:339: DeprecationWarning:\n",
            "\n",
            "tostring() is deprecated. Use tobytes() instead.\n",
            "\n",
            "/usr/local/lib/python3.7/dist-packages/scipy/optimize/lbfgsb.py:339: DeprecationWarning:\n",
            "\n",
            "tostring() is deprecated. Use tobytes() instead.\n",
            "\n",
            "/usr/local/lib/python3.7/dist-packages/scipy/optimize/lbfgsb.py:339: DeprecationWarning:\n",
            "\n",
            "tostring() is deprecated. Use tobytes() instead.\n",
            "\n",
            "/usr/local/lib/python3.7/dist-packages/scipy/optimize/lbfgsb.py:339: DeprecationWarning:\n",
            "\n",
            "tostring() is deprecated. Use tobytes() instead.\n",
            "\n",
            "/usr/local/lib/python3.7/dist-packages/scipy/optimize/lbfgsb.py:339: DeprecationWarning:\n",
            "\n",
            "tostring() is deprecated. Use tobytes() instead.\n",
            "\n",
            "/usr/local/lib/python3.7/dist-packages/scipy/optimize/lbfgsb.py:339: DeprecationWarning:\n",
            "\n",
            "tostring() is deprecated. Use tobytes() instead.\n",
            "\n",
            "/usr/local/lib/python3.7/dist-packages/scipy/optimize/lbfgsb.py:339: DeprecationWarning:\n",
            "\n",
            "tostring() is deprecated. Use tobytes() instead.\n",
            "\n",
            "/usr/local/lib/python3.7/dist-packages/scipy/optimize/lbfgsb.py:339: DeprecationWarning:\n",
            "\n",
            "tostring() is deprecated. Use tobytes() instead.\n",
            "\n",
            "/usr/local/lib/python3.7/dist-packages/scipy/optimize/lbfgsb.py:339: DeprecationWarning:\n",
            "\n",
            "tostring() is deprecated. Use tobytes() instead.\n",
            "\n",
            "/usr/local/lib/python3.7/dist-packages/scipy/optimize/lbfgsb.py:339: DeprecationWarning:\n",
            "\n",
            "tostring() is deprecated. Use tobytes() instead.\n",
            "\n",
            "/usr/local/lib/python3.7/dist-packages/scipy/optimize/lbfgsb.py:339: DeprecationWarning:\n",
            "\n",
            "tostring() is deprecated. Use tobytes() instead.\n",
            "\n",
            "/usr/local/lib/python3.7/dist-packages/scipy/optimize/lbfgsb.py:339: DeprecationWarning:\n",
            "\n",
            "tostring() is deprecated. Use tobytes() instead.\n",
            "\n",
            "/usr/local/lib/python3.7/dist-packages/scipy/optimize/lbfgsb.py:339: DeprecationWarning:\n",
            "\n",
            "tostring() is deprecated. Use tobytes() instead.\n",
            "\n",
            "/usr/local/lib/python3.7/dist-packages/scipy/optimize/lbfgsb.py:339: DeprecationWarning:\n",
            "\n",
            "tostring() is deprecated. Use tobytes() instead.\n",
            "\n",
            "/usr/local/lib/python3.7/dist-packages/scipy/optimize/lbfgsb.py:339: DeprecationWarning:\n",
            "\n",
            "tostring() is deprecated. Use tobytes() instead.\n",
            "\n",
            "/usr/local/lib/python3.7/dist-packages/scipy/optimize/lbfgsb.py:339: DeprecationWarning:\n",
            "\n",
            "tostring() is deprecated. Use tobytes() instead.\n",
            "\n",
            "/usr/local/lib/python3.7/dist-packages/scipy/optimize/lbfgsb.py:339: DeprecationWarning:\n",
            "\n",
            "tostring() is deprecated. Use tobytes() instead.\n",
            "\n",
            "/usr/local/lib/python3.7/dist-packages/scipy/optimize/lbfgsb.py:339: DeprecationWarning:\n",
            "\n",
            "tostring() is deprecated. Use tobytes() instead.\n",
            "\n",
            "/usr/local/lib/python3.7/dist-packages/scipy/optimize/lbfgsb.py:339: DeprecationWarning:\n",
            "\n",
            "tostring() is deprecated. Use tobytes() instead.\n",
            "\n",
            "/usr/local/lib/python3.7/dist-packages/scipy/optimize/lbfgsb.py:339: DeprecationWarning:\n",
            "\n",
            "tostring() is deprecated. Use tobytes() instead.\n",
            "\n",
            "/usr/local/lib/python3.7/dist-packages/scipy/optimize/lbfgsb.py:339: DeprecationWarning:\n",
            "\n",
            "tostring() is deprecated. Use tobytes() instead.\n",
            "\n",
            "/usr/local/lib/python3.7/dist-packages/scipy/optimize/lbfgsb.py:339: DeprecationWarning:\n",
            "\n",
            "tostring() is deprecated. Use tobytes() instead.\n",
            "\n",
            "/usr/local/lib/python3.7/dist-packages/scipy/optimize/lbfgsb.py:339: DeprecationWarning:\n",
            "\n",
            "tostring() is deprecated. Use tobytes() instead.\n",
            "\n",
            "/usr/local/lib/python3.7/dist-packages/scipy/optimize/lbfgsb.py:339: DeprecationWarning:\n",
            "\n",
            "tostring() is deprecated. Use tobytes() instead.\n",
            "\n",
            "/usr/local/lib/python3.7/dist-packages/scipy/optimize/lbfgsb.py:339: DeprecationWarning:\n",
            "\n",
            "tostring() is deprecated. Use tobytes() instead.\n",
            "\n",
            "/usr/local/lib/python3.7/dist-packages/scipy/optimize/lbfgsb.py:339: DeprecationWarning:\n",
            "\n",
            "tostring() is deprecated. Use tobytes() instead.\n",
            "\n",
            "/usr/local/lib/python3.7/dist-packages/scipy/optimize/lbfgsb.py:339: DeprecationWarning:\n",
            "\n",
            "tostring() is deprecated. Use tobytes() instead.\n",
            "\n",
            "/usr/local/lib/python3.7/dist-packages/scipy/optimize/lbfgsb.py:339: DeprecationWarning:\n",
            "\n",
            "tostring() is deprecated. Use tobytes() instead.\n",
            "\n",
            "/usr/local/lib/python3.7/dist-packages/scipy/optimize/lbfgsb.py:339: DeprecationWarning:\n",
            "\n",
            "tostring() is deprecated. Use tobytes() instead.\n",
            "\n",
            "/usr/local/lib/python3.7/dist-packages/scipy/optimize/lbfgsb.py:339: DeprecationWarning:\n",
            "\n",
            "tostring() is deprecated. Use tobytes() instead.\n",
            "\n",
            "/usr/local/lib/python3.7/dist-packages/scipy/optimize/lbfgsb.py:339: DeprecationWarning:\n",
            "\n",
            "tostring() is deprecated. Use tobytes() instead.\n",
            "\n",
            "/usr/local/lib/python3.7/dist-packages/scipy/optimize/lbfgsb.py:339: DeprecationWarning:\n",
            "\n",
            "tostring() is deprecated. Use tobytes() instead.\n",
            "\n",
            "/usr/local/lib/python3.7/dist-packages/scipy/optimize/lbfgsb.py:339: DeprecationWarning:\n",
            "\n",
            "tostring() is deprecated. Use tobytes() instead.\n",
            "\n",
            "/usr/local/lib/python3.7/dist-packages/scipy/optimize/lbfgsb.py:339: DeprecationWarning:\n",
            "\n",
            "tostring() is deprecated. Use tobytes() instead.\n",
            "\n",
            "/usr/local/lib/python3.7/dist-packages/scipy/optimize/lbfgsb.py:339: DeprecationWarning:\n",
            "\n",
            "tostring() is deprecated. Use tobytes() instead.\n",
            "\n",
            "/usr/local/lib/python3.7/dist-packages/scipy/optimize/lbfgsb.py:339: DeprecationWarning:\n",
            "\n",
            "tostring() is deprecated. Use tobytes() instead.\n",
            "\n",
            "/usr/local/lib/python3.7/dist-packages/scipy/optimize/lbfgsb.py:339: DeprecationWarning:\n",
            "\n",
            "tostring() is deprecated. Use tobytes() instead.\n",
            "\n",
            "/usr/local/lib/python3.7/dist-packages/scipy/optimize/lbfgsb.py:339: DeprecationWarning:\n",
            "\n",
            "tostring() is deprecated. Use tobytes() instead.\n",
            "\n",
            "/usr/local/lib/python3.7/dist-packages/scipy/optimize/lbfgsb.py:339: DeprecationWarning:\n",
            "\n",
            "tostring() is deprecated. Use tobytes() instead.\n",
            "\n",
            "/usr/local/lib/python3.7/dist-packages/scipy/optimize/lbfgsb.py:339: DeprecationWarning:\n",
            "\n",
            "tostring() is deprecated. Use tobytes() instead.\n",
            "\n",
            "/usr/local/lib/python3.7/dist-packages/scipy/optimize/lbfgsb.py:339: DeprecationWarning:\n",
            "\n",
            "tostring() is deprecated. Use tobytes() instead.\n",
            "\n",
            "/usr/local/lib/python3.7/dist-packages/scipy/optimize/lbfgsb.py:339: DeprecationWarning:\n",
            "\n",
            "tostring() is deprecated. Use tobytes() instead.\n",
            "\n",
            "/usr/local/lib/python3.7/dist-packages/scipy/optimize/lbfgsb.py:339: DeprecationWarning:\n",
            "\n",
            "tostring() is deprecated. Use tobytes() instead.\n",
            "\n",
            "/usr/local/lib/python3.7/dist-packages/scipy/optimize/lbfgsb.py:339: DeprecationWarning:\n",
            "\n",
            "tostring() is deprecated. Use tobytes() instead.\n",
            "\n",
            "/usr/local/lib/python3.7/dist-packages/scipy/optimize/lbfgsb.py:339: DeprecationWarning:\n",
            "\n",
            "tostring() is deprecated. Use tobytes() instead.\n",
            "\n",
            "/usr/local/lib/python3.7/dist-packages/scipy/optimize/lbfgsb.py:339: DeprecationWarning:\n",
            "\n",
            "tostring() is deprecated. Use tobytes() instead.\n",
            "\n",
            "/usr/local/lib/python3.7/dist-packages/scipy/optimize/lbfgsb.py:339: DeprecationWarning:\n",
            "\n",
            "tostring() is deprecated. Use tobytes() instead.\n",
            "\n",
            "/usr/local/lib/python3.7/dist-packages/scipy/optimize/lbfgsb.py:339: DeprecationWarning:\n",
            "\n",
            "tostring() is deprecated. Use tobytes() instead.\n",
            "\n",
            "/usr/local/lib/python3.7/dist-packages/scipy/optimize/lbfgsb.py:339: DeprecationWarning:\n",
            "\n",
            "tostring() is deprecated. Use tobytes() instead.\n",
            "\n",
            "/usr/local/lib/python3.7/dist-packages/scipy/optimize/lbfgsb.py:339: DeprecationWarning:\n",
            "\n",
            "tostring() is deprecated. Use tobytes() instead.\n",
            "\n",
            "/usr/local/lib/python3.7/dist-packages/scipy/optimize/lbfgsb.py:339: DeprecationWarning:\n",
            "\n",
            "tostring() is deprecated. Use tobytes() instead.\n",
            "\n",
            "/usr/local/lib/python3.7/dist-packages/scipy/optimize/lbfgsb.py:339: DeprecationWarning:\n",
            "\n",
            "tostring() is deprecated. Use tobytes() instead.\n",
            "\n",
            "/usr/local/lib/python3.7/dist-packages/scipy/optimize/lbfgsb.py:339: DeprecationWarning:\n",
            "\n",
            "tostring() is deprecated. Use tobytes() instead.\n",
            "\n",
            "/usr/local/lib/python3.7/dist-packages/scipy/optimize/lbfgsb.py:339: DeprecationWarning:\n",
            "\n",
            "tostring() is deprecated. Use tobytes() instead.\n",
            "\n",
            "/usr/local/lib/python3.7/dist-packages/scipy/optimize/lbfgsb.py:339: DeprecationWarning:\n",
            "\n",
            "tostring() is deprecated. Use tobytes() instead.\n",
            "\n",
            "/usr/local/lib/python3.7/dist-packages/scipy/optimize/lbfgsb.py:339: DeprecationWarning:\n",
            "\n",
            "tostring() is deprecated. Use tobytes() instead.\n",
            "\n",
            "/usr/local/lib/python3.7/dist-packages/scipy/optimize/lbfgsb.py:339: DeprecationWarning:\n",
            "\n",
            "tostring() is deprecated. Use tobytes() instead.\n",
            "\n",
            "/usr/local/lib/python3.7/dist-packages/scipy/optimize/lbfgsb.py:339: DeprecationWarning:\n",
            "\n",
            "tostring() is deprecated. Use tobytes() instead.\n",
            "\n",
            "/usr/local/lib/python3.7/dist-packages/scipy/optimize/lbfgsb.py:339: DeprecationWarning:\n",
            "\n",
            "tostring() is deprecated. Use tobytes() instead.\n",
            "\n",
            "/usr/local/lib/python3.7/dist-packages/scipy/optimize/lbfgsb.py:339: DeprecationWarning:\n",
            "\n",
            "tostring() is deprecated. Use tobytes() instead.\n",
            "\n",
            "/usr/local/lib/python3.7/dist-packages/scipy/optimize/lbfgsb.py:339: DeprecationWarning:\n",
            "\n",
            "tostring() is deprecated. Use tobytes() instead.\n",
            "\n",
            "/usr/local/lib/python3.7/dist-packages/scipy/optimize/lbfgsb.py:339: DeprecationWarning:\n",
            "\n",
            "tostring() is deprecated. Use tobytes() instead.\n",
            "\n",
            "/usr/local/lib/python3.7/dist-packages/scipy/optimize/lbfgsb.py:339: DeprecationWarning:\n",
            "\n",
            "tostring() is deprecated. Use tobytes() instead.\n",
            "\n",
            "/usr/local/lib/python3.7/dist-packages/scipy/optimize/lbfgsb.py:339: DeprecationWarning:\n",
            "\n",
            "tostring() is deprecated. Use tobytes() instead.\n",
            "\n",
            "/usr/local/lib/python3.7/dist-packages/scipy/optimize/lbfgsb.py:339: DeprecationWarning:\n",
            "\n",
            "tostring() is deprecated. Use tobytes() instead.\n",
            "\n",
            "/usr/local/lib/python3.7/dist-packages/scipy/optimize/lbfgsb.py:339: DeprecationWarning:\n",
            "\n",
            "tostring() is deprecated. Use tobytes() instead.\n",
            "\n",
            "/usr/local/lib/python3.7/dist-packages/scipy/optimize/lbfgsb.py:339: DeprecationWarning:\n",
            "\n",
            "tostring() is deprecated. Use tobytes() instead.\n",
            "\n",
            "/usr/local/lib/python3.7/dist-packages/scipy/optimize/lbfgsb.py:339: DeprecationWarning:\n",
            "\n",
            "tostring() is deprecated. Use tobytes() instead.\n",
            "\n",
            "/usr/local/lib/python3.7/dist-packages/scipy/optimize/lbfgsb.py:339: DeprecationWarning:\n",
            "\n",
            "tostring() is deprecated. Use tobytes() instead.\n",
            "\n",
            "/usr/local/lib/python3.7/dist-packages/scipy/optimize/lbfgsb.py:339: DeprecationWarning:\n",
            "\n",
            "tostring() is deprecated. Use tobytes() instead.\n",
            "\n",
            "/usr/local/lib/python3.7/dist-packages/scipy/optimize/lbfgsb.py:339: DeprecationWarning:\n",
            "\n",
            "tostring() is deprecated. Use tobytes() instead.\n",
            "\n",
            "/usr/local/lib/python3.7/dist-packages/scipy/optimize/lbfgsb.py:339: DeprecationWarning:\n",
            "\n",
            "tostring() is deprecated. Use tobytes() instead.\n",
            "\n",
            "/usr/local/lib/python3.7/dist-packages/scipy/optimize/lbfgsb.py:339: DeprecationWarning:\n",
            "\n",
            "tostring() is deprecated. Use tobytes() instead.\n",
            "\n",
            "/usr/local/lib/python3.7/dist-packages/scipy/optimize/lbfgsb.py:339: DeprecationWarning:\n",
            "\n",
            "tostring() is deprecated. Use tobytes() instead.\n",
            "\n",
            "/usr/local/lib/python3.7/dist-packages/scipy/optimize/lbfgsb.py:339: DeprecationWarning:\n",
            "\n",
            "tostring() is deprecated. Use tobytes() instead.\n",
            "\n",
            "/usr/local/lib/python3.7/dist-packages/scipy/optimize/lbfgsb.py:339: DeprecationWarning:\n",
            "\n",
            "tostring() is deprecated. Use tobytes() instead.\n",
            "\n",
            "/usr/local/lib/python3.7/dist-packages/scipy/optimize/lbfgsb.py:339: DeprecationWarning:\n",
            "\n",
            "tostring() is deprecated. Use tobytes() instead.\n",
            "\n",
            "/usr/local/lib/python3.7/dist-packages/scipy/optimize/lbfgsb.py:339: DeprecationWarning:\n",
            "\n",
            "tostring() is deprecated. Use tobytes() instead.\n",
            "\n",
            "/usr/local/lib/python3.7/dist-packages/scipy/optimize/lbfgsb.py:339: DeprecationWarning:\n",
            "\n",
            "tostring() is deprecated. Use tobytes() instead.\n",
            "\n",
            "/usr/local/lib/python3.7/dist-packages/scipy/optimize/lbfgsb.py:339: DeprecationWarning:\n",
            "\n",
            "tostring() is deprecated. Use tobytes() instead.\n",
            "\n",
            "/usr/local/lib/python3.7/dist-packages/scipy/optimize/lbfgsb.py:339: DeprecationWarning:\n",
            "\n",
            "tostring() is deprecated. Use tobytes() instead.\n",
            "\n",
            "/usr/local/lib/python3.7/dist-packages/scipy/optimize/lbfgsb.py:339: DeprecationWarning:\n",
            "\n",
            "tostring() is deprecated. Use tobytes() instead.\n",
            "\n",
            "/usr/local/lib/python3.7/dist-packages/scipy/optimize/lbfgsb.py:339: DeprecationWarning:\n",
            "\n",
            "tostring() is deprecated. Use tobytes() instead.\n",
            "\n",
            "/usr/local/lib/python3.7/dist-packages/scipy/optimize/lbfgsb.py:339: DeprecationWarning:\n",
            "\n",
            "tostring() is deprecated. Use tobytes() instead.\n",
            "\n",
            "/usr/local/lib/python3.7/dist-packages/scipy/optimize/lbfgsb.py:339: DeprecationWarning:\n",
            "\n",
            "tostring() is deprecated. Use tobytes() instead.\n",
            "\n",
            "/usr/local/lib/python3.7/dist-packages/scipy/optimize/lbfgsb.py:339: DeprecationWarning:\n",
            "\n",
            "tostring() is deprecated. Use tobytes() instead.\n",
            "\n",
            "/usr/local/lib/python3.7/dist-packages/scipy/optimize/lbfgsb.py:339: DeprecationWarning:\n",
            "\n",
            "tostring() is deprecated. Use tobytes() instead.\n",
            "\n",
            "/usr/local/lib/python3.7/dist-packages/scipy/optimize/lbfgsb.py:339: DeprecationWarning:\n",
            "\n",
            "tostring() is deprecated. Use tobytes() instead.\n",
            "\n",
            "/usr/local/lib/python3.7/dist-packages/scipy/optimize/lbfgsb.py:339: DeprecationWarning:\n",
            "\n",
            "tostring() is deprecated. Use tobytes() instead.\n",
            "\n",
            "/usr/local/lib/python3.7/dist-packages/scipy/optimize/lbfgsb.py:339: DeprecationWarning:\n",
            "\n",
            "tostring() is deprecated. Use tobytes() instead.\n",
            "\n",
            "/usr/local/lib/python3.7/dist-packages/scipy/optimize/lbfgsb.py:339: DeprecationWarning:\n",
            "\n",
            "tostring() is deprecated. Use tobytes() instead.\n",
            "\n",
            "/usr/local/lib/python3.7/dist-packages/scipy/optimize/lbfgsb.py:339: DeprecationWarning:\n",
            "\n",
            "tostring() is deprecated. Use tobytes() instead.\n",
            "\n",
            "/usr/local/lib/python3.7/dist-packages/scipy/optimize/lbfgsb.py:339: DeprecationWarning:\n",
            "\n",
            "tostring() is deprecated. Use tobytes() instead.\n",
            "\n",
            "/usr/local/lib/python3.7/dist-packages/scipy/optimize/lbfgsb.py:339: DeprecationWarning:\n",
            "\n",
            "tostring() is deprecated. Use tobytes() instead.\n",
            "\n",
            "/usr/local/lib/python3.7/dist-packages/scipy/optimize/lbfgsb.py:339: DeprecationWarning:\n",
            "\n",
            "tostring() is deprecated. Use tobytes() instead.\n",
            "\n",
            "/usr/local/lib/python3.7/dist-packages/scipy/optimize/lbfgsb.py:339: DeprecationWarning:\n",
            "\n",
            "tostring() is deprecated. Use tobytes() instead.\n",
            "\n",
            "/usr/local/lib/python3.7/dist-packages/scipy/optimize/lbfgsb.py:339: DeprecationWarning:\n",
            "\n",
            "tostring() is deprecated. Use tobytes() instead.\n",
            "\n",
            "/usr/local/lib/python3.7/dist-packages/scipy/optimize/lbfgsb.py:339: DeprecationWarning:\n",
            "\n",
            "tostring() is deprecated. Use tobytes() instead.\n",
            "\n",
            "/usr/local/lib/python3.7/dist-packages/scipy/optimize/lbfgsb.py:339: DeprecationWarning:\n",
            "\n",
            "tostring() is deprecated. Use tobytes() instead.\n",
            "\n",
            "/usr/local/lib/python3.7/dist-packages/scipy/optimize/lbfgsb.py:339: DeprecationWarning:\n",
            "\n",
            "tostring() is deprecated. Use tobytes() instead.\n",
            "\n",
            "/usr/local/lib/python3.7/dist-packages/scipy/optimize/lbfgsb.py:339: DeprecationWarning:\n",
            "\n",
            "tostring() is deprecated. Use tobytes() instead.\n",
            "\n",
            "/usr/local/lib/python3.7/dist-packages/scipy/optimize/lbfgsb.py:339: DeprecationWarning:\n",
            "\n",
            "tostring() is deprecated. Use tobytes() instead.\n",
            "\n",
            "/usr/local/lib/python3.7/dist-packages/scipy/optimize/lbfgsb.py:339: DeprecationWarning:\n",
            "\n",
            "tostring() is deprecated. Use tobytes() instead.\n",
            "\n",
            "/usr/local/lib/python3.7/dist-packages/scipy/optimize/lbfgsb.py:339: DeprecationWarning:\n",
            "\n",
            "tostring() is deprecated. Use tobytes() instead.\n",
            "\n",
            "/usr/local/lib/python3.7/dist-packages/scipy/optimize/lbfgsb.py:339: DeprecationWarning:\n",
            "\n",
            "tostring() is deprecated. Use tobytes() instead.\n",
            "\n",
            "/usr/local/lib/python3.7/dist-packages/scipy/optimize/lbfgsb.py:339: DeprecationWarning:\n",
            "\n",
            "tostring() is deprecated. Use tobytes() instead.\n",
            "\n",
            "/usr/local/lib/python3.7/dist-packages/scipy/optimize/lbfgsb.py:339: DeprecationWarning:\n",
            "\n",
            "tostring() is deprecated. Use tobytes() instead.\n",
            "\n",
            "/usr/local/lib/python3.7/dist-packages/scipy/optimize/lbfgsb.py:339: DeprecationWarning:\n",
            "\n",
            "tostring() is deprecated. Use tobytes() instead.\n",
            "\n",
            "/usr/local/lib/python3.7/dist-packages/scipy/optimize/lbfgsb.py:339: DeprecationWarning:\n",
            "\n",
            "tostring() is deprecated. Use tobytes() instead.\n",
            "\n",
            "/usr/local/lib/python3.7/dist-packages/scipy/optimize/lbfgsb.py:339: DeprecationWarning:\n",
            "\n",
            "tostring() is deprecated. Use tobytes() instead.\n",
            "\n",
            "/usr/local/lib/python3.7/dist-packages/scipy/optimize/lbfgsb.py:339: DeprecationWarning:\n",
            "\n",
            "tostring() is deprecated. Use tobytes() instead.\n",
            "\n",
            "/usr/local/lib/python3.7/dist-packages/scipy/optimize/lbfgsb.py:339: DeprecationWarning:\n",
            "\n",
            "tostring() is deprecated. Use tobytes() instead.\n",
            "\n",
            "/usr/local/lib/python3.7/dist-packages/scipy/optimize/lbfgsb.py:339: DeprecationWarning:\n",
            "\n",
            "tostring() is deprecated. Use tobytes() instead.\n",
            "\n",
            "/usr/local/lib/python3.7/dist-packages/scipy/optimize/lbfgsb.py:339: DeprecationWarning:\n",
            "\n",
            "tostring() is deprecated. Use tobytes() instead.\n",
            "\n",
            "/usr/local/lib/python3.7/dist-packages/scipy/optimize/lbfgsb.py:339: DeprecationWarning:\n",
            "\n",
            "tostring() is deprecated. Use tobytes() instead.\n",
            "\n",
            "/usr/local/lib/python3.7/dist-packages/scipy/optimize/lbfgsb.py:339: DeprecationWarning:\n",
            "\n",
            "tostring() is deprecated. Use tobytes() instead.\n",
            "\n",
            "/usr/local/lib/python3.7/dist-packages/scipy/optimize/lbfgsb.py:339: DeprecationWarning:\n",
            "\n",
            "tostring() is deprecated. Use tobytes() instead.\n",
            "\n",
            "/usr/local/lib/python3.7/dist-packages/scipy/optimize/lbfgsb.py:339: DeprecationWarning:\n",
            "\n",
            "tostring() is deprecated. Use tobytes() instead.\n",
            "\n",
            "/usr/local/lib/python3.7/dist-packages/scipy/optimize/lbfgsb.py:339: DeprecationWarning:\n",
            "\n",
            "tostring() is deprecated. Use tobytes() instead.\n",
            "\n",
            "/usr/local/lib/python3.7/dist-packages/scipy/optimize/lbfgsb.py:339: DeprecationWarning:\n",
            "\n",
            "tostring() is deprecated. Use tobytes() instead.\n",
            "\n",
            "/usr/local/lib/python3.7/dist-packages/scipy/optimize/lbfgsb.py:339: DeprecationWarning:\n",
            "\n",
            "tostring() is deprecated. Use tobytes() instead.\n",
            "\n",
            "/usr/local/lib/python3.7/dist-packages/scipy/optimize/lbfgsb.py:339: DeprecationWarning:\n",
            "\n",
            "tostring() is deprecated. Use tobytes() instead.\n",
            "\n",
            "/usr/local/lib/python3.7/dist-packages/scipy/optimize/lbfgsb.py:339: DeprecationWarning:\n",
            "\n",
            "tostring() is deprecated. Use tobytes() instead.\n",
            "\n",
            "/usr/local/lib/python3.7/dist-packages/scipy/optimize/lbfgsb.py:339: DeprecationWarning:\n",
            "\n",
            "tostring() is deprecated. Use tobytes() instead.\n",
            "\n",
            "/usr/local/lib/python3.7/dist-packages/scipy/optimize/lbfgsb.py:339: DeprecationWarning:\n",
            "\n",
            "tostring() is deprecated. Use tobytes() instead.\n",
            "\n",
            "/usr/local/lib/python3.7/dist-packages/scipy/optimize/lbfgsb.py:339: DeprecationWarning:\n",
            "\n",
            "tostring() is deprecated. Use tobytes() instead.\n",
            "\n",
            "/usr/local/lib/python3.7/dist-packages/scipy/optimize/lbfgsb.py:339: DeprecationWarning:\n",
            "\n",
            "tostring() is deprecated. Use tobytes() instead.\n",
            "\n",
            "/usr/local/lib/python3.7/dist-packages/scipy/optimize/lbfgsb.py:339: DeprecationWarning:\n",
            "\n",
            "tostring() is deprecated. Use tobytes() instead.\n",
            "\n",
            "/usr/local/lib/python3.7/dist-packages/scipy/optimize/lbfgsb.py:339: DeprecationWarning:\n",
            "\n",
            "tostring() is deprecated. Use tobytes() instead.\n",
            "\n",
            "/usr/local/lib/python3.7/dist-packages/scipy/optimize/lbfgsb.py:339: DeprecationWarning:\n",
            "\n",
            "tostring() is deprecated. Use tobytes() instead.\n",
            "\n",
            "/usr/local/lib/python3.7/dist-packages/scipy/optimize/lbfgsb.py:339: DeprecationWarning:\n",
            "\n",
            "tostring() is deprecated. Use tobytes() instead.\n",
            "\n",
            "/usr/local/lib/python3.7/dist-packages/scipy/optimize/lbfgsb.py:339: DeprecationWarning:\n",
            "\n",
            "tostring() is deprecated. Use tobytes() instead.\n",
            "\n",
            "/usr/local/lib/python3.7/dist-packages/scipy/optimize/lbfgsb.py:339: DeprecationWarning:\n",
            "\n",
            "tostring() is deprecated. Use tobytes() instead.\n",
            "\n",
            "/usr/local/lib/python3.7/dist-packages/scipy/optimize/lbfgsb.py:339: DeprecationWarning:\n",
            "\n",
            "tostring() is deprecated. Use tobytes() instead.\n",
            "\n",
            "/usr/local/lib/python3.7/dist-packages/scipy/optimize/lbfgsb.py:339: DeprecationWarning:\n",
            "\n",
            "tostring() is deprecated. Use tobytes() instead.\n",
            "\n",
            "/usr/local/lib/python3.7/dist-packages/scipy/optimize/lbfgsb.py:339: DeprecationWarning:\n",
            "\n",
            "tostring() is deprecated. Use tobytes() instead.\n",
            "\n",
            "/usr/local/lib/python3.7/dist-packages/scipy/optimize/lbfgsb.py:339: DeprecationWarning:\n",
            "\n",
            "tostring() is deprecated. Use tobytes() instead.\n",
            "\n",
            "/usr/local/lib/python3.7/dist-packages/scipy/optimize/lbfgsb.py:339: DeprecationWarning:\n",
            "\n",
            "tostring() is deprecated. Use tobytes() instead.\n",
            "\n",
            "/usr/local/lib/python3.7/dist-packages/scipy/optimize/lbfgsb.py:339: DeprecationWarning:\n",
            "\n",
            "tostring() is deprecated. Use tobytes() instead.\n",
            "\n",
            "/usr/local/lib/python3.7/dist-packages/scipy/optimize/lbfgsb.py:339: DeprecationWarning:\n",
            "\n",
            "tostring() is deprecated. Use tobytes() instead.\n",
            "\n",
            "/usr/local/lib/python3.7/dist-packages/scipy/optimize/lbfgsb.py:339: DeprecationWarning:\n",
            "\n",
            "tostring() is deprecated. Use tobytes() instead.\n",
            "\n",
            "/usr/local/lib/python3.7/dist-packages/scipy/optimize/lbfgsb.py:339: DeprecationWarning:\n",
            "\n",
            "tostring() is deprecated. Use tobytes() instead.\n",
            "\n",
            "/usr/local/lib/python3.7/dist-packages/scipy/optimize/lbfgsb.py:339: DeprecationWarning:\n",
            "\n",
            "tostring() is deprecated. Use tobytes() instead.\n",
            "\n",
            "/usr/local/lib/python3.7/dist-packages/scipy/optimize/lbfgsb.py:339: DeprecationWarning:\n",
            "\n",
            "tostring() is deprecated. Use tobytes() instead.\n",
            "\n",
            "/usr/local/lib/python3.7/dist-packages/scipy/optimize/lbfgsb.py:339: DeprecationWarning:\n",
            "\n",
            "tostring() is deprecated. Use tobytes() instead.\n",
            "\n",
            "/usr/local/lib/python3.7/dist-packages/scipy/optimize/lbfgsb.py:339: DeprecationWarning:\n",
            "\n",
            "tostring() is deprecated. Use tobytes() instead.\n",
            "\n",
            "/usr/local/lib/python3.7/dist-packages/scipy/optimize/lbfgsb.py:339: DeprecationWarning:\n",
            "\n",
            "tostring() is deprecated. Use tobytes() instead.\n",
            "\n",
            "/usr/local/lib/python3.7/dist-packages/scipy/optimize/lbfgsb.py:339: DeprecationWarning:\n",
            "\n",
            "tostring() is deprecated. Use tobytes() instead.\n",
            "\n",
            "/usr/local/lib/python3.7/dist-packages/scipy/optimize/lbfgsb.py:339: DeprecationWarning:\n",
            "\n",
            "tostring() is deprecated. Use tobytes() instead.\n",
            "\n",
            "/usr/local/lib/python3.7/dist-packages/scipy/optimize/lbfgsb.py:339: DeprecationWarning:\n",
            "\n",
            "tostring() is deprecated. Use tobytes() instead.\n",
            "\n",
            "/usr/local/lib/python3.7/dist-packages/scipy/optimize/lbfgsb.py:339: DeprecationWarning:\n",
            "\n",
            "tostring() is deprecated. Use tobytes() instead.\n",
            "\n",
            "/usr/local/lib/python3.7/dist-packages/scipy/optimize/lbfgsb.py:339: DeprecationWarning:\n",
            "\n",
            "tostring() is deprecated. Use tobytes() instead.\n",
            "\n",
            "/usr/local/lib/python3.7/dist-packages/scipy/optimize/lbfgsb.py:339: DeprecationWarning:\n",
            "\n",
            "tostring() is deprecated. Use tobytes() instead.\n",
            "\n",
            "/usr/local/lib/python3.7/dist-packages/scipy/optimize/lbfgsb.py:339: DeprecationWarning:\n",
            "\n",
            "tostring() is deprecated. Use tobytes() instead.\n",
            "\n",
            "/usr/local/lib/python3.7/dist-packages/scipy/optimize/lbfgsb.py:339: DeprecationWarning:\n",
            "\n",
            "tostring() is deprecated. Use tobytes() instead.\n",
            "\n",
            "/usr/local/lib/python3.7/dist-packages/scipy/optimize/lbfgsb.py:339: DeprecationWarning:\n",
            "\n",
            "tostring() is deprecated. Use tobytes() instead.\n",
            "\n",
            "/usr/local/lib/python3.7/dist-packages/scipy/optimize/lbfgsb.py:339: DeprecationWarning:\n",
            "\n",
            "tostring() is deprecated. Use tobytes() instead.\n",
            "\n",
            "/usr/local/lib/python3.7/dist-packages/scipy/optimize/lbfgsb.py:339: DeprecationWarning:\n",
            "\n",
            "tostring() is deprecated. Use tobytes() instead.\n",
            "\n",
            "/usr/local/lib/python3.7/dist-packages/scipy/optimize/lbfgsb.py:339: DeprecationWarning:\n",
            "\n",
            "tostring() is deprecated. Use tobytes() instead.\n",
            "\n",
            "/usr/local/lib/python3.7/dist-packages/scipy/optimize/lbfgsb.py:339: DeprecationWarning:\n",
            "\n",
            "tostring() is deprecated. Use tobytes() instead.\n",
            "\n",
            "/usr/local/lib/python3.7/dist-packages/scipy/optimize/lbfgsb.py:339: DeprecationWarning:\n",
            "\n",
            "tostring() is deprecated. Use tobytes() instead.\n",
            "\n",
            "/usr/local/lib/python3.7/dist-packages/scipy/optimize/lbfgsb.py:339: DeprecationWarning:\n",
            "\n",
            "tostring() is deprecated. Use tobytes() instead.\n",
            "\n",
            "/usr/local/lib/python3.7/dist-packages/scipy/optimize/lbfgsb.py:339: DeprecationWarning:\n",
            "\n",
            "tostring() is deprecated. Use tobytes() instead.\n",
            "\n",
            "/usr/local/lib/python3.7/dist-packages/scipy/optimize/lbfgsb.py:339: DeprecationWarning:\n",
            "\n",
            "tostring() is deprecated. Use tobytes() instead.\n",
            "\n",
            "/usr/local/lib/python3.7/dist-packages/scipy/optimize/lbfgsb.py:339: DeprecationWarning:\n",
            "\n",
            "tostring() is deprecated. Use tobytes() instead.\n",
            "\n",
            "/usr/local/lib/python3.7/dist-packages/scipy/optimize/lbfgsb.py:339: DeprecationWarning:\n",
            "\n",
            "tostring() is deprecated. Use tobytes() instead.\n",
            "\n",
            "/usr/local/lib/python3.7/dist-packages/scipy/optimize/lbfgsb.py:339: DeprecationWarning:\n",
            "\n",
            "tostring() is deprecated. Use tobytes() instead.\n",
            "\n",
            "/usr/local/lib/python3.7/dist-packages/scipy/optimize/lbfgsb.py:339: DeprecationWarning:\n",
            "\n",
            "tostring() is deprecated. Use tobytes() instead.\n",
            "\n",
            "/usr/local/lib/python3.7/dist-packages/scipy/optimize/lbfgsb.py:339: DeprecationWarning:\n",
            "\n",
            "tostring() is deprecated. Use tobytes() instead.\n",
            "\n",
            "/usr/local/lib/python3.7/dist-packages/scipy/optimize/lbfgsb.py:339: DeprecationWarning:\n",
            "\n",
            "tostring() is deprecated. Use tobytes() instead.\n",
            "\n",
            "/usr/local/lib/python3.7/dist-packages/scipy/optimize/lbfgsb.py:339: DeprecationWarning:\n",
            "\n",
            "tostring() is deprecated. Use tobytes() instead.\n",
            "\n",
            "/usr/local/lib/python3.7/dist-packages/scipy/optimize/lbfgsb.py:339: DeprecationWarning:\n",
            "\n",
            "tostring() is deprecated. Use tobytes() instead.\n",
            "\n",
            "/usr/local/lib/python3.7/dist-packages/scipy/optimize/lbfgsb.py:339: DeprecationWarning:\n",
            "\n",
            "tostring() is deprecated. Use tobytes() instead.\n",
            "\n",
            "/usr/local/lib/python3.7/dist-packages/scipy/optimize/lbfgsb.py:339: DeprecationWarning:\n",
            "\n",
            "tostring() is deprecated. Use tobytes() instead.\n",
            "\n",
            "/usr/local/lib/python3.7/dist-packages/scipy/optimize/lbfgsb.py:339: DeprecationWarning:\n",
            "\n",
            "tostring() is deprecated. Use tobytes() instead.\n",
            "\n",
            "/usr/local/lib/python3.7/dist-packages/scipy/optimize/lbfgsb.py:339: DeprecationWarning:\n",
            "\n",
            "tostring() is deprecated. Use tobytes() instead.\n",
            "\n",
            "/usr/local/lib/python3.7/dist-packages/scipy/optimize/lbfgsb.py:339: DeprecationWarning:\n",
            "\n",
            "tostring() is deprecated. Use tobytes() instead.\n",
            "\n",
            "/usr/local/lib/python3.7/dist-packages/scipy/optimize/lbfgsb.py:339: DeprecationWarning:\n",
            "\n",
            "tostring() is deprecated. Use tobytes() instead.\n",
            "\n",
            "/usr/local/lib/python3.7/dist-packages/scipy/optimize/lbfgsb.py:339: DeprecationWarning:\n",
            "\n",
            "tostring() is deprecated. Use tobytes() instead.\n",
            "\n",
            "/usr/local/lib/python3.7/dist-packages/scipy/optimize/lbfgsb.py:339: DeprecationWarning:\n",
            "\n",
            "tostring() is deprecated. Use tobytes() instead.\n",
            "\n",
            "/usr/local/lib/python3.7/dist-packages/scipy/optimize/lbfgsb.py:339: DeprecationWarning:\n",
            "\n",
            "tostring() is deprecated. Use tobytes() instead.\n",
            "\n",
            "/usr/local/lib/python3.7/dist-packages/scipy/optimize/lbfgsb.py:339: DeprecationWarning:\n",
            "\n",
            "tostring() is deprecated. Use tobytes() instead.\n",
            "\n",
            "/usr/local/lib/python3.7/dist-packages/scipy/optimize/lbfgsb.py:339: DeprecationWarning:\n",
            "\n",
            "tostring() is deprecated. Use tobytes() instead.\n",
            "\n",
            "/usr/local/lib/python3.7/dist-packages/scipy/optimize/lbfgsb.py:339: DeprecationWarning:\n",
            "\n",
            "tostring() is deprecated. Use tobytes() instead.\n",
            "\n",
            "/usr/local/lib/python3.7/dist-packages/scipy/optimize/lbfgsb.py:339: DeprecationWarning:\n",
            "\n",
            "tostring() is deprecated. Use tobytes() instead.\n",
            "\n",
            "/usr/local/lib/python3.7/dist-packages/scipy/optimize/lbfgsb.py:339: DeprecationWarning:\n",
            "\n",
            "tostring() is deprecated. Use tobytes() instead.\n",
            "\n",
            "/usr/local/lib/python3.7/dist-packages/scipy/optimize/lbfgsb.py:339: DeprecationWarning:\n",
            "\n",
            "tostring() is deprecated. Use tobytes() instead.\n",
            "\n",
            "/usr/local/lib/python3.7/dist-packages/scipy/optimize/lbfgsb.py:339: DeprecationWarning:\n",
            "\n",
            "tostring() is deprecated. Use tobytes() instead.\n",
            "\n",
            "/usr/local/lib/python3.7/dist-packages/scipy/optimize/lbfgsb.py:339: DeprecationWarning:\n",
            "\n",
            "tostring() is deprecated. Use tobytes() instead.\n",
            "\n",
            "/usr/local/lib/python3.7/dist-packages/scipy/optimize/lbfgsb.py:339: DeprecationWarning:\n",
            "\n",
            "tostring() is deprecated. Use tobytes() instead.\n",
            "\n",
            "/usr/local/lib/python3.7/dist-packages/scipy/optimize/lbfgsb.py:339: DeprecationWarning:\n",
            "\n",
            "tostring() is deprecated. Use tobytes() instead.\n",
            "\n",
            "/usr/local/lib/python3.7/dist-packages/scipy/optimize/lbfgsb.py:339: DeprecationWarning:\n",
            "\n",
            "tostring() is deprecated. Use tobytes() instead.\n",
            "\n",
            "/usr/local/lib/python3.7/dist-packages/scipy/optimize/lbfgsb.py:339: DeprecationWarning:\n",
            "\n",
            "tostring() is deprecated. Use tobytes() instead.\n",
            "\n",
            "/usr/local/lib/python3.7/dist-packages/scipy/optimize/lbfgsb.py:339: DeprecationWarning:\n",
            "\n",
            "tostring() is deprecated. Use tobytes() instead.\n",
            "\n",
            "/usr/local/lib/python3.7/dist-packages/scipy/optimize/lbfgsb.py:339: DeprecationWarning:\n",
            "\n",
            "tostring() is deprecated. Use tobytes() instead.\n",
            "\n",
            "/usr/local/lib/python3.7/dist-packages/scipy/optimize/lbfgsb.py:339: DeprecationWarning:\n",
            "\n",
            "tostring() is deprecated. Use tobytes() instead.\n",
            "\n",
            "/usr/local/lib/python3.7/dist-packages/scipy/optimize/lbfgsb.py:339: DeprecationWarning:\n",
            "\n",
            "tostring() is deprecated. Use tobytes() instead.\n",
            "\n",
            "/usr/local/lib/python3.7/dist-packages/scipy/optimize/lbfgsb.py:339: DeprecationWarning:\n",
            "\n",
            "tostring() is deprecated. Use tobytes() instead.\n",
            "\n",
            "/usr/local/lib/python3.7/dist-packages/scipy/optimize/lbfgsb.py:339: DeprecationWarning:\n",
            "\n",
            "tostring() is deprecated. Use tobytes() instead.\n",
            "\n",
            "/usr/local/lib/python3.7/dist-packages/scipy/optimize/lbfgsb.py:339: DeprecationWarning:\n",
            "\n",
            "tostring() is deprecated. Use tobytes() instead.\n",
            "\n",
            "/usr/local/lib/python3.7/dist-packages/scipy/optimize/lbfgsb.py:339: DeprecationWarning:\n",
            "\n",
            "tostring() is deprecated. Use tobytes() instead.\n",
            "\n",
            "/usr/local/lib/python3.7/dist-packages/scipy/optimize/lbfgsb.py:339: DeprecationWarning:\n",
            "\n",
            "tostring() is deprecated. Use tobytes() instead.\n",
            "\n",
            "/usr/local/lib/python3.7/dist-packages/scipy/optimize/lbfgsb.py:339: DeprecationWarning:\n",
            "\n",
            "tostring() is deprecated. Use tobytes() instead.\n",
            "\n",
            "/usr/local/lib/python3.7/dist-packages/scipy/optimize/lbfgsb.py:339: DeprecationWarning:\n",
            "\n",
            "tostring() is deprecated. Use tobytes() instead.\n",
            "\n",
            "/usr/local/lib/python3.7/dist-packages/scipy/optimize/lbfgsb.py:339: DeprecationWarning:\n",
            "\n",
            "tostring() is deprecated. Use tobytes() instead.\n",
            "\n",
            "/usr/local/lib/python3.7/dist-packages/scipy/optimize/lbfgsb.py:339: DeprecationWarning:\n",
            "\n",
            "tostring() is deprecated. Use tobytes() instead.\n",
            "\n",
            "/usr/local/lib/python3.7/dist-packages/scipy/optimize/lbfgsb.py:339: DeprecationWarning:\n",
            "\n",
            "tostring() is deprecated. Use tobytes() instead.\n",
            "\n",
            "/usr/local/lib/python3.7/dist-packages/scipy/optimize/lbfgsb.py:339: DeprecationWarning:\n",
            "\n",
            "tostring() is deprecated. Use tobytes() instead.\n",
            "\n",
            "/usr/local/lib/python3.7/dist-packages/scipy/optimize/lbfgsb.py:339: DeprecationWarning:\n",
            "\n",
            "tostring() is deprecated. Use tobytes() instead.\n",
            "\n",
            "/usr/local/lib/python3.7/dist-packages/scipy/optimize/lbfgsb.py:339: DeprecationWarning:\n",
            "\n",
            "tostring() is deprecated. Use tobytes() instead.\n",
            "\n",
            "/usr/local/lib/python3.7/dist-packages/scipy/optimize/lbfgsb.py:339: DeprecationWarning:\n",
            "\n",
            "tostring() is deprecated. Use tobytes() instead.\n",
            "\n",
            "/usr/local/lib/python3.7/dist-packages/scipy/optimize/lbfgsb.py:339: DeprecationWarning:\n",
            "\n",
            "tostring() is deprecated. Use tobytes() instead.\n",
            "\n",
            "/usr/local/lib/python3.7/dist-packages/scipy/optimize/lbfgsb.py:339: DeprecationWarning:\n",
            "\n",
            "tostring() is deprecated. Use tobytes() instead.\n",
            "\n",
            "/usr/local/lib/python3.7/dist-packages/scipy/optimize/lbfgsb.py:339: DeprecationWarning:\n",
            "\n",
            "tostring() is deprecated. Use tobytes() instead.\n",
            "\n",
            "/usr/local/lib/python3.7/dist-packages/scipy/optimize/lbfgsb.py:339: DeprecationWarning:\n",
            "\n",
            "tostring() is deprecated. Use tobytes() instead.\n",
            "\n",
            "/usr/local/lib/python3.7/dist-packages/scipy/optimize/lbfgsb.py:339: DeprecationWarning:\n",
            "\n",
            "tostring() is deprecated. Use tobytes() instead.\n",
            "\n",
            "/usr/local/lib/python3.7/dist-packages/scipy/optimize/lbfgsb.py:339: DeprecationWarning:\n",
            "\n",
            "tostring() is deprecated. Use tobytes() instead.\n",
            "\n",
            "/usr/local/lib/python3.7/dist-packages/scipy/optimize/lbfgsb.py:339: DeprecationWarning:\n",
            "\n",
            "tostring() is deprecated. Use tobytes() instead.\n",
            "\n",
            "/usr/local/lib/python3.7/dist-packages/scipy/optimize/lbfgsb.py:339: DeprecationWarning:\n",
            "\n",
            "tostring() is deprecated. Use tobytes() instead.\n",
            "\n",
            "/usr/local/lib/python3.7/dist-packages/scipy/optimize/lbfgsb.py:339: DeprecationWarning:\n",
            "\n",
            "tostring() is deprecated. Use tobytes() instead.\n",
            "\n",
            "/usr/local/lib/python3.7/dist-packages/scipy/optimize/lbfgsb.py:339: DeprecationWarning:\n",
            "\n",
            "tostring() is deprecated. Use tobytes() instead.\n",
            "\n",
            "/usr/local/lib/python3.7/dist-packages/scipy/optimize/lbfgsb.py:339: DeprecationWarning:\n",
            "\n",
            "tostring() is deprecated. Use tobytes() instead.\n",
            "\n",
            "/usr/local/lib/python3.7/dist-packages/scipy/optimize/lbfgsb.py:339: DeprecationWarning:\n",
            "\n",
            "tostring() is deprecated. Use tobytes() instead.\n",
            "\n",
            "/usr/local/lib/python3.7/dist-packages/scipy/optimize/lbfgsb.py:339: DeprecationWarning:\n",
            "\n",
            "tostring() is deprecated. Use tobytes() instead.\n",
            "\n",
            "/usr/local/lib/python3.7/dist-packages/scipy/optimize/lbfgsb.py:339: DeprecationWarning:\n",
            "\n",
            "tostring() is deprecated. Use tobytes() instead.\n",
            "\n",
            "/usr/local/lib/python3.7/dist-packages/scipy/optimize/lbfgsb.py:339: DeprecationWarning:\n",
            "\n",
            "tostring() is deprecated. Use tobytes() instead.\n",
            "\n",
            "/usr/local/lib/python3.7/dist-packages/scipy/optimize/lbfgsb.py:339: DeprecationWarning:\n",
            "\n",
            "tostring() is deprecated. Use tobytes() instead.\n",
            "\n",
            "/usr/local/lib/python3.7/dist-packages/scipy/optimize/lbfgsb.py:339: DeprecationWarning:\n",
            "\n",
            "tostring() is deprecated. Use tobytes() instead.\n",
            "\n",
            "/usr/local/lib/python3.7/dist-packages/scipy/optimize/lbfgsb.py:339: DeprecationWarning:\n",
            "\n",
            "tostring() is deprecated. Use tobytes() instead.\n",
            "\n",
            "/usr/local/lib/python3.7/dist-packages/scipy/optimize/lbfgsb.py:339: DeprecationWarning:\n",
            "\n",
            "tostring() is deprecated. Use tobytes() instead.\n",
            "\n",
            "/usr/local/lib/python3.7/dist-packages/scipy/optimize/lbfgsb.py:339: DeprecationWarning:\n",
            "\n",
            "tostring() is deprecated. Use tobytes() instead.\n",
            "\n",
            "/usr/local/lib/python3.7/dist-packages/scipy/optimize/lbfgsb.py:339: DeprecationWarning:\n",
            "\n",
            "tostring() is deprecated. Use tobytes() instead.\n",
            "\n",
            "/usr/local/lib/python3.7/dist-packages/scipy/optimize/lbfgsb.py:339: DeprecationWarning:\n",
            "\n",
            "tostring() is deprecated. Use tobytes() instead.\n",
            "\n",
            "/usr/local/lib/python3.7/dist-packages/scipy/optimize/lbfgsb.py:339: DeprecationWarning:\n",
            "\n",
            "tostring() is deprecated. Use tobytes() instead.\n",
            "\n",
            "/usr/local/lib/python3.7/dist-packages/scipy/optimize/lbfgsb.py:339: DeprecationWarning:\n",
            "\n",
            "tostring() is deprecated. Use tobytes() instead.\n",
            "\n",
            "/usr/local/lib/python3.7/dist-packages/scipy/optimize/lbfgsb.py:339: DeprecationWarning:\n",
            "\n",
            "tostring() is deprecated. Use tobytes() instead.\n",
            "\n",
            "/usr/local/lib/python3.7/dist-packages/scipy/optimize/lbfgsb.py:339: DeprecationWarning:\n",
            "\n",
            "tostring() is deprecated. Use tobytes() instead.\n",
            "\n",
            "/usr/local/lib/python3.7/dist-packages/scipy/optimize/lbfgsb.py:360: DeprecationWarning:\n",
            "\n",
            "tostring() is deprecated. Use tobytes() instead.\n",
            "\n"
          ],
          "name": "stderr"
        },
        {
          "output_type": "execute_result",
          "data": {
            "text/plain": [
              "LogisticRegression(C=1.0, class_weight=None, dual=False, fit_intercept=True,\n",
              "                   intercept_scaling=1, l1_ratio=None, max_iter=500,\n",
              "                   multi_class='auto', n_jobs=None, penalty='l2',\n",
              "                   random_state=None, solver='lbfgs', tol=0.0001, verbose=0,\n",
              "                   warm_start=False)"
            ]
          },
          "metadata": {
            "tags": []
          },
          "execution_count": 44
        }
      ]
    },
    {
      "cell_type": "code",
      "metadata": {
        "id": "c9s2_GmeBqej",
        "trusted": true
      },
      "source": [
        "y_pred_class = model.predict(vecTest)"
      ],
      "execution_count": null,
      "outputs": []
    },
    {
      "cell_type": "code",
      "metadata": {
        "id": "wyG_1UlMBRX-",
        "trusted": true,
        "colab": {
          "base_uri": "https://localhost:8080/"
        },
        "outputId": "0dcf3282-aeec-494b-8e8d-43cdff3fa071"
      },
      "source": [
        "accuracy_score(y_test, y_pred_class)"
      ],
      "execution_count": null,
      "outputs": [
        {
          "output_type": "execute_result",
          "data": {
            "text/plain": [
              "0.9893986636971047"
            ]
          },
          "metadata": {
            "tags": []
          },
          "execution_count": 46
        }
      ]
    },
    {
      "cell_type": "markdown",
      "metadata": {
        "id": "Zfat1r8VtvhO"
      },
      "source": [
        "## CNN model"
      ]
    },
    {
      "cell_type": "markdown",
      "metadata": {
        "id": "xu0A3wb5QDy_"
      },
      "source": [
        "In deep learning, we generally use Convolutional Neural Networks and their variants to classify image data. So most of the people thinks *we can use them only for image data*.\n",
        "\n",
        "But a convolution operator **extracts** features from a data given. And if data has dimension more than one, we can use it with a convolution operator. And if we use **word embeddings** to convert words we can use a Convolutional Neural Network. "
      ]
    },
    {
      "cell_type": "code",
      "metadata": {
        "id": "ja5udaMCRe-l",
        "trusted": true
      },
      "source": [
        "import pandas as pd\n",
        "import numpy as np\n",
        "import re\n",
        "\n",
        "from tensorflow import keras\n",
        "from tensorflow.keras import layers\n",
        "from tensorflow.keras.preprocessing.text import Tokenizer\n",
        "from tensorflow.keras.preprocessing.sequence import pad_sequences\n",
        "\n",
        "import time\n",
        "from sklearn.model_selection import train_test_split\n",
        "from sklearn.metrics import accuracy_score,confusion_matrix\n",
        "import matplotlib.pyplot as plt\n"
      ],
      "execution_count": null,
      "outputs": []
    },
    {
      "cell_type": "code",
      "metadata": {
        "trusted": true,
        "colab": {
          "base_uri": "https://localhost:8080/",
          "height": 640
        },
        "id": "Ny6QEAD-QDy_",
        "outputId": "c790ec22-a568-46b7-8a95-a0ed85935d16"
      },
      "source": [
        "data = combined.loc[:,[\"text\", \"truth\"]]\n",
        "data.head()"
      ],
      "execution_count": null,
      "outputs": [
        {
          "output_type": "execute_result",
          "data": {
            "text/html": [
              "<div>\n",
              "<style scoped>\n",
              "    .dataframe tbody tr th:only-of-type {\n",
              "        vertical-align: middle;\n",
              "    }\n",
              "\n",
              "    .dataframe tbody tr th {\n",
              "        vertical-align: top;\n",
              "    }\n",
              "\n",
              "    .dataframe thead th {\n",
              "        text-align: right;\n",
              "    }\n",
              "</style>\n",
              "<table border=\"1\" class=\"dataframe\">\n",
              "  <thead>\n",
              "    <tr style=\"text-align: right;\">\n",
              "      <th></th>\n",
              "      <th>text</th>\n",
              "      <th>truth</th>\n",
              "    </tr>\n",
              "  </thead>\n",
              "  <tbody>\n",
              "    <tr>\n",
              "      <th>0</th>\n",
              "      <td>donald trump wish americans happy new year lea...</td>\n",
              "      <td>0</td>\n",
              "    </tr>\n",
              "    <tr>\n",
              "      <th>1</th>\n",
              "      <td>house intelligence committee chairman devin nu...</td>\n",
              "      <td>0</td>\n",
              "    </tr>\n",
              "    <tr>\n",
              "      <th>2</th>\n",
              "      <td>friday revealed former milwaukee sheriff david...</td>\n",
              "      <td>0</td>\n",
              "    </tr>\n",
              "    <tr>\n",
              "      <th>3</th>\n",
              "      <td>christmas day donald trump announced would bac...</td>\n",
              "      <td>0</td>\n",
              "    </tr>\n",
              "    <tr>\n",
              "      <th>4</th>\n",
              "      <td>pope francis used annual christmas day message...</td>\n",
              "      <td>0</td>\n",
              "    </tr>\n",
              "  </tbody>\n",
              "</table>\n",
              "</div>"
            ],
            "text/plain": [
              "                                                text  truth\n",
              "0  donald trump wish americans happy new year lea...      0\n",
              "1  house intelligence committee chairman devin nu...      0\n",
              "2  friday revealed former milwaukee sheriff david...      0\n",
              "3  christmas day donald trump announced would bac...      0\n",
              "4  pope francis used annual christmas day message...      0"
            ]
          },
          "metadata": {
            "tags": []
          },
          "execution_count": 48
        }
      ]
    },
    {
      "cell_type": "code",
      "metadata": {
        "id": "YsmV23fBdIhb",
        "trusted": true
      },
      "source": [
        "x = data[\"text\"]\n",
        "y = data[\"truth\"]\n"
      ],
      "execution_count": null,
      "outputs": []
    },
    {
      "cell_type": "code",
      "metadata": {
        "id": "IkzfximqPvk7",
        "trusted": true
      },
      "source": [
        "def cleanText(text):\n",
        "    cleaned = re.sub(\"[^'a-zA-Z0-9]\",\" \",text)\n",
        "    lowered = cleaned.lower().strip()\n",
        "    return lowered"
      ],
      "execution_count": null,
      "outputs": []
    },
    {
      "cell_type": "code",
      "metadata": {
        "id": "1HUoRHnIPxxA",
        "trusted": true
      },
      "source": [
        "x_cleaned = [cleanText(t) for t in x]"
      ],
      "execution_count": null,
      "outputs": []
    },
    {
      "cell_type": "code",
      "metadata": {
        "id": "3_T9nYbZP3Sy",
        "trusted": true
      },
      "source": [
        "tokenizer = Tokenizer(num_words=5000)\n",
        "tokenizer.fit_on_texts(x_cleaned)\n",
        "x_tokenized = tokenizer.texts_to_sequences(x_cleaned)"
      ],
      "execution_count": null,
      "outputs": []
    },
    {
      "cell_type": "code",
      "metadata": {
        "id": "5BgXvmYIP5Pi",
        "trusted": true
      },
      "source": [
        "\n",
        "length_array = [len(s) for s in x_tokenized]\n",
        "SEQUENCE_LENGTH = int(np.quantile(length_array,0.75))"
      ],
      "execution_count": null,
      "outputs": []
    },
    {
      "cell_type": "code",
      "metadata": {
        "id": "TcpTkNy9P7sl",
        "trusted": true
      },
      "source": [
        "x_padded = pad_sequences(x_tokenized,maxlen=SEQUENCE_LENGTH)"
      ],
      "execution_count": null,
      "outputs": []
    },
    {
      "cell_type": "code",
      "metadata": {
        "id": "zzy5VWNlP-5W",
        "trusted": true
      },
      "source": [
        "x_train,x_test,y_train,y_test = train_test_split(x_padded,y,test_size=0.2,random_state=42)"
      ],
      "execution_count": null,
      "outputs": []
    },
    {
      "cell_type": "code",
      "metadata": {
        "id": "POg1Y8r1QE1A",
        "trusted": true
      },
      "source": [
        "# We've added 1 because or word index has numbers from 1 to end but we've added\n",
        "# 0 tokens in padding so our vocab now has len(tokenizer.word_index) + 1\n",
        "VOCAB_LENGTH = len(tokenizer.word_index) + 1\n",
        "VECTOR_SIZE = 100\n",
        "\n",
        "def getModel():\n",
        "    \"\"\"\n",
        "    Returns a trainable Sigmoid Convolutional Neural Network\n",
        "    \"\"\"\n",
        "    model = keras.Sequential()\n",
        "    model.add(layers.Embedding(input_dim=VOCAB_LENGTH,\n",
        "                               output_dim=VECTOR_SIZE,\n",
        "                               input_length=SEQUENCE_LENGTH\n",
        "                              ))\n",
        "    \n",
        "    model.add(layers.Conv1D(128,kernel_size=4))\n",
        "    model.add(layers.BatchNormalization())\n",
        "    model.add(layers.Activation(\"relu\"))\n",
        "    model.add(layers.MaxPooling1D(2))\n",
        "    \n",
        "    model.add(layers.Conv1D(256,kernel_size=4))\n",
        "    model.add(layers.BatchNormalization())\n",
        "    model.add(layers.Activation(\"relu\"))\n",
        "    model.add(layers.MaxPooling1D(2))\n",
        "    \n",
        "    model.add(layers.Conv1D(512,kernel_size=4))\n",
        "    model.add(layers.BatchNormalization())\n",
        "    model.add(layers.Activation(\"relu\"))\n",
        "    model.add(layers.MaxPooling1D(2))\n",
        "\n",
        "    model.add(layers.Conv1D(1024,kernel_size=4))\n",
        "    model.add(layers.BatchNormalization())\n",
        "    model.add(layers.Activation(\"relu\"))\n",
        "    model.add(layers.MaxPooling1D(2))\n",
        "    \n",
        "    model.add(layers.Flatten())\n",
        "    model.add(layers.Dense(1,activation=\"sigmoid\"))\n",
        "    \n",
        "    model.compile(loss=\"binary_crossentropy\",optimizer=\"adam\",metrics=[\"accuracy\"])\n",
        "    \n",
        "    return model\n"
      ],
      "execution_count": null,
      "outputs": []
    },
    {
      "cell_type": "code",
      "metadata": {
        "id": "2nCsGBL3dIc9",
        "trusted": true,
        "colab": {
          "base_uri": "https://localhost:8080/"
        },
        "outputId": "f897a95b-7b6e-4b38-ffef-1eb1972aef6e"
      },
      "source": [
        "model = getModel()\n",
        "model.summary()"
      ],
      "execution_count": null,
      "outputs": [
        {
          "output_type": "stream",
          "text": [
            "Model: \"sequential\"\n",
            "_________________________________________________________________\n",
            "Layer (type)                 Output Shape              Param #   \n",
            "=================================================================\n",
            "embedding (Embedding)        (None, 236, 100)          19179800  \n",
            "_________________________________________________________________\n",
            "conv1d (Conv1D)              (None, 233, 128)          51328     \n",
            "_________________________________________________________________\n",
            "batch_normalization (BatchNo (None, 233, 128)          512       \n",
            "_________________________________________________________________\n",
            "activation (Activation)      (None, 233, 128)          0         \n",
            "_________________________________________________________________\n",
            "max_pooling1d (MaxPooling1D) (None, 116, 128)          0         \n",
            "_________________________________________________________________\n",
            "conv1d_1 (Conv1D)            (None, 113, 256)          131328    \n",
            "_________________________________________________________________\n",
            "batch_normalization_1 (Batch (None, 113, 256)          1024      \n",
            "_________________________________________________________________\n",
            "activation_1 (Activation)    (None, 113, 256)          0         \n",
            "_________________________________________________________________\n",
            "max_pooling1d_1 (MaxPooling1 (None, 56, 256)           0         \n",
            "_________________________________________________________________\n",
            "conv1d_2 (Conv1D)            (None, 53, 512)           524800    \n",
            "_________________________________________________________________\n",
            "batch_normalization_2 (Batch (None, 53, 512)           2048      \n",
            "_________________________________________________________________\n",
            "activation_2 (Activation)    (None, 53, 512)           0         \n",
            "_________________________________________________________________\n",
            "max_pooling1d_2 (MaxPooling1 (None, 26, 512)           0         \n",
            "_________________________________________________________________\n",
            "conv1d_3 (Conv1D)            (None, 23, 1024)          2098176   \n",
            "_________________________________________________________________\n",
            "batch_normalization_3 (Batch (None, 23, 1024)          4096      \n",
            "_________________________________________________________________\n",
            "activation_3 (Activation)    (None, 23, 1024)          0         \n",
            "_________________________________________________________________\n",
            "max_pooling1d_3 (MaxPooling1 (None, 11, 1024)          0         \n",
            "_________________________________________________________________\n",
            "flatten (Flatten)            (None, 11264)             0         \n",
            "_________________________________________________________________\n",
            "dense (Dense)                (None, 1)                 11265     \n",
            "=================================================================\n",
            "Total params: 22,004,377\n",
            "Trainable params: 22,000,537\n",
            "Non-trainable params: 3,840\n",
            "_________________________________________________________________\n"
          ],
          "name": "stdout"
        }
      ]
    },
    {
      "cell_type": "code",
      "metadata": {
        "id": "N5KoXp4vBzG7",
        "trusted": true,
        "colab": {
          "base_uri": "https://localhost:8080/"
        },
        "outputId": "125ac1af-f21a-49e5-88a7-26c1a285559f"
      },
      "source": [
        "history = model.fit(x_train,y_train,validation_data=(x_test,y_test),epochs=1)"
      ],
      "execution_count": null,
      "outputs": [
        {
          "output_type": "stream",
          "text": [
            "1123/1123 [==============================] - 975s 866ms/step - loss: 0.2257 - accuracy: 0.9177 - val_loss: 0.0804 - val_accuracy: 0.9735\n"
          ],
          "name": "stdout"
        }
      ]
    },
    {
      "cell_type": "markdown",
      "metadata": {
        "id": "0FPf9Isye4Ky"
      },
      "source": [
        "## Title Classification\n",
        "While the two models performed similarly, Logistic Regression performed slightly better. To make the most our data, we can also build a model to predict validity based on the title text. Below is an implemention and closer look at what passes and what does not:"
      ]
    },
    {
      "cell_type": "markdown",
      "metadata": {
        "id": "MZbUOrKL6t23"
      },
      "source": [
        "### Title\n"
      ]
    },
    {
      "cell_type": "code",
      "metadata": {
        "id": "L5Xx_-wKC5we",
        "trusted": true
      },
      "source": [
        "X = combined['title']\n",
        "y = combined['truth']\n",
        "\n",
        "# Split data \n",
        "from sklearn.model_selection import train_test_split\n",
        "X_train, X_test, y_train, y_test = train_test_split(X, y, random_state=0)\n",
        "\n",
        "# Use CountVectorizer to vectorize words in text\n",
        "from sklearn.feature_extraction.text import CountVectorizer\n",
        "cv = CountVectorizer()\n",
        "vecTrain = cv.fit_transform(X_train)\n",
        "vecTest = cv.transform(X_test)"
      ],
      "execution_count": null,
      "outputs": []
    },
    {
      "cell_type": "markdown",
      "metadata": {
        "id": "-h76RTFuC7AC"
      },
      "source": [
        "Now we train a Logistic Regression model again for the titles"
      ]
    },
    {
      "cell_type": "code",
      "metadata": {
        "id": "ZnWShlz2C5wg",
        "trusted": true,
        "colab": {
          "base_uri": "https://localhost:8080/"
        },
        "outputId": "96db8897-0808-4092-c7ff-6b8a3d856ccc"
      },
      "source": [
        "from sklearn.linear_model import LogisticRegression\n",
        "from sklearn.metrics import accuracy_score\n",
        "model = LogisticRegression(max_iter=500)\n",
        "model.fit(vecTrain, y_train)"
      ],
      "execution_count": null,
      "outputs": [
        {
          "output_type": "stream",
          "text": [
            "/usr/local/lib/python3.7/dist-packages/scipy/optimize/lbfgsb.py:339: DeprecationWarning:\n",
            "\n",
            "tostring() is deprecated. Use tobytes() instead.\n",
            "\n",
            "/usr/local/lib/python3.7/dist-packages/scipy/optimize/lbfgsb.py:339: DeprecationWarning:\n",
            "\n",
            "tostring() is deprecated. Use tobytes() instead.\n",
            "\n",
            "/usr/local/lib/python3.7/dist-packages/scipy/optimize/lbfgsb.py:339: DeprecationWarning:\n",
            "\n",
            "tostring() is deprecated. Use tobytes() instead.\n",
            "\n",
            "/usr/local/lib/python3.7/dist-packages/scipy/optimize/lbfgsb.py:339: DeprecationWarning:\n",
            "\n",
            "tostring() is deprecated. Use tobytes() instead.\n",
            "\n",
            "/usr/local/lib/python3.7/dist-packages/scipy/optimize/lbfgsb.py:339: DeprecationWarning:\n",
            "\n",
            "tostring() is deprecated. Use tobytes() instead.\n",
            "\n",
            "/usr/local/lib/python3.7/dist-packages/scipy/optimize/lbfgsb.py:339: DeprecationWarning:\n",
            "\n",
            "tostring() is deprecated. Use tobytes() instead.\n",
            "\n",
            "/usr/local/lib/python3.7/dist-packages/scipy/optimize/lbfgsb.py:339: DeprecationWarning:\n",
            "\n",
            "tostring() is deprecated. Use tobytes() instead.\n",
            "\n",
            "/usr/local/lib/python3.7/dist-packages/scipy/optimize/lbfgsb.py:339: DeprecationWarning:\n",
            "\n",
            "tostring() is deprecated. Use tobytes() instead.\n",
            "\n",
            "/usr/local/lib/python3.7/dist-packages/scipy/optimize/lbfgsb.py:339: DeprecationWarning:\n",
            "\n",
            "tostring() is deprecated. Use tobytes() instead.\n",
            "\n",
            "/usr/local/lib/python3.7/dist-packages/scipy/optimize/lbfgsb.py:339: DeprecationWarning:\n",
            "\n",
            "tostring() is deprecated. Use tobytes() instead.\n",
            "\n",
            "/usr/local/lib/python3.7/dist-packages/scipy/optimize/lbfgsb.py:339: DeprecationWarning:\n",
            "\n",
            "tostring() is deprecated. Use tobytes() instead.\n",
            "\n",
            "/usr/local/lib/python3.7/dist-packages/scipy/optimize/lbfgsb.py:339: DeprecationWarning:\n",
            "\n",
            "tostring() is deprecated. Use tobytes() instead.\n",
            "\n",
            "/usr/local/lib/python3.7/dist-packages/scipy/optimize/lbfgsb.py:339: DeprecationWarning:\n",
            "\n",
            "tostring() is deprecated. Use tobytes() instead.\n",
            "\n",
            "/usr/local/lib/python3.7/dist-packages/scipy/optimize/lbfgsb.py:339: DeprecationWarning:\n",
            "\n",
            "tostring() is deprecated. Use tobytes() instead.\n",
            "\n",
            "/usr/local/lib/python3.7/dist-packages/scipy/optimize/lbfgsb.py:339: DeprecationWarning:\n",
            "\n",
            "tostring() is deprecated. Use tobytes() instead.\n",
            "\n",
            "/usr/local/lib/python3.7/dist-packages/scipy/optimize/lbfgsb.py:339: DeprecationWarning:\n",
            "\n",
            "tostring() is deprecated. Use tobytes() instead.\n",
            "\n",
            "/usr/local/lib/python3.7/dist-packages/scipy/optimize/lbfgsb.py:339: DeprecationWarning:\n",
            "\n",
            "tostring() is deprecated. Use tobytes() instead.\n",
            "\n",
            "/usr/local/lib/python3.7/dist-packages/scipy/optimize/lbfgsb.py:339: DeprecationWarning:\n",
            "\n",
            "tostring() is deprecated. Use tobytes() instead.\n",
            "\n",
            "/usr/local/lib/python3.7/dist-packages/scipy/optimize/lbfgsb.py:339: DeprecationWarning:\n",
            "\n",
            "tostring() is deprecated. Use tobytes() instead.\n",
            "\n",
            "/usr/local/lib/python3.7/dist-packages/scipy/optimize/lbfgsb.py:339: DeprecationWarning:\n",
            "\n",
            "tostring() is deprecated. Use tobytes() instead.\n",
            "\n",
            "/usr/local/lib/python3.7/dist-packages/scipy/optimize/lbfgsb.py:339: DeprecationWarning:\n",
            "\n",
            "tostring() is deprecated. Use tobytes() instead.\n",
            "\n",
            "/usr/local/lib/python3.7/dist-packages/scipy/optimize/lbfgsb.py:339: DeprecationWarning:\n",
            "\n",
            "tostring() is deprecated. Use tobytes() instead.\n",
            "\n",
            "/usr/local/lib/python3.7/dist-packages/scipy/optimize/lbfgsb.py:339: DeprecationWarning:\n",
            "\n",
            "tostring() is deprecated. Use tobytes() instead.\n",
            "\n",
            "/usr/local/lib/python3.7/dist-packages/scipy/optimize/lbfgsb.py:339: DeprecationWarning:\n",
            "\n",
            "tostring() is deprecated. Use tobytes() instead.\n",
            "\n",
            "/usr/local/lib/python3.7/dist-packages/scipy/optimize/lbfgsb.py:339: DeprecationWarning:\n",
            "\n",
            "tostring() is deprecated. Use tobytes() instead.\n",
            "\n",
            "/usr/local/lib/python3.7/dist-packages/scipy/optimize/lbfgsb.py:339: DeprecationWarning:\n",
            "\n",
            "tostring() is deprecated. Use tobytes() instead.\n",
            "\n",
            "/usr/local/lib/python3.7/dist-packages/scipy/optimize/lbfgsb.py:339: DeprecationWarning:\n",
            "\n",
            "tostring() is deprecated. Use tobytes() instead.\n",
            "\n",
            "/usr/local/lib/python3.7/dist-packages/scipy/optimize/lbfgsb.py:339: DeprecationWarning:\n",
            "\n",
            "tostring() is deprecated. Use tobytes() instead.\n",
            "\n",
            "/usr/local/lib/python3.7/dist-packages/scipy/optimize/lbfgsb.py:339: DeprecationWarning:\n",
            "\n",
            "tostring() is deprecated. Use tobytes() instead.\n",
            "\n",
            "/usr/local/lib/python3.7/dist-packages/scipy/optimize/lbfgsb.py:339: DeprecationWarning:\n",
            "\n",
            "tostring() is deprecated. Use tobytes() instead.\n",
            "\n",
            "/usr/local/lib/python3.7/dist-packages/scipy/optimize/lbfgsb.py:339: DeprecationWarning:\n",
            "\n",
            "tostring() is deprecated. Use tobytes() instead.\n",
            "\n",
            "/usr/local/lib/python3.7/dist-packages/scipy/optimize/lbfgsb.py:339: DeprecationWarning:\n",
            "\n",
            "tostring() is deprecated. Use tobytes() instead.\n",
            "\n",
            "/usr/local/lib/python3.7/dist-packages/scipy/optimize/lbfgsb.py:339: DeprecationWarning:\n",
            "\n",
            "tostring() is deprecated. Use tobytes() instead.\n",
            "\n",
            "/usr/local/lib/python3.7/dist-packages/scipy/optimize/lbfgsb.py:339: DeprecationWarning:\n",
            "\n",
            "tostring() is deprecated. Use tobytes() instead.\n",
            "\n",
            "/usr/local/lib/python3.7/dist-packages/scipy/optimize/lbfgsb.py:339: DeprecationWarning:\n",
            "\n",
            "tostring() is deprecated. Use tobytes() instead.\n",
            "\n",
            "/usr/local/lib/python3.7/dist-packages/scipy/optimize/lbfgsb.py:339: DeprecationWarning:\n",
            "\n",
            "tostring() is deprecated. Use tobytes() instead.\n",
            "\n",
            "/usr/local/lib/python3.7/dist-packages/scipy/optimize/lbfgsb.py:339: DeprecationWarning:\n",
            "\n",
            "tostring() is deprecated. Use tobytes() instead.\n",
            "\n",
            "/usr/local/lib/python3.7/dist-packages/scipy/optimize/lbfgsb.py:339: DeprecationWarning:\n",
            "\n",
            "tostring() is deprecated. Use tobytes() instead.\n",
            "\n",
            "/usr/local/lib/python3.7/dist-packages/scipy/optimize/lbfgsb.py:339: DeprecationWarning:\n",
            "\n",
            "tostring() is deprecated. Use tobytes() instead.\n",
            "\n",
            "/usr/local/lib/python3.7/dist-packages/scipy/optimize/lbfgsb.py:339: DeprecationWarning:\n",
            "\n",
            "tostring() is deprecated. Use tobytes() instead.\n",
            "\n",
            "/usr/local/lib/python3.7/dist-packages/scipy/optimize/lbfgsb.py:339: DeprecationWarning:\n",
            "\n",
            "tostring() is deprecated. Use tobytes() instead.\n",
            "\n",
            "/usr/local/lib/python3.7/dist-packages/scipy/optimize/lbfgsb.py:339: DeprecationWarning:\n",
            "\n",
            "tostring() is deprecated. Use tobytes() instead.\n",
            "\n",
            "/usr/local/lib/python3.7/dist-packages/scipy/optimize/lbfgsb.py:339: DeprecationWarning:\n",
            "\n",
            "tostring() is deprecated. Use tobytes() instead.\n",
            "\n",
            "/usr/local/lib/python3.7/dist-packages/scipy/optimize/lbfgsb.py:339: DeprecationWarning:\n",
            "\n",
            "tostring() is deprecated. Use tobytes() instead.\n",
            "\n",
            "/usr/local/lib/python3.7/dist-packages/scipy/optimize/lbfgsb.py:339: DeprecationWarning:\n",
            "\n",
            "tostring() is deprecated. Use tobytes() instead.\n",
            "\n",
            "/usr/local/lib/python3.7/dist-packages/scipy/optimize/lbfgsb.py:339: DeprecationWarning:\n",
            "\n",
            "tostring() is deprecated. Use tobytes() instead.\n",
            "\n",
            "/usr/local/lib/python3.7/dist-packages/scipy/optimize/lbfgsb.py:339: DeprecationWarning:\n",
            "\n",
            "tostring() is deprecated. Use tobytes() instead.\n",
            "\n",
            "/usr/local/lib/python3.7/dist-packages/scipy/optimize/lbfgsb.py:339: DeprecationWarning:\n",
            "\n",
            "tostring() is deprecated. Use tobytes() instead.\n",
            "\n",
            "/usr/local/lib/python3.7/dist-packages/scipy/optimize/lbfgsb.py:339: DeprecationWarning:\n",
            "\n",
            "tostring() is deprecated. Use tobytes() instead.\n",
            "\n",
            "/usr/local/lib/python3.7/dist-packages/scipy/optimize/lbfgsb.py:339: DeprecationWarning:\n",
            "\n",
            "tostring() is deprecated. Use tobytes() instead.\n",
            "\n",
            "/usr/local/lib/python3.7/dist-packages/scipy/optimize/lbfgsb.py:339: DeprecationWarning:\n",
            "\n",
            "tostring() is deprecated. Use tobytes() instead.\n",
            "\n",
            "/usr/local/lib/python3.7/dist-packages/scipy/optimize/lbfgsb.py:339: DeprecationWarning:\n",
            "\n",
            "tostring() is deprecated. Use tobytes() instead.\n",
            "\n",
            "/usr/local/lib/python3.7/dist-packages/scipy/optimize/lbfgsb.py:339: DeprecationWarning:\n",
            "\n",
            "tostring() is deprecated. Use tobytes() instead.\n",
            "\n",
            "/usr/local/lib/python3.7/dist-packages/scipy/optimize/lbfgsb.py:339: DeprecationWarning:\n",
            "\n",
            "tostring() is deprecated. Use tobytes() instead.\n",
            "\n",
            "/usr/local/lib/python3.7/dist-packages/scipy/optimize/lbfgsb.py:339: DeprecationWarning:\n",
            "\n",
            "tostring() is deprecated. Use tobytes() instead.\n",
            "\n",
            "/usr/local/lib/python3.7/dist-packages/scipy/optimize/lbfgsb.py:339: DeprecationWarning:\n",
            "\n",
            "tostring() is deprecated. Use tobytes() instead.\n",
            "\n",
            "/usr/local/lib/python3.7/dist-packages/scipy/optimize/lbfgsb.py:339: DeprecationWarning:\n",
            "\n",
            "tostring() is deprecated. Use tobytes() instead.\n",
            "\n",
            "/usr/local/lib/python3.7/dist-packages/scipy/optimize/lbfgsb.py:339: DeprecationWarning:\n",
            "\n",
            "tostring() is deprecated. Use tobytes() instead.\n",
            "\n",
            "/usr/local/lib/python3.7/dist-packages/scipy/optimize/lbfgsb.py:339: DeprecationWarning:\n",
            "\n",
            "tostring() is deprecated. Use tobytes() instead.\n",
            "\n",
            "/usr/local/lib/python3.7/dist-packages/scipy/optimize/lbfgsb.py:339: DeprecationWarning:\n",
            "\n",
            "tostring() is deprecated. Use tobytes() instead.\n",
            "\n",
            "/usr/local/lib/python3.7/dist-packages/scipy/optimize/lbfgsb.py:339: DeprecationWarning:\n",
            "\n",
            "tostring() is deprecated. Use tobytes() instead.\n",
            "\n",
            "/usr/local/lib/python3.7/dist-packages/scipy/optimize/lbfgsb.py:339: DeprecationWarning:\n",
            "\n",
            "tostring() is deprecated. Use tobytes() instead.\n",
            "\n",
            "/usr/local/lib/python3.7/dist-packages/scipy/optimize/lbfgsb.py:339: DeprecationWarning:\n",
            "\n",
            "tostring() is deprecated. Use tobytes() instead.\n",
            "\n",
            "/usr/local/lib/python3.7/dist-packages/scipy/optimize/lbfgsb.py:339: DeprecationWarning:\n",
            "\n",
            "tostring() is deprecated. Use tobytes() instead.\n",
            "\n",
            "/usr/local/lib/python3.7/dist-packages/scipy/optimize/lbfgsb.py:339: DeprecationWarning:\n",
            "\n",
            "tostring() is deprecated. Use tobytes() instead.\n",
            "\n",
            "/usr/local/lib/python3.7/dist-packages/scipy/optimize/lbfgsb.py:339: DeprecationWarning:\n",
            "\n",
            "tostring() is deprecated. Use tobytes() instead.\n",
            "\n",
            "/usr/local/lib/python3.7/dist-packages/scipy/optimize/lbfgsb.py:339: DeprecationWarning:\n",
            "\n",
            "tostring() is deprecated. Use tobytes() instead.\n",
            "\n",
            "/usr/local/lib/python3.7/dist-packages/scipy/optimize/lbfgsb.py:339: DeprecationWarning:\n",
            "\n",
            "tostring() is deprecated. Use tobytes() instead.\n",
            "\n",
            "/usr/local/lib/python3.7/dist-packages/scipy/optimize/lbfgsb.py:339: DeprecationWarning:\n",
            "\n",
            "tostring() is deprecated. Use tobytes() instead.\n",
            "\n",
            "/usr/local/lib/python3.7/dist-packages/scipy/optimize/lbfgsb.py:339: DeprecationWarning:\n",
            "\n",
            "tostring() is deprecated. Use tobytes() instead.\n",
            "\n",
            "/usr/local/lib/python3.7/dist-packages/scipy/optimize/lbfgsb.py:339: DeprecationWarning:\n",
            "\n",
            "tostring() is deprecated. Use tobytes() instead.\n",
            "\n",
            "/usr/local/lib/python3.7/dist-packages/scipy/optimize/lbfgsb.py:339: DeprecationWarning:\n",
            "\n",
            "tostring() is deprecated. Use tobytes() instead.\n",
            "\n",
            "/usr/local/lib/python3.7/dist-packages/scipy/optimize/lbfgsb.py:339: DeprecationWarning:\n",
            "\n",
            "tostring() is deprecated. Use tobytes() instead.\n",
            "\n",
            "/usr/local/lib/python3.7/dist-packages/scipy/optimize/lbfgsb.py:339: DeprecationWarning:\n",
            "\n",
            "tostring() is deprecated. Use tobytes() instead.\n",
            "\n",
            "/usr/local/lib/python3.7/dist-packages/scipy/optimize/lbfgsb.py:339: DeprecationWarning:\n",
            "\n",
            "tostring() is deprecated. Use tobytes() instead.\n",
            "\n",
            "/usr/local/lib/python3.7/dist-packages/scipy/optimize/lbfgsb.py:339: DeprecationWarning:\n",
            "\n",
            "tostring() is deprecated. Use tobytes() instead.\n",
            "\n",
            "/usr/local/lib/python3.7/dist-packages/scipy/optimize/lbfgsb.py:339: DeprecationWarning:\n",
            "\n",
            "tostring() is deprecated. Use tobytes() instead.\n",
            "\n",
            "/usr/local/lib/python3.7/dist-packages/scipy/optimize/lbfgsb.py:339: DeprecationWarning:\n",
            "\n",
            "tostring() is deprecated. Use tobytes() instead.\n",
            "\n",
            "/usr/local/lib/python3.7/dist-packages/scipy/optimize/lbfgsb.py:339: DeprecationWarning:\n",
            "\n",
            "tostring() is deprecated. Use tobytes() instead.\n",
            "\n",
            "/usr/local/lib/python3.7/dist-packages/scipy/optimize/lbfgsb.py:339: DeprecationWarning:\n",
            "\n",
            "tostring() is deprecated. Use tobytes() instead.\n",
            "\n",
            "/usr/local/lib/python3.7/dist-packages/scipy/optimize/lbfgsb.py:339: DeprecationWarning:\n",
            "\n",
            "tostring() is deprecated. Use tobytes() instead.\n",
            "\n",
            "/usr/local/lib/python3.7/dist-packages/scipy/optimize/lbfgsb.py:339: DeprecationWarning:\n",
            "\n",
            "tostring() is deprecated. Use tobytes() instead.\n",
            "\n",
            "/usr/local/lib/python3.7/dist-packages/scipy/optimize/lbfgsb.py:339: DeprecationWarning:\n",
            "\n",
            "tostring() is deprecated. Use tobytes() instead.\n",
            "\n",
            "/usr/local/lib/python3.7/dist-packages/scipy/optimize/lbfgsb.py:339: DeprecationWarning:\n",
            "\n",
            "tostring() is deprecated. Use tobytes() instead.\n",
            "\n",
            "/usr/local/lib/python3.7/dist-packages/scipy/optimize/lbfgsb.py:339: DeprecationWarning:\n",
            "\n",
            "tostring() is deprecated. Use tobytes() instead.\n",
            "\n",
            "/usr/local/lib/python3.7/dist-packages/scipy/optimize/lbfgsb.py:339: DeprecationWarning:\n",
            "\n",
            "tostring() is deprecated. Use tobytes() instead.\n",
            "\n",
            "/usr/local/lib/python3.7/dist-packages/scipy/optimize/lbfgsb.py:339: DeprecationWarning:\n",
            "\n",
            "tostring() is deprecated. Use tobytes() instead.\n",
            "\n",
            "/usr/local/lib/python3.7/dist-packages/scipy/optimize/lbfgsb.py:339: DeprecationWarning:\n",
            "\n",
            "tostring() is deprecated. Use tobytes() instead.\n",
            "\n",
            "/usr/local/lib/python3.7/dist-packages/scipy/optimize/lbfgsb.py:339: DeprecationWarning:\n",
            "\n",
            "tostring() is deprecated. Use tobytes() instead.\n",
            "\n",
            "/usr/local/lib/python3.7/dist-packages/scipy/optimize/lbfgsb.py:339: DeprecationWarning:\n",
            "\n",
            "tostring() is deprecated. Use tobytes() instead.\n",
            "\n",
            "/usr/local/lib/python3.7/dist-packages/scipy/optimize/lbfgsb.py:339: DeprecationWarning:\n",
            "\n",
            "tostring() is deprecated. Use tobytes() instead.\n",
            "\n",
            "/usr/local/lib/python3.7/dist-packages/scipy/optimize/lbfgsb.py:339: DeprecationWarning:\n",
            "\n",
            "tostring() is deprecated. Use tobytes() instead.\n",
            "\n",
            "/usr/local/lib/python3.7/dist-packages/scipy/optimize/lbfgsb.py:339: DeprecationWarning:\n",
            "\n",
            "tostring() is deprecated. Use tobytes() instead.\n",
            "\n",
            "/usr/local/lib/python3.7/dist-packages/scipy/optimize/lbfgsb.py:339: DeprecationWarning:\n",
            "\n",
            "tostring() is deprecated. Use tobytes() instead.\n",
            "\n",
            "/usr/local/lib/python3.7/dist-packages/scipy/optimize/lbfgsb.py:339: DeprecationWarning:\n",
            "\n",
            "tostring() is deprecated. Use tobytes() instead.\n",
            "\n",
            "/usr/local/lib/python3.7/dist-packages/scipy/optimize/lbfgsb.py:339: DeprecationWarning:\n",
            "\n",
            "tostring() is deprecated. Use tobytes() instead.\n",
            "\n",
            "/usr/local/lib/python3.7/dist-packages/scipy/optimize/lbfgsb.py:339: DeprecationWarning:\n",
            "\n",
            "tostring() is deprecated. Use tobytes() instead.\n",
            "\n",
            "/usr/local/lib/python3.7/dist-packages/scipy/optimize/lbfgsb.py:339: DeprecationWarning:\n",
            "\n",
            "tostring() is deprecated. Use tobytes() instead.\n",
            "\n",
            "/usr/local/lib/python3.7/dist-packages/scipy/optimize/lbfgsb.py:339: DeprecationWarning:\n",
            "\n",
            "tostring() is deprecated. Use tobytes() instead.\n",
            "\n",
            "/usr/local/lib/python3.7/dist-packages/scipy/optimize/lbfgsb.py:339: DeprecationWarning:\n",
            "\n",
            "tostring() is deprecated. Use tobytes() instead.\n",
            "\n",
            "/usr/local/lib/python3.7/dist-packages/scipy/optimize/lbfgsb.py:339: DeprecationWarning:\n",
            "\n",
            "tostring() is deprecated. Use tobytes() instead.\n",
            "\n",
            "/usr/local/lib/python3.7/dist-packages/scipy/optimize/lbfgsb.py:339: DeprecationWarning:\n",
            "\n",
            "tostring() is deprecated. Use tobytes() instead.\n",
            "\n",
            "/usr/local/lib/python3.7/dist-packages/scipy/optimize/lbfgsb.py:339: DeprecationWarning:\n",
            "\n",
            "tostring() is deprecated. Use tobytes() instead.\n",
            "\n",
            "/usr/local/lib/python3.7/dist-packages/scipy/optimize/lbfgsb.py:339: DeprecationWarning:\n",
            "\n",
            "tostring() is deprecated. Use tobytes() instead.\n",
            "\n",
            "/usr/local/lib/python3.7/dist-packages/scipy/optimize/lbfgsb.py:339: DeprecationWarning:\n",
            "\n",
            "tostring() is deprecated. Use tobytes() instead.\n",
            "\n",
            "/usr/local/lib/python3.7/dist-packages/scipy/optimize/lbfgsb.py:339: DeprecationWarning:\n",
            "\n",
            "tostring() is deprecated. Use tobytes() instead.\n",
            "\n",
            "/usr/local/lib/python3.7/dist-packages/scipy/optimize/lbfgsb.py:339: DeprecationWarning:\n",
            "\n",
            "tostring() is deprecated. Use tobytes() instead.\n",
            "\n",
            "/usr/local/lib/python3.7/dist-packages/scipy/optimize/lbfgsb.py:339: DeprecationWarning:\n",
            "\n",
            "tostring() is deprecated. Use tobytes() instead.\n",
            "\n",
            "/usr/local/lib/python3.7/dist-packages/scipy/optimize/lbfgsb.py:339: DeprecationWarning:\n",
            "\n",
            "tostring() is deprecated. Use tobytes() instead.\n",
            "\n",
            "/usr/local/lib/python3.7/dist-packages/scipy/optimize/lbfgsb.py:339: DeprecationWarning:\n",
            "\n",
            "tostring() is deprecated. Use tobytes() instead.\n",
            "\n",
            "/usr/local/lib/python3.7/dist-packages/scipy/optimize/lbfgsb.py:339: DeprecationWarning:\n",
            "\n",
            "tostring() is deprecated. Use tobytes() instead.\n",
            "\n",
            "/usr/local/lib/python3.7/dist-packages/scipy/optimize/lbfgsb.py:339: DeprecationWarning:\n",
            "\n",
            "tostring() is deprecated. Use tobytes() instead.\n",
            "\n",
            "/usr/local/lib/python3.7/dist-packages/scipy/optimize/lbfgsb.py:339: DeprecationWarning:\n",
            "\n",
            "tostring() is deprecated. Use tobytes() instead.\n",
            "\n",
            "/usr/local/lib/python3.7/dist-packages/scipy/optimize/lbfgsb.py:339: DeprecationWarning:\n",
            "\n",
            "tostring() is deprecated. Use tobytes() instead.\n",
            "\n",
            "/usr/local/lib/python3.7/dist-packages/scipy/optimize/lbfgsb.py:339: DeprecationWarning:\n",
            "\n",
            "tostring() is deprecated. Use tobytes() instead.\n",
            "\n",
            "/usr/local/lib/python3.7/dist-packages/scipy/optimize/lbfgsb.py:339: DeprecationWarning:\n",
            "\n",
            "tostring() is deprecated. Use tobytes() instead.\n",
            "\n",
            "/usr/local/lib/python3.7/dist-packages/scipy/optimize/lbfgsb.py:339: DeprecationWarning:\n",
            "\n",
            "tostring() is deprecated. Use tobytes() instead.\n",
            "\n",
            "/usr/local/lib/python3.7/dist-packages/scipy/optimize/lbfgsb.py:339: DeprecationWarning:\n",
            "\n",
            "tostring() is deprecated. Use tobytes() instead.\n",
            "\n",
            "/usr/local/lib/python3.7/dist-packages/scipy/optimize/lbfgsb.py:339: DeprecationWarning:\n",
            "\n",
            "tostring() is deprecated. Use tobytes() instead.\n",
            "\n",
            "/usr/local/lib/python3.7/dist-packages/scipy/optimize/lbfgsb.py:339: DeprecationWarning:\n",
            "\n",
            "tostring() is deprecated. Use tobytes() instead.\n",
            "\n",
            "/usr/local/lib/python3.7/dist-packages/scipy/optimize/lbfgsb.py:339: DeprecationWarning:\n",
            "\n",
            "tostring() is deprecated. Use tobytes() instead.\n",
            "\n",
            "/usr/local/lib/python3.7/dist-packages/scipy/optimize/lbfgsb.py:339: DeprecationWarning:\n",
            "\n",
            "tostring() is deprecated. Use tobytes() instead.\n",
            "\n",
            "/usr/local/lib/python3.7/dist-packages/scipy/optimize/lbfgsb.py:339: DeprecationWarning:\n",
            "\n",
            "tostring() is deprecated. Use tobytes() instead.\n",
            "\n",
            "/usr/local/lib/python3.7/dist-packages/scipy/optimize/lbfgsb.py:339: DeprecationWarning:\n",
            "\n",
            "tostring() is deprecated. Use tobytes() instead.\n",
            "\n",
            "/usr/local/lib/python3.7/dist-packages/scipy/optimize/lbfgsb.py:339: DeprecationWarning:\n",
            "\n",
            "tostring() is deprecated. Use tobytes() instead.\n",
            "\n",
            "/usr/local/lib/python3.7/dist-packages/scipy/optimize/lbfgsb.py:339: DeprecationWarning:\n",
            "\n",
            "tostring() is deprecated. Use tobytes() instead.\n",
            "\n",
            "/usr/local/lib/python3.7/dist-packages/scipy/optimize/lbfgsb.py:339: DeprecationWarning:\n",
            "\n",
            "tostring() is deprecated. Use tobytes() instead.\n",
            "\n",
            "/usr/local/lib/python3.7/dist-packages/scipy/optimize/lbfgsb.py:339: DeprecationWarning:\n",
            "\n",
            "tostring() is deprecated. Use tobytes() instead.\n",
            "\n",
            "/usr/local/lib/python3.7/dist-packages/scipy/optimize/lbfgsb.py:339: DeprecationWarning:\n",
            "\n",
            "tostring() is deprecated. Use tobytes() instead.\n",
            "\n",
            "/usr/local/lib/python3.7/dist-packages/scipy/optimize/lbfgsb.py:339: DeprecationWarning:\n",
            "\n",
            "tostring() is deprecated. Use tobytes() instead.\n",
            "\n",
            "/usr/local/lib/python3.7/dist-packages/scipy/optimize/lbfgsb.py:339: DeprecationWarning:\n",
            "\n",
            "tostring() is deprecated. Use tobytes() instead.\n",
            "\n",
            "/usr/local/lib/python3.7/dist-packages/scipy/optimize/lbfgsb.py:339: DeprecationWarning:\n",
            "\n",
            "tostring() is deprecated. Use tobytes() instead.\n",
            "\n",
            "/usr/local/lib/python3.7/dist-packages/scipy/optimize/lbfgsb.py:339: DeprecationWarning:\n",
            "\n",
            "tostring() is deprecated. Use tobytes() instead.\n",
            "\n",
            "/usr/local/lib/python3.7/dist-packages/scipy/optimize/lbfgsb.py:339: DeprecationWarning:\n",
            "\n",
            "tostring() is deprecated. Use tobytes() instead.\n",
            "\n",
            "/usr/local/lib/python3.7/dist-packages/scipy/optimize/lbfgsb.py:339: DeprecationWarning:\n",
            "\n",
            "tostring() is deprecated. Use tobytes() instead.\n",
            "\n",
            "/usr/local/lib/python3.7/dist-packages/scipy/optimize/lbfgsb.py:339: DeprecationWarning:\n",
            "\n",
            "tostring() is deprecated. Use tobytes() instead.\n",
            "\n",
            "/usr/local/lib/python3.7/dist-packages/scipy/optimize/lbfgsb.py:339: DeprecationWarning:\n",
            "\n",
            "tostring() is deprecated. Use tobytes() instead.\n",
            "\n",
            "/usr/local/lib/python3.7/dist-packages/scipy/optimize/lbfgsb.py:339: DeprecationWarning:\n",
            "\n",
            "tostring() is deprecated. Use tobytes() instead.\n",
            "\n",
            "/usr/local/lib/python3.7/dist-packages/scipy/optimize/lbfgsb.py:339: DeprecationWarning:\n",
            "\n",
            "tostring() is deprecated. Use tobytes() instead.\n",
            "\n",
            "/usr/local/lib/python3.7/dist-packages/scipy/optimize/lbfgsb.py:339: DeprecationWarning:\n",
            "\n",
            "tostring() is deprecated. Use tobytes() instead.\n",
            "\n",
            "/usr/local/lib/python3.7/dist-packages/scipy/optimize/lbfgsb.py:339: DeprecationWarning:\n",
            "\n",
            "tostring() is deprecated. Use tobytes() instead.\n",
            "\n",
            "/usr/local/lib/python3.7/dist-packages/scipy/optimize/lbfgsb.py:339: DeprecationWarning:\n",
            "\n",
            "tostring() is deprecated. Use tobytes() instead.\n",
            "\n",
            "/usr/local/lib/python3.7/dist-packages/scipy/optimize/lbfgsb.py:339: DeprecationWarning:\n",
            "\n",
            "tostring() is deprecated. Use tobytes() instead.\n",
            "\n",
            "/usr/local/lib/python3.7/dist-packages/scipy/optimize/lbfgsb.py:339: DeprecationWarning:\n",
            "\n",
            "tostring() is deprecated. Use tobytes() instead.\n",
            "\n",
            "/usr/local/lib/python3.7/dist-packages/scipy/optimize/lbfgsb.py:339: DeprecationWarning:\n",
            "\n",
            "tostring() is deprecated. Use tobytes() instead.\n",
            "\n",
            "/usr/local/lib/python3.7/dist-packages/scipy/optimize/lbfgsb.py:339: DeprecationWarning:\n",
            "\n",
            "tostring() is deprecated. Use tobytes() instead.\n",
            "\n",
            "/usr/local/lib/python3.7/dist-packages/scipy/optimize/lbfgsb.py:339: DeprecationWarning:\n",
            "\n",
            "tostring() is deprecated. Use tobytes() instead.\n",
            "\n",
            "/usr/local/lib/python3.7/dist-packages/scipy/optimize/lbfgsb.py:339: DeprecationWarning:\n",
            "\n",
            "tostring() is deprecated. Use tobytes() instead.\n",
            "\n",
            "/usr/local/lib/python3.7/dist-packages/scipy/optimize/lbfgsb.py:339: DeprecationWarning:\n",
            "\n",
            "tostring() is deprecated. Use tobytes() instead.\n",
            "\n",
            "/usr/local/lib/python3.7/dist-packages/scipy/optimize/lbfgsb.py:339: DeprecationWarning:\n",
            "\n",
            "tostring() is deprecated. Use tobytes() instead.\n",
            "\n",
            "/usr/local/lib/python3.7/dist-packages/scipy/optimize/lbfgsb.py:339: DeprecationWarning:\n",
            "\n",
            "tostring() is deprecated. Use tobytes() instead.\n",
            "\n",
            "/usr/local/lib/python3.7/dist-packages/scipy/optimize/lbfgsb.py:339: DeprecationWarning:\n",
            "\n",
            "tostring() is deprecated. Use tobytes() instead.\n",
            "\n",
            "/usr/local/lib/python3.7/dist-packages/scipy/optimize/lbfgsb.py:339: DeprecationWarning:\n",
            "\n",
            "tostring() is deprecated. Use tobytes() instead.\n",
            "\n",
            "/usr/local/lib/python3.7/dist-packages/scipy/optimize/lbfgsb.py:339: DeprecationWarning:\n",
            "\n",
            "tostring() is deprecated. Use tobytes() instead.\n",
            "\n",
            "/usr/local/lib/python3.7/dist-packages/scipy/optimize/lbfgsb.py:339: DeprecationWarning:\n",
            "\n",
            "tostring() is deprecated. Use tobytes() instead.\n",
            "\n",
            "/usr/local/lib/python3.7/dist-packages/scipy/optimize/lbfgsb.py:339: DeprecationWarning:\n",
            "\n",
            "tostring() is deprecated. Use tobytes() instead.\n",
            "\n",
            "/usr/local/lib/python3.7/dist-packages/scipy/optimize/lbfgsb.py:339: DeprecationWarning:\n",
            "\n",
            "tostring() is deprecated. Use tobytes() instead.\n",
            "\n",
            "/usr/local/lib/python3.7/dist-packages/scipy/optimize/lbfgsb.py:339: DeprecationWarning:\n",
            "\n",
            "tostring() is deprecated. Use tobytes() instead.\n",
            "\n",
            "/usr/local/lib/python3.7/dist-packages/scipy/optimize/lbfgsb.py:339: DeprecationWarning:\n",
            "\n",
            "tostring() is deprecated. Use tobytes() instead.\n",
            "\n",
            "/usr/local/lib/python3.7/dist-packages/scipy/optimize/lbfgsb.py:339: DeprecationWarning:\n",
            "\n",
            "tostring() is deprecated. Use tobytes() instead.\n",
            "\n",
            "/usr/local/lib/python3.7/dist-packages/scipy/optimize/lbfgsb.py:339: DeprecationWarning:\n",
            "\n",
            "tostring() is deprecated. Use tobytes() instead.\n",
            "\n",
            "/usr/local/lib/python3.7/dist-packages/scipy/optimize/lbfgsb.py:339: DeprecationWarning:\n",
            "\n",
            "tostring() is deprecated. Use tobytes() instead.\n",
            "\n",
            "/usr/local/lib/python3.7/dist-packages/scipy/optimize/lbfgsb.py:339: DeprecationWarning:\n",
            "\n",
            "tostring() is deprecated. Use tobytes() instead.\n",
            "\n",
            "/usr/local/lib/python3.7/dist-packages/scipy/optimize/lbfgsb.py:339: DeprecationWarning:\n",
            "\n",
            "tostring() is deprecated. Use tobytes() instead.\n",
            "\n",
            "/usr/local/lib/python3.7/dist-packages/scipy/optimize/lbfgsb.py:339: DeprecationWarning:\n",
            "\n",
            "tostring() is deprecated. Use tobytes() instead.\n",
            "\n",
            "/usr/local/lib/python3.7/dist-packages/scipy/optimize/lbfgsb.py:339: DeprecationWarning:\n",
            "\n",
            "tostring() is deprecated. Use tobytes() instead.\n",
            "\n",
            "/usr/local/lib/python3.7/dist-packages/scipy/optimize/lbfgsb.py:339: DeprecationWarning:\n",
            "\n",
            "tostring() is deprecated. Use tobytes() instead.\n",
            "\n",
            "/usr/local/lib/python3.7/dist-packages/scipy/optimize/lbfgsb.py:339: DeprecationWarning:\n",
            "\n",
            "tostring() is deprecated. Use tobytes() instead.\n",
            "\n",
            "/usr/local/lib/python3.7/dist-packages/scipy/optimize/lbfgsb.py:339: DeprecationWarning:\n",
            "\n",
            "tostring() is deprecated. Use tobytes() instead.\n",
            "\n",
            "/usr/local/lib/python3.7/dist-packages/scipy/optimize/lbfgsb.py:339: DeprecationWarning:\n",
            "\n",
            "tostring() is deprecated. Use tobytes() instead.\n",
            "\n",
            "/usr/local/lib/python3.7/dist-packages/scipy/optimize/lbfgsb.py:339: DeprecationWarning:\n",
            "\n",
            "tostring() is deprecated. Use tobytes() instead.\n",
            "\n",
            "/usr/local/lib/python3.7/dist-packages/scipy/optimize/lbfgsb.py:339: DeprecationWarning:\n",
            "\n",
            "tostring() is deprecated. Use tobytes() instead.\n",
            "\n",
            "/usr/local/lib/python3.7/dist-packages/scipy/optimize/lbfgsb.py:339: DeprecationWarning:\n",
            "\n",
            "tostring() is deprecated. Use tobytes() instead.\n",
            "\n",
            "/usr/local/lib/python3.7/dist-packages/scipy/optimize/lbfgsb.py:339: DeprecationWarning:\n",
            "\n",
            "tostring() is deprecated. Use tobytes() instead.\n",
            "\n",
            "/usr/local/lib/python3.7/dist-packages/scipy/optimize/lbfgsb.py:339: DeprecationWarning:\n",
            "\n",
            "tostring() is deprecated. Use tobytes() instead.\n",
            "\n",
            "/usr/local/lib/python3.7/dist-packages/scipy/optimize/lbfgsb.py:339: DeprecationWarning:\n",
            "\n",
            "tostring() is deprecated. Use tobytes() instead.\n",
            "\n",
            "/usr/local/lib/python3.7/dist-packages/scipy/optimize/lbfgsb.py:339: DeprecationWarning:\n",
            "\n",
            "tostring() is deprecated. Use tobytes() instead.\n",
            "\n",
            "/usr/local/lib/python3.7/dist-packages/scipy/optimize/lbfgsb.py:339: DeprecationWarning:\n",
            "\n",
            "tostring() is deprecated. Use tobytes() instead.\n",
            "\n",
            "/usr/local/lib/python3.7/dist-packages/scipy/optimize/lbfgsb.py:339: DeprecationWarning:\n",
            "\n",
            "tostring() is deprecated. Use tobytes() instead.\n",
            "\n",
            "/usr/local/lib/python3.7/dist-packages/scipy/optimize/lbfgsb.py:339: DeprecationWarning:\n",
            "\n",
            "tostring() is deprecated. Use tobytes() instead.\n",
            "\n",
            "/usr/local/lib/python3.7/dist-packages/scipy/optimize/lbfgsb.py:339: DeprecationWarning:\n",
            "\n",
            "tostring() is deprecated. Use tobytes() instead.\n",
            "\n",
            "/usr/local/lib/python3.7/dist-packages/scipy/optimize/lbfgsb.py:339: DeprecationWarning:\n",
            "\n",
            "tostring() is deprecated. Use tobytes() instead.\n",
            "\n",
            "/usr/local/lib/python3.7/dist-packages/scipy/optimize/lbfgsb.py:339: DeprecationWarning:\n",
            "\n",
            "tostring() is deprecated. Use tobytes() instead.\n",
            "\n",
            "/usr/local/lib/python3.7/dist-packages/scipy/optimize/lbfgsb.py:339: DeprecationWarning:\n",
            "\n",
            "tostring() is deprecated. Use tobytes() instead.\n",
            "\n",
            "/usr/local/lib/python3.7/dist-packages/scipy/optimize/lbfgsb.py:339: DeprecationWarning:\n",
            "\n",
            "tostring() is deprecated. Use tobytes() instead.\n",
            "\n",
            "/usr/local/lib/python3.7/dist-packages/scipy/optimize/lbfgsb.py:339: DeprecationWarning:\n",
            "\n",
            "tostring() is deprecated. Use tobytes() instead.\n",
            "\n",
            "/usr/local/lib/python3.7/dist-packages/scipy/optimize/lbfgsb.py:339: DeprecationWarning:\n",
            "\n",
            "tostring() is deprecated. Use tobytes() instead.\n",
            "\n",
            "/usr/local/lib/python3.7/dist-packages/scipy/optimize/lbfgsb.py:339: DeprecationWarning:\n",
            "\n",
            "tostring() is deprecated. Use tobytes() instead.\n",
            "\n",
            "/usr/local/lib/python3.7/dist-packages/scipy/optimize/lbfgsb.py:339: DeprecationWarning:\n",
            "\n",
            "tostring() is deprecated. Use tobytes() instead.\n",
            "\n",
            "/usr/local/lib/python3.7/dist-packages/scipy/optimize/lbfgsb.py:339: DeprecationWarning:\n",
            "\n",
            "tostring() is deprecated. Use tobytes() instead.\n",
            "\n",
            "/usr/local/lib/python3.7/dist-packages/scipy/optimize/lbfgsb.py:339: DeprecationWarning:\n",
            "\n",
            "tostring() is deprecated. Use tobytes() instead.\n",
            "\n",
            "/usr/local/lib/python3.7/dist-packages/scipy/optimize/lbfgsb.py:339: DeprecationWarning:\n",
            "\n",
            "tostring() is deprecated. Use tobytes() instead.\n",
            "\n",
            "/usr/local/lib/python3.7/dist-packages/scipy/optimize/lbfgsb.py:339: DeprecationWarning:\n",
            "\n",
            "tostring() is deprecated. Use tobytes() instead.\n",
            "\n",
            "/usr/local/lib/python3.7/dist-packages/scipy/optimize/lbfgsb.py:339: DeprecationWarning:\n",
            "\n",
            "tostring() is deprecated. Use tobytes() instead.\n",
            "\n",
            "/usr/local/lib/python3.7/dist-packages/scipy/optimize/lbfgsb.py:339: DeprecationWarning:\n",
            "\n",
            "tostring() is deprecated. Use tobytes() instead.\n",
            "\n",
            "/usr/local/lib/python3.7/dist-packages/scipy/optimize/lbfgsb.py:339: DeprecationWarning:\n",
            "\n",
            "tostring() is deprecated. Use tobytes() instead.\n",
            "\n",
            "/usr/local/lib/python3.7/dist-packages/scipy/optimize/lbfgsb.py:339: DeprecationWarning:\n",
            "\n",
            "tostring() is deprecated. Use tobytes() instead.\n",
            "\n",
            "/usr/local/lib/python3.7/dist-packages/scipy/optimize/lbfgsb.py:339: DeprecationWarning:\n",
            "\n",
            "tostring() is deprecated. Use tobytes() instead.\n",
            "\n",
            "/usr/local/lib/python3.7/dist-packages/scipy/optimize/lbfgsb.py:339: DeprecationWarning:\n",
            "\n",
            "tostring() is deprecated. Use tobytes() instead.\n",
            "\n",
            "/usr/local/lib/python3.7/dist-packages/scipy/optimize/lbfgsb.py:339: DeprecationWarning:\n",
            "\n",
            "tostring() is deprecated. Use tobytes() instead.\n",
            "\n",
            "/usr/local/lib/python3.7/dist-packages/scipy/optimize/lbfgsb.py:339: DeprecationWarning:\n",
            "\n",
            "tostring() is deprecated. Use tobytes() instead.\n",
            "\n",
            "/usr/local/lib/python3.7/dist-packages/scipy/optimize/lbfgsb.py:339: DeprecationWarning:\n",
            "\n",
            "tostring() is deprecated. Use tobytes() instead.\n",
            "\n",
            "/usr/local/lib/python3.7/dist-packages/scipy/optimize/lbfgsb.py:339: DeprecationWarning:\n",
            "\n",
            "tostring() is deprecated. Use tobytes() instead.\n",
            "\n",
            "/usr/local/lib/python3.7/dist-packages/scipy/optimize/lbfgsb.py:339: DeprecationWarning:\n",
            "\n",
            "tostring() is deprecated. Use tobytes() instead.\n",
            "\n",
            "/usr/local/lib/python3.7/dist-packages/scipy/optimize/lbfgsb.py:339: DeprecationWarning:\n",
            "\n",
            "tostring() is deprecated. Use tobytes() instead.\n",
            "\n",
            "/usr/local/lib/python3.7/dist-packages/scipy/optimize/lbfgsb.py:339: DeprecationWarning:\n",
            "\n",
            "tostring() is deprecated. Use tobytes() instead.\n",
            "\n",
            "/usr/local/lib/python3.7/dist-packages/scipy/optimize/lbfgsb.py:339: DeprecationWarning:\n",
            "\n",
            "tostring() is deprecated. Use tobytes() instead.\n",
            "\n",
            "/usr/local/lib/python3.7/dist-packages/scipy/optimize/lbfgsb.py:339: DeprecationWarning:\n",
            "\n",
            "tostring() is deprecated. Use tobytes() instead.\n",
            "\n",
            "/usr/local/lib/python3.7/dist-packages/scipy/optimize/lbfgsb.py:339: DeprecationWarning:\n",
            "\n",
            "tostring() is deprecated. Use tobytes() instead.\n",
            "\n",
            "/usr/local/lib/python3.7/dist-packages/scipy/optimize/lbfgsb.py:339: DeprecationWarning:\n",
            "\n",
            "tostring() is deprecated. Use tobytes() instead.\n",
            "\n",
            "/usr/local/lib/python3.7/dist-packages/scipy/optimize/lbfgsb.py:339: DeprecationWarning:\n",
            "\n",
            "tostring() is deprecated. Use tobytes() instead.\n",
            "\n",
            "/usr/local/lib/python3.7/dist-packages/scipy/optimize/lbfgsb.py:339: DeprecationWarning:\n",
            "\n",
            "tostring() is deprecated. Use tobytes() instead.\n",
            "\n",
            "/usr/local/lib/python3.7/dist-packages/scipy/optimize/lbfgsb.py:339: DeprecationWarning:\n",
            "\n",
            "tostring() is deprecated. Use tobytes() instead.\n",
            "\n",
            "/usr/local/lib/python3.7/dist-packages/scipy/optimize/lbfgsb.py:339: DeprecationWarning:\n",
            "\n",
            "tostring() is deprecated. Use tobytes() instead.\n",
            "\n",
            "/usr/local/lib/python3.7/dist-packages/scipy/optimize/lbfgsb.py:339: DeprecationWarning:\n",
            "\n",
            "tostring() is deprecated. Use tobytes() instead.\n",
            "\n",
            "/usr/local/lib/python3.7/dist-packages/scipy/optimize/lbfgsb.py:339: DeprecationWarning:\n",
            "\n",
            "tostring() is deprecated. Use tobytes() instead.\n",
            "\n",
            "/usr/local/lib/python3.7/dist-packages/scipy/optimize/lbfgsb.py:339: DeprecationWarning:\n",
            "\n",
            "tostring() is deprecated. Use tobytes() instead.\n",
            "\n",
            "/usr/local/lib/python3.7/dist-packages/scipy/optimize/lbfgsb.py:339: DeprecationWarning:\n",
            "\n",
            "tostring() is deprecated. Use tobytes() instead.\n",
            "\n",
            "/usr/local/lib/python3.7/dist-packages/scipy/optimize/lbfgsb.py:339: DeprecationWarning:\n",
            "\n",
            "tostring() is deprecated. Use tobytes() instead.\n",
            "\n",
            "/usr/local/lib/python3.7/dist-packages/scipy/optimize/lbfgsb.py:339: DeprecationWarning:\n",
            "\n",
            "tostring() is deprecated. Use tobytes() instead.\n",
            "\n",
            "/usr/local/lib/python3.7/dist-packages/scipy/optimize/lbfgsb.py:339: DeprecationWarning:\n",
            "\n",
            "tostring() is deprecated. Use tobytes() instead.\n",
            "\n",
            "/usr/local/lib/python3.7/dist-packages/scipy/optimize/lbfgsb.py:339: DeprecationWarning:\n",
            "\n",
            "tostring() is deprecated. Use tobytes() instead.\n",
            "\n",
            "/usr/local/lib/python3.7/dist-packages/scipy/optimize/lbfgsb.py:339: DeprecationWarning:\n",
            "\n",
            "tostring() is deprecated. Use tobytes() instead.\n",
            "\n",
            "/usr/local/lib/python3.7/dist-packages/scipy/optimize/lbfgsb.py:339: DeprecationWarning:\n",
            "\n",
            "tostring() is deprecated. Use tobytes() instead.\n",
            "\n",
            "/usr/local/lib/python3.7/dist-packages/scipy/optimize/lbfgsb.py:339: DeprecationWarning:\n",
            "\n",
            "tostring() is deprecated. Use tobytes() instead.\n",
            "\n",
            "/usr/local/lib/python3.7/dist-packages/scipy/optimize/lbfgsb.py:339: DeprecationWarning:\n",
            "\n",
            "tostring() is deprecated. Use tobytes() instead.\n",
            "\n",
            "/usr/local/lib/python3.7/dist-packages/scipy/optimize/lbfgsb.py:360: DeprecationWarning:\n",
            "\n",
            "tostring() is deprecated. Use tobytes() instead.\n",
            "\n"
          ],
          "name": "stderr"
        },
        {
          "output_type": "execute_result",
          "data": {
            "text/plain": [
              "LogisticRegression(C=1.0, class_weight=None, dual=False, fit_intercept=True,\n",
              "                   intercept_scaling=1, l1_ratio=None, max_iter=500,\n",
              "                   multi_class='auto', n_jobs=None, penalty='l2',\n",
              "                   random_state=None, solver='lbfgs', tol=0.0001, verbose=0,\n",
              "                   warm_start=False)"
            ]
          },
          "metadata": {
            "tags": []
          },
          "execution_count": 60
        }
      ]
    },
    {
      "cell_type": "code",
      "metadata": {
        "id": "EHpulGqTC5wj",
        "trusted": true
      },
      "source": [
        "y_pred_class = model.predict(vecTest)"
      ],
      "execution_count": null,
      "outputs": []
    },
    {
      "cell_type": "code",
      "metadata": {
        "id": "yj3pCXPyC5wl",
        "trusted": true
      },
      "source": [
        "title_accuracy = accuracy_score(y_test, y_pred_class)"
      ],
      "execution_count": null,
      "outputs": []
    },
    {
      "cell_type": "markdown",
      "metadata": {
        "id": "jfE_TjTbEB_j"
      },
      "source": [
        "### Evaluation\n",
        "Now let's take a closer look at how it classifies:"
      ]
    },
    {
      "cell_type": "code",
      "metadata": {
        "id": "URYsmYUlFop3",
        "trusted": true,
        "colab": {
          "base_uri": "https://localhost:8080/"
        },
        "outputId": "da9c3ac7-f12d-4d86-9e6c-e73287b95247"
      },
      "source": [
        "bogus = cv.transform([\"This is not a real article title, let's see if it works!\"])\n",
        "model.predict(bogus)"
      ],
      "execution_count": null,
      "outputs": [
        {
          "output_type": "execute_result",
          "data": {
            "text/plain": [
              "array([0])"
            ]
          },
          "metadata": {
            "tags": []
          },
          "execution_count": 63
        }
      ]
    },
    {
      "cell_type": "code",
      "metadata": {
        "id": "CPqnKOYyGHur",
        "trusted": true,
        "colab": {
          "base_uri": "https://localhost:8080/"
        },
        "outputId": "a89e3929-3113-4b0e-b6a8-00c17a9acfa3"
      },
      "source": [
        "# Sample from internet\n",
        "real = cv.transform([\"President Biden announces steps to limit 'ghost' guns, plans to tackle assault weapons\"])\n",
        "model.predict(real)"
      ],
      "execution_count": null,
      "outputs": [
        {
          "output_type": "execute_result",
          "data": {
            "text/plain": [
              "array([1])"
            ]
          },
          "metadata": {
            "tags": []
          },
          "execution_count": 64
        }
      ]
    },
    {
      "cell_type": "markdown",
      "metadata": {
        "id": "dm84el1DGOo2"
      },
      "source": [
        "Amazing! Let's try something tricker."
      ]
    },
    {
      "cell_type": "code",
      "metadata": {
        "id": "tvKVzT6gGS8d",
        "trusted": true,
        "colab": {
          "base_uri": "https://localhost:8080/"
        },
        "outputId": "1642a931-c0e2-49ea-f2cb-8721d4de5dae"
      },
      "source": [
        "fake = cv.transform([\"President Romney announces steps to limit 'ghost' guns, plans to tackle assault weapons\"])\n",
        "model.predict(fake)"
      ],
      "execution_count": null,
      "outputs": [
        {
          "output_type": "execute_result",
          "data": {
            "text/plain": [
              "array([1])"
            ]
          },
          "metadata": {
            "tags": []
          },
          "execution_count": 65
        }
      ]
    },
    {
      "cell_type": "code",
      "metadata": {
        "id": "NoUI5m9zG4R0",
        "trusted": true,
        "colab": {
          "base_uri": "https://localhost:8080/"
        },
        "outputId": "3025e338-dc41-4a8e-ce2c-f3ba57aacd18"
      },
      "source": [
        "fake = cv.transform([\"United Nations formally legalizes public uriniation\"])\n",
        "model.predict(fake)"
      ],
      "execution_count": null,
      "outputs": [
        {
          "output_type": "execute_result",
          "data": {
            "text/plain": [
              "array([1])"
            ]
          },
          "metadata": {
            "tags": []
          },
          "execution_count": 66
        }
      ]
    },
    {
      "cell_type": "markdown",
      "metadata": {
        "id": "QUUiw66aGXvd"
      },
      "source": [
        "Oof. It doesn't know who the president is and can be spoofed."
      ]
    }
  ]
}